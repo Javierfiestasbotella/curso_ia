{
 "cells": [
  {
   "cell_type": "markdown",
   "metadata": {},
   "source": [
    "# Keras No Supervisado"
   ]
  },
  {
   "cell_type": "markdown",
   "metadata": {},
   "source": [
    "# 1.Importación librerías"
   ]
  },
  {
   "cell_type": "code",
   "execution_count": 1,
   "metadata": {},
   "outputs": [],
   "source": [
    "import pandas as pd\n",
    "import numpy as np\n",
    "import matplotlib.pyplot as plt\n",
    "import seaborn as sns"
   ]
  },
  {
   "cell_type": "markdown",
   "metadata": {},
   "source": [
    "# 2.Importación fuente de datos"
   ]
  },
  {
   "cell_type": "raw",
   "metadata": {},
   "source": [
    "https://www.kaggle.com/vjchoudhary7/customer-segmentation-tutorial-in-python\n",
    "This data set is created only for the learning purpose of the customer segmentation concepts , also known as market basket analysis"
   ]
  },
  {
   "cell_type": "code",
   "execution_count": 2,
   "metadata": {},
   "outputs": [],
   "source": [
    "#Lectura datos históricos\n",
    "df = pd.read_csv('./Mall_Customers.csv',encoding = \"ISO-8859-1\",delimiter=',')"
   ]
  },
  {
   "cell_type": "code",
   "execution_count": 3,
   "metadata": {},
   "outputs": [
    {
     "data": {
      "text/html": [
       "<div>\n",
       "<style scoped>\n",
       "    .dataframe tbody tr th:only-of-type {\n",
       "        vertical-align: middle;\n",
       "    }\n",
       "\n",
       "    .dataframe tbody tr th {\n",
       "        vertical-align: top;\n",
       "    }\n",
       "\n",
       "    .dataframe thead th {\n",
       "        text-align: right;\n",
       "    }\n",
       "</style>\n",
       "<table border=\"1\" class=\"dataframe\">\n",
       "  <thead>\n",
       "    <tr style=\"text-align: right;\">\n",
       "      <th></th>\n",
       "      <th>CustomerID</th>\n",
       "      <th>Gender</th>\n",
       "      <th>Age</th>\n",
       "      <th>Annual Income (k$)</th>\n",
       "      <th>Spending Score (1-100)</th>\n",
       "    </tr>\n",
       "  </thead>\n",
       "  <tbody>\n",
       "    <tr>\n",
       "      <th>0</th>\n",
       "      <td>1</td>\n",
       "      <td>Male</td>\n",
       "      <td>19</td>\n",
       "      <td>15</td>\n",
       "      <td>39</td>\n",
       "    </tr>\n",
       "    <tr>\n",
       "      <th>1</th>\n",
       "      <td>2</td>\n",
       "      <td>Male</td>\n",
       "      <td>21</td>\n",
       "      <td>15</td>\n",
       "      <td>81</td>\n",
       "    </tr>\n",
       "    <tr>\n",
       "      <th>2</th>\n",
       "      <td>3</td>\n",
       "      <td>Female</td>\n",
       "      <td>20</td>\n",
       "      <td>16</td>\n",
       "      <td>6</td>\n",
       "    </tr>\n",
       "    <tr>\n",
       "      <th>3</th>\n",
       "      <td>4</td>\n",
       "      <td>Female</td>\n",
       "      <td>23</td>\n",
       "      <td>16</td>\n",
       "      <td>77</td>\n",
       "    </tr>\n",
       "    <tr>\n",
       "      <th>4</th>\n",
       "      <td>5</td>\n",
       "      <td>Female</td>\n",
       "      <td>31</td>\n",
       "      <td>17</td>\n",
       "      <td>40</td>\n",
       "    </tr>\n",
       "  </tbody>\n",
       "</table>\n",
       "</div>"
      ],
      "text/plain": [
       "   CustomerID  Gender  Age  Annual Income (k$)  Spending Score (1-100)\n",
       "0           1    Male   19                  15                      39\n",
       "1           2    Male   21                  15                      81\n",
       "2           3  Female   20                  16                       6\n",
       "3           4  Female   23                  16                      77\n",
       "4           5  Female   31                  17                      40"
      ]
     },
     "execution_count": 3,
     "metadata": {},
     "output_type": "execute_result"
    }
   ],
   "source": [
    "df.head()"
   ]
  },
  {
   "cell_type": "markdown",
   "metadata": {},
   "source": [
    "# 3.Análisis de Datos (EDA) + Preprocesado"
   ]
  },
  {
   "cell_type": "code",
   "execution_count": 4,
   "metadata": {},
   "outputs": [
    {
     "name": "stdout",
     "output_type": "stream",
     "text": [
      "<class 'pandas.core.frame.DataFrame'>\n",
      "RangeIndex: 200 entries, 0 to 199\n",
      "Data columns (total 5 columns):\n",
      " #   Column                  Non-Null Count  Dtype \n",
      "---  ------                  --------------  ----- \n",
      " 0   CustomerID              200 non-null    int64 \n",
      " 1   Gender                  200 non-null    object\n",
      " 2   Age                     200 non-null    int64 \n",
      " 3   Annual Income (k$)      200 non-null    int64 \n",
      " 4   Spending Score (1-100)  200 non-null    int64 \n",
      "dtypes: int64(4), object(1)\n",
      "memory usage: 7.9+ KB\n"
     ]
    }
   ],
   "source": [
    "df.info()"
   ]
  },
  {
   "cell_type": "markdown",
   "metadata": {},
   "source": [
    "## 3.1 Limpieza inicial"
   ]
  },
  {
   "cell_type": "code",
   "execution_count": 5,
   "metadata": {},
   "outputs": [
    {
     "data": {
      "text/plain": [
       "CustomerID                0\n",
       "Gender                    0\n",
       "Age                       0\n",
       "Annual Income (k$)        0\n",
       "Spending Score (1-100)    0\n",
       "dtype: int64"
      ]
     },
     "execution_count": 5,
     "metadata": {},
     "output_type": "execute_result"
    }
   ],
   "source": [
    "df.isnull().sum() #Verificamos si hay valores nulos en alguna columna del dataframe"
   ]
  },
  {
   "cell_type": "code",
   "execution_count": 6,
   "metadata": {},
   "outputs": [
    {
     "data": {
      "text/html": [
       "<div>\n",
       "<style scoped>\n",
       "    .dataframe tbody tr th:only-of-type {\n",
       "        vertical-align: middle;\n",
       "    }\n",
       "\n",
       "    .dataframe tbody tr th {\n",
       "        vertical-align: top;\n",
       "    }\n",
       "\n",
       "    .dataframe thead th {\n",
       "        text-align: right;\n",
       "    }\n",
       "</style>\n",
       "<table border=\"1\" class=\"dataframe\">\n",
       "  <thead>\n",
       "    <tr style=\"text-align: right;\">\n",
       "      <th></th>\n",
       "      <th>CustomerID</th>\n",
       "      <th>Gender</th>\n",
       "      <th>Age</th>\n",
       "      <th>Annual Income (k$)</th>\n",
       "      <th>Spending Score (1-100)</th>\n",
       "    </tr>\n",
       "  </thead>\n",
       "  <tbody>\n",
       "    <tr>\n",
       "      <th>0</th>\n",
       "      <td>1</td>\n",
       "      <td>Male</td>\n",
       "      <td>19</td>\n",
       "      <td>15</td>\n",
       "      <td>39</td>\n",
       "    </tr>\n",
       "    <tr>\n",
       "      <th>1</th>\n",
       "      <td>2</td>\n",
       "      <td>Male</td>\n",
       "      <td>21</td>\n",
       "      <td>15</td>\n",
       "      <td>81</td>\n",
       "    </tr>\n",
       "    <tr>\n",
       "      <th>2</th>\n",
       "      <td>3</td>\n",
       "      <td>Female</td>\n",
       "      <td>20</td>\n",
       "      <td>16</td>\n",
       "      <td>6</td>\n",
       "    </tr>\n",
       "    <tr>\n",
       "      <th>3</th>\n",
       "      <td>4</td>\n",
       "      <td>Female</td>\n",
       "      <td>23</td>\n",
       "      <td>16</td>\n",
       "      <td>77</td>\n",
       "    </tr>\n",
       "    <tr>\n",
       "      <th>4</th>\n",
       "      <td>5</td>\n",
       "      <td>Female</td>\n",
       "      <td>31</td>\n",
       "      <td>17</td>\n",
       "      <td>40</td>\n",
       "    </tr>\n",
       "  </tbody>\n",
       "</table>\n",
       "</div>"
      ],
      "text/plain": [
       "   CustomerID  Gender  Age  Annual Income (k$)  Spending Score (1-100)\n",
       "0           1    Male   19                  15                      39\n",
       "1           2    Male   21                  15                      81\n",
       "2           3  Female   20                  16                       6\n",
       "3           4  Female   23                  16                      77\n",
       "4           5  Female   31                  17                      40"
      ]
     },
     "execution_count": 6,
     "metadata": {},
     "output_type": "execute_result"
    }
   ],
   "source": [
    "#Eliminar variables que tienen un alto porcentaje de registros con el valor nulo\n",
    "df_var = df.isnull().sum() #Creamos una serie de pandas con el número de valores nulos de cada variable\n",
    "porcentaje_eliminacion = 0.2 #20%\n",
    "df_var = df_var[df_var<porcentaje_eliminacion*len(df)] #Nos quedamos con las variables que tienen menos de un porcentaje de registros nulos\n",
    "lista_variables_OK = df_var.index #Nos quedamos con el índice de la serie (los nombres de las variables de interés)\n",
    "df = df[lista_variables_OK] #Filtramos el dataframe original y nos quedamos solo con las columnas de interés\n",
    "df.head(5)"
   ]
  },
  {
   "cell_type": "code",
   "execution_count": 7,
   "metadata": {},
   "outputs": [
    {
     "data": {
      "text/plain": [
       "CustomerID                0\n",
       "Gender                    0\n",
       "Age                       0\n",
       "Annual Income (k$)        0\n",
       "Spending Score (1-100)    0\n",
       "dtype: int64"
      ]
     },
     "execution_count": 7,
     "metadata": {},
     "output_type": "execute_result"
    }
   ],
   "source": [
    "#Registros que tienen algún valor erróneo --> Eliminar / Interpolar / Correlar con otras variables para asignar el promedio en base a la variable con mayor correlación\n",
    "#df.dropna(inplace=True)\n",
    "df.isnull().sum() #Verificamos si hay valores nulos en alguna columna del dataframe"
   ]
  },
  {
   "cell_type": "code",
   "execution_count": 8,
   "metadata": {},
   "outputs": [],
   "source": [
    "#Eliminamos CustomerID puesto que es solo un índice\n",
    "df=df.drop(\"CustomerID\", axis=1)"
   ]
  },
  {
   "cell_type": "code",
   "execution_count": 9,
   "metadata": {},
   "outputs": [
    {
     "data": {
      "text/html": [
       "<div>\n",
       "<style scoped>\n",
       "    .dataframe tbody tr th:only-of-type {\n",
       "        vertical-align: middle;\n",
       "    }\n",
       "\n",
       "    .dataframe tbody tr th {\n",
       "        vertical-align: top;\n",
       "    }\n",
       "\n",
       "    .dataframe thead th {\n",
       "        text-align: right;\n",
       "    }\n",
       "</style>\n",
       "<table border=\"1\" class=\"dataframe\">\n",
       "  <thead>\n",
       "    <tr style=\"text-align: right;\">\n",
       "      <th></th>\n",
       "      <th>count</th>\n",
       "      <th>mean</th>\n",
       "      <th>std</th>\n",
       "      <th>min</th>\n",
       "      <th>25%</th>\n",
       "      <th>50%</th>\n",
       "      <th>75%</th>\n",
       "      <th>max</th>\n",
       "    </tr>\n",
       "  </thead>\n",
       "  <tbody>\n",
       "    <tr>\n",
       "      <th>Age</th>\n",
       "      <td>200.0</td>\n",
       "      <td>38.85</td>\n",
       "      <td>13.969007</td>\n",
       "      <td>18.0</td>\n",
       "      <td>28.75</td>\n",
       "      <td>36.0</td>\n",
       "      <td>49.0</td>\n",
       "      <td>70.0</td>\n",
       "    </tr>\n",
       "    <tr>\n",
       "      <th>Annual Income (k$)</th>\n",
       "      <td>200.0</td>\n",
       "      <td>60.56</td>\n",
       "      <td>26.264721</td>\n",
       "      <td>15.0</td>\n",
       "      <td>41.50</td>\n",
       "      <td>61.5</td>\n",
       "      <td>78.0</td>\n",
       "      <td>137.0</td>\n",
       "    </tr>\n",
       "    <tr>\n",
       "      <th>Spending Score (1-100)</th>\n",
       "      <td>200.0</td>\n",
       "      <td>50.20</td>\n",
       "      <td>25.823522</td>\n",
       "      <td>1.0</td>\n",
       "      <td>34.75</td>\n",
       "      <td>50.0</td>\n",
       "      <td>73.0</td>\n",
       "      <td>99.0</td>\n",
       "    </tr>\n",
       "  </tbody>\n",
       "</table>\n",
       "</div>"
      ],
      "text/plain": [
       "                        count   mean        std   min    25%   50%   75%  \\\n",
       "Age                     200.0  38.85  13.969007  18.0  28.75  36.0  49.0   \n",
       "Annual Income (k$)      200.0  60.56  26.264721  15.0  41.50  61.5  78.0   \n",
       "Spending Score (1-100)  200.0  50.20  25.823522   1.0  34.75  50.0  73.0   \n",
       "\n",
       "                          max  \n",
       "Age                      70.0  \n",
       "Annual Income (k$)      137.0  \n",
       "Spending Score (1-100)   99.0  "
      ]
     },
     "execution_count": 9,
     "metadata": {},
     "output_type": "execute_result"
    }
   ],
   "source": [
    "df.describe().transpose()"
   ]
  },
  {
   "cell_type": "markdown",
   "metadata": {},
   "source": [
    "## 3.2 Visualización"
   ]
  },
  {
   "cell_type": "markdown",
   "metadata": {},
   "source": [
    "### 3.2.1 Plots básicos"
   ]
  },
  {
   "cell_type": "code",
   "execution_count": 10,
   "metadata": {},
   "outputs": [
    {
     "data": {
      "text/plain": [
       "<matplotlib.axes._subplots.AxesSubplot at 0x1c78bebce20>"
      ]
     },
     "execution_count": 10,
     "metadata": {},
     "output_type": "execute_result"
    },
    {
     "data": {
      "image/png": "[encoded data removed]",
      "text/plain": [
       "<Figure size 432x288 with 1 Axes>"
      ]
     },
     "metadata": {
      "needs_background": "light"
     },
     "output_type": "display_data"
    }
   ],
   "source": [
    "sns.distplot(df[\"Age\"])"
   ]
  },
  {
   "cell_type": "code",
   "execution_count": 11,
   "metadata": {},
   "outputs": [
    {
     "data": {
      "text/plain": [
       "<matplotlib.axes._subplots.AxesSubplot at 0x1c78bfc7d30>"
      ]
     },
     "execution_count": 11,
     "metadata": {},
     "output_type": "execute_result"
    },
    {
     "data": {
      "image/png": "[encoded data removed]",
      "text/plain": [
       "<Figure size 432x288 with 1 Axes>"
      ]
     },
     "metadata": {
      "needs_background": "light"
     },
     "output_type": "display_data"
    }
   ],
   "source": [
    "sns.distplot(df[\"Annual Income (k$)\"],norm_hist=True)"
   ]
  },
  {
   "cell_type": "code",
   "execution_count": 12,
   "metadata": {},
   "outputs": [
    {
     "data": {
      "text/plain": [
       "<matplotlib.axes._subplots.AxesSubplot at 0x1c78be6da30>"
      ]
     },
     "execution_count": 12,
     "metadata": {},
     "output_type": "execute_result"
    },
    {
     "data": {
      "image/png": "[encoded data removed]",
      "text/plain": [
       "<Figure size 432x288 with 1 Axes>"
      ]
     },
     "metadata": {
      "needs_background": "light"
     },
     "output_type": "display_data"
    }
   ],
   "source": [
    "#¿Existe correlación entre la edad y los ingresos anuales?\n",
    "sns.scatterplot(data=df,x=\"Age\",y=\"Annual Income (k$)\")"
   ]
  },
  {
   "cell_type": "code",
   "execution_count": 13,
   "metadata": {},
   "outputs": [
    {
     "data": {
      "text/plain": [
       "<matplotlib.axes._subplots.AxesSubplot at 0x1c78c0c2d30>"
      ]
     },
     "execution_count": 13,
     "metadata": {},
     "output_type": "execute_result"
    },
    {
     "data": {
      "image/png": "[encoded data removed]",
      "text/plain": [
       "<Figure size 432x288 with 1 Axes>"
      ]
     },
     "metadata": {
      "needs_background": "light"
     },
     "output_type": "display_data"
    }
   ],
   "source": [
    "sns.distplot(df[\"Spending Score (1-100)\"],norm_hist=True)"
   ]
  },
  {
   "cell_type": "code",
   "execution_count": 14,
   "metadata": {},
   "outputs": [
    {
     "data": {
      "text/plain": [
       "<matplotlib.axes._subplots.AxesSubplot at 0x1c78c138e80>"
      ]
     },
     "execution_count": 14,
     "metadata": {},
     "output_type": "execute_result"
    },
    {
     "data": {
      "image/png": "[encoded data removed]",
      "text/plain": [
       "<Figure size 432x288 with 1 Axes>"
      ]
     },
     "metadata": {
      "needs_background": "light"
     },
     "output_type": "display_data"
    }
   ],
   "source": [
    "#¿Existe correlación entre la edad y el comportamiento de gasto?\n",
    "sns.scatterplot(data=df,x=\"Age\",y=\"Spending Score (1-100)\")"
   ]
  },
  {
   "cell_type": "code",
   "execution_count": 15,
   "metadata": {},
   "outputs": [
    {
     "data": {
      "text/plain": [
       "(10.0, 0.0)"
      ]
     },
     "execution_count": 15,
     "metadata": {},
     "output_type": "execute_result"
    },
    {
     "data": {
      "image/png": "[encoded data removed]",
      "text/plain": [
       "<Figure size 432x288 with 2 Axes>"
      ]
     },
     "metadata": {
      "needs_background": "light"
     },
     "output_type": "display_data"
    }
   ],
   "source": [
    "sns.heatmap(df.corr(),annot=True,cmap='viridis')\n",
    "plt.ylim(10, 0)\n",
    "#En caso de que haya un error al aplicar el método corr() sobre un dataframe por el hecho de que haya columnas no numéricas (depende de la versión de la librería Pandas), lo más sencillo es aplicar el método con la opción numeric_only=True:\n",
    "#df.corr(numeric_only = True)"
   ]
  },
  {
   "cell_type": "markdown",
   "metadata": {},
   "source": [
    "### 3.2.2 Plot geográficos"
   ]
  },
  {
   "cell_type": "code",
   "execution_count": 18,
   "metadata": {},
   "outputs": [],
   "source": [
    "# Visualizar la información geográfica si estuviera completa, el ejemplo que hay a continuación proviende de una \n",
    "# fuente de datos alternativa: https://www.kaggle.com/harlfoxem/housesalesprediction\n",
    "#plt.figure(figsize=(12,8))\n",
    "#sns.scatterplot(x='price',y='long',data=df)\n",
    "#plt.figure(figsize=(12,8))\n",
    "#sns.scatterplot(x='price',y='lat',data=df)\n",
    "#plt.figure(figsize=(12,8))\n",
    "#sns.scatterplot(x='long',y='lat',data=df,hue='price') #Representación con poco rango dinámico de colores debido a los outliers\n",
    "#len(df)*(0.01) #número de muestras que sería el 1% de nuestros datos\n",
    "#non_top_1_perc = df.sort_values('price',ascending=False).iloc[216:] #estaríamos quitando el 1% de valores outliers\n",
    "#plt.figure(figsize=(12,8))\n",
    "#sns.scatterplot(x='long',y='lat',\n",
    "#                data=non_top_1_perc,hue='price',\n",
    "#                palette='RdYlGn',edgecolor=None,alpha=0.2) "
   ]
  },
  {
   "cell_type": "markdown",
   "metadata": {},
   "source": [
    "### 3.2.3 Otras variables"
   ]
  },
  {
   "cell_type": "code",
   "execution_count": 16,
   "metadata": {},
   "outputs": [
    {
     "data": {
      "text/plain": [
       "<matplotlib.legend.Legend at 0x1c78c26d160>"
      ]
     },
     "execution_count": 16,
     "metadata": {},
     "output_type": "execute_result"
    },
    {
     "data": {
      "image/png": "[encoded data removed]",
      "text/plain": [
       "<Figure size 432x288 with 1 Axes>"
      ]
     },
     "metadata": {
      "needs_background": "light"
     },
     "output_type": "display_data"
    }
   ],
   "source": [
    "#¿Existe alguna diferencia en los ingresos anuales entre hombre y mujer?\n",
    "sns.distplot(df[df[\"Gender\"]==\"Male\"][\"Annual Income (k$)\"],rug=True,norm_hist=True,label=\"Male\")\n",
    "sns.distplot(df[df[\"Gender\"]==\"Female\"][\"Annual Income (k$)\"],rug=True,norm_hist=True,label=\"Female\")\n",
    "plt.legend()"
   ]
  },
  {
   "cell_type": "code",
   "execution_count": 17,
   "metadata": {},
   "outputs": [
    {
     "data": {
      "text/plain": [
       "<matplotlib.legend.Legend at 0x1c78c312160>"
      ]
     },
     "execution_count": 17,
     "metadata": {},
     "output_type": "execute_result"
    },
    {
     "data": {
      "image/png": "[encoded data removed]",
      "text/plain": [
       "<Figure size 432x288 with 1 Axes>"
      ]
     },
     "metadata": {
      "needs_background": "light"
     },
     "output_type": "display_data"
    }
   ],
   "source": [
    "#¿Existe alguna diferencia en el comportamiento de gasto entre hombre y mujer?\n",
    "sns.distplot(df[df[\"Gender\"]==\"Male\"][\"Spending Score (1-100)\"],rug=True,norm_hist=True,label=\"Male\")\n",
    "sns.distplot(df[df[\"Gender\"]==\"Female\"][\"Spending Score (1-100)\"],rug=True,norm_hist=True,label=\"Female\")\n",
    "plt.legend()"
   ]
  },
  {
   "cell_type": "markdown",
   "metadata": {},
   "source": [
    "## 3.3 Limpieza final"
   ]
  },
  {
   "cell_type": "code",
   "execution_count": 21,
   "metadata": {},
   "outputs": [],
   "source": [
    "# Al no tener datos etiquetados no es necesario realizar la limpieza en base a correlación con una variable objetivo"
   ]
  },
  {
   "cell_type": "markdown",
   "metadata": {},
   "source": [
    "### 3.3.2 Limpieza temporal"
   ]
  },
  {
   "cell_type": "code",
   "execution_count": 22,
   "metadata": {},
   "outputs": [],
   "source": [
    "#Importante visualizar la evolución temporal (si ha habido un importante cambio, quedarse con \n",
    "#la porción de datos que corresponde a la situación actual para mejorar la futura predicción)\n",
    "#El ejemplo que hay a continuación proviende de una fuente de datos alternativa: https://www.kaggle.com/harlfoxem/housesalesprediction\n",
    "\n",
    "#df['date'] = pd.to_datetime(df['date'])\n",
    "\n",
    "#df['month'] = df['date'].apply(lambda date:date.month)\n",
    "\n",
    "#df['year'] = df['date'].apply(lambda date:date.year)\n",
    "\n",
    "#sns.boxplot(x='year',y='price',data=df)\n",
    "\n",
    "#sns.boxplot(x='month',y='price',data=df)\n",
    "\n",
    "#df.groupby('month').mean()['price'].plot()\n",
    "\n",
    "#df.groupby('year').mean()['price'].plot()\n",
    "\n",
    "#df = df.drop('date',axis=1) #La fecha no será una variable útil para el modelo\n",
    "\n",
    "#df['sqft_basement'].value_counts()"
   ]
  },
  {
   "cell_type": "code",
   "execution_count": 18,
   "metadata": {},
   "outputs": [
    {
     "data": {
      "text/html": [
       "<div>\n",
       "<style scoped>\n",
       "    .dataframe tbody tr th:only-of-type {\n",
       "        vertical-align: middle;\n",
       "    }\n",
       "\n",
       "    .dataframe tbody tr th {\n",
       "        vertical-align: top;\n",
       "    }\n",
       "\n",
       "    .dataframe thead th {\n",
       "        text-align: right;\n",
       "    }\n",
       "</style>\n",
       "<table border=\"1\" class=\"dataframe\">\n",
       "  <thead>\n",
       "    <tr style=\"text-align: right;\">\n",
       "      <th></th>\n",
       "      <th>Gender</th>\n",
       "      <th>Age</th>\n",
       "      <th>Annual Income (k$)</th>\n",
       "      <th>Spending Score (1-100)</th>\n",
       "    </tr>\n",
       "  </thead>\n",
       "  <tbody>\n",
       "    <tr>\n",
       "      <th>0</th>\n",
       "      <td>Male</td>\n",
       "      <td>19</td>\n",
       "      <td>15</td>\n",
       "      <td>39</td>\n",
       "    </tr>\n",
       "    <tr>\n",
       "      <th>1</th>\n",
       "      <td>Male</td>\n",
       "      <td>21</td>\n",
       "      <td>15</td>\n",
       "      <td>81</td>\n",
       "    </tr>\n",
       "    <tr>\n",
       "      <th>2</th>\n",
       "      <td>Female</td>\n",
       "      <td>20</td>\n",
       "      <td>16</td>\n",
       "      <td>6</td>\n",
       "    </tr>\n",
       "    <tr>\n",
       "      <th>3</th>\n",
       "      <td>Female</td>\n",
       "      <td>23</td>\n",
       "      <td>16</td>\n",
       "      <td>77</td>\n",
       "    </tr>\n",
       "    <tr>\n",
       "      <th>4</th>\n",
       "      <td>Female</td>\n",
       "      <td>31</td>\n",
       "      <td>17</td>\n",
       "      <td>40</td>\n",
       "    </tr>\n",
       "    <tr>\n",
       "      <th>...</th>\n",
       "      <td>...</td>\n",
       "      <td>...</td>\n",
       "      <td>...</td>\n",
       "      <td>...</td>\n",
       "    </tr>\n",
       "    <tr>\n",
       "      <th>195</th>\n",
       "      <td>Female</td>\n",
       "      <td>35</td>\n",
       "      <td>120</td>\n",
       "      <td>79</td>\n",
       "    </tr>\n",
       "    <tr>\n",
       "      <th>196</th>\n",
       "      <td>Female</td>\n",
       "      <td>45</td>\n",
       "      <td>126</td>\n",
       "      <td>28</td>\n",
       "    </tr>\n",
       "    <tr>\n",
       "      <th>197</th>\n",
       "      <td>Male</td>\n",
       "      <td>32</td>\n",
       "      <td>126</td>\n",
       "      <td>74</td>\n",
       "    </tr>\n",
       "    <tr>\n",
       "      <th>198</th>\n",
       "      <td>Male</td>\n",
       "      <td>32</td>\n",
       "      <td>137</td>\n",
       "      <td>18</td>\n",
       "    </tr>\n",
       "    <tr>\n",
       "      <th>199</th>\n",
       "      <td>Male</td>\n",
       "      <td>30</td>\n",
       "      <td>137</td>\n",
       "      <td>83</td>\n",
       "    </tr>\n",
       "  </tbody>\n",
       "</table>\n",
       "<p>200 rows × 4 columns</p>\n",
       "</div>"
      ],
      "text/plain": [
       "     Gender  Age  Annual Income (k$)  Spending Score (1-100)\n",
       "0      Male   19                  15                      39\n",
       "1      Male   21                  15                      81\n",
       "2    Female   20                  16                       6\n",
       "3    Female   23                  16                      77\n",
       "4    Female   31                  17                      40\n",
       "..      ...  ...                 ...                     ...\n",
       "195  Female   35                 120                      79\n",
       "196  Female   45                 126                      28\n",
       "197    Male   32                 126                      74\n",
       "198    Male   32                 137                      18\n",
       "199    Male   30                 137                      83\n",
       "\n",
       "[200 rows x 4 columns]"
      ]
     },
     "execution_count": 18,
     "metadata": {},
     "output_type": "execute_result"
    }
   ],
   "source": [
    "df"
   ]
  },
  {
   "cell_type": "markdown",
   "metadata": {},
   "source": [
    "### 3.3.3 Transformación variables categóricas"
   ]
  },
  {
   "cell_type": "code",
   "execution_count": 19,
   "metadata": {},
   "outputs": [],
   "source": [
    "dummies = pd.get_dummies(df['Gender'],drop_first=True) #se puede añadir drop_first=True evita redundancia y evita crear una columna por cada variable\n",
    "df_post = pd.concat([df,dummies],axis=1)\n",
    "df_post = df_post.drop(['Gender'],axis=1) #Eliminamos las columnas originales"
   ]
  },
  {
   "cell_type": "code",
   "execution_count": 20,
   "metadata": {
    "scrolled": true
   },
   "outputs": [
    {
     "data": {
      "text/html": [
       "<div>\n",
       "<style scoped>\n",
       "    .dataframe tbody tr th:only-of-type {\n",
       "        vertical-align: middle;\n",
       "    }\n",
       "\n",
       "    .dataframe tbody tr th {\n",
       "        vertical-align: top;\n",
       "    }\n",
       "\n",
       "    .dataframe thead th {\n",
       "        text-align: right;\n",
       "    }\n",
       "</style>\n",
       "<table border=\"1\" class=\"dataframe\">\n",
       "  <thead>\n",
       "    <tr style=\"text-align: right;\">\n",
       "      <th></th>\n",
       "      <th>Age</th>\n",
       "      <th>Annual Income (k$)</th>\n",
       "      <th>Spending Score (1-100)</th>\n",
       "      <th>Male</th>\n",
       "    </tr>\n",
       "  </thead>\n",
       "  <tbody>\n",
       "    <tr>\n",
       "      <th>0</th>\n",
       "      <td>19</td>\n",
       "      <td>15</td>\n",
       "      <td>39</td>\n",
       "      <td>1</td>\n",
       "    </tr>\n",
       "    <tr>\n",
       "      <th>1</th>\n",
       "      <td>21</td>\n",
       "      <td>15</td>\n",
       "      <td>81</td>\n",
       "      <td>1</td>\n",
       "    </tr>\n",
       "    <tr>\n",
       "      <th>2</th>\n",
       "      <td>20</td>\n",
       "      <td>16</td>\n",
       "      <td>6</td>\n",
       "      <td>0</td>\n",
       "    </tr>\n",
       "    <tr>\n",
       "      <th>3</th>\n",
       "      <td>23</td>\n",
       "      <td>16</td>\n",
       "      <td>77</td>\n",
       "      <td>0</td>\n",
       "    </tr>\n",
       "    <tr>\n",
       "      <th>4</th>\n",
       "      <td>31</td>\n",
       "      <td>17</td>\n",
       "      <td>40</td>\n",
       "      <td>0</td>\n",
       "    </tr>\n",
       "    <tr>\n",
       "      <th>...</th>\n",
       "      <td>...</td>\n",
       "      <td>...</td>\n",
       "      <td>...</td>\n",
       "      <td>...</td>\n",
       "    </tr>\n",
       "    <tr>\n",
       "      <th>195</th>\n",
       "      <td>35</td>\n",
       "      <td>120</td>\n",
       "      <td>79</td>\n",
       "      <td>0</td>\n",
       "    </tr>\n",
       "    <tr>\n",
       "      <th>196</th>\n",
       "      <td>45</td>\n",
       "      <td>126</td>\n",
       "      <td>28</td>\n",
       "      <td>0</td>\n",
       "    </tr>\n",
       "    <tr>\n",
       "      <th>197</th>\n",
       "      <td>32</td>\n",
       "      <td>126</td>\n",
       "      <td>74</td>\n",
       "      <td>1</td>\n",
       "    </tr>\n",
       "    <tr>\n",
       "      <th>198</th>\n",
       "      <td>32</td>\n",
       "      <td>137</td>\n",
       "      <td>18</td>\n",
       "      <td>1</td>\n",
       "    </tr>\n",
       "    <tr>\n",
       "      <th>199</th>\n",
       "      <td>30</td>\n",
       "      <td>137</td>\n",
       "      <td>83</td>\n",
       "      <td>1</td>\n",
       "    </tr>\n",
       "  </tbody>\n",
       "</table>\n",
       "<p>200 rows × 4 columns</p>\n",
       "</div>"
      ],
      "text/plain": [
       "     Age  Annual Income (k$)  Spending Score (1-100)  Male\n",
       "0     19                  15                      39     1\n",
       "1     21                  15                      81     1\n",
       "2     20                  16                       6     0\n",
       "3     23                  16                      77     0\n",
       "4     31                  17                      40     0\n",
       "..   ...                 ...                     ...   ...\n",
       "195   35                 120                      79     0\n",
       "196   45                 126                      28     0\n",
       "197   32                 126                      74     1\n",
       "198   32                 137                      18     1\n",
       "199   30                 137                      83     1\n",
       "\n",
       "[200 rows x 4 columns]"
      ]
     },
     "execution_count": 20,
     "metadata": {},
     "output_type": "execute_result"
    }
   ],
   "source": [
    "df_post"
   ]
  },
  {
   "cell_type": "markdown",
   "metadata": {},
   "source": [
    "# 4. Escalado"
   ]
  },
  {
   "cell_type": "code",
   "execution_count": 21,
   "metadata": {},
   "outputs": [],
   "source": [
    "from sklearn.preprocessing import MinMaxScaler"
   ]
  },
  {
   "cell_type": "code",
   "execution_count": 22,
   "metadata": {},
   "outputs": [],
   "source": [
    "scaler = MinMaxScaler()"
   ]
  },
  {
   "cell_type": "code",
   "execution_count": 23,
   "metadata": {},
   "outputs": [
    {
     "data": {
      "text/plain": [
       "array([[0.01923077, 0.        , 0.3877551 , 1.        ],\n",
       "       [0.05769231, 0.        , 0.81632653, 1.        ],\n",
       "       [0.03846154, 0.00819672, 0.05102041, 0.        ],\n",
       "       [0.09615385, 0.00819672, 0.7755102 , 0.        ],\n",
       "       [0.25      , 0.01639344, 0.39795918, 0.        ],\n",
       "       [0.07692308, 0.01639344, 0.76530612, 0.        ],\n",
       "       [0.32692308, 0.02459016, 0.05102041, 0.        ],\n",
       "       [0.09615385, 0.02459016, 0.94897959, 0.        ],\n",
       "       [0.88461538, 0.03278689, 0.02040816, 1.        ],\n",
       "       [0.23076923, 0.03278689, 0.7244898 , 0.        ],\n",
       "       [0.94230769, 0.03278689, 0.13265306, 1.        ],\n",
       "       [0.32692308, 0.03278689, 1.        , 0.        ],\n",
       "       [0.76923077, 0.04098361, 0.14285714, 0.        ],\n",
       "       [0.11538462, 0.04098361, 0.7755102 , 0.        ],\n",
       "       [0.36538462, 0.04098361, 0.12244898, 1.        ],\n",
       "       [0.07692308, 0.04098361, 0.79591837, 1.        ],\n",
       "       [0.32692308, 0.04918033, 0.34693878, 0.        ],\n",
       "       [0.03846154, 0.04918033, 0.66326531, 1.        ],\n",
       "       [0.65384615, 0.06557377, 0.28571429, 1.        ],\n",
       "       [0.32692308, 0.06557377, 0.98979592, 0.        ],\n",
       "       [0.32692308, 0.07377049, 0.34693878, 1.        ],\n",
       "       [0.13461538, 0.07377049, 0.73469388, 1.        ],\n",
       "       [0.53846154, 0.08196721, 0.04081633, 0.        ],\n",
       "       [0.25      , 0.08196721, 0.73469388, 1.        ],\n",
       "       [0.69230769, 0.10655738, 0.13265306, 0.        ],\n",
       "       [0.21153846, 0.10655738, 0.82653061, 1.        ],\n",
       "       [0.51923077, 0.10655738, 0.31632653, 0.        ],\n",
       "       [0.32692308, 0.10655738, 0.6122449 , 1.        ],\n",
       "       [0.42307692, 0.1147541 , 0.30612245, 0.        ],\n",
       "       [0.09615385, 0.1147541 , 0.87755102, 0.        ],\n",
       "       [0.80769231, 0.12295082, 0.03061224, 1.        ],\n",
       "       [0.05769231, 0.12295082, 0.73469388, 0.        ],\n",
       "       [0.67307692, 0.14754098, 0.03061224, 1.        ],\n",
       "       [0.        , 0.14754098, 0.92857143, 1.        ],\n",
       "       [0.59615385, 0.14754098, 0.13265306, 0.        ],\n",
       "       [0.05769231, 0.14754098, 0.81632653, 0.        ],\n",
       "       [0.46153846, 0.1557377 , 0.16326531, 0.        ],\n",
       "       [0.23076923, 0.1557377 , 0.73469388, 0.        ],\n",
       "       [0.34615385, 0.18032787, 0.25510204, 0.        ],\n",
       "       [0.03846154, 0.18032787, 0.75510204, 0.        ],\n",
       "       [0.90384615, 0.18852459, 0.34693878, 0.        ],\n",
       "       [0.11538462, 0.18852459, 0.92857143, 1.        ],\n",
       "       [0.57692308, 0.19672131, 0.35714286, 1.        ],\n",
       "       [0.25      , 0.19672131, 0.6122449 , 0.        ],\n",
       "       [0.59615385, 0.19672131, 0.2755102 , 0.        ],\n",
       "       [0.11538462, 0.19672131, 0.65306122, 0.        ],\n",
       "       [0.61538462, 0.20491803, 0.55102041, 0.        ],\n",
       "       [0.17307692, 0.20491803, 0.46938776, 0.        ],\n",
       "       [0.21153846, 0.20491803, 0.41836735, 0.        ],\n",
       "       [0.25      , 0.20491803, 0.41836735, 0.        ],\n",
       "       [0.59615385, 0.22131148, 0.52040816, 0.        ],\n",
       "       [0.28846154, 0.22131148, 0.60204082, 1.        ],\n",
       "       [0.25      , 0.2295082 , 0.54081633, 0.        ],\n",
       "       [0.78846154, 0.2295082 , 0.60204082, 1.        ],\n",
       "       [0.61538462, 0.2295082 , 0.44897959, 0.        ],\n",
       "       [0.55769231, 0.2295082 , 0.40816327, 1.        ],\n",
       "       [0.63461538, 0.23770492, 0.5       , 0.        ],\n",
       "       [0.98076923, 0.23770492, 0.45918367, 1.        ],\n",
       "       [0.17307692, 0.25409836, 0.51020408, 0.        ],\n",
       "       [0.67307692, 0.25409836, 0.45918367, 1.        ],\n",
       "       [1.        , 0.25409836, 0.56122449, 1.        ],\n",
       "       [0.01923077, 0.25409836, 0.55102041, 1.        ],\n",
       "       [0.94230769, 0.26229508, 0.52040816, 0.        ],\n",
       "       [0.69230769, 0.26229508, 0.59183673, 0.        ],\n",
       "       [0.86538462, 0.2704918 , 0.51020408, 1.        ],\n",
       "       [0.        , 0.2704918 , 0.59183673, 1.        ],\n",
       "       [0.48076923, 0.2704918 , 0.5       , 0.        ],\n",
       "       [0.96153846, 0.2704918 , 0.47959184, 0.        ],\n",
       "       [0.01923077, 0.2704918 , 0.59183673, 1.        ],\n",
       "       [0.26923077, 0.2704918 , 0.46938776, 0.        ],\n",
       "       [1.        , 0.27868852, 0.55102041, 1.        ],\n",
       "       [0.55769231, 0.27868852, 0.41836735, 0.        ],\n",
       "       [0.80769231, 0.28688525, 0.48979592, 0.        ],\n",
       "       [0.80769231, 0.28688525, 0.56122449, 0.        ],\n",
       "       [0.78846154, 0.31967213, 0.46938776, 1.        ],\n",
       "       [0.15384615, 0.31967213, 0.54081633, 1.        ],\n",
       "       [0.51923077, 0.31967213, 0.53061224, 0.        ],\n",
       "       [0.42307692, 0.31967213, 0.47959184, 1.        ],\n",
       "       [0.09615385, 0.31967213, 0.52040816, 0.        ],\n",
       "       [0.59615385, 0.31967213, 0.41836735, 0.        ],\n",
       "       [0.75      , 0.31967213, 0.51020408, 1.        ],\n",
       "       [0.38461538, 0.31967213, 0.55102041, 1.        ],\n",
       "       [0.94230769, 0.31967213, 0.40816327, 1.        ],\n",
       "       [0.53846154, 0.31967213, 0.43877551, 0.        ],\n",
       "       [0.05769231, 0.31967213, 0.57142857, 0.        ],\n",
       "       [0.57692308, 0.31967213, 0.45918367, 1.        ],\n",
       "       [0.71153846, 0.3442623 , 0.58163265, 0.        ],\n",
       "       [0.07692308, 0.3442623 , 0.55102041, 0.        ],\n",
       "       [0.30769231, 0.35245902, 0.60204082, 0.        ],\n",
       "       [0.61538462, 0.35245902, 0.45918367, 0.        ],\n",
       "       [0.96153846, 0.36065574, 0.55102041, 0.        ],\n",
       "       [0.        , 0.36065574, 0.40816327, 1.        ],\n",
       "       [0.57692308, 0.36885246, 0.48979592, 1.        ],\n",
       "       [0.42307692, 0.36885246, 0.39795918, 0.        ],\n",
       "       [0.26923077, 0.36885246, 0.41836735, 0.        ],\n",
       "       [0.11538462, 0.36885246, 0.52040816, 1.        ],\n",
       "       [0.55769231, 0.36885246, 0.46938776, 0.        ],\n",
       "       [0.17307692, 0.36885246, 0.5       , 0.        ],\n",
       "       [0.57692308, 0.37704918, 0.41836735, 1.        ],\n",
       "       [0.03846154, 0.37704918, 0.48979592, 1.        ],\n",
       "       [0.09615385, 0.3852459 , 0.40816327, 0.        ],\n",
       "       [0.59615385, 0.3852459 , 0.47959184, 0.        ],\n",
       "       [0.94230769, 0.3852459 , 0.59183673, 1.        ],\n",
       "       [0.15384615, 0.3852459 , 0.55102041, 1.        ],\n",
       "       [0.59615385, 0.3852459 , 0.56122449, 1.        ],\n",
       "       [0.05769231, 0.3852459 , 0.41836735, 0.        ],\n",
       "       [0.92307692, 0.39344262, 0.5       , 0.        ],\n",
       "       [0.69230769, 0.39344262, 0.45918367, 1.        ],\n",
       "       [0.96153846, 0.39344262, 0.42857143, 1.        ],\n",
       "       [0.92307692, 0.39344262, 0.47959184, 1.        ],\n",
       "       [0.90384615, 0.39344262, 0.52040816, 1.        ],\n",
       "       [0.01923077, 0.39344262, 0.54081633, 0.        ],\n",
       "       [0.38461538, 0.40163934, 0.41836735, 0.        ],\n",
       "       [0.01923077, 0.40163934, 0.45918367, 1.        ],\n",
       "       [0.        , 0.40983607, 0.47959184, 0.        ],\n",
       "       [0.01923077, 0.40983607, 0.5       , 0.        ],\n",
       "       [0.86538462, 0.40983607, 0.42857143, 0.        ],\n",
       "       [0.59615385, 0.40983607, 0.59183673, 0.        ],\n",
       "       [0.63461538, 0.42622951, 0.42857143, 0.        ],\n",
       "       [0.61538462, 0.42622951, 0.57142857, 0.        ],\n",
       "       [0.17307692, 0.42622951, 0.56122449, 1.        ],\n",
       "       [0.38461538, 0.42622951, 0.39795918, 0.        ],\n",
       "       [0.42307692, 0.44262295, 0.58163265, 0.        ],\n",
       "       [0.40384615, 0.44262295, 0.91836735, 1.        ],\n",
       "       [0.09615385, 0.45081967, 0.28571429, 0.        ],\n",
       "       [0.25      , 0.45081967, 0.7755102 , 0.        ],\n",
       "       [0.48076923, 0.45901639, 0.34693878, 1.        ],\n",
       "       [0.42307692, 0.45901639, 0.95918367, 1.        ],\n",
       "       [0.78846154, 0.45901639, 0.10204082, 1.        ],\n",
       "       [0.38461538, 0.45901639, 0.75510204, 1.        ],\n",
       "       [0.55769231, 0.45901639, 0.08163265, 1.        ],\n",
       "       [0.40384615, 0.45901639, 0.75510204, 1.        ],\n",
       "       [0.13461538, 0.46721311, 0.33673469, 0.        ],\n",
       "       [0.25      , 0.46721311, 0.71428571, 0.        ],\n",
       "       [0.03846154, 0.47540984, 0.04081633, 1.        ],\n",
       "       [0.21153846, 0.47540984, 0.8877551 , 0.        ],\n",
       "       [0.5       , 0.47540984, 0.06122449, 0.        ],\n",
       "       [0.26923077, 0.47540984, 0.73469388, 1.        ],\n",
       "       [0.01923077, 0.48360656, 0.09183673, 1.        ],\n",
       "       [0.32692308, 0.48360656, 0.7244898 , 0.        ],\n",
       "       [0.75      , 0.49180328, 0.04081633, 0.        ],\n",
       "       [0.26923077, 0.49180328, 0.93877551, 1.        ],\n",
       "       [0.19230769, 0.5       , 0.39795918, 0.        ],\n",
       "       [0.26923077, 0.5       , 0.87755102, 0.        ],\n",
       "       [0.13461538, 0.50819672, 0.1122449 , 1.        ],\n",
       "       [0.19230769, 0.50819672, 0.97959184, 1.        ],\n",
       "       [0.57692308, 0.50819672, 0.35714286, 1.        ],\n",
       "       [0.26923077, 0.50819672, 0.74489796, 0.        ],\n",
       "       [0.30769231, 0.51639344, 0.21428571, 0.        ],\n",
       "       [0.30769231, 0.51639344, 0.90816327, 1.        ],\n",
       "       [0.48076923, 0.51639344, 0.16326531, 1.        ],\n",
       "       [0.40384615, 0.51639344, 0.8877551 , 1.        ],\n",
       "       [0.5       , 0.51639344, 0.19387755, 0.        ],\n",
       "       [0.38461538, 0.51639344, 0.76530612, 0.        ],\n",
       "       [0.55769231, 0.51639344, 0.15306122, 0.        ],\n",
       "       [0.17307692, 0.51639344, 0.89795918, 0.        ],\n",
       "       [0.36538462, 0.51639344, 0.        , 1.        ],\n",
       "       [0.23076923, 0.51639344, 0.78571429, 0.        ],\n",
       "       [0.30769231, 0.51639344, 0.        , 1.        ],\n",
       "       [0.23076923, 0.51639344, 0.73469388, 0.        ],\n",
       "       [0.73076923, 0.52459016, 0.34693878, 0.        ],\n",
       "       [0.21153846, 0.52459016, 0.83673469, 0.        ],\n",
       "       [0.01923077, 0.54098361, 0.04081633, 1.        ],\n",
       "       [0.25      , 0.54098361, 0.93877551, 0.        ],\n",
       "       [0.61538462, 0.57377049, 0.25510204, 1.        ],\n",
       "       [0.34615385, 0.57377049, 0.75510204, 0.        ],\n",
       "       [0.46153846, 0.58196721, 0.19387755, 1.        ],\n",
       "       [0.28846154, 0.58196721, 0.95918367, 0.        ],\n",
       "       [0.34615385, 0.59016393, 0.26530612, 0.        ],\n",
       "       [0.26923077, 0.59016393, 0.63265306, 1.        ],\n",
       "       [0.42307692, 0.59016393, 0.12244898, 1.        ],\n",
       "       [0.19230769, 0.59016393, 0.75510204, 1.        ],\n",
       "       [0.34615385, 0.59016393, 0.09183673, 1.        ],\n",
       "       [0.34615385, 0.59016393, 0.92857143, 1.        ],\n",
       "       [0.65384615, 0.59836066, 0.12244898, 0.        ],\n",
       "       [0.23076923, 0.59836066, 0.86734694, 0.        ],\n",
       "       [0.76923077, 0.59836066, 0.14285714, 1.        ],\n",
       "       [0.17307692, 0.59836066, 0.69387755, 1.        ],\n",
       "       [0.78846154, 0.63934426, 0.13265306, 1.        ],\n",
       "       [0.32692308, 0.63934426, 0.90816327, 1.        ],\n",
       "       [0.36538462, 0.67213115, 0.31632653, 0.        ],\n",
       "       [0.26923077, 0.67213115, 0.86734694, 0.        ],\n",
       "       [0.53846154, 0.68032787, 0.14285714, 1.        ],\n",
       "       [0.21153846, 0.68032787, 0.8877551 , 0.        ],\n",
       "       [0.44230769, 0.68852459, 0.3877551 , 0.        ],\n",
       "       [0.23076923, 0.68852459, 0.97959184, 1.        ],\n",
       "       [0.69230769, 0.70491803, 0.23469388, 0.        ],\n",
       "       [0.19230769, 0.70491803, 0.68367347, 1.        ],\n",
       "       [0.44230769, 0.72131148, 0.16326531, 0.        ],\n",
       "       [0.34615385, 0.72131148, 0.85714286, 0.        ],\n",
       "       [0.30769231, 0.72131148, 0.2244898 , 0.        ],\n",
       "       [0.26923077, 0.72131148, 0.69387755, 0.        ],\n",
       "       [0.28846154, 0.80327869, 0.07142857, 1.        ],\n",
       "       [0.38461538, 0.80327869, 0.91836735, 0.        ],\n",
       "       [0.55769231, 0.86065574, 0.15306122, 0.        ],\n",
       "       [0.32692308, 0.86065574, 0.79591837, 0.        ],\n",
       "       [0.51923077, 0.90983607, 0.2755102 , 0.        ],\n",
       "       [0.26923077, 0.90983607, 0.74489796, 1.        ],\n",
       "       [0.26923077, 1.        , 0.17346939, 1.        ],\n",
       "       [0.23076923, 1.        , 0.83673469, 1.        ]])"
      ]
     },
     "execution_count": 23,
     "metadata": {},
     "output_type": "execute_result"
    }
   ],
   "source": [
    "scaled_df = scaler.fit_transform(df_post)\n",
    "scaled_df"
   ]
  },
  {
   "cell_type": "markdown",
   "metadata": {},
   "source": [
    "# 5.Estimación número de clusters"
   ]
  },
  {
   "cell_type": "code",
   "execution_count": 24,
   "metadata": {},
   "outputs": [],
   "source": [
    "from sklearn.cluster import KMeans"
   ]
  },
  {
   "cell_type": "code",
   "execution_count": 29,
   "metadata": {},
   "outputs": [],
   "source": [
    "#Estimamos la inercia para cada valor de número de clusters, mide la varianza entre los datos de un mismo cluster \n",
    "#usando la suma de RMSE"
   ]
  },
  {
   "cell_type": "code",
   "execution_count": 25,
   "metadata": {},
   "outputs": [
    {
     "data": {
      "image/png": "[encoded data removed]",
      "text/plain": [
       "<Figure size 432x288 with 1 Axes>"
      ]
     },
     "metadata": {
      "needs_background": "light"
     },
     "output_type": "display_data"
    }
   ],
   "source": [
    "ks = range(1, 20)\n",
    "inertias = []\n",
    "\n",
    "for k in ks:\n",
    "    # Crear instancia KMeans con k clusters: model\n",
    "    model=KMeans(n_clusters=k)\n",
    "    \n",
    "    # Entrenar el modelo con nuestros datos\n",
    "    model.fit(scaled_df)\n",
    "    \n",
    "    # Añadir el atributo de inercia a la lista de inercias\n",
    "    inertias.append(model.inertia_)\n",
    "    \n",
    "# Plot ks vs inertias\n",
    "plt.plot(ks, inertias, '-o')\n",
    "plt.xlabel('numero de clusters, K')\n",
    "plt.ylabel('inertia')\n",
    "plt.xticks(ks)\n",
    "plt.show()"
   ]
  },
  {
   "cell_type": "code",
   "execution_count": 31,
   "metadata": {},
   "outputs": [],
   "source": [
    "#Alternativa: Verificar el resultado de la silueta (Valor entre -1 y +1 que indica la similitud de cada dato con su\n",
    "#propio cluster comparado con otros clusters, a mayor valor mejor resultado de cohesión)"
   ]
  },
  {
   "cell_type": "code",
   "execution_count": 27,
   "metadata": {},
   "outputs": [],
   "source": [
    "from sklearn.metrics import silhouette_score"
   ]
  },
  {
   "cell_type": "code",
   "execution_count": 28,
   "metadata": {},
   "outputs": [
    {
     "data": {
      "image/png": "[encoded data removed]",
      "text/plain": [
       "<Figure size 432x288 with 1 Axes>"
      ]
     },
     "metadata": {
      "needs_background": "light"
     },
     "output_type": "display_data"
    }
   ],
   "source": [
    "#Exploramos el valor de \"silueta\" con diferente número de clusters\n",
    "siluetas = []\n",
    "ks = range(2, 20)\n",
    "for num_clusters in ks:\n",
    "    clusterer = KMeans(n_clusters=num_clusters)\n",
    "    preds = clusterer.fit_predict(scaled_df)\n",
    "    score = silhouette_score (scaled_df, preds, metric='euclidean')\n",
    "    siluetas.append(score)\n",
    "    #print (\"For n_clusters = {}, Kmeans silhouette score is {})\".format(num_clusters, score))\n",
    "    \n",
    "plt.plot(ks, siluetas, '-o')\n",
    "plt.xlabel('numero de clusters, K')\n",
    "plt.ylabel('Puntuación Silueta')\n",
    "plt.xticks(ks)\n",
    "plt.show()"
   ]
  },
  {
   "cell_type": "code",
   "execution_count": 29,
   "metadata": {},
   "outputs": [],
   "source": [
    "num_clusters = 2"
   ]
  },
  {
   "cell_type": "markdown",
   "metadata": {},
   "source": [
    "# 6.Creación del modelo    "
   ]
  },
  {
   "cell_type": "code",
   "execution_count": 32,
   "metadata": {},
   "outputs": [],
   "source": [
    "from tensorflow.keras.models import Sequential\n",
    "from tensorflow.keras.layers import Dense\n",
    "from tensorflow.keras.optimizers import SGD"
   ]
  },
  {
   "cell_type": "code",
   "execution_count": 30,
   "metadata": {},
   "outputs": [
    {
     "data": {
      "text/plain": [
       "(200, 4)"
      ]
     },
     "execution_count": 30,
     "metadata": {},
     "output_type": "execute_result"
    }
   ],
   "source": [
    "scaled_df.shape"
   ]
  },
  {
   "cell_type": "code",
   "execution_count": null,
   "metadata": {},
   "outputs": [],
   "source": [
    "#Podemos usar los escalones en base a num_variables_entrada y num_clusters. Creamos un encoder 4 (núm variables) --> 3 --> 2 (si el número de variables de entrada es mayor los saltos de neuronas también lo serán)\n",
    "#encoder = Sequential()\n",
    "#encoder.add(Dense(units=3,activation='relu',input_shape=[4]))\n",
    "#encoder.add(Dense(units=2,activation='relu',input_shape=[3]))\n",
    "#encoder.compile(loss=\"mse\" ,optimizer=SGD(lr=1.5))"
   ]
  },
  {
   "cell_type": "code",
   "execution_count": 33,
   "metadata": {},
   "outputs": [],
   "source": [
    "#La configuración genérica de autoencoders es: Encoder(500,500,2000,10)---Decoder(2000,500,500,variables_entrada)\n",
    "encoder = Sequential()\n",
    "encoder.add(Dense(units=500,activation='relu',input_shape=[4]))\n",
    "encoder.add(Dense(units=500,activation='relu',input_shape=[500]))\n",
    "encoder.add(Dense(units=2000,activation='relu',input_shape=[500]))\n",
    "encoder.add(Dense(units=10,activation='relu',input_shape=[2000]))"
   ]
  },
  {
   "cell_type": "code",
   "execution_count": 34,
   "metadata": {},
   "outputs": [],
   "source": [
    "decoder = Sequential()\n",
    "decoder.add(Dense(units=2000,activation='relu',input_shape=[10]))\n",
    "decoder.add(Dense(units=500,activation='relu',input_shape=[2000]))\n",
    "decoder.add(Dense(units=500,activation='relu',input_shape=[500]))\n",
    "decoder.add(Dense(units=4,activation='relu',input_shape=[500]))"
   ]
  },
  {
   "cell_type": "code",
   "execution_count": 35,
   "metadata": {},
   "outputs": [],
   "source": [
    "autoencoder = Sequential([encoder,decoder])"
   ]
  },
  {
   "cell_type": "code",
   "execution_count": 36,
   "metadata": {},
   "outputs": [],
   "source": [
    "autoencoder.compile(loss=\"mse\" ,optimizer=SGD(lr=1.5))"
   ]
  },
  {
   "cell_type": "code",
   "execution_count": 37,
   "metadata": {},
   "outputs": [
    {
     "name": "stdout",
     "output_type": "stream",
     "text": [
      "Model: \"sequential\"\n",
      "_________________________________________________________________\n",
      "Layer (type)                 Output Shape              Param #   \n",
      "=================================================================\n",
      "dense (Dense)                (None, 500)               2500      \n",
      "_________________________________________________________________\n",
      "dense_1 (Dense)              (None, 500)               250500    \n",
      "_________________________________________________________________\n",
      "dense_2 (Dense)              (None, 2000)              1002000   \n",
      "_________________________________________________________________\n",
      "dense_3 (Dense)              (None, 10)                20010     \n",
      "=================================================================\n",
      "Total params: 1,275,010\n",
      "Trainable params: 1,275,010\n",
      "Non-trainable params: 0\n",
      "_________________________________________________________________\n"
     ]
    }
   ],
   "source": [
    "encoder.summary()"
   ]
  },
  {
   "cell_type": "code",
   "execution_count": 38,
   "metadata": {
    "scrolled": true
   },
   "outputs": [
    {
     "name": "stdout",
     "output_type": "stream",
     "text": [
      "Model: \"sequential_1\"\n",
      "_________________________________________________________________\n",
      "Layer (type)                 Output Shape              Param #   \n",
      "=================================================================\n",
      "dense_4 (Dense)              (None, 2000)              22000     \n",
      "_________________________________________________________________\n",
      "dense_5 (Dense)              (None, 500)               1000500   \n",
      "_________________________________________________________________\n",
      "dense_6 (Dense)              (None, 500)               250500    \n",
      "_________________________________________________________________\n",
      "dense_7 (Dense)              (None, 4)                 2004      \n",
      "=================================================================\n",
      "Total params: 1,275,004\n",
      "Trainable params: 1,275,004\n",
      "Non-trainable params: 0\n",
      "_________________________________________________________________\n"
     ]
    }
   ],
   "source": [
    "decoder.summary()"
   ]
  },
  {
   "cell_type": "markdown",
   "metadata": {},
   "source": [
    "# 7. Entrenamiento del modelo"
   ]
  },
  {
   "cell_type": "code",
   "execution_count": 39,
   "metadata": {},
   "outputs": [
    {
     "name": "stdout",
     "output_type": "stream",
     "text": [
      "Epoch 1/20\n",
      "2/2 [==============================] - 0s 14ms/step - loss: 0.2620\n",
      "Epoch 2/20\n",
      "2/2 [==============================] - 0s 19ms/step - loss: 0.1326\n",
      "Epoch 3/20\n",
      "2/2 [==============================] - 0s 17ms/step - loss: 0.1184\n",
      "Epoch 4/20\n",
      "2/2 [==============================] - 0s 16ms/step - loss: 0.1188\n",
      "Epoch 5/20\n",
      "2/2 [==============================] - 0s 19ms/step - loss: 0.1092\n",
      "Epoch 6/20\n",
      "2/2 [==============================] - 0s 15ms/step - loss: 0.1126\n",
      "Epoch 7/20\n",
      "2/2 [==============================] - 0s 17ms/step - loss: 0.1134\n",
      "Epoch 8/20\n",
      "2/2 [==============================] - 0s 15ms/step - loss: 0.1029\n",
      "Epoch 9/20\n",
      "2/2 [==============================] - 0s 17ms/step - loss: 0.1066\n",
      "Epoch 10/20\n",
      "2/2 [==============================] - 0s 37ms/step - loss: 0.1032\n",
      "Epoch 11/20\n",
      "2/2 [==============================] - 0s 20ms/step - loss: 0.1268\n",
      "Epoch 12/20\n",
      "2/2 [==============================] - 0s 16ms/step - loss: 0.0764\n",
      "Epoch 13/20\n",
      "2/2 [==============================] - 0s 18ms/step - loss: 0.1685\n",
      "Epoch 14/20\n",
      "2/2 [==============================] - 0s 17ms/step - loss: 0.1646\n",
      "Epoch 15/20\n",
      "2/2 [==============================] - 0s 19ms/step - loss: 0.1608\n",
      "Epoch 16/20\n",
      "2/2 [==============================] - 0s 20ms/step - loss: 0.1555\n",
      "Epoch 17/20\n",
      "2/2 [==============================] - 0s 18ms/step - loss: 0.1578\n",
      "Epoch 18/20\n",
      "2/2 [==============================] - 0s 18ms/step - loss: 0.1600\n",
      "Epoch 19/20\n",
      "2/2 [==============================] - 0s 23ms/step - loss: 0.1551\n",
      "Epoch 20/20\n",
      "2/2 [==============================] - 0s 17ms/step - loss: 0.1558\n"
     ]
    },
    {
     "data": {
      "text/plain": [
       "<tensorflow.python.keras.callbacks.History at 0x1c793e70f40>"
      ]
     },
     "execution_count": 39,
     "metadata": {},
     "output_type": "execute_result"
    }
   ],
   "source": [
    "autoencoder.fit(x=scaled_df,\n",
    "                y=scaled_df,\n",
    "                epochs=20,\n",
    "                batch_size=128)"
   ]
  },
  {
   "cell_type": "markdown",
   "metadata": {},
   "source": [
    "# 8. Evaluación del modelo"
   ]
  },
  {
   "cell_type": "markdown",
   "metadata": {},
   "source": [
    "## 8.1 Predicción de cluster"
   ]
  },
  {
   "cell_type": "code",
   "execution_count": 40,
   "metadata": {},
   "outputs": [],
   "source": [
    "kmeans = KMeans(n_clusters=num_clusters, n_init=20) #n_init es el número de iteraciones que realiza KMeans con diferentes centroides\n",
    "y_pred = kmeans.fit_predict(encoder.predict(scaled_df))"
   ]
  },
  {
   "cell_type": "code",
   "execution_count": 41,
   "metadata": {},
   "outputs": [
    {
     "data": {
      "text/plain": [
       "array([0, 0, 0, 1, 0, 1, 0, 1, 0, 1, 0, 1, 1, 1, 0, 0, 0, 0, 0, 1, 0, 0,\n",
       "       0, 0, 1, 0, 1, 0, 1, 1, 0, 1, 0, 0, 0, 1, 0, 1, 0, 1, 1, 1, 0, 1,\n",
       "       1, 1, 1, 1, 1, 1, 1, 0, 1, 0, 1, 0, 1, 0, 1, 0, 1, 0, 1, 1, 0, 0,\n",
       "       1, 1, 0, 1, 1, 1, 1, 1, 0, 0, 1, 0, 1, 1, 0, 0, 0, 1, 1, 0, 1, 1,\n",
       "       1, 1, 1, 0, 0, 1, 1, 0, 1, 1, 0, 0, 1, 1, 1, 0, 0, 1, 1, 0, 0, 0,\n",
       "       1, 1, 1, 0, 1, 1, 1, 1, 1, 1, 0, 1, 1, 1, 1, 1, 0, 1, 0, 1, 0, 1,\n",
       "       1, 1, 0, 1, 1, 1, 0, 1, 1, 1, 1, 1, 0, 1, 0, 1, 1, 1, 0, 1, 1, 1,\n",
       "       1, 1, 0, 1, 0, 1, 1, 1, 0, 1, 0, 1, 0, 1, 1, 1, 0, 1, 0, 1, 1, 1,\n",
       "       0, 1, 0, 1, 1, 1, 0, 1, 1, 1, 1, 1, 1, 1, 1, 1, 0, 1, 1, 1, 1, 1,\n",
       "       0, 1])"
      ]
     },
     "execution_count": 41,
     "metadata": {},
     "output_type": "execute_result"
    }
   ],
   "source": [
    "y_pred"
   ]
  },
  {
   "cell_type": "code",
   "execution_count": 42,
   "metadata": {},
   "outputs": [],
   "source": [
    "df[\"Segmento cliente\"]=y_pred"
   ]
  },
  {
   "cell_type": "code",
   "execution_count": 43,
   "metadata": {},
   "outputs": [
    {
     "data": {
      "text/html": [
       "<div>\n",
       "<style scoped>\n",
       "    .dataframe tbody tr th:only-of-type {\n",
       "        vertical-align: middle;\n",
       "    }\n",
       "\n",
       "    .dataframe tbody tr th {\n",
       "        vertical-align: top;\n",
       "    }\n",
       "\n",
       "    .dataframe thead th {\n",
       "        text-align: right;\n",
       "    }\n",
       "</style>\n",
       "<table border=\"1\" class=\"dataframe\">\n",
       "  <thead>\n",
       "    <tr style=\"text-align: right;\">\n",
       "      <th></th>\n",
       "      <th>Gender</th>\n",
       "      <th>Age</th>\n",
       "      <th>Annual Income (k$)</th>\n",
       "      <th>Spending Score (1-100)</th>\n",
       "      <th>Segmento cliente</th>\n",
       "    </tr>\n",
       "  </thead>\n",
       "  <tbody>\n",
       "    <tr>\n",
       "      <th>0</th>\n",
       "      <td>Male</td>\n",
       "      <td>19</td>\n",
       "      <td>15</td>\n",
       "      <td>39</td>\n",
       "      <td>0</td>\n",
       "    </tr>\n",
       "    <tr>\n",
       "      <th>1</th>\n",
       "      <td>Male</td>\n",
       "      <td>21</td>\n",
       "      <td>15</td>\n",
       "      <td>81</td>\n",
       "      <td>0</td>\n",
       "    </tr>\n",
       "    <tr>\n",
       "      <th>2</th>\n",
       "      <td>Female</td>\n",
       "      <td>20</td>\n",
       "      <td>16</td>\n",
       "      <td>6</td>\n",
       "      <td>0</td>\n",
       "    </tr>\n",
       "    <tr>\n",
       "      <th>3</th>\n",
       "      <td>Female</td>\n",
       "      <td>23</td>\n",
       "      <td>16</td>\n",
       "      <td>77</td>\n",
       "      <td>1</td>\n",
       "    </tr>\n",
       "    <tr>\n",
       "      <th>4</th>\n",
       "      <td>Female</td>\n",
       "      <td>31</td>\n",
       "      <td>17</td>\n",
       "      <td>40</td>\n",
       "      <td>0</td>\n",
       "    </tr>\n",
       "    <tr>\n",
       "      <th>...</th>\n",
       "      <td>...</td>\n",
       "      <td>...</td>\n",
       "      <td>...</td>\n",
       "      <td>...</td>\n",
       "      <td>...</td>\n",
       "    </tr>\n",
       "    <tr>\n",
       "      <th>195</th>\n",
       "      <td>Female</td>\n",
       "      <td>35</td>\n",
       "      <td>120</td>\n",
       "      <td>79</td>\n",
       "      <td>1</td>\n",
       "    </tr>\n",
       "    <tr>\n",
       "      <th>196</th>\n",
       "      <td>Female</td>\n",
       "      <td>45</td>\n",
       "      <td>126</td>\n",
       "      <td>28</td>\n",
       "      <td>1</td>\n",
       "    </tr>\n",
       "    <tr>\n",
       "      <th>197</th>\n",
       "      <td>Male</td>\n",
       "      <td>32</td>\n",
       "      <td>126</td>\n",
       "      <td>74</td>\n",
       "      <td>1</td>\n",
       "    </tr>\n",
       "    <tr>\n",
       "      <th>198</th>\n",
       "      <td>Male</td>\n",
       "      <td>32</td>\n",
       "      <td>137</td>\n",
       "      <td>18</td>\n",
       "      <td>0</td>\n",
       "    </tr>\n",
       "    <tr>\n",
       "      <th>199</th>\n",
       "      <td>Male</td>\n",
       "      <td>30</td>\n",
       "      <td>137</td>\n",
       "      <td>83</td>\n",
       "      <td>1</td>\n",
       "    </tr>\n",
       "  </tbody>\n",
       "</table>\n",
       "<p>200 rows × 5 columns</p>\n",
       "</div>"
      ],
      "text/plain": [
       "     Gender  Age  Annual Income (k$)  Spending Score (1-100)  Segmento cliente\n",
       "0      Male   19                  15                      39                 0\n",
       "1      Male   21                  15                      81                 0\n",
       "2    Female   20                  16                       6                 0\n",
       "3    Female   23                  16                      77                 1\n",
       "4    Female   31                  17                      40                 0\n",
       "..      ...  ...                 ...                     ...               ...\n",
       "195  Female   35                 120                      79                 1\n",
       "196  Female   45                 126                      28                 1\n",
       "197    Male   32                 126                      74                 1\n",
       "198    Male   32                 137                      18                 0\n",
       "199    Male   30                 137                      83                 1\n",
       "\n",
       "[200 rows x 5 columns]"
      ]
     },
     "execution_count": 43,
     "metadata": {},
     "output_type": "execute_result"
    }
   ],
   "source": [
    "df"
   ]
  },
  {
   "cell_type": "code",
   "execution_count": 44,
   "metadata": {},
   "outputs": [
    {
     "data": {
      "text/plain": [
       "<matplotlib.axes._subplots.AxesSubplot at 0x1c794499250>"
      ]
     },
     "execution_count": 44,
     "metadata": {},
     "output_type": "execute_result"
    },
    {
     "data": {
      "image/png": "[encoded data removed]",
      "text/plain": [
       "<Figure size 432x288 with 1 Axes>"
      ]
     },
     "metadata": {
      "needs_background": "light"
     },
     "output_type": "display_data"
    }
   ],
   "source": [
    "#Visualizamos el cluster 0 respecto al género\n",
    "filtered_df=df[df[\"Segmento cliente\"]==0]\n",
    "sns.countplot(data=filtered_df,x=filtered_df[\"Gender\"])"
   ]
  },
  {
   "cell_type": "code",
   "execution_count": 45,
   "metadata": {},
   "outputs": [
    {
     "data": {
      "text/plain": [
       "<matplotlib.axes._subplots.AxesSubplot at 0x1c79444f6d0>"
      ]
     },
     "execution_count": 45,
     "metadata": {},
     "output_type": "execute_result"
    },
    {
     "data": {
      "image/png": "[encoded data removed]",
      "text/plain": [
       "<Figure size 432x288 with 1 Axes>"
      ]
     },
     "metadata": {
      "needs_background": "light"
     },
     "output_type": "display_data"
    }
   ],
   "source": [
    "#Visualizamos el cluster 1 respecto al género\n",
    "filtered_df=df[df[\"Segmento cliente\"]==1]\n",
    "sns.countplot(data=filtered_df,x=filtered_df[\"Gender\"])"
   ]
  },
  {
   "cell_type": "code",
   "execution_count": 46,
   "metadata": {},
   "outputs": [
    {
     "data": {
      "text/plain": [
       "<matplotlib.axes._subplots.AxesSubplot at 0x1c794528c10>"
      ]
     },
     "execution_count": 46,
     "metadata": {},
     "output_type": "execute_result"
    },
    {
     "data": {
      "image/png": "[encoded data removed]",
      "text/plain": [
       "<Figure size 432x288 with 1 Axes>"
      ]
     },
     "metadata": {
      "needs_background": "light"
     },
     "output_type": "display_data"
    }
   ],
   "source": [
    "#Visualizamos el cluster 0 respecto al salario anual\n",
    "filtered_df=df[df[\"Segmento cliente\"]==0]\n",
    "sns.distplot(filtered_df[\"Annual Income (k$)\"],norm_hist=True)"
   ]
  },
  {
   "cell_type": "code",
   "execution_count": 47,
   "metadata": {
    "scrolled": true
   },
   "outputs": [
    {
     "data": {
      "text/plain": [
       "<matplotlib.axes._subplots.AxesSubplot at 0x1c79458a8e0>"
      ]
     },
     "execution_count": 47,
     "metadata": {},
     "output_type": "execute_result"
    },
    {
     "data": {
      "image/png": "[encoded data removed]",
      "text/plain": [
       "<Figure size 432x288 with 1 Axes>"
      ]
     },
     "metadata": {
      "needs_background": "light"
     },
     "output_type": "display_data"
    }
   ],
   "source": [
    "#Visualizamos el cluster 1 respecto al salario anual\n",
    "filtered_df=df[df[\"Segmento cliente\"]==1]\n",
    "sns.distplot(filtered_df[\"Annual Income (k$)\"],norm_hist=True)"
   ]
  },
  {
   "cell_type": "code",
   "execution_count": 48,
   "metadata": {
    "scrolled": true
   },
   "outputs": [
    {
     "data": {
      "text/plain": [
       "<matplotlib.axes._subplots.AxesSubplot at 0x1c793e5b4f0>"
      ]
     },
     "execution_count": 48,
     "metadata": {},
     "output_type": "execute_result"
    },
    {
     "data": {
      "image/png": "[encoded data removed]",
      "text/plain": [
       "<Figure size 432x288 with 1 Axes>"
      ]
     },
     "metadata": {
      "needs_background": "light"
     },
     "output_type": "display_data"
    }
   ],
   "source": [
    "#Visualizamos el cluster 0 respecto al comportamiento de gasto\n",
    "filtered_df=df[df[\"Segmento cliente\"]==0]\n",
    "sns.distplot(filtered_df[\"Spending Score (1-100)\"],norm_hist=True)"
   ]
  },
  {
   "cell_type": "code",
   "execution_count": 49,
   "metadata": {
    "scrolled": true
   },
   "outputs": [
    {
     "data": {
      "text/plain": [
       "<matplotlib.axes._subplots.AxesSubplot at 0x1c793ddcdc0>"
      ]
     },
     "execution_count": 49,
     "metadata": {},
     "output_type": "execute_result"
    },
    {
     "data": {
      "image/png": "[encoded data removed]",
      "text/plain": [
       "<Figure size 432x288 with 1 Axes>"
      ]
     },
     "metadata": {
      "needs_background": "light"
     },
     "output_type": "display_data"
    }
   ],
   "source": [
    "#Visualizamos el cluster 1 respecto al comportamiento de gasto\n",
    "filtered_df=df[df[\"Segmento cliente\"]==1]\n",
    "sns.distplot(filtered_df[\"Spending Score (1-100)\"],norm_hist=True)"
   ]
  },
  {
   "cell_type": "markdown",
   "metadata": {},
   "source": [
    "Podemos decir que el segmento de cliente 1 está enfocado en mujeres con un comportamiento de gasto elevado"
   ]
  }
 ],
 "metadata": {
  "kernelspec": {
   "display_name": "Python 3 (ipykernel)",
   "language": "python",
   "name": "python3"
  },
  "language_info": {
   "codemirror_mode": {
    "name": "ipython",
    "version": 3
   },
   "file_extension": ".py",
   "mimetype": "text/x-python",
   "name": "python",
   "nbconvert_exporter": "python",
   "pygments_lexer": "ipython3",
   "version": "3.11.5"
  }
 },
 "nbformat": 4,
 "nbformat_minor": 2
}
