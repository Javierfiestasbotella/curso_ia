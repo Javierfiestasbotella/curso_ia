{
 "cells": [
  {
   "cell_type": "markdown",
   "metadata": {},
   "source": [
    "# 1.Importación librerías"
   ]
  },
  {
   "cell_type": "code",
   "execution_count": 95,
   "metadata": {},
   "outputs": [],
   "source": [
    "import pandas as pd\n",
    "import numpy as np\n",
    "import matplotlib.pyplot as plt\n",
    "import tensorflow as tf\n",
    "import os"
   ]
  },
  {
   "cell_type": "markdown",
   "metadata": {},
   "source": [
    "# 2.Importación fuente de datos"
   ]
  },
  {
   "cell_type": "code",
   "execution_count": 96,
   "metadata": {},
   "outputs": [],
   "source": [
    "zip_path = tf.keras.utils.get_file(\n",
    "    origin='https://storage.googleapis.com/tensorflow/tf-keras-datasets/jena_climate_2009_2016.csv.zip',\n",
    "    fname='jena_climate_2009_2016.csv.zip',\n",
    "    extract=True)\n",
    "csv_path, _ = os.path.splitext(zip_path)"
   ]
  },
  {
   "cell_type": "code",
   "execution_count": 97,
   "metadata": {},
   "outputs": [],
   "source": [
    "df = pd.read_csv(csv_path)"
   ]
  },
  {
   "cell_type": "code",
   "execution_count": 98,
   "metadata": {},
   "outputs": [
    {
     "data": {
      "text/html": [
       "<div>\n",
       "<style scoped>\n",
       "    .dataframe tbody tr th:only-of-type {\n",
       "        vertical-align: middle;\n",
       "    }\n",
       "\n",
       "    .dataframe tbody tr th {\n",
       "        vertical-align: top;\n",
       "    }\n",
       "\n",
       "    .dataframe thead th {\n",
       "        text-align: right;\n",
       "    }\n",
       "</style>\n",
       "<table border=\"1\" class=\"dataframe\">\n",
       "  <thead>\n",
       "    <tr style=\"text-align: right;\">\n",
       "      <th></th>\n",
       "      <th>Date Time</th>\n",
       "      <th>p (mbar)</th>\n",
       "      <th>T (degC)</th>\n",
       "      <th>Tpot (K)</th>\n",
       "      <th>Tdew (degC)</th>\n",
       "      <th>rh (%)</th>\n",
       "      <th>VPmax (mbar)</th>\n",
       "      <th>VPact (mbar)</th>\n",
       "      <th>VPdef (mbar)</th>\n",
       "      <th>sh (g/kg)</th>\n",
       "      <th>H2OC (mmol/mol)</th>\n",
       "      <th>rho (g/m**3)</th>\n",
       "      <th>wv (m/s)</th>\n",
       "      <th>max. wv (m/s)</th>\n",
       "      <th>wd (deg)</th>\n",
       "    </tr>\n",
       "  </thead>\n",
       "  <tbody>\n",
       "    <tr>\n",
       "      <th>0</th>\n",
       "      <td>01.01.2009 00:10:00</td>\n",
       "      <td>996.52</td>\n",
       "      <td>-8.02</td>\n",
       "      <td>265.40</td>\n",
       "      <td>-8.90</td>\n",
       "      <td>93.3</td>\n",
       "      <td>3.33</td>\n",
       "      <td>3.11</td>\n",
       "      <td>0.22</td>\n",
       "      <td>1.94</td>\n",
       "      <td>3.12</td>\n",
       "      <td>1307.75</td>\n",
       "      <td>1.03</td>\n",
       "      <td>1.75</td>\n",
       "      <td>152.3</td>\n",
       "    </tr>\n",
       "    <tr>\n",
       "      <th>1</th>\n",
       "      <td>01.01.2009 00:20:00</td>\n",
       "      <td>996.57</td>\n",
       "      <td>-8.41</td>\n",
       "      <td>265.01</td>\n",
       "      <td>-9.28</td>\n",
       "      <td>93.4</td>\n",
       "      <td>3.23</td>\n",
       "      <td>3.02</td>\n",
       "      <td>0.21</td>\n",
       "      <td>1.89</td>\n",
       "      <td>3.03</td>\n",
       "      <td>1309.80</td>\n",
       "      <td>0.72</td>\n",
       "      <td>1.50</td>\n",
       "      <td>136.1</td>\n",
       "    </tr>\n",
       "    <tr>\n",
       "      <th>2</th>\n",
       "      <td>01.01.2009 00:30:00</td>\n",
       "      <td>996.53</td>\n",
       "      <td>-8.51</td>\n",
       "      <td>264.91</td>\n",
       "      <td>-9.31</td>\n",
       "      <td>93.9</td>\n",
       "      <td>3.21</td>\n",
       "      <td>3.01</td>\n",
       "      <td>0.20</td>\n",
       "      <td>1.88</td>\n",
       "      <td>3.02</td>\n",
       "      <td>1310.24</td>\n",
       "      <td>0.19</td>\n",
       "      <td>0.63</td>\n",
       "      <td>171.6</td>\n",
       "    </tr>\n",
       "    <tr>\n",
       "      <th>3</th>\n",
       "      <td>01.01.2009 00:40:00</td>\n",
       "      <td>996.51</td>\n",
       "      <td>-8.31</td>\n",
       "      <td>265.12</td>\n",
       "      <td>-9.07</td>\n",
       "      <td>94.2</td>\n",
       "      <td>3.26</td>\n",
       "      <td>3.07</td>\n",
       "      <td>0.19</td>\n",
       "      <td>1.92</td>\n",
       "      <td>3.08</td>\n",
       "      <td>1309.19</td>\n",
       "      <td>0.34</td>\n",
       "      <td>0.50</td>\n",
       "      <td>198.0</td>\n",
       "    </tr>\n",
       "    <tr>\n",
       "      <th>4</th>\n",
       "      <td>01.01.2009 00:50:00</td>\n",
       "      <td>996.51</td>\n",
       "      <td>-8.27</td>\n",
       "      <td>265.15</td>\n",
       "      <td>-9.04</td>\n",
       "      <td>94.1</td>\n",
       "      <td>3.27</td>\n",
       "      <td>3.08</td>\n",
       "      <td>0.19</td>\n",
       "      <td>1.92</td>\n",
       "      <td>3.09</td>\n",
       "      <td>1309.00</td>\n",
       "      <td>0.32</td>\n",
       "      <td>0.63</td>\n",
       "      <td>214.3</td>\n",
       "    </tr>\n",
       "  </tbody>\n",
       "</table>\n",
       "</div>"
      ],
      "text/plain": [
       "             Date Time  p (mbar)  T (degC)  Tpot (K)  Tdew (degC)  rh (%)  \\\n",
       "0  01.01.2009 00:10:00    996.52     -8.02    265.40        -8.90    93.3   \n",
       "1  01.01.2009 00:20:00    996.57     -8.41    265.01        -9.28    93.4   \n",
       "2  01.01.2009 00:30:00    996.53     -8.51    264.91        -9.31    93.9   \n",
       "3  01.01.2009 00:40:00    996.51     -8.31    265.12        -9.07    94.2   \n",
       "4  01.01.2009 00:50:00    996.51     -8.27    265.15        -9.04    94.1   \n",
       "\n",
       "   VPmax (mbar)  VPact (mbar)  VPdef (mbar)  sh (g/kg)  H2OC (mmol/mol)  \\\n",
       "0          3.33          3.11          0.22       1.94             3.12   \n",
       "1          3.23          3.02          0.21       1.89             3.03   \n",
       "2          3.21          3.01          0.20       1.88             3.02   \n",
       "3          3.26          3.07          0.19       1.92             3.08   \n",
       "4          3.27          3.08          0.19       1.92             3.09   \n",
       "\n",
       "   rho (g/m**3)  wv (m/s)  max. wv (m/s)  wd (deg)  \n",
       "0       1307.75      1.03           1.75     152.3  \n",
       "1       1309.80      0.72           1.50     136.1  \n",
       "2       1310.24      0.19           0.63     171.6  \n",
       "3       1309.19      0.34           0.50     198.0  \n",
       "4       1309.00      0.32           0.63     214.3  "
      ]
     },
     "execution_count": 98,
     "metadata": {},
     "output_type": "execute_result"
    }
   ],
   "source": [
    "df.head()"
   ]
  },
  {
   "cell_type": "code",
   "execution_count": 99,
   "metadata": {},
   "outputs": [
    {
     "name": "stdout",
     "output_type": "stream",
     "text": [
      "<class 'pandas.core.frame.DataFrame'>\n",
      "RangeIndex: 420551 entries, 0 to 420550\n",
      "Data columns (total 15 columns):\n",
      " #   Column           Non-Null Count   Dtype  \n",
      "---  ------           --------------   -----  \n",
      " 0   Date Time        420551 non-null  object \n",
      " 1   p (mbar)         420551 non-null  float64\n",
      " 2   T (degC)         420551 non-null  float64\n",
      " 3   Tpot (K)         420551 non-null  float64\n",
      " 4   Tdew (degC)      420551 non-null  float64\n",
      " 5   rh (%)           420551 non-null  float64\n",
      " 6   VPmax (mbar)     420551 non-null  float64\n",
      " 7   VPact (mbar)     420551 non-null  float64\n",
      " 8   VPdef (mbar)     420551 non-null  float64\n",
      " 9   sh (g/kg)        420551 non-null  float64\n",
      " 10  H2OC (mmol/mol)  420551 non-null  float64\n",
      " 11  rho (g/m**3)     420551 non-null  float64\n",
      " 12  wv (m/s)         420551 non-null  float64\n",
      " 13  max. wv (m/s)    420551 non-null  float64\n",
      " 14  wd (deg)         420551 non-null  float64\n",
      "dtypes: float64(14), object(1)\n",
      "memory usage: 48.1+ MB\n"
     ]
    }
   ],
   "source": [
    "df.info()"
   ]
  },
  {
   "cell_type": "code",
   "execution_count": 100,
   "metadata": {},
   "outputs": [
    {
     "data": {
      "text/plain": [
       "4320.0"
      ]
     },
     "execution_count": 100,
     "metadata": {},
     "output_type": "execute_result"
    }
   ],
   "source": [
    "60/10*24*30 #Número muestras de 10' para completar 1 mes"
   ]
  },
  {
   "cell_type": "code",
   "execution_count": 101,
   "metadata": {},
   "outputs": [],
   "source": [
    "# slice [start:stop:step], cogemos desde el índice 0 cada 144 registros para tener datos diarios\n",
    "# slice [start:stop:step], cogemos desde el índice 0 cada 4320 registros para tener datos mensuales\n",
    "df = df[0::4320]\n",
    "df.index = pd.to_datetime(df['Date Time'], format='%d.%m.%Y %H:%M:%S')\n",
    "df=df.drop([\"Date Time\"],axis=1)"
   ]
  },
  {
   "cell_type": "code",
   "execution_count": 102,
   "metadata": {},
   "outputs": [
    {
     "data": {
      "text/html": [
       "<div>\n",
       "<style scoped>\n",
       "    .dataframe tbody tr th:only-of-type {\n",
       "        vertical-align: middle;\n",
       "    }\n",
       "\n",
       "    .dataframe tbody tr th {\n",
       "        vertical-align: top;\n",
       "    }\n",
       "\n",
       "    .dataframe thead th {\n",
       "        text-align: right;\n",
       "    }\n",
       "</style>\n",
       "<table border=\"1\" class=\"dataframe\">\n",
       "  <thead>\n",
       "    <tr style=\"text-align: right;\">\n",
       "      <th></th>\n",
       "      <th>p (mbar)</th>\n",
       "      <th>T (degC)</th>\n",
       "      <th>Tpot (K)</th>\n",
       "      <th>Tdew (degC)</th>\n",
       "      <th>rh (%)</th>\n",
       "      <th>VPmax (mbar)</th>\n",
       "      <th>VPact (mbar)</th>\n",
       "      <th>VPdef (mbar)</th>\n",
       "      <th>sh (g/kg)</th>\n",
       "      <th>H2OC (mmol/mol)</th>\n",
       "      <th>rho (g/m**3)</th>\n",
       "      <th>wv (m/s)</th>\n",
       "      <th>max. wv (m/s)</th>\n",
       "      <th>wd (deg)</th>\n",
       "    </tr>\n",
       "    <tr>\n",
       "      <th>Date Time</th>\n",
       "      <th></th>\n",
       "      <th></th>\n",
       "      <th></th>\n",
       "      <th></th>\n",
       "      <th></th>\n",
       "      <th></th>\n",
       "      <th></th>\n",
       "      <th></th>\n",
       "      <th></th>\n",
       "      <th></th>\n",
       "      <th></th>\n",
       "      <th></th>\n",
       "      <th></th>\n",
       "      <th></th>\n",
       "    </tr>\n",
       "  </thead>\n",
       "  <tbody>\n",
       "    <tr>\n",
       "      <th>2009-01-01 00:10:00</th>\n",
       "      <td>996.52</td>\n",
       "      <td>-8.02</td>\n",
       "      <td>265.40</td>\n",
       "      <td>-8.90</td>\n",
       "      <td>93.3</td>\n",
       "      <td>3.33</td>\n",
       "      <td>3.11</td>\n",
       "      <td>0.22</td>\n",
       "      <td>1.94</td>\n",
       "      <td>3.12</td>\n",
       "      <td>1307.75</td>\n",
       "      <td>1.03</td>\n",
       "      <td>1.75</td>\n",
       "      <td>152.30</td>\n",
       "    </tr>\n",
       "    <tr>\n",
       "      <th>2009-01-31 00:10:00</th>\n",
       "      <td>997.40</td>\n",
       "      <td>-2.50</td>\n",
       "      <td>270.86</td>\n",
       "      <td>-4.01</td>\n",
       "      <td>89.3</td>\n",
       "      <td>5.08</td>\n",
       "      <td>4.54</td>\n",
       "      <td>0.54</td>\n",
       "      <td>2.83</td>\n",
       "      <td>4.55</td>\n",
       "      <td>1281.53</td>\n",
       "      <td>2.13</td>\n",
       "      <td>3.25</td>\n",
       "      <td>39.53</td>\n",
       "    </tr>\n",
       "    <tr>\n",
       "      <th>2009-03-02 00:10:00</th>\n",
       "      <td>984.11</td>\n",
       "      <td>3.60</td>\n",
       "      <td>278.03</td>\n",
       "      <td>2.07</td>\n",
       "      <td>89.7</td>\n",
       "      <td>7.91</td>\n",
       "      <td>7.09</td>\n",
       "      <td>0.81</td>\n",
       "      <td>4.50</td>\n",
       "      <td>7.21</td>\n",
       "      <td>1235.34</td>\n",
       "      <td>2.24</td>\n",
       "      <td>3.38</td>\n",
       "      <td>177.60</td>\n",
       "    </tr>\n",
       "    <tr>\n",
       "      <th>2009-04-01 00:10:00</th>\n",
       "      <td>994.63</td>\n",
       "      <td>3.05</td>\n",
       "      <td>276.64</td>\n",
       "      <td>-0.48</td>\n",
       "      <td>77.5</td>\n",
       "      <td>7.61</td>\n",
       "      <td>5.90</td>\n",
       "      <td>1.71</td>\n",
       "      <td>3.70</td>\n",
       "      <td>5.93</td>\n",
       "      <td>1251.62</td>\n",
       "      <td>0.35</td>\n",
       "      <td>0.63</td>\n",
       "      <td>118.50</td>\n",
       "    </tr>\n",
       "    <tr>\n",
       "      <th>2009-05-01 00:10:00</th>\n",
       "      <td>992.96</td>\n",
       "      <td>9.66</td>\n",
       "      <td>283.39</td>\n",
       "      <td>8.63</td>\n",
       "      <td>93.3</td>\n",
       "      <td>12.02</td>\n",
       "      <td>11.21</td>\n",
       "      <td>0.81</td>\n",
       "      <td>7.05</td>\n",
       "      <td>11.29</td>\n",
       "      <td>1217.85</td>\n",
       "      <td>0.70</td>\n",
       "      <td>1.13</td>\n",
       "      <td>138.80</td>\n",
       "    </tr>\n",
       "  </tbody>\n",
       "</table>\n",
       "</div>"
      ],
      "text/plain": [
       "                     p (mbar)  T (degC)  Tpot (K)  Tdew (degC)  rh (%)  \\\n",
       "Date Time                                                                \n",
       "2009-01-01 00:10:00    996.52     -8.02    265.40        -8.90    93.3   \n",
       "2009-01-31 00:10:00    997.40     -2.50    270.86        -4.01    89.3   \n",
       "2009-03-02 00:10:00    984.11      3.60    278.03         2.07    89.7   \n",
       "2009-04-01 00:10:00    994.63      3.05    276.64        -0.48    77.5   \n",
       "2009-05-01 00:10:00    992.96      9.66    283.39         8.63    93.3   \n",
       "\n",
       "                     VPmax (mbar)  VPact (mbar)  VPdef (mbar)  sh (g/kg)  \\\n",
       "Date Time                                                                  \n",
       "2009-01-01 00:10:00          3.33          3.11          0.22       1.94   \n",
       "2009-01-31 00:10:00          5.08          4.54          0.54       2.83   \n",
       "2009-03-02 00:10:00          7.91          7.09          0.81       4.50   \n",
       "2009-04-01 00:10:00          7.61          5.90          1.71       3.70   \n",
       "2009-05-01 00:10:00         12.02         11.21          0.81       7.05   \n",
       "\n",
       "                     H2OC (mmol/mol)  rho (g/m**3)  wv (m/s)  max. wv (m/s)  \\\n",
       "Date Time                                                                     \n",
       "2009-01-01 00:10:00             3.12       1307.75      1.03           1.75   \n",
       "2009-01-31 00:10:00             4.55       1281.53      2.13           3.25   \n",
       "2009-03-02 00:10:00             7.21       1235.34      2.24           3.38   \n",
       "2009-04-01 00:10:00             5.93       1251.62      0.35           0.63   \n",
       "2009-05-01 00:10:00            11.29       1217.85      0.70           1.13   \n",
       "\n",
       "                     wd (deg)  \n",
       "Date Time                      \n",
       "2009-01-01 00:10:00    152.30  \n",
       "2009-01-31 00:10:00     39.53  \n",
       "2009-03-02 00:10:00    177.60  \n",
       "2009-04-01 00:10:00    118.50  \n",
       "2009-05-01 00:10:00    138.80  "
      ]
     },
     "execution_count": 102,
     "metadata": {},
     "output_type": "execute_result"
    }
   ],
   "source": [
    "df.head()"
   ]
  },
  {
   "cell_type": "markdown",
   "metadata": {},
   "source": [
    "# 3.Preprocesado"
   ]
  },
  {
   "cell_type": "markdown",
   "metadata": {},
   "source": [
    "## 3.1Visualización de la secuencia"
   ]
  },
  {
   "cell_type": "code",
   "execution_count": 30,
   "metadata": {},
   "outputs": [],
   "source": [
    "#Nos quedaremos únicamente con la columna \"T (degC)\" para hacer el forecast de 1 única variable"
   ]
  },
  {
   "cell_type": "code",
   "execution_count": 103,
   "metadata": {},
   "outputs": [],
   "source": [
    "df = df[\"T (degC)\"].to_frame()"
   ]
  },
  {
   "cell_type": "code",
   "execution_count": 104,
   "metadata": {},
   "outputs": [
    {
     "data": {
      "text/html": [
       "<div>\n",
       "<style scoped>\n",
       "    .dataframe tbody tr th:only-of-type {\n",
       "        vertical-align: middle;\n",
       "    }\n",
       "\n",
       "    .dataframe tbody tr th {\n",
       "        vertical-align: top;\n",
       "    }\n",
       "\n",
       "    .dataframe thead th {\n",
       "        text-align: right;\n",
       "    }\n",
       "</style>\n",
       "<table border=\"1\" class=\"dataframe\">\n",
       "  <thead>\n",
       "    <tr style=\"text-align: right;\">\n",
       "      <th></th>\n",
       "      <th>T (degC)</th>\n",
       "    </tr>\n",
       "    <tr>\n",
       "      <th>Date Time</th>\n",
       "      <th></th>\n",
       "    </tr>\n",
       "  </thead>\n",
       "  <tbody>\n",
       "    <tr>\n",
       "      <th>2009-01-01 00:10:00</th>\n",
       "      <td>-8.02</td>\n",
       "    </tr>\n",
       "    <tr>\n",
       "      <th>2009-01-31 00:10:00</th>\n",
       "      <td>-2.50</td>\n",
       "    </tr>\n",
       "    <tr>\n",
       "      <th>2009-03-02 00:10:00</th>\n",
       "      <td>3.60</td>\n",
       "    </tr>\n",
       "    <tr>\n",
       "      <th>2009-04-01 00:10:00</th>\n",
       "      <td>3.05</td>\n",
       "    </tr>\n",
       "    <tr>\n",
       "      <th>2009-05-01 00:10:00</th>\n",
       "      <td>9.66</td>\n",
       "    </tr>\n",
       "    <tr>\n",
       "      <th>...</th>\n",
       "      <td>...</td>\n",
       "    </tr>\n",
       "    <tr>\n",
       "      <th>2016-08-20 10:10:00</th>\n",
       "      <td>21.81</td>\n",
       "    </tr>\n",
       "    <tr>\n",
       "      <th>2016-09-19 10:10:00</th>\n",
       "      <td>11.80</td>\n",
       "    </tr>\n",
       "    <tr>\n",
       "      <th>2016-10-19 10:10:00</th>\n",
       "      <td>8.81</td>\n",
       "    </tr>\n",
       "    <tr>\n",
       "      <th>2016-11-21 12:20:00</th>\n",
       "      <td>9.62</td>\n",
       "    </tr>\n",
       "    <tr>\n",
       "      <th>2016-12-21 12:20:00</th>\n",
       "      <td>1.02</td>\n",
       "    </tr>\n",
       "  </tbody>\n",
       "</table>\n",
       "<p>98 rows × 1 columns</p>\n",
       "</div>"
      ],
      "text/plain": [
       "                     T (degC)\n",
       "Date Time                    \n",
       "2009-01-01 00:10:00     -8.02\n",
       "2009-01-31 00:10:00     -2.50\n",
       "2009-03-02 00:10:00      3.60\n",
       "2009-04-01 00:10:00      3.05\n",
       "2009-05-01 00:10:00      9.66\n",
       "...                       ...\n",
       "2016-08-20 10:10:00     21.81\n",
       "2016-09-19 10:10:00     11.80\n",
       "2016-10-19 10:10:00      8.81\n",
       "2016-11-21 12:20:00      9.62\n",
       "2016-12-21 12:20:00      1.02\n",
       "\n",
       "[98 rows x 1 columns]"
      ]
     },
     "execution_count": 104,
     "metadata": {},
     "output_type": "execute_result"
    }
   ],
   "source": [
    "df"
   ]
  },
  {
   "cell_type": "code",
   "execution_count": 105,
   "metadata": {},
   "outputs": [
    {
     "data": {
      "text/plain": [
       "<matplotlib.axes._subplots.AxesSubplot at 0x1aa46cd2730>"
      ]
     },
     "execution_count": 105,
     "metadata": {},
     "output_type": "execute_result"
    },
    {
     "data": {
      "image/png": "[encoded data removed]",
      "text/plain": [
       "<Figure size 864x576 with 1 Axes>"
      ]
     },
     "metadata": {
      "needs_background": "light"
     },
     "output_type": "display_data"
    }
   ],
   "source": [
    "df.plot(figsize=(12,8))"
   ]
  },
  {
   "cell_type": "markdown",
   "metadata": {},
   "source": [
    "# 4.Train Test Split"
   ]
  },
  {
   "cell_type": "code",
   "execution_count": 106,
   "metadata": {},
   "outputs": [
    {
     "data": {
      "text/plain": [
       "98"
      ]
     },
     "execution_count": 106,
     "metadata": {},
     "output_type": "execute_result"
    }
   ],
   "source": [
    "len(df)"
   ]
  },
  {
   "cell_type": "code",
   "execution_count": 107,
   "metadata": {},
   "outputs": [
    {
     "data": {
      "text/plain": [
       "8.166666666666666"
      ]
     },
     "execution_count": 107,
     "metadata": {},
     "output_type": "execute_result"
    }
   ],
   "source": [
    "98/(12)"
   ]
  },
  {
   "cell_type": "code",
   "execution_count": 108,
   "metadata": {},
   "outputs": [],
   "source": [
    "#El dataset es a nivel mensual (98 puntos = 8,17 años de datos), seleccionamos un conjunto de test de 1,5 años =  18 muestras\n",
    "tamaño_test = 18"
   ]
  },
  {
   "cell_type": "code",
   "execution_count": 109,
   "metadata": {},
   "outputs": [],
   "source": [
    "test_ind = len(df)- tamaño_test"
   ]
  },
  {
   "cell_type": "code",
   "execution_count": 110,
   "metadata": {},
   "outputs": [
    {
     "data": {
      "text/plain": [
       "80"
      ]
     },
     "execution_count": 110,
     "metadata": {},
     "output_type": "execute_result"
    }
   ],
   "source": [
    "test_ind"
   ]
  },
  {
   "cell_type": "code",
   "execution_count": 111,
   "metadata": {},
   "outputs": [],
   "source": [
    "train = df.iloc[:test_ind]\n",
    "test = df.iloc[test_ind:]"
   ]
  },
  {
   "cell_type": "code",
   "execution_count": 112,
   "metadata": {},
   "outputs": [
    {
     "data": {
      "text/html": [
       "<div>\n",
       "<style scoped>\n",
       "    .dataframe tbody tr th:only-of-type {\n",
       "        vertical-align: middle;\n",
       "    }\n",
       "\n",
       "    .dataframe tbody tr th {\n",
       "        vertical-align: top;\n",
       "    }\n",
       "\n",
       "    .dataframe thead th {\n",
       "        text-align: right;\n",
       "    }\n",
       "</style>\n",
       "<table border=\"1\" class=\"dataframe\">\n",
       "  <thead>\n",
       "    <tr style=\"text-align: right;\">\n",
       "      <th></th>\n",
       "      <th>T (degC)</th>\n",
       "    </tr>\n",
       "    <tr>\n",
       "      <th>Date Time</th>\n",
       "      <th></th>\n",
       "    </tr>\n",
       "  </thead>\n",
       "  <tbody>\n",
       "    <tr>\n",
       "      <th>2009-01-01 00:10:00</th>\n",
       "      <td>-8.02</td>\n",
       "    </tr>\n",
       "    <tr>\n",
       "      <th>2009-01-31 00:10:00</th>\n",
       "      <td>-2.50</td>\n",
       "    </tr>\n",
       "    <tr>\n",
       "      <th>2009-03-02 00:10:00</th>\n",
       "      <td>3.60</td>\n",
       "    </tr>\n",
       "    <tr>\n",
       "      <th>2009-04-01 00:10:00</th>\n",
       "      <td>3.05</td>\n",
       "    </tr>\n",
       "    <tr>\n",
       "      <th>2009-05-01 00:10:00</th>\n",
       "      <td>9.66</td>\n",
       "    </tr>\n",
       "    <tr>\n",
       "      <th>...</th>\n",
       "      <td>...</td>\n",
       "    </tr>\n",
       "    <tr>\n",
       "      <th>2015-02-27 10:10:00</th>\n",
       "      <td>4.00</td>\n",
       "    </tr>\n",
       "    <tr>\n",
       "      <th>2015-03-29 10:10:00</th>\n",
       "      <td>11.26</td>\n",
       "    </tr>\n",
       "    <tr>\n",
       "      <th>2015-04-28 10:10:00</th>\n",
       "      <td>5.49</td>\n",
       "    </tr>\n",
       "    <tr>\n",
       "      <th>2015-05-28 10:10:00</th>\n",
       "      <td>15.03</td>\n",
       "    </tr>\n",
       "    <tr>\n",
       "      <th>2015-06-27 10:10:00</th>\n",
       "      <td>19.43</td>\n",
       "    </tr>\n",
       "  </tbody>\n",
       "</table>\n",
       "<p>80 rows × 1 columns</p>\n",
       "</div>"
      ],
      "text/plain": [
       "                     T (degC)\n",
       "Date Time                    \n",
       "2009-01-01 00:10:00     -8.02\n",
       "2009-01-31 00:10:00     -2.50\n",
       "2009-03-02 00:10:00      3.60\n",
       "2009-04-01 00:10:00      3.05\n",
       "2009-05-01 00:10:00      9.66\n",
       "...                       ...\n",
       "2015-02-27 10:10:00      4.00\n",
       "2015-03-29 10:10:00     11.26\n",
       "2015-04-28 10:10:00      5.49\n",
       "2015-05-28 10:10:00     15.03\n",
       "2015-06-27 10:10:00     19.43\n",
       "\n",
       "[80 rows x 1 columns]"
      ]
     },
     "execution_count": 112,
     "metadata": {},
     "output_type": "execute_result"
    }
   ],
   "source": [
    "train"
   ]
  },
  {
   "cell_type": "code",
   "execution_count": 113,
   "metadata": {},
   "outputs": [
    {
     "data": {
      "text/html": [
       "<div>\n",
       "<style scoped>\n",
       "    .dataframe tbody tr th:only-of-type {\n",
       "        vertical-align: middle;\n",
       "    }\n",
       "\n",
       "    .dataframe tbody tr th {\n",
       "        vertical-align: top;\n",
       "    }\n",
       "\n",
       "    .dataframe thead th {\n",
       "        text-align: right;\n",
       "    }\n",
       "</style>\n",
       "<table border=\"1\" class=\"dataframe\">\n",
       "  <thead>\n",
       "    <tr style=\"text-align: right;\">\n",
       "      <th></th>\n",
       "      <th>T (degC)</th>\n",
       "    </tr>\n",
       "    <tr>\n",
       "      <th>Date Time</th>\n",
       "      <th></th>\n",
       "    </tr>\n",
       "  </thead>\n",
       "  <tbody>\n",
       "    <tr>\n",
       "      <th>2015-07-27 10:10:00</th>\n",
       "      <td>15.89</td>\n",
       "    </tr>\n",
       "    <tr>\n",
       "      <th>2015-08-26 10:10:00</th>\n",
       "      <td>21.59</td>\n",
       "    </tr>\n",
       "    <tr>\n",
       "      <th>2015-09-25 10:10:00</th>\n",
       "      <td>12.02</td>\n",
       "    </tr>\n",
       "    <tr>\n",
       "      <th>2015-10-25 10:10:00</th>\n",
       "      <td>8.98</td>\n",
       "    </tr>\n",
       "    <tr>\n",
       "      <th>2015-11-24 10:10:00</th>\n",
       "      <td>0.36</td>\n",
       "    </tr>\n",
       "    <tr>\n",
       "      <th>2015-12-24 10:10:00</th>\n",
       "      <td>5.70</td>\n",
       "    </tr>\n",
       "    <tr>\n",
       "      <th>2016-01-23 10:10:00</th>\n",
       "      <td>2.29</td>\n",
       "    </tr>\n",
       "    <tr>\n",
       "      <th>2016-02-22 10:10:00</th>\n",
       "      <td>10.45</td>\n",
       "    </tr>\n",
       "    <tr>\n",
       "      <th>2016-03-23 10:10:00</th>\n",
       "      <td>5.41</td>\n",
       "    </tr>\n",
       "    <tr>\n",
       "      <th>2016-04-22 10:10:00</th>\n",
       "      <td>8.96</td>\n",
       "    </tr>\n",
       "    <tr>\n",
       "      <th>2016-05-22 10:10:00</th>\n",
       "      <td>23.70</td>\n",
       "    </tr>\n",
       "    <tr>\n",
       "      <th>2016-06-21 10:10:00</th>\n",
       "      <td>19.08</td>\n",
       "    </tr>\n",
       "    <tr>\n",
       "      <th>2016-07-21 10:10:00</th>\n",
       "      <td>19.95</td>\n",
       "    </tr>\n",
       "    <tr>\n",
       "      <th>2016-08-20 10:10:00</th>\n",
       "      <td>21.81</td>\n",
       "    </tr>\n",
       "    <tr>\n",
       "      <th>2016-09-19 10:10:00</th>\n",
       "      <td>11.80</td>\n",
       "    </tr>\n",
       "    <tr>\n",
       "      <th>2016-10-19 10:10:00</th>\n",
       "      <td>8.81</td>\n",
       "    </tr>\n",
       "    <tr>\n",
       "      <th>2016-11-21 12:20:00</th>\n",
       "      <td>9.62</td>\n",
       "    </tr>\n",
       "    <tr>\n",
       "      <th>2016-12-21 12:20:00</th>\n",
       "      <td>1.02</td>\n",
       "    </tr>\n",
       "  </tbody>\n",
       "</table>\n",
       "</div>"
      ],
      "text/plain": [
       "                     T (degC)\n",
       "Date Time                    \n",
       "2015-07-27 10:10:00     15.89\n",
       "2015-08-26 10:10:00     21.59\n",
       "2015-09-25 10:10:00     12.02\n",
       "2015-10-25 10:10:00      8.98\n",
       "2015-11-24 10:10:00      0.36\n",
       "2015-12-24 10:10:00      5.70\n",
       "2016-01-23 10:10:00      2.29\n",
       "2016-02-22 10:10:00     10.45\n",
       "2016-03-23 10:10:00      5.41\n",
       "2016-04-22 10:10:00      8.96\n",
       "2016-05-22 10:10:00     23.70\n",
       "2016-06-21 10:10:00     19.08\n",
       "2016-07-21 10:10:00     19.95\n",
       "2016-08-20 10:10:00     21.81\n",
       "2016-09-19 10:10:00     11.80\n",
       "2016-10-19 10:10:00      8.81\n",
       "2016-11-21 12:20:00      9.62\n",
       "2016-12-21 12:20:00      1.02"
      ]
     },
     "execution_count": 113,
     "metadata": {},
     "output_type": "execute_result"
    }
   ],
   "source": [
    "test"
   ]
  },
  {
   "cell_type": "markdown",
   "metadata": {},
   "source": [
    "# 5.Escalado"
   ]
  },
  {
   "cell_type": "code",
   "execution_count": 114,
   "metadata": {},
   "outputs": [],
   "source": [
    "from sklearn.preprocessing import MinMaxScaler"
   ]
  },
  {
   "cell_type": "code",
   "execution_count": 115,
   "metadata": {},
   "outputs": [],
   "source": [
    "scaler = MinMaxScaler()"
   ]
  },
  {
   "cell_type": "code",
   "execution_count": 116,
   "metadata": {},
   "outputs": [
    {
     "data": {
      "text/plain": [
       "MinMaxScaler()"
      ]
     },
     "execution_count": 116,
     "metadata": {},
     "output_type": "execute_result"
    }
   ],
   "source": [
    "# Solo utilizamos train data para el ajuste del escalado, sino estaríamos asumiendo información acerca del conjunto de test\n",
    "scaler.fit(train)"
   ]
  },
  {
   "cell_type": "code",
   "execution_count": 117,
   "metadata": {},
   "outputs": [],
   "source": [
    "scaled_train = scaler.transform(train)\n",
    "scaled_test = scaler.transform(test)"
   ]
  },
  {
   "cell_type": "code",
   "execution_count": 121,
   "metadata": {},
   "outputs": [
    {
     "data": {
      "text/plain": [
       "0.0"
      ]
     },
     "execution_count": 121,
     "metadata": {},
     "output_type": "execute_result"
    }
   ],
   "source": [
    "scaled_train.min()"
   ]
  },
  {
   "cell_type": "code",
   "execution_count": null,
   "metadata": {},
   "outputs": [],
   "source": []
  },
  {
   "cell_type": "markdown",
   "metadata": {},
   "source": [
    "# 6. Creación Generador Serie Temporal"
   ]
  },
  {
   "cell_type": "code",
   "execution_count": 122,
   "metadata": {},
   "outputs": [],
   "source": [
    "from tensorflow.keras.preprocessing.sequence import TimeseriesGenerator"
   ]
  },
  {
   "cell_type": "code",
   "execution_count": 123,
   "metadata": {},
   "outputs": [
    {
     "name": "stdout",
     "output_type": "stream",
     "text": [
      "Help on class TimeseriesGenerator in module tensorflow.python.keras.preprocessing.sequence:\n",
      "\n",
      "class TimeseriesGenerator(keras_preprocessing.sequence.TimeseriesGenerator, tensorflow.python.keras.utils.data_utils.Sequence)\n",
      " |  TimeseriesGenerator(data, targets, length, sampling_rate=1, stride=1, start_index=0, end_index=None, shuffle=False, reverse=False, batch_size=128)\n",
      " |  \n",
      " |  Utility class for generating batches of temporal data.\n",
      " |  \n",
      " |  This class takes in a sequence of data-points gathered at\n",
      " |  equal intervals, along with time series parameters such as\n",
      " |  stride, length of history, etc., to produce batches for\n",
      " |  training/validation.\n",
      " |  # Arguments\n",
      " |      data: Indexable generator (such as list or Numpy array)\n",
      " |          containing consecutive data points (timesteps).\n",
      " |          The data should be at 2D, and axis 0 is expected\n",
      " |          to be the time dimension.\n",
      " |      targets: Targets corresponding to timesteps in `data`.\n",
      " |          It should have same length as `data`.\n",
      " |      length: Length of the output sequences (in number of timesteps).\n",
      " |      sampling_rate: Period between successive individual timesteps\n",
      " |          within sequences. For rate `r`, timesteps\n",
      " |          `data[i]`, `data[i-r]`, ... `data[i - length]`\n",
      " |          are used for create a sample sequence.\n",
      " |      stride: Period between successive output sequences.\n",
      " |          For stride `s`, consecutive output samples would\n",
      " |          be centered around `data[i]`, `data[i+s]`, `data[i+2*s]`, etc.\n",
      " |      start_index: Data points earlier than `start_index` will not be used\n",
      " |          in the output sequences. This is useful to reserve part of the\n",
      " |          data for test or validation.\n",
      " |      end_index: Data points later than `end_index` will not be used\n",
      " |          in the output sequences. This is useful to reserve part of the\n",
      " |          data for test or validation.\n",
      " |      shuffle: Whether to shuffle output samples,\n",
      " |          or instead draw them in chronological order.\n",
      " |      reverse: Boolean: if `true`, timesteps in each output sample will be\n",
      " |          in reverse chronological order.\n",
      " |      batch_size: Number of timeseries samples in each batch\n",
      " |          (except maybe the last one).\n",
      " |  # Returns\n",
      " |      A [Sequence](/utils/#sequence) instance.\n",
      " |  # Examples\n",
      " |  ```python\n",
      " |  from keras.preprocessing.sequence import TimeseriesGenerator\n",
      " |  import numpy as np\n",
      " |  data = np.array([[i] for i in range(50)])\n",
      " |  targets = np.array([[i] for i in range(50)])\n",
      " |  data_gen = TimeseriesGenerator(data, targets,\n",
      " |                                 length=10, sampling_rate=2,\n",
      " |                                 batch_size=2)\n",
      " |  assert len(data_gen) == 20\n",
      " |  batch_0 = data_gen[0]\n",
      " |  x, y = batch_0\n",
      " |  assert np.array_equal(x,\n",
      " |                        np.array([[[0], [2], [4], [6], [8]],\n",
      " |                                  [[1], [3], [5], [7], [9]]]))\n",
      " |  assert np.array_equal(y,\n",
      " |                        np.array([[10], [11]]))\n",
      " |  ```\n",
      " |  \n",
      " |  Method resolution order:\n",
      " |      TimeseriesGenerator\n",
      " |      keras_preprocessing.sequence.TimeseriesGenerator\n",
      " |      tensorflow.python.keras.utils.data_utils.Sequence\n",
      " |      builtins.object\n",
      " |  \n",
      " |  Methods inherited from keras_preprocessing.sequence.TimeseriesGenerator:\n",
      " |  \n",
      " |  __getitem__(self, index)\n",
      " |  \n",
      " |  __init__(self, data, targets, length, sampling_rate=1, stride=1, start_index=0, end_index=None, shuffle=False, reverse=False, batch_size=128)\n",
      " |      Initialize self.  See help(type(self)) for accurate signature.\n",
      " |  \n",
      " |  __len__(self)\n",
      " |  \n",
      " |  get_config(self)\n",
      " |      Returns the TimeseriesGenerator configuration as Python dictionary.\n",
      " |      \n",
      " |      # Returns\n",
      " |          A Python dictionary with the TimeseriesGenerator configuration.\n",
      " |  \n",
      " |  to_json(self, **kwargs)\n",
      " |      Returns a JSON string containing the timeseries generator\n",
      " |      configuration. To load a generator from a JSON string, use\n",
      " |      `keras.preprocessing.sequence.timeseries_generator_from_json(json_string)`.\n",
      " |      \n",
      " |      # Arguments\n",
      " |          **kwargs: Additional keyword arguments\n",
      " |              to be passed to `json.dumps()`.\n",
      " |      \n",
      " |      # Returns\n",
      " |          A JSON string containing the tokenizer configuration.\n",
      " |  \n",
      " |  ----------------------------------------------------------------------\n",
      " |  Data descriptors inherited from keras_preprocessing.sequence.TimeseriesGenerator:\n",
      " |  \n",
      " |  __dict__\n",
      " |      dictionary for instance variables (if defined)\n",
      " |  \n",
      " |  __weakref__\n",
      " |      list of weak references to the object (if defined)\n",
      " |  \n",
      " |  ----------------------------------------------------------------------\n",
      " |  Methods inherited from tensorflow.python.keras.utils.data_utils.Sequence:\n",
      " |  \n",
      " |  __iter__(self)\n",
      " |      Create a generator that iterate over the Sequence.\n",
      " |  \n",
      " |  on_epoch_end(self)\n",
      " |      Method called at the end of every epoch.\n",
      "\n"
     ]
    }
   ],
   "source": [
    "help(TimeseriesGenerator)"
   ]
  },
  {
   "cell_type": "code",
   "execution_count": 124,
   "metadata": {},
   "outputs": [],
   "source": [
    "# Suponemos coger una ventana de 12 meses atrás para predecir el siguiente mes (1 muestra)\n",
    "longitud = 12\n",
    "tamaño_batch = 1\n",
    "generador = TimeseriesGenerator(data=scaled_train, targets=scaled_train, length=longitud, batch_size=tamaño_batch)"
   ]
  },
  {
   "cell_type": "code",
   "execution_count": 126,
   "metadata": {},
   "outputs": [],
   "source": [
    "# ¿Qué obtenemos del primer batch (coge 12 primeras muestras de train para predecir la muestra 13)?\n",
    "X,y = generador[0]"
   ]
  },
  {
   "cell_type": "code",
   "execution_count": 127,
   "metadata": {},
   "outputs": [
    {
     "name": "stdout",
     "output_type": "stream",
     "text": [
      "Dado el array de entrada: \n",
      "[0.01728929 0.18771226 0.37604199 0.35906144 0.56313677 0.6279716\n",
      " 0.74251312 0.73602964 0.76844705 0.54584748 0.5418339  0.4788515 ]\n",
      "Predecimos: \n",
      " [[0.24328496]]\n"
     ]
    }
   ],
   "source": [
    "print(f'Dado el array de entrada: \\n{X.flatten()}')\n",
    "print(f'Predecimos: \\n {y}')"
   ]
  },
  {
   "cell_type": "markdown",
   "metadata": {},
   "source": [
    "# 7.Creación del modelo"
   ]
  },
  {
   "cell_type": "code",
   "execution_count": 128,
   "metadata": {},
   "outputs": [],
   "source": [
    "from tensorflow.keras.models import Sequential\n",
    "from tensorflow.keras.layers import Dense\n",
    "from tensorflow.keras.layers import LSTM"
   ]
  },
  {
   "cell_type": "code",
   "execution_count": 129,
   "metadata": {},
   "outputs": [],
   "source": [
    "# Definimos el número de variables de salida a predecir (1 variable = \"T Deg\")\n",
    "n_variables = 1 #Si hubiera múltiples variables cogeríamos el número de columnas: scaled_train.shape[1]"
   ]
  },
  {
   "cell_type": "code",
   "execution_count": 141,
   "metadata": {},
   "outputs": [],
   "source": [
    "# Definir modelo\n",
    "model = Sequential()\n",
    "model.add(LSTM(150, activation='relu', input_shape=(longitud, n_variables))) # Podemos aumentar el número de neuronas LSTM para intentar conseguir mayor precisión\n",
    "model.add(Dense(n_variables)) #Solo 1 variable de salida, si hubiera múltiples variables indicaríamos tantas neuronas como variables\n",
    "model.compile(optimizer='adam', loss='mse')"
   ]
  },
  {
   "cell_type": "code",
   "execution_count": 131,
   "metadata": {},
   "outputs": [
    {
     "name": "stdout",
     "output_type": "stream",
     "text": [
      "Model: \"sequential_3\"\n",
      "_________________________________________________________________\n",
      "Layer (type)                 Output Shape              Param #   \n",
      "=================================================================\n",
      "lstm_3 (LSTM)                (None, 150)               91200     \n",
      "_________________________________________________________________\n",
      "dense_3 (Dense)              (None, 1)                 151       \n",
      "=================================================================\n",
      "Total params: 91,351\n",
      "Trainable params: 91,351\n",
      "Non-trainable params: 0\n",
      "_________________________________________________________________\n"
     ]
    }
   ],
   "source": [
    "model.summary()"
   ]
  },
  {
   "cell_type": "markdown",
   "metadata": {},
   "source": [
    "# 8. Entrenamiento del modelo"
   ]
  },
  {
   "cell_type": "markdown",
   "metadata": {},
   "source": [
    "NOTA: El tamaño del conjunto de test debe ser superior a la \"longitud\" elegida para los batches."
   ]
  },
  {
   "cell_type": "code",
   "execution_count": 132,
   "metadata": {},
   "outputs": [],
   "source": [
    "from tensorflow.keras.callbacks import EarlyStopping"
   ]
  },
  {
   "cell_type": "code",
   "execution_count": 142,
   "metadata": {},
   "outputs": [],
   "source": [
    "early_stop = EarlyStopping(monitor='val_loss',patience=4)"
   ]
  },
  {
   "cell_type": "code",
   "execution_count": 143,
   "metadata": {},
   "outputs": [],
   "source": [
    "#Definimos generador para el conjunto de test de tal manera que nos sirva para la validación del modelo\n",
    "val_generador = TimeseriesGenerator(scaled_test,scaled_test, length=longitud, batch_size=tamaño_batch)"
   ]
  },
  {
   "cell_type": "code",
   "execution_count": 144,
   "metadata": {},
   "outputs": [
    {
     "name": "stderr",
     "output_type": "stream",
     "text": [
      "C:\\Users\\ivan_pinar\\Anaconda3\\lib\\site-packages\\tensorflow\\python\\keras\\engine\\training.py:1844: UserWarning: `Model.fit_generator` is deprecated and will be removed in a future version. Please use `Model.fit`, which supports generators.\n",
      "  warnings.warn('`Model.fit_generator` is deprecated and '\n"
     ]
    },
    {
     "name": "stdout",
     "output_type": "stream",
     "text": [
      "Epoch 1/20\n",
      "68/68 [==============================] - 2s 6ms/step - loss: 0.1462 - val_loss: 0.0483\n",
      "Epoch 2/20\n",
      "68/68 [==============================] - 0s 3ms/step - loss: 0.0385 - val_loss: 0.0319\n",
      "Epoch 3/20\n",
      "68/68 [==============================] - 0s 3ms/step - loss: 0.0467 - val_loss: 0.0735\n",
      "Epoch 4/20\n",
      "68/68 [==============================] - 0s 3ms/step - loss: 0.0486 - val_loss: 0.0356\n",
      "Epoch 5/20\n",
      "68/68 [==============================] - 0s 3ms/step - loss: 0.0435 - val_loss: 0.0234\n",
      "Epoch 6/20\n",
      "68/68 [==============================] - 0s 3ms/step - loss: 0.0265 - val_loss: 0.0250\n",
      "Epoch 7/20\n",
      "68/68 [==============================] - 0s 3ms/step - loss: 0.0254 - val_loss: 0.0260\n",
      "Epoch 8/20\n",
      "68/68 [==============================] - 0s 3ms/step - loss: 0.0236 - val_loss: 0.0134\n",
      "Epoch 9/20\n",
      "68/68 [==============================] - 0s 3ms/step - loss: 0.0186 - val_loss: 0.0285\n",
      "Epoch 10/20\n",
      "68/68 [==============================] - 0s 3ms/step - loss: 0.0189 - val_loss: 0.0096\n",
      "Epoch 11/20\n",
      "68/68 [==============================] - 0s 3ms/step - loss: 0.0281 - val_loss: 0.0223\n",
      "Epoch 12/20\n",
      "68/68 [==============================] - 0s 4ms/step - loss: 0.0262 - val_loss: 0.0090\n",
      "Epoch 13/20\n",
      "68/68 [==============================] - 0s 3ms/step - loss: 0.0278 - val_loss: 0.0150\n",
      "Epoch 14/20\n",
      "68/68 [==============================] - 0s 3ms/step - loss: 0.0187 - val_loss: 0.0396\n",
      "Epoch 15/20\n",
      "68/68 [==============================] - 0s 3ms/step - loss: 0.0291 - val_loss: 0.0309\n",
      "Epoch 16/20\n",
      "68/68 [==============================] - 0s 3ms/step - loss: 0.0401 - val_loss: 0.0088\n",
      "Epoch 17/20\n",
      "68/68 [==============================] - 0s 3ms/step - loss: 0.0258 - val_loss: 0.0094\n",
      "Epoch 18/20\n",
      "68/68 [==============================] - 0s 3ms/step - loss: 0.0198 - val_loss: 0.0173\n",
      "Epoch 19/20\n",
      "68/68 [==============================] - 0s 3ms/step - loss: 0.0174 - val_loss: 0.0181\n",
      "Epoch 20/20\n",
      "68/68 [==============================] - 0s 4ms/step - loss: 0.0188 - val_loss: 0.0102\n"
     ]
    },
    {
     "data": {
      "text/plain": [
       "<tensorflow.python.keras.callbacks.History at 0x1aa83fd9f40>"
      ]
     },
     "execution_count": 144,
     "metadata": {},
     "output_type": "execute_result"
    }
   ],
   "source": [
    "model.fit_generator(generador,epochs=20,\n",
    "                    validation_data=val_generador,\n",
    "                    callbacks=[early_stop])"
   ]
  },
  {
   "cell_type": "code",
   "execution_count": 145,
   "metadata": {},
   "outputs": [],
   "source": [
    "losses = pd.DataFrame(model.history.history)"
   ]
  },
  {
   "cell_type": "code",
   "execution_count": 146,
   "metadata": {
    "scrolled": true
   },
   "outputs": [
    {
     "data": {
      "text/plain": [
       "<matplotlib.axes._subplots.AxesSubplot at 0x1aa5651c130>"
      ]
     },
     "execution_count": 146,
     "metadata": {},
     "output_type": "execute_result"
    },
    {
     "data": {
      "image/png": "[encoded data removed]",
      "text/plain": [
       "<Figure size 432x288 with 1 Axes>"
      ]
     },
     "metadata": {
      "needs_background": "light"
     },
     "output_type": "display_data"
    }
   ],
   "source": [
    "losses.plot()"
   ]
  },
  {
   "cell_type": "markdown",
   "metadata": {},
   "source": [
    "# 9. Evaluación del modelo"
   ]
  },
  {
   "cell_type": "markdown",
   "metadata": {},
   "source": [
    "## 9.1 Predicción sobre el conjunto de Test"
   ]
  },
  {
   "cell_type": "code",
   "execution_count": 147,
   "metadata": {},
   "outputs": [],
   "source": [
    "primer_batch = scaled_train[-longitud:]"
   ]
  },
  {
   "cell_type": "code",
   "execution_count": 148,
   "metadata": {},
   "outputs": [
    {
     "data": {
      "text/plain": [
       "(12, 1)"
      ]
     },
     "execution_count": 148,
     "metadata": {},
     "output_type": "execute_result"
    }
   ],
   "source": [
    "primer_batch.shape"
   ]
  },
  {
   "cell_type": "code",
   "execution_count": 149,
   "metadata": {},
   "outputs": [],
   "source": [
    "primer_batch = primer_batch.reshape((1, longitud, n_variables))"
   ]
  },
  {
   "cell_type": "code",
   "execution_count": 150,
   "metadata": {},
   "outputs": [
    {
     "data": {
      "text/plain": [
       "(1, 12, 1)"
      ]
     },
     "execution_count": 150,
     "metadata": {},
     "output_type": "execute_result"
    }
   ],
   "source": [
    "primer_batch.shape"
   ]
  },
  {
   "cell_type": "code",
   "execution_count": 151,
   "metadata": {},
   "outputs": [
    {
     "data": {
      "text/plain": [
       "array([[0.92571944]], dtype=float32)"
      ]
     },
     "execution_count": 151,
     "metadata": {},
     "output_type": "execute_result"
    }
   ],
   "source": [
    "model.predict(primer_batch)"
   ]
  },
  {
   "cell_type": "code",
   "execution_count": 152,
   "metadata": {},
   "outputs": [
    {
     "data": {
      "text/plain": [
       "array([0.75548009])"
      ]
     },
     "execution_count": 152,
     "metadata": {},
     "output_type": "execute_result"
    }
   ],
   "source": [
    "scaled_test[0] #Verificamos el valor real"
   ]
  },
  {
   "cell_type": "markdown",
   "metadata": {},
   "source": [
    "Ahora definimos esta lógica en un bucle FOR para predecir en todo el conjunto de test"
   ]
  },
  {
   "cell_type": "code",
   "execution_count": 153,
   "metadata": {},
   "outputs": [],
   "source": [
    "test_predictions = []\n",
    "\n",
    "primer_batch = scaled_train[-longitud:]\n",
    "batch_actual = primer_batch.reshape((1, longitud, n_variables))\n",
    "\n",
    "for i in range(len(test)):\n",
    "    \n",
    "    # Hacemos la predicción 1 time stamp (el siguiente mes). Indicar [0] para coger el valor de la predicción en lugar del array\n",
    "    pred_actual = model.predict(batch_actual)[0]\n",
    "    \n",
    "    # Guardamos la predicción en la lista test_predictions\n",
    "    test_predictions.append(pred_actual) \n",
    "    \n",
    "    # Actualizamos el batch para descartar el primer valor e incluir la nueva predicción (desplazamiento)\n",
    "    batch_actual = np.append(batch_actual[:,1:,:],[[pred_actual]],axis=1)"
   ]
  },
  {
   "cell_type": "code",
   "execution_count": 154,
   "metadata": {},
   "outputs": [
    {
     "data": {
      "text/plain": [
       "[array([0.92571944], dtype=float32),\n",
       " array([0.8715093], dtype=float32),\n",
       " array([0.75044143], dtype=float32),\n",
       " array([0.46828055], dtype=float32),\n",
       " array([0.3609165], dtype=float32),\n",
       " array([0.32060203], dtype=float32),\n",
       " array([0.3292878], dtype=float32),\n",
       " array([0.36680895], dtype=float32),\n",
       " array([0.4409268], dtype=float32),\n",
       " array([0.53363276], dtype=float32),\n",
       " array([0.6996931], dtype=float32),\n",
       " array([0.8240763], dtype=float32),\n",
       " array([0.87551117], dtype=float32),\n",
       " array([0.83792824], dtype=float32),\n",
       " array([0.6869006], dtype=float32),\n",
       " array([0.454151], dtype=float32),\n",
       " array([0.35537505], dtype=float32),\n",
       " array([0.31724423], dtype=float32)]"
      ]
     },
     "execution_count": 154,
     "metadata": {},
     "output_type": "execute_result"
    }
   ],
   "source": [
    "test_predictions"
   ]
  },
  {
   "cell_type": "code",
   "execution_count": 155,
   "metadata": {},
   "outputs": [],
   "source": [
    "#Desescalamos las predicciones para obtener los valores reales (\"true_predictions\")\n",
    "true_predictions = scaler.inverse_transform(test_predictions)"
   ]
  },
  {
   "cell_type": "code",
   "execution_count": 156,
   "metadata": {},
   "outputs": [
    {
     "name": "stderr",
     "output_type": "stream",
     "text": [
      "<ipython-input-156-30aa5f6f6f6a>:1: SettingWithCopyWarning: \n",
      "A value is trying to be set on a copy of a slice from a DataFrame.\n",
      "Try using .loc[row_indexer,col_indexer] = value instead\n",
      "\n",
      "See the caveats in the documentation: https://pandas.pydata.org/pandas-docs/stable/user_guide/indexing.html#returning-a-view-versus-a-copy\n",
      "  test['Predicción'] = true_predictions\n"
     ]
    }
   ],
   "source": [
    "test['Predicción'] = true_predictions"
   ]
  },
  {
   "cell_type": "code",
   "execution_count": 157,
   "metadata": {},
   "outputs": [
    {
     "data": {
      "text/html": [
       "<div>\n",
       "<style scoped>\n",
       "    .dataframe tbody tr th:only-of-type {\n",
       "        vertical-align: middle;\n",
       "    }\n",
       "\n",
       "    .dataframe tbody tr th {\n",
       "        vertical-align: top;\n",
       "    }\n",
       "\n",
       "    .dataframe thead th {\n",
       "        text-align: right;\n",
       "    }\n",
       "</style>\n",
       "<table border=\"1\" class=\"dataframe\">\n",
       "  <thead>\n",
       "    <tr style=\"text-align: right;\">\n",
       "      <th></th>\n",
       "      <th>T (degC)</th>\n",
       "      <th>Predicción</th>\n",
       "    </tr>\n",
       "    <tr>\n",
       "      <th>Date Time</th>\n",
       "      <th></th>\n",
       "      <th></th>\n",
       "    </tr>\n",
       "  </thead>\n",
       "  <tbody>\n",
       "    <tr>\n",
       "      <th>2015-07-27 10:10:00</th>\n",
       "      <td>15.89</td>\n",
       "      <td>21.404053</td>\n",
       "    </tr>\n",
       "    <tr>\n",
       "      <th>2015-08-26 10:10:00</th>\n",
       "      <td>21.59</td>\n",
       "      <td>19.648187</td>\n",
       "    </tr>\n",
       "    <tr>\n",
       "      <th>2015-09-25 10:10:00</th>\n",
       "      <td>12.02</td>\n",
       "      <td>15.726798</td>\n",
       "    </tr>\n",
       "    <tr>\n",
       "      <th>2015-10-25 10:10:00</th>\n",
       "      <td>8.98</td>\n",
       "      <td>6.587607</td>\n",
       "    </tr>\n",
       "    <tr>\n",
       "      <th>2015-11-24 10:10:00</th>\n",
       "      <td>0.36</td>\n",
       "      <td>3.110085</td>\n",
       "    </tr>\n",
       "    <tr>\n",
       "      <th>2015-12-24 10:10:00</th>\n",
       "      <td>5.70</td>\n",
       "      <td>1.804300</td>\n",
       "    </tr>\n",
       "    <tr>\n",
       "      <th>2016-01-23 10:10:00</th>\n",
       "      <td>2.29</td>\n",
       "      <td>2.085632</td>\n",
       "    </tr>\n",
       "    <tr>\n",
       "      <th>2016-02-22 10:10:00</th>\n",
       "      <td>10.45</td>\n",
       "      <td>3.300942</td>\n",
       "    </tr>\n",
       "    <tr>\n",
       "      <th>2016-03-23 10:10:00</th>\n",
       "      <td>5.41</td>\n",
       "      <td>5.701619</td>\n",
       "    </tr>\n",
       "    <tr>\n",
       "      <th>2016-04-22 10:10:00</th>\n",
       "      <td>8.96</td>\n",
       "      <td>8.704365</td>\n",
       "    </tr>\n",
       "    <tr>\n",
       "      <th>2016-05-22 10:10:00</th>\n",
       "      <td>23.70</td>\n",
       "      <td>14.083059</td>\n",
       "    </tr>\n",
       "    <tr>\n",
       "      <th>2016-06-21 10:10:00</th>\n",
       "      <td>19.08</td>\n",
       "      <td>18.111831</td>\n",
       "    </tr>\n",
       "    <tr>\n",
       "      <th>2016-07-21 10:10:00</th>\n",
       "      <td>19.95</td>\n",
       "      <td>19.777807</td>\n",
       "    </tr>\n",
       "    <tr>\n",
       "      <th>2016-08-20 10:10:00</th>\n",
       "      <td>21.81</td>\n",
       "      <td>18.560496</td>\n",
       "    </tr>\n",
       "    <tr>\n",
       "      <th>2016-09-19 10:10:00</th>\n",
       "      <td>11.80</td>\n",
       "      <td>13.668711</td>\n",
       "    </tr>\n",
       "    <tr>\n",
       "      <th>2016-10-19 10:10:00</th>\n",
       "      <td>8.81</td>\n",
       "      <td>6.129951</td>\n",
       "    </tr>\n",
       "    <tr>\n",
       "      <th>2016-11-21 12:20:00</th>\n",
       "      <td>9.62</td>\n",
       "      <td>2.930598</td>\n",
       "    </tr>\n",
       "    <tr>\n",
       "      <th>2016-12-21 12:20:00</th>\n",
       "      <td>1.02</td>\n",
       "      <td>1.695541</td>\n",
       "    </tr>\n",
       "  </tbody>\n",
       "</table>\n",
       "</div>"
      ],
      "text/plain": [
       "                     T (degC)  Predicción\n",
       "Date Time                                \n",
       "2015-07-27 10:10:00     15.89   21.404053\n",
       "2015-08-26 10:10:00     21.59   19.648187\n",
       "2015-09-25 10:10:00     12.02   15.726798\n",
       "2015-10-25 10:10:00      8.98    6.587607\n",
       "2015-11-24 10:10:00      0.36    3.110085\n",
       "2015-12-24 10:10:00      5.70    1.804300\n",
       "2016-01-23 10:10:00      2.29    2.085632\n",
       "2016-02-22 10:10:00     10.45    3.300942\n",
       "2016-03-23 10:10:00      5.41    5.701619\n",
       "2016-04-22 10:10:00      8.96    8.704365\n",
       "2016-05-22 10:10:00     23.70   14.083059\n",
       "2016-06-21 10:10:00     19.08   18.111831\n",
       "2016-07-21 10:10:00     19.95   19.777807\n",
       "2016-08-20 10:10:00     21.81   18.560496\n",
       "2016-09-19 10:10:00     11.80   13.668711\n",
       "2016-10-19 10:10:00      8.81    6.129951\n",
       "2016-11-21 12:20:00      9.62    2.930598\n",
       "2016-12-21 12:20:00      1.02    1.695541"
      ]
     },
     "execution_count": 157,
     "metadata": {},
     "output_type": "execute_result"
    }
   ],
   "source": [
    "test"
   ]
  },
  {
   "cell_type": "code",
   "execution_count": 158,
   "metadata": {
    "scrolled": true
   },
   "outputs": [
    {
     "data": {
      "text/plain": [
       "<matplotlib.axes._subplots.AxesSubplot at 0x1aa84aff160>"
      ]
     },
     "execution_count": 158,
     "metadata": {},
     "output_type": "execute_result"
    },
    {
     "data": {
      "image/png": "[encoded data removed]",
      "text/plain": [
       "<Figure size 864x576 with 1 Axes>"
      ]
     },
     "metadata": {
      "needs_background": "light"
     },
     "output_type": "display_data"
    }
   ],
   "source": [
    "test.plot(figsize=(12,8))"
   ]
  },
  {
   "cell_type": "code",
   "execution_count": 159,
   "metadata": {},
   "outputs": [],
   "source": [
    "from sklearn.metrics import mean_squared_error"
   ]
  },
  {
   "cell_type": "code",
   "execution_count": 160,
   "metadata": {},
   "outputs": [
    {
     "data": {
      "text/plain": [
       "3.9970196002363285"
      ]
     },
     "execution_count": 160,
     "metadata": {},
     "output_type": "execute_result"
    }
   ],
   "source": [
    "np.sqrt(mean_squared_error(test['T (degC)'],test['Predicción']))"
   ]
  },
  {
   "cell_type": "markdown",
   "metadata": {
    "collapsed": true
   },
   "source": [
    "## 9.2 Predicción de nuevos datos (forecast)"
   ]
  },
  {
   "cell_type": "code",
   "execution_count": 161,
   "metadata": {},
   "outputs": [],
   "source": [
    "#Cogemos todos los datos originales y escalamos en base a ellos\n",
    "full_scaler = MinMaxScaler()\n",
    "scaled_full_data = full_scaler.fit_transform(df)"
   ]
  },
  {
   "cell_type": "code",
   "execution_count": 162,
   "metadata": {},
   "outputs": [],
   "source": [
    "longitud = 12 # Longitud de la ventana del batch (en número de timesteps)\n",
    "tamaño_batch = 1\n",
    "generador = TimeseriesGenerator(scaled_full_data, scaled_full_data, length=longitud, batch_size=tamaño_batch)"
   ]
  },
  {
   "cell_type": "code",
   "execution_count": 163,
   "metadata": {},
   "outputs": [
    {
     "name": "stderr",
     "output_type": "stream",
     "text": [
      "C:\\Users\\ivan_pinar\\Anaconda3\\lib\\site-packages\\tensorflow\\python\\keras\\engine\\training.py:1844: UserWarning: `Model.fit_generator` is deprecated and will be removed in a future version. Please use `Model.fit`, which supports generators.\n",
      "  warnings.warn('`Model.fit_generator` is deprecated and '\n"
     ]
    },
    {
     "name": "stdout",
     "output_type": "stream",
     "text": [
      "Epoch 1/15\n",
      "86/86 [==============================] - 1s 3ms/step - loss: 0.1316\n",
      "Epoch 2/15\n",
      "86/86 [==============================] - 0s 3ms/step - loss: 0.0534\n",
      "Epoch 3/15\n",
      "86/86 [==============================] - 0s 3ms/step - loss: 0.0307\n",
      "Epoch 4/15\n",
      "86/86 [==============================] - 0s 3ms/step - loss: 0.0386\n",
      "Epoch 5/15\n",
      "86/86 [==============================] - 0s 3ms/step - loss: 0.0246\n",
      "Epoch 6/15\n",
      "86/86 [==============================] - 0s 3ms/step - loss: 0.0327\n",
      "Epoch 7/15\n",
      "86/86 [==============================] - 0s 3ms/step - loss: 0.0230\n",
      "Epoch 8/15\n",
      "86/86 [==============================] - 0s 3ms/step - loss: 0.0206\n",
      "Epoch 9/15\n",
      "86/86 [==============================] - 0s 3ms/step - loss: 0.0171\n",
      "Epoch 10/15\n",
      "86/86 [==============================] - 0s 3ms/step - loss: 0.0224\n",
      "Epoch 11/15\n",
      "86/86 [==============================] - 0s 3ms/step - loss: 0.0815\n",
      "Epoch 12/15\n",
      "86/86 [==============================] - 0s 3ms/step - loss: 0.0487\n",
      "Epoch 13/15\n",
      "86/86 [==============================] - 0s 3ms/step - loss: 0.0335\n",
      "Epoch 14/15\n",
      "86/86 [==============================] - 0s 3ms/step - loss: 0.0230\n",
      "Epoch 15/15\n",
      "86/86 [==============================] - 0s 3ms/step - loss: 0.0267\n"
     ]
    },
    {
     "data": {
      "text/plain": [
       "<tensorflow.python.keras.callbacks.History at 0x1aa84b74340>"
      ]
     },
     "execution_count": 163,
     "metadata": {},
     "output_type": "execute_result"
    }
   ],
   "source": [
    "model = Sequential()\n",
    "model.add(LSTM(150, activation='relu', input_shape=(longitud, n_variables)))\n",
    "model.add(Dense(1))\n",
    "model.compile(optimizer='adam', loss='mse')\n",
    "\n",
    "# Ajustamos el modelo, escogemos el número de epochs en base al entrenamiento anterior (no tiene sentido EarlyStopping puesto que no tenemos ahora datos de validación con los que comparar)\n",
    "model.fit_generator(generador,epochs=15)"
   ]
  },
  {
   "cell_type": "code",
   "execution_count": 164,
   "metadata": {},
   "outputs": [],
   "source": [
    "forecast = []\n",
    "\n",
    "periodos = 36 # Indicamos el número de periodos en base a la longitud del forecast deseada (36 meses)\n",
    "\n",
    "primer_batch = scaled_full_data[-longitud:]\n",
    "batch_actual = primer_batch.reshape((1, longitud, n_variables))\n",
    "\n",
    "for i in range(periodos):\n",
    "\n",
    "    pred_actual = model.predict(batch_actual)[0]\n",
    "    forecast.append(pred_actual) \n",
    "    batch_actual = np.append(batch_actual[:,1:,:],[[pred_actual]],axis=1)"
   ]
  },
  {
   "cell_type": "code",
   "execution_count": 165,
   "metadata": {},
   "outputs": [],
   "source": [
    "forecast = scaler.inverse_transform(forecast)"
   ]
  },
  {
   "cell_type": "markdown",
   "metadata": {},
   "source": [
    "Creamos el nuevo índice de tiempos para el forecast"
   ]
  },
  {
   "cell_type": "code",
   "execution_count": 166,
   "metadata": {},
   "outputs": [
    {
     "data": {
      "text/html": [
       "<div>\n",
       "<style scoped>\n",
       "    .dataframe tbody tr th:only-of-type {\n",
       "        vertical-align: middle;\n",
       "    }\n",
       "\n",
       "    .dataframe tbody tr th {\n",
       "        vertical-align: top;\n",
       "    }\n",
       "\n",
       "    .dataframe thead th {\n",
       "        text-align: right;\n",
       "    }\n",
       "</style>\n",
       "<table border=\"1\" class=\"dataframe\">\n",
       "  <thead>\n",
       "    <tr style=\"text-align: right;\">\n",
       "      <th></th>\n",
       "      <th>T (degC)</th>\n",
       "    </tr>\n",
       "    <tr>\n",
       "      <th>Date Time</th>\n",
       "      <th></th>\n",
       "    </tr>\n",
       "  </thead>\n",
       "  <tbody>\n",
       "    <tr>\n",
       "      <th>2009-01-01 00:10:00</th>\n",
       "      <td>-8.02</td>\n",
       "    </tr>\n",
       "    <tr>\n",
       "      <th>2009-01-31 00:10:00</th>\n",
       "      <td>-2.50</td>\n",
       "    </tr>\n",
       "    <tr>\n",
       "      <th>2009-03-02 00:10:00</th>\n",
       "      <td>3.60</td>\n",
       "    </tr>\n",
       "    <tr>\n",
       "      <th>2009-04-01 00:10:00</th>\n",
       "      <td>3.05</td>\n",
       "    </tr>\n",
       "    <tr>\n",
       "      <th>2009-05-01 00:10:00</th>\n",
       "      <td>9.66</td>\n",
       "    </tr>\n",
       "    <tr>\n",
       "      <th>...</th>\n",
       "      <td>...</td>\n",
       "    </tr>\n",
       "    <tr>\n",
       "      <th>2016-08-20 10:10:00</th>\n",
       "      <td>21.81</td>\n",
       "    </tr>\n",
       "    <tr>\n",
       "      <th>2016-09-19 10:10:00</th>\n",
       "      <td>11.80</td>\n",
       "    </tr>\n",
       "    <tr>\n",
       "      <th>2016-10-19 10:10:00</th>\n",
       "      <td>8.81</td>\n",
       "    </tr>\n",
       "    <tr>\n",
       "      <th>2016-11-21 12:20:00</th>\n",
       "      <td>9.62</td>\n",
       "    </tr>\n",
       "    <tr>\n",
       "      <th>2016-12-21 12:20:00</th>\n",
       "      <td>1.02</td>\n",
       "    </tr>\n",
       "  </tbody>\n",
       "</table>\n",
       "<p>98 rows × 1 columns</p>\n",
       "</div>"
      ],
      "text/plain": [
       "                     T (degC)\n",
       "Date Time                    \n",
       "2009-01-01 00:10:00     -8.02\n",
       "2009-01-31 00:10:00     -2.50\n",
       "2009-03-02 00:10:00      3.60\n",
       "2009-04-01 00:10:00      3.05\n",
       "2009-05-01 00:10:00      9.66\n",
       "...                       ...\n",
       "2016-08-20 10:10:00     21.81\n",
       "2016-09-19 10:10:00     11.80\n",
       "2016-10-19 10:10:00      8.81\n",
       "2016-11-21 12:20:00      9.62\n",
       "2016-12-21 12:20:00      1.02\n",
       "\n",
       "[98 rows x 1 columns]"
      ]
     },
     "execution_count": 166,
     "metadata": {},
     "output_type": "execute_result"
    }
   ],
   "source": [
    "df"
   ]
  },
  {
   "cell_type": "code",
   "execution_count": 167,
   "metadata": {},
   "outputs": [],
   "source": [
    "#Creamos el índice para que empiece en el siguiente timestamp en el que acaban nuestros datos históricos\n",
    "forecast_index = pd.date_range(start='2017-01-20',periods=periodos,freq='MS') #M"
   ]
  },
  {
   "cell_type": "code",
   "execution_count": 168,
   "metadata": {},
   "outputs": [],
   "source": [
    "forecast_df = pd.DataFrame(data=forecast,index=forecast_index,\n",
    "                           columns=['Forecast'])"
   ]
  },
  {
   "cell_type": "code",
   "execution_count": 169,
   "metadata": {},
   "outputs": [
    {
     "data": {
      "text/html": [
       "<div>\n",
       "<style scoped>\n",
       "    .dataframe tbody tr th:only-of-type {\n",
       "        vertical-align: middle;\n",
       "    }\n",
       "\n",
       "    .dataframe tbody tr th {\n",
       "        vertical-align: top;\n",
       "    }\n",
       "\n",
       "    .dataframe thead th {\n",
       "        text-align: right;\n",
       "    }\n",
       "</style>\n",
       "<table border=\"1\" class=\"dataframe\">\n",
       "  <thead>\n",
       "    <tr style=\"text-align: right;\">\n",
       "      <th></th>\n",
       "      <th>Forecast</th>\n",
       "    </tr>\n",
       "  </thead>\n",
       "  <tbody>\n",
       "    <tr>\n",
       "      <th>2017-02-01</th>\n",
       "      <td>3.391559</td>\n",
       "    </tr>\n",
       "    <tr>\n",
       "      <th>2017-03-01</th>\n",
       "      <td>4.308601</td>\n",
       "    </tr>\n",
       "    <tr>\n",
       "      <th>2017-04-01</th>\n",
       "      <td>6.296390</td>\n",
       "    </tr>\n",
       "    <tr>\n",
       "      <th>2017-05-01</th>\n",
       "      <td>9.941619</td>\n",
       "    </tr>\n",
       "    <tr>\n",
       "      <th>2017-06-01</th>\n",
       "      <td>12.581363</td>\n",
       "    </tr>\n",
       "    <tr>\n",
       "      <th>2017-07-01</th>\n",
       "      <td>13.518829</td>\n",
       "    </tr>\n",
       "    <tr>\n",
       "      <th>2017-08-01</th>\n",
       "      <td>14.078872</td>\n",
       "    </tr>\n",
       "    <tr>\n",
       "      <th>2017-09-01</th>\n",
       "      <td>11.668426</td>\n",
       "    </tr>\n",
       "    <tr>\n",
       "      <th>2017-10-01</th>\n",
       "      <td>7.427712</td>\n",
       "    </tr>\n",
       "    <tr>\n",
       "      <th>2017-11-01</th>\n",
       "      <td>5.958353</td>\n",
       "    </tr>\n",
       "    <tr>\n",
       "      <th>2017-12-01</th>\n",
       "      <td>4.035326</td>\n",
       "    </tr>\n",
       "    <tr>\n",
       "      <th>2018-01-01</th>\n",
       "      <td>1.465397</td>\n",
       "    </tr>\n",
       "    <tr>\n",
       "      <th>2018-02-01</th>\n",
       "      <td>1.675317</td>\n",
       "    </tr>\n",
       "    <tr>\n",
       "      <th>2018-03-01</th>\n",
       "      <td>2.500705</td>\n",
       "    </tr>\n",
       "    <tr>\n",
       "      <th>2018-04-01</th>\n",
       "      <td>4.186791</td>\n",
       "    </tr>\n",
       "    <tr>\n",
       "      <th>2018-05-01</th>\n",
       "      <td>6.186066</td>\n",
       "    </tr>\n",
       "    <tr>\n",
       "      <th>2018-06-01</th>\n",
       "      <td>7.790252</td>\n",
       "    </tr>\n",
       "    <tr>\n",
       "      <th>2018-07-01</th>\n",
       "      <td>8.626722</td>\n",
       "    </tr>\n",
       "    <tr>\n",
       "      <th>2018-08-01</th>\n",
       "      <td>8.506458</td>\n",
       "    </tr>\n",
       "    <tr>\n",
       "      <th>2018-09-01</th>\n",
       "      <td>6.865216</td>\n",
       "    </tr>\n",
       "    <tr>\n",
       "      <th>2018-10-01</th>\n",
       "      <td>5.039766</td>\n",
       "    </tr>\n",
       "    <tr>\n",
       "      <th>2018-11-01</th>\n",
       "      <td>3.794570</td>\n",
       "    </tr>\n",
       "    <tr>\n",
       "      <th>2018-12-01</th>\n",
       "      <td>2.379899</td>\n",
       "    </tr>\n",
       "    <tr>\n",
       "      <th>2019-01-01</th>\n",
       "      <td>1.159151</td>\n",
       "    </tr>\n",
       "    <tr>\n",
       "      <th>2019-02-01</th>\n",
       "      <td>1.027399</td>\n",
       "    </tr>\n",
       "    <tr>\n",
       "      <th>2019-03-01</th>\n",
       "      <td>1.562533</td>\n",
       "    </tr>\n",
       "    <tr>\n",
       "      <th>2019-04-01</th>\n",
       "      <td>2.578824</td>\n",
       "    </tr>\n",
       "    <tr>\n",
       "      <th>2019-05-01</th>\n",
       "      <td>3.800731</td>\n",
       "    </tr>\n",
       "    <tr>\n",
       "      <th>2019-06-01</th>\n",
       "      <td>4.827784</td>\n",
       "    </tr>\n",
       "    <tr>\n",
       "      <th>2019-07-01</th>\n",
       "      <td>5.437401</td>\n",
       "    </tr>\n",
       "    <tr>\n",
       "      <th>2019-08-01</th>\n",
       "      <td>5.338973</td>\n",
       "    </tr>\n",
       "    <tr>\n",
       "      <th>2019-09-01</th>\n",
       "      <td>4.577399</td>\n",
       "    </tr>\n",
       "    <tr>\n",
       "      <th>2019-10-01</th>\n",
       "      <td>3.705034</td>\n",
       "    </tr>\n",
       "    <tr>\n",
       "      <th>2019-11-01</th>\n",
       "      <td>2.880132</td>\n",
       "    </tr>\n",
       "    <tr>\n",
       "      <th>2019-12-01</th>\n",
       "      <td>2.059395</td>\n",
       "    </tr>\n",
       "    <tr>\n",
       "      <th>2020-01-01</th>\n",
       "      <td>1.394890</td>\n",
       "    </tr>\n",
       "  </tbody>\n",
       "</table>\n",
       "</div>"
      ],
      "text/plain": [
       "             Forecast\n",
       "2017-02-01   3.391559\n",
       "2017-03-01   4.308601\n",
       "2017-04-01   6.296390\n",
       "2017-05-01   9.941619\n",
       "2017-06-01  12.581363\n",
       "2017-07-01  13.518829\n",
       "2017-08-01  14.078872\n",
       "2017-09-01  11.668426\n",
       "2017-10-01   7.427712\n",
       "2017-11-01   5.958353\n",
       "2017-12-01   4.035326\n",
       "2018-01-01   1.465397\n",
       "2018-02-01   1.675317\n",
       "2018-03-01   2.500705\n",
       "2018-04-01   4.186791\n",
       "2018-05-01   6.186066\n",
       "2018-06-01   7.790252\n",
       "2018-07-01   8.626722\n",
       "2018-08-01   8.506458\n",
       "2018-09-01   6.865216\n",
       "2018-10-01   5.039766\n",
       "2018-11-01   3.794570\n",
       "2018-12-01   2.379899\n",
       "2019-01-01   1.159151\n",
       "2019-02-01   1.027399\n",
       "2019-03-01   1.562533\n",
       "2019-04-01   2.578824\n",
       "2019-05-01   3.800731\n",
       "2019-06-01   4.827784\n",
       "2019-07-01   5.437401\n",
       "2019-08-01   5.338973\n",
       "2019-09-01   4.577399\n",
       "2019-10-01   3.705034\n",
       "2019-11-01   2.880132\n",
       "2019-12-01   2.059395\n",
       "2020-01-01   1.394890"
      ]
     },
     "execution_count": 169,
     "metadata": {},
     "output_type": "execute_result"
    }
   ],
   "source": [
    "forecast_df"
   ]
  },
  {
   "cell_type": "code",
   "execution_count": 170,
   "metadata": {},
   "outputs": [
    {
     "data": {
      "text/plain": [
       "<matplotlib.axes._subplots.AxesSubplot at 0x1aa857acfd0>"
      ]
     },
     "execution_count": 170,
     "metadata": {},
     "output_type": "execute_result"
    },
    {
     "data": {
      "image/png": "[encoded data removed]",
      "text/plain": [
       "<Figure size 432x288 with 1 Axes>"
      ]
     },
     "metadata": {
      "needs_background": "light"
     },
     "output_type": "display_data"
    },
    {
     "data": {
      "image/png": "[encoded data removed]",
      "text/plain": [
       "<Figure size 432x288 with 1 Axes>"
      ]
     },
     "metadata": {
      "needs_background": "light"
     },
     "output_type": "display_data"
    }
   ],
   "source": [
    "df.plot()\n",
    "forecast_df.plot()"
   ]
  },
  {
   "cell_type": "code",
   "execution_count": 171,
   "metadata": {},
   "outputs": [
    {
     "data": {
      "text/plain": [
       "<matplotlib.axes._subplots.AxesSubplot at 0x1aa88566700>"
      ]
     },
     "execution_count": 171,
     "metadata": {},
     "output_type": "execute_result"
    },
    {
     "data": {
      "image/png": "[encoded data removed]",
      "text/plain": [
       "<Figure size 432x288 with 1 Axes>"
      ]
     },
     "metadata": {
      "needs_background": "light"
     },
     "output_type": "display_data"
    }
   ],
   "source": [
    "#Unimos ambos plots en la misma figura\n",
    "ax = df.plot()\n",
    "forecast_df.plot(ax=ax)"
   ]
  },
  {
   "cell_type": "code",
   "execution_count": 172,
   "metadata": {
    "scrolled": true
   },
   "outputs": [
    {
     "data": {
      "text/plain": [
       "(735964.0, 737425.0)"
      ]
     },
     "execution_count": 172,
     "metadata": {},
     "output_type": "execute_result"
    },
    {
     "data": {
      "image/png": "[encoded data removed]",
      "text/plain": [
       "<Figure size 432x288 with 1 Axes>"
      ]
     },
     "metadata": {
      "needs_background": "light"
     },
     "output_type": "display_data"
    }
   ],
   "source": [
    "#Hacemos zoom\n",
    "ax = df.plot()\n",
    "forecast_df.plot(ax=ax)\n",
    "plt.xlim('2016-01-01','2020-01-01')"
   ]
  },
  {
   "cell_type": "code",
   "execution_count": null,
   "metadata": {},
   "outputs": [],
   "source": [
    "from tensorflow.keras.models import load_model"
   ]
  },
  {
   "cell_type": "code",
   "execution_count": null,
   "metadata": {},
   "outputs": [],
   "source": [
    "model.save(\"modelo_forecast.h5\")"
   ]
  }
 ],
 "metadata": {
  "kernelspec": {
   "display_name": "Python 3 (ipykernel)",
   "language": "python",
   "name": "python3"
  },
  "language_info": {
   "codemirror_mode": {
    "name": "ipython",
    "version": 3
   },
   "file_extension": ".py",
   "mimetype": "text/x-python",
   "name": "python",
   "nbconvert_exporter": "python",
   "pygments_lexer": "ipython3",
   "version": "3.11.5"
  }
 },
 "nbformat": 4,
 "nbformat_minor": 2
}
