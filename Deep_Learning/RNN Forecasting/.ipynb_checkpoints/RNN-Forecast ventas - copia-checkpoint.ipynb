{
 "cells": [
  {
   "cell_type": "markdown",
   "metadata": {},
   "source": [
    "# 1.Importación librerías"
   ]
  },
  {
   "cell_type": "code",
   "execution_count": 1,
   "metadata": {},
   "outputs": [],
   "source": [
    "import pandas as pd\n",
    "import numpy as np\n",
    "import matplotlib.pyplot as plt"
   ]
  },
  {
   "cell_type": "markdown",
   "metadata": {},
   "source": [
    "# 2.Importación fuente de datos"
   ]
  },
  {
   "cell_type": "code",
   "execution_count": null,
   "metadata": {},
   "outputs": [],
   "source": [
    "#Fuente de datos con evolución de ventas mensuales: https://www.kaggle.com/podsyp/time-series-starter-dataset"
   ]
  },
  {
   "cell_type": "code",
   "execution_count": 2,
   "metadata": {},
   "outputs": [],
   "source": [
    "#Leemos el CSV parseando la columna de fechas y definiéndola en el índice del dataframe\n",
    "df = pd.read_csv('./sales data-set.csv',index_col='Date', parse_dates=True)"
   ]
  },
  {
   "cell_type": "code",
   "execution_count": 3,
   "metadata": {},
   "outputs": [
    {
     "data": {
      "text/html": [
       "<div>\n",
       "<style scoped>\n",
       "    .dataframe tbody tr th:only-of-type {\n",
       "        vertical-align: middle;\n",
       "    }\n",
       "\n",
       "    .dataframe tbody tr th {\n",
       "        vertical-align: top;\n",
       "    }\n",
       "\n",
       "    .dataframe thead th {\n",
       "        text-align: right;\n",
       "    }\n",
       "</style>\n",
       "<table border=\"1\" class=\"dataframe\">\n",
       "  <thead>\n",
       "    <tr style=\"text-align: right;\">\n",
       "      <th></th>\n",
       "      <th>Store</th>\n",
       "      <th>Dept</th>\n",
       "      <th>Weekly_Sales</th>\n",
       "      <th>IsHoliday</th>\n",
       "    </tr>\n",
       "    <tr>\n",
       "      <th>Date</th>\n",
       "      <th></th>\n",
       "      <th></th>\n",
       "      <th></th>\n",
       "      <th></th>\n",
       "    </tr>\n",
       "  </thead>\n",
       "  <tbody>\n",
       "    <tr>\n",
       "      <th>2010-05-02</th>\n",
       "      <td>1</td>\n",
       "      <td>1</td>\n",
       "      <td>24924.50</td>\n",
       "      <td>False</td>\n",
       "    </tr>\n",
       "    <tr>\n",
       "      <th>2010-12-02</th>\n",
       "      <td>1</td>\n",
       "      <td>1</td>\n",
       "      <td>46039.49</td>\n",
       "      <td>True</td>\n",
       "    </tr>\n",
       "    <tr>\n",
       "      <th>2010-02-19</th>\n",
       "      <td>1</td>\n",
       "      <td>1</td>\n",
       "      <td>41595.55</td>\n",
       "      <td>False</td>\n",
       "    </tr>\n",
       "    <tr>\n",
       "      <th>2010-02-26</th>\n",
       "      <td>1</td>\n",
       "      <td>1</td>\n",
       "      <td>19403.54</td>\n",
       "      <td>False</td>\n",
       "    </tr>\n",
       "    <tr>\n",
       "      <th>2010-05-03</th>\n",
       "      <td>1</td>\n",
       "      <td>1</td>\n",
       "      <td>21827.90</td>\n",
       "      <td>False</td>\n",
       "    </tr>\n",
       "  </tbody>\n",
       "</table>\n",
       "</div>"
      ],
      "text/plain": [
       "            Store  Dept  Weekly_Sales  IsHoliday\n",
       "Date                                            \n",
       "2010-05-02      1     1      24924.50      False\n",
       "2010-12-02      1     1      46039.49       True\n",
       "2010-02-19      1     1      41595.55      False\n",
       "2010-02-26      1     1      19403.54      False\n",
       "2010-05-03      1     1      21827.90      False"
      ]
     },
     "execution_count": 3,
     "metadata": {},
     "output_type": "execute_result"
    }
   ],
   "source": [
    "df.head()"
   ]
  },
  {
   "cell_type": "markdown",
   "metadata": {},
   "source": [
    "# 3.Preprocesado"
   ]
  },
  {
   "cell_type": "markdown",
   "metadata": {},
   "source": [
    "## 3.1Visualización de la secuencia"
   ]
  },
  {
   "cell_type": "code",
   "execution_count": 30,
   "metadata": {},
   "outputs": [],
   "source": [
    "#Nos quedaremos únicamente con la columna \"Revenue\" para hacer el forecast de 1 única variable"
   ]
  },
  {
   "cell_type": "code",
   "execution_count": 4,
   "metadata": {},
   "outputs": [],
   "source": [
    "df = df.drop(['Store', 'Dept', 'IsHoliday'],axis=1)"
   ]
  },
  {
   "cell_type": "code",
   "execution_count": 5,
   "metadata": {},
   "outputs": [
    {
     "data": {
      "text/html": [
       "<div>\n",
       "<style scoped>\n",
       "    .dataframe tbody tr th:only-of-type {\n",
       "        vertical-align: middle;\n",
       "    }\n",
       "\n",
       "    .dataframe tbody tr th {\n",
       "        vertical-align: top;\n",
       "    }\n",
       "\n",
       "    .dataframe thead th {\n",
       "        text-align: right;\n",
       "    }\n",
       "</style>\n",
       "<table border=\"1\" class=\"dataframe\">\n",
       "  <thead>\n",
       "    <tr style=\"text-align: right;\">\n",
       "      <th></th>\n",
       "      <th>Weekly_Sales</th>\n",
       "    </tr>\n",
       "    <tr>\n",
       "      <th>Date</th>\n",
       "      <th></th>\n",
       "    </tr>\n",
       "  </thead>\n",
       "  <tbody>\n",
       "    <tr>\n",
       "      <th>2010-05-02</th>\n",
       "      <td>24924.50</td>\n",
       "    </tr>\n",
       "    <tr>\n",
       "      <th>2010-12-02</th>\n",
       "      <td>46039.49</td>\n",
       "    </tr>\n",
       "    <tr>\n",
       "      <th>2010-02-19</th>\n",
       "      <td>41595.55</td>\n",
       "    </tr>\n",
       "    <tr>\n",
       "      <th>2010-02-26</th>\n",
       "      <td>19403.54</td>\n",
       "    </tr>\n",
       "    <tr>\n",
       "      <th>2010-05-03</th>\n",
       "      <td>21827.90</td>\n",
       "    </tr>\n",
       "    <tr>\n",
       "      <th>...</th>\n",
       "      <td>...</td>\n",
       "    </tr>\n",
       "    <tr>\n",
       "      <th>2012-09-28</th>\n",
       "      <td>508.37</td>\n",
       "    </tr>\n",
       "    <tr>\n",
       "      <th>2012-05-10</th>\n",
       "      <td>628.10</td>\n",
       "    </tr>\n",
       "    <tr>\n",
       "      <th>2012-12-10</th>\n",
       "      <td>1061.02</td>\n",
       "    </tr>\n",
       "    <tr>\n",
       "      <th>2012-10-19</th>\n",
       "      <td>760.01</td>\n",
       "    </tr>\n",
       "    <tr>\n",
       "      <th>2012-10-26</th>\n",
       "      <td>1076.80</td>\n",
       "    </tr>\n",
       "  </tbody>\n",
       "</table>\n",
       "<p>421570 rows × 1 columns</p>\n",
       "</div>"
      ],
      "text/plain": [
       "            Weekly_Sales\n",
       "Date                    \n",
       "2010-05-02      24924.50\n",
       "2010-12-02      46039.49\n",
       "2010-02-19      41595.55\n",
       "2010-02-26      19403.54\n",
       "2010-05-03      21827.90\n",
       "...                  ...\n",
       "2012-09-28        508.37\n",
       "2012-05-10        628.10\n",
       "2012-12-10       1061.02\n",
       "2012-10-19        760.01\n",
       "2012-10-26       1076.80\n",
       "\n",
       "[421570 rows x 1 columns]"
      ]
     },
     "execution_count": 5,
     "metadata": {},
     "output_type": "execute_result"
    }
   ],
   "source": [
    "df"
   ]
  },
  {
   "cell_type": "code",
   "execution_count": 8,
   "metadata": {},
   "outputs": [],
   "source": [
    "df2=df.groupby(\"Date\")"
   ]
  },
  {
   "cell_type": "code",
   "execution_count": 9,
   "metadata": {},
   "outputs": [
    {
     "data": {
      "text/plain": [
       "<pandas.core.groupby.generic.DataFrameGroupBy object at 0x000002A802542400>"
      ]
     },
     "execution_count": 9,
     "metadata": {},
     "output_type": "execute_result"
    }
   ],
   "source": [
    "df2"
   ]
  },
  {
   "cell_type": "code",
   "execution_count": 6,
   "metadata": {},
   "outputs": [
    {
     "data": {
      "text/plain": [
       "<matplotlib.axes._subplots.AxesSubplot at 0x2a80004bac0>"
      ]
     },
     "execution_count": 6,
     "metadata": {},
     "output_type": "execute_result"
    },
    {
     "data": {
      "image/png": "[encoded data removed]",
      "text/plain": [
       "<Figure size 864x576 with 1 Axes>"
      ]
     },
     "metadata": {
      "needs_background": "light"
     },
     "output_type": "display_data"
    }
   ],
   "source": [
    "df.plot(figsize=(12,8))"
   ]
  },
  {
   "cell_type": "markdown",
   "metadata": {},
   "source": [
    "# 4.Train Test Split"
   ]
  },
  {
   "cell_type": "code",
   "execution_count": 148,
   "metadata": {},
   "outputs": [
    {
     "data": {
      "text/plain": [
       "64"
      ]
     },
     "execution_count": 148,
     "metadata": {},
     "output_type": "execute_result"
    }
   ],
   "source": [
    "len(df)"
   ]
  },
  {
   "cell_type": "code",
   "execution_count": 149,
   "metadata": {},
   "outputs": [],
   "source": [
    "#El dataset es mensual (64 puntos = 5.33 años de datos), vamos a predecir 18 meses\n",
    "tamaño_test = 18"
   ]
  },
  {
   "cell_type": "code",
   "execution_count": 150,
   "metadata": {},
   "outputs": [],
   "source": [
    "test_ind = len(df)- tamaño_test"
   ]
  },
  {
   "cell_type": "code",
   "execution_count": 151,
   "metadata": {},
   "outputs": [
    {
     "data": {
      "text/plain": [
       "46"
      ]
     },
     "execution_count": 151,
     "metadata": {},
     "output_type": "execute_result"
    }
   ],
   "source": [
    "test_ind"
   ]
  },
  {
   "cell_type": "code",
   "execution_count": 152,
   "metadata": {},
   "outputs": [],
   "source": [
    "train = df.iloc[:test_ind]\n",
    "test = df.iloc[test_ind:]"
   ]
  },
  {
   "cell_type": "code",
   "execution_count": 153,
   "metadata": {},
   "outputs": [
    {
     "data": {
      "text/html": [
       "<div>\n",
       "<style scoped>\n",
       "    .dataframe tbody tr th:only-of-type {\n",
       "        vertical-align: middle;\n",
       "    }\n",
       "\n",
       "    .dataframe tbody tr th {\n",
       "        vertical-align: top;\n",
       "    }\n",
       "\n",
       "    .dataframe thead th {\n",
       "        text-align: right;\n",
       "    }\n",
       "</style>\n",
       "<table border=\"1\" class=\"dataframe\">\n",
       "  <thead>\n",
       "    <tr style=\"text-align: right;\">\n",
       "      <th></th>\n",
       "      <th>Revenue</th>\n",
       "    </tr>\n",
       "    <tr>\n",
       "      <th>Period</th>\n",
       "      <th></th>\n",
       "    </tr>\n",
       "  </thead>\n",
       "  <tbody>\n",
       "    <tr>\n",
       "      <th>2015-01-01</th>\n",
       "      <td>1.601007e+07</td>\n",
       "    </tr>\n",
       "    <tr>\n",
       "      <th>2015-02-01</th>\n",
       "      <td>1.580759e+07</td>\n",
       "    </tr>\n",
       "    <tr>\n",
       "      <th>2015-03-01</th>\n",
       "      <td>2.204715e+07</td>\n",
       "    </tr>\n",
       "    <tr>\n",
       "      <th>2015-04-01</th>\n",
       "      <td>1.881458e+07</td>\n",
       "    </tr>\n",
       "    <tr>\n",
       "      <th>2015-05-01</th>\n",
       "      <td>1.402148e+07</td>\n",
       "    </tr>\n",
       "    <tr>\n",
       "      <th>2015-06-01</th>\n",
       "      <td>1.678393e+07</td>\n",
       "    </tr>\n",
       "    <tr>\n",
       "      <th>2015-07-01</th>\n",
       "      <td>1.916189e+07</td>\n",
       "    </tr>\n",
       "    <tr>\n",
       "      <th>2015-08-01</th>\n",
       "      <td>1.520498e+07</td>\n",
       "    </tr>\n",
       "    <tr>\n",
       "      <th>2015-09-01</th>\n",
       "      <td>2.060394e+07</td>\n",
       "    </tr>\n",
       "    <tr>\n",
       "      <th>2015-10-01</th>\n",
       "      <td>2.099287e+07</td>\n",
       "    </tr>\n",
       "    <tr>\n",
       "      <th>2015-11-01</th>\n",
       "      <td>1.499337e+07</td>\n",
       "    </tr>\n",
       "    <tr>\n",
       "      <th>2015-12-01</th>\n",
       "      <td>2.779181e+07</td>\n",
       "    </tr>\n",
       "    <tr>\n",
       "      <th>2016-01-01</th>\n",
       "      <td>2.860159e+07</td>\n",
       "    </tr>\n",
       "    <tr>\n",
       "      <th>2016-02-01</th>\n",
       "      <td>2.236707e+07</td>\n",
       "    </tr>\n",
       "    <tr>\n",
       "      <th>2016-03-01</th>\n",
       "      <td>2.973861e+07</td>\n",
       "    </tr>\n",
       "    <tr>\n",
       "      <th>2016-04-01</th>\n",
       "      <td>2.835101e+07</td>\n",
       "    </tr>\n",
       "    <tr>\n",
       "      <th>2016-05-01</th>\n",
       "      <td>1.526460e+07</td>\n",
       "    </tr>\n",
       "    <tr>\n",
       "      <th>2016-06-01</th>\n",
       "      <td>2.438566e+07</td>\n",
       "    </tr>\n",
       "    <tr>\n",
       "      <th>2016-07-01</th>\n",
       "      <td>2.948652e+07</td>\n",
       "    </tr>\n",
       "    <tr>\n",
       "      <th>2016-08-01</th>\n",
       "      <td>1.527012e+07</td>\n",
       "    </tr>\n",
       "    <tr>\n",
       "      <th>2016-09-01</th>\n",
       "      <td>3.614103e+07</td>\n",
       "    </tr>\n",
       "    <tr>\n",
       "      <th>2016-10-01</th>\n",
       "      <td>2.791514e+07</td>\n",
       "    </tr>\n",
       "    <tr>\n",
       "      <th>2016-11-01</th>\n",
       "      <td>2.127205e+07</td>\n",
       "    </tr>\n",
       "    <tr>\n",
       "      <th>2016-12-01</th>\n",
       "      <td>4.201416e+07</td>\n",
       "    </tr>\n",
       "    <tr>\n",
       "      <th>2017-01-01</th>\n",
       "      <td>3.600738e+07</td>\n",
       "    </tr>\n",
       "    <tr>\n",
       "      <th>2017-02-01</th>\n",
       "      <td>3.039678e+07</td>\n",
       "    </tr>\n",
       "    <tr>\n",
       "      <th>2017-03-01</th>\n",
       "      <td>4.767813e+07</td>\n",
       "    </tr>\n",
       "    <tr>\n",
       "      <th>2017-04-01</th>\n",
       "      <td>2.701396e+07</td>\n",
       "    </tr>\n",
       "    <tr>\n",
       "      <th>2017-05-01</th>\n",
       "      <td>2.494884e+07</td>\n",
       "    </tr>\n",
       "    <tr>\n",
       "      <th>2017-06-01</th>\n",
       "      <td>3.110135e+07</td>\n",
       "    </tr>\n",
       "    <tr>\n",
       "      <th>2017-07-01</th>\n",
       "      <td>3.384882e+07</td>\n",
       "    </tr>\n",
       "    <tr>\n",
       "      <th>2017-08-01</th>\n",
       "      <td>1.645467e+07</td>\n",
       "    </tr>\n",
       "    <tr>\n",
       "      <th>2017-09-01</th>\n",
       "      <td>3.165009e+07</td>\n",
       "    </tr>\n",
       "    <tr>\n",
       "      <th>2017-10-01</th>\n",
       "      <td>3.157221e+07</td>\n",
       "    </tr>\n",
       "    <tr>\n",
       "      <th>2017-11-01</th>\n",
       "      <td>2.244637e+07</td>\n",
       "    </tr>\n",
       "    <tr>\n",
       "      <th>2017-12-01</th>\n",
       "      <td>4.496613e+07</td>\n",
       "    </tr>\n",
       "    <tr>\n",
       "      <th>2018-01-01</th>\n",
       "      <td>4.406752e+07</td>\n",
       "    </tr>\n",
       "    <tr>\n",
       "      <th>2018-02-01</th>\n",
       "      <td>3.602029e+07</td>\n",
       "    </tr>\n",
       "    <tr>\n",
       "      <th>2018-03-01</th>\n",
       "      <td>4.699599e+07</td>\n",
       "    </tr>\n",
       "    <tr>\n",
       "      <th>2018-04-01</th>\n",
       "      <td>3.553649e+07</td>\n",
       "    </tr>\n",
       "    <tr>\n",
       "      <th>2018-05-01</th>\n",
       "      <td>2.969960e+07</td>\n",
       "    </tr>\n",
       "    <tr>\n",
       "      <th>2018-06-01</th>\n",
       "      <td>3.326107e+07</td>\n",
       "    </tr>\n",
       "    <tr>\n",
       "      <th>2018-07-01</th>\n",
       "      <td>3.582653e+07</td>\n",
       "    </tr>\n",
       "    <tr>\n",
       "      <th>2018-08-01</th>\n",
       "      <td>2.326866e+07</td>\n",
       "    </tr>\n",
       "    <tr>\n",
       "      <th>2018-09-01</th>\n",
       "      <td>3.542349e+07</td>\n",
       "    </tr>\n",
       "    <tr>\n",
       "      <th>2018-10-01</th>\n",
       "      <td>3.983157e+07</td>\n",
       "    </tr>\n",
       "  </tbody>\n",
       "</table>\n",
       "</div>"
      ],
      "text/plain": [
       "                 Revenue\n",
       "Period                  \n",
       "2015-01-01  1.601007e+07\n",
       "2015-02-01  1.580759e+07\n",
       "2015-03-01  2.204715e+07\n",
       "2015-04-01  1.881458e+07\n",
       "2015-05-01  1.402148e+07\n",
       "2015-06-01  1.678393e+07\n",
       "2015-07-01  1.916189e+07\n",
       "2015-08-01  1.520498e+07\n",
       "2015-09-01  2.060394e+07\n",
       "2015-10-01  2.099287e+07\n",
       "2015-11-01  1.499337e+07\n",
       "2015-12-01  2.779181e+07\n",
       "2016-01-01  2.860159e+07\n",
       "2016-02-01  2.236707e+07\n",
       "2016-03-01  2.973861e+07\n",
       "2016-04-01  2.835101e+07\n",
       "2016-05-01  1.526460e+07\n",
       "2016-06-01  2.438566e+07\n",
       "2016-07-01  2.948652e+07\n",
       "2016-08-01  1.527012e+07\n",
       "2016-09-01  3.614103e+07\n",
       "2016-10-01  2.791514e+07\n",
       "2016-11-01  2.127205e+07\n",
       "2016-12-01  4.201416e+07\n",
       "2017-01-01  3.600738e+07\n",
       "2017-02-01  3.039678e+07\n",
       "2017-03-01  4.767813e+07\n",
       "2017-04-01  2.701396e+07\n",
       "2017-05-01  2.494884e+07\n",
       "2017-06-01  3.110135e+07\n",
       "2017-07-01  3.384882e+07\n",
       "2017-08-01  1.645467e+07\n",
       "2017-09-01  3.165009e+07\n",
       "2017-10-01  3.157221e+07\n",
       "2017-11-01  2.244637e+07\n",
       "2017-12-01  4.496613e+07\n",
       "2018-01-01  4.406752e+07\n",
       "2018-02-01  3.602029e+07\n",
       "2018-03-01  4.699599e+07\n",
       "2018-04-01  3.553649e+07\n",
       "2018-05-01  2.969960e+07\n",
       "2018-06-01  3.326107e+07\n",
       "2018-07-01  3.582653e+07\n",
       "2018-08-01  2.326866e+07\n",
       "2018-09-01  3.542349e+07\n",
       "2018-10-01  3.983157e+07"
      ]
     },
     "execution_count": 153,
     "metadata": {},
     "output_type": "execute_result"
    }
   ],
   "source": [
    "train"
   ]
  },
  {
   "cell_type": "code",
   "execution_count": 154,
   "metadata": {},
   "outputs": [
    {
     "data": {
      "text/html": [
       "<div>\n",
       "<style scoped>\n",
       "    .dataframe tbody tr th:only-of-type {\n",
       "        vertical-align: middle;\n",
       "    }\n",
       "\n",
       "    .dataframe tbody tr th {\n",
       "        vertical-align: top;\n",
       "    }\n",
       "\n",
       "    .dataframe thead th {\n",
       "        text-align: right;\n",
       "    }\n",
       "</style>\n",
       "<table border=\"1\" class=\"dataframe\">\n",
       "  <thead>\n",
       "    <tr style=\"text-align: right;\">\n",
       "      <th></th>\n",
       "      <th>Revenue</th>\n",
       "    </tr>\n",
       "    <tr>\n",
       "      <th>Period</th>\n",
       "      <th></th>\n",
       "    </tr>\n",
       "  </thead>\n",
       "  <tbody>\n",
       "    <tr>\n",
       "      <th>2018-11-01</th>\n",
       "      <td>3.299915e+07</td>\n",
       "    </tr>\n",
       "    <tr>\n",
       "      <th>2018-12-01</th>\n",
       "      <td>4.722183e+07</td>\n",
       "    </tr>\n",
       "    <tr>\n",
       "      <th>2019-01-01</th>\n",
       "      <td>3.645996e+07</td>\n",
       "    </tr>\n",
       "    <tr>\n",
       "      <th>2019-02-01</th>\n",
       "      <td>3.654650e+07</td>\n",
       "    </tr>\n",
       "    <tr>\n",
       "      <th>2019-03-01</th>\n",
       "      <td>5.419871e+07</td>\n",
       "    </tr>\n",
       "    <tr>\n",
       "      <th>2019-04-01</th>\n",
       "      <td>3.274399e+07</td>\n",
       "    </tr>\n",
       "    <tr>\n",
       "      <th>2019-05-01</th>\n",
       "      <td>3.253166e+07</td>\n",
       "    </tr>\n",
       "    <tr>\n",
       "      <th>2019-06-01</th>\n",
       "      <td>4.770970e+07</td>\n",
       "    </tr>\n",
       "    <tr>\n",
       "      <th>2019-07-01</th>\n",
       "      <td>4.599214e+07</td>\n",
       "    </tr>\n",
       "    <tr>\n",
       "      <th>2019-08-01</th>\n",
       "      <td>3.693367e+07</td>\n",
       "    </tr>\n",
       "    <tr>\n",
       "      <th>2019-09-01</th>\n",
       "      <td>4.852626e+07</td>\n",
       "    </tr>\n",
       "    <tr>\n",
       "      <th>2019-10-01</th>\n",
       "      <td>4.416042e+07</td>\n",
       "    </tr>\n",
       "    <tr>\n",
       "      <th>2019-11-01</th>\n",
       "      <td>3.637496e+07</td>\n",
       "    </tr>\n",
       "    <tr>\n",
       "      <th>2019-12-01</th>\n",
       "      <td>5.875647e+07</td>\n",
       "    </tr>\n",
       "    <tr>\n",
       "      <th>2020-01-01</th>\n",
       "      <td>5.628830e+07</td>\n",
       "    </tr>\n",
       "    <tr>\n",
       "      <th>2020-02-01</th>\n",
       "      <td>4.022524e+07</td>\n",
       "    </tr>\n",
       "    <tr>\n",
       "      <th>2020-03-01</th>\n",
       "      <td>5.002217e+07</td>\n",
       "    </tr>\n",
       "    <tr>\n",
       "      <th>2020-04-01</th>\n",
       "      <td>5.232069e+07</td>\n",
       "    </tr>\n",
       "  </tbody>\n",
       "</table>\n",
       "</div>"
      ],
      "text/plain": [
       "                 Revenue\n",
       "Period                  \n",
       "2018-11-01  3.299915e+07\n",
       "2018-12-01  4.722183e+07\n",
       "2019-01-01  3.645996e+07\n",
       "2019-02-01  3.654650e+07\n",
       "2019-03-01  5.419871e+07\n",
       "2019-04-01  3.274399e+07\n",
       "2019-05-01  3.253166e+07\n",
       "2019-06-01  4.770970e+07\n",
       "2019-07-01  4.599214e+07\n",
       "2019-08-01  3.693367e+07\n",
       "2019-09-01  4.852626e+07\n",
       "2019-10-01  4.416042e+07\n",
       "2019-11-01  3.637496e+07\n",
       "2019-12-01  5.875647e+07\n",
       "2020-01-01  5.628830e+07\n",
       "2020-02-01  4.022524e+07\n",
       "2020-03-01  5.002217e+07\n",
       "2020-04-01  5.232069e+07"
      ]
     },
     "execution_count": 154,
     "metadata": {},
     "output_type": "execute_result"
    }
   ],
   "source": [
    "test"
   ]
  },
  {
   "cell_type": "markdown",
   "metadata": {},
   "source": [
    "# 5.Escalado"
   ]
  },
  {
   "cell_type": "code",
   "execution_count": 155,
   "metadata": {},
   "outputs": [],
   "source": [
    "from sklearn.preprocessing import MinMaxScaler"
   ]
  },
  {
   "cell_type": "code",
   "execution_count": 156,
   "metadata": {},
   "outputs": [],
   "source": [
    "scaler = MinMaxScaler()"
   ]
  },
  {
   "cell_type": "code",
   "execution_count": 157,
   "metadata": {},
   "outputs": [
    {
     "data": {
      "text/plain": [
       "MinMaxScaler()"
      ]
     },
     "execution_count": 157,
     "metadata": {},
     "output_type": "execute_result"
    }
   ],
   "source": [
    "# Solo utilizamos train data para el ajuste del escalado, sino estaríamos asumiendo información acerca del conjunto de test\n",
    "scaler.fit(train)"
   ]
  },
  {
   "cell_type": "code",
   "execution_count": 158,
   "metadata": {},
   "outputs": [],
   "source": [
    "scaled_train = scaler.transform(train)\n",
    "scaled_test = scaler.transform(test)"
   ]
  },
  {
   "cell_type": "markdown",
   "metadata": {},
   "source": [
    "# 6. Creación Generador Serie Temporal"
   ]
  },
  {
   "cell_type": "code",
   "execution_count": 159,
   "metadata": {},
   "outputs": [],
   "source": [
    "from tensorflow.keras.preprocessing.sequence import TimeseriesGenerator"
   ]
  },
  {
   "cell_type": "code",
   "execution_count": 62,
   "metadata": {},
   "outputs": [
    {
     "name": "stdout",
     "output_type": "stream",
     "text": [
      "Help on class TimeseriesGenerator in module tensorflow.python.keras.preprocessing.sequence:\n",
      "\n",
      "class TimeseriesGenerator(keras_preprocessing.sequence.TimeseriesGenerator, tensorflow.python.keras.utils.data_utils.Sequence)\n",
      " |  TimeseriesGenerator(data, targets, length, sampling_rate=1, stride=1, start_index=0, end_index=None, shuffle=False, reverse=False, batch_size=128)\n",
      " |  \n",
      " |  Utility class for generating batches of temporal data.\n",
      " |  \n",
      " |  This class takes in a sequence of data-points gathered at\n",
      " |  equal intervals, along with time series parameters such as\n",
      " |  stride, length of history, etc., to produce batches for\n",
      " |  training/validation.\n",
      " |  # Arguments\n",
      " |      data: Indexable generator (such as list or Numpy array)\n",
      " |          containing consecutive data points (timesteps).\n",
      " |          The data should be at 2D, and axis 0 is expected\n",
      " |          to be the time dimension.\n",
      " |      targets: Targets corresponding to timesteps in `data`.\n",
      " |          It should have same length as `data`.\n",
      " |      length: Length of the output sequences (in number of timesteps).\n",
      " |      sampling_rate: Period between successive individual timesteps\n",
      " |          within sequences. For rate `r`, timesteps\n",
      " |          `data[i]`, `data[i-r]`, ... `data[i - length]`\n",
      " |          are used for create a sample sequence.\n",
      " |      stride: Period between successive output sequences.\n",
      " |          For stride `s`, consecutive output samples would\n",
      " |          be centered around `data[i]`, `data[i+s]`, `data[i+2*s]`, etc.\n",
      " |      start_index: Data points earlier than `start_index` will not be used\n",
      " |          in the output sequences. This is useful to reserve part of the\n",
      " |          data for test or validation.\n",
      " |      end_index: Data points later than `end_index` will not be used\n",
      " |          in the output sequences. This is useful to reserve part of the\n",
      " |          data for test or validation.\n",
      " |      shuffle: Whether to shuffle output samples,\n",
      " |          or instead draw them in chronological order.\n",
      " |      reverse: Boolean: if `true`, timesteps in each output sample will be\n",
      " |          in reverse chronological order.\n",
      " |      batch_size: Number of timeseries samples in each batch\n",
      " |          (except maybe the last one).\n",
      " |  # Returns\n",
      " |      A [Sequence](/utils/#sequence) instance.\n",
      " |  # Examples\n",
      " |  ```python\n",
      " |  from keras.preprocessing.sequence import TimeseriesGenerator\n",
      " |  import numpy as np\n",
      " |  data = np.array([[i] for i in range(50)])\n",
      " |  targets = np.array([[i] for i in range(50)])\n",
      " |  data_gen = TimeseriesGenerator(data, targets,\n",
      " |                                 length=10, sampling_rate=2,\n",
      " |                                 batch_size=2)\n",
      " |  assert len(data_gen) == 20\n",
      " |  batch_0 = data_gen[0]\n",
      " |  x, y = batch_0\n",
      " |  assert np.array_equal(x,\n",
      " |                        np.array([[[0], [2], [4], [6], [8]],\n",
      " |                                  [[1], [3], [5], [7], [9]]]))\n",
      " |  assert np.array_equal(y,\n",
      " |                        np.array([[10], [11]]))\n",
      " |  ```\n",
      " |  \n",
      " |  Method resolution order:\n",
      " |      TimeseriesGenerator\n",
      " |      keras_preprocessing.sequence.TimeseriesGenerator\n",
      " |      tensorflow.python.keras.utils.data_utils.Sequence\n",
      " |      builtins.object\n",
      " |  \n",
      " |  Methods inherited from keras_preprocessing.sequence.TimeseriesGenerator:\n",
      " |  \n",
      " |  __getitem__(self, index)\n",
      " |  \n",
      " |  __init__(self, data, targets, length, sampling_rate=1, stride=1, start_index=0, end_index=None, shuffle=False, reverse=False, batch_size=128)\n",
      " |      Initialize self.  See help(type(self)) for accurate signature.\n",
      " |  \n",
      " |  __len__(self)\n",
      " |  \n",
      " |  get_config(self)\n",
      " |      Returns the TimeseriesGenerator configuration as Python dictionary.\n",
      " |      \n",
      " |      # Returns\n",
      " |          A Python dictionary with the TimeseriesGenerator configuration.\n",
      " |  \n",
      " |  to_json(self, **kwargs)\n",
      " |      Returns a JSON string containing the timeseries generator\n",
      " |      configuration. To load a generator from a JSON string, use\n",
      " |      `keras.preprocessing.sequence.timeseries_generator_from_json(json_string)`.\n",
      " |      \n",
      " |      # Arguments\n",
      " |          **kwargs: Additional keyword arguments\n",
      " |              to be passed to `json.dumps()`.\n",
      " |      \n",
      " |      # Returns\n",
      " |          A JSON string containing the tokenizer configuration.\n",
      " |  \n",
      " |  ----------------------------------------------------------------------\n",
      " |  Data descriptors inherited from keras_preprocessing.sequence.TimeseriesGenerator:\n",
      " |  \n",
      " |  __dict__\n",
      " |      dictionary for instance variables (if defined)\n",
      " |  \n",
      " |  __weakref__\n",
      " |      list of weak references to the object (if defined)\n",
      " |  \n",
      " |  ----------------------------------------------------------------------\n",
      " |  Methods inherited from tensorflow.python.keras.utils.data_utils.Sequence:\n",
      " |  \n",
      " |  __iter__(self)\n",
      " |      Create a generator that iterate over the Sequence.\n",
      " |  \n",
      " |  on_epoch_end(self)\n",
      " |      Method called at the end of every epoch.\n",
      "\n"
     ]
    }
   ],
   "source": [
    "help(TimeseriesGenerator)"
   ]
  },
  {
   "cell_type": "code",
   "execution_count": 160,
   "metadata": {},
   "outputs": [],
   "source": [
    "# Suponemos coger 12 meses atrás para predecir el siguiente mes (1 muestra)\n",
    "longitud = 12\n",
    "tamaño_batch = 1\n",
    "generador = TimeseriesGenerator(data=scaled_train, targets=scaled_train, length=longitud, batch_size=tamaño_batch)"
   ]
  },
  {
   "cell_type": "code",
   "execution_count": 161,
   "metadata": {},
   "outputs": [],
   "source": [
    "# ¿Qué obtenemos del primer batch?\n",
    "X,y = generador[0]"
   ]
  },
  {
   "cell_type": "code",
   "execution_count": 162,
   "metadata": {},
   "outputs": [
    {
     "name": "stdout",
     "output_type": "stream",
     "text": [
      "Dado el array de entrada: \n",
      "[0.05908468 0.0530685  0.23845707 0.14241178 0.         0.08207736\n",
      " 0.15273096 0.03516407 0.19557681 0.20713276 0.02887661 0.40914136]\n",
      "Predecimos: \n",
      " [[0.43320136]]\n"
     ]
    }
   ],
   "source": [
    "print(f'Dado el array de entrada: \\n{X.flatten()}')\n",
    "print(f'Predecimos: \\n {y}')"
   ]
  },
  {
   "cell_type": "markdown",
   "metadata": {},
   "source": [
    "# 7.Creación del modelo"
   ]
  },
  {
   "cell_type": "code",
   "execution_count": 163,
   "metadata": {},
   "outputs": [],
   "source": [
    "from tensorflow.keras.models import Sequential\n",
    "from tensorflow.keras.layers import Dense\n",
    "from tensorflow.keras.layers import LSTM"
   ]
  },
  {
   "cell_type": "code",
   "execution_count": 164,
   "metadata": {},
   "outputs": [],
   "source": [
    "# Definimos el número de variables de salida a predecir (1 variable = \"Revenue\")\n",
    "n_variables = 1 #Si hubiera múltiples variables cogeríamos el número de columnas: scaled_train.shape[1]"
   ]
  },
  {
   "cell_type": "code",
   "execution_count": 207,
   "metadata": {},
   "outputs": [],
   "source": [
    "# Definir modelo\n",
    "model = Sequential()\n",
    "model.add(LSTM(64, activation='relu', input_shape=(longitud, n_variables))) # Podemos aumentar el número de neuronas LSTM para intentar conseguir mayor precisión\n",
    "model.add(Dense(n_variables)) #Solo 1 variable de salida, si hubiera múltiples variables indicaríamos tantas neuronas como variables\n",
    "model.compile(optimizer='adam', loss='mse')"
   ]
  },
  {
   "cell_type": "code",
   "execution_count": 208,
   "metadata": {},
   "outputs": [
    {
     "name": "stdout",
     "output_type": "stream",
     "text": [
      "Model: \"sequential_7\"\n",
      "_________________________________________________________________\n",
      "Layer (type)                 Output Shape              Param #   \n",
      "=================================================================\n",
      "lstm_7 (LSTM)                (None, 64)                16896     \n",
      "_________________________________________________________________\n",
      "dense_7 (Dense)              (None, 1)                 65        \n",
      "=================================================================\n",
      "Total params: 16,961\n",
      "Trainable params: 16,961\n",
      "Non-trainable params: 0\n",
      "_________________________________________________________________\n"
     ]
    }
   ],
   "source": [
    "model.summary()"
   ]
  },
  {
   "cell_type": "markdown",
   "metadata": {},
   "source": [
    "# 8. Entrenamiento del modelo"
   ]
  },
  {
   "cell_type": "markdown",
   "metadata": {},
   "source": [
    "NOTA: El tamaño del conjunto de test debe ser superior a la \"longitud\" elegida para los batches."
   ]
  },
  {
   "cell_type": "code",
   "execution_count": 209,
   "metadata": {},
   "outputs": [],
   "source": [
    "from tensorflow.keras.callbacks import EarlyStopping"
   ]
  },
  {
   "cell_type": "code",
   "execution_count": 291,
   "metadata": {},
   "outputs": [],
   "source": [
    "early_stop = EarlyStopping(monitor='val_loss',patience=4)"
   ]
  },
  {
   "cell_type": "code",
   "execution_count": 292,
   "metadata": {},
   "outputs": [],
   "source": [
    "#Definimos generador para el conjunto de test de tal manera que nos sirva para la validación del modelo\n",
    "val_generador = TimeseriesGenerator(scaled_test,scaled_test, length=longitud, batch_size=tamaño_batch)"
   ]
  },
  {
   "cell_type": "code",
   "execution_count": 293,
   "metadata": {},
   "outputs": [
    {
     "name": "stdout",
     "output_type": "stream",
     "text": [
      "Epoch 1/30\n",
      "50/52 [===========================>..] - ETA: 0s - loss: 0.0218"
     ]
    },
    {
     "name": "stderr",
     "output_type": "stream",
     "text": [
      "C:\\Users\\ivan_pinar\\Anaconda3\\lib\\site-packages\\tensorflow\\python\\keras\\engine\\training.py:1844: UserWarning: `Model.fit_generator` is deprecated and will be removed in a future version. Please use `Model.fit`, which supports generators.\n",
      "  warnings.warn('`Model.fit_generator` is deprecated and '\n"
     ]
    },
    {
     "name": "stdout",
     "output_type": "stream",
     "text": [
      "52/52 [==============================] - 0s 4ms/step - loss: 0.0231 - val_loss: 0.0531\n",
      "Epoch 2/30\n",
      "52/52 [==============================] - 0s 3ms/step - loss: 0.0220 - val_loss: 0.0520\n",
      "Epoch 3/30\n",
      "52/52 [==============================] - 0s 3ms/step - loss: 0.0218 - val_loss: 0.0545\n",
      "Epoch 4/30\n",
      "52/52 [==============================] - 0s 3ms/step - loss: 0.0212 - val_loss: 0.0529\n",
      "Epoch 5/30\n",
      "52/52 [==============================] - 0s 3ms/step - loss: 0.0237 - val_loss: 0.0508\n",
      "Epoch 6/30\n",
      "52/52 [==============================] - 0s 3ms/step - loss: 0.0218 - val_loss: 0.0738\n",
      "Epoch 7/30\n",
      "52/52 [==============================] - 0s 3ms/step - loss: 0.0189 - val_loss: 0.0601\n",
      "Epoch 8/30\n",
      "52/52 [==============================] - 0s 3ms/step - loss: 0.0221 - val_loss: 0.0530\n",
      "Epoch 9/30\n",
      "52/52 [==============================] - 0s 3ms/step - loss: 0.0209 - val_loss: 0.0676\n"
     ]
    },
    {
     "data": {
      "text/plain": [
       "<tensorflow.python.keras.callbacks.History at 0x223d0e7e610>"
      ]
     },
     "execution_count": 293,
     "metadata": {},
     "output_type": "execute_result"
    }
   ],
   "source": [
    "model.fit_generator(generador,epochs=30,\n",
    "                    validation_data=val_generador,\n",
    "                   callbacks=[early_stop])"
   ]
  },
  {
   "cell_type": "code",
   "execution_count": 294,
   "metadata": {},
   "outputs": [],
   "source": [
    "losses = pd.DataFrame(model.history.history)"
   ]
  },
  {
   "cell_type": "code",
   "execution_count": 295,
   "metadata": {
    "scrolled": true
   },
   "outputs": [
    {
     "data": {
      "text/plain": [
       "<matplotlib.axes._subplots.AxesSubplot at 0x223d0ee9bb0>"
      ]
     },
     "execution_count": 295,
     "metadata": {},
     "output_type": "execute_result"
    },
    {
     "data": {
      "image/png": "[encoded data removed]",
      "text/plain": [
       "<Figure size 432x288 with 1 Axes>"
      ]
     },
     "metadata": {
      "needs_background": "light"
     },
     "output_type": "display_data"
    }
   ],
   "source": [
    "losses.plot()"
   ]
  },
  {
   "cell_type": "markdown",
   "metadata": {},
   "source": [
    "# 9. Evaluación del modelo"
   ]
  },
  {
   "cell_type": "markdown",
   "metadata": {},
   "source": [
    "## 9.1 Predicción sobre el conjunto de Test"
   ]
  },
  {
   "cell_type": "code",
   "execution_count": 296,
   "metadata": {},
   "outputs": [],
   "source": [
    "primer_batch = scaled_train[-longitud:]"
   ]
  },
  {
   "cell_type": "code",
   "execution_count": 297,
   "metadata": {},
   "outputs": [
    {
     "data": {
      "text/plain": [
       "(12, 1)"
      ]
     },
     "execution_count": 297,
     "metadata": {},
     "output_type": "execute_result"
    }
   ],
   "source": [
    "primer_batch.shape"
   ]
  },
  {
   "cell_type": "code",
   "execution_count": 298,
   "metadata": {},
   "outputs": [],
   "source": [
    "primer_batch = primer_batch.reshape((1, longitud, n_variables))"
   ]
  },
  {
   "cell_type": "code",
   "execution_count": 299,
   "metadata": {},
   "outputs": [
    {
     "data": {
      "text/plain": [
       "(1, 12, 1)"
      ]
     },
     "execution_count": 299,
     "metadata": {},
     "output_type": "execute_result"
    }
   ],
   "source": [
    "primer_batch.shape"
   ]
  },
  {
   "cell_type": "code",
   "execution_count": 300,
   "metadata": {},
   "outputs": [
    {
     "data": {
      "text/plain": [
       "array([[0.5866355]], dtype=float32)"
      ]
     },
     "execution_count": 300,
     "metadata": {},
     "output_type": "execute_result"
    }
   ],
   "source": [
    "model.predict(primer_batch)"
   ]
  },
  {
   "cell_type": "code",
   "execution_count": 301,
   "metadata": {},
   "outputs": [
    {
     "data": {
      "text/plain": [
       "array([0.56386078])"
      ]
     },
     "execution_count": 301,
     "metadata": {},
     "output_type": "execute_result"
    }
   ],
   "source": [
    "scaled_test[0]"
   ]
  },
  {
   "cell_type": "markdown",
   "metadata": {},
   "source": [
    "Ahora definimos esta lógica en un bucle FOR para predecir en todo el conjunto de test"
   ]
  },
  {
   "cell_type": "code",
   "execution_count": 302,
   "metadata": {},
   "outputs": [],
   "source": [
    "test_predictions = []\n",
    "\n",
    "primer_batch = scaled_train[-longitud:]\n",
    "batch_actual = primer_batch.reshape((1, longitud, n_variables))\n",
    "\n",
    "for i in range(len(test)):\n",
    "    \n",
    "    # Hacemos la predicción 1 time stamp (el siguiente mes). Indicar [0] para coger el valor de la predicción en lugar del array\n",
    "    pred_actual = model.predict(batch_actual)[0]\n",
    "    \n",
    "    # Guardamos la predicción en la lista test_predictions\n",
    "    test_predictions.append(pred_actual) \n",
    "    \n",
    "    # Actualizamos el batch para descartar el primer valor e incluir la nueva predicción (desplazamiento)\n",
    "    batch_actual = np.append(batch_actual[:,1:,:],[[pred_actual]],axis=1)"
   ]
  },
  {
   "cell_type": "code",
   "execution_count": 303,
   "metadata": {},
   "outputs": [],
   "source": [
    "#Desescalamos las predicciones para obtener los valores reales (\"true_predictions\")\n",
    "true_predictions = scaler.inverse_transform(test_predictions)"
   ]
  },
  {
   "cell_type": "code",
   "execution_count": 304,
   "metadata": {},
   "outputs": [
    {
     "name": "stderr",
     "output_type": "stream",
     "text": [
      "<ipython-input-304-30aa5f6f6f6a>:1: SettingWithCopyWarning: \n",
      "A value is trying to be set on a copy of a slice from a DataFrame.\n",
      "Try using .loc[row_indexer,col_indexer] = value instead\n",
      "\n",
      "See the caveats in the documentation: https://pandas.pydata.org/pandas-docs/stable/user_guide/indexing.html#returning-a-view-versus-a-copy\n",
      "  test['Predicción'] = true_predictions\n"
     ]
    }
   ],
   "source": [
    "test['Predicción'] = true_predictions"
   ]
  },
  {
   "cell_type": "code",
   "execution_count": 305,
   "metadata": {},
   "outputs": [
    {
     "data": {
      "text/html": [
       "<div>\n",
       "<style scoped>\n",
       "    .dataframe tbody tr th:only-of-type {\n",
       "        vertical-align: middle;\n",
       "    }\n",
       "\n",
       "    .dataframe tbody tr th {\n",
       "        vertical-align: top;\n",
       "    }\n",
       "\n",
       "    .dataframe thead th {\n",
       "        text-align: right;\n",
       "    }\n",
       "</style>\n",
       "<table border=\"1\" class=\"dataframe\">\n",
       "  <thead>\n",
       "    <tr style=\"text-align: right;\">\n",
       "      <th></th>\n",
       "      <th>Revenue</th>\n",
       "      <th>Predicción</th>\n",
       "    </tr>\n",
       "    <tr>\n",
       "      <th>Period</th>\n",
       "      <th></th>\n",
       "      <th></th>\n",
       "    </tr>\n",
       "  </thead>\n",
       "  <tbody>\n",
       "    <tr>\n",
       "      <th>2018-11-01</th>\n",
       "      <td>3.299915e+07</td>\n",
       "      <td>3.376566e+07</td>\n",
       "    </tr>\n",
       "    <tr>\n",
       "      <th>2018-12-01</th>\n",
       "      <td>4.722183e+07</td>\n",
       "      <td>4.395821e+07</td>\n",
       "    </tr>\n",
       "    <tr>\n",
       "      <th>2019-01-01</th>\n",
       "      <td>3.645996e+07</td>\n",
       "      <td>4.333389e+07</td>\n",
       "    </tr>\n",
       "    <tr>\n",
       "      <th>2019-02-01</th>\n",
       "      <td>3.654650e+07</td>\n",
       "      <td>3.916652e+07</td>\n",
       "    </tr>\n",
       "    <tr>\n",
       "      <th>2019-03-01</th>\n",
       "      <td>5.419871e+07</td>\n",
       "      <td>4.350217e+07</td>\n",
       "    </tr>\n",
       "    <tr>\n",
       "      <th>2019-04-01</th>\n",
       "      <td>3.274399e+07</td>\n",
       "      <td>3.720833e+07</td>\n",
       "    </tr>\n",
       "    <tr>\n",
       "      <th>2019-05-01</th>\n",
       "      <td>3.253166e+07</td>\n",
       "      <td>3.484633e+07</td>\n",
       "    </tr>\n",
       "    <tr>\n",
       "      <th>2019-06-01</th>\n",
       "      <td>4.770970e+07</td>\n",
       "      <td>3.612880e+07</td>\n",
       "    </tr>\n",
       "    <tr>\n",
       "      <th>2019-07-01</th>\n",
       "      <td>4.599214e+07</td>\n",
       "      <td>3.710685e+07</td>\n",
       "    </tr>\n",
       "    <tr>\n",
       "      <th>2019-08-01</th>\n",
       "      <td>3.693367e+07</td>\n",
       "      <td>3.220167e+07</td>\n",
       "    </tr>\n",
       "    <tr>\n",
       "      <th>2019-09-01</th>\n",
       "      <td>4.852626e+07</td>\n",
       "      <td>3.895991e+07</td>\n",
       "    </tr>\n",
       "    <tr>\n",
       "      <th>2019-10-01</th>\n",
       "      <td>4.416042e+07</td>\n",
       "      <td>4.157975e+07</td>\n",
       "    </tr>\n",
       "    <tr>\n",
       "      <th>2019-11-01</th>\n",
       "      <td>3.637496e+07</td>\n",
       "      <td>3.922560e+07</td>\n",
       "    </tr>\n",
       "    <tr>\n",
       "      <th>2019-12-01</th>\n",
       "      <td>5.875647e+07</td>\n",
       "      <td>4.443915e+07</td>\n",
       "    </tr>\n",
       "    <tr>\n",
       "      <th>2020-01-01</th>\n",
       "      <td>5.628830e+07</td>\n",
       "      <td>4.400481e+07</td>\n",
       "    </tr>\n",
       "    <tr>\n",
       "      <th>2020-02-01</th>\n",
       "      <td>4.022524e+07</td>\n",
       "      <td>4.172167e+07</td>\n",
       "    </tr>\n",
       "    <tr>\n",
       "      <th>2020-03-01</th>\n",
       "      <td>5.002217e+07</td>\n",
       "      <td>4.325851e+07</td>\n",
       "    </tr>\n",
       "    <tr>\n",
       "      <th>2020-04-01</th>\n",
       "      <td>5.232069e+07</td>\n",
       "      <td>3.993873e+07</td>\n",
       "    </tr>\n",
       "  </tbody>\n",
       "</table>\n",
       "</div>"
      ],
      "text/plain": [
       "                 Revenue    Predicción\n",
       "Period                                \n",
       "2018-11-01  3.299915e+07  3.376566e+07\n",
       "2018-12-01  4.722183e+07  4.395821e+07\n",
       "2019-01-01  3.645996e+07  4.333389e+07\n",
       "2019-02-01  3.654650e+07  3.916652e+07\n",
       "2019-03-01  5.419871e+07  4.350217e+07\n",
       "2019-04-01  3.274399e+07  3.720833e+07\n",
       "2019-05-01  3.253166e+07  3.484633e+07\n",
       "2019-06-01  4.770970e+07  3.612880e+07\n",
       "2019-07-01  4.599214e+07  3.710685e+07\n",
       "2019-08-01  3.693367e+07  3.220167e+07\n",
       "2019-09-01  4.852626e+07  3.895991e+07\n",
       "2019-10-01  4.416042e+07  4.157975e+07\n",
       "2019-11-01  3.637496e+07  3.922560e+07\n",
       "2019-12-01  5.875647e+07  4.443915e+07\n",
       "2020-01-01  5.628830e+07  4.400481e+07\n",
       "2020-02-01  4.022524e+07  4.172167e+07\n",
       "2020-03-01  5.002217e+07  4.325851e+07\n",
       "2020-04-01  5.232069e+07  3.993873e+07"
      ]
     },
     "execution_count": 305,
     "metadata": {},
     "output_type": "execute_result"
    }
   ],
   "source": [
    "test"
   ]
  },
  {
   "cell_type": "code",
   "execution_count": 306,
   "metadata": {
    "scrolled": true
   },
   "outputs": [
    {
     "data": {
      "text/plain": [
       "<matplotlib.axes._subplots.AxesSubplot at 0x223d0f95b20>"
      ]
     },
     "execution_count": 306,
     "metadata": {},
     "output_type": "execute_result"
    },
    {
     "data": {
      "image/png": "[encoded data removed]",
      "text/plain": [
       "<Figure size 864x576 with 1 Axes>"
      ]
     },
     "metadata": {
      "needs_background": "light"
     },
     "output_type": "display_data"
    }
   ],
   "source": [
    "test.plot(figsize=(12,8))"
   ]
  },
  {
   "cell_type": "code",
   "execution_count": 205,
   "metadata": {},
   "outputs": [],
   "source": [
    "from sklearn.metrics import mean_squared_error"
   ]
  },
  {
   "cell_type": "code",
   "execution_count": 307,
   "metadata": {},
   "outputs": [
    {
     "data": {
      "text/plain": [
       "7831509.198992036"
      ]
     },
     "execution_count": 307,
     "metadata": {},
     "output_type": "execute_result"
    }
   ],
   "source": [
    "np.sqrt(mean_squared_error(test['Revenue'],test['Predicción']))"
   ]
  },
  {
   "cell_type": "markdown",
   "metadata": {
    "collapsed": true
   },
   "source": [
    "## 8.2 Predicción de nuevos datos (forecast)"
   ]
  },
  {
   "cell_type": "code",
   "execution_count": 308,
   "metadata": {},
   "outputs": [],
   "source": [
    "#Cogemos todos los datos originales y escalamos en base a ellos\n",
    "full_scaler = MinMaxScaler()\n",
    "scaled_full_data = full_scaler.fit_transform(df)"
   ]
  },
  {
   "cell_type": "code",
   "execution_count": 309,
   "metadata": {},
   "outputs": [],
   "source": [
    "longitud = 12 # Longitud de la secuencia de salida a predecir (en número de timesteps)\n",
    "generador = TimeseriesGenerator(scaled_full_data, scaled_full_data, length=longitud, batch_size=tamaño_batch)"
   ]
  },
  {
   "cell_type": "code",
   "execution_count": 310,
   "metadata": {},
   "outputs": [
    {
     "name": "stderr",
     "output_type": "stream",
     "text": [
      "C:\\Users\\ivan_pinar\\Anaconda3\\lib\\site-packages\\tensorflow\\python\\keras\\engine\\training.py:1844: UserWarning: `Model.fit_generator` is deprecated and will be removed in a future version. Please use `Model.fit`, which supports generators.\n",
      "  warnings.warn('`Model.fit_generator` is deprecated and '\n"
     ]
    },
    {
     "name": "stdout",
     "output_type": "stream",
     "text": [
      "Epoch 1/4\n",
      "52/52 [==============================] - 1s 2ms/step - loss: 0.1401\n",
      "Epoch 2/4\n",
      "52/52 [==============================] - 0s 2ms/step - loss: 0.0423\n",
      "Epoch 3/4\n",
      "52/52 [==============================] - 0s 2ms/step - loss: 0.0357\n",
      "Epoch 4/4\n",
      "52/52 [==============================] - 0s 2ms/step - loss: 0.0369\n"
     ]
    },
    {
     "data": {
      "text/plain": [
       "<tensorflow.python.keras.callbacks.History at 0x223d119d160>"
      ]
     },
     "execution_count": 310,
     "metadata": {},
     "output_type": "execute_result"
    }
   ],
   "source": [
    "model = Sequential()\n",
    "model.add(LSTM(100, activation='relu', input_shape=(longitud, n_variables)))\n",
    "model.add(Dense(1))\n",
    "model.compile(optimizer='adam', loss='mse')\n",
    "\n",
    "# Ajustamos el modelo, escogemos el número de epochs en base al entrenamiento anterior (no tiene sentido EarlyStopping puesto que no tenemos ahora datos de validación con los que comparar)\n",
    "model.fit_generator(generador,epochs=4)"
   ]
  },
  {
   "cell_type": "code",
   "execution_count": 311,
   "metadata": {},
   "outputs": [],
   "source": [
    "forecast = []\n",
    "\n",
    "periodos = 12 # Indicamos el número de periodos en base a la longitud del forecast deseada (12 meses)\n",
    "\n",
    "primer_batch = scaled_full_data[-longitud:]\n",
    "batch_actual = primer_batch.reshape((1, longitud, n_variables))\n",
    "\n",
    "for i in range(periodos):\n",
    "\n",
    "    pred_actual = model.predict(batch_actual)[0]\n",
    "    forecast.append(pred_actual) \n",
    "    batch_actual = np.append(batch_actual[:,1:,:],[[pred_actual]],axis=1)"
   ]
  },
  {
   "cell_type": "code",
   "execution_count": 312,
   "metadata": {},
   "outputs": [],
   "source": [
    "forecast = scaler.inverse_transform(forecast)"
   ]
  },
  {
   "cell_type": "markdown",
   "metadata": {},
   "source": [
    "Creamos el nuevo índice de tiempos para el forecast"
   ]
  },
  {
   "cell_type": "code",
   "execution_count": 313,
   "metadata": {},
   "outputs": [
    {
     "data": {
      "text/html": [
       "<div>\n",
       "<style scoped>\n",
       "    .dataframe tbody tr th:only-of-type {\n",
       "        vertical-align: middle;\n",
       "    }\n",
       "\n",
       "    .dataframe tbody tr th {\n",
       "        vertical-align: top;\n",
       "    }\n",
       "\n",
       "    .dataframe thead th {\n",
       "        text-align: right;\n",
       "    }\n",
       "</style>\n",
       "<table border=\"1\" class=\"dataframe\">\n",
       "  <thead>\n",
       "    <tr style=\"text-align: right;\">\n",
       "      <th></th>\n",
       "      <th>Revenue</th>\n",
       "    </tr>\n",
       "    <tr>\n",
       "      <th>Period</th>\n",
       "      <th></th>\n",
       "    </tr>\n",
       "  </thead>\n",
       "  <tbody>\n",
       "    <tr>\n",
       "      <th>2015-01-01</th>\n",
       "      <td>1.601007e+07</td>\n",
       "    </tr>\n",
       "    <tr>\n",
       "      <th>2015-02-01</th>\n",
       "      <td>1.580759e+07</td>\n",
       "    </tr>\n",
       "    <tr>\n",
       "      <th>2015-03-01</th>\n",
       "      <td>2.204715e+07</td>\n",
       "    </tr>\n",
       "    <tr>\n",
       "      <th>2015-04-01</th>\n",
       "      <td>1.881458e+07</td>\n",
       "    </tr>\n",
       "    <tr>\n",
       "      <th>2015-05-01</th>\n",
       "      <td>1.402148e+07</td>\n",
       "    </tr>\n",
       "    <tr>\n",
       "      <th>...</th>\n",
       "      <td>...</td>\n",
       "    </tr>\n",
       "    <tr>\n",
       "      <th>2019-12-01</th>\n",
       "      <td>5.875647e+07</td>\n",
       "    </tr>\n",
       "    <tr>\n",
       "      <th>2020-01-01</th>\n",
       "      <td>5.628830e+07</td>\n",
       "    </tr>\n",
       "    <tr>\n",
       "      <th>2020-02-01</th>\n",
       "      <td>4.022524e+07</td>\n",
       "    </tr>\n",
       "    <tr>\n",
       "      <th>2020-03-01</th>\n",
       "      <td>5.002217e+07</td>\n",
       "    </tr>\n",
       "    <tr>\n",
       "      <th>2020-04-01</th>\n",
       "      <td>5.232069e+07</td>\n",
       "    </tr>\n",
       "  </tbody>\n",
       "</table>\n",
       "<p>64 rows × 1 columns</p>\n",
       "</div>"
      ],
      "text/plain": [
       "                 Revenue\n",
       "Period                  \n",
       "2015-01-01  1.601007e+07\n",
       "2015-02-01  1.580759e+07\n",
       "2015-03-01  2.204715e+07\n",
       "2015-04-01  1.881458e+07\n",
       "2015-05-01  1.402148e+07\n",
       "...                  ...\n",
       "2019-12-01  5.875647e+07\n",
       "2020-01-01  5.628830e+07\n",
       "2020-02-01  4.022524e+07\n",
       "2020-03-01  5.002217e+07\n",
       "2020-04-01  5.232069e+07\n",
       "\n",
       "[64 rows x 1 columns]"
      ]
     },
     "execution_count": 313,
     "metadata": {},
     "output_type": "execute_result"
    }
   ],
   "source": [
    "df"
   ]
  },
  {
   "cell_type": "code",
   "execution_count": 314,
   "metadata": {},
   "outputs": [],
   "source": [
    "#Creamos el índice para que empiece en el siguiente timestamp en el que acaban nuestros datos históricos\n",
    "forecast_index = pd.date_range(start='2020-05-01',periods=periodos,freq='MS') #MS = Monthly Start"
   ]
  },
  {
   "cell_type": "code",
   "execution_count": 315,
   "metadata": {},
   "outputs": [],
   "source": [
    "forecast_df = pd.DataFrame(data=forecast,index=forecast_index,\n",
    "                           columns=['Forecast'])"
   ]
  },
  {
   "cell_type": "code",
   "execution_count": 316,
   "metadata": {},
   "outputs": [
    {
     "data": {
      "text/html": [
       "<div>\n",
       "<style scoped>\n",
       "    .dataframe tbody tr th:only-of-type {\n",
       "        vertical-align: middle;\n",
       "    }\n",
       "\n",
       "    .dataframe tbody tr th {\n",
       "        vertical-align: top;\n",
       "    }\n",
       "\n",
       "    .dataframe thead th {\n",
       "        text-align: right;\n",
       "    }\n",
       "</style>\n",
       "<table border=\"1\" class=\"dataframe\">\n",
       "  <thead>\n",
       "    <tr style=\"text-align: right;\">\n",
       "      <th></th>\n",
       "      <th>Forecast</th>\n",
       "    </tr>\n",
       "  </thead>\n",
       "  <tbody>\n",
       "    <tr>\n",
       "      <th>2020-05-01</th>\n",
       "      <td>4.165692e+07</td>\n",
       "    </tr>\n",
       "    <tr>\n",
       "      <th>2020-06-01</th>\n",
       "      <td>4.280883e+07</td>\n",
       "    </tr>\n",
       "    <tr>\n",
       "      <th>2020-07-01</th>\n",
       "      <td>4.320319e+07</td>\n",
       "    </tr>\n",
       "    <tr>\n",
       "      <th>2020-08-01</th>\n",
       "      <td>4.380433e+07</td>\n",
       "    </tr>\n",
       "    <tr>\n",
       "      <th>2020-09-01</th>\n",
       "      <td>4.496438e+07</td>\n",
       "    </tr>\n",
       "    <tr>\n",
       "      <th>2020-10-01</th>\n",
       "      <td>4.553290e+07</td>\n",
       "    </tr>\n",
       "    <tr>\n",
       "      <th>2020-11-01</th>\n",
       "      <td>4.644605e+07</td>\n",
       "    </tr>\n",
       "    <tr>\n",
       "      <th>2020-12-01</th>\n",
       "      <td>4.779036e+07</td>\n",
       "    </tr>\n",
       "    <tr>\n",
       "      <th>2021-01-01</th>\n",
       "      <td>4.783646e+07</td>\n",
       "    </tr>\n",
       "    <tr>\n",
       "      <th>2021-02-01</th>\n",
       "      <td>4.822644e+07</td>\n",
       "    </tr>\n",
       "    <tr>\n",
       "      <th>2021-03-01</th>\n",
       "      <td>4.965853e+07</td>\n",
       "    </tr>\n",
       "    <tr>\n",
       "      <th>2021-04-01</th>\n",
       "      <td>5.058856e+07</td>\n",
       "    </tr>\n",
       "  </tbody>\n",
       "</table>\n",
       "</div>"
      ],
      "text/plain": [
       "                Forecast\n",
       "2020-05-01  4.165692e+07\n",
       "2020-06-01  4.280883e+07\n",
       "2020-07-01  4.320319e+07\n",
       "2020-08-01  4.380433e+07\n",
       "2020-09-01  4.496438e+07\n",
       "2020-10-01  4.553290e+07\n",
       "2020-11-01  4.644605e+07\n",
       "2020-12-01  4.779036e+07\n",
       "2021-01-01  4.783646e+07\n",
       "2021-02-01  4.822644e+07\n",
       "2021-03-01  4.965853e+07\n",
       "2021-04-01  5.058856e+07"
      ]
     },
     "execution_count": 316,
     "metadata": {},
     "output_type": "execute_result"
    }
   ],
   "source": [
    "forecast_df"
   ]
  },
  {
   "cell_type": "code",
   "execution_count": 317,
   "metadata": {},
   "outputs": [
    {
     "data": {
      "text/plain": [
       "<matplotlib.axes._subplots.AxesSubplot at 0x223d3cb8760>"
      ]
     },
     "execution_count": 317,
     "metadata": {},
     "output_type": "execute_result"
    },
    {
     "data": {
      "image/png": "[encoded data removed]",
      "text/plain": [
       "<Figure size 432x288 with 1 Axes>"
      ]
     },
     "metadata": {
      "needs_background": "light"
     },
     "output_type": "display_data"
    },
    {
     "data": {
      "image/png": "[encoded data removed]",
      "text/plain": [
       "<Figure size 432x288 with 1 Axes>"
      ]
     },
     "metadata": {
      "needs_background": "light"
     },
     "output_type": "display_data"
    }
   ],
   "source": [
    "df.plot()\n",
    "forecast_df.plot()"
   ]
  },
  {
   "cell_type": "code",
   "execution_count": 318,
   "metadata": {},
   "outputs": [
    {
     "data": {
      "text/plain": [
       "<matplotlib.axes._subplots.AxesSubplot at 0x223d3e4bfa0>"
      ]
     },
     "execution_count": 318,
     "metadata": {},
     "output_type": "execute_result"
    },
    {
     "data": {
      "image/png": "[encoded data removed]",
      "text/plain": [
       "<Figure size 432x288 with 1 Axes>"
      ]
     },
     "metadata": {
      "needs_background": "light"
     },
     "output_type": "display_data"
    }
   ],
   "source": [
    "#Unimos ambos plots en la misma figura\n",
    "ax = df.plot()\n",
    "forecast_df.plot(ax=ax)"
   ]
  },
  {
   "cell_type": "code",
   "execution_count": 319,
   "metadata": {
    "scrolled": true
   },
   "outputs": [
    {
     "data": {
      "text/plain": [
       "(591.0, 615.0)"
      ]
     },
     "execution_count": 319,
     "metadata": {},
     "output_type": "execute_result"
    },
    {
     "data": {
      "image/png": "[encoded data removed]",
      "text/plain": [
       "<Figure size 432x288 with 1 Axes>"
      ]
     },
     "metadata": {
      "needs_background": "light"
     },
     "output_type": "display_data"
    }
   ],
   "source": [
    "#Hacemos zoom\n",
    "ax = df.plot()\n",
    "forecast_df.plot(ax=ax)\n",
    "plt.xlim('2019-04-01','2021-04-01')"
   ]
  },
  {
   "cell_type": "code",
   "execution_count": null,
   "metadata": {},
   "outputs": [],
   "source": [
    "from tensorflow.keras.models import load_model"
   ]
  },
  {
   "cell_type": "code",
   "execution_count": null,
   "metadata": {},
   "outputs": [],
   "source": [
    "model.save(\"modelo_forecast.h5\")"
   ]
  }
 ],
 "metadata": {
  "kernelspec": {
   "display_name": "Python 3",
   "language": "python",
   "name": "python3"
  },
  "language_info": {
   "codemirror_mode": {
    "name": "ipython",
    "version": 3
   },
   "file_extension": ".py",
   "mimetype": "text/x-python",
   "name": "python",
   "nbconvert_exporter": "python",
   "pygments_lexer": "ipython3",
   "version": "3.8.3"
  }
 },
 "nbformat": 4,
 "nbformat_minor": 2
}
