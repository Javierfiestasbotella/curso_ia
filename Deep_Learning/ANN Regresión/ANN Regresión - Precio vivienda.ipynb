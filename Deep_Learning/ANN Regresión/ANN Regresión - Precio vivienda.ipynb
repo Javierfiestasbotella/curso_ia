{
 "cells": [
  {
   "cell_type": "markdown",
   "metadata": {},
   "source": [
    "# Keras Regresión"
   ]
  },
  {
   "cell_type": "markdown",
   "metadata": {},
   "source": [
    "# 1.Importación librerías"
   ]
  },
  {
   "cell_type": "code",
   "execution_count": 1,
   "metadata": {},
   "outputs": [],
   "source": [
    "import pandas as pd\n",
    "import numpy as np\n",
    "import matplotlib.pyplot as plt\n",
    "import seaborn as sns"
   ]
  },
  {
   "cell_type": "markdown",
   "metadata": {},
   "source": [
    "# 2.Importación fuente de datos"
   ]
  },
  {
   "cell_type": "raw",
   "metadata": {},
   "source": [
    "https://www.kaggle.com/mirbektoktogaraev/madrid-real-estate-market\n",
    "    \n",
    "Variable Name\tDescription\n",
    "ID\tIdentifier ID\n",
    "title\tTitle from listing\n",
    "subtitle\tNeighborhood and city\n",
    "sqmtbuilt\tSquare meter built\n",
    "sqmtuseful\tSquare meter useful\n",
    "n_rooms\tNumber of rooms\n",
    "n_bathrooms\tNumber of bathrooms\n",
    "sqmtallotment\tSquare meter allotment\n",
    "latitude, longitude\tLatitude, Longitude (Since portals hide the location mainly NAs)\n",
    "raw_address\tAddress\n",
    "isexactaddress_hidden\tBoolean values\n",
    "buy_price\tTarget Value"
   ]
  },
  {
   "cell_type": "code",
   "execution_count": 2,
   "metadata": {},
   "outputs": [],
   "source": [
    "#Lectura datos históricos\n",
    "df = pd.read_excel('./viviendas_Madrid.xlsx',sheet_name='Datos_Históricos')"
   ]
  },
  {
   "cell_type": "code",
   "execution_count": 3,
   "metadata": {},
   "outputs": [
    {
     "name": "stdout",
     "output_type": "stream",
     "text": [
      "<class 'pandas.core.frame.DataFrame'>\n",
      "RangeIndex: 21742 entries, 0 to 21741\n",
      "Data columns (total 57 columns):\n",
      " #   Column                        Non-Null Count  Dtype  \n",
      "---  ------                        --------------  -----  \n",
      " 0   id                            21742 non-null  int64  \n",
      " 1   title                         21742 non-null  object \n",
      " 2   subtitle                      21742 non-null  object \n",
      " 3   sq_mt_built                   21616 non-null  float64\n",
      " 4   sq_mt_useful                  8228 non-null   float64\n",
      " 5   n_rooms                       21742 non-null  int64  \n",
      " 6   n_bathrooms                   21726 non-null  float64\n",
      " 7   n_floors                      1437 non-null   float64\n",
      " 8   sq_mt_allotment               1432 non-null   float64\n",
      " 9   latitude                      0 non-null      float64\n",
      " 10  longitude                     0 non-null      float64\n",
      " 11  raw_address                   16277 non-null  object \n",
      " 12  is_exact_address_hidden       21742 non-null  bool   \n",
      " 13  street_name                   15837 non-null  object \n",
      " 14  street_number                 6300 non-null   object \n",
      " 15  portal                        0 non-null      float64\n",
      " 16  floor                         19135 non-null  object \n",
      " 17  is_floor_under                20572 non-null  float64\n",
      " 18  door                          0 non-null      float64\n",
      " 19  neighborhood_id               21742 non-null  object \n",
      " 20  operation                     21742 non-null  object \n",
      " 21  rent_price                    21742 non-null  float64\n",
      " 22  rent_price_by_area            0 non-null      float64\n",
      " 23  is_rent_price_known           21742 non-null  bool   \n",
      " 24  buy_price                     21742 non-null  int64  \n",
      " 25  buy_price_by_area             21742 non-null  int64  \n",
      " 26  is_buy_price_known            21742 non-null  bool   \n",
      " 27  house_type_id                 21351 non-null  object \n",
      " 28  is_renewal_needed             21742 non-null  bool   \n",
      " 29  is_new_development            20750 non-null  float64\n",
      " 30  built_year                    10000 non-null  float64\n",
      " 31  has_central_heating           13608 non-null  float64\n",
      " 32  has_individual_heating        13608 non-null  float64\n",
      " 33  are_pets_allowed              0 non-null      float64\n",
      " 34  has_ac                        11211 non-null  float64\n",
      " 35  has_fitted_wardrobes          13399 non-null  float64\n",
      " 36  has_lift                      19356 non-null  float64\n",
      " 37  is_exterior                   18699 non-null  float64\n",
      " 38  has_garden                    1556 non-null   float64\n",
      " 39  has_pool                      5171 non-null   float64\n",
      " 40  has_terrace                   9548 non-null   float64\n",
      " 41  has_balcony                   3321 non-null   float64\n",
      " 42  has_storage_room              7698 non-null   float64\n",
      " 43  is_furnished                  0 non-null      float64\n",
      " 44  is_kitchen_equipped           0 non-null      float64\n",
      " 45  is_accessible                 4074 non-null   float64\n",
      " 46  has_green_zones               4057 non-null   float64\n",
      " 47  energy_certificate            21742 non-null  object \n",
      " 48  has_parking                   21742 non-null  bool   \n",
      " 49  has_private_parking           0 non-null      float64\n",
      " 50  has_public_parking            0 non-null      float64\n",
      " 51  is_parking_included_in_price  7719 non-null   float64\n",
      " 52  parking_price                 7719 non-null   float64\n",
      " 53  is_orientation_north          11358 non-null  float64\n",
      " 54  is_orientation_west           11358 non-null  float64\n",
      " 55  is_orientation_south          11358 non-null  float64\n",
      " 56  is_orientation_east           11358 non-null  float64\n",
      "dtypes: bool(5), float64(38), int64(4), object(10)\n",
      "memory usage: 8.7+ MB\n"
     ]
    }
   ],
   "source": [
    "df.info()"
   ]
  },
  {
   "cell_type": "code",
   "execution_count": 4,
   "metadata": {},
   "outputs": [
    {
     "data": {
      "text/html": [
       "<div>\n",
       "<style scoped>\n",
       "    .dataframe tbody tr th:only-of-type {\n",
       "        vertical-align: middle;\n",
       "    }\n",
       "\n",
       "    .dataframe tbody tr th {\n",
       "        vertical-align: top;\n",
       "    }\n",
       "\n",
       "    .dataframe thead th {\n",
       "        text-align: right;\n",
       "    }\n",
       "</style>\n",
       "<table border=\"1\" class=\"dataframe\">\n",
       "  <thead>\n",
       "    <tr style=\"text-align: right;\">\n",
       "      <th></th>\n",
       "      <th>id</th>\n",
       "      <th>title</th>\n",
       "      <th>subtitle</th>\n",
       "      <th>sq_mt_built</th>\n",
       "      <th>sq_mt_useful</th>\n",
       "      <th>n_rooms</th>\n",
       "      <th>n_bathrooms</th>\n",
       "      <th>n_floors</th>\n",
       "      <th>sq_mt_allotment</th>\n",
       "      <th>latitude</th>\n",
       "      <th>...</th>\n",
       "      <th>energy_certificate</th>\n",
       "      <th>has_parking</th>\n",
       "      <th>has_private_parking</th>\n",
       "      <th>has_public_parking</th>\n",
       "      <th>is_parking_included_in_price</th>\n",
       "      <th>parking_price</th>\n",
       "      <th>is_orientation_north</th>\n",
       "      <th>is_orientation_west</th>\n",
       "      <th>is_orientation_south</th>\n",
       "      <th>is_orientation_east</th>\n",
       "    </tr>\n",
       "  </thead>\n",
       "  <tbody>\n",
       "    <tr>\n",
       "      <th>0</th>\n",
       "      <td>21742</td>\n",
       "      <td>Piso en venta en calle de Godella, 64</td>\n",
       "      <td>San CristÃ³bal, Madrid</td>\n",
       "      <td>64.0</td>\n",
       "      <td>60.0</td>\n",
       "      <td>2</td>\n",
       "      <td>1.0</td>\n",
       "      <td>NaN</td>\n",
       "      <td>NaN</td>\n",
       "      <td>NaN</td>\n",
       "      <td>...</td>\n",
       "      <td>D</td>\n",
       "      <td>False</td>\n",
       "      <td>NaN</td>\n",
       "      <td>NaN</td>\n",
       "      <td>NaN</td>\n",
       "      <td>NaN</td>\n",
       "      <td>0.0</td>\n",
       "      <td>1.0</td>\n",
       "      <td>0.0</td>\n",
       "      <td>0.0</td>\n",
       "    </tr>\n",
       "    <tr>\n",
       "      <th>1</th>\n",
       "      <td>21741</td>\n",
       "      <td>Piso en venta en calle de la del Manojo de Rosas</td>\n",
       "      <td>Los Ãngeles, Madrid</td>\n",
       "      <td>70.0</td>\n",
       "      <td>NaN</td>\n",
       "      <td>3</td>\n",
       "      <td>1.0</td>\n",
       "      <td>NaN</td>\n",
       "      <td>NaN</td>\n",
       "      <td>NaN</td>\n",
       "      <td>...</td>\n",
       "      <td>en trÃ¡mite</td>\n",
       "      <td>False</td>\n",
       "      <td>NaN</td>\n",
       "      <td>NaN</td>\n",
       "      <td>NaN</td>\n",
       "      <td>NaN</td>\n",
       "      <td>NaN</td>\n",
       "      <td>NaN</td>\n",
       "      <td>NaN</td>\n",
       "      <td>NaN</td>\n",
       "    </tr>\n",
       "    <tr>\n",
       "      <th>2</th>\n",
       "      <td>21740</td>\n",
       "      <td>Piso en venta en calle del Talco, 68</td>\n",
       "      <td>San AndrÃ©s, Madrid</td>\n",
       "      <td>94.0</td>\n",
       "      <td>54.0</td>\n",
       "      <td>2</td>\n",
       "      <td>2.0</td>\n",
       "      <td>NaN</td>\n",
       "      <td>NaN</td>\n",
       "      <td>NaN</td>\n",
       "      <td>...</td>\n",
       "      <td>no indicado</td>\n",
       "      <td>False</td>\n",
       "      <td>NaN</td>\n",
       "      <td>NaN</td>\n",
       "      <td>NaN</td>\n",
       "      <td>NaN</td>\n",
       "      <td>NaN</td>\n",
       "      <td>NaN</td>\n",
       "      <td>NaN</td>\n",
       "      <td>NaN</td>\n",
       "    </tr>\n",
       "    <tr>\n",
       "      <th>3</th>\n",
       "      <td>21739</td>\n",
       "      <td>Piso en venta en calle Pedro JimÃ©nez</td>\n",
       "      <td>San AndrÃ©s, Madrid</td>\n",
       "      <td>64.0</td>\n",
       "      <td>NaN</td>\n",
       "      <td>2</td>\n",
       "      <td>1.0</td>\n",
       "      <td>NaN</td>\n",
       "      <td>NaN</td>\n",
       "      <td>NaN</td>\n",
       "      <td>...</td>\n",
       "      <td>en trÃ¡mite</td>\n",
       "      <td>False</td>\n",
       "      <td>NaN</td>\n",
       "      <td>NaN</td>\n",
       "      <td>NaN</td>\n",
       "      <td>NaN</td>\n",
       "      <td>0.0</td>\n",
       "      <td>0.0</td>\n",
       "      <td>1.0</td>\n",
       "      <td>0.0</td>\n",
       "    </tr>\n",
       "    <tr>\n",
       "      <th>4</th>\n",
       "      <td>21738</td>\n",
       "      <td>Piso en venta en carretera de Villaverde a Val...</td>\n",
       "      <td>Los Rosales, Madrid</td>\n",
       "      <td>108.0</td>\n",
       "      <td>90.0</td>\n",
       "      <td>2</td>\n",
       "      <td>2.0</td>\n",
       "      <td>NaN</td>\n",
       "      <td>NaN</td>\n",
       "      <td>NaN</td>\n",
       "      <td>...</td>\n",
       "      <td>en trÃ¡mite</td>\n",
       "      <td>True</td>\n",
       "      <td>NaN</td>\n",
       "      <td>NaN</td>\n",
       "      <td>1.0</td>\n",
       "      <td>0.0</td>\n",
       "      <td>1.0</td>\n",
       "      <td>1.0</td>\n",
       "      <td>1.0</td>\n",
       "      <td>1.0</td>\n",
       "    </tr>\n",
       "  </tbody>\n",
       "</table>\n",
       "<p>5 rows × 57 columns</p>\n",
       "</div>"
      ],
      "text/plain": [
       "      id                                              title  \\\n",
       "0  21742              Piso en venta en calle de Godella, 64   \n",
       "1  21741   Piso en venta en calle de la del Manojo de Rosas   \n",
       "2  21740               Piso en venta en calle del Talco, 68   \n",
       "3  21739              Piso en venta en calle Pedro JimÃ©nez   \n",
       "4  21738  Piso en venta en carretera de Villaverde a Val...   \n",
       "\n",
       "                 subtitle  sq_mt_built  sq_mt_useful  n_rooms  n_bathrooms  \\\n",
       "0  San CristÃ³bal, Madrid         64.0          60.0        2          1.0   \n",
       "1    Los Ãngeles, Madrid         70.0           NaN        3          1.0   \n",
       "2     San AndrÃ©s, Madrid         94.0          54.0        2          2.0   \n",
       "3     San AndrÃ©s, Madrid         64.0           NaN        2          1.0   \n",
       "4     Los Rosales, Madrid        108.0          90.0        2          2.0   \n",
       "\n",
       "   n_floors  sq_mt_allotment  latitude  ...  energy_certificate has_parking  \\\n",
       "0       NaN              NaN       NaN  ...                   D       False   \n",
       "1       NaN              NaN       NaN  ...         en trÃ¡mite       False   \n",
       "2       NaN              NaN       NaN  ...         no indicado       False   \n",
       "3       NaN              NaN       NaN  ...         en trÃ¡mite       False   \n",
       "4       NaN              NaN       NaN  ...         en trÃ¡mite        True   \n",
       "\n",
       "   has_private_parking has_public_parking is_parking_included_in_price  \\\n",
       "0                  NaN                NaN                          NaN   \n",
       "1                  NaN                NaN                          NaN   \n",
       "2                  NaN                NaN                          NaN   \n",
       "3                  NaN                NaN                          NaN   \n",
       "4                  NaN                NaN                          1.0   \n",
       "\n",
       "   parking_price is_orientation_north  is_orientation_west  \\\n",
       "0            NaN                  0.0                  1.0   \n",
       "1            NaN                  NaN                  NaN   \n",
       "2            NaN                  NaN                  NaN   \n",
       "3            NaN                  0.0                  0.0   \n",
       "4            0.0                  1.0                  1.0   \n",
       "\n",
       "   is_orientation_south is_orientation_east  \n",
       "0                   0.0                 0.0  \n",
       "1                   NaN                 NaN  \n",
       "2                   NaN                 NaN  \n",
       "3                   1.0                 0.0  \n",
       "4                   1.0                 1.0  \n",
       "\n",
       "[5 rows x 57 columns]"
      ]
     },
     "execution_count": 4,
     "metadata": {},
     "output_type": "execute_result"
    }
   ],
   "source": [
    "df.head(5)"
   ]
  },
  {
   "cell_type": "markdown",
   "metadata": {},
   "source": [
    "# 3.Análisis de Datos (EDA) + Preprocesado"
   ]
  },
  {
   "cell_type": "code",
   "execution_count": 5,
   "metadata": {},
   "outputs": [
    {
     "name": "stdout",
     "output_type": "stream",
     "text": [
      "<class 'pandas.core.frame.DataFrame'>\n",
      "RangeIndex: 21742 entries, 0 to 21741\n",
      "Data columns (total 57 columns):\n",
      " #   Column                        Non-Null Count  Dtype  \n",
      "---  ------                        --------------  -----  \n",
      " 0   id                            21742 non-null  int64  \n",
      " 1   title                         21742 non-null  object \n",
      " 2   subtitle                      21742 non-null  object \n",
      " 3   sq_mt_built                   21616 non-null  float64\n",
      " 4   sq_mt_useful                  8228 non-null   float64\n",
      " 5   n_rooms                       21742 non-null  int64  \n",
      " 6   n_bathrooms                   21726 non-null  float64\n",
      " 7   n_floors                      1437 non-null   float64\n",
      " 8   sq_mt_allotment               1432 non-null   float64\n",
      " 9   latitude                      0 non-null      float64\n",
      " 10  longitude                     0 non-null      float64\n",
      " 11  raw_address                   16277 non-null  object \n",
      " 12  is_exact_address_hidden       21742 non-null  bool   \n",
      " 13  street_name                   15837 non-null  object \n",
      " 14  street_number                 6300 non-null   object \n",
      " 15  portal                        0 non-null      float64\n",
      " 16  floor                         19135 non-null  object \n",
      " 17  is_floor_under                20572 non-null  float64\n",
      " 18  door                          0 non-null      float64\n",
      " 19  neighborhood_id               21742 non-null  object \n",
      " 20  operation                     21742 non-null  object \n",
      " 21  rent_price                    21742 non-null  float64\n",
      " 22  rent_price_by_area            0 non-null      float64\n",
      " 23  is_rent_price_known           21742 non-null  bool   \n",
      " 24  buy_price                     21742 non-null  int64  \n",
      " 25  buy_price_by_area             21742 non-null  int64  \n",
      " 26  is_buy_price_known            21742 non-null  bool   \n",
      " 27  house_type_id                 21351 non-null  object \n",
      " 28  is_renewal_needed             21742 non-null  bool   \n",
      " 29  is_new_development            20750 non-null  float64\n",
      " 30  built_year                    10000 non-null  float64\n",
      " 31  has_central_heating           13608 non-null  float64\n",
      " 32  has_individual_heating        13608 non-null  float64\n",
      " 33  are_pets_allowed              0 non-null      float64\n",
      " 34  has_ac                        11211 non-null  float64\n",
      " 35  has_fitted_wardrobes          13399 non-null  float64\n",
      " 36  has_lift                      19356 non-null  float64\n",
      " 37  is_exterior                   18699 non-null  float64\n",
      " 38  has_garden                    1556 non-null   float64\n",
      " 39  has_pool                      5171 non-null   float64\n",
      " 40  has_terrace                   9548 non-null   float64\n",
      " 41  has_balcony                   3321 non-null   float64\n",
      " 42  has_storage_room              7698 non-null   float64\n",
      " 43  is_furnished                  0 non-null      float64\n",
      " 44  is_kitchen_equipped           0 non-null      float64\n",
      " 45  is_accessible                 4074 non-null   float64\n",
      " 46  has_green_zones               4057 non-null   float64\n",
      " 47  energy_certificate            21742 non-null  object \n",
      " 48  has_parking                   21742 non-null  bool   \n",
      " 49  has_private_parking           0 non-null      float64\n",
      " 50  has_public_parking            0 non-null      float64\n",
      " 51  is_parking_included_in_price  7719 non-null   float64\n",
      " 52  parking_price                 7719 non-null   float64\n",
      " 53  is_orientation_north          11358 non-null  float64\n",
      " 54  is_orientation_west           11358 non-null  float64\n",
      " 55  is_orientation_south          11358 non-null  float64\n",
      " 56  is_orientation_east           11358 non-null  float64\n",
      "dtypes: bool(5), float64(38), int64(4), object(10)\n",
      "memory usage: 8.7+ MB\n"
     ]
    }
   ],
   "source": [
    "df.info()"
   ]
  },
  {
   "cell_type": "code",
   "execution_count": 6,
   "metadata": {
    "scrolled": true
   },
   "outputs": [
    {
     "data": {
      "text/html": [
       "<div>\n",
       "<style scoped>\n",
       "    .dataframe tbody tr th:only-of-type {\n",
       "        vertical-align: middle;\n",
       "    }\n",
       "\n",
       "    .dataframe tbody tr th {\n",
       "        vertical-align: top;\n",
       "    }\n",
       "\n",
       "    .dataframe thead th {\n",
       "        text-align: right;\n",
       "    }\n",
       "</style>\n",
       "<table border=\"1\" class=\"dataframe\">\n",
       "  <thead>\n",
       "    <tr style=\"text-align: right;\">\n",
       "      <th></th>\n",
       "      <th>id</th>\n",
       "      <th>title</th>\n",
       "      <th>subtitle</th>\n",
       "      <th>sq_mt_built</th>\n",
       "      <th>sq_mt_useful</th>\n",
       "      <th>n_rooms</th>\n",
       "      <th>n_bathrooms</th>\n",
       "      <th>n_floors</th>\n",
       "      <th>sq_mt_allotment</th>\n",
       "      <th>latitude</th>\n",
       "      <th>...</th>\n",
       "      <th>energy_certificate</th>\n",
       "      <th>has_parking</th>\n",
       "      <th>has_private_parking</th>\n",
       "      <th>has_public_parking</th>\n",
       "      <th>is_parking_included_in_price</th>\n",
       "      <th>parking_price</th>\n",
       "      <th>is_orientation_north</th>\n",
       "      <th>is_orientation_west</th>\n",
       "      <th>is_orientation_south</th>\n",
       "      <th>is_orientation_east</th>\n",
       "    </tr>\n",
       "  </thead>\n",
       "  <tbody>\n",
       "    <tr>\n",
       "      <th>0</th>\n",
       "      <td>21742</td>\n",
       "      <td>Piso en venta en calle de Godella, 64</td>\n",
       "      <td>San CristÃ³bal, Madrid</td>\n",
       "      <td>64.0</td>\n",
       "      <td>60.0</td>\n",
       "      <td>2</td>\n",
       "      <td>1.0</td>\n",
       "      <td>NaN</td>\n",
       "      <td>NaN</td>\n",
       "      <td>NaN</td>\n",
       "      <td>...</td>\n",
       "      <td>D</td>\n",
       "      <td>False</td>\n",
       "      <td>NaN</td>\n",
       "      <td>NaN</td>\n",
       "      <td>NaN</td>\n",
       "      <td>NaN</td>\n",
       "      <td>0.0</td>\n",
       "      <td>1.0</td>\n",
       "      <td>0.0</td>\n",
       "      <td>0.0</td>\n",
       "    </tr>\n",
       "    <tr>\n",
       "      <th>1</th>\n",
       "      <td>21741</td>\n",
       "      <td>Piso en venta en calle de la del Manojo de Rosas</td>\n",
       "      <td>Los Ãngeles, Madrid</td>\n",
       "      <td>70.0</td>\n",
       "      <td>NaN</td>\n",
       "      <td>3</td>\n",
       "      <td>1.0</td>\n",
       "      <td>NaN</td>\n",
       "      <td>NaN</td>\n",
       "      <td>NaN</td>\n",
       "      <td>...</td>\n",
       "      <td>en trÃ¡mite</td>\n",
       "      <td>False</td>\n",
       "      <td>NaN</td>\n",
       "      <td>NaN</td>\n",
       "      <td>NaN</td>\n",
       "      <td>NaN</td>\n",
       "      <td>NaN</td>\n",
       "      <td>NaN</td>\n",
       "      <td>NaN</td>\n",
       "      <td>NaN</td>\n",
       "    </tr>\n",
       "    <tr>\n",
       "      <th>2</th>\n",
       "      <td>21740</td>\n",
       "      <td>Piso en venta en calle del Talco, 68</td>\n",
       "      <td>San AndrÃ©s, Madrid</td>\n",
       "      <td>94.0</td>\n",
       "      <td>54.0</td>\n",
       "      <td>2</td>\n",
       "      <td>2.0</td>\n",
       "      <td>NaN</td>\n",
       "      <td>NaN</td>\n",
       "      <td>NaN</td>\n",
       "      <td>...</td>\n",
       "      <td>no indicado</td>\n",
       "      <td>False</td>\n",
       "      <td>NaN</td>\n",
       "      <td>NaN</td>\n",
       "      <td>NaN</td>\n",
       "      <td>NaN</td>\n",
       "      <td>NaN</td>\n",
       "      <td>NaN</td>\n",
       "      <td>NaN</td>\n",
       "      <td>NaN</td>\n",
       "    </tr>\n",
       "    <tr>\n",
       "      <th>3</th>\n",
       "      <td>21739</td>\n",
       "      <td>Piso en venta en calle Pedro JimÃ©nez</td>\n",
       "      <td>San AndrÃ©s, Madrid</td>\n",
       "      <td>64.0</td>\n",
       "      <td>NaN</td>\n",
       "      <td>2</td>\n",
       "      <td>1.0</td>\n",
       "      <td>NaN</td>\n",
       "      <td>NaN</td>\n",
       "      <td>NaN</td>\n",
       "      <td>...</td>\n",
       "      <td>en trÃ¡mite</td>\n",
       "      <td>False</td>\n",
       "      <td>NaN</td>\n",
       "      <td>NaN</td>\n",
       "      <td>NaN</td>\n",
       "      <td>NaN</td>\n",
       "      <td>0.0</td>\n",
       "      <td>0.0</td>\n",
       "      <td>1.0</td>\n",
       "      <td>0.0</td>\n",
       "    </tr>\n",
       "    <tr>\n",
       "      <th>4</th>\n",
       "      <td>21738</td>\n",
       "      <td>Piso en venta en carretera de Villaverde a Val...</td>\n",
       "      <td>Los Rosales, Madrid</td>\n",
       "      <td>108.0</td>\n",
       "      <td>90.0</td>\n",
       "      <td>2</td>\n",
       "      <td>2.0</td>\n",
       "      <td>NaN</td>\n",
       "      <td>NaN</td>\n",
       "      <td>NaN</td>\n",
       "      <td>...</td>\n",
       "      <td>en trÃ¡mite</td>\n",
       "      <td>True</td>\n",
       "      <td>NaN</td>\n",
       "      <td>NaN</td>\n",
       "      <td>1.0</td>\n",
       "      <td>0.0</td>\n",
       "      <td>1.0</td>\n",
       "      <td>1.0</td>\n",
       "      <td>1.0</td>\n",
       "      <td>1.0</td>\n",
       "    </tr>\n",
       "  </tbody>\n",
       "</table>\n",
       "<p>5 rows × 57 columns</p>\n",
       "</div>"
      ],
      "text/plain": [
       "      id                                              title  \\\n",
       "0  21742              Piso en venta en calle de Godella, 64   \n",
       "1  21741   Piso en venta en calle de la del Manojo de Rosas   \n",
       "2  21740               Piso en venta en calle del Talco, 68   \n",
       "3  21739              Piso en venta en calle Pedro JimÃ©nez   \n",
       "4  21738  Piso en venta en carretera de Villaverde a Val...   \n",
       "\n",
       "                 subtitle  sq_mt_built  sq_mt_useful  n_rooms  n_bathrooms  \\\n",
       "0  San CristÃ³bal, Madrid         64.0          60.0        2          1.0   \n",
       "1    Los Ãngeles, Madrid         70.0           NaN        3          1.0   \n",
       "2     San AndrÃ©s, Madrid         94.0          54.0        2          2.0   \n",
       "3     San AndrÃ©s, Madrid         64.0           NaN        2          1.0   \n",
       "4     Los Rosales, Madrid        108.0          90.0        2          2.0   \n",
       "\n",
       "   n_floors  sq_mt_allotment  latitude  ...  energy_certificate has_parking  \\\n",
       "0       NaN              NaN       NaN  ...                   D       False   \n",
       "1       NaN              NaN       NaN  ...         en trÃ¡mite       False   \n",
       "2       NaN              NaN       NaN  ...         no indicado       False   \n",
       "3       NaN              NaN       NaN  ...         en trÃ¡mite       False   \n",
       "4       NaN              NaN       NaN  ...         en trÃ¡mite        True   \n",
       "\n",
       "   has_private_parking has_public_parking is_parking_included_in_price  \\\n",
       "0                  NaN                NaN                          NaN   \n",
       "1                  NaN                NaN                          NaN   \n",
       "2                  NaN                NaN                          NaN   \n",
       "3                  NaN                NaN                          NaN   \n",
       "4                  NaN                NaN                          1.0   \n",
       "\n",
       "   parking_price is_orientation_north  is_orientation_west  \\\n",
       "0            NaN                  0.0                  1.0   \n",
       "1            NaN                  NaN                  NaN   \n",
       "2            NaN                  NaN                  NaN   \n",
       "3            NaN                  0.0                  0.0   \n",
       "4            0.0                  1.0                  1.0   \n",
       "\n",
       "   is_orientation_south is_orientation_east  \n",
       "0                   0.0                 0.0  \n",
       "1                   NaN                 NaN  \n",
       "2                   NaN                 NaN  \n",
       "3                   1.0                 0.0  \n",
       "4                   1.0                 1.0  \n",
       "\n",
       "[5 rows x 57 columns]"
      ]
     },
     "execution_count": 6,
     "metadata": {},
     "output_type": "execute_result"
    }
   ],
   "source": [
    "df.head(5)"
   ]
  },
  {
   "cell_type": "markdown",
   "metadata": {},
   "source": [
    "## 3.1 Limpieza inicial"
   ]
  },
  {
   "cell_type": "code",
   "execution_count": 7,
   "metadata": {},
   "outputs": [
    {
     "data": {
      "text/plain": [
       "id                                  0\n",
       "title                               0\n",
       "subtitle                            0\n",
       "sq_mt_built                       126\n",
       "sq_mt_useful                    13514\n",
       "n_rooms                             0\n",
       "n_bathrooms                        16\n",
       "n_floors                        20305\n",
       "sq_mt_allotment                 20310\n",
       "latitude                        21742\n",
       "longitude                       21742\n",
       "raw_address                      5465\n",
       "is_exact_address_hidden             0\n",
       "street_name                      5905\n",
       "street_number                   15442\n",
       "portal                          21742\n",
       "floor                            2607\n",
       "is_floor_under                   1170\n",
       "door                            21742\n",
       "neighborhood_id                     0\n",
       "operation                           0\n",
       "rent_price                          0\n",
       "rent_price_by_area              21742\n",
       "is_rent_price_known                 0\n",
       "buy_price                           0\n",
       "buy_price_by_area                   0\n",
       "is_buy_price_known                  0\n",
       "house_type_id                     391\n",
       "is_renewal_needed                   0\n",
       "is_new_development                992\n",
       "built_year                      11742\n",
       "has_central_heating              8134\n",
       "has_individual_heating           8134\n",
       "are_pets_allowed                21742\n",
       "has_ac                          10531\n",
       "has_fitted_wardrobes             8343\n",
       "has_lift                         2386\n",
       "is_exterior                      3043\n",
       "has_garden                      20186\n",
       "has_pool                        16571\n",
       "has_terrace                     12194\n",
       "has_balcony                     18421\n",
       "has_storage_room                14044\n",
       "is_furnished                    21742\n",
       "is_kitchen_equipped             21742\n",
       "is_accessible                   17668\n",
       "has_green_zones                 17685\n",
       "energy_certificate                  0\n",
       "has_parking                         0\n",
       "has_private_parking             21742\n",
       "has_public_parking              21742\n",
       "is_parking_included_in_price    14023\n",
       "parking_price                   14023\n",
       "is_orientation_north            10384\n",
       "is_orientation_west             10384\n",
       "is_orientation_south            10384\n",
       "is_orientation_east             10384\n",
       "dtype: int64"
      ]
     },
     "execution_count": 7,
     "metadata": {},
     "output_type": "execute_result"
    }
   ],
   "source": [
    "df.isnull().sum() #Verificamos si hay valores nulos en alguna columna del dataframe"
   ]
  },
  {
   "cell_type": "code",
   "execution_count": 8,
   "metadata": {},
   "outputs": [
    {
     "data": {
      "text/html": [
       "<div>\n",
       "<style scoped>\n",
       "    .dataframe tbody tr th:only-of-type {\n",
       "        vertical-align: middle;\n",
       "    }\n",
       "\n",
       "    .dataframe tbody tr th {\n",
       "        vertical-align: top;\n",
       "    }\n",
       "\n",
       "    .dataframe thead th {\n",
       "        text-align: right;\n",
       "    }\n",
       "</style>\n",
       "<table border=\"1\" class=\"dataframe\">\n",
       "  <thead>\n",
       "    <tr style=\"text-align: right;\">\n",
       "      <th></th>\n",
       "      <th>id</th>\n",
       "      <th>title</th>\n",
       "      <th>subtitle</th>\n",
       "      <th>sq_mt_built</th>\n",
       "      <th>n_rooms</th>\n",
       "      <th>n_bathrooms</th>\n",
       "      <th>is_exact_address_hidden</th>\n",
       "      <th>is_floor_under</th>\n",
       "      <th>neighborhood_id</th>\n",
       "      <th>operation</th>\n",
       "      <th>rent_price</th>\n",
       "      <th>is_rent_price_known</th>\n",
       "      <th>buy_price</th>\n",
       "      <th>buy_price_by_area</th>\n",
       "      <th>is_buy_price_known</th>\n",
       "      <th>house_type_id</th>\n",
       "      <th>is_renewal_needed</th>\n",
       "      <th>is_new_development</th>\n",
       "      <th>energy_certificate</th>\n",
       "      <th>has_parking</th>\n",
       "    </tr>\n",
       "  </thead>\n",
       "  <tbody>\n",
       "    <tr>\n",
       "      <th>0</th>\n",
       "      <td>21742</td>\n",
       "      <td>Piso en venta en calle de Godella, 64</td>\n",
       "      <td>San CristÃ³bal, Madrid</td>\n",
       "      <td>64.0</td>\n",
       "      <td>2</td>\n",
       "      <td>1.0</td>\n",
       "      <td>False</td>\n",
       "      <td>0.0</td>\n",
       "      <td>Neighborhood 135: San CristÃ³bal (1308.89 â‚¬/...</td>\n",
       "      <td>sale</td>\n",
       "      <td>471.0</td>\n",
       "      <td>False</td>\n",
       "      <td>85000</td>\n",
       "      <td>1328</td>\n",
       "      <td>True</td>\n",
       "      <td>HouseType 1: Pisos</td>\n",
       "      <td>False</td>\n",
       "      <td>0.0</td>\n",
       "      <td>D</td>\n",
       "      <td>False</td>\n",
       "    </tr>\n",
       "    <tr>\n",
       "      <th>1</th>\n",
       "      <td>21741</td>\n",
       "      <td>Piso en venta en calle de la del Manojo de Rosas</td>\n",
       "      <td>Los Ãngeles, Madrid</td>\n",
       "      <td>70.0</td>\n",
       "      <td>3</td>\n",
       "      <td>1.0</td>\n",
       "      <td>True</td>\n",
       "      <td>0.0</td>\n",
       "      <td>Neighborhood 132: Los Ãngeles (1796.68 â‚¬/m2...</td>\n",
       "      <td>sale</td>\n",
       "      <td>666.0</td>\n",
       "      <td>False</td>\n",
       "      <td>129900</td>\n",
       "      <td>1856</td>\n",
       "      <td>True</td>\n",
       "      <td>HouseType 1: Pisos</td>\n",
       "      <td>True</td>\n",
       "      <td>0.0</td>\n",
       "      <td>en trÃ¡mite</td>\n",
       "      <td>False</td>\n",
       "    </tr>\n",
       "    <tr>\n",
       "      <th>2</th>\n",
       "      <td>21740</td>\n",
       "      <td>Piso en venta en calle del Talco, 68</td>\n",
       "      <td>San AndrÃ©s, Madrid</td>\n",
       "      <td>94.0</td>\n",
       "      <td>2</td>\n",
       "      <td>2.0</td>\n",
       "      <td>False</td>\n",
       "      <td>0.0</td>\n",
       "      <td>Neighborhood 134: San AndrÃ©s (1617.18 â‚¬/m2)...</td>\n",
       "      <td>sale</td>\n",
       "      <td>722.0</td>\n",
       "      <td>False</td>\n",
       "      <td>144247</td>\n",
       "      <td>1535</td>\n",
       "      <td>True</td>\n",
       "      <td>HouseType 1: Pisos</td>\n",
       "      <td>False</td>\n",
       "      <td>0.0</td>\n",
       "      <td>no indicado</td>\n",
       "      <td>False</td>\n",
       "    </tr>\n",
       "    <tr>\n",
       "      <th>3</th>\n",
       "      <td>21739</td>\n",
       "      <td>Piso en venta en calle Pedro JimÃ©nez</td>\n",
       "      <td>San AndrÃ©s, Madrid</td>\n",
       "      <td>64.0</td>\n",
       "      <td>2</td>\n",
       "      <td>1.0</td>\n",
       "      <td>True</td>\n",
       "      <td>1.0</td>\n",
       "      <td>Neighborhood 134: San AndrÃ©s (1617.18 â‚¬/m2)...</td>\n",
       "      <td>sale</td>\n",
       "      <td>583.0</td>\n",
       "      <td>False</td>\n",
       "      <td>109900</td>\n",
       "      <td>1717</td>\n",
       "      <td>True</td>\n",
       "      <td>HouseType 1: Pisos</td>\n",
       "      <td>False</td>\n",
       "      <td>0.0</td>\n",
       "      <td>en trÃ¡mite</td>\n",
       "      <td>False</td>\n",
       "    </tr>\n",
       "    <tr>\n",
       "      <th>4</th>\n",
       "      <td>21738</td>\n",
       "      <td>Piso en venta en carretera de Villaverde a Val...</td>\n",
       "      <td>Los Rosales, Madrid</td>\n",
       "      <td>108.0</td>\n",
       "      <td>2</td>\n",
       "      <td>2.0</td>\n",
       "      <td>True</td>\n",
       "      <td>0.0</td>\n",
       "      <td>Neighborhood 133: Los Rosales (1827.79 â‚¬/m2)...</td>\n",
       "      <td>sale</td>\n",
       "      <td>1094.0</td>\n",
       "      <td>False</td>\n",
       "      <td>260000</td>\n",
       "      <td>2407</td>\n",
       "      <td>True</td>\n",
       "      <td>HouseType 1: Pisos</td>\n",
       "      <td>False</td>\n",
       "      <td>0.0</td>\n",
       "      <td>en trÃ¡mite</td>\n",
       "      <td>True</td>\n",
       "    </tr>\n",
       "  </tbody>\n",
       "</table>\n",
       "</div>"
      ],
      "text/plain": [
       "      id                                              title  \\\n",
       "0  21742              Piso en venta en calle de Godella, 64   \n",
       "1  21741   Piso en venta en calle de la del Manojo de Rosas   \n",
       "2  21740               Piso en venta en calle del Talco, 68   \n",
       "3  21739              Piso en venta en calle Pedro JimÃ©nez   \n",
       "4  21738  Piso en venta en carretera de Villaverde a Val...   \n",
       "\n",
       "                 subtitle  sq_mt_built  n_rooms  n_bathrooms  \\\n",
       "0  San CristÃ³bal, Madrid         64.0        2          1.0   \n",
       "1    Los Ãngeles, Madrid         70.0        3          1.0   \n",
       "2     San AndrÃ©s, Madrid         94.0        2          2.0   \n",
       "3     San AndrÃ©s, Madrid         64.0        2          1.0   \n",
       "4     Los Rosales, Madrid        108.0        2          2.0   \n",
       "\n",
       "   is_exact_address_hidden  is_floor_under  \\\n",
       "0                    False             0.0   \n",
       "1                     True             0.0   \n",
       "2                    False             0.0   \n",
       "3                     True             1.0   \n",
       "4                     True             0.0   \n",
       "\n",
       "                                     neighborhood_id operation  rent_price  \\\n",
       "0  Neighborhood 135: San CristÃ³bal (1308.89 â‚¬/...      sale       471.0   \n",
       "1  Neighborhood 132: Los Ãngeles (1796.68 â‚¬/m2...      sale       666.0   \n",
       "2  Neighborhood 134: San AndrÃ©s (1617.18 â‚¬/m2)...      sale       722.0   \n",
       "3  Neighborhood 134: San AndrÃ©s (1617.18 â‚¬/m2)...      sale       583.0   \n",
       "4  Neighborhood 133: Los Rosales (1827.79 â‚¬/m2)...      sale      1094.0   \n",
       "\n",
       "   is_rent_price_known  buy_price  buy_price_by_area  is_buy_price_known  \\\n",
       "0                False      85000               1328                True   \n",
       "1                False     129900               1856                True   \n",
       "2                False     144247               1535                True   \n",
       "3                False     109900               1717                True   \n",
       "4                False     260000               2407                True   \n",
       "\n",
       "        house_type_id  is_renewal_needed  is_new_development  \\\n",
       "0  HouseType 1: Pisos              False                 0.0   \n",
       "1  HouseType 1: Pisos               True                 0.0   \n",
       "2  HouseType 1: Pisos              False                 0.0   \n",
       "3  HouseType 1: Pisos              False                 0.0   \n",
       "4  HouseType 1: Pisos              False                 0.0   \n",
       "\n",
       "  energy_certificate  has_parking  \n",
       "0                  D        False  \n",
       "1        en trÃ¡mite        False  \n",
       "2        no indicado        False  \n",
       "3        en trÃ¡mite        False  \n",
       "4        en trÃ¡mite         True  "
      ]
     },
     "execution_count": 8,
     "metadata": {},
     "output_type": "execute_result"
    }
   ],
   "source": [
    "#Eliminar variables que tienen un alto porcentaje de registros con el valor nulo\n",
    "df_var = df.isnull().sum() #Creamos una serie de pandas con el número de valores nulos de cada variable\n",
    "porcentaje_eliminacion = 0.1 #10%\n",
    "df_var = df_var[df_var<porcentaje_eliminacion*len(df)] #Nos quedamos con las variables que tienen menos de un porcentaje de registros nulos\n",
    "lista_variables_OK = df_var.index #Nos quedamos con el índice de la serie (los nombres de las variables de interés)\n",
    "df = df[lista_variables_OK] #Filtramos el dataframe original y nos quedamos solo con las columnas de interés\n",
    "df.head(5)"
   ]
  },
  {
   "cell_type": "code",
   "execution_count": 9,
   "metadata": {},
   "outputs": [],
   "source": [
    "#Eliminamos registros que tienen algún valor erróneo (se podría interpolar)"
   ]
  },
  {
   "cell_type": "code",
   "execution_count": 10,
   "metadata": {},
   "outputs": [],
   "source": [
    "df.dropna(inplace=True)"
   ]
  },
  {
   "cell_type": "code",
   "execution_count": 11,
   "metadata": {},
   "outputs": [
    {
     "data": {
      "text/plain": [
       "id                         0\n",
       "title                      0\n",
       "subtitle                   0\n",
       "sq_mt_built                0\n",
       "n_rooms                    0\n",
       "n_bathrooms                0\n",
       "is_exact_address_hidden    0\n",
       "is_floor_under             0\n",
       "neighborhood_id            0\n",
       "operation                  0\n",
       "rent_price                 0\n",
       "is_rent_price_known        0\n",
       "buy_price                  0\n",
       "buy_price_by_area          0\n",
       "is_buy_price_known         0\n",
       "house_type_id              0\n",
       "is_renewal_needed          0\n",
       "is_new_development         0\n",
       "energy_certificate         0\n",
       "has_parking                0\n",
       "dtype: int64"
      ]
     },
     "execution_count": 11,
     "metadata": {},
     "output_type": "execute_result"
    }
   ],
   "source": [
    "df.isnull().sum() #Verificamos si hay valores nulos en alguna columna del dataframe"
   ]
  },
  {
   "cell_type": "code",
   "execution_count": 12,
   "metadata": {},
   "outputs": [
    {
     "data": {
      "text/html": [
       "<div>\n",
       "<style scoped>\n",
       "    .dataframe tbody tr th:only-of-type {\n",
       "        vertical-align: middle;\n",
       "    }\n",
       "\n",
       "    .dataframe tbody tr th {\n",
       "        vertical-align: top;\n",
       "    }\n",
       "\n",
       "    .dataframe thead th {\n",
       "        text-align: right;\n",
       "    }\n",
       "</style>\n",
       "<table border=\"1\" class=\"dataframe\">\n",
       "  <thead>\n",
       "    <tr style=\"text-align: right;\">\n",
       "      <th></th>\n",
       "      <th>count</th>\n",
       "      <th>mean</th>\n",
       "      <th>std</th>\n",
       "      <th>min</th>\n",
       "      <th>25%</th>\n",
       "      <th>50%</th>\n",
       "      <th>75%</th>\n",
       "      <th>max</th>\n",
       "    </tr>\n",
       "  </thead>\n",
       "  <tbody>\n",
       "    <tr>\n",
       "      <th>id</th>\n",
       "      <td>19310.0</td>\n",
       "      <td>10751.771621</td>\n",
       "      <td>6272.883675</td>\n",
       "      <td>2.0</td>\n",
       "      <td>5347.25</td>\n",
       "      <td>10575.5</td>\n",
       "      <td>16243.75</td>\n",
       "      <td>21742.0</td>\n",
       "    </tr>\n",
       "    <tr>\n",
       "      <th>sq_mt_built</th>\n",
       "      <td>19310.0</td>\n",
       "      <td>144.126359</td>\n",
       "      <td>125.418617</td>\n",
       "      <td>16.0</td>\n",
       "      <td>71.00</td>\n",
       "      <td>101.0</td>\n",
       "      <td>161.00</td>\n",
       "      <td>999.0</td>\n",
       "    </tr>\n",
       "    <tr>\n",
       "      <th>n_rooms</th>\n",
       "      <td>19310.0</td>\n",
       "      <td>3.013361</td>\n",
       "      <td>1.388427</td>\n",
       "      <td>0.0</td>\n",
       "      <td>2.00</td>\n",
       "      <td>3.0</td>\n",
       "      <td>4.00</td>\n",
       "      <td>24.0</td>\n",
       "    </tr>\n",
       "    <tr>\n",
       "      <th>n_bathrooms</th>\n",
       "      <td>19310.0</td>\n",
       "      <td>2.039617</td>\n",
       "      <td>1.271573</td>\n",
       "      <td>1.0</td>\n",
       "      <td>1.00</td>\n",
       "      <td>2.0</td>\n",
       "      <td>2.00</td>\n",
       "      <td>14.0</td>\n",
       "    </tr>\n",
       "    <tr>\n",
       "      <th>is_floor_under</th>\n",
       "      <td>19310.0</td>\n",
       "      <td>0.118747</td>\n",
       "      <td>0.323499</td>\n",
       "      <td>0.0</td>\n",
       "      <td>0.00</td>\n",
       "      <td>0.0</td>\n",
       "      <td>0.00</td>\n",
       "      <td>1.0</td>\n",
       "    </tr>\n",
       "    <tr>\n",
       "      <th>rent_price</th>\n",
       "      <td>19310.0</td>\n",
       "      <td>1573.749995</td>\n",
       "      <td>931.244378</td>\n",
       "      <td>18.0</td>\n",
       "      <td>913.00</td>\n",
       "      <td>1368.0</td>\n",
       "      <td>2073.50</td>\n",
       "      <td>12584.0</td>\n",
       "    </tr>\n",
       "    <tr>\n",
       "      <th>buy_price</th>\n",
       "      <td>19310.0</td>\n",
       "      <td>632592.345106</td>\n",
       "      <td>720196.584637</td>\n",
       "      <td>36000.0</td>\n",
       "      <td>200000.00</td>\n",
       "      <td>380000.0</td>\n",
       "      <td>750000.00</td>\n",
       "      <td>8800000.0</td>\n",
       "    </tr>\n",
       "    <tr>\n",
       "      <th>buy_price_by_area</th>\n",
       "      <td>19310.0</td>\n",
       "      <td>4061.935008</td>\n",
       "      <td>1917.230783</td>\n",
       "      <td>447.0</td>\n",
       "      <td>2586.00</td>\n",
       "      <td>3783.5</td>\n",
       "      <td>5047.00</td>\n",
       "      <td>18889.0</td>\n",
       "    </tr>\n",
       "    <tr>\n",
       "      <th>is_new_development</th>\n",
       "      <td>19310.0</td>\n",
       "      <td>0.060124</td>\n",
       "      <td>0.237723</td>\n",
       "      <td>0.0</td>\n",
       "      <td>0.00</td>\n",
       "      <td>0.0</td>\n",
       "      <td>0.00</td>\n",
       "      <td>1.0</td>\n",
       "    </tr>\n",
       "  </tbody>\n",
       "</table>\n",
       "</div>"
      ],
      "text/plain": [
       "                      count           mean            std      min        25%  \\\n",
       "id                  19310.0   10751.771621    6272.883675      2.0    5347.25   \n",
       "sq_mt_built         19310.0     144.126359     125.418617     16.0      71.00   \n",
       "n_rooms             19310.0       3.013361       1.388427      0.0       2.00   \n",
       "n_bathrooms         19310.0       2.039617       1.271573      1.0       1.00   \n",
       "is_floor_under      19310.0       0.118747       0.323499      0.0       0.00   \n",
       "rent_price          19310.0    1573.749995     931.244378     18.0     913.00   \n",
       "buy_price           19310.0  632592.345106  720196.584637  36000.0  200000.00   \n",
       "buy_price_by_area   19310.0    4061.935008    1917.230783    447.0    2586.00   \n",
       "is_new_development  19310.0       0.060124       0.237723      0.0       0.00   \n",
       "\n",
       "                         50%        75%        max  \n",
       "id                   10575.5   16243.75    21742.0  \n",
       "sq_mt_built            101.0     161.00      999.0  \n",
       "n_rooms                  3.0       4.00       24.0  \n",
       "n_bathrooms              2.0       2.00       14.0  \n",
       "is_floor_under           0.0       0.00        1.0  \n",
       "rent_price            1368.0    2073.50    12584.0  \n",
       "buy_price           380000.0  750000.00  8800000.0  \n",
       "buy_price_by_area     3783.5    5047.00    18889.0  \n",
       "is_new_development       0.0       0.00        1.0  "
      ]
     },
     "execution_count": 12,
     "metadata": {},
     "output_type": "execute_result"
    }
   ],
   "source": [
    "df.describe().transpose() #Principales datos estadísticos del dataframe"
   ]
  },
  {
   "cell_type": "markdown",
   "metadata": {},
   "source": [
    "## 3.2 Visualización"
   ]
  },
  {
   "cell_type": "markdown",
   "metadata": {},
   "source": [
    "### 3.2.1 Plots básicos"
   ]
  },
  {
   "cell_type": "code",
   "execution_count": 13,
   "metadata": {},
   "outputs": [
    {
     "data": {
      "text/plain": [
       "<matplotlib.axes._subplots.AxesSubplot at 0x27db0059d30>"
      ]
     },
     "execution_count": 13,
     "metadata": {},
     "output_type": "execute_result"
    },
    {
     "data": {
      "image/png": "[encoded data removed]",
      "text/plain": [
       "<Figure size 864x576 with 1 Axes>"
      ]
     },
     "metadata": {
      "needs_background": "light"
     },
     "output_type": "display_data"
    }
   ],
   "source": [
    "plt.figure(figsize=(12,8))\n",
    "sns.distplot(df['buy_price']) #Plantearse descartar outliers para facilitar el entrenamiento de la red neuronal si suponen alta carga computacional o elevado error del modelo"
   ]
  },
  {
   "cell_type": "code",
   "execution_count": 14,
   "metadata": {},
   "outputs": [
    {
     "data": {
      "text/plain": [
       "<matplotlib.axes._subplots.AxesSubplot at 0x27db17542e0>"
      ]
     },
     "execution_count": 14,
     "metadata": {},
     "output_type": "execute_result"
    },
    {
     "data": {
      "image/png": "[encoded data removed]",
      "text/plain": [
       "<Figure size 432x288 with 1 Axes>"
      ]
     },
     "metadata": {
      "needs_background": "light"
     },
     "output_type": "display_data"
    }
   ],
   "source": [
    "sns.countplot(df['n_rooms'])"
   ]
  },
  {
   "cell_type": "code",
   "execution_count": 15,
   "metadata": {
    "scrolled": true
   },
   "outputs": [
    {
     "data": {
      "text/plain": [
       "id                        -0.195828\n",
       "is_floor_under            -0.149768\n",
       "is_new_development        -0.013903\n",
       "is_renewal_needed          0.052132\n",
       "is_exact_address_hidden    0.167964\n",
       "has_parking                0.315350\n",
       "n_rooms                    0.578291\n",
       "buy_price_by_area          0.581698\n",
       "n_bathrooms                0.753692\n",
       "sq_mt_built                0.831700\n",
       "rent_price                 0.920350\n",
       "buy_price                  1.000000\n",
       "is_rent_price_known             NaN\n",
       "is_buy_price_known              NaN\n",
       "Name: buy_price, dtype: float64"
      ]
     },
     "execution_count": 15,
     "metadata": {},
     "output_type": "execute_result"
    }
   ],
   "source": [
    "df.corr()['buy_price'].sort_values() #Verificar qué variables tienen mayor correlación con la salida\n",
    "#En caso de que haya un error al aplicar el método corr() sobre un dataframe por el hecho de que haya columnas no numéricas (depende de la versión de la librería Pandas), lo más sencillo es aplicar el método con la opción numeric_only=True:\n",
    "#df.corr(numeric_only = True)"
   ]
  },
  {
   "cell_type": "code",
   "execution_count": 16,
   "metadata": {},
   "outputs": [],
   "source": [
    "#Visualizar variables altamente correladas con la salida"
   ]
  },
  {
   "cell_type": "code",
   "execution_count": 17,
   "metadata": {},
   "outputs": [
    {
     "data": {
      "text/plain": [
       "<matplotlib.axes._subplots.AxesSubplot at 0x27db1499e80>"
      ]
     },
     "execution_count": 17,
     "metadata": {},
     "output_type": "execute_result"
    },
    {
     "data": {
      "image/png": "[encoded data removed]",
      "text/plain": [
       "<Figure size 864x576 with 1 Axes>"
      ]
     },
     "metadata": {
      "needs_background": "light"
     },
     "output_type": "display_data"
    }
   ],
   "source": [
    "plt.figure(figsize=(12,8))\n",
    "sns.scatterplot(x='buy_price',y='sq_mt_built',data=df)"
   ]
  },
  {
   "cell_type": "code",
   "execution_count": 18,
   "metadata": {},
   "outputs": [
    {
     "data": {
      "text/plain": [
       "<matplotlib.axes._subplots.AxesSubplot at 0x27db111e8e0>"
      ]
     },
     "execution_count": 18,
     "metadata": {},
     "output_type": "execute_result"
    },
    {
     "data": {
      "image/png": "[encoded data removed]",
      "text/plain": [
       "<Figure size 432x288 with 1 Axes>"
      ]
     },
     "metadata": {
      "needs_background": "light"
     },
     "output_type": "display_data"
    }
   ],
   "source": [
    "sns.boxplot(x='n_bathrooms',y='buy_price',data=df)"
   ]
  },
  {
   "cell_type": "markdown",
   "metadata": {},
   "source": [
    "### 3.2.2 Plot geográficos"
   ]
  },
  {
   "cell_type": "code",
   "execution_count": 19,
   "metadata": {},
   "outputs": [],
   "source": [
    "# Visualizar la información geográfica si estuviera completa, el ejemplo que hay a continuación proviende de una \n",
    "# fuente de datos alternativa: https://www.kaggle.com/harlfoxem/housesalesprediction"
   ]
  },
  {
   "cell_type": "code",
   "execution_count": 20,
   "metadata": {},
   "outputs": [],
   "source": [
    "#plt.figure(figsize=(12,8))\n",
    "#sns.scatterplot(x='price',y='long',data=df)"
   ]
  },
  {
   "cell_type": "code",
   "execution_count": 21,
   "metadata": {},
   "outputs": [],
   "source": [
    "#plt.figure(figsize=(12,8))\n",
    "#sns.scatterplot(x='price',y='lat',data=df)"
   ]
  },
  {
   "cell_type": "code",
   "execution_count": 22,
   "metadata": {},
   "outputs": [],
   "source": [
    "#plt.figure(figsize=(12,8))\n",
    "#sns.scatterplot(x='long',y='lat',data=df,hue='price') #Representación con poco rango dinámico de colores debido a los outliers"
   ]
  },
  {
   "cell_type": "code",
   "execution_count": 23,
   "metadata": {},
   "outputs": [],
   "source": [
    "#len(df)*(0.01) #número de muestras que sería el 1% de nuestros datos"
   ]
  },
  {
   "cell_type": "code",
   "execution_count": 24,
   "metadata": {},
   "outputs": [],
   "source": [
    "#non_top_1_perc = df.sort_values('price',ascending=False).iloc[216:] #estaríamos quitando el 1% de valores outliers"
   ]
  },
  {
   "cell_type": "code",
   "execution_count": 25,
   "metadata": {},
   "outputs": [],
   "source": [
    "#plt.figure(figsize=(12,8))\n",
    "#sns.scatterplot(x='long',y='lat',\n",
    "#                data=non_top_1_perc,hue='price',\n",
    "#                palette='RdYlGn',edgecolor=None,alpha=0.2) "
   ]
  },
  {
   "cell_type": "markdown",
   "metadata": {},
   "source": [
    "### 3.2.3 Otras variables"
   ]
  },
  {
   "cell_type": "code",
   "execution_count": 26,
   "metadata": {},
   "outputs": [
    {
     "data": {
      "text/plain": [
       "<matplotlib.axes._subplots.AxesSubplot at 0x27db00ac1c0>"
      ]
     },
     "execution_count": 26,
     "metadata": {},
     "output_type": "execute_result"
    },
    {
     "data": {
      "image/png": "[encoded data removed]",
      "text/plain": [
       "<Figure size 432x288 with 1 Axes>"
      ]
     },
     "metadata": {
      "needs_background": "light"
     },
     "output_type": "display_data"
    }
   ],
   "source": [
    "sns.boxplot(x='has_parking',y='buy_price',data=df)"
   ]
  },
  {
   "cell_type": "markdown",
   "metadata": {},
   "source": [
    "## 3.3 Limpieza final"
   ]
  },
  {
   "cell_type": "markdown",
   "metadata": {},
   "source": [
    "### 3.3.1 Eliminar columnas no correladas"
   ]
  },
  {
   "cell_type": "code",
   "execution_count": 27,
   "metadata": {},
   "outputs": [],
   "source": [
    "# Objetivo: Eliminar variables que no tienen ninguna relación con la variable objetivo (precio) \n",
    "# o bien su información ya está incluida en otras variables - Aprovechar conocimiento del campo que estamos tratando"
   ]
  },
  {
   "cell_type": "code",
   "execution_count": 28,
   "metadata": {},
   "outputs": [
    {
     "data": {
      "text/html": [
       "<div>\n",
       "<style scoped>\n",
       "    .dataframe tbody tr th:only-of-type {\n",
       "        vertical-align: middle;\n",
       "    }\n",
       "\n",
       "    .dataframe tbody tr th {\n",
       "        vertical-align: top;\n",
       "    }\n",
       "\n",
       "    .dataframe thead th {\n",
       "        text-align: right;\n",
       "    }\n",
       "</style>\n",
       "<table border=\"1\" class=\"dataframe\">\n",
       "  <thead>\n",
       "    <tr style=\"text-align: right;\">\n",
       "      <th></th>\n",
       "      <th>id</th>\n",
       "      <th>title</th>\n",
       "      <th>subtitle</th>\n",
       "      <th>sq_mt_built</th>\n",
       "      <th>n_rooms</th>\n",
       "      <th>n_bathrooms</th>\n",
       "      <th>is_exact_address_hidden</th>\n",
       "      <th>is_floor_under</th>\n",
       "      <th>neighborhood_id</th>\n",
       "      <th>operation</th>\n",
       "      <th>rent_price</th>\n",
       "      <th>is_rent_price_known</th>\n",
       "      <th>buy_price</th>\n",
       "      <th>buy_price_by_area</th>\n",
       "      <th>is_buy_price_known</th>\n",
       "      <th>house_type_id</th>\n",
       "      <th>is_renewal_needed</th>\n",
       "      <th>is_new_development</th>\n",
       "      <th>energy_certificate</th>\n",
       "      <th>has_parking</th>\n",
       "    </tr>\n",
       "  </thead>\n",
       "  <tbody>\n",
       "    <tr>\n",
       "      <th>0</th>\n",
       "      <td>21742</td>\n",
       "      <td>Piso en venta en calle de Godella, 64</td>\n",
       "      <td>San CristÃ³bal, Madrid</td>\n",
       "      <td>64.0</td>\n",
       "      <td>2</td>\n",
       "      <td>1.0</td>\n",
       "      <td>False</td>\n",
       "      <td>0.0</td>\n",
       "      <td>Neighborhood 135: San CristÃ³bal (1308.89 â‚¬/...</td>\n",
       "      <td>sale</td>\n",
       "      <td>471.0</td>\n",
       "      <td>False</td>\n",
       "      <td>85000</td>\n",
       "      <td>1328</td>\n",
       "      <td>True</td>\n",
       "      <td>HouseType 1: Pisos</td>\n",
       "      <td>False</td>\n",
       "      <td>0.0</td>\n",
       "      <td>D</td>\n",
       "      <td>False</td>\n",
       "    </tr>\n",
       "    <tr>\n",
       "      <th>1</th>\n",
       "      <td>21741</td>\n",
       "      <td>Piso en venta en calle de la del Manojo de Rosas</td>\n",
       "      <td>Los Ãngeles, Madrid</td>\n",
       "      <td>70.0</td>\n",
       "      <td>3</td>\n",
       "      <td>1.0</td>\n",
       "      <td>True</td>\n",
       "      <td>0.0</td>\n",
       "      <td>Neighborhood 132: Los Ãngeles (1796.68 â‚¬/m2...</td>\n",
       "      <td>sale</td>\n",
       "      <td>666.0</td>\n",
       "      <td>False</td>\n",
       "      <td>129900</td>\n",
       "      <td>1856</td>\n",
       "      <td>True</td>\n",
       "      <td>HouseType 1: Pisos</td>\n",
       "      <td>True</td>\n",
       "      <td>0.0</td>\n",
       "      <td>en trÃ¡mite</td>\n",
       "      <td>False</td>\n",
       "    </tr>\n",
       "    <tr>\n",
       "      <th>2</th>\n",
       "      <td>21740</td>\n",
       "      <td>Piso en venta en calle del Talco, 68</td>\n",
       "      <td>San AndrÃ©s, Madrid</td>\n",
       "      <td>94.0</td>\n",
       "      <td>2</td>\n",
       "      <td>2.0</td>\n",
       "      <td>False</td>\n",
       "      <td>0.0</td>\n",
       "      <td>Neighborhood 134: San AndrÃ©s (1617.18 â‚¬/m2)...</td>\n",
       "      <td>sale</td>\n",
       "      <td>722.0</td>\n",
       "      <td>False</td>\n",
       "      <td>144247</td>\n",
       "      <td>1535</td>\n",
       "      <td>True</td>\n",
       "      <td>HouseType 1: Pisos</td>\n",
       "      <td>False</td>\n",
       "      <td>0.0</td>\n",
       "      <td>no indicado</td>\n",
       "      <td>False</td>\n",
       "    </tr>\n",
       "    <tr>\n",
       "      <th>3</th>\n",
       "      <td>21739</td>\n",
       "      <td>Piso en venta en calle Pedro JimÃ©nez</td>\n",
       "      <td>San AndrÃ©s, Madrid</td>\n",
       "      <td>64.0</td>\n",
       "      <td>2</td>\n",
       "      <td>1.0</td>\n",
       "      <td>True</td>\n",
       "      <td>1.0</td>\n",
       "      <td>Neighborhood 134: San AndrÃ©s (1617.18 â‚¬/m2)...</td>\n",
       "      <td>sale</td>\n",
       "      <td>583.0</td>\n",
       "      <td>False</td>\n",
       "      <td>109900</td>\n",
       "      <td>1717</td>\n",
       "      <td>True</td>\n",
       "      <td>HouseType 1: Pisos</td>\n",
       "      <td>False</td>\n",
       "      <td>0.0</td>\n",
       "      <td>en trÃ¡mite</td>\n",
       "      <td>False</td>\n",
       "    </tr>\n",
       "    <tr>\n",
       "      <th>4</th>\n",
       "      <td>21738</td>\n",
       "      <td>Piso en venta en carretera de Villaverde a Val...</td>\n",
       "      <td>Los Rosales, Madrid</td>\n",
       "      <td>108.0</td>\n",
       "      <td>2</td>\n",
       "      <td>2.0</td>\n",
       "      <td>True</td>\n",
       "      <td>0.0</td>\n",
       "      <td>Neighborhood 133: Los Rosales (1827.79 â‚¬/m2)...</td>\n",
       "      <td>sale</td>\n",
       "      <td>1094.0</td>\n",
       "      <td>False</td>\n",
       "      <td>260000</td>\n",
       "      <td>2407</td>\n",
       "      <td>True</td>\n",
       "      <td>HouseType 1: Pisos</td>\n",
       "      <td>False</td>\n",
       "      <td>0.0</td>\n",
       "      <td>en trÃ¡mite</td>\n",
       "      <td>True</td>\n",
       "    </tr>\n",
       "  </tbody>\n",
       "</table>\n",
       "</div>"
      ],
      "text/plain": [
       "      id                                              title  \\\n",
       "0  21742              Piso en venta en calle de Godella, 64   \n",
       "1  21741   Piso en venta en calle de la del Manojo de Rosas   \n",
       "2  21740               Piso en venta en calle del Talco, 68   \n",
       "3  21739              Piso en venta en calle Pedro JimÃ©nez   \n",
       "4  21738  Piso en venta en carretera de Villaverde a Val...   \n",
       "\n",
       "                 subtitle  sq_mt_built  n_rooms  n_bathrooms  \\\n",
       "0  San CristÃ³bal, Madrid         64.0        2          1.0   \n",
       "1    Los Ãngeles, Madrid         70.0        3          1.0   \n",
       "2     San AndrÃ©s, Madrid         94.0        2          2.0   \n",
       "3     San AndrÃ©s, Madrid         64.0        2          1.0   \n",
       "4     Los Rosales, Madrid        108.0        2          2.0   \n",
       "\n",
       "   is_exact_address_hidden  is_floor_under  \\\n",
       "0                    False             0.0   \n",
       "1                     True             0.0   \n",
       "2                    False             0.0   \n",
       "3                     True             1.0   \n",
       "4                     True             0.0   \n",
       "\n",
       "                                     neighborhood_id operation  rent_price  \\\n",
       "0  Neighborhood 135: San CristÃ³bal (1308.89 â‚¬/...      sale       471.0   \n",
       "1  Neighborhood 132: Los Ãngeles (1796.68 â‚¬/m2...      sale       666.0   \n",
       "2  Neighborhood 134: San AndrÃ©s (1617.18 â‚¬/m2)...      sale       722.0   \n",
       "3  Neighborhood 134: San AndrÃ©s (1617.18 â‚¬/m2)...      sale       583.0   \n",
       "4  Neighborhood 133: Los Rosales (1827.79 â‚¬/m2)...      sale      1094.0   \n",
       "\n",
       "   is_rent_price_known  buy_price  buy_price_by_area  is_buy_price_known  \\\n",
       "0                False      85000               1328                True   \n",
       "1                False     129900               1856                True   \n",
       "2                False     144247               1535                True   \n",
       "3                False     109900               1717                True   \n",
       "4                False     260000               2407                True   \n",
       "\n",
       "        house_type_id  is_renewal_needed  is_new_development  \\\n",
       "0  HouseType 1: Pisos              False                 0.0   \n",
       "1  HouseType 1: Pisos               True                 0.0   \n",
       "2  HouseType 1: Pisos              False                 0.0   \n",
       "3  HouseType 1: Pisos              False                 0.0   \n",
       "4  HouseType 1: Pisos              False                 0.0   \n",
       "\n",
       "  energy_certificate  has_parking  \n",
       "0                  D        False  \n",
       "1        en trÃ¡mite        False  \n",
       "2        no indicado        False  \n",
       "3        en trÃ¡mite        False  \n",
       "4        en trÃ¡mite         True  "
      ]
     },
     "execution_count": 28,
     "metadata": {},
     "output_type": "execute_result"
    }
   ],
   "source": [
    "df.head()"
   ]
  },
  {
   "cell_type": "code",
   "execution_count": 29,
   "metadata": {},
   "outputs": [
    {
     "name": "stdout",
     "output_type": "stream",
     "text": [
      "<class 'pandas.core.frame.DataFrame'>\n",
      "Int64Index: 19310 entries, 0 to 21740\n",
      "Data columns (total 20 columns):\n",
      " #   Column                   Non-Null Count  Dtype  \n",
      "---  ------                   --------------  -----  \n",
      " 0   id                       19310 non-null  int64  \n",
      " 1   title                    19310 non-null  object \n",
      " 2   subtitle                 19310 non-null  object \n",
      " 3   sq_mt_built              19310 non-null  float64\n",
      " 4   n_rooms                  19310 non-null  int64  \n",
      " 5   n_bathrooms              19310 non-null  float64\n",
      " 6   is_exact_address_hidden  19310 non-null  bool   \n",
      " 7   is_floor_under           19310 non-null  float64\n",
      " 8   neighborhood_id          19310 non-null  object \n",
      " 9   operation                19310 non-null  object \n",
      " 10  rent_price               19310 non-null  float64\n",
      " 11  is_rent_price_known      19310 non-null  bool   \n",
      " 12  buy_price                19310 non-null  int64  \n",
      " 13  buy_price_by_area        19310 non-null  int64  \n",
      " 14  is_buy_price_known       19310 non-null  bool   \n",
      " 15  house_type_id            19310 non-null  object \n",
      " 16  is_renewal_needed        19310 non-null  bool   \n",
      " 17  is_new_development       19310 non-null  float64\n",
      " 18  energy_certificate       19310 non-null  object \n",
      " 19  has_parking              19310 non-null  bool   \n",
      "dtypes: bool(5), float64(5), int64(4), object(6)\n",
      "memory usage: 3.1+ MB\n"
     ]
    }
   ],
   "source": [
    "df.info()"
   ]
  },
  {
   "cell_type": "code",
   "execution_count": 30,
   "metadata": {},
   "outputs": [],
   "source": [
    "df = df.drop(['id','title','subtitle','is_exact_address_hidden','is_renewal_needed','neighborhood_id','operation','is_rent_price_known','is_buy_price_known','buy_price_by_area','is_buy_price_known','house_type_id','energy_certificate'],axis=1)"
   ]
  },
  {
   "cell_type": "code",
   "execution_count": 31,
   "metadata": {},
   "outputs": [
    {
     "data": {
      "text/html": [
       "<div>\n",
       "<style scoped>\n",
       "    .dataframe tbody tr th:only-of-type {\n",
       "        vertical-align: middle;\n",
       "    }\n",
       "\n",
       "    .dataframe tbody tr th {\n",
       "        vertical-align: top;\n",
       "    }\n",
       "\n",
       "    .dataframe thead th {\n",
       "        text-align: right;\n",
       "    }\n",
       "</style>\n",
       "<table border=\"1\" class=\"dataframe\">\n",
       "  <thead>\n",
       "    <tr style=\"text-align: right;\">\n",
       "      <th></th>\n",
       "      <th>sq_mt_built</th>\n",
       "      <th>n_rooms</th>\n",
       "      <th>n_bathrooms</th>\n",
       "      <th>is_floor_under</th>\n",
       "      <th>rent_price</th>\n",
       "      <th>buy_price</th>\n",
       "      <th>is_new_development</th>\n",
       "      <th>has_parking</th>\n",
       "    </tr>\n",
       "  </thead>\n",
       "  <tbody>\n",
       "    <tr>\n",
       "      <th>0</th>\n",
       "      <td>64.0</td>\n",
       "      <td>2</td>\n",
       "      <td>1.0</td>\n",
       "      <td>0.0</td>\n",
       "      <td>471.0</td>\n",
       "      <td>85000</td>\n",
       "      <td>0.0</td>\n",
       "      <td>False</td>\n",
       "    </tr>\n",
       "    <tr>\n",
       "      <th>1</th>\n",
       "      <td>70.0</td>\n",
       "      <td>3</td>\n",
       "      <td>1.0</td>\n",
       "      <td>0.0</td>\n",
       "      <td>666.0</td>\n",
       "      <td>129900</td>\n",
       "      <td>0.0</td>\n",
       "      <td>False</td>\n",
       "    </tr>\n",
       "    <tr>\n",
       "      <th>2</th>\n",
       "      <td>94.0</td>\n",
       "      <td>2</td>\n",
       "      <td>2.0</td>\n",
       "      <td>0.0</td>\n",
       "      <td>722.0</td>\n",
       "      <td>144247</td>\n",
       "      <td>0.0</td>\n",
       "      <td>False</td>\n",
       "    </tr>\n",
       "    <tr>\n",
       "      <th>3</th>\n",
       "      <td>64.0</td>\n",
       "      <td>2</td>\n",
       "      <td>1.0</td>\n",
       "      <td>1.0</td>\n",
       "      <td>583.0</td>\n",
       "      <td>109900</td>\n",
       "      <td>0.0</td>\n",
       "      <td>False</td>\n",
       "    </tr>\n",
       "    <tr>\n",
       "      <th>4</th>\n",
       "      <td>108.0</td>\n",
       "      <td>2</td>\n",
       "      <td>2.0</td>\n",
       "      <td>0.0</td>\n",
       "      <td>1094.0</td>\n",
       "      <td>260000</td>\n",
       "      <td>0.0</td>\n",
       "      <td>True</td>\n",
       "    </tr>\n",
       "  </tbody>\n",
       "</table>\n",
       "</div>"
      ],
      "text/plain": [
       "   sq_mt_built  n_rooms  n_bathrooms  is_floor_under  rent_price  buy_price  \\\n",
       "0         64.0        2          1.0             0.0       471.0      85000   \n",
       "1         70.0        3          1.0             0.0       666.0     129900   \n",
       "2         94.0        2          2.0             0.0       722.0     144247   \n",
       "3         64.0        2          1.0             1.0       583.0     109900   \n",
       "4        108.0        2          2.0             0.0      1094.0     260000   \n",
       "\n",
       "   is_new_development  has_parking  \n",
       "0                 0.0        False  \n",
       "1                 0.0        False  \n",
       "2                 0.0        False  \n",
       "3                 0.0        False  \n",
       "4                 0.0         True  "
      ]
     },
     "execution_count": 31,
     "metadata": {},
     "output_type": "execute_result"
    }
   ],
   "source": [
    "df.head()"
   ]
  },
  {
   "cell_type": "markdown",
   "metadata": {},
   "source": [
    "### 3.3.2 Limpieza temporal"
   ]
  },
  {
   "cell_type": "code",
   "execution_count": 32,
   "metadata": {},
   "outputs": [],
   "source": [
    "#Importante visualizar la evolución temporal (si ha habido un importante cambio, quedarse con \n",
    "#la porción de datos que corresponde a la situación actual para mejorar la futura predicción)\n",
    "#El ejemplo que hay a continuación proviende de una fuente de datos alternativa: https://www.kaggle.com/harlfoxem/housesalesprediction"
   ]
  },
  {
   "cell_type": "code",
   "execution_count": 33,
   "metadata": {},
   "outputs": [],
   "source": [
    "#df['date'] = pd.to_datetime(df['date'])"
   ]
  },
  {
   "cell_type": "code",
   "execution_count": 34,
   "metadata": {},
   "outputs": [],
   "source": [
    "#df['month'] = df['date'].apply(lambda date:date.month)"
   ]
  },
  {
   "cell_type": "code",
   "execution_count": 35,
   "metadata": {},
   "outputs": [],
   "source": [
    "#df['year'] = df['date'].apply(lambda date:date.year)"
   ]
  },
  {
   "cell_type": "code",
   "execution_count": 36,
   "metadata": {},
   "outputs": [],
   "source": [
    "#sns.boxplot(x='year',y='price',data=df)"
   ]
  },
  {
   "cell_type": "code",
   "execution_count": 37,
   "metadata": {},
   "outputs": [],
   "source": [
    "#sns.boxplot(x='month',y='price',data=df)"
   ]
  },
  {
   "cell_type": "code",
   "execution_count": 38,
   "metadata": {},
   "outputs": [],
   "source": [
    "#df.groupby('month').mean()['price'].plot()"
   ]
  },
  {
   "cell_type": "code",
   "execution_count": 39,
   "metadata": {},
   "outputs": [],
   "source": [
    "#df.groupby('year').mean()['price'].plot()"
   ]
  },
  {
   "cell_type": "code",
   "execution_count": 40,
   "metadata": {},
   "outputs": [],
   "source": [
    "#df = df.drop('date',axis=1) #La fecha no será una variable útil para el modelo"
   ]
  },
  {
   "cell_type": "code",
   "execution_count": 41,
   "metadata": {},
   "outputs": [],
   "source": [
    "#df['sqft_basement'].value_counts()"
   ]
  },
  {
   "cell_type": "markdown",
   "metadata": {},
   "source": [
    "### 3.3.3 Transformación variables categóricas"
   ]
  },
  {
   "cell_type": "code",
   "execution_count": 42,
   "metadata": {},
   "outputs": [
    {
     "data": {
      "text/html": [
       "<div>\n",
       "<style scoped>\n",
       "    .dataframe tbody tr th:only-of-type {\n",
       "        vertical-align: middle;\n",
       "    }\n",
       "\n",
       "    .dataframe tbody tr th {\n",
       "        vertical-align: top;\n",
       "    }\n",
       "\n",
       "    .dataframe thead th {\n",
       "        text-align: right;\n",
       "    }\n",
       "</style>\n",
       "<table border=\"1\" class=\"dataframe\">\n",
       "  <thead>\n",
       "    <tr style=\"text-align: right;\">\n",
       "      <th></th>\n",
       "      <th>sq_mt_built</th>\n",
       "      <th>n_rooms</th>\n",
       "      <th>n_bathrooms</th>\n",
       "      <th>is_floor_under</th>\n",
       "      <th>rent_price</th>\n",
       "      <th>buy_price</th>\n",
       "      <th>is_new_development</th>\n",
       "      <th>has_parking</th>\n",
       "    </tr>\n",
       "  </thead>\n",
       "  <tbody>\n",
       "    <tr>\n",
       "      <th>0</th>\n",
       "      <td>64.0</td>\n",
       "      <td>2</td>\n",
       "      <td>1.0</td>\n",
       "      <td>0.0</td>\n",
       "      <td>471.0</td>\n",
       "      <td>85000</td>\n",
       "      <td>0.0</td>\n",
       "      <td>False</td>\n",
       "    </tr>\n",
       "    <tr>\n",
       "      <th>1</th>\n",
       "      <td>70.0</td>\n",
       "      <td>3</td>\n",
       "      <td>1.0</td>\n",
       "      <td>0.0</td>\n",
       "      <td>666.0</td>\n",
       "      <td>129900</td>\n",
       "      <td>0.0</td>\n",
       "      <td>False</td>\n",
       "    </tr>\n",
       "    <tr>\n",
       "      <th>2</th>\n",
       "      <td>94.0</td>\n",
       "      <td>2</td>\n",
       "      <td>2.0</td>\n",
       "      <td>0.0</td>\n",
       "      <td>722.0</td>\n",
       "      <td>144247</td>\n",
       "      <td>0.0</td>\n",
       "      <td>False</td>\n",
       "    </tr>\n",
       "    <tr>\n",
       "      <th>3</th>\n",
       "      <td>64.0</td>\n",
       "      <td>2</td>\n",
       "      <td>1.0</td>\n",
       "      <td>1.0</td>\n",
       "      <td>583.0</td>\n",
       "      <td>109900</td>\n",
       "      <td>0.0</td>\n",
       "      <td>False</td>\n",
       "    </tr>\n",
       "    <tr>\n",
       "      <th>4</th>\n",
       "      <td>108.0</td>\n",
       "      <td>2</td>\n",
       "      <td>2.0</td>\n",
       "      <td>0.0</td>\n",
       "      <td>1094.0</td>\n",
       "      <td>260000</td>\n",
       "      <td>0.0</td>\n",
       "      <td>True</td>\n",
       "    </tr>\n",
       "  </tbody>\n",
       "</table>\n",
       "</div>"
      ],
      "text/plain": [
       "   sq_mt_built  n_rooms  n_bathrooms  is_floor_under  rent_price  buy_price  \\\n",
       "0         64.0        2          1.0             0.0       471.0      85000   \n",
       "1         70.0        3          1.0             0.0       666.0     129900   \n",
       "2         94.0        2          2.0             0.0       722.0     144247   \n",
       "3         64.0        2          1.0             1.0       583.0     109900   \n",
       "4        108.0        2          2.0             0.0      1094.0     260000   \n",
       "\n",
       "   is_new_development  has_parking  \n",
       "0                 0.0        False  \n",
       "1                 0.0        False  \n",
       "2                 0.0        False  \n",
       "3                 0.0        False  \n",
       "4                 0.0         True  "
      ]
     },
     "execution_count": 42,
     "metadata": {},
     "output_type": "execute_result"
    }
   ],
   "source": [
    "df.head()"
   ]
  },
  {
   "cell_type": "code",
   "execution_count": 43,
   "metadata": {},
   "outputs": [],
   "source": [
    "#Utilizar OneHotEncoder si variables categóricas (se obtiene una columna por cada categoría asignando 0 o 1) / Las variables booleanas no es necesario convertirlas True = 1 / False = 0\n",
    "#from sklearn.preprocessing import OneHotEncoder\n",
    "#oe_style = OneHotEncoder()\n",
    "#oe_results = oe_style.fit_transform(df[[\"body_style\"]]) #body_style sería la variable categórica\n",
    "#pd.DataFrame(oe_results.toarray(), columns=oe_style.categories_).head()\n",
    "#df = df.join(pd.DataFrame(oe_results.toarray(), columns=oe_style.categories_))"
   ]
  },
  {
   "cell_type": "markdown",
   "metadata": {},
   "source": [
    "# 4.Train Test Split"
   ]
  },
  {
   "cell_type": "code",
   "execution_count": 44,
   "metadata": {},
   "outputs": [],
   "source": [
    "X = df.drop('buy_price',axis=1)\n",
    "y = df['buy_price']"
   ]
  },
  {
   "cell_type": "code",
   "execution_count": 45,
   "metadata": {},
   "outputs": [],
   "source": [
    "from sklearn.model_selection import train_test_split"
   ]
  },
  {
   "cell_type": "code",
   "execution_count": 46,
   "metadata": {},
   "outputs": [],
   "source": [
    "X_train, X_test, y_train, y_test = train_test_split(X,y,test_size=0.2,random_state=101)"
   ]
  },
  {
   "cell_type": "code",
   "execution_count": 47,
   "metadata": {},
   "outputs": [
    {
     "data": {
      "text/plain": [
       "(15448, 7)"
      ]
     },
     "execution_count": 47,
     "metadata": {},
     "output_type": "execute_result"
    }
   ],
   "source": [
    "X_train.shape"
   ]
  },
  {
   "cell_type": "code",
   "execution_count": 48,
   "metadata": {},
   "outputs": [
    {
     "data": {
      "text/plain": [
       "(3862, 7)"
      ]
     },
     "execution_count": 48,
     "metadata": {},
     "output_type": "execute_result"
    }
   ],
   "source": [
    "X_test.shape"
   ]
  },
  {
   "cell_type": "markdown",
   "metadata": {},
   "source": [
    "# 5.Escalado"
   ]
  },
  {
   "cell_type": "code",
   "execution_count": 49,
   "metadata": {},
   "outputs": [],
   "source": [
    "from sklearn.preprocessing import MinMaxScaler"
   ]
  },
  {
   "cell_type": "code",
   "execution_count": 50,
   "metadata": {},
   "outputs": [],
   "source": [
    "scaler = MinMaxScaler()"
   ]
  },
  {
   "cell_type": "code",
   "execution_count": 51,
   "metadata": {},
   "outputs": [
    {
     "data": {
      "text/html": [
       "<div>\n",
       "<style scoped>\n",
       "    .dataframe tbody tr th:only-of-type {\n",
       "        vertical-align: middle;\n",
       "    }\n",
       "\n",
       "    .dataframe tbody tr th {\n",
       "        vertical-align: top;\n",
       "    }\n",
       "\n",
       "    .dataframe thead th {\n",
       "        text-align: right;\n",
       "    }\n",
       "</style>\n",
       "<table border=\"1\" class=\"dataframe\">\n",
       "  <thead>\n",
       "    <tr style=\"text-align: right;\">\n",
       "      <th></th>\n",
       "      <th>sq_mt_built</th>\n",
       "      <th>n_rooms</th>\n",
       "      <th>n_bathrooms</th>\n",
       "      <th>is_floor_under</th>\n",
       "      <th>rent_price</th>\n",
       "      <th>is_new_development</th>\n",
       "      <th>has_parking</th>\n",
       "    </tr>\n",
       "  </thead>\n",
       "  <tbody>\n",
       "    <tr>\n",
       "      <th>2160</th>\n",
       "      <td>87.0</td>\n",
       "      <td>2</td>\n",
       "      <td>1.0</td>\n",
       "      <td>0.0</td>\n",
       "      <td>913.0</td>\n",
       "      <td>0.0</td>\n",
       "      <td>False</td>\n",
       "    </tr>\n",
       "    <tr>\n",
       "      <th>13201</th>\n",
       "      <td>150.0</td>\n",
       "      <td>2</td>\n",
       "      <td>2.0</td>\n",
       "      <td>1.0</td>\n",
       "      <td>1839.0</td>\n",
       "      <td>0.0</td>\n",
       "      <td>True</td>\n",
       "    </tr>\n",
       "    <tr>\n",
       "      <th>14224</th>\n",
       "      <td>682.0</td>\n",
       "      <td>24</td>\n",
       "      <td>4.0</td>\n",
       "      <td>0.0</td>\n",
       "      <td>6864.0</td>\n",
       "      <td>0.0</td>\n",
       "      <td>False</td>\n",
       "    </tr>\n",
       "    <tr>\n",
       "      <th>17339</th>\n",
       "      <td>154.0</td>\n",
       "      <td>5</td>\n",
       "      <td>5.0</td>\n",
       "      <td>0.0</td>\n",
       "      <td>2510.0</td>\n",
       "      <td>0.0</td>\n",
       "      <td>False</td>\n",
       "    </tr>\n",
       "    <tr>\n",
       "      <th>5298</th>\n",
       "      <td>70.0</td>\n",
       "      <td>3</td>\n",
       "      <td>1.0</td>\n",
       "      <td>0.0</td>\n",
       "      <td>621.0</td>\n",
       "      <td>0.0</td>\n",
       "      <td>False</td>\n",
       "    </tr>\n",
       "    <tr>\n",
       "      <th>...</th>\n",
       "      <td>...</td>\n",
       "      <td>...</td>\n",
       "      <td>...</td>\n",
       "      <td>...</td>\n",
       "      <td>...</td>\n",
       "      <td>...</td>\n",
       "      <td>...</td>\n",
       "    </tr>\n",
       "    <tr>\n",
       "      <th>6473</th>\n",
       "      <td>67.0</td>\n",
       "      <td>2</td>\n",
       "      <td>1.0</td>\n",
       "      <td>0.0</td>\n",
       "      <td>762.0</td>\n",
       "      <td>0.0</td>\n",
       "      <td>False</td>\n",
       "    </tr>\n",
       "    <tr>\n",
       "      <th>9240</th>\n",
       "      <td>146.0</td>\n",
       "      <td>3</td>\n",
       "      <td>2.0</td>\n",
       "      <td>0.0</td>\n",
       "      <td>2070.0</td>\n",
       "      <td>1.0</td>\n",
       "      <td>True</td>\n",
       "    </tr>\n",
       "    <tr>\n",
       "      <th>19993</th>\n",
       "      <td>104.0</td>\n",
       "      <td>2</td>\n",
       "      <td>1.0</td>\n",
       "      <td>0.0</td>\n",
       "      <td>1890.0</td>\n",
       "      <td>0.0</td>\n",
       "      <td>False</td>\n",
       "    </tr>\n",
       "    <tr>\n",
       "      <th>20197</th>\n",
       "      <td>85.0</td>\n",
       "      <td>2</td>\n",
       "      <td>2.0</td>\n",
       "      <td>0.0</td>\n",
       "      <td>1197.0</td>\n",
       "      <td>0.0</td>\n",
       "      <td>False</td>\n",
       "    </tr>\n",
       "    <tr>\n",
       "      <th>14945</th>\n",
       "      <td>116.0</td>\n",
       "      <td>2</td>\n",
       "      <td>2.0</td>\n",
       "      <td>0.0</td>\n",
       "      <td>2285.0</td>\n",
       "      <td>0.0</td>\n",
       "      <td>False</td>\n",
       "    </tr>\n",
       "  </tbody>\n",
       "</table>\n",
       "<p>15448 rows × 7 columns</p>\n",
       "</div>"
      ],
      "text/plain": [
       "       sq_mt_built  n_rooms  n_bathrooms  is_floor_under  rent_price  \\\n",
       "2160          87.0        2          1.0             0.0       913.0   \n",
       "13201        150.0        2          2.0             1.0      1839.0   \n",
       "14224        682.0       24          4.0             0.0      6864.0   \n",
       "17339        154.0        5          5.0             0.0      2510.0   \n",
       "5298          70.0        3          1.0             0.0       621.0   \n",
       "...            ...      ...          ...             ...         ...   \n",
       "6473          67.0        2          1.0             0.0       762.0   \n",
       "9240         146.0        3          2.0             0.0      2070.0   \n",
       "19993        104.0        2          1.0             0.0      1890.0   \n",
       "20197         85.0        2          2.0             0.0      1197.0   \n",
       "14945        116.0        2          2.0             0.0      2285.0   \n",
       "\n",
       "       is_new_development  has_parking  \n",
       "2160                  0.0        False  \n",
       "13201                 0.0         True  \n",
       "14224                 0.0        False  \n",
       "17339                 0.0        False  \n",
       "5298                  0.0        False  \n",
       "...                   ...          ...  \n",
       "6473                  0.0        False  \n",
       "9240                  1.0         True  \n",
       "19993                 0.0        False  \n",
       "20197                 0.0        False  \n",
       "14945                 0.0        False  \n",
       "\n",
       "[15448 rows x 7 columns]"
      ]
     },
     "execution_count": 51,
     "metadata": {},
     "output_type": "execute_result"
    }
   ],
   "source": [
    "X_train"
   ]
  },
  {
   "cell_type": "code",
   "execution_count": 52,
   "metadata": {},
   "outputs": [],
   "source": [
    "X_train= scaler.fit_transform(X_train)"
   ]
  },
  {
   "cell_type": "code",
   "execution_count": 53,
   "metadata": {},
   "outputs": [
    {
     "data": {
      "text/plain": [
       "array([[0.07230143, 0.08333333, 0.        , ..., 0.07122394, 0.        ,\n",
       "        0.        ],\n",
       "       [0.13645621, 0.08333333, 0.07692308, ..., 0.14491485, 0.        ,\n",
       "        1.        ],\n",
       "       [0.67820774, 1.        , 0.23076923, ..., 0.54480344, 0.        ,\n",
       "        0.        ],\n",
       "       ...,\n",
       "       [0.08961303, 0.08333333, 0.        , ..., 0.14897342, 0.        ,\n",
       "        0.        ],\n",
       "       [0.07026477, 0.08333333, 0.07692308, ..., 0.09382461, 0.        ,\n",
       "        0.        ],\n",
       "       [0.10183299, 0.08333333, 0.07692308, ..., 0.18040745, 0.        ,\n",
       "        0.        ]])"
      ]
     },
     "execution_count": 53,
     "metadata": {},
     "output_type": "execute_result"
    }
   ],
   "source": [
    "X_train"
   ]
  },
  {
   "cell_type": "code",
   "execution_count": 54,
   "metadata": {},
   "outputs": [],
   "source": [
    "X_test = scaler.transform(X_test)"
   ]
  },
  {
   "cell_type": "code",
   "execution_count": 55,
   "metadata": {},
   "outputs": [
    {
     "data": {
      "text/plain": [
       "(15448, 7)"
      ]
     },
     "execution_count": 55,
     "metadata": {},
     "output_type": "execute_result"
    }
   ],
   "source": [
    "X_train.shape"
   ]
  },
  {
   "cell_type": "code",
   "execution_count": 56,
   "metadata": {},
   "outputs": [
    {
     "data": {
      "text/plain": [
       "(3862, 7)"
      ]
     },
     "execution_count": 56,
     "metadata": {},
     "output_type": "execute_result"
    }
   ],
   "source": [
    "X_test.shape"
   ]
  },
  {
   "cell_type": "markdown",
   "metadata": {},
   "source": [
    "# 6.Creación del modelo"
   ]
  },
  {
   "cell_type": "code",
   "execution_count": 57,
   "metadata": {},
   "outputs": [],
   "source": [
    "from tensorflow.keras.models import Sequential\n",
    "from tensorflow.keras.layers import Dense, Activation\n",
    "from tensorflow.keras.optimizers import Adam"
   ]
  },
  {
   "cell_type": "code",
   "execution_count": 58,
   "metadata": {},
   "outputs": [],
   "source": [
    "model = Sequential()\n",
    "#Añadir un número de neuronas similar al número de features en X_train - 7 en el ejemplo\n",
    "num_neuronas = X_train.shape[1]\n",
    "model.add(Dense(num_neuronas,activation='relu'))\n",
    "model.add(Dense(num_neuronas,activation='relu'))\n",
    "model.add(Dense(num_neuronas,activation='relu'))\n",
    "model.add(Dense(num_neuronas,activation='relu'))\n",
    "model.add(Dense(1)) # Indicar tantas neuronas de salida como variables a predecir, en este caso solo 1 variable \"buy_price\"\n",
    "\n",
    "model.compile(optimizer='adam',loss='mse')"
   ]
  },
  {
   "cell_type": "markdown",
   "metadata": {},
   "source": [
    "# 7. Entrenamiento del modelo"
   ]
  },
  {
   "cell_type": "code",
   "execution_count": 59,
   "metadata": {},
   "outputs": [
    {
     "name": "stdout",
     "output_type": "stream",
     "text": [
      "Epoch 1/200\n",
      "121/121 [==============================] - 1s 7ms/step - loss: 919141007091.4098 - val_loss: 850748309504.0000\n",
      "Epoch 2/200\n",
      "121/121 [==============================] - 0s 929us/step - loss: 932607564615.3442 - val_loss: 850684739584.0000\n",
      "Epoch 3/200\n",
      "121/121 [==============================] - 0s 872us/step - loss: 929457642848.5245 - val_loss: 850246172672.0000\n",
      "Epoch 4/200\n",
      "121/121 [==============================] - 0s 939us/step - loss: 948632664769.0492 - val_loss: 848576184320.0000\n",
      "Epoch 5/200\n",
      "121/121 [==============================] - 0s 953us/step - loss: 944222073704.9181 - val_loss: 844041158656.0000\n",
      "Epoch 6/200\n",
      "121/121 [==============================] - 0s 940us/step - loss: 935031002095.2131 - val_loss: 834229698560.0000\n",
      "Epoch 7/200\n",
      "121/121 [==============================] - 0s 908us/step - loss: 877818499542.0328 - val_loss: 816161292288.0000\n",
      "Epoch 8/200\n",
      "121/121 [==============================] - 0s 943us/step - loss: 913806392269.6394 - val_loss: 786498387968.0000\n",
      "Epoch 9/200\n",
      "121/121 [==============================] - 0s 945us/step - loss: 869392184168.9181 - val_loss: 743156285440.0000\n",
      "Epoch 10/200\n",
      "121/121 [==============================] - 0s 985us/step - loss: 774986816058.7542 - val_loss: 685142179840.0000\n",
      "Epoch 11/200\n",
      "121/121 [==============================] - 0s 922us/step - loss: 751056879616.0000 - val_loss: 615673561088.0000\n",
      "Epoch 12/200\n",
      "121/121 [==============================] - 0s 975us/step - loss: 682103751461.7705 - val_loss: 540230778880.0000\n",
      "Epoch 13/200\n",
      "121/121 [==============================] - 0s 972us/step - loss: 623095115574.5574 - val_loss: 470012264448.0000\n",
      "Epoch 14/200\n",
      "121/121 [==============================] - 0s 947us/step - loss: 516811502978.0984 - val_loss: 412007792640.0000\n",
      "Epoch 15/200\n",
      "121/121 [==============================] - 0s 950us/step - loss: 477465274603.0164 - val_loss: 371790708736.0000\n",
      "Epoch 16/200\n",
      "121/121 [==============================] - 0s 940us/step - loss: 408898107022.6885 - val_loss: 348148596736.0000\n",
      "Epoch 17/200\n",
      "121/121 [==============================] - 0s 907us/step - loss: 380094073201.3115 - val_loss: 335681716224.0000\n",
      "Epoch 18/200\n",
      "121/121 [==============================] - 0s 953us/step - loss: 380356752501.5082 - val_loss: 328257994752.0000\n",
      "Epoch 19/200\n",
      "121/121 [==============================] - 0s 1ms/step - loss: 381847817635.6721 - val_loss: 322861400064.0000\n",
      "Epoch 20/200\n",
      "121/121 [==============================] - 0s 951us/step - loss: 367596279035.8033 - val_loss: 317905502208.0000\n",
      "Epoch 21/200\n",
      "121/121 [==============================] - 0s 1ms/step - loss: 358066030692.7213 - val_loss: 313053478912.0000\n",
      "Epoch 22/200\n",
      "121/121 [==============================] - 0s 1ms/step - loss: 345694000916.9836 - val_loss: 308202373120.0000\n",
      "Epoch 23/200\n",
      "121/121 [==============================] - 0s 1ms/step - loss: 342600461328.7869 - val_loss: 303314108416.0000\n",
      "Epoch 24/200\n",
      "121/121 [==============================] - 0s 1ms/step - loss: 338642139438.1639 - val_loss: 298293919744.0000\n",
      "Epoch 25/200\n",
      "121/121 [==============================] - 0s 1ms/step - loss: 323788185331.4099 - val_loss: 293209014272.0000\n",
      "Epoch 26/200\n",
      "121/121 [==============================] - 0s 1ms/step - loss: 326069424060.8525 - val_loss: 288124370944.0000\n",
      "Epoch 27/200\n",
      "121/121 [==============================] - 0s 911us/step - loss: 328462009125.7705 - val_loss: 282786168832.0000\n",
      "Epoch 28/200\n",
      "121/121 [==============================] - 0s 902us/step - loss: 308301225446.8197 - val_loss: 277388034048.0000\n",
      "Epoch 29/200\n",
      "121/121 [==============================] - 0s 1ms/step - loss: 307041039880.3934 - val_loss: 271889186816.0000\n",
      "Epoch 30/200\n",
      "121/121 [==============================] - 0s 964us/step - loss: 313369026694.2951 - val_loss: 266240720896.0000\n",
      "Epoch 31/200\n",
      "121/121 [==============================] - 0s 994us/step - loss: 272503855003.2787 - val_loss: 260570169344.0000\n",
      "Epoch 32/200\n",
      "121/121 [==============================] - 0s 982us/step - loss: 286749880387.1475 - val_loss: 254484234240.0000\n",
      "Epoch 33/200\n",
      "121/121 [==============================] - 0s 932us/step - loss: 277521194605.1147 - val_loss: 248393744384.0000\n",
      "Epoch 34/200\n",
      "121/121 [==============================] - 0s 963us/step - loss: 271484771009.0492 - val_loss: 242153766912.0000\n",
      "Epoch 35/200\n",
      "121/121 [==============================] - 0s 978us/step - loss: 274843661295.2131 - val_loss: 235829477376.0000\n",
      "Epoch 36/200\n",
      "121/121 [==============================] - 0s 927us/step - loss: 275543813002.4918 - val_loss: 229283741696.0000\n",
      "Epoch 37/200\n",
      "121/121 [==============================] - 0s 930us/step - loss: 280165809235.9344 - val_loss: 222720196608.0000\n",
      "Epoch 38/200\n",
      "121/121 [==============================] - 0s 952us/step - loss: 247246153425.8361 - val_loss: 216053612544.0000\n",
      "Epoch 39/200\n",
      "121/121 [==============================] - 0s 938us/step - loss: 230769921980.8524 - val_loss: 209470767104.0000\n",
      "Epoch 40/200\n",
      "121/121 [==============================] - 0s 879us/step - loss: 259938201801.4426 - val_loss: 202531799040.0000\n",
      "Epoch 41/200\n",
      "121/121 [==============================] - 0s 889us/step - loss: 228998622761.9672 - val_loss: 195774955520.0000\n",
      "Epoch 42/200\n",
      "121/121 [==============================] - 0s 935us/step - loss: 204277698224.2623 - val_loss: 189012508672.0000\n",
      "Epoch 43/200\n",
      "121/121 [==============================] - 0s 914us/step - loss: 213876394890.4918 - val_loss: 182060007424.0000\n",
      "Epoch 44/200\n",
      "121/121 [==============================] - 0s 908us/step - loss: 203741006327.6066 - val_loss: 175201435648.0000\n",
      "Epoch 45/200\n",
      "121/121 [==============================] - 0s 969us/step - loss: 202276557404.3279 - val_loss: 168390000640.0000\n",
      "Epoch 46/200\n",
      "121/121 [==============================] - 0s 1ms/step - loss: 186160181180.8524 - val_loss: 161664057344.0000\n",
      "Epoch 47/200\n",
      "121/121 [==============================] - 0s 950us/step - loss: 184433849595.8033 - val_loss: 155208990720.0000\n",
      "Epoch 48/200\n",
      "121/121 [==============================] - 0s 1ms/step - loss: 169131024249.7049 - val_loss: 148700921856.0000\n",
      "Epoch 49/200\n",
      "121/121 [==============================] - 0s 888us/step - loss: 163887736395.5410 - val_loss: 142394966016.0000\n",
      "Epoch 50/200\n",
      "121/121 [==============================] - 0s 960us/step - loss: 156701146330.2295 - val_loss: 136261419008.0000\n",
      "Epoch 51/200\n",
      "121/121 [==============================] - 0s 1ms/step - loss: 164846052066.6230 - val_loss: 130599337984.0000\n",
      "Epoch 52/200\n",
      "121/121 [==============================] - 0s 1ms/step - loss: 148178921236.9836 - val_loss: 125125402624.0000\n",
      "Epoch 53/200\n",
      "121/121 [==============================] - 0s 964us/step - loss: 138653475017.4426 - val_loss: 120365047808.0000\n",
      "Epoch 54/200\n",
      "121/121 [==============================] - 0s 1ms/step - loss: 122663164709.7705 - val_loss: 116000432128.0000\n",
      "Epoch 55/200\n",
      "121/121 [==============================] - 0s 864us/step - loss: 139187709582.6885 - val_loss: 111916687360.0000\n",
      "Epoch 56/200\n",
      "121/121 [==============================] - 0s 867us/step - loss: 124099922625.0492 - val_loss: 108539518976.0000\n",
      "Epoch 57/200\n",
      "121/121 [==============================] - 0s 930us/step - loss: 123885049755.2787 - val_loss: 105665437696.0000\n",
      "Epoch 58/200\n",
      "121/121 [==============================] - 0s 826us/step - loss: 123290477819.8033 - val_loss: 103138607104.0000\n",
      "Epoch 59/200\n",
      "121/121 [==============================] - 0s 839us/step - loss: 114093284234.4918 - val_loss: 101157568512.0000\n",
      "Epoch 60/200\n",
      "121/121 [==============================] - 0s 825us/step - loss: 113601051664.7869 - val_loss: 99426656256.0000\n",
      "Epoch 61/200\n",
      "121/121 [==============================] - 0s 827us/step - loss: 115713334154.4918 - val_loss: 97957150720.0000\n",
      "Epoch 62/200\n",
      "121/121 [==============================] - 0s 835us/step - loss: 110464906827.5410 - val_loss: 96781508608.0000\n",
      "Epoch 63/200\n",
      "121/121 [==============================] - 0s 859us/step - loss: 116491163480.1311 - val_loss: 95667183616.0000\n",
      "Epoch 64/200\n",
      "121/121 [==============================] - 0s 842us/step - loss: 110265882388.9836 - val_loss: 94717747200.0000\n",
      "Epoch 65/200\n",
      "121/121 [==============================] - 0s 820us/step - loss: 115346335441.8361 - val_loss: 93847109632.0000\n",
      "Epoch 66/200\n",
      "121/121 [==============================] - 0s 893us/step - loss: 114638448002.0984 - val_loss: 93052215296.0000\n",
      "Epoch 67/200\n",
      "121/121 [==============================] - 0s 893us/step - loss: 109335720607.4754 - val_loss: 92292382720.0000\n",
      "Epoch 68/200\n",
      "121/121 [==============================] - 0s 905us/step - loss: 97852527867.8033 - val_loss: 91531984896.0000\n",
      "Epoch 69/200\n",
      "121/121 [==============================] - 0s 876us/step - loss: 107143243406.6885 - val_loss: 90766639104.0000\n",
      "Epoch 70/200\n",
      "121/121 [==============================] - 0s 992us/step - loss: 109065874583.0820 - val_loss: 90049863680.0000\n",
      "Epoch 71/200\n",
      "121/121 [==============================] - 0s 971us/step - loss: 100320257477.2459 - val_loss: 89318031360.0000\n",
      "Epoch 72/200\n",
      "121/121 [==============================] - 0s 1ms/step - loss: 101520322425.7049 - val_loss: 88616460288.0000\n",
      "Epoch 73/200\n",
      "121/121 [==============================] - 0s 858us/step - loss: 103513874633.4426 - val_loss: 87877558272.0000\n",
      "Epoch 74/200\n",
      "121/121 [==============================] - 0s 824us/step - loss: 101999039135.4754 - val_loss: 87155261440.0000\n",
      "Epoch 75/200\n",
      "121/121 [==============================] - 0s 825us/step - loss: 98128593231.7377 - val_loss: 86428999680.0000\n",
      "Epoch 76/200\n",
      "121/121 [==============================] - 0s 824us/step - loss: 104793640221.3770 - val_loss: 85724266496.0000\n",
      "Epoch 77/200\n",
      "121/121 [==============================] - 0s 811us/step - loss: 95139712889.7049 - val_loss: 84997062656.0000\n",
      "Epoch 78/200\n",
      "121/121 [==============================] - 0s 832us/step - loss: 104649995045.7705 - val_loss: 84261789696.0000\n",
      "Epoch 79/200\n",
      "121/121 [==============================] - 0s 818us/step - loss: 101430624524.5902 - val_loss: 83538853888.0000\n",
      "Epoch 80/200\n",
      "121/121 [==============================] - 0s 820us/step - loss: 92735929360.7869 - val_loss: 82793529344.0000\n",
      "Epoch 81/200\n",
      "121/121 [==============================] - 0s 847us/step - loss: 99296695883.5410 - val_loss: 82055258112.0000\n",
      "Epoch 82/200\n",
      "121/121 [==============================] - 0s 939us/step - loss: 96777466527.4754 - val_loss: 81358323712.0000\n",
      "Epoch 83/200\n",
      "121/121 [==============================] - 0s 914us/step - loss: 90897485421.1148 - val_loss: 80578846720.0000\n",
      "Epoch 84/200\n",
      "121/121 [==============================] - 0s 878us/step - loss: 84872070093.6393 - val_loss: 79822110720.0000\n",
      "Epoch 85/200\n",
      "121/121 [==============================] - 0s 1ms/step - loss: 91019134069.5082 - val_loss: 79029067776.0000\n",
      "Epoch 86/200\n",
      "121/121 [==============================] - 0s 862us/step - loss: 91556192726.0328 - val_loss: 78275076096.0000\n",
      "Epoch 87/200\n",
      "121/121 [==============================] - 0s 904us/step - loss: 83549796486.2951 - val_loss: 77498892288.0000\n",
      "Epoch 88/200\n",
      "121/121 [==============================] - 0s 977us/step - loss: 86299225574.8197 - val_loss: 76733145088.0000\n",
      "Epoch 89/200\n",
      "121/121 [==============================] - 0s 884us/step - loss: 92812278263.6066 - val_loss: 76001820672.0000\n",
      "Epoch 90/200\n",
      "121/121 [==============================] - 0s 922us/step - loss: 84358138762.4918 - val_loss: 75258699776.0000\n",
      "Epoch 91/200\n",
      "121/121 [==============================] - 0s 987us/step - loss: 87557472994.6230 - val_loss: 74556932096.0000\n",
      "Epoch 92/200\n",
      "121/121 [==============================] - 0s 956us/step - loss: 81659680297.9672 - val_loss: 73849282560.0000\n",
      "Epoch 93/200\n",
      "121/121 [==============================] - 0s 1ms/step - loss: 91312008813.1148 - val_loss: 73168584704.0000\n",
      "Epoch 94/200\n",
      "121/121 [==============================] - 0s 1ms/step - loss: 83566093362.3607 - val_loss: 72444796928.0000\n",
      "Epoch 95/200\n",
      "121/121 [==============================] - 0s 927us/step - loss: 91024510505.9672 - val_loss: 71768186880.0000\n",
      "Epoch 96/200\n",
      "121/121 [==============================] - 0s 1ms/step - loss: 84025693603.6721 - val_loss: 71087783936.0000\n",
      "Epoch 97/200\n",
      "121/121 [==============================] - 0s 1ms/step - loss: 84460580259.6721 - val_loss: 70396010496.0000\n",
      "Epoch 98/200\n",
      "121/121 [==============================] - 0s 943us/step - loss: 85030869495.6066 - val_loss: 69721915392.0000\n",
      "Epoch 99/200\n",
      "121/121 [==============================] - 0s 872us/step - loss: 82294704967.3443 - val_loss: 69071183872.0000\n",
      "Epoch 100/200\n",
      "121/121 [==============================] - 0s 825us/step - loss: 81547625992.3934 - val_loss: 68399460352.0000\n",
      "Epoch 101/200\n",
      "121/121 [==============================] - 0s 824us/step - loss: 75227107176.9180 - val_loss: 67743563776.0000\n",
      "Epoch 102/200\n",
      "121/121 [==============================] - 0s 846us/step - loss: 75952832008.3934 - val_loss: 67107315712.0000\n",
      "Epoch 103/200\n",
      "121/121 [==============================] - 0s 857us/step - loss: 79222010124.5902 - val_loss: 66422448128.0000\n",
      "Epoch 104/200\n",
      "121/121 [==============================] - 0s 1ms/step - loss: 79711221323.5410 - val_loss: 65767301120.0000\n",
      "Epoch 105/200\n",
      "121/121 [==============================] - 0s 889us/step - loss: 76733572750.6885 - val_loss: 65121341440.0000\n",
      "Epoch 106/200\n",
      "121/121 [==============================] - 0s 915us/step - loss: 73360658062.6885 - val_loss: 64481468416.0000\n",
      "Epoch 107/200\n",
      "121/121 [==============================] - 0s 905us/step - loss: 75749819576.6557 - val_loss: 63892152320.0000\n",
      "Epoch 108/200\n",
      "121/121 [==============================] - 0s 850us/step - loss: 79382611732.9836 - val_loss: 63283646464.0000\n",
      "Epoch 109/200\n",
      "121/121 [==============================] - 0s 1ms/step - loss: 71436269601.5738 - val_loss: 62603952128.0000\n",
      "Epoch 110/200\n",
      "121/121 [==============================] - 0s 836us/step - loss: 76424970374.2951 - val_loss: 62000918528.0000\n",
      "Epoch 111/200\n",
      "121/121 [==============================] - 0s 805us/step - loss: 69576345197.1148 - val_loss: 61377572864.0000\n",
      "Epoch 112/200\n",
      "121/121 [==============================] - 0s 795us/step - loss: 70648719393.5738 - val_loss: 60774621184.0000\n",
      "Epoch 113/200\n",
      "121/121 [==============================] - 0s 918us/step - loss: 69522495890.8852 - val_loss: 60164595712.0000\n",
      "Epoch 114/200\n",
      "121/121 [==============================] - 0s 899us/step - loss: 66819748276.4590 - val_loss: 59563614208.0000\n",
      "Epoch 115/200\n",
      "121/121 [==============================] - 0s 956us/step - loss: 68502788062.4262 - val_loss: 58971475968.0000\n",
      "Epoch 116/200\n",
      "121/121 [==============================] - 0s 922us/step - loss: 68566617608.3934 - val_loss: 58377728000.0000\n",
      "Epoch 117/200\n",
      "121/121 [==============================] - 0s 1ms/step - loss: 70505957140.9836 - val_loss: 57786052608.0000\n",
      "Epoch 118/200\n",
      "121/121 [==============================] - 0s 811us/step - loss: 63670299396.1967 - val_loss: 57206243328.0000\n",
      "Epoch 119/200\n",
      "121/121 [==============================] - 0s 828us/step - loss: 65323938899.9344 - val_loss: 56626421760.0000\n",
      "Epoch 120/200\n",
      "121/121 [==============================] - 0s 823us/step - loss: 64739355664.7869 - val_loss: 56053317632.0000\n",
      "Epoch 121/200\n",
      "121/121 [==============================] - 0s 850us/step - loss: 66906230112.5246 - val_loss: 55483592704.0000\n",
      "Epoch 122/200\n",
      "121/121 [==============================] - 0s 783us/step - loss: 66035176498.3607 - val_loss: 54918696960.0000\n",
      "Epoch 123/200\n",
      "121/121 [==============================] - 0s 799us/step - loss: 63592400190.9508 - val_loss: 54392008704.0000\n",
      "Epoch 124/200\n",
      "121/121 [==============================] - 0s 1ms/step - loss: 65578175471.2131 - val_loss: 53829476352.0000\n",
      "Epoch 125/200\n",
      "121/121 [==============================] - 0s 1ms/step - loss: 64088485149.3771 - val_loss: 53289320448.0000\n",
      "Epoch 126/200\n",
      "121/121 [==============================] - 0s 789us/step - loss: 61032492585.9672 - val_loss: 52741857280.0000\n",
      "Epoch 127/200\n",
      "121/121 [==============================] - 0s 1ms/step - loss: 60171864030.4262 - val_loss: 52243910656.0000\n",
      "Epoch 128/200\n",
      "121/121 [==============================] - 0s 1ms/step - loss: 65152177168.7869 - val_loss: 51776024576.0000\n",
      "Epoch 129/200\n",
      "121/121 [==============================] - 0s 1ms/step - loss: 59372574686.4262 - val_loss: 51292553216.0000\n",
      "Epoch 130/200\n",
      "121/121 [==============================] - 0s 1ms/step - loss: 61833667567.2131 - val_loss: 50812092416.0000\n",
      "Epoch 131/200\n",
      "121/121 [==============================] - 0s 868us/step - loss: 56555851608.1311 - val_loss: 50324017152.0000\n",
      "Epoch 132/200\n"
     ]
    },
    {
     "name": "stdout",
     "output_type": "stream",
     "text": [
      "121/121 [==============================] - 0s 865us/step - loss: 58684041216.0000 - val_loss: 49838776320.0000\n",
      "Epoch 133/200\n",
      "121/121 [==============================] - 0s 833us/step - loss: 56182387896.6557 - val_loss: 49376882688.0000\n",
      "Epoch 134/200\n",
      "121/121 [==============================] - 0s 863us/step - loss: 53605054598.2951 - val_loss: 48921366528.0000\n",
      "Epoch 135/200\n",
      "121/121 [==============================] - 0s 873us/step - loss: 55623524284.8525 - val_loss: 48484786176.0000\n",
      "Epoch 136/200\n",
      "121/121 [==============================] - 0s 800us/step - loss: 57320212211.4098 - val_loss: 48055939072.0000\n",
      "Epoch 137/200\n",
      "121/121 [==============================] - 0s 818us/step - loss: 55721872736.5246 - val_loss: 47668756480.0000\n",
      "Epoch 138/200\n",
      "121/121 [==============================] - 0s 836us/step - loss: 55876057558.0328 - val_loss: 47255683072.0000\n",
      "Epoch 139/200\n",
      "121/121 [==============================] - 0s 850us/step - loss: 56703960987.2787 - val_loss: 46863122432.0000\n",
      "Epoch 140/200\n",
      "121/121 [==============================] - 0s 931us/step - loss: 54607923737.1803 - val_loss: 46460006400.0000\n",
      "Epoch 141/200\n",
      "121/121 [==============================] - 0s 1ms/step - loss: 55093499366.8197 - val_loss: 46065688576.0000\n",
      "Epoch 142/200\n",
      "121/121 [==============================] - 0s 1ms/step - loss: 53201599538.3607 - val_loss: 45760696320.0000\n",
      "Epoch 143/200\n",
      "121/121 [==============================] - 0s 790us/step - loss: 53435799350.5574 - val_loss: 45341065216.0000\n",
      "Epoch 144/200\n",
      "121/121 [==============================] - 0s 778us/step - loss: 51257908408.6557 - val_loss: 45021315072.0000\n",
      "Epoch 145/200\n",
      "121/121 [==============================] - 0s 846us/step - loss: 50684369701.7705 - val_loss: 44712738816.0000\n",
      "Epoch 146/200\n",
      "121/121 [==============================] - 0s 837us/step - loss: 52586299794.8852 - val_loss: 44330868736.0000\n",
      "Epoch 147/200\n",
      "121/121 [==============================] - 0s 1ms/step - loss: 49759109422.1639 - val_loss: 44016041984.0000\n",
      "Epoch 148/200\n",
      "121/121 [==============================] - 0s 864us/step - loss: 49244173664.5246 - val_loss: 43705315328.0000\n",
      "Epoch 149/200\n",
      "121/121 [==============================] - 0s 802us/step - loss: 50004660794.7541 - val_loss: 43425087488.0000\n",
      "Epoch 150/200\n",
      "121/121 [==============================] - 0s 901us/step - loss: 47564615612.8525 - val_loss: 43132026880.0000\n",
      "Epoch 151/200\n",
      "121/121 [==============================] - 0s 1ms/step - loss: 49582669521.8361 - val_loss: 42821488640.0000\n",
      "Epoch 152/200\n",
      "121/121 [==============================] - 0s 963us/step - loss: 49155341328.7869 - val_loss: 42546630656.0000\n",
      "Epoch 153/200\n",
      "121/121 [==============================] - 0s 785us/step - loss: 51788937753.1803 - val_loss: 42323480576.0000\n",
      "Epoch 154/200\n",
      "121/121 [==============================] - 0s 848us/step - loss: 46966725581.6393 - val_loss: 42043940864.0000\n",
      "Epoch 155/200\n",
      "121/121 [==============================] - 0s 790us/step - loss: 49949157140.9836 - val_loss: 41792712704.0000\n",
      "Epoch 156/200\n",
      "121/121 [==============================] - 0s 1ms/step - loss: 49292456876.0656 - val_loss: 41557528576.0000\n",
      "Epoch 157/200\n",
      "121/121 [==============================] - 0s 775us/step - loss: 46319636077.1148 - val_loss: 41380954112.0000\n",
      "Epoch 158/200\n",
      "121/121 [==============================] - 0s 864us/step - loss: 46761064212.9836 - val_loss: 41129910272.0000\n",
      "Epoch 159/200\n",
      "121/121 [==============================] - 0s 855us/step - loss: 45874061454.6885 - val_loss: 40911577088.0000\n",
      "Epoch 160/200\n",
      "121/121 [==============================] - 0s 805us/step - loss: 48306654862.6885 - val_loss: 40702500864.0000\n",
      "Epoch 161/200\n",
      "121/121 [==============================] - 0s 785us/step - loss: 48823705230.6885 - val_loss: 40520900608.0000\n",
      "Epoch 162/200\n",
      "121/121 [==============================] - 0s 1ms/step - loss: 47879136809.9672 - val_loss: 40360222720.0000\n",
      "Epoch 163/200\n",
      "121/121 [==============================] - 0s 904us/step - loss: 45391339553.5738 - val_loss: 40264724480.0000\n",
      "Epoch 164/200\n",
      "121/121 [==============================] - 0s 789us/step - loss: 46935465883.2787 - val_loss: 40085848064.0000\n",
      "Epoch 165/200\n",
      "121/121 [==============================] - 0s 832us/step - loss: 46904368665.1803 - val_loss: 39932153856.0000\n",
      "Epoch 166/200\n",
      "121/121 [==============================] - 0s 942us/step - loss: 46432704881.3115 - val_loss: 39715262464.0000\n",
      "Epoch 167/200\n",
      "121/121 [==============================] - 0s 895us/step - loss: 45847667829.5082 - val_loss: 39585275904.0000\n",
      "Epoch 168/200\n",
      "121/121 [==============================] - 0s 866us/step - loss: 44020064457.4426 - val_loss: 39449821184.0000\n",
      "Epoch 169/200\n",
      "121/121 [==============================] - 0s 902us/step - loss: 44055992689.3115 - val_loss: 39287152640.0000\n",
      "Epoch 170/200\n",
      "121/121 [==============================] - 0s 872us/step - loss: 45887343028.4590 - val_loss: 39149256704.0000\n",
      "Epoch 171/200\n",
      "121/121 [==============================] - 0s 909us/step - loss: 45072257057.5738 - val_loss: 39015038976.0000\n",
      "Epoch 172/200\n",
      "121/121 [==============================] - 0s 895us/step - loss: 44759428314.2295 - val_loss: 38890168320.0000\n",
      "Epoch 173/200\n",
      "121/121 [==============================] - 0s 804us/step - loss: 44883540438.0328 - val_loss: 38790004736.0000\n",
      "Epoch 174/200\n",
      "121/121 [==============================] - 0s 779us/step - loss: 43705115060.4590 - val_loss: 38716284928.0000\n",
      "Epoch 175/200\n",
      "121/121 [==============================] - 0s 802us/step - loss: 46480111918.1639 - val_loss: 38555123712.0000\n",
      "Epoch 176/200\n",
      "121/121 [==============================] - 0s 787us/step - loss: 45667748108.5902 - val_loss: 38470578176.0000\n",
      "Epoch 177/200\n",
      "121/121 [==============================] - 0s 800us/step - loss: 44002886739.9344 - val_loss: 38464184320.0000\n",
      "Epoch 178/200\n",
      "121/121 [==============================] - 0s 807us/step - loss: 46158957081.1803 - val_loss: 38302797824.0000\n",
      "Epoch 179/200\n",
      "121/121 [==============================] - 0s 847us/step - loss: 43493290454.0328 - val_loss: 38201085952.0000\n",
      "Epoch 180/200\n",
      "121/121 [==============================] - 0s 793us/step - loss: 45562100752.7869 - val_loss: 38117482496.0000\n",
      "Epoch 181/200\n",
      "121/121 [==============================] - 0s 770us/step - loss: 44715404103.3443 - val_loss: 38005547008.0000\n",
      "Epoch 182/200\n",
      "121/121 [==============================] - 0s 1ms/step - loss: 44453396983.6066 - val_loss: 38040719360.0000\n",
      "Epoch 183/200\n",
      "121/121 [==============================] - 0s 990us/step - loss: 43790939824.2623 - val_loss: 37846818816.0000\n",
      "Epoch 184/200\n",
      "121/121 [==============================] - 0s 900us/step - loss: 43857853893.2459 - val_loss: 37830778880.0000\n",
      "Epoch 185/200\n",
      "121/121 [==============================] - 0s 895us/step - loss: 44664027438.1639 - val_loss: 37740122112.0000\n",
      "Epoch 186/200\n",
      "121/121 [==============================] - 0s 947us/step - loss: 41788002304.0000 - val_loss: 37614100480.0000\n",
      "Epoch 187/200\n",
      "121/121 [==============================] - 0s 1ms/step - loss: 43107297380.7213 - val_loss: 37558476800.0000\n",
      "Epoch 188/200\n",
      "121/121 [==============================] - 0s 929us/step - loss: 43534640279.0820 - val_loss: 37538189312.0000\n",
      "Epoch 189/200\n",
      "121/121 [==============================] - 0s 900us/step - loss: 42350554095.2131 - val_loss: 37380427776.0000\n",
      "Epoch 190/200\n",
      "121/121 [==============================] - 0s 985us/step - loss: 42707383766.0328 - val_loss: 37397827584.0000\n",
      "Epoch 191/200\n",
      "121/121 [==============================] - 0s 933us/step - loss: 42145604221.9016 - val_loss: 37247307776.0000\n",
      "Epoch 192/200\n",
      "121/121 [==============================] - 0s 894us/step - loss: 42336394156.0656 - val_loss: 37218328576.0000\n",
      "Epoch 193/200\n",
      "121/121 [==============================] - 0s 911us/step - loss: 40432282288.2623 - val_loss: 37164797952.0000\n",
      "Epoch 194/200\n",
      "121/121 [==============================] - 0s 1ms/step - loss: 42879552025.1803 - val_loss: 37086814208.0000\n",
      "Epoch 195/200\n",
      "121/121 [==============================] - 0s 1ms/step - loss: 43070659265.0492 - val_loss: 37001543680.0000\n",
      "Epoch 196/200\n",
      "121/121 [==============================] - 0s 908us/step - loss: 41287771622.8197 - val_loss: 36948860928.0000\n",
      "Epoch 197/200\n",
      "121/121 [==============================] - 0s 898us/step - loss: 42002638277.2459 - val_loss: 36872826880.0000\n"
     ]
    },
    {
     "name": "stdout",
     "output_type": "stream",
     "text": [
      "Epoch 198/200\n",
      "121/121 [==============================] - 0s 875us/step - loss: 42737185708.0656 - val_loss: 36830838784.0000\n",
      "Epoch 199/200\n",
      "121/121 [==============================] - 0s 894us/step - loss: 41876250926.1639 - val_loss: 36763324416.0000\n",
      "Epoch 200/200\n",
      "121/121 [==============================] - 0s 858us/step - loss: 40782886307.6721 - val_loss: 36751556608.0000\n"
     ]
    },
    {
     "data": {
      "text/plain": [
       "<tensorflow.python.keras.callbacks.History at 0x27db1b65130>"
      ]
     },
     "execution_count": 59,
     "metadata": {},
     "output_type": "execute_result"
    }
   ],
   "source": [
    "model.fit(x=X_train,y=y_train.values,\n",
    "          validation_data=(X_test,y_test.values), #si indicamos validation_data en cada epoch calcula sobre el conjunto de test el resultado de pérdidas\n",
    "          batch_size=128,epochs=200) #batch_size es el tamaño de datos que toma en cada cálculo (indicar potencia de 2) / epochs es el número de iteraciones sobre la red neuronal para ajustar los pesos (w) y bias (b)"
   ]
  },
  {
   "cell_type": "code",
   "execution_count": 159,
   "metadata": {},
   "outputs": [],
   "source": [
    "losses = pd.DataFrame(model.history.history)"
   ]
  },
  {
   "cell_type": "code",
   "execution_count": 160,
   "metadata": {},
   "outputs": [
    {
     "data": {
      "text/html": [
       "<div>\n",
       "<style scoped>\n",
       "    .dataframe tbody tr th:only-of-type {\n",
       "        vertical-align: middle;\n",
       "    }\n",
       "\n",
       "    .dataframe tbody tr th {\n",
       "        vertical-align: top;\n",
       "    }\n",
       "\n",
       "    .dataframe thead th {\n",
       "        text-align: right;\n",
       "    }\n",
       "</style>\n",
       "<table border=\"1\" class=\"dataframe\">\n",
       "  <thead>\n",
       "    <tr style=\"text-align: right;\">\n",
       "      <th></th>\n",
       "      <th>loss</th>\n",
       "      <th>val_loss</th>\n",
       "    </tr>\n",
       "  </thead>\n",
       "  <tbody>\n",
       "    <tr>\n",
       "      <th>0</th>\n",
       "      <td>9.358475e+11</td>\n",
       "      <td>8.507477e+11</td>\n",
       "    </tr>\n",
       "    <tr>\n",
       "      <th>1</th>\n",
       "      <td>9.358213e+11</td>\n",
       "      <td>8.506762e+11</td>\n",
       "    </tr>\n",
       "    <tr>\n",
       "      <th>2</th>\n",
       "      <td>9.355596e+11</td>\n",
       "      <td>8.501106e+11</td>\n",
       "    </tr>\n",
       "    <tr>\n",
       "      <th>3</th>\n",
       "      <td>9.341998e+11</td>\n",
       "      <td>8.477319e+11</td>\n",
       "    </tr>\n",
       "    <tr>\n",
       "      <th>4</th>\n",
       "      <td>9.296994e+11</td>\n",
       "      <td>8.409457e+11</td>\n",
       "    </tr>\n",
       "    <tr>\n",
       "      <th>...</th>\n",
       "      <td>...</td>\n",
       "      <td>...</td>\n",
       "    </tr>\n",
       "    <tr>\n",
       "      <th>195</th>\n",
       "      <td>4.134947e+10</td>\n",
       "      <td>3.632653e+10</td>\n",
       "    </tr>\n",
       "    <tr>\n",
       "      <th>196</th>\n",
       "      <td>4.126156e+10</td>\n",
       "      <td>3.638658e+10</td>\n",
       "    </tr>\n",
       "    <tr>\n",
       "      <th>197</th>\n",
       "      <td>4.117199e+10</td>\n",
       "      <td>3.621144e+10</td>\n",
       "    </tr>\n",
       "    <tr>\n",
       "      <th>198</th>\n",
       "      <td>4.109978e+10</td>\n",
       "      <td>3.627703e+10</td>\n",
       "    </tr>\n",
       "    <tr>\n",
       "      <th>199</th>\n",
       "      <td>4.103276e+10</td>\n",
       "      <td>3.615137e+10</td>\n",
       "    </tr>\n",
       "  </tbody>\n",
       "</table>\n",
       "<p>200 rows × 2 columns</p>\n",
       "</div>"
      ],
      "text/plain": [
       "             loss      val_loss\n",
       "0    9.358475e+11  8.507477e+11\n",
       "1    9.358213e+11  8.506762e+11\n",
       "2    9.355596e+11  8.501106e+11\n",
       "3    9.341998e+11  8.477319e+11\n",
       "4    9.296994e+11  8.409457e+11\n",
       "..            ...           ...\n",
       "195  4.134947e+10  3.632653e+10\n",
       "196  4.126156e+10  3.638658e+10\n",
       "197  4.117199e+10  3.621144e+10\n",
       "198  4.109978e+10  3.627703e+10\n",
       "199  4.103276e+10  3.615137e+10\n",
       "\n",
       "[200 rows x 2 columns]"
      ]
     },
     "execution_count": 160,
     "metadata": {},
     "output_type": "execute_result"
    }
   ],
   "source": [
    "losses"
   ]
  },
  {
   "cell_type": "code",
   "execution_count": 161,
   "metadata": {
    "scrolled": true
   },
   "outputs": [
    {
     "data": {
      "text/plain": [
       "<matplotlib.axes._subplots.AxesSubplot at 0x14797783250>"
      ]
     },
     "execution_count": 161,
     "metadata": {},
     "output_type": "execute_result"
    },
    {
     "data": {
      "image/png": "[encoded data removed]",
      "text/plain": [
       "<Figure size 432x288 with 1 Axes>"
      ]
     },
     "metadata": {
      "needs_background": "light"
     },
     "output_type": "display_data"
    }
   ],
   "source": [
    "losses.plot()"
   ]
  },
  {
   "cell_type": "markdown",
   "metadata": {},
   "source": [
    "# 8. Evaluación del modelo\n",
    "\n",
    "https://scikit-learn.org/stable/modules/model_evaluation.html#regression-metrics"
   ]
  },
  {
   "cell_type": "code",
   "execution_count": 162,
   "metadata": {},
   "outputs": [],
   "source": [
    "from sklearn.metrics import mean_squared_error,mean_absolute_error,explained_variance_score"
   ]
  },
  {
   "cell_type": "markdown",
   "metadata": {},
   "source": [
    "## 8.1 Predicción sobre el conjunto de Test"
   ]
  },
  {
   "cell_type": "code",
   "execution_count": 163,
   "metadata": {},
   "outputs": [
    {
     "data": {
      "text/plain": [
       "array([[0.06313646, 0.125     , 0.        , ..., 0.05618335, 0.        ,\n",
       "        0.        ],\n",
       "       [0.13543788, 0.16666667, 0.07692308, ..., 0.15502149, 0.        ,\n",
       "        1.        ],\n",
       "       [0.04480652, 0.08333333, 0.        , ..., 0.04830495, 0.        ,\n",
       "        0.        ],\n",
       "       ...,\n",
       "       [0.04480652, 0.04166667, 0.        , ..., 0.09605284, 0.        ,\n",
       "        0.        ],\n",
       "       [0.11608961, 0.16666667, 0.07692308, ..., 0.11037721, 0.        ,\n",
       "        0.        ],\n",
       "       [0.03665988, 0.04166667, 0.        , ..., 0.08141015, 1.        ,\n",
       "        0.        ]])"
      ]
     },
     "execution_count": 163,
     "metadata": {},
     "output_type": "execute_result"
    }
   ],
   "source": [
    "X_test"
   ]
  },
  {
   "cell_type": "code",
   "execution_count": 164,
   "metadata": {},
   "outputs": [],
   "source": [
    "predictions = model.predict(X_test)"
   ]
  },
  {
   "cell_type": "code",
   "execution_count": 165,
   "metadata": {},
   "outputs": [
    {
     "data": {
      "text/plain": [
       "109859.41100739174"
      ]
     },
     "execution_count": 165,
     "metadata": {},
     "output_type": "execute_result"
    }
   ],
   "source": [
    "mean_absolute_error(y_test,predictions)"
   ]
  },
  {
   "cell_type": "code",
   "execution_count": 166,
   "metadata": {},
   "outputs": [
    {
     "data": {
      "text/plain": [
       "190135.14315679783"
      ]
     },
     "execution_count": 166,
     "metadata": {},
     "output_type": "execute_result"
    }
   ],
   "source": [
    "np.sqrt(mean_squared_error(y_test,predictions))"
   ]
  },
  {
   "cell_type": "code",
   "execution_count": 167,
   "metadata": {},
   "outputs": [
    {
     "data": {
      "text/plain": [
       "0.9225611161684079"
      ]
     },
     "execution_count": 167,
     "metadata": {},
     "output_type": "execute_result"
    }
   ],
   "source": [
    "explained_variance_score(y_test,predictions) #Calcula la covarianza en y_test (real) y la predicción, cuanto más cercano a 1 mejor (significa que conforme más aumenta o disminuye el valor real, más aumenta o disminuye el valor predecido)"
   ]
  },
  {
   "cell_type": "code",
   "execution_count": 168,
   "metadata": {},
   "outputs": [
    {
     "data": {
      "text/plain": [
       "0.17366541321165524"
      ]
     },
     "execution_count": 168,
     "metadata": {},
     "output_type": "execute_result"
    }
   ],
   "source": [
    "mean_absolute_error(y_test,predictions)/df['buy_price'].mean() #¿En qué porcentaje nos estamos equivaocando respecto al valor medio?"
   ]
  },
  {
   "cell_type": "code",
   "execution_count": 169,
   "metadata": {},
   "outputs": [
    {
     "data": {
      "text/plain": [
       "0.2891037131773467"
      ]
     },
     "execution_count": 169,
     "metadata": {},
     "output_type": "execute_result"
    }
   ],
   "source": [
    "mean_absolute_error(y_test,predictions)/df['buy_price'].median() #¿En qué porcentaje nos estamos equivaocando respecto al valor mediana?"
   ]
  },
  {
   "cell_type": "code",
   "execution_count": 170,
   "metadata": {},
   "outputs": [
    {
     "data": {
      "text/plain": [
       "[<matplotlib.lines.Line2D at 0x14797565a60>]"
      ]
     },
     "execution_count": 170,
     "metadata": {},
     "output_type": "execute_result"
    },
    {
     "data": {
      "image/png": "[encoded data removed]",
      "text/plain": [
       "<Figure size 432x288 with 1 Axes>"
      ]
     },
     "metadata": {
      "needs_background": "light"
     },
     "output_type": "display_data"
    }
   ],
   "source": [
    "# Visualizar nuestra predicción\n",
    "plt.scatter(y_test,predictions)\n",
    "plt.xlabel(\"Valor Real\")\n",
    "plt.ylabel(\"Predicción\")\n",
    "\n",
    "# Predicción perfecta\n",
    "plt.plot(y_test,y_test,'r')"
   ]
  },
  {
   "cell_type": "code",
   "execution_count": 171,
   "metadata": {},
   "outputs": [],
   "source": [
    "errors = y_test.values.reshape(y_test.shape[0], 1) - predictions #rotar y_test para poder comparar con predictions"
   ]
  },
  {
   "cell_type": "code",
   "execution_count": 172,
   "metadata": {},
   "outputs": [
    {
     "data": {
      "text/plain": [
       "<matplotlib.axes._subplots.AxesSubplot at 0x147974c7c40>"
      ]
     },
     "execution_count": 172,
     "metadata": {},
     "output_type": "execute_result"
    },
    {
     "data": {
      "image/png": "[encoded data removed]",
      "text/plain": [
       "<Figure size 432x288 with 1 Axes>"
      ]
     },
     "metadata": {
      "needs_background": "light"
     },
     "output_type": "display_data"
    }
   ],
   "source": [
    "sns.distplot(errors) #Idealmente debe estar concentrado el error en 0"
   ]
  },
  {
   "cell_type": "markdown",
   "metadata": {},
   "source": [
    "## 8.2 Predicción sobre nuevos datos"
   ]
  },
  {
   "cell_type": "code",
   "execution_count": 191,
   "metadata": {},
   "outputs": [],
   "source": [
    "#Lectura datos a predecir\n",
    "df_pred = pd.read_excel('./viviendas_Madrid.xlsx',sheet_name='Datos_Predecir')"
   ]
  },
  {
   "cell_type": "code",
   "execution_count": 192,
   "metadata": {},
   "outputs": [
    {
     "data": {
      "text/html": [
       "<div>\n",
       "<style scoped>\n",
       "    .dataframe tbody tr th:only-of-type {\n",
       "        vertical-align: middle;\n",
       "    }\n",
       "\n",
       "    .dataframe tbody tr th {\n",
       "        vertical-align: top;\n",
       "    }\n",
       "\n",
       "    .dataframe thead th {\n",
       "        text-align: right;\n",
       "    }\n",
       "</style>\n",
       "<table border=\"1\" class=\"dataframe\">\n",
       "  <thead>\n",
       "    <tr style=\"text-align: right;\">\n",
       "      <th></th>\n",
       "      <th>sq_mt_built</th>\n",
       "      <th>n_rooms</th>\n",
       "      <th>n_bathrooms</th>\n",
       "      <th>is_floor_under</th>\n",
       "      <th>rent_price</th>\n",
       "      <th>buy_price</th>\n",
       "      <th>is_new_development</th>\n",
       "      <th>has_parking</th>\n",
       "    </tr>\n",
       "  </thead>\n",
       "  <tbody>\n",
       "    <tr>\n",
       "      <th>0</th>\n",
       "      <td>65</td>\n",
       "      <td>2</td>\n",
       "      <td>1.0</td>\n",
       "      <td>False</td>\n",
       "      <td>420</td>\n",
       "      <td>NaN</td>\n",
       "      <td>False</td>\n",
       "      <td>False</td>\n",
       "    </tr>\n",
       "    <tr>\n",
       "      <th>1</th>\n",
       "      <td>72</td>\n",
       "      <td>3</td>\n",
       "      <td>1.0</td>\n",
       "      <td>False</td>\n",
       "      <td>650</td>\n",
       "      <td>NaN</td>\n",
       "      <td>False</td>\n",
       "      <td>False</td>\n",
       "    </tr>\n",
       "    <tr>\n",
       "      <th>2</th>\n",
       "      <td>97</td>\n",
       "      <td>2</td>\n",
       "      <td>2.0</td>\n",
       "      <td>False</td>\n",
       "      <td>730</td>\n",
       "      <td>NaN</td>\n",
       "      <td>False</td>\n",
       "      <td>False</td>\n",
       "    </tr>\n",
       "    <tr>\n",
       "      <th>3</th>\n",
       "      <td>63</td>\n",
       "      <td>2</td>\n",
       "      <td>1.0</td>\n",
       "      <td>True</td>\n",
       "      <td>590</td>\n",
       "      <td>NaN</td>\n",
       "      <td>False</td>\n",
       "      <td>False</td>\n",
       "    </tr>\n",
       "    <tr>\n",
       "      <th>4</th>\n",
       "      <td>107</td>\n",
       "      <td>2</td>\n",
       "      <td>2.0</td>\n",
       "      <td>False</td>\n",
       "      <td>1000</td>\n",
       "      <td>NaN</td>\n",
       "      <td>False</td>\n",
       "      <td>True</td>\n",
       "    </tr>\n",
       "    <tr>\n",
       "      <th>5</th>\n",
       "      <td>125</td>\n",
       "      <td>4</td>\n",
       "      <td>2.0</td>\n",
       "      <td>False</td>\n",
       "      <td>890</td>\n",
       "      <td>NaN</td>\n",
       "      <td>False</td>\n",
       "      <td>True</td>\n",
       "    </tr>\n",
       "    <tr>\n",
       "      <th>6</th>\n",
       "      <td>130</td>\n",
       "      <td>5</td>\n",
       "      <td>2.0</td>\n",
       "      <td>False</td>\n",
       "      <td>885</td>\n",
       "      <td>NaN</td>\n",
       "      <td>False</td>\n",
       "      <td>True</td>\n",
       "    </tr>\n",
       "    <tr>\n",
       "      <th>7</th>\n",
       "      <td>135</td>\n",
       "      <td>3</td>\n",
       "      <td>2.0</td>\n",
       "      <td>False</td>\n",
       "      <td>912</td>\n",
       "      <td>NaN</td>\n",
       "      <td>False</td>\n",
       "      <td>False</td>\n",
       "    </tr>\n",
       "    <tr>\n",
       "      <th>8</th>\n",
       "      <td>76</td>\n",
       "      <td>3</td>\n",
       "      <td>2.0</td>\n",
       "      <td>False</td>\n",
       "      <td>970</td>\n",
       "      <td>NaN</td>\n",
       "      <td>False</td>\n",
       "      <td>True</td>\n",
       "    </tr>\n",
       "    <tr>\n",
       "      <th>9</th>\n",
       "      <td>87</td>\n",
       "      <td>2</td>\n",
       "      <td>1.0</td>\n",
       "      <td>False</td>\n",
       "      <td>701</td>\n",
       "      <td>NaN</td>\n",
       "      <td>False</td>\n",
       "      <td>False</td>\n",
       "    </tr>\n",
       "  </tbody>\n",
       "</table>\n",
       "</div>"
      ],
      "text/plain": [
       "   sq_mt_built  n_rooms  n_bathrooms  is_floor_under  rent_price  buy_price  \\\n",
       "0           65        2          1.0           False         420        NaN   \n",
       "1           72        3          1.0           False         650        NaN   \n",
       "2           97        2          2.0           False         730        NaN   \n",
       "3           63        2          1.0            True         590        NaN   \n",
       "4          107        2          2.0           False        1000        NaN   \n",
       "5          125        4          2.0           False         890        NaN   \n",
       "6          130        5          2.0           False         885        NaN   \n",
       "7          135        3          2.0           False         912        NaN   \n",
       "8           76        3          2.0           False         970        NaN   \n",
       "9           87        2          1.0           False         701        NaN   \n",
       "\n",
       "   is_new_development  has_parking  \n",
       "0               False        False  \n",
       "1               False        False  \n",
       "2               False        False  \n",
       "3               False        False  \n",
       "4               False         True  \n",
       "5               False         True  \n",
       "6               False         True  \n",
       "7               False        False  \n",
       "8               False         True  \n",
       "9               False        False  "
      ]
     },
     "execution_count": 192,
     "metadata": {},
     "output_type": "execute_result"
    }
   ],
   "source": [
    "df_pred = df_pred[df.columns] #Filtramos el dataframe predicción para quedarnos con las mismas columnas de interés que el df histórico\n",
    "df_pred"
   ]
  },
  {
   "cell_type": "code",
   "execution_count": 193,
   "metadata": {},
   "outputs": [
    {
     "data": {
      "text/html": [
       "<div>\n",
       "<style scoped>\n",
       "    .dataframe tbody tr th:only-of-type {\n",
       "        vertical-align: middle;\n",
       "    }\n",
       "\n",
       "    .dataframe tbody tr th {\n",
       "        vertical-align: top;\n",
       "    }\n",
       "\n",
       "    .dataframe thead th {\n",
       "        text-align: right;\n",
       "    }\n",
       "</style>\n",
       "<table border=\"1\" class=\"dataframe\">\n",
       "  <thead>\n",
       "    <tr style=\"text-align: right;\">\n",
       "      <th></th>\n",
       "      <th>sq_mt_built</th>\n",
       "      <th>n_rooms</th>\n",
       "      <th>n_bathrooms</th>\n",
       "      <th>is_floor_under</th>\n",
       "      <th>rent_price</th>\n",
       "      <th>is_new_development</th>\n",
       "      <th>has_parking</th>\n",
       "    </tr>\n",
       "  </thead>\n",
       "  <tbody>\n",
       "    <tr>\n",
       "      <th>0</th>\n",
       "      <td>65</td>\n",
       "      <td>2</td>\n",
       "      <td>1.0</td>\n",
       "      <td>False</td>\n",
       "      <td>420</td>\n",
       "      <td>False</td>\n",
       "      <td>False</td>\n",
       "    </tr>\n",
       "    <tr>\n",
       "      <th>1</th>\n",
       "      <td>72</td>\n",
       "      <td>3</td>\n",
       "      <td>1.0</td>\n",
       "      <td>False</td>\n",
       "      <td>650</td>\n",
       "      <td>False</td>\n",
       "      <td>False</td>\n",
       "    </tr>\n",
       "    <tr>\n",
       "      <th>2</th>\n",
       "      <td>97</td>\n",
       "      <td>2</td>\n",
       "      <td>2.0</td>\n",
       "      <td>False</td>\n",
       "      <td>730</td>\n",
       "      <td>False</td>\n",
       "      <td>False</td>\n",
       "    </tr>\n",
       "    <tr>\n",
       "      <th>3</th>\n",
       "      <td>63</td>\n",
       "      <td>2</td>\n",
       "      <td>1.0</td>\n",
       "      <td>True</td>\n",
       "      <td>590</td>\n",
       "      <td>False</td>\n",
       "      <td>False</td>\n",
       "    </tr>\n",
       "    <tr>\n",
       "      <th>4</th>\n",
       "      <td>107</td>\n",
       "      <td>2</td>\n",
       "      <td>2.0</td>\n",
       "      <td>False</td>\n",
       "      <td>1000</td>\n",
       "      <td>False</td>\n",
       "      <td>True</td>\n",
       "    </tr>\n",
       "    <tr>\n",
       "      <th>5</th>\n",
       "      <td>125</td>\n",
       "      <td>4</td>\n",
       "      <td>2.0</td>\n",
       "      <td>False</td>\n",
       "      <td>890</td>\n",
       "      <td>False</td>\n",
       "      <td>True</td>\n",
       "    </tr>\n",
       "    <tr>\n",
       "      <th>6</th>\n",
       "      <td>130</td>\n",
       "      <td>5</td>\n",
       "      <td>2.0</td>\n",
       "      <td>False</td>\n",
       "      <td>885</td>\n",
       "      <td>False</td>\n",
       "      <td>True</td>\n",
       "    </tr>\n",
       "    <tr>\n",
       "      <th>7</th>\n",
       "      <td>135</td>\n",
       "      <td>3</td>\n",
       "      <td>2.0</td>\n",
       "      <td>False</td>\n",
       "      <td>912</td>\n",
       "      <td>False</td>\n",
       "      <td>False</td>\n",
       "    </tr>\n",
       "    <tr>\n",
       "      <th>8</th>\n",
       "      <td>76</td>\n",
       "      <td>3</td>\n",
       "      <td>2.0</td>\n",
       "      <td>False</td>\n",
       "      <td>970</td>\n",
       "      <td>False</td>\n",
       "      <td>True</td>\n",
       "    </tr>\n",
       "    <tr>\n",
       "      <th>9</th>\n",
       "      <td>87</td>\n",
       "      <td>2</td>\n",
       "      <td>1.0</td>\n",
       "      <td>False</td>\n",
       "      <td>701</td>\n",
       "      <td>False</td>\n",
       "      <td>False</td>\n",
       "    </tr>\n",
       "  </tbody>\n",
       "</table>\n",
       "</div>"
      ],
      "text/plain": [
       "   sq_mt_built  n_rooms  n_bathrooms  is_floor_under  rent_price  \\\n",
       "0           65        2          1.0           False         420   \n",
       "1           72        3          1.0           False         650   \n",
       "2           97        2          2.0           False         730   \n",
       "3           63        2          1.0            True         590   \n",
       "4          107        2          2.0           False        1000   \n",
       "5          125        4          2.0           False         890   \n",
       "6          130        5          2.0           False         885   \n",
       "7          135        3          2.0           False         912   \n",
       "8           76        3          2.0           False         970   \n",
       "9           87        2          1.0           False         701   \n",
       "\n",
       "   is_new_development  has_parking  \n",
       "0               False        False  \n",
       "1               False        False  \n",
       "2               False        False  \n",
       "3               False        False  \n",
       "4               False         True  \n",
       "5               False         True  \n",
       "6               False         True  \n",
       "7               False        False  \n",
       "8               False         True  \n",
       "9               False        False  "
      ]
     },
     "execution_count": 193,
     "metadata": {},
     "output_type": "execute_result"
    }
   ],
   "source": [
    "X_pred = df_pred.drop('buy_price',axis=1) #Eliminamos la columna objetivo (vacía) si la hubiera en nuestro df con los datos a predecir\n",
    "X_pred"
   ]
  },
  {
   "cell_type": "code",
   "execution_count": 194,
   "metadata": {},
   "outputs": [
    {
     "data": {
      "text/plain": [
       "array([[0.04989817, 0.08333333, 0.        , 0.        , 0.03199109,\n",
       "        0.        , 0.        ],\n",
       "       [0.05702648, 0.125     , 0.        , 0.        , 0.05029445,\n",
       "        0.        , 0.        ],\n",
       "       [0.08248473, 0.08333333, 0.07692308, 0.        , 0.05666083,\n",
       "        0.        , 0.        ],\n",
       "       [0.04786151, 0.08333333, 0.        , 1.        , 0.04551966,\n",
       "        0.        , 0.        ],\n",
       "       [0.09266802, 0.08333333, 0.07692308, 0.        , 0.07814738,\n",
       "        0.        , 1.        ],\n",
       "       [0.11099796, 0.16666667, 0.07692308, 0.        , 0.0693936 ,\n",
       "        0.        , 1.        ],\n",
       "       [0.11608961, 0.20833333, 0.07692308, 0.        , 0.0689957 ,\n",
       "        0.        , 1.        ],\n",
       "       [0.12118126, 0.125     , 0.07692308, 0.        , 0.07114436,\n",
       "        0.        , 0.        ],\n",
       "       [0.0610998 , 0.125     , 0.07692308, 0.        , 0.07575999,\n",
       "        0.        , 1.        ],\n",
       "       [0.07230143, 0.08333333, 0.        , 0.        , 0.05435302,\n",
       "        0.        , 0.        ]])"
      ]
     },
     "execution_count": 194,
     "metadata": {},
     "output_type": "execute_result"
    }
   ],
   "source": [
    "X_pred = scaler.transform(X_pred)\n",
    "X_pred"
   ]
  },
  {
   "cell_type": "code",
   "execution_count": 195,
   "metadata": {},
   "outputs": [
    {
     "data": {
      "text/plain": [
       "array([[ 31713.75],\n",
       "       [102454.17],\n",
       "       [223453.39],\n",
       "       [115247.46],\n",
       "       [327030.9 ],\n",
       "       [278722.7 ],\n",
       "       [267162.56],\n",
       "       [312277.56],\n",
       "       [266956.78],\n",
       "       [151908.66]], dtype=float32)"
      ]
     },
     "execution_count": 195,
     "metadata": {},
     "output_type": "execute_result"
    }
   ],
   "source": [
    "#Realizamos predicción\n",
    "resultado = model.predict(X_pred)\n",
    "resultado"
   ]
  },
  {
   "cell_type": "code",
   "execution_count": 196,
   "metadata": {
    "scrolled": true
   },
   "outputs": [
    {
     "data": {
      "text/html": [
       "<div>\n",
       "<style scoped>\n",
       "    .dataframe tbody tr th:only-of-type {\n",
       "        vertical-align: middle;\n",
       "    }\n",
       "\n",
       "    .dataframe tbody tr th {\n",
       "        vertical-align: top;\n",
       "    }\n",
       "\n",
       "    .dataframe thead th {\n",
       "        text-align: right;\n",
       "    }\n",
       "</style>\n",
       "<table border=\"1\" class=\"dataframe\">\n",
       "  <thead>\n",
       "    <tr style=\"text-align: right;\">\n",
       "      <th></th>\n",
       "      <th>sq_mt_built</th>\n",
       "      <th>n_rooms</th>\n",
       "      <th>n_bathrooms</th>\n",
       "      <th>is_floor_under</th>\n",
       "      <th>rent_price</th>\n",
       "      <th>buy_price</th>\n",
       "      <th>is_new_development</th>\n",
       "      <th>has_parking</th>\n",
       "      <th>PREDICCIÓN</th>\n",
       "    </tr>\n",
       "  </thead>\n",
       "  <tbody>\n",
       "    <tr>\n",
       "      <th>0</th>\n",
       "      <td>65</td>\n",
       "      <td>2</td>\n",
       "      <td>1.0</td>\n",
       "      <td>False</td>\n",
       "      <td>420</td>\n",
       "      <td>NaN</td>\n",
       "      <td>False</td>\n",
       "      <td>False</td>\n",
       "      <td>31713.750000</td>\n",
       "    </tr>\n",
       "    <tr>\n",
       "      <th>1</th>\n",
       "      <td>72</td>\n",
       "      <td>3</td>\n",
       "      <td>1.0</td>\n",
       "      <td>False</td>\n",
       "      <td>650</td>\n",
       "      <td>NaN</td>\n",
       "      <td>False</td>\n",
       "      <td>False</td>\n",
       "      <td>102454.171875</td>\n",
       "    </tr>\n",
       "    <tr>\n",
       "      <th>2</th>\n",
       "      <td>97</td>\n",
       "      <td>2</td>\n",
       "      <td>2.0</td>\n",
       "      <td>False</td>\n",
       "      <td>730</td>\n",
       "      <td>NaN</td>\n",
       "      <td>False</td>\n",
       "      <td>False</td>\n",
       "      <td>223453.390625</td>\n",
       "    </tr>\n",
       "    <tr>\n",
       "      <th>3</th>\n",
       "      <td>63</td>\n",
       "      <td>2</td>\n",
       "      <td>1.0</td>\n",
       "      <td>True</td>\n",
       "      <td>590</td>\n",
       "      <td>NaN</td>\n",
       "      <td>False</td>\n",
       "      <td>False</td>\n",
       "      <td>115247.460938</td>\n",
       "    </tr>\n",
       "    <tr>\n",
       "      <th>4</th>\n",
       "      <td>107</td>\n",
       "      <td>2</td>\n",
       "      <td>2.0</td>\n",
       "      <td>False</td>\n",
       "      <td>1000</td>\n",
       "      <td>NaN</td>\n",
       "      <td>False</td>\n",
       "      <td>True</td>\n",
       "      <td>327030.906250</td>\n",
       "    </tr>\n",
       "    <tr>\n",
       "      <th>5</th>\n",
       "      <td>125</td>\n",
       "      <td>4</td>\n",
       "      <td>2.0</td>\n",
       "      <td>False</td>\n",
       "      <td>890</td>\n",
       "      <td>NaN</td>\n",
       "      <td>False</td>\n",
       "      <td>True</td>\n",
       "      <td>278722.687500</td>\n",
       "    </tr>\n",
       "    <tr>\n",
       "      <th>6</th>\n",
       "      <td>130</td>\n",
       "      <td>5</td>\n",
       "      <td>2.0</td>\n",
       "      <td>False</td>\n",
       "      <td>885</td>\n",
       "      <td>NaN</td>\n",
       "      <td>False</td>\n",
       "      <td>True</td>\n",
       "      <td>267162.562500</td>\n",
       "    </tr>\n",
       "    <tr>\n",
       "      <th>7</th>\n",
       "      <td>135</td>\n",
       "      <td>3</td>\n",
       "      <td>2.0</td>\n",
       "      <td>False</td>\n",
       "      <td>912</td>\n",
       "      <td>NaN</td>\n",
       "      <td>False</td>\n",
       "      <td>False</td>\n",
       "      <td>312277.562500</td>\n",
       "    </tr>\n",
       "    <tr>\n",
       "      <th>8</th>\n",
       "      <td>76</td>\n",
       "      <td>3</td>\n",
       "      <td>2.0</td>\n",
       "      <td>False</td>\n",
       "      <td>970</td>\n",
       "      <td>NaN</td>\n",
       "      <td>False</td>\n",
       "      <td>True</td>\n",
       "      <td>266956.781250</td>\n",
       "    </tr>\n",
       "    <tr>\n",
       "      <th>9</th>\n",
       "      <td>87</td>\n",
       "      <td>2</td>\n",
       "      <td>1.0</td>\n",
       "      <td>False</td>\n",
       "      <td>701</td>\n",
       "      <td>NaN</td>\n",
       "      <td>False</td>\n",
       "      <td>False</td>\n",
       "      <td>151908.656250</td>\n",
       "    </tr>\n",
       "  </tbody>\n",
       "</table>\n",
       "</div>"
      ],
      "text/plain": [
       "   sq_mt_built  n_rooms  n_bathrooms  is_floor_under  rent_price  buy_price  \\\n",
       "0           65        2          1.0           False         420        NaN   \n",
       "1           72        3          1.0           False         650        NaN   \n",
       "2           97        2          2.0           False         730        NaN   \n",
       "3           63        2          1.0            True         590        NaN   \n",
       "4          107        2          2.0           False        1000        NaN   \n",
       "5          125        4          2.0           False         890        NaN   \n",
       "6          130        5          2.0           False         885        NaN   \n",
       "7          135        3          2.0           False         912        NaN   \n",
       "8           76        3          2.0           False         970        NaN   \n",
       "9           87        2          1.0           False         701        NaN   \n",
       "\n",
       "   is_new_development  has_parking     PREDICCIÓN  \n",
       "0               False        False   31713.750000  \n",
       "1               False        False  102454.171875  \n",
       "2               False        False  223453.390625  \n",
       "3               False        False  115247.460938  \n",
       "4               False         True  327030.906250  \n",
       "5               False         True  278722.687500  \n",
       "6               False         True  267162.562500  \n",
       "7               False        False  312277.562500  \n",
       "8               False         True  266956.781250  \n",
       "9               False        False  151908.656250  "
      ]
     },
     "execution_count": 196,
     "metadata": {},
     "output_type": "execute_result"
    }
   ],
   "source": [
    "#Unimos en un dataframe los datos a predecir con su predicción\n",
    "df_pred['PREDICCIÓN']=pd.DataFrame(resultado)\n",
    "df_pred"
   ]
  },
  {
   "cell_type": "code",
   "execution_count": null,
   "metadata": {},
   "outputs": [],
   "source": [
    "#Guardar y cargar el modelo para posterior uso"
   ]
  },
  {
   "cell_type": "code",
   "execution_count": 197,
   "metadata": {},
   "outputs": [],
   "source": [
    "from tensorflow.keras.models import load_model"
   ]
  },
  {
   "cell_type": "code",
   "execution_count": 65,
   "metadata": {},
   "outputs": [],
   "source": [
    "model.save('modelo_pred_vivienda.h5')"
   ]
  },
  {
   "cell_type": "code",
   "execution_count": 163,
   "metadata": {},
   "outputs": [],
   "source": [
    "#Cargar modelo para posterior uso"
   ]
  },
  {
   "cell_type": "code",
   "execution_count": null,
   "metadata": {},
   "outputs": [],
   "source": [
    "modelo_cargado = load_model('modelo_pred_vivienda.h5')"
   ]
  }
 ],
 "metadata": {
  "kernelspec": {
   "display_name": "Python 3 (ipykernel)",
   "language": "python",
   "name": "python3"
  },
  "language_info": {
   "codemirror_mode": {
    "name": "ipython",
    "version": 3
   },
   "file_extension": ".py",
   "mimetype": "text/x-python",
   "name": "python",
   "nbconvert_exporter": "python",
   "pygments_lexer": "ipython3",
   "version": "3.11.5"
  }
 },
 "nbformat": 4,
 "nbformat_minor": 2
}
