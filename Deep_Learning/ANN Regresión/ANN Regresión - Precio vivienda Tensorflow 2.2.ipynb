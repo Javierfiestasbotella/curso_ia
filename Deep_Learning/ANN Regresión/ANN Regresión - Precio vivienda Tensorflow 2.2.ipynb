{
 "cells": [
  {
   "cell_type": "markdown",
   "metadata": {},
   "source": [
    "# Keras Regresión"
   ]
  },
  {
   "cell_type": "markdown",
   "metadata": {},
   "source": [
    "# 1.Importación librerías"
   ]
  },
  {
   "cell_type": "code",
   "execution_count": 1,
   "metadata": {},
   "outputs": [],
   "source": [
    "import pandas as pd\n",
    "import numpy as np\n",
    "import matplotlib.pyplot as plt\n",
    "import seaborn as sns"
   ]
  },
  {
   "cell_type": "markdown",
   "metadata": {},
   "source": [
    "# 2.Importación fuente de datos"
   ]
  },
  {
   "cell_type": "raw",
   "metadata": {},
   "source": [
    "https://www.kaggle.com/mirbektoktogaraev/madrid-real-estate-market\n",
    "    \n",
    "Variable Name\tDescription\n",
    "ID\tIdentifier ID\n",
    "title\tTitle from listing\n",
    "subtitle\tNeighborhood and city\n",
    "sqmtbuilt\tSquare meter built\n",
    "sqmtuseful\tSquare meter useful\n",
    "n_rooms\tNumber of rooms\n",
    "n_bathrooms\tNumber of bathrooms\n",
    "sqmtallotment\tSquare meter allotment\n",
    "latitude, longitude\tLatitude, Longitude (Since portals hide the location mainly NAs)\n",
    "raw_address\tAddress\n",
    "isexactaddress_hidden\tBoolean values\n",
    "buy_price\tTarget Value"
   ]
  },
  {
   "cell_type": "code",
   "execution_count": 2,
   "metadata": {},
   "outputs": [],
   "source": [
    "#Lectura datos históricos\n",
    "df = pd.read_excel('./viviendas_Madrid.xlsx',sheet_name='Datos_Históricos')"
   ]
  },
  {
   "cell_type": "code",
   "execution_count": 3,
   "metadata": {},
   "outputs": [
    {
     "name": "stdout",
     "output_type": "stream",
     "text": [
      "<class 'pandas.core.frame.DataFrame'>\n",
      "RangeIndex: 21742 entries, 0 to 21741\n",
      "Data columns (total 57 columns):\n",
      " #   Column                        Non-Null Count  Dtype  \n",
      "---  ------                        --------------  -----  \n",
      " 0   id                            21742 non-null  int64  \n",
      " 1   title                         21742 non-null  object \n",
      " 2   subtitle                      21742 non-null  object \n",
      " 3   sq_mt_built                   21616 non-null  float64\n",
      " 4   sq_mt_useful                  8228 non-null   float64\n",
      " 5   n_rooms                       21742 non-null  int64  \n",
      " 6   n_bathrooms                   21726 non-null  float64\n",
      " 7   n_floors                      1437 non-null   float64\n",
      " 8   sq_mt_allotment               1432 non-null   float64\n",
      " 9   latitude                      0 non-null      float64\n",
      " 10  longitude                     0 non-null      float64\n",
      " 11  raw_address                   16277 non-null  object \n",
      " 12  is_exact_address_hidden       21742 non-null  bool   \n",
      " 13  street_name                   15837 non-null  object \n",
      " 14  street_number                 6300 non-null   object \n",
      " 15  portal                        0 non-null      float64\n",
      " 16  floor                         19135 non-null  object \n",
      " 17  is_floor_under                20572 non-null  float64\n",
      " 18  door                          0 non-null      float64\n",
      " 19  neighborhood_id               21742 non-null  object \n",
      " 20  operation                     21742 non-null  object \n",
      " 21  rent_price                    21742 non-null  float64\n",
      " 22  rent_price_by_area            0 non-null      float64\n",
      " 23  is_rent_price_known           21742 non-null  bool   \n",
      " 24  buy_price                     21742 non-null  int64  \n",
      " 25  buy_price_by_area             21742 non-null  int64  \n",
      " 26  is_buy_price_known            21742 non-null  bool   \n",
      " 27  house_type_id                 21351 non-null  object \n",
      " 28  is_renewal_needed             21742 non-null  bool   \n",
      " 29  is_new_development            20750 non-null  float64\n",
      " 30  built_year                    10000 non-null  float64\n",
      " 31  has_central_heating           13608 non-null  float64\n",
      " 32  has_individual_heating        13608 non-null  float64\n",
      " 33  are_pets_allowed              0 non-null      float64\n",
      " 34  has_ac                        11211 non-null  float64\n",
      " 35  has_fitted_wardrobes          13399 non-null  float64\n",
      " 36  has_lift                      19356 non-null  float64\n",
      " 37  is_exterior                   18699 non-null  float64\n",
      " 38  has_garden                    1556 non-null   float64\n",
      " 39  has_pool                      5171 non-null   float64\n",
      " 40  has_terrace                   9548 non-null   float64\n",
      " 41  has_balcony                   3321 non-null   float64\n",
      " 42  has_storage_room              7698 non-null   float64\n",
      " 43  is_furnished                  0 non-null      float64\n",
      " 44  is_kitchen_equipped           0 non-null      float64\n",
      " 45  is_accessible                 4074 non-null   float64\n",
      " 46  has_green_zones               4057 non-null   float64\n",
      " 47  energy_certificate            21742 non-null  object \n",
      " 48  has_parking                   21742 non-null  bool   \n",
      " 49  has_private_parking           0 non-null      float64\n",
      " 50  has_public_parking            0 non-null      float64\n",
      " 51  is_parking_included_in_price  7719 non-null   float64\n",
      " 52  parking_price                 7719 non-null   float64\n",
      " 53  is_orientation_north          11358 non-null  float64\n",
      " 54  is_orientation_west           11358 non-null  float64\n",
      " 55  is_orientation_south          11358 non-null  float64\n",
      " 56  is_orientation_east           11358 non-null  float64\n",
      "dtypes: bool(5), float64(38), int64(4), object(10)\n",
      "memory usage: 8.7+ MB\n"
     ]
    }
   ],
   "source": [
    "df.info()"
   ]
  },
  {
   "cell_type": "code",
   "execution_count": 4,
   "metadata": {},
   "outputs": [
    {
     "data": {
      "text/html": [
       "<div>\n",
       "<style scoped>\n",
       "    .dataframe tbody tr th:only-of-type {\n",
       "        vertical-align: middle;\n",
       "    }\n",
       "\n",
       "    .dataframe tbody tr th {\n",
       "        vertical-align: top;\n",
       "    }\n",
       "\n",
       "    .dataframe thead th {\n",
       "        text-align: right;\n",
       "    }\n",
       "</style>\n",
       "<table border=\"1\" class=\"dataframe\">\n",
       "  <thead>\n",
       "    <tr style=\"text-align: right;\">\n",
       "      <th></th>\n",
       "      <th>id</th>\n",
       "      <th>title</th>\n",
       "      <th>subtitle</th>\n",
       "      <th>sq_mt_built</th>\n",
       "      <th>sq_mt_useful</th>\n",
       "      <th>n_rooms</th>\n",
       "      <th>n_bathrooms</th>\n",
       "      <th>n_floors</th>\n",
       "      <th>sq_mt_allotment</th>\n",
       "      <th>latitude</th>\n",
       "      <th>...</th>\n",
       "      <th>energy_certificate</th>\n",
       "      <th>has_parking</th>\n",
       "      <th>has_private_parking</th>\n",
       "      <th>has_public_parking</th>\n",
       "      <th>is_parking_included_in_price</th>\n",
       "      <th>parking_price</th>\n",
       "      <th>is_orientation_north</th>\n",
       "      <th>is_orientation_west</th>\n",
       "      <th>is_orientation_south</th>\n",
       "      <th>is_orientation_east</th>\n",
       "    </tr>\n",
       "  </thead>\n",
       "  <tbody>\n",
       "    <tr>\n",
       "      <th>0</th>\n",
       "      <td>21742</td>\n",
       "      <td>Piso en venta en calle de Godella, 64</td>\n",
       "      <td>San CristÃ³bal, Madrid</td>\n",
       "      <td>64.0</td>\n",
       "      <td>60.0</td>\n",
       "      <td>2</td>\n",
       "      <td>1.0</td>\n",
       "      <td>NaN</td>\n",
       "      <td>NaN</td>\n",
       "      <td>NaN</td>\n",
       "      <td>...</td>\n",
       "      <td>D</td>\n",
       "      <td>False</td>\n",
       "      <td>NaN</td>\n",
       "      <td>NaN</td>\n",
       "      <td>NaN</td>\n",
       "      <td>NaN</td>\n",
       "      <td>0.0</td>\n",
       "      <td>1.0</td>\n",
       "      <td>0.0</td>\n",
       "      <td>0.0</td>\n",
       "    </tr>\n",
       "    <tr>\n",
       "      <th>1</th>\n",
       "      <td>21741</td>\n",
       "      <td>Piso en venta en calle de la del Manojo de Rosas</td>\n",
       "      <td>Los Ãngeles, Madrid</td>\n",
       "      <td>70.0</td>\n",
       "      <td>NaN</td>\n",
       "      <td>3</td>\n",
       "      <td>1.0</td>\n",
       "      <td>NaN</td>\n",
       "      <td>NaN</td>\n",
       "      <td>NaN</td>\n",
       "      <td>...</td>\n",
       "      <td>en trÃ¡mite</td>\n",
       "      <td>False</td>\n",
       "      <td>NaN</td>\n",
       "      <td>NaN</td>\n",
       "      <td>NaN</td>\n",
       "      <td>NaN</td>\n",
       "      <td>NaN</td>\n",
       "      <td>NaN</td>\n",
       "      <td>NaN</td>\n",
       "      <td>NaN</td>\n",
       "    </tr>\n",
       "    <tr>\n",
       "      <th>2</th>\n",
       "      <td>21740</td>\n",
       "      <td>Piso en venta en calle del Talco, 68</td>\n",
       "      <td>San AndrÃ©s, Madrid</td>\n",
       "      <td>94.0</td>\n",
       "      <td>54.0</td>\n",
       "      <td>2</td>\n",
       "      <td>2.0</td>\n",
       "      <td>NaN</td>\n",
       "      <td>NaN</td>\n",
       "      <td>NaN</td>\n",
       "      <td>...</td>\n",
       "      <td>no indicado</td>\n",
       "      <td>False</td>\n",
       "      <td>NaN</td>\n",
       "      <td>NaN</td>\n",
       "      <td>NaN</td>\n",
       "      <td>NaN</td>\n",
       "      <td>NaN</td>\n",
       "      <td>NaN</td>\n",
       "      <td>NaN</td>\n",
       "      <td>NaN</td>\n",
       "    </tr>\n",
       "    <tr>\n",
       "      <th>3</th>\n",
       "      <td>21739</td>\n",
       "      <td>Piso en venta en calle Pedro JimÃ©nez</td>\n",
       "      <td>San AndrÃ©s, Madrid</td>\n",
       "      <td>64.0</td>\n",
       "      <td>NaN</td>\n",
       "      <td>2</td>\n",
       "      <td>1.0</td>\n",
       "      <td>NaN</td>\n",
       "      <td>NaN</td>\n",
       "      <td>NaN</td>\n",
       "      <td>...</td>\n",
       "      <td>en trÃ¡mite</td>\n",
       "      <td>False</td>\n",
       "      <td>NaN</td>\n",
       "      <td>NaN</td>\n",
       "      <td>NaN</td>\n",
       "      <td>NaN</td>\n",
       "      <td>0.0</td>\n",
       "      <td>0.0</td>\n",
       "      <td>1.0</td>\n",
       "      <td>0.0</td>\n",
       "    </tr>\n",
       "    <tr>\n",
       "      <th>4</th>\n",
       "      <td>21738</td>\n",
       "      <td>Piso en venta en carretera de Villaverde a Val...</td>\n",
       "      <td>Los Rosales, Madrid</td>\n",
       "      <td>108.0</td>\n",
       "      <td>90.0</td>\n",
       "      <td>2</td>\n",
       "      <td>2.0</td>\n",
       "      <td>NaN</td>\n",
       "      <td>NaN</td>\n",
       "      <td>NaN</td>\n",
       "      <td>...</td>\n",
       "      <td>en trÃ¡mite</td>\n",
       "      <td>True</td>\n",
       "      <td>NaN</td>\n",
       "      <td>NaN</td>\n",
       "      <td>1.0</td>\n",
       "      <td>0.0</td>\n",
       "      <td>1.0</td>\n",
       "      <td>1.0</td>\n",
       "      <td>1.0</td>\n",
       "      <td>1.0</td>\n",
       "    </tr>\n",
       "  </tbody>\n",
       "</table>\n",
       "<p>5 rows × 57 columns</p>\n",
       "</div>"
      ],
      "text/plain": [
       "      id                                              title  \\\n",
       "0  21742              Piso en venta en calle de Godella, 64   \n",
       "1  21741   Piso en venta en calle de la del Manojo de Rosas   \n",
       "2  21740               Piso en venta en calle del Talco, 68   \n",
       "3  21739              Piso en venta en calle Pedro JimÃ©nez   \n",
       "4  21738  Piso en venta en carretera de Villaverde a Val...   \n",
       "\n",
       "                 subtitle  sq_mt_built  sq_mt_useful  n_rooms  n_bathrooms  \\\n",
       "0  San CristÃ³bal, Madrid         64.0          60.0        2          1.0   \n",
       "1    Los Ãngeles, Madrid         70.0           NaN        3          1.0   \n",
       "2     San AndrÃ©s, Madrid         94.0          54.0        2          2.0   \n",
       "3     San AndrÃ©s, Madrid         64.0           NaN        2          1.0   \n",
       "4     Los Rosales, Madrid        108.0          90.0        2          2.0   \n",
       "\n",
       "   n_floors  sq_mt_allotment  latitude  ...  energy_certificate has_parking  \\\n",
       "0       NaN              NaN       NaN  ...                   D       False   \n",
       "1       NaN              NaN       NaN  ...         en trÃ¡mite       False   \n",
       "2       NaN              NaN       NaN  ...         no indicado       False   \n",
       "3       NaN              NaN       NaN  ...         en trÃ¡mite       False   \n",
       "4       NaN              NaN       NaN  ...         en trÃ¡mite        True   \n",
       "\n",
       "   has_private_parking has_public_parking is_parking_included_in_price  \\\n",
       "0                  NaN                NaN                          NaN   \n",
       "1                  NaN                NaN                          NaN   \n",
       "2                  NaN                NaN                          NaN   \n",
       "3                  NaN                NaN                          NaN   \n",
       "4                  NaN                NaN                          1.0   \n",
       "\n",
       "   parking_price is_orientation_north  is_orientation_west  \\\n",
       "0            NaN                  0.0                  1.0   \n",
       "1            NaN                  NaN                  NaN   \n",
       "2            NaN                  NaN                  NaN   \n",
       "3            NaN                  0.0                  0.0   \n",
       "4            0.0                  1.0                  1.0   \n",
       "\n",
       "   is_orientation_south is_orientation_east  \n",
       "0                   0.0                 0.0  \n",
       "1                   NaN                 NaN  \n",
       "2                   NaN                 NaN  \n",
       "3                   1.0                 0.0  \n",
       "4                   1.0                 1.0  \n",
       "\n",
       "[5 rows x 57 columns]"
      ]
     },
     "execution_count": 4,
     "metadata": {},
     "output_type": "execute_result"
    }
   ],
   "source": [
    "df.head(5)"
   ]
  },
  {
   "cell_type": "markdown",
   "metadata": {},
   "source": [
    "# 3.Análisis de Datos (EDA) + Preprocesado"
   ]
  },
  {
   "cell_type": "code",
   "execution_count": 5,
   "metadata": {},
   "outputs": [
    {
     "name": "stdout",
     "output_type": "stream",
     "text": [
      "<class 'pandas.core.frame.DataFrame'>\n",
      "RangeIndex: 21742 entries, 0 to 21741\n",
      "Data columns (total 57 columns):\n",
      " #   Column                        Non-Null Count  Dtype  \n",
      "---  ------                        --------------  -----  \n",
      " 0   id                            21742 non-null  int64  \n",
      " 1   title                         21742 non-null  object \n",
      " 2   subtitle                      21742 non-null  object \n",
      " 3   sq_mt_built                   21616 non-null  float64\n",
      " 4   sq_mt_useful                  8228 non-null   float64\n",
      " 5   n_rooms                       21742 non-null  int64  \n",
      " 6   n_bathrooms                   21726 non-null  float64\n",
      " 7   n_floors                      1437 non-null   float64\n",
      " 8   sq_mt_allotment               1432 non-null   float64\n",
      " 9   latitude                      0 non-null      float64\n",
      " 10  longitude                     0 non-null      float64\n",
      " 11  raw_address                   16277 non-null  object \n",
      " 12  is_exact_address_hidden       21742 non-null  bool   \n",
      " 13  street_name                   15837 non-null  object \n",
      " 14  street_number                 6300 non-null   object \n",
      " 15  portal                        0 non-null      float64\n",
      " 16  floor                         19135 non-null  object \n",
      " 17  is_floor_under                20572 non-null  float64\n",
      " 18  door                          0 non-null      float64\n",
      " 19  neighborhood_id               21742 non-null  object \n",
      " 20  operation                     21742 non-null  object \n",
      " 21  rent_price                    21742 non-null  float64\n",
      " 22  rent_price_by_area            0 non-null      float64\n",
      " 23  is_rent_price_known           21742 non-null  bool   \n",
      " 24  buy_price                     21742 non-null  int64  \n",
      " 25  buy_price_by_area             21742 non-null  int64  \n",
      " 26  is_buy_price_known            21742 non-null  bool   \n",
      " 27  house_type_id                 21351 non-null  object \n",
      " 28  is_renewal_needed             21742 non-null  bool   \n",
      " 29  is_new_development            20750 non-null  float64\n",
      " 30  built_year                    10000 non-null  float64\n",
      " 31  has_central_heating           13608 non-null  float64\n",
      " 32  has_individual_heating        13608 non-null  float64\n",
      " 33  are_pets_allowed              0 non-null      float64\n",
      " 34  has_ac                        11211 non-null  float64\n",
      " 35  has_fitted_wardrobes          13399 non-null  float64\n",
      " 36  has_lift                      19356 non-null  float64\n",
      " 37  is_exterior                   18699 non-null  float64\n",
      " 38  has_garden                    1556 non-null   float64\n",
      " 39  has_pool                      5171 non-null   float64\n",
      " 40  has_terrace                   9548 non-null   float64\n",
      " 41  has_balcony                   3321 non-null   float64\n",
      " 42  has_storage_room              7698 non-null   float64\n",
      " 43  is_furnished                  0 non-null      float64\n",
      " 44  is_kitchen_equipped           0 non-null      float64\n",
      " 45  is_accessible                 4074 non-null   float64\n",
      " 46  has_green_zones               4057 non-null   float64\n",
      " 47  energy_certificate            21742 non-null  object \n",
      " 48  has_parking                   21742 non-null  bool   \n",
      " 49  has_private_parking           0 non-null      float64\n",
      " 50  has_public_parking            0 non-null      float64\n",
      " 51  is_parking_included_in_price  7719 non-null   float64\n",
      " 52  parking_price                 7719 non-null   float64\n",
      " 53  is_orientation_north          11358 non-null  float64\n",
      " 54  is_orientation_west           11358 non-null  float64\n",
      " 55  is_orientation_south          11358 non-null  float64\n",
      " 56  is_orientation_east           11358 non-null  float64\n",
      "dtypes: bool(5), float64(38), int64(4), object(10)\n",
      "memory usage: 8.7+ MB\n"
     ]
    }
   ],
   "source": [
    "df.info()"
   ]
  },
  {
   "cell_type": "code",
   "execution_count": 6,
   "metadata": {
    "scrolled": true
   },
   "outputs": [
    {
     "data": {
      "text/html": [
       "<div>\n",
       "<style scoped>\n",
       "    .dataframe tbody tr th:only-of-type {\n",
       "        vertical-align: middle;\n",
       "    }\n",
       "\n",
       "    .dataframe tbody tr th {\n",
       "        vertical-align: top;\n",
       "    }\n",
       "\n",
       "    .dataframe thead th {\n",
       "        text-align: right;\n",
       "    }\n",
       "</style>\n",
       "<table border=\"1\" class=\"dataframe\">\n",
       "  <thead>\n",
       "    <tr style=\"text-align: right;\">\n",
       "      <th></th>\n",
       "      <th>id</th>\n",
       "      <th>title</th>\n",
       "      <th>subtitle</th>\n",
       "      <th>sq_mt_built</th>\n",
       "      <th>sq_mt_useful</th>\n",
       "      <th>n_rooms</th>\n",
       "      <th>n_bathrooms</th>\n",
       "      <th>n_floors</th>\n",
       "      <th>sq_mt_allotment</th>\n",
       "      <th>latitude</th>\n",
       "      <th>...</th>\n",
       "      <th>energy_certificate</th>\n",
       "      <th>has_parking</th>\n",
       "      <th>has_private_parking</th>\n",
       "      <th>has_public_parking</th>\n",
       "      <th>is_parking_included_in_price</th>\n",
       "      <th>parking_price</th>\n",
       "      <th>is_orientation_north</th>\n",
       "      <th>is_orientation_west</th>\n",
       "      <th>is_orientation_south</th>\n",
       "      <th>is_orientation_east</th>\n",
       "    </tr>\n",
       "  </thead>\n",
       "  <tbody>\n",
       "    <tr>\n",
       "      <th>0</th>\n",
       "      <td>21742</td>\n",
       "      <td>Piso en venta en calle de Godella, 64</td>\n",
       "      <td>San CristÃ³bal, Madrid</td>\n",
       "      <td>64.0</td>\n",
       "      <td>60.0</td>\n",
       "      <td>2</td>\n",
       "      <td>1.0</td>\n",
       "      <td>NaN</td>\n",
       "      <td>NaN</td>\n",
       "      <td>NaN</td>\n",
       "      <td>...</td>\n",
       "      <td>D</td>\n",
       "      <td>False</td>\n",
       "      <td>NaN</td>\n",
       "      <td>NaN</td>\n",
       "      <td>NaN</td>\n",
       "      <td>NaN</td>\n",
       "      <td>0.0</td>\n",
       "      <td>1.0</td>\n",
       "      <td>0.0</td>\n",
       "      <td>0.0</td>\n",
       "    </tr>\n",
       "    <tr>\n",
       "      <th>1</th>\n",
       "      <td>21741</td>\n",
       "      <td>Piso en venta en calle de la del Manojo de Rosas</td>\n",
       "      <td>Los Ãngeles, Madrid</td>\n",
       "      <td>70.0</td>\n",
       "      <td>NaN</td>\n",
       "      <td>3</td>\n",
       "      <td>1.0</td>\n",
       "      <td>NaN</td>\n",
       "      <td>NaN</td>\n",
       "      <td>NaN</td>\n",
       "      <td>...</td>\n",
       "      <td>en trÃ¡mite</td>\n",
       "      <td>False</td>\n",
       "      <td>NaN</td>\n",
       "      <td>NaN</td>\n",
       "      <td>NaN</td>\n",
       "      <td>NaN</td>\n",
       "      <td>NaN</td>\n",
       "      <td>NaN</td>\n",
       "      <td>NaN</td>\n",
       "      <td>NaN</td>\n",
       "    </tr>\n",
       "    <tr>\n",
       "      <th>2</th>\n",
       "      <td>21740</td>\n",
       "      <td>Piso en venta en calle del Talco, 68</td>\n",
       "      <td>San AndrÃ©s, Madrid</td>\n",
       "      <td>94.0</td>\n",
       "      <td>54.0</td>\n",
       "      <td>2</td>\n",
       "      <td>2.0</td>\n",
       "      <td>NaN</td>\n",
       "      <td>NaN</td>\n",
       "      <td>NaN</td>\n",
       "      <td>...</td>\n",
       "      <td>no indicado</td>\n",
       "      <td>False</td>\n",
       "      <td>NaN</td>\n",
       "      <td>NaN</td>\n",
       "      <td>NaN</td>\n",
       "      <td>NaN</td>\n",
       "      <td>NaN</td>\n",
       "      <td>NaN</td>\n",
       "      <td>NaN</td>\n",
       "      <td>NaN</td>\n",
       "    </tr>\n",
       "    <tr>\n",
       "      <th>3</th>\n",
       "      <td>21739</td>\n",
       "      <td>Piso en venta en calle Pedro JimÃ©nez</td>\n",
       "      <td>San AndrÃ©s, Madrid</td>\n",
       "      <td>64.0</td>\n",
       "      <td>NaN</td>\n",
       "      <td>2</td>\n",
       "      <td>1.0</td>\n",
       "      <td>NaN</td>\n",
       "      <td>NaN</td>\n",
       "      <td>NaN</td>\n",
       "      <td>...</td>\n",
       "      <td>en trÃ¡mite</td>\n",
       "      <td>False</td>\n",
       "      <td>NaN</td>\n",
       "      <td>NaN</td>\n",
       "      <td>NaN</td>\n",
       "      <td>NaN</td>\n",
       "      <td>0.0</td>\n",
       "      <td>0.0</td>\n",
       "      <td>1.0</td>\n",
       "      <td>0.0</td>\n",
       "    </tr>\n",
       "    <tr>\n",
       "      <th>4</th>\n",
       "      <td>21738</td>\n",
       "      <td>Piso en venta en carretera de Villaverde a Val...</td>\n",
       "      <td>Los Rosales, Madrid</td>\n",
       "      <td>108.0</td>\n",
       "      <td>90.0</td>\n",
       "      <td>2</td>\n",
       "      <td>2.0</td>\n",
       "      <td>NaN</td>\n",
       "      <td>NaN</td>\n",
       "      <td>NaN</td>\n",
       "      <td>...</td>\n",
       "      <td>en trÃ¡mite</td>\n",
       "      <td>True</td>\n",
       "      <td>NaN</td>\n",
       "      <td>NaN</td>\n",
       "      <td>1.0</td>\n",
       "      <td>0.0</td>\n",
       "      <td>1.0</td>\n",
       "      <td>1.0</td>\n",
       "      <td>1.0</td>\n",
       "      <td>1.0</td>\n",
       "    </tr>\n",
       "  </tbody>\n",
       "</table>\n",
       "<p>5 rows × 57 columns</p>\n",
       "</div>"
      ],
      "text/plain": [
       "      id                                              title  \\\n",
       "0  21742              Piso en venta en calle de Godella, 64   \n",
       "1  21741   Piso en venta en calle de la del Manojo de Rosas   \n",
       "2  21740               Piso en venta en calle del Talco, 68   \n",
       "3  21739              Piso en venta en calle Pedro JimÃ©nez   \n",
       "4  21738  Piso en venta en carretera de Villaverde a Val...   \n",
       "\n",
       "                 subtitle  sq_mt_built  sq_mt_useful  n_rooms  n_bathrooms  \\\n",
       "0  San CristÃ³bal, Madrid         64.0          60.0        2          1.0   \n",
       "1    Los Ãngeles, Madrid         70.0           NaN        3          1.0   \n",
       "2     San AndrÃ©s, Madrid         94.0          54.0        2          2.0   \n",
       "3     San AndrÃ©s, Madrid         64.0           NaN        2          1.0   \n",
       "4     Los Rosales, Madrid        108.0          90.0        2          2.0   \n",
       "\n",
       "   n_floors  sq_mt_allotment  latitude  ...  energy_certificate has_parking  \\\n",
       "0       NaN              NaN       NaN  ...                   D       False   \n",
       "1       NaN              NaN       NaN  ...         en trÃ¡mite       False   \n",
       "2       NaN              NaN       NaN  ...         no indicado       False   \n",
       "3       NaN              NaN       NaN  ...         en trÃ¡mite       False   \n",
       "4       NaN              NaN       NaN  ...         en trÃ¡mite        True   \n",
       "\n",
       "   has_private_parking has_public_parking is_parking_included_in_price  \\\n",
       "0                  NaN                NaN                          NaN   \n",
       "1                  NaN                NaN                          NaN   \n",
       "2                  NaN                NaN                          NaN   \n",
       "3                  NaN                NaN                          NaN   \n",
       "4                  NaN                NaN                          1.0   \n",
       "\n",
       "   parking_price is_orientation_north  is_orientation_west  \\\n",
       "0            NaN                  0.0                  1.0   \n",
       "1            NaN                  NaN                  NaN   \n",
       "2            NaN                  NaN                  NaN   \n",
       "3            NaN                  0.0                  0.0   \n",
       "4            0.0                  1.0                  1.0   \n",
       "\n",
       "   is_orientation_south is_orientation_east  \n",
       "0                   0.0                 0.0  \n",
       "1                   NaN                 NaN  \n",
       "2                   NaN                 NaN  \n",
       "3                   1.0                 0.0  \n",
       "4                   1.0                 1.0  \n",
       "\n",
       "[5 rows x 57 columns]"
      ]
     },
     "execution_count": 6,
     "metadata": {},
     "output_type": "execute_result"
    }
   ],
   "source": [
    "df.head(5)"
   ]
  },
  {
   "cell_type": "markdown",
   "metadata": {},
   "source": [
    "## 3.1 Limpieza inicial"
   ]
  },
  {
   "cell_type": "code",
   "execution_count": 4,
   "metadata": {},
   "outputs": [
    {
     "data": {
      "text/plain": [
       "id                                  0\n",
       "title                               0\n",
       "subtitle                            0\n",
       "sq_mt_built                       126\n",
       "sq_mt_useful                    13514\n",
       "n_rooms                             0\n",
       "n_bathrooms                        16\n",
       "n_floors                        20305\n",
       "sq_mt_allotment                 20310\n",
       "latitude                        21742\n",
       "longitude                       21742\n",
       "raw_address                      5465\n",
       "is_exact_address_hidden             0\n",
       "street_name                      5905\n",
       "street_number                   15442\n",
       "portal                          21742\n",
       "floor                            2607\n",
       "is_floor_under                   1170\n",
       "door                            21742\n",
       "neighborhood_id                     0\n",
       "operation                           0\n",
       "rent_price                          0\n",
       "rent_price_by_area              21742\n",
       "is_rent_price_known                 0\n",
       "buy_price                           0\n",
       "buy_price_by_area                   0\n",
       "is_buy_price_known                  0\n",
       "house_type_id                     391\n",
       "is_renewal_needed                   0\n",
       "is_new_development                992\n",
       "built_year                      11742\n",
       "has_central_heating              8134\n",
       "has_individual_heating           8134\n",
       "are_pets_allowed                21742\n",
       "has_ac                          10531\n",
       "has_fitted_wardrobes             8343\n",
       "has_lift                         2386\n",
       "is_exterior                      3043\n",
       "has_garden                      20186\n",
       "has_pool                        16571\n",
       "has_terrace                     12194\n",
       "has_balcony                     18421\n",
       "has_storage_room                14044\n",
       "is_furnished                    21742\n",
       "is_kitchen_equipped             21742\n",
       "is_accessible                   17668\n",
       "has_green_zones                 17685\n",
       "energy_certificate                  0\n",
       "has_parking                         0\n",
       "has_private_parking             21742\n",
       "has_public_parking              21742\n",
       "is_parking_included_in_price    14023\n",
       "parking_price                   14023\n",
       "is_orientation_north            10384\n",
       "is_orientation_west             10384\n",
       "is_orientation_south            10384\n",
       "is_orientation_east             10384\n",
       "dtype: int64"
      ]
     },
     "execution_count": 4,
     "metadata": {},
     "output_type": "execute_result"
    }
   ],
   "source": [
    "df.isnull().sum() #Verificamos si hay valores nulos en alguna columna del dataframe"
   ]
  },
  {
   "cell_type": "code",
   "execution_count": 5,
   "metadata": {},
   "outputs": [
    {
     "data": {
      "text/html": [
       "<div>\n",
       "<style scoped>\n",
       "    .dataframe tbody tr th:only-of-type {\n",
       "        vertical-align: middle;\n",
       "    }\n",
       "\n",
       "    .dataframe tbody tr th {\n",
       "        vertical-align: top;\n",
       "    }\n",
       "\n",
       "    .dataframe thead th {\n",
       "        text-align: right;\n",
       "    }\n",
       "</style>\n",
       "<table border=\"1\" class=\"dataframe\">\n",
       "  <thead>\n",
       "    <tr style=\"text-align: right;\">\n",
       "      <th></th>\n",
       "      <th>id</th>\n",
       "      <th>title</th>\n",
       "      <th>subtitle</th>\n",
       "      <th>sq_mt_built</th>\n",
       "      <th>n_rooms</th>\n",
       "      <th>n_bathrooms</th>\n",
       "      <th>is_exact_address_hidden</th>\n",
       "      <th>is_floor_under</th>\n",
       "      <th>neighborhood_id</th>\n",
       "      <th>operation</th>\n",
       "      <th>rent_price</th>\n",
       "      <th>is_rent_price_known</th>\n",
       "      <th>buy_price</th>\n",
       "      <th>buy_price_by_area</th>\n",
       "      <th>is_buy_price_known</th>\n",
       "      <th>house_type_id</th>\n",
       "      <th>is_renewal_needed</th>\n",
       "      <th>is_new_development</th>\n",
       "      <th>energy_certificate</th>\n",
       "      <th>has_parking</th>\n",
       "    </tr>\n",
       "  </thead>\n",
       "  <tbody>\n",
       "    <tr>\n",
       "      <th>0</th>\n",
       "      <td>21742</td>\n",
       "      <td>Piso en venta en calle de Godella, 64</td>\n",
       "      <td>San CristÃ³bal, Madrid</td>\n",
       "      <td>64.0</td>\n",
       "      <td>2</td>\n",
       "      <td>1.0</td>\n",
       "      <td>False</td>\n",
       "      <td>0.0</td>\n",
       "      <td>Neighborhood 135: San CristÃ³bal (1308.89 â‚¬/...</td>\n",
       "      <td>sale</td>\n",
       "      <td>471.0</td>\n",
       "      <td>False</td>\n",
       "      <td>85000</td>\n",
       "      <td>1328</td>\n",
       "      <td>True</td>\n",
       "      <td>HouseType 1: Pisos</td>\n",
       "      <td>False</td>\n",
       "      <td>0.0</td>\n",
       "      <td>D</td>\n",
       "      <td>False</td>\n",
       "    </tr>\n",
       "    <tr>\n",
       "      <th>1</th>\n",
       "      <td>21741</td>\n",
       "      <td>Piso en venta en calle de la del Manojo de Rosas</td>\n",
       "      <td>Los Ãngeles, Madrid</td>\n",
       "      <td>70.0</td>\n",
       "      <td>3</td>\n",
       "      <td>1.0</td>\n",
       "      <td>True</td>\n",
       "      <td>0.0</td>\n",
       "      <td>Neighborhood 132: Los Ãngeles (1796.68 â‚¬/m2...</td>\n",
       "      <td>sale</td>\n",
       "      <td>666.0</td>\n",
       "      <td>False</td>\n",
       "      <td>129900</td>\n",
       "      <td>1856</td>\n",
       "      <td>True</td>\n",
       "      <td>HouseType 1: Pisos</td>\n",
       "      <td>True</td>\n",
       "      <td>0.0</td>\n",
       "      <td>en trÃ¡mite</td>\n",
       "      <td>False</td>\n",
       "    </tr>\n",
       "    <tr>\n",
       "      <th>2</th>\n",
       "      <td>21740</td>\n",
       "      <td>Piso en venta en calle del Talco, 68</td>\n",
       "      <td>San AndrÃ©s, Madrid</td>\n",
       "      <td>94.0</td>\n",
       "      <td>2</td>\n",
       "      <td>2.0</td>\n",
       "      <td>False</td>\n",
       "      <td>0.0</td>\n",
       "      <td>Neighborhood 134: San AndrÃ©s (1617.18 â‚¬/m2)...</td>\n",
       "      <td>sale</td>\n",
       "      <td>722.0</td>\n",
       "      <td>False</td>\n",
       "      <td>144247</td>\n",
       "      <td>1535</td>\n",
       "      <td>True</td>\n",
       "      <td>HouseType 1: Pisos</td>\n",
       "      <td>False</td>\n",
       "      <td>0.0</td>\n",
       "      <td>no indicado</td>\n",
       "      <td>False</td>\n",
       "    </tr>\n",
       "    <tr>\n",
       "      <th>3</th>\n",
       "      <td>21739</td>\n",
       "      <td>Piso en venta en calle Pedro JimÃ©nez</td>\n",
       "      <td>San AndrÃ©s, Madrid</td>\n",
       "      <td>64.0</td>\n",
       "      <td>2</td>\n",
       "      <td>1.0</td>\n",
       "      <td>True</td>\n",
       "      <td>1.0</td>\n",
       "      <td>Neighborhood 134: San AndrÃ©s (1617.18 â‚¬/m2)...</td>\n",
       "      <td>sale</td>\n",
       "      <td>583.0</td>\n",
       "      <td>False</td>\n",
       "      <td>109900</td>\n",
       "      <td>1717</td>\n",
       "      <td>True</td>\n",
       "      <td>HouseType 1: Pisos</td>\n",
       "      <td>False</td>\n",
       "      <td>0.0</td>\n",
       "      <td>en trÃ¡mite</td>\n",
       "      <td>False</td>\n",
       "    </tr>\n",
       "    <tr>\n",
       "      <th>4</th>\n",
       "      <td>21738</td>\n",
       "      <td>Piso en venta en carretera de Villaverde a Val...</td>\n",
       "      <td>Los Rosales, Madrid</td>\n",
       "      <td>108.0</td>\n",
       "      <td>2</td>\n",
       "      <td>2.0</td>\n",
       "      <td>True</td>\n",
       "      <td>0.0</td>\n",
       "      <td>Neighborhood 133: Los Rosales (1827.79 â‚¬/m2)...</td>\n",
       "      <td>sale</td>\n",
       "      <td>1094.0</td>\n",
       "      <td>False</td>\n",
       "      <td>260000</td>\n",
       "      <td>2407</td>\n",
       "      <td>True</td>\n",
       "      <td>HouseType 1: Pisos</td>\n",
       "      <td>False</td>\n",
       "      <td>0.0</td>\n",
       "      <td>en trÃ¡mite</td>\n",
       "      <td>True</td>\n",
       "    </tr>\n",
       "  </tbody>\n",
       "</table>\n",
       "</div>"
      ],
      "text/plain": [
       "      id                                              title  \\\n",
       "0  21742              Piso en venta en calle de Godella, 64   \n",
       "1  21741   Piso en venta en calle de la del Manojo de Rosas   \n",
       "2  21740               Piso en venta en calle del Talco, 68   \n",
       "3  21739              Piso en venta en calle Pedro JimÃ©nez   \n",
       "4  21738  Piso en venta en carretera de Villaverde a Val...   \n",
       "\n",
       "                 subtitle  sq_mt_built  n_rooms  n_bathrooms  \\\n",
       "0  San CristÃ³bal, Madrid         64.0        2          1.0   \n",
       "1    Los Ãngeles, Madrid         70.0        3          1.0   \n",
       "2     San AndrÃ©s, Madrid         94.0        2          2.0   \n",
       "3     San AndrÃ©s, Madrid         64.0        2          1.0   \n",
       "4     Los Rosales, Madrid        108.0        2          2.0   \n",
       "\n",
       "   is_exact_address_hidden  is_floor_under  \\\n",
       "0                    False             0.0   \n",
       "1                     True             0.0   \n",
       "2                    False             0.0   \n",
       "3                     True             1.0   \n",
       "4                     True             0.0   \n",
       "\n",
       "                                     neighborhood_id operation  rent_price  \\\n",
       "0  Neighborhood 135: San CristÃ³bal (1308.89 â‚¬/...      sale       471.0   \n",
       "1  Neighborhood 132: Los Ãngeles (1796.68 â‚¬/m2...      sale       666.0   \n",
       "2  Neighborhood 134: San AndrÃ©s (1617.18 â‚¬/m2)...      sale       722.0   \n",
       "3  Neighborhood 134: San AndrÃ©s (1617.18 â‚¬/m2)...      sale       583.0   \n",
       "4  Neighborhood 133: Los Rosales (1827.79 â‚¬/m2)...      sale      1094.0   \n",
       "\n",
       "   is_rent_price_known  buy_price  buy_price_by_area  is_buy_price_known  \\\n",
       "0                False      85000               1328                True   \n",
       "1                False     129900               1856                True   \n",
       "2                False     144247               1535                True   \n",
       "3                False     109900               1717                True   \n",
       "4                False     260000               2407                True   \n",
       "\n",
       "        house_type_id  is_renewal_needed  is_new_development  \\\n",
       "0  HouseType 1: Pisos              False                 0.0   \n",
       "1  HouseType 1: Pisos               True                 0.0   \n",
       "2  HouseType 1: Pisos              False                 0.0   \n",
       "3  HouseType 1: Pisos              False                 0.0   \n",
       "4  HouseType 1: Pisos              False                 0.0   \n",
       "\n",
       "  energy_certificate  has_parking  \n",
       "0                  D        False  \n",
       "1        en trÃ¡mite        False  \n",
       "2        no indicado        False  \n",
       "3        en trÃ¡mite        False  \n",
       "4        en trÃ¡mite         True  "
      ]
     },
     "execution_count": 5,
     "metadata": {},
     "output_type": "execute_result"
    }
   ],
   "source": [
    "#Eliminar variables que tienen un alto porcentaje de registros con el valor nulo\n",
    "df_var = df.isnull().sum() #Creamos una serie de pandas con el número de valores nulos de cada variable\n",
    "porcentaje_eliminacion = 0.1 #10%\n",
    "df_var = df_var[df_var<porcentaje_eliminacion*len(df)] #Nos quedamos con las variables que tienen menos de un porcentaje de registros nulos\n",
    "lista_variables_OK = df_var.index #Nos quedamos con el índice de la serie (los nombres de las variables de interés)\n",
    "df = df[lista_variables_OK] #Filtramos el dataframe original y nos quedamos solo con las columnas de interés\n",
    "df.head(5)"
   ]
  },
  {
   "cell_type": "code",
   "execution_count": 9,
   "metadata": {},
   "outputs": [],
   "source": [
    "#Eliminamos registros que tienen algún valor erróneo (se podría interpolar)"
   ]
  },
  {
   "cell_type": "code",
   "execution_count": 6,
   "metadata": {},
   "outputs": [],
   "source": [
    "df.dropna(inplace=True)"
   ]
  },
  {
   "cell_type": "code",
   "execution_count": 7,
   "metadata": {},
   "outputs": [
    {
     "data": {
      "text/plain": [
       "id                         0\n",
       "title                      0\n",
       "subtitle                   0\n",
       "sq_mt_built                0\n",
       "n_rooms                    0\n",
       "n_bathrooms                0\n",
       "is_exact_address_hidden    0\n",
       "is_floor_under             0\n",
       "neighborhood_id            0\n",
       "operation                  0\n",
       "rent_price                 0\n",
       "is_rent_price_known        0\n",
       "buy_price                  0\n",
       "buy_price_by_area          0\n",
       "is_buy_price_known         0\n",
       "house_type_id              0\n",
       "is_renewal_needed          0\n",
       "is_new_development         0\n",
       "energy_certificate         0\n",
       "has_parking                0\n",
       "dtype: int64"
      ]
     },
     "execution_count": 7,
     "metadata": {},
     "output_type": "execute_result"
    }
   ],
   "source": [
    "df.isnull().sum() #Verificamos si hay valores nulos en alguna columna del dataframe"
   ]
  },
  {
   "cell_type": "code",
   "execution_count": 9,
   "metadata": {},
   "outputs": [
    {
     "data": {
      "text/html": [
       "<div>\n",
       "<style scoped>\n",
       "    .dataframe tbody tr th:only-of-type {\n",
       "        vertical-align: middle;\n",
       "    }\n",
       "\n",
       "    .dataframe tbody tr th {\n",
       "        vertical-align: top;\n",
       "    }\n",
       "\n",
       "    .dataframe thead th {\n",
       "        text-align: right;\n",
       "    }\n",
       "</style>\n",
       "<table border=\"1\" class=\"dataframe\">\n",
       "  <thead>\n",
       "    <tr style=\"text-align: right;\">\n",
       "      <th></th>\n",
       "      <th>count</th>\n",
       "      <th>mean</th>\n",
       "      <th>std</th>\n",
       "      <th>min</th>\n",
       "      <th>25%</th>\n",
       "      <th>50%</th>\n",
       "      <th>75%</th>\n",
       "      <th>max</th>\n",
       "    </tr>\n",
       "  </thead>\n",
       "  <tbody>\n",
       "    <tr>\n",
       "      <th>id</th>\n",
       "      <td>19310.0</td>\n",
       "      <td>10751.771621</td>\n",
       "      <td>6272.883675</td>\n",
       "      <td>2.0</td>\n",
       "      <td>5347.25</td>\n",
       "      <td>10575.5</td>\n",
       "      <td>16243.75</td>\n",
       "      <td>21742.0</td>\n",
       "    </tr>\n",
       "    <tr>\n",
       "      <th>sq_mt_built</th>\n",
       "      <td>19310.0</td>\n",
       "      <td>144.126359</td>\n",
       "      <td>125.418617</td>\n",
       "      <td>16.0</td>\n",
       "      <td>71.00</td>\n",
       "      <td>101.0</td>\n",
       "      <td>161.00</td>\n",
       "      <td>999.0</td>\n",
       "    </tr>\n",
       "    <tr>\n",
       "      <th>n_rooms</th>\n",
       "      <td>19310.0</td>\n",
       "      <td>3.013361</td>\n",
       "      <td>1.388427</td>\n",
       "      <td>0.0</td>\n",
       "      <td>2.00</td>\n",
       "      <td>3.0</td>\n",
       "      <td>4.00</td>\n",
       "      <td>24.0</td>\n",
       "    </tr>\n",
       "    <tr>\n",
       "      <th>n_bathrooms</th>\n",
       "      <td>19310.0</td>\n",
       "      <td>2.039617</td>\n",
       "      <td>1.271573</td>\n",
       "      <td>1.0</td>\n",
       "      <td>1.00</td>\n",
       "      <td>2.0</td>\n",
       "      <td>2.00</td>\n",
       "      <td>14.0</td>\n",
       "    </tr>\n",
       "    <tr>\n",
       "      <th>is_floor_under</th>\n",
       "      <td>19310.0</td>\n",
       "      <td>0.118747</td>\n",
       "      <td>0.323499</td>\n",
       "      <td>0.0</td>\n",
       "      <td>0.00</td>\n",
       "      <td>0.0</td>\n",
       "      <td>0.00</td>\n",
       "      <td>1.0</td>\n",
       "    </tr>\n",
       "    <tr>\n",
       "      <th>rent_price</th>\n",
       "      <td>19310.0</td>\n",
       "      <td>1573.749995</td>\n",
       "      <td>931.244378</td>\n",
       "      <td>18.0</td>\n",
       "      <td>913.00</td>\n",
       "      <td>1368.0</td>\n",
       "      <td>2073.50</td>\n",
       "      <td>12584.0</td>\n",
       "    </tr>\n",
       "    <tr>\n",
       "      <th>buy_price</th>\n",
       "      <td>19310.0</td>\n",
       "      <td>632592.345106</td>\n",
       "      <td>720196.584637</td>\n",
       "      <td>36000.0</td>\n",
       "      <td>200000.00</td>\n",
       "      <td>380000.0</td>\n",
       "      <td>750000.00</td>\n",
       "      <td>8800000.0</td>\n",
       "    </tr>\n",
       "    <tr>\n",
       "      <th>buy_price_by_area</th>\n",
       "      <td>19310.0</td>\n",
       "      <td>4061.935008</td>\n",
       "      <td>1917.230783</td>\n",
       "      <td>447.0</td>\n",
       "      <td>2586.00</td>\n",
       "      <td>3783.5</td>\n",
       "      <td>5047.00</td>\n",
       "      <td>18889.0</td>\n",
       "    </tr>\n",
       "    <tr>\n",
       "      <th>is_new_development</th>\n",
       "      <td>19310.0</td>\n",
       "      <td>0.060124</td>\n",
       "      <td>0.237723</td>\n",
       "      <td>0.0</td>\n",
       "      <td>0.00</td>\n",
       "      <td>0.0</td>\n",
       "      <td>0.00</td>\n",
       "      <td>1.0</td>\n",
       "    </tr>\n",
       "  </tbody>\n",
       "</table>\n",
       "</div>"
      ],
      "text/plain": [
       "                      count           mean            std      min        25%  \\\n",
       "id                  19310.0   10751.771621    6272.883675      2.0    5347.25   \n",
       "sq_mt_built         19310.0     144.126359     125.418617     16.0      71.00   \n",
       "n_rooms             19310.0       3.013361       1.388427      0.0       2.00   \n",
       "n_bathrooms         19310.0       2.039617       1.271573      1.0       1.00   \n",
       "is_floor_under      19310.0       0.118747       0.323499      0.0       0.00   \n",
       "rent_price          19310.0    1573.749995     931.244378     18.0     913.00   \n",
       "buy_price           19310.0  632592.345106  720196.584637  36000.0  200000.00   \n",
       "buy_price_by_area   19310.0    4061.935008    1917.230783    447.0    2586.00   \n",
       "is_new_development  19310.0       0.060124       0.237723      0.0       0.00   \n",
       "\n",
       "                         50%        75%        max  \n",
       "id                   10575.5   16243.75    21742.0  \n",
       "sq_mt_built            101.0     161.00      999.0  \n",
       "n_rooms                  3.0       4.00       24.0  \n",
       "n_bathrooms              2.0       2.00       14.0  \n",
       "is_floor_under           0.0       0.00        1.0  \n",
       "rent_price            1368.0    2073.50    12584.0  \n",
       "buy_price           380000.0  750000.00  8800000.0  \n",
       "buy_price_by_area     3783.5    5047.00    18889.0  \n",
       "is_new_development       0.0       0.00        1.0  "
      ]
     },
     "execution_count": 9,
     "metadata": {},
     "output_type": "execute_result"
    }
   ],
   "source": [
    "df.describe().transpose() #Principales datos estadísticos del dataframe"
   ]
  },
  {
   "cell_type": "markdown",
   "metadata": {},
   "source": [
    "## 3.2 Visualización"
   ]
  },
  {
   "cell_type": "markdown",
   "metadata": {},
   "source": [
    "### 3.2.1 Plots básicos"
   ]
  },
  {
   "cell_type": "code",
   "execution_count": 11,
   "metadata": {},
   "outputs": [
    {
     "data": {
      "text/plain": [
       "<Axes: xlabel='buy_price', ylabel='Count'>"
      ]
     },
     "execution_count": 11,
     "metadata": {},
     "output_type": "execute_result"
    },
    {
     "data": {
      "image/png": "[encoded data removed]",
      "text/plain": [
       "<Figure size 1200x800 with 1 Axes>"
      ]
     },
     "metadata": {},
     "output_type": "display_data"
    }
   ],
   "source": [
    "plt.figure(figsize=(12,8))\n",
    "sns.histplot(df['buy_price']) #Plantearse descartar outliers para facilitar el entrenamiento de la red neuronal si suponen alta carga computacional o elevado error del modelo"
   ]
  },
  {
   "cell_type": "code",
   "execution_count": 12,
   "metadata": {},
   "outputs": [],
   "source": [
    "#Alternativas a distplot\n",
    "#sns.displot(df['buy_price'], kde=True)\n",
    "#sns.histplot(df['buy_price'], kde=True)"
   ]
  },
  {
   "cell_type": "code",
   "execution_count": 12,
   "metadata": {},
   "outputs": [
    {
     "data": {
      "text/plain": [
       "0        2\n",
       "1        3\n",
       "2        2\n",
       "3        2\n",
       "4        2\n",
       "        ..\n",
       "21736    2\n",
       "21737    2\n",
       "21738    2\n",
       "21739    4\n",
       "21740    4\n",
       "Name: n_rooms, Length: 19310, dtype: int64"
      ]
     },
     "execution_count": 12,
     "metadata": {},
     "output_type": "execute_result"
    }
   ],
   "source": [
    "df['n_rooms']"
   ]
  },
  {
   "cell_type": "code",
   "execution_count": 13,
   "metadata": {},
   "outputs": [
    {
     "data": {
      "text/plain": [
       "<Axes: xlabel='n_rooms', ylabel='count'>"
      ]
     },
     "execution_count": 13,
     "metadata": {},
     "output_type": "execute_result"
    },
    {
     "data": {
      "image/png": "[encoded data removed]",
      "text/plain": [
       "<Figure size 640x480 with 1 Axes>"
      ]
     },
     "metadata": {},
     "output_type": "display_data"
    }
   ],
   "source": [
    "sns.countplot(x='n_rooms', data=df) #versiones recientes"
   ]
  },
  {
   "cell_type": "code",
   "execution_count": 14,
   "metadata": {
    "scrolled": true
   },
   "outputs": [
    {
     "data": {
      "text/plain": [
       "id                        -0.195828\n",
       "is_floor_under            -0.149768\n",
       "is_new_development        -0.013903\n",
       "is_renewal_needed          0.052132\n",
       "is_exact_address_hidden    0.167964\n",
       "has_parking                0.315350\n",
       "n_rooms                    0.578291\n",
       "buy_price_by_area          0.581698\n",
       "n_bathrooms                0.753692\n",
       "sq_mt_built                0.831700\n",
       "rent_price                 0.920350\n",
       "buy_price                  1.000000\n",
       "is_rent_price_known             NaN\n",
       "is_buy_price_known              NaN\n",
       "Name: buy_price, dtype: float64"
      ]
     },
     "execution_count": 14,
     "metadata": {},
     "output_type": "execute_result"
    }
   ],
   "source": [
    "df.corr(numeric_only = True)['buy_price'].sort_values() #Verificar qué variables tienen mayor correlación con la salida\n",
    "#En caso de que haya un error al aplicar el método corr() sobre un dataframe por el hecho de que haya columnas no numéricas (depende de la versión de la librería Pandas), lo más sencillo es aplicar el método con la opción numeric_only=True:\n",
    "#df.corr(numeric_only = True)"
   ]
  },
  {
   "cell_type": "code",
   "execution_count": 16,
   "metadata": {},
   "outputs": [],
   "source": [
    "#Visualizar variables altamente correladas con la salida"
   ]
  },
  {
   "cell_type": "code",
   "execution_count": 15,
   "metadata": {},
   "outputs": [
    {
     "data": {
      "text/plain": [
       "<Axes: xlabel='buy_price', ylabel='sq_mt_built'>"
      ]
     },
     "execution_count": 15,
     "metadata": {},
     "output_type": "execute_result"
    },
    {
     "data": {
      "image/png": "[encoded data removed]",
      "text/plain": [
       "<Figure size 1200x800 with 1 Axes>"
      ]
     },
     "metadata": {},
     "output_type": "display_data"
    }
   ],
   "source": [
    "plt.figure(figsize=(12,8))\n",
    "sns.scatterplot(x='buy_price',y='sq_mt_built',data=df)"
   ]
  },
  {
   "cell_type": "code",
   "execution_count": 17,
   "metadata": {},
   "outputs": [
    {
     "data": {
      "text/plain": [
       "<Axes: xlabel='n_bathrooms', ylabel='buy_price'>"
      ]
     },
     "execution_count": 17,
     "metadata": {},
     "output_type": "execute_result"
    },
    {
     "data": {
      "image/png": "[encoded data removed]",
      "text/plain": [
       "<Figure size 640x480 with 1 Axes>"
      ]
     },
     "metadata": {},
     "output_type": "display_data"
    }
   ],
   "source": [
    "sns.boxplot(x='n_bathrooms',y='buy_price',data=df)"
   ]
  },
  {
   "cell_type": "markdown",
   "metadata": {},
   "source": [
    "### 3.2.2 Plot geográficos"
   ]
  },
  {
   "cell_type": "code",
   "execution_count": 19,
   "metadata": {},
   "outputs": [],
   "source": [
    "# Visualizar la información geográfica si estuviera completa, el ejemplo que hay a continuación proviende de una \n",
    "# fuente de datos alternativa: https://www.kaggle.com/harlfoxem/housesalesprediction"
   ]
  },
  {
   "cell_type": "code",
   "execution_count": 20,
   "metadata": {},
   "outputs": [],
   "source": [
    "#plt.figure(figsize=(12,8))\n",
    "#sns.scatterplot(x='price',y='long',data=df)"
   ]
  },
  {
   "cell_type": "code",
   "execution_count": 21,
   "metadata": {},
   "outputs": [],
   "source": [
    "#plt.figure(figsize=(12,8))\n",
    "#sns.scatterplot(x='price',y='lat',data=df)"
   ]
  },
  {
   "cell_type": "code",
   "execution_count": 22,
   "metadata": {},
   "outputs": [],
   "source": [
    "#plt.figure(figsize=(12,8))\n",
    "#sns.scatterplot(x='long',y='lat',data=df,hue='price') #Representación con poco rango dinámico de colores debido a los outliers"
   ]
  },
  {
   "cell_type": "code",
   "execution_count": 23,
   "metadata": {},
   "outputs": [],
   "source": [
    "#len(df)*(0.01) #número de muestras que sería el 1% de nuestros datos"
   ]
  },
  {
   "cell_type": "code",
   "execution_count": 24,
   "metadata": {},
   "outputs": [],
   "source": [
    "#non_top_1_perc = df.sort_values('price',ascending=False).iloc[216:] #estaríamos quitando el 1% de valores outliers"
   ]
  },
  {
   "cell_type": "code",
   "execution_count": 25,
   "metadata": {},
   "outputs": [],
   "source": [
    "#plt.figure(figsize=(12,8))\n",
    "#sns.scatterplot(x='long',y='lat',\n",
    "#                data=non_top_1_perc,hue='price',\n",
    "#                palette='RdYlGn',edgecolor=None,alpha=0.2) "
   ]
  },
  {
   "cell_type": "markdown",
   "metadata": {},
   "source": [
    "### 3.2.3 Otras variables"
   ]
  },
  {
   "cell_type": "code",
   "execution_count": 18,
   "metadata": {},
   "outputs": [
    {
     "data": {
      "text/plain": [
       "<Axes: xlabel='has_parking', ylabel='buy_price'>"
      ]
     },
     "execution_count": 18,
     "metadata": {},
     "output_type": "execute_result"
    },
    {
     "data": {
      "image/png": "[encoded data removed]",
      "text/plain": [
       "<Figure size 640x480 with 1 Axes>"
      ]
     },
     "metadata": {},
     "output_type": "display_data"
    }
   ],
   "source": [
    "sns.boxplot(x='has_parking',y='buy_price',data=df)"
   ]
  },
  {
   "cell_type": "markdown",
   "metadata": {},
   "source": [
    "## 3.3 Limpieza final"
   ]
  },
  {
   "cell_type": "markdown",
   "metadata": {},
   "source": [
    "### 3.3.1 Eliminar columnas no correladas"
   ]
  },
  {
   "cell_type": "code",
   "execution_count": 27,
   "metadata": {},
   "outputs": [],
   "source": [
    "# Objetivo: Eliminar variables que no tienen ninguna relación con la variable objetivo (precio) \n",
    "# o bien su información ya está incluida en otras variables - Aprovechar conocimiento del campo que estamos tratando"
   ]
  },
  {
   "cell_type": "code",
   "execution_count": 28,
   "metadata": {},
   "outputs": [
    {
     "data": {
      "text/html": [
       "<div>\n",
       "<style scoped>\n",
       "    .dataframe tbody tr th:only-of-type {\n",
       "        vertical-align: middle;\n",
       "    }\n",
       "\n",
       "    .dataframe tbody tr th {\n",
       "        vertical-align: top;\n",
       "    }\n",
       "\n",
       "    .dataframe thead th {\n",
       "        text-align: right;\n",
       "    }\n",
       "</style>\n",
       "<table border=\"1\" class=\"dataframe\">\n",
       "  <thead>\n",
       "    <tr style=\"text-align: right;\">\n",
       "      <th></th>\n",
       "      <th>id</th>\n",
       "      <th>title</th>\n",
       "      <th>subtitle</th>\n",
       "      <th>sq_mt_built</th>\n",
       "      <th>n_rooms</th>\n",
       "      <th>n_bathrooms</th>\n",
       "      <th>is_exact_address_hidden</th>\n",
       "      <th>is_floor_under</th>\n",
       "      <th>neighborhood_id</th>\n",
       "      <th>operation</th>\n",
       "      <th>rent_price</th>\n",
       "      <th>is_rent_price_known</th>\n",
       "      <th>buy_price</th>\n",
       "      <th>buy_price_by_area</th>\n",
       "      <th>is_buy_price_known</th>\n",
       "      <th>house_type_id</th>\n",
       "      <th>is_renewal_needed</th>\n",
       "      <th>is_new_development</th>\n",
       "      <th>energy_certificate</th>\n",
       "      <th>has_parking</th>\n",
       "    </tr>\n",
       "  </thead>\n",
       "  <tbody>\n",
       "    <tr>\n",
       "      <th>0</th>\n",
       "      <td>21742</td>\n",
       "      <td>Piso en venta en calle de Godella, 64</td>\n",
       "      <td>San CristÃ³bal, Madrid</td>\n",
       "      <td>64.0</td>\n",
       "      <td>2</td>\n",
       "      <td>1.0</td>\n",
       "      <td>False</td>\n",
       "      <td>0.0</td>\n",
       "      <td>Neighborhood 135: San CristÃ³bal (1308.89 â‚¬/...</td>\n",
       "      <td>sale</td>\n",
       "      <td>471.0</td>\n",
       "      <td>False</td>\n",
       "      <td>85000</td>\n",
       "      <td>1328</td>\n",
       "      <td>True</td>\n",
       "      <td>HouseType 1: Pisos</td>\n",
       "      <td>False</td>\n",
       "      <td>0.0</td>\n",
       "      <td>D</td>\n",
       "      <td>False</td>\n",
       "    </tr>\n",
       "    <tr>\n",
       "      <th>1</th>\n",
       "      <td>21741</td>\n",
       "      <td>Piso en venta en calle de la del Manojo de Rosas</td>\n",
       "      <td>Los Ãngeles, Madrid</td>\n",
       "      <td>70.0</td>\n",
       "      <td>3</td>\n",
       "      <td>1.0</td>\n",
       "      <td>True</td>\n",
       "      <td>0.0</td>\n",
       "      <td>Neighborhood 132: Los Ãngeles (1796.68 â‚¬/m2...</td>\n",
       "      <td>sale</td>\n",
       "      <td>666.0</td>\n",
       "      <td>False</td>\n",
       "      <td>129900</td>\n",
       "      <td>1856</td>\n",
       "      <td>True</td>\n",
       "      <td>HouseType 1: Pisos</td>\n",
       "      <td>True</td>\n",
       "      <td>0.0</td>\n",
       "      <td>en trÃ¡mite</td>\n",
       "      <td>False</td>\n",
       "    </tr>\n",
       "    <tr>\n",
       "      <th>2</th>\n",
       "      <td>21740</td>\n",
       "      <td>Piso en venta en calle del Talco, 68</td>\n",
       "      <td>San AndrÃ©s, Madrid</td>\n",
       "      <td>94.0</td>\n",
       "      <td>2</td>\n",
       "      <td>2.0</td>\n",
       "      <td>False</td>\n",
       "      <td>0.0</td>\n",
       "      <td>Neighborhood 134: San AndrÃ©s (1617.18 â‚¬/m2)...</td>\n",
       "      <td>sale</td>\n",
       "      <td>722.0</td>\n",
       "      <td>False</td>\n",
       "      <td>144247</td>\n",
       "      <td>1535</td>\n",
       "      <td>True</td>\n",
       "      <td>HouseType 1: Pisos</td>\n",
       "      <td>False</td>\n",
       "      <td>0.0</td>\n",
       "      <td>no indicado</td>\n",
       "      <td>False</td>\n",
       "    </tr>\n",
       "    <tr>\n",
       "      <th>3</th>\n",
       "      <td>21739</td>\n",
       "      <td>Piso en venta en calle Pedro JimÃ©nez</td>\n",
       "      <td>San AndrÃ©s, Madrid</td>\n",
       "      <td>64.0</td>\n",
       "      <td>2</td>\n",
       "      <td>1.0</td>\n",
       "      <td>True</td>\n",
       "      <td>1.0</td>\n",
       "      <td>Neighborhood 134: San AndrÃ©s (1617.18 â‚¬/m2)...</td>\n",
       "      <td>sale</td>\n",
       "      <td>583.0</td>\n",
       "      <td>False</td>\n",
       "      <td>109900</td>\n",
       "      <td>1717</td>\n",
       "      <td>True</td>\n",
       "      <td>HouseType 1: Pisos</td>\n",
       "      <td>False</td>\n",
       "      <td>0.0</td>\n",
       "      <td>en trÃ¡mite</td>\n",
       "      <td>False</td>\n",
       "    </tr>\n",
       "    <tr>\n",
       "      <th>4</th>\n",
       "      <td>21738</td>\n",
       "      <td>Piso en venta en carretera de Villaverde a Val...</td>\n",
       "      <td>Los Rosales, Madrid</td>\n",
       "      <td>108.0</td>\n",
       "      <td>2</td>\n",
       "      <td>2.0</td>\n",
       "      <td>True</td>\n",
       "      <td>0.0</td>\n",
       "      <td>Neighborhood 133: Los Rosales (1827.79 â‚¬/m2)...</td>\n",
       "      <td>sale</td>\n",
       "      <td>1094.0</td>\n",
       "      <td>False</td>\n",
       "      <td>260000</td>\n",
       "      <td>2407</td>\n",
       "      <td>True</td>\n",
       "      <td>HouseType 1: Pisos</td>\n",
       "      <td>False</td>\n",
       "      <td>0.0</td>\n",
       "      <td>en trÃ¡mite</td>\n",
       "      <td>True</td>\n",
       "    </tr>\n",
       "  </tbody>\n",
       "</table>\n",
       "</div>"
      ],
      "text/plain": [
       "      id                                              title  \\\n",
       "0  21742              Piso en venta en calle de Godella, 64   \n",
       "1  21741   Piso en venta en calle de la del Manojo de Rosas   \n",
       "2  21740               Piso en venta en calle del Talco, 68   \n",
       "3  21739              Piso en venta en calle Pedro JimÃ©nez   \n",
       "4  21738  Piso en venta en carretera de Villaverde a Val...   \n",
       "\n",
       "                 subtitle  sq_mt_built  n_rooms  n_bathrooms  \\\n",
       "0  San CristÃ³bal, Madrid         64.0        2          1.0   \n",
       "1    Los Ãngeles, Madrid         70.0        3          1.0   \n",
       "2     San AndrÃ©s, Madrid         94.0        2          2.0   \n",
       "3     San AndrÃ©s, Madrid         64.0        2          1.0   \n",
       "4     Los Rosales, Madrid        108.0        2          2.0   \n",
       "\n",
       "   is_exact_address_hidden  is_floor_under  \\\n",
       "0                    False             0.0   \n",
       "1                     True             0.0   \n",
       "2                    False             0.0   \n",
       "3                     True             1.0   \n",
       "4                     True             0.0   \n",
       "\n",
       "                                     neighborhood_id operation  rent_price  \\\n",
       "0  Neighborhood 135: San CristÃ³bal (1308.89 â‚¬/...      sale       471.0   \n",
       "1  Neighborhood 132: Los Ãngeles (1796.68 â‚¬/m2...      sale       666.0   \n",
       "2  Neighborhood 134: San AndrÃ©s (1617.18 â‚¬/m2)...      sale       722.0   \n",
       "3  Neighborhood 134: San AndrÃ©s (1617.18 â‚¬/m2)...      sale       583.0   \n",
       "4  Neighborhood 133: Los Rosales (1827.79 â‚¬/m2)...      sale      1094.0   \n",
       "\n",
       "   is_rent_price_known  buy_price  buy_price_by_area  is_buy_price_known  \\\n",
       "0                False      85000               1328                True   \n",
       "1                False     129900               1856                True   \n",
       "2                False     144247               1535                True   \n",
       "3                False     109900               1717                True   \n",
       "4                False     260000               2407                True   \n",
       "\n",
       "        house_type_id  is_renewal_needed  is_new_development  \\\n",
       "0  HouseType 1: Pisos              False                 0.0   \n",
       "1  HouseType 1: Pisos               True                 0.0   \n",
       "2  HouseType 1: Pisos              False                 0.0   \n",
       "3  HouseType 1: Pisos              False                 0.0   \n",
       "4  HouseType 1: Pisos              False                 0.0   \n",
       "\n",
       "  energy_certificate  has_parking  \n",
       "0                  D        False  \n",
       "1        en trÃ¡mite        False  \n",
       "2        no indicado        False  \n",
       "3        en trÃ¡mite        False  \n",
       "4        en trÃ¡mite         True  "
      ]
     },
     "execution_count": 28,
     "metadata": {},
     "output_type": "execute_result"
    }
   ],
   "source": [
    "df.head()"
   ]
  },
  {
   "cell_type": "code",
   "execution_count": 29,
   "metadata": {},
   "outputs": [
    {
     "name": "stdout",
     "output_type": "stream",
     "text": [
      "<class 'pandas.core.frame.DataFrame'>\n",
      "Int64Index: 19310 entries, 0 to 21740\n",
      "Data columns (total 20 columns):\n",
      " #   Column                   Non-Null Count  Dtype  \n",
      "---  ------                   --------------  -----  \n",
      " 0   id                       19310 non-null  int64  \n",
      " 1   title                    19310 non-null  object \n",
      " 2   subtitle                 19310 non-null  object \n",
      " 3   sq_mt_built              19310 non-null  float64\n",
      " 4   n_rooms                  19310 non-null  int64  \n",
      " 5   n_bathrooms              19310 non-null  float64\n",
      " 6   is_exact_address_hidden  19310 non-null  bool   \n",
      " 7   is_floor_under           19310 non-null  float64\n",
      " 8   neighborhood_id          19310 non-null  object \n",
      " 9   operation                19310 non-null  object \n",
      " 10  rent_price               19310 non-null  float64\n",
      " 11  is_rent_price_known      19310 non-null  bool   \n",
      " 12  buy_price                19310 non-null  int64  \n",
      " 13  buy_price_by_area        19310 non-null  int64  \n",
      " 14  is_buy_price_known       19310 non-null  bool   \n",
      " 15  house_type_id            19310 non-null  object \n",
      " 16  is_renewal_needed        19310 non-null  bool   \n",
      " 17  is_new_development       19310 non-null  float64\n",
      " 18  energy_certificate       19310 non-null  object \n",
      " 19  has_parking              19310 non-null  bool   \n",
      "dtypes: bool(5), float64(5), int64(4), object(6)\n",
      "memory usage: 3.1+ MB\n"
     ]
    }
   ],
   "source": [
    "df.info()"
   ]
  },
  {
   "cell_type": "code",
   "execution_count": 19,
   "metadata": {},
   "outputs": [],
   "source": [
    "df = df.drop(['id','title','subtitle','is_exact_address_hidden','is_renewal_needed','neighborhood_id','operation','is_rent_price_known','is_buy_price_known','buy_price_by_area','is_buy_price_known','house_type_id','energy_certificate'],axis=1)"
   ]
  },
  {
   "cell_type": "code",
   "execution_count": 20,
   "metadata": {},
   "outputs": [
    {
     "data": {
      "text/html": [
       "<div>\n",
       "<style scoped>\n",
       "    .dataframe tbody tr th:only-of-type {\n",
       "        vertical-align: middle;\n",
       "    }\n",
       "\n",
       "    .dataframe tbody tr th {\n",
       "        vertical-align: top;\n",
       "    }\n",
       "\n",
       "    .dataframe thead th {\n",
       "        text-align: right;\n",
       "    }\n",
       "</style>\n",
       "<table border=\"1\" class=\"dataframe\">\n",
       "  <thead>\n",
       "    <tr style=\"text-align: right;\">\n",
       "      <th></th>\n",
       "      <th>sq_mt_built</th>\n",
       "      <th>n_rooms</th>\n",
       "      <th>n_bathrooms</th>\n",
       "      <th>is_floor_under</th>\n",
       "      <th>rent_price</th>\n",
       "      <th>buy_price</th>\n",
       "      <th>is_new_development</th>\n",
       "      <th>has_parking</th>\n",
       "    </tr>\n",
       "  </thead>\n",
       "  <tbody>\n",
       "    <tr>\n",
       "      <th>0</th>\n",
       "      <td>64.0</td>\n",
       "      <td>2</td>\n",
       "      <td>1.0</td>\n",
       "      <td>0.0</td>\n",
       "      <td>471.0</td>\n",
       "      <td>85000</td>\n",
       "      <td>0.0</td>\n",
       "      <td>False</td>\n",
       "    </tr>\n",
       "    <tr>\n",
       "      <th>1</th>\n",
       "      <td>70.0</td>\n",
       "      <td>3</td>\n",
       "      <td>1.0</td>\n",
       "      <td>0.0</td>\n",
       "      <td>666.0</td>\n",
       "      <td>129900</td>\n",
       "      <td>0.0</td>\n",
       "      <td>False</td>\n",
       "    </tr>\n",
       "    <tr>\n",
       "      <th>2</th>\n",
       "      <td>94.0</td>\n",
       "      <td>2</td>\n",
       "      <td>2.0</td>\n",
       "      <td>0.0</td>\n",
       "      <td>722.0</td>\n",
       "      <td>144247</td>\n",
       "      <td>0.0</td>\n",
       "      <td>False</td>\n",
       "    </tr>\n",
       "    <tr>\n",
       "      <th>3</th>\n",
       "      <td>64.0</td>\n",
       "      <td>2</td>\n",
       "      <td>1.0</td>\n",
       "      <td>1.0</td>\n",
       "      <td>583.0</td>\n",
       "      <td>109900</td>\n",
       "      <td>0.0</td>\n",
       "      <td>False</td>\n",
       "    </tr>\n",
       "    <tr>\n",
       "      <th>4</th>\n",
       "      <td>108.0</td>\n",
       "      <td>2</td>\n",
       "      <td>2.0</td>\n",
       "      <td>0.0</td>\n",
       "      <td>1094.0</td>\n",
       "      <td>260000</td>\n",
       "      <td>0.0</td>\n",
       "      <td>True</td>\n",
       "    </tr>\n",
       "  </tbody>\n",
       "</table>\n",
       "</div>"
      ],
      "text/plain": [
       "   sq_mt_built  n_rooms  n_bathrooms  is_floor_under  rent_price  buy_price  \\\n",
       "0         64.0        2          1.0             0.0       471.0      85000   \n",
       "1         70.0        3          1.0             0.0       666.0     129900   \n",
       "2         94.0        2          2.0             0.0       722.0     144247   \n",
       "3         64.0        2          1.0             1.0       583.0     109900   \n",
       "4        108.0        2          2.0             0.0      1094.0     260000   \n",
       "\n",
       "   is_new_development  has_parking  \n",
       "0                 0.0        False  \n",
       "1                 0.0        False  \n",
       "2                 0.0        False  \n",
       "3                 0.0        False  \n",
       "4                 0.0         True  "
      ]
     },
     "execution_count": 20,
     "metadata": {},
     "output_type": "execute_result"
    }
   ],
   "source": [
    "df.head()"
   ]
  },
  {
   "cell_type": "markdown",
   "metadata": {},
   "source": [
    "### 3.3.2 Limpieza temporal"
   ]
  },
  {
   "cell_type": "code",
   "execution_count": 32,
   "metadata": {},
   "outputs": [],
   "source": [
    "#Importante visualizar la evolución temporal (si ha habido un importante cambio, quedarse con \n",
    "#la porción de datos que corresponde a la situación actual para mejorar la futura predicción)\n",
    "#El ejemplo que hay a continuación proviende de una fuente de datos alternativa: https://www.kaggle.com/harlfoxem/housesalesprediction"
   ]
  },
  {
   "cell_type": "code",
   "execution_count": 33,
   "metadata": {},
   "outputs": [],
   "source": [
    "#df['date'] = pd.to_datetime(df['date'])"
   ]
  },
  {
   "cell_type": "code",
   "execution_count": 34,
   "metadata": {},
   "outputs": [],
   "source": [
    "#df['month'] = df['date'].apply(lambda date:date.month)"
   ]
  },
  {
   "cell_type": "code",
   "execution_count": 35,
   "metadata": {},
   "outputs": [],
   "source": [
    "#df['year'] = df['date'].apply(lambda date:date.year)"
   ]
  },
  {
   "cell_type": "code",
   "execution_count": 36,
   "metadata": {},
   "outputs": [],
   "source": [
    "#sns.boxplot(x='year',y='price',data=df)"
   ]
  },
  {
   "cell_type": "code",
   "execution_count": 37,
   "metadata": {},
   "outputs": [],
   "source": [
    "#sns.boxplot(x='month',y='price',data=df)"
   ]
  },
  {
   "cell_type": "code",
   "execution_count": 38,
   "metadata": {},
   "outputs": [],
   "source": [
    "#df.groupby('month').mean()['price'].plot()"
   ]
  },
  {
   "cell_type": "code",
   "execution_count": 39,
   "metadata": {},
   "outputs": [],
   "source": [
    "#df.groupby('year').mean()['price'].plot()"
   ]
  },
  {
   "cell_type": "code",
   "execution_count": 40,
   "metadata": {},
   "outputs": [],
   "source": [
    "#df = df.drop('date',axis=1) #La fecha no será una variable útil para el modelo"
   ]
  },
  {
   "cell_type": "code",
   "execution_count": 41,
   "metadata": {},
   "outputs": [],
   "source": [
    "#df['sqft_basement'].value_counts()"
   ]
  },
  {
   "cell_type": "markdown",
   "metadata": {},
   "source": [
    "### 3.3.3 Transformación variables categóricas"
   ]
  },
  {
   "cell_type": "code",
   "execution_count": 42,
   "metadata": {},
   "outputs": [
    {
     "data": {
      "text/html": [
       "<div>\n",
       "<style scoped>\n",
       "    .dataframe tbody tr th:only-of-type {\n",
       "        vertical-align: middle;\n",
       "    }\n",
       "\n",
       "    .dataframe tbody tr th {\n",
       "        vertical-align: top;\n",
       "    }\n",
       "\n",
       "    .dataframe thead th {\n",
       "        text-align: right;\n",
       "    }\n",
       "</style>\n",
       "<table border=\"1\" class=\"dataframe\">\n",
       "  <thead>\n",
       "    <tr style=\"text-align: right;\">\n",
       "      <th></th>\n",
       "      <th>sq_mt_built</th>\n",
       "      <th>n_rooms</th>\n",
       "      <th>n_bathrooms</th>\n",
       "      <th>is_floor_under</th>\n",
       "      <th>rent_price</th>\n",
       "      <th>buy_price</th>\n",
       "      <th>is_new_development</th>\n",
       "      <th>has_parking</th>\n",
       "    </tr>\n",
       "  </thead>\n",
       "  <tbody>\n",
       "    <tr>\n",
       "      <th>0</th>\n",
       "      <td>64.0</td>\n",
       "      <td>2</td>\n",
       "      <td>1.0</td>\n",
       "      <td>0.0</td>\n",
       "      <td>471.0</td>\n",
       "      <td>85000</td>\n",
       "      <td>0.0</td>\n",
       "      <td>False</td>\n",
       "    </tr>\n",
       "    <tr>\n",
       "      <th>1</th>\n",
       "      <td>70.0</td>\n",
       "      <td>3</td>\n",
       "      <td>1.0</td>\n",
       "      <td>0.0</td>\n",
       "      <td>666.0</td>\n",
       "      <td>129900</td>\n",
       "      <td>0.0</td>\n",
       "      <td>False</td>\n",
       "    </tr>\n",
       "    <tr>\n",
       "      <th>2</th>\n",
       "      <td>94.0</td>\n",
       "      <td>2</td>\n",
       "      <td>2.0</td>\n",
       "      <td>0.0</td>\n",
       "      <td>722.0</td>\n",
       "      <td>144247</td>\n",
       "      <td>0.0</td>\n",
       "      <td>False</td>\n",
       "    </tr>\n",
       "    <tr>\n",
       "      <th>3</th>\n",
       "      <td>64.0</td>\n",
       "      <td>2</td>\n",
       "      <td>1.0</td>\n",
       "      <td>1.0</td>\n",
       "      <td>583.0</td>\n",
       "      <td>109900</td>\n",
       "      <td>0.0</td>\n",
       "      <td>False</td>\n",
       "    </tr>\n",
       "    <tr>\n",
       "      <th>4</th>\n",
       "      <td>108.0</td>\n",
       "      <td>2</td>\n",
       "      <td>2.0</td>\n",
       "      <td>0.0</td>\n",
       "      <td>1094.0</td>\n",
       "      <td>260000</td>\n",
       "      <td>0.0</td>\n",
       "      <td>True</td>\n",
       "    </tr>\n",
       "  </tbody>\n",
       "</table>\n",
       "</div>"
      ],
      "text/plain": [
       "   sq_mt_built  n_rooms  n_bathrooms  is_floor_under  rent_price  buy_price  \\\n",
       "0         64.0        2          1.0             0.0       471.0      85000   \n",
       "1         70.0        3          1.0             0.0       666.0     129900   \n",
       "2         94.0        2          2.0             0.0       722.0     144247   \n",
       "3         64.0        2          1.0             1.0       583.0     109900   \n",
       "4        108.0        2          2.0             0.0      1094.0     260000   \n",
       "\n",
       "   is_new_development  has_parking  \n",
       "0                 0.0        False  \n",
       "1                 0.0        False  \n",
       "2                 0.0        False  \n",
       "3                 0.0        False  \n",
       "4                 0.0         True  "
      ]
     },
     "execution_count": 42,
     "metadata": {},
     "output_type": "execute_result"
    }
   ],
   "source": [
    "df.head()"
   ]
  },
  {
   "cell_type": "code",
   "execution_count": 43,
   "metadata": {},
   "outputs": [],
   "source": [
    "#Utilizar OneHotEncoder si variables categóricas (se obtiene una columna por cada categoría asignando 0 o 1) / Las variables booleanas no es necesario convertirlas True = 1 / False = 0\n",
    "#from sklearn.preprocessing import OneHotEncoder\n",
    "#oe_style = OneHotEncoder()\n",
    "#oe_results = oe_style.fit_transform(df[[\"body_style\"]]) #body_style sería la variable categórica\n",
    "#pd.DataFrame(oe_results.toarray(), columns=oe_style.categories_).head()\n",
    "#df = df.join(pd.DataFrame(oe_results.toarray(), columns=oe_style.categories_))"
   ]
  },
  {
   "cell_type": "markdown",
   "metadata": {},
   "source": [
    "# 4.Train Test Split"
   ]
  },
  {
   "cell_type": "code",
   "execution_count": 21,
   "metadata": {},
   "outputs": [],
   "source": [
    "X = df.drop('buy_price',axis=1)\n",
    "y = df['buy_price']"
   ]
  },
  {
   "cell_type": "code",
   "execution_count": 22,
   "metadata": {},
   "outputs": [],
   "source": [
    "from sklearn.model_selection import train_test_split"
   ]
  },
  {
   "cell_type": "code",
   "execution_count": 23,
   "metadata": {},
   "outputs": [],
   "source": [
    "X_train, X_test, y_train, y_test = train_test_split(X,y,test_size=0.2,random_state=101)"
   ]
  },
  {
   "cell_type": "code",
   "execution_count": 24,
   "metadata": {},
   "outputs": [
    {
     "data": {
      "text/plain": [
       "(15448, 7)"
      ]
     },
     "execution_count": 24,
     "metadata": {},
     "output_type": "execute_result"
    }
   ],
   "source": [
    "X_train.shape"
   ]
  },
  {
   "cell_type": "code",
   "execution_count": 25,
   "metadata": {},
   "outputs": [
    {
     "data": {
      "text/plain": [
       "(3862, 7)"
      ]
     },
     "execution_count": 25,
     "metadata": {},
     "output_type": "execute_result"
    }
   ],
   "source": [
    "X_test.shape"
   ]
  },
  {
   "cell_type": "markdown",
   "metadata": {},
   "source": [
    "# 5.Escalado"
   ]
  },
  {
   "cell_type": "code",
   "execution_count": 26,
   "metadata": {},
   "outputs": [],
   "source": [
    "from sklearn.preprocessing import MinMaxScaler"
   ]
  },
  {
   "cell_type": "code",
   "execution_count": 27,
   "metadata": {},
   "outputs": [],
   "source": [
    "scaler = MinMaxScaler()"
   ]
  },
  {
   "cell_type": "code",
   "execution_count": 28,
   "metadata": {},
   "outputs": [
    {
     "data": {
      "text/html": [
       "<div>\n",
       "<style scoped>\n",
       "    .dataframe tbody tr th:only-of-type {\n",
       "        vertical-align: middle;\n",
       "    }\n",
       "\n",
       "    .dataframe tbody tr th {\n",
       "        vertical-align: top;\n",
       "    }\n",
       "\n",
       "    .dataframe thead th {\n",
       "        text-align: right;\n",
       "    }\n",
       "</style>\n",
       "<table border=\"1\" class=\"dataframe\">\n",
       "  <thead>\n",
       "    <tr style=\"text-align: right;\">\n",
       "      <th></th>\n",
       "      <th>sq_mt_built</th>\n",
       "      <th>n_rooms</th>\n",
       "      <th>n_bathrooms</th>\n",
       "      <th>is_floor_under</th>\n",
       "      <th>rent_price</th>\n",
       "      <th>is_new_development</th>\n",
       "      <th>has_parking</th>\n",
       "    </tr>\n",
       "  </thead>\n",
       "  <tbody>\n",
       "    <tr>\n",
       "      <th>2160</th>\n",
       "      <td>87.0</td>\n",
       "      <td>2</td>\n",
       "      <td>1.0</td>\n",
       "      <td>0.0</td>\n",
       "      <td>913.0</td>\n",
       "      <td>0.0</td>\n",
       "      <td>False</td>\n",
       "    </tr>\n",
       "    <tr>\n",
       "      <th>13201</th>\n",
       "      <td>150.0</td>\n",
       "      <td>2</td>\n",
       "      <td>2.0</td>\n",
       "      <td>1.0</td>\n",
       "      <td>1839.0</td>\n",
       "      <td>0.0</td>\n",
       "      <td>True</td>\n",
       "    </tr>\n",
       "    <tr>\n",
       "      <th>14224</th>\n",
       "      <td>682.0</td>\n",
       "      <td>24</td>\n",
       "      <td>4.0</td>\n",
       "      <td>0.0</td>\n",
       "      <td>6864.0</td>\n",
       "      <td>0.0</td>\n",
       "      <td>False</td>\n",
       "    </tr>\n",
       "    <tr>\n",
       "      <th>17339</th>\n",
       "      <td>154.0</td>\n",
       "      <td>5</td>\n",
       "      <td>5.0</td>\n",
       "      <td>0.0</td>\n",
       "      <td>2510.0</td>\n",
       "      <td>0.0</td>\n",
       "      <td>False</td>\n",
       "    </tr>\n",
       "    <tr>\n",
       "      <th>5298</th>\n",
       "      <td>70.0</td>\n",
       "      <td>3</td>\n",
       "      <td>1.0</td>\n",
       "      <td>0.0</td>\n",
       "      <td>621.0</td>\n",
       "      <td>0.0</td>\n",
       "      <td>False</td>\n",
       "    </tr>\n",
       "    <tr>\n",
       "      <th>...</th>\n",
       "      <td>...</td>\n",
       "      <td>...</td>\n",
       "      <td>...</td>\n",
       "      <td>...</td>\n",
       "      <td>...</td>\n",
       "      <td>...</td>\n",
       "      <td>...</td>\n",
       "    </tr>\n",
       "    <tr>\n",
       "      <th>6473</th>\n",
       "      <td>67.0</td>\n",
       "      <td>2</td>\n",
       "      <td>1.0</td>\n",
       "      <td>0.0</td>\n",
       "      <td>762.0</td>\n",
       "      <td>0.0</td>\n",
       "      <td>False</td>\n",
       "    </tr>\n",
       "    <tr>\n",
       "      <th>9240</th>\n",
       "      <td>146.0</td>\n",
       "      <td>3</td>\n",
       "      <td>2.0</td>\n",
       "      <td>0.0</td>\n",
       "      <td>2070.0</td>\n",
       "      <td>1.0</td>\n",
       "      <td>True</td>\n",
       "    </tr>\n",
       "    <tr>\n",
       "      <th>19993</th>\n",
       "      <td>104.0</td>\n",
       "      <td>2</td>\n",
       "      <td>1.0</td>\n",
       "      <td>0.0</td>\n",
       "      <td>1890.0</td>\n",
       "      <td>0.0</td>\n",
       "      <td>False</td>\n",
       "    </tr>\n",
       "    <tr>\n",
       "      <th>20197</th>\n",
       "      <td>85.0</td>\n",
       "      <td>2</td>\n",
       "      <td>2.0</td>\n",
       "      <td>0.0</td>\n",
       "      <td>1197.0</td>\n",
       "      <td>0.0</td>\n",
       "      <td>False</td>\n",
       "    </tr>\n",
       "    <tr>\n",
       "      <th>14945</th>\n",
       "      <td>116.0</td>\n",
       "      <td>2</td>\n",
       "      <td>2.0</td>\n",
       "      <td>0.0</td>\n",
       "      <td>2285.0</td>\n",
       "      <td>0.0</td>\n",
       "      <td>False</td>\n",
       "    </tr>\n",
       "  </tbody>\n",
       "</table>\n",
       "<p>15448 rows × 7 columns</p>\n",
       "</div>"
      ],
      "text/plain": [
       "       sq_mt_built  n_rooms  n_bathrooms  is_floor_under  rent_price  \\\n",
       "2160          87.0        2          1.0             0.0       913.0   \n",
       "13201        150.0        2          2.0             1.0      1839.0   \n",
       "14224        682.0       24          4.0             0.0      6864.0   \n",
       "17339        154.0        5          5.0             0.0      2510.0   \n",
       "5298          70.0        3          1.0             0.0       621.0   \n",
       "...            ...      ...          ...             ...         ...   \n",
       "6473          67.0        2          1.0             0.0       762.0   \n",
       "9240         146.0        3          2.0             0.0      2070.0   \n",
       "19993        104.0        2          1.0             0.0      1890.0   \n",
       "20197         85.0        2          2.0             0.0      1197.0   \n",
       "14945        116.0        2          2.0             0.0      2285.0   \n",
       "\n",
       "       is_new_development  has_parking  \n",
       "2160                  0.0        False  \n",
       "13201                 0.0         True  \n",
       "14224                 0.0        False  \n",
       "17339                 0.0        False  \n",
       "5298                  0.0        False  \n",
       "...                   ...          ...  \n",
       "6473                  0.0        False  \n",
       "9240                  1.0         True  \n",
       "19993                 0.0        False  \n",
       "20197                 0.0        False  \n",
       "14945                 0.0        False  \n",
       "\n",
       "[15448 rows x 7 columns]"
      ]
     },
     "execution_count": 28,
     "metadata": {},
     "output_type": "execute_result"
    }
   ],
   "source": [
    "X_train"
   ]
  },
  {
   "cell_type": "code",
   "execution_count": 29,
   "metadata": {},
   "outputs": [],
   "source": [
    "X_train= scaler.fit_transform(X_train)"
   ]
  },
  {
   "cell_type": "code",
   "execution_count": 30,
   "metadata": {},
   "outputs": [
    {
     "data": {
      "text/plain": [
       "array([[0.07230143, 0.08333333, 0.        , ..., 0.07122394, 0.        ,\n",
       "        0.        ],\n",
       "       [0.13645621, 0.08333333, 0.07692308, ..., 0.14491485, 0.        ,\n",
       "        1.        ],\n",
       "       [0.67820774, 1.        , 0.23076923, ..., 0.54480344, 0.        ,\n",
       "        0.        ],\n",
       "       ...,\n",
       "       [0.08961303, 0.08333333, 0.        , ..., 0.14897342, 0.        ,\n",
       "        0.        ],\n",
       "       [0.07026477, 0.08333333, 0.07692308, ..., 0.09382461, 0.        ,\n",
       "        0.        ],\n",
       "       [0.10183299, 0.08333333, 0.07692308, ..., 0.18040745, 0.        ,\n",
       "        0.        ]])"
      ]
     },
     "execution_count": 30,
     "metadata": {},
     "output_type": "execute_result"
    }
   ],
   "source": [
    "X_train"
   ]
  },
  {
   "cell_type": "code",
   "execution_count": 31,
   "metadata": {},
   "outputs": [],
   "source": [
    "X_test = scaler.transform(X_test)"
   ]
  },
  {
   "cell_type": "code",
   "execution_count": 32,
   "metadata": {},
   "outputs": [
    {
     "data": {
      "text/plain": [
       "(15448, 7)"
      ]
     },
     "execution_count": 32,
     "metadata": {},
     "output_type": "execute_result"
    }
   ],
   "source": [
    "X_train.shape"
   ]
  },
  {
   "cell_type": "code",
   "execution_count": 33,
   "metadata": {},
   "outputs": [
    {
     "data": {
      "text/plain": [
       "(3862, 7)"
      ]
     },
     "execution_count": 33,
     "metadata": {},
     "output_type": "execute_result"
    }
   ],
   "source": [
    "X_test.shape"
   ]
  },
  {
   "cell_type": "markdown",
   "metadata": {},
   "source": [
    "# 6.Creación del modelo"
   ]
  },
  {
   "cell_type": "code",
   "execution_count": 34,
   "metadata": {},
   "outputs": [],
   "source": [
    "from tensorflow.keras.models import Sequential\n",
    "from tensorflow.keras.layers import Dense, Activation\n",
    "from tensorflow.keras.optimizers import Adam"
   ]
  },
  {
   "cell_type": "code",
   "execution_count": 35,
   "metadata": {},
   "outputs": [],
   "source": [
    "model = Sequential()\n",
    "#Añadir un número de neuronas similar al número de features en X_train - 7 en el ejemplo\n",
    "num_neuronas = X_train.shape[1]\n",
    "model.add(Dense(num_neuronas,activation='relu'))\n",
    "model.add(Dense(num_neuronas,activation='relu'))\n",
    "model.add(Dense(num_neuronas,activation='relu'))\n",
    "model.add(Dense(num_neuronas,activation='relu'))\n",
    "model.add(Dense(1)) # Indicar tantas neuronas de salida como variables a predecir, en este caso solo 1 variable \"buy_price\"\n",
    "\n",
    "model.compile(optimizer='adam',loss='mse')"
   ]
  },
  {
   "cell_type": "markdown",
   "metadata": {},
   "source": [
    "# 7. Entrenamiento del modelo"
   ]
  },
  {
   "cell_type": "code",
   "execution_count": 36,
   "metadata": {},
   "outputs": [
    {
     "name": "stdout",
     "output_type": "stream",
     "text": [
      "Epoch 1/200\n",
      "\u001b[1m121/121\u001b[0m \u001b[32m━━━━━━━━━━━━━━━━━━━━\u001b[0m\u001b[37m\u001b[0m \u001b[1m1s\u001b[0m 2ms/step - loss: 935847002112.0000 - val_loss: 850747457536.0000\n",
      "Epoch 2/200\n",
      "\u001b[1m121/121\u001b[0m \u001b[32m━━━━━━━━━━━━━━━━━━━━\u001b[0m\u001b[37m\u001b[0m \u001b[1m0s\u001b[0m 1ms/step - loss: 935822622720.0000 - val_loss: 850682511360.0000\n",
      "Epoch 3/200\n",
      "\u001b[1m121/121\u001b[0m \u001b[32m━━━━━━━━━━━━━━━━━━━━\u001b[0m\u001b[37m\u001b[0m \u001b[1m0s\u001b[0m 1ms/step - loss: 935600455680.0000 - val_loss: 850217795584.0000\n",
      "Epoch 4/200\n",
      "\u001b[1m121/121\u001b[0m \u001b[32m━━━━━━━━━━━━━━━━━━━━\u001b[0m\u001b[37m\u001b[0m \u001b[1m0s\u001b[0m 1ms/step - loss: 934530711552.0000 - val_loss: 848397598720.0000\n",
      "Epoch 5/200\n",
      "\u001b[1m121/121\u001b[0m \u001b[32m━━━━━━━━━━━━━━━━━━━━\u001b[0m\u001b[37m\u001b[0m \u001b[1m0s\u001b[0m 1ms/step - loss: 931215114240.0000 - val_loss: 843469160448.0000\n",
      "Epoch 6/200\n",
      "\u001b[1m121/121\u001b[0m \u001b[32m━━━━━━━━━━━━━━━━━━━━\u001b[0m\u001b[37m\u001b[0m \u001b[1m0s\u001b[0m 1ms/step - loss: 923286306816.0000 - val_loss: 832721584128.0000\n",
      "Epoch 7/200\n",
      "\u001b[1m121/121\u001b[0m \u001b[32m━━━━━━━━━━━━━━━━━━━━\u001b[0m\u001b[37m\u001b[0m \u001b[1m0s\u001b[0m 1ms/step - loss: 907612782592.0000 - val_loss: 812904153088.0000\n",
      "Epoch 8/200\n",
      "\u001b[1m121/121\u001b[0m \u001b[32m━━━━━━━━━━━━━━━━━━━━\u001b[0m\u001b[37m\u001b[0m \u001b[1m0s\u001b[0m 1ms/step - loss: 880719560704.0000 - val_loss: 780710772736.0000\n",
      "Epoch 9/200\n",
      "\u001b[1m121/121\u001b[0m \u001b[32m━━━━━━━━━━━━━━━━━━━━\u001b[0m\u001b[37m\u001b[0m \u001b[1m0s\u001b[0m 1ms/step - loss: 839365296128.0000 - val_loss: 733737451520.0000\n",
      "Epoch 10/200\n",
      "\u001b[1m121/121\u001b[0m \u001b[32m━━━━━━━━━━━━━━━━━━━━\u001b[0m\u001b[37m\u001b[0m \u001b[1m0s\u001b[0m 1ms/step - loss: 781802930176.0000 - val_loss: 671590645760.0000\n",
      "Epoch 11/200\n",
      "\u001b[1m121/121\u001b[0m \u001b[32m━━━━━━━━━━━━━━━━━━━━\u001b[0m\u001b[37m\u001b[0m \u001b[1m0s\u001b[0m 1ms/step - loss: 709707431936.0000 - val_loss: 597643493376.0000\n",
      "Epoch 12/200\n",
      "\u001b[1m121/121\u001b[0m \u001b[32m━━━━━━━━━━━━━━━━━━━━\u001b[0m\u001b[37m\u001b[0m \u001b[1m0s\u001b[0m 1ms/step - loss: 629399224320.0000 - val_loss: 521238478848.0000\n",
      "Epoch 13/200\n",
      "\u001b[1m121/121\u001b[0m \u001b[32m━━━━━━━━━━━━━━━━━━━━\u001b[0m\u001b[37m\u001b[0m \u001b[1m0s\u001b[0m 1ms/step - loss: 549808308224.0000 - val_loss: 451084517376.0000\n",
      "Epoch 14/200\n",
      "\u001b[1m121/121\u001b[0m \u001b[32m━━━━━━━━━━━━━━━━━━━━\u001b[0m\u001b[37m\u001b[0m \u001b[1m0s\u001b[0m 1ms/step - loss: 481569767424.0000 - val_loss: 396717293568.0000\n",
      "Epoch 15/200\n",
      "\u001b[1m121/121\u001b[0m \u001b[32m━━━━━━━━━━━━━━━━━━━━\u001b[0m\u001b[37m\u001b[0m \u001b[1m0s\u001b[0m 1ms/step - loss: 431679111168.0000 - val_loss: 361365372928.0000\n",
      "Epoch 16/200\n",
      "\u001b[1m121/121\u001b[0m \u001b[32m━━━━━━━━━━━━━━━━━━━━\u001b[0m\u001b[37m\u001b[0m \u001b[1m0s\u001b[0m 1ms/step - loss: 400612720640.0000 - val_loss: 341737504768.0000\n",
      "Epoch 17/200\n",
      "\u001b[1m121/121\u001b[0m \u001b[32m━━━━━━━━━━━━━━━━━━━━\u001b[0m\u001b[37m\u001b[0m \u001b[1m0s\u001b[0m 1ms/step - loss: 383111266304.0000 - val_loss: 331408834560.0000\n",
      "Epoch 18/200\n",
      "\u001b[1m121/121\u001b[0m \u001b[32m━━━━━━━━━━━━━━━━━━━━\u001b[0m\u001b[37m\u001b[0m \u001b[1m0s\u001b[0m 1ms/step - loss: 373013184512.0000 - val_loss: 325131075584.0000\n",
      "Epoch 19/200\n",
      "\u001b[1m121/121\u001b[0m \u001b[32m━━━━━━━━━━━━━━━━━━━━\u001b[0m\u001b[37m\u001b[0m \u001b[1m0s\u001b[0m 1ms/step - loss: 365999947776.0000 - val_loss: 320043548672.0000\n",
      "Epoch 20/200\n",
      "\u001b[1m121/121\u001b[0m \u001b[32m━━━━━━━━━━━━━━━━━━━━\u001b[0m\u001b[37m\u001b[0m \u001b[1m0s\u001b[0m 1ms/step - loss: 360083488768.0000 - val_loss: 315145584640.0000\n",
      "Epoch 21/200\n",
      "\u001b[1m121/121\u001b[0m \u001b[32m━━━━━━━━━━━━━━━━━━━━\u001b[0m\u001b[37m\u001b[0m \u001b[1m0s\u001b[0m 1ms/step - loss: 354442805248.0000 - val_loss: 310363324416.0000\n",
      "Epoch 22/200\n",
      "\u001b[1m121/121\u001b[0m \u001b[32m━━━━━━━━━━━━━━━━━━━━\u001b[0m\u001b[37m\u001b[0m \u001b[1m0s\u001b[0m 1ms/step - loss: 348882993152.0000 - val_loss: 305589747712.0000\n",
      "Epoch 23/200\n",
      "\u001b[1m121/121\u001b[0m \u001b[32m━━━━━━━━━━━━━━━━━━━━\u001b[0m\u001b[37m\u001b[0m \u001b[1m0s\u001b[0m 1ms/step - loss: 343326457856.0000 - val_loss: 300680478720.0000\n",
      "Epoch 24/200\n",
      "\u001b[1m121/121\u001b[0m \u001b[32m━━━━━━━━━━━━━━━━━━━━\u001b[0m\u001b[37m\u001b[0m \u001b[1m0s\u001b[0m 1ms/step - loss: 337716117504.0000 - val_loss: 295655800832.0000\n",
      "Epoch 25/200\n",
      "\u001b[1m121/121\u001b[0m \u001b[32m━━━━━━━━━━━━━━━━━━━━\u001b[0m\u001b[37m\u001b[0m \u001b[1m0s\u001b[0m 1ms/step - loss: 332033949696.0000 - val_loss: 290538127360.0000\n",
      "Epoch 26/200\n",
      "\u001b[1m121/121\u001b[0m \u001b[32m━━━━━━━━━━━━━━━━━━━━\u001b[0m\u001b[37m\u001b[0m \u001b[1m0s\u001b[0m 1ms/step - loss: 326249054208.0000 - val_loss: 285299933184.0000\n",
      "Epoch 27/200\n",
      "\u001b[1m121/121\u001b[0m \u001b[32m━━━━━━━━━━━━━━━━━━━━\u001b[0m\u001b[37m\u001b[0m \u001b[1m0s\u001b[0m 1ms/step - loss: 320321519616.0000 - val_loss: 280009048064.0000\n",
      "Epoch 28/200\n",
      "\u001b[1m121/121\u001b[0m \u001b[32m━━━━━━━━━━━━━━━━━━━━\u001b[0m\u001b[37m\u001b[0m \u001b[1m0s\u001b[0m 1ms/step - loss: 314264551424.0000 - val_loss: 274572820480.0000\n",
      "Epoch 29/200\n",
      "\u001b[1m121/121\u001b[0m \u001b[32m━━━━━━━━━━━━━━━━━━━━\u001b[0m\u001b[37m\u001b[0m \u001b[1m0s\u001b[0m 1ms/step - loss: 308056489984.0000 - val_loss: 268968771584.0000\n",
      "Epoch 30/200\n",
      "\u001b[1m121/121\u001b[0m \u001b[32m━━━━━━━━━━━━━━━━━━━━\u001b[0m\u001b[37m\u001b[0m \u001b[1m0s\u001b[0m 1ms/step - loss: 301692715008.0000 - val_loss: 263324073984.0000\n",
      "Epoch 31/200\n",
      "\u001b[1m121/121\u001b[0m \u001b[32m━━━━━━━━━━━━━━━━━━━━\u001b[0m\u001b[37m\u001b[0m \u001b[1m0s\u001b[0m 1ms/step - loss: 295193313280.0000 - val_loss: 257568849920.0000\n",
      "Epoch 32/200\n",
      "\u001b[1m121/121\u001b[0m \u001b[32m━━━━━━━━━━━━━━━━━━━━\u001b[0m\u001b[37m\u001b[0m \u001b[1m0s\u001b[0m 1ms/step - loss: 288521322496.0000 - val_loss: 251531657216.0000\n",
      "Epoch 33/200\n",
      "\u001b[1m121/121\u001b[0m \u001b[32m━━━━━━━━━━━━━━━━━━━━\u001b[0m\u001b[37m\u001b[0m \u001b[1m0s\u001b[0m 1ms/step - loss: 281686704128.0000 - val_loss: 245345304576.0000\n",
      "Epoch 34/200\n",
      "\u001b[1m121/121\u001b[0m \u001b[32m━━━━━━━━━━━━━━━━━━━━\u001b[0m\u001b[37m\u001b[0m \u001b[1m0s\u001b[0m 1ms/step - loss: 274722045952.0000 - val_loss: 239143452672.0000\n",
      "Epoch 35/200\n",
      "\u001b[1m121/121\u001b[0m \u001b[32m━━━━━━━━━━━━━━━━━━━━\u001b[0m\u001b[37m\u001b[0m \u001b[1m0s\u001b[0m 1ms/step - loss: 267561041920.0000 - val_loss: 232865005568.0000\n",
      "Epoch 36/200\n",
      "\u001b[1m121/121\u001b[0m \u001b[32m━━━━━━━━━━━━━━━━━━━━\u001b[0m\u001b[37m\u001b[0m \u001b[1m0s\u001b[0m 1ms/step - loss: 260343431168.0000 - val_loss: 226371387392.0000\n",
      "Epoch 37/200\n",
      "\u001b[1m121/121\u001b[0m \u001b[32m━━━━━━━━━━━━━━━━━━━━\u001b[0m\u001b[37m\u001b[0m \u001b[1m0s\u001b[0m 1ms/step - loss: 253058531328.0000 - val_loss: 219836809216.0000\n",
      "Epoch 38/200\n",
      "\u001b[1m121/121\u001b[0m \u001b[32m━━━━━━━━━━━━━━━━━━━━\u001b[0m\u001b[37m\u001b[0m \u001b[1m0s\u001b[0m 1ms/step - loss: 245664514048.0000 - val_loss: 213280063488.0000\n",
      "Epoch 39/200\n",
      "\u001b[1m121/121\u001b[0m \u001b[32m━━━━━━━━━━━━━━━━━━━━\u001b[0m\u001b[37m\u001b[0m \u001b[1m0s\u001b[0m 1ms/step - loss: 238192689152.0000 - val_loss: 206624571392.0000\n",
      "Epoch 40/200\n",
      "\u001b[1m121/121\u001b[0m \u001b[32m━━━━━━━━━━━━━━━━━━━━\u001b[0m\u001b[37m\u001b[0m \u001b[1m0s\u001b[0m 1ms/step - loss: 230638338048.0000 - val_loss: 199942914048.0000\n",
      "Epoch 41/200\n",
      "\u001b[1m121/121\u001b[0m \u001b[32m━━━━━━━━━━━━━━━━━━━━\u001b[0m\u001b[37m\u001b[0m \u001b[1m0s\u001b[0m 1ms/step - loss: 223099633664.0000 - val_loss: 193203683328.0000\n",
      "Epoch 42/200\n",
      "\u001b[1m121/121\u001b[0m \u001b[32m━━━━━━━━━━━━━━━━━━━━\u001b[0m\u001b[37m\u001b[0m \u001b[1m0s\u001b[0m 1ms/step - loss: 215531454464.0000 - val_loss: 186564722688.0000\n",
      "Epoch 43/200\n",
      "\u001b[1m121/121\u001b[0m \u001b[32m━━━━━━━━━━━━━━━━━━━━\u001b[0m\u001b[37m\u001b[0m \u001b[1m0s\u001b[0m 1ms/step - loss: 207887974400.0000 - val_loss: 179739820032.0000\n",
      "Epoch 44/200\n",
      "\u001b[1m121/121\u001b[0m \u001b[32m━━━━━━━━━━━━━━━━━━━━\u001b[0m\u001b[37m\u001b[0m \u001b[1m0s\u001b[0m 1ms/step - loss: 200330739712.0000 - val_loss: 172940050432.0000\n",
      "Epoch 45/200\n",
      "\u001b[1m121/121\u001b[0m \u001b[32m━━━━━━━━━━━━━━━━━━━━\u001b[0m\u001b[37m\u001b[0m \u001b[1m0s\u001b[0m 1ms/step - loss: 192780779520.0000 - val_loss: 166267355136.0000\n",
      "Epoch 46/200\n",
      "\u001b[1m121/121\u001b[0m \u001b[32m━━━━━━━━━━━━━━━━━━━━\u001b[0m\u001b[37m\u001b[0m \u001b[1m0s\u001b[0m 1ms/step - loss: 185361448960.0000 - val_loss: 159581683712.0000\n",
      "Epoch 47/200\n",
      "\u001b[1m121/121\u001b[0m \u001b[32m━━━━━━━━━━━━━━━━━━━━\u001b[0m\u001b[37m\u001b[0m \u001b[1m0s\u001b[0m 1ms/step - loss: 178015551488.0000 - val_loss: 153270517760.0000\n",
      "Epoch 48/200\n",
      "\u001b[1m121/121\u001b[0m \u001b[32m━━━━━━━━━━━━━━━━━━━━\u001b[0m\u001b[37m\u001b[0m \u001b[1m0s\u001b[0m 1ms/step - loss: 170787766272.0000 - val_loss: 146855755776.0000\n",
      "Epoch 49/200\n",
      "\u001b[1m121/121\u001b[0m \u001b[32m━━━━━━━━━━━━━━━━━━━━\u001b[0m\u001b[37m\u001b[0m \u001b[1m0s\u001b[0m 1ms/step - loss: 163795353600.0000 - val_loss: 140663357440.0000\n",
      "Epoch 50/200\n",
      "\u001b[1m121/121\u001b[0m \u001b[32m━━━━━━━━━━━━━━━━━━━━\u001b[0m\u001b[37m\u001b[0m \u001b[1m0s\u001b[0m 1ms/step - loss: 157022109696.0000 - val_loss: 134723092480.0000\n",
      "Epoch 51/200\n",
      "\u001b[1m121/121\u001b[0m \u001b[32m━━━━━━━━━━━━━━━━━━━━\u001b[0m\u001b[37m\u001b[0m \u001b[1m0s\u001b[0m 1ms/step - loss: 150573318144.0000 - val_loss: 129095614464.0000\n",
      "Epoch 52/200\n",
      "\u001b[1m121/121\u001b[0m \u001b[32m━━━━━━━━━━━━━━━━━━━━\u001b[0m\u001b[37m\u001b[0m \u001b[1m0s\u001b[0m 1ms/step - loss: 144485203968.0000 - val_loss: 123730419712.0000\n",
      "Epoch 53/200\n",
      "\u001b[1m121/121\u001b[0m \u001b[32m━━━━━━━━━━━━━━━━━━━━\u001b[0m\u001b[37m\u001b[0m \u001b[1m0s\u001b[0m 1ms/step - loss: 138880630784.0000 - val_loss: 119054409728.0000\n",
      "Epoch 54/200\n",
      "\u001b[1m121/121\u001b[0m \u001b[32m━━━━━━━━━━━━━━━━━━━━\u001b[0m\u001b[37m\u001b[0m \u001b[1m0s\u001b[0m 1ms/step - loss: 133729214464.0000 - val_loss: 114730999808.0000\n",
      "Epoch 55/200\n",
      "\u001b[1m121/121\u001b[0m \u001b[32m━━━━━━━━━━━━━━━━━━━━\u001b[0m\u001b[37m\u001b[0m \u001b[1m0s\u001b[0m 1ms/step - loss: 129096024064.0000 - val_loss: 110925438976.0000\n",
      "Epoch 56/200\n",
      "\u001b[1m121/121\u001b[0m \u001b[32m━━━━━━━━━━━━━━━━━━━━\u001b[0m\u001b[37m\u001b[0m \u001b[1m0s\u001b[0m 1ms/step - loss: 125006200832.0000 - val_loss: 107485904896.0000\n",
      "Epoch 57/200\n",
      "\u001b[1m121/121\u001b[0m \u001b[32m━━━━━━━━━━━━━━━━━━━━\u001b[0m\u001b[37m\u001b[0m \u001b[1m0s\u001b[0m 1ms/step - loss: 121482977280.0000 - val_loss: 104667136000.0000\n",
      "Epoch 58/200\n",
      "\u001b[1m121/121\u001b[0m \u001b[32m━━━━━━━━━━━━━━━━━━━━\u001b[0m\u001b[37m\u001b[0m \u001b[1m0s\u001b[0m 1ms/step - loss: 118402416640.0000 - val_loss: 102187032576.0000\n",
      "Epoch 59/200\n",
      "\u001b[1m121/121\u001b[0m \u001b[32m━━━━━━━━━━━━━━━━━━━━\u001b[0m\u001b[37m\u001b[0m \u001b[1m0s\u001b[0m 1ms/step - loss: 115824033792.0000 - val_loss: 100114980864.0000\n",
      "Epoch 60/200\n",
      "\u001b[1m121/121\u001b[0m \u001b[32m━━━━━━━━━━━━━━━━━━━━\u001b[0m\u001b[37m\u001b[0m \u001b[1m0s\u001b[0m 1ms/step - loss: 113656913920.0000 - val_loss: 98435334144.0000\n",
      "Epoch 61/200\n",
      "\u001b[1m121/121\u001b[0m \u001b[32m━━━━━━━━━━━━━━━━━━━━\u001b[0m\u001b[37m\u001b[0m \u001b[1m0s\u001b[0m 1ms/step - loss: 111794241536.0000 - val_loss: 96967622656.0000\n",
      "Epoch 62/200\n",
      "\u001b[1m121/121\u001b[0m \u001b[32m━━━━━━━━━━━━━━━━━━━━\u001b[0m\u001b[37m\u001b[0m \u001b[1m0s\u001b[0m 1ms/step - loss: 110241742848.0000 - val_loss: 95702933504.0000\n",
      "Epoch 63/200\n",
      "\u001b[1m121/121\u001b[0m \u001b[32m━━━━━━━━━━━━━━━━━━━━\u001b[0m\u001b[37m\u001b[0m \u001b[1m0s\u001b[0m 1ms/step - loss: 108843139072.0000 - val_loss: 94641217536.0000\n",
      "Epoch 64/200\n",
      "\u001b[1m121/121\u001b[0m \u001b[32m━━━━━━━━━━━━━━━━━━━━\u001b[0m\u001b[37m\u001b[0m \u001b[1m0s\u001b[0m 1ms/step - loss: 107598471168.0000 - val_loss: 93641695232.0000\n",
      "Epoch 65/200\n",
      "\u001b[1m121/121\u001b[0m \u001b[32m━━━━━━━━━━━━━━━━━━━━\u001b[0m\u001b[37m\u001b[0m \u001b[1m0s\u001b[0m 1ms/step - loss: 106512719872.0000 - val_loss: 92749135872.0000\n",
      "Epoch 66/200\n",
      "\u001b[1m121/121\u001b[0m \u001b[32m━━━━━━━━━━━━━━━━━━━━\u001b[0m\u001b[37m\u001b[0m \u001b[1m0s\u001b[0m 1ms/step - loss: 105482690560.0000 - val_loss: 91921653760.0000\n",
      "Epoch 67/200\n",
      "\u001b[1m121/121\u001b[0m \u001b[32m━━━━━━━━━━━━━━━━━━━━\u001b[0m\u001b[37m\u001b[0m \u001b[1m0s\u001b[0m 1ms/step - loss: 104533352448.0000 - val_loss: 91127947264.0000\n",
      "Epoch 68/200\n",
      "\u001b[1m121/121\u001b[0m \u001b[32m━━━━━━━━━━━━━━━━━━━━\u001b[0m\u001b[37m\u001b[0m \u001b[1m0s\u001b[0m 1ms/step - loss: 103645044736.0000 - val_loss: 90346274816.0000\n",
      "Epoch 69/200\n",
      "\u001b[1m121/121\u001b[0m \u001b[32m━━━━━━━━━━━━━━━━━━━━\u001b[0m\u001b[37m\u001b[0m \u001b[1m0s\u001b[0m 1ms/step - loss: 102786342912.0000 - val_loss: 89574768640.0000\n",
      "Epoch 70/200\n",
      "\u001b[1m121/121\u001b[0m \u001b[32m━━━━━━━━━━━━━━━━━━━━\u001b[0m\u001b[37m\u001b[0m \u001b[1m0s\u001b[0m 1ms/step - loss: 101932564480.0000 - val_loss: 88842330112.0000\n",
      "Epoch 71/200\n",
      "\u001b[1m121/121\u001b[0m \u001b[32m━━━━━━━━━━━━━━━━━━━━\u001b[0m\u001b[37m\u001b[0m \u001b[1m0s\u001b[0m 1ms/step - loss: 101119918080.0000 - val_loss: 88090951680.0000\n",
      "Epoch 72/200\n",
      "\u001b[1m121/121\u001b[0m \u001b[32m━━━━━━━━━━━━━━━━━━━━\u001b[0m\u001b[37m\u001b[0m \u001b[1m0s\u001b[0m 1ms/step - loss: 100298096640.0000 - val_loss: 87372169216.0000\n",
      "Epoch 73/200\n",
      "\u001b[1m121/121\u001b[0m \u001b[32m━━━━━━━━━━━━━━━━━━━━\u001b[0m\u001b[37m\u001b[0m \u001b[1m0s\u001b[0m 1ms/step - loss: 99516039168.0000 - val_loss: 86638583808.0000\n",
      "Epoch 74/200\n",
      "\u001b[1m121/121\u001b[0m \u001b[32m━━━━━━━━━━━━━━━━━━━━\u001b[0m\u001b[37m\u001b[0m \u001b[1m0s\u001b[0m 1ms/step - loss: 98731687936.0000 - val_loss: 85939920896.0000\n",
      "Epoch 75/200\n",
      "\u001b[1m121/121\u001b[0m \u001b[32m━━━━━━━━━━━━━━━━━━━━\u001b[0m\u001b[37m\u001b[0m \u001b[1m0s\u001b[0m 1ms/step - loss: 97944838144.0000 - val_loss: 85221539840.0000\n",
      "Epoch 76/200\n",
      "\u001b[1m121/121\u001b[0m \u001b[32m━━━━━━━━━━━━━━━━━━━━\u001b[0m\u001b[37m\u001b[0m \u001b[1m0s\u001b[0m 1ms/step - loss: 97167196160.0000 - val_loss: 84505559040.0000\n",
      "Epoch 77/200\n",
      "\u001b[1m121/121\u001b[0m \u001b[32m━━━━━━━━━━━━━━━━━━━━\u001b[0m\u001b[37m\u001b[0m \u001b[1m0s\u001b[0m 1ms/step - loss: 96418168832.0000 - val_loss: 83795451904.0000\n",
      "Epoch 78/200\n",
      "\u001b[1m121/121\u001b[0m \u001b[32m━━━━━━━━━━━━━━━━━━━━\u001b[0m\u001b[37m\u001b[0m \u001b[1m0s\u001b[0m 1ms/step - loss: 95591571456.0000 - val_loss: 83068575744.0000\n",
      "Epoch 79/200\n",
      "\u001b[1m121/121\u001b[0m \u001b[32m━━━━━━━━━━━━━━━━━━━━\u001b[0m\u001b[37m\u001b[0m \u001b[1m0s\u001b[0m 1ms/step - loss: 94852104192.0000 - val_loss: 82345246720.0000\n",
      "Epoch 80/200\n",
      "\u001b[1m121/121\u001b[0m \u001b[32m━━━━━━━━━━━━━━━━━━━━\u001b[0m\u001b[37m\u001b[0m \u001b[1m0s\u001b[0m 1ms/step - loss: 94035705856.0000 - val_loss: 81647919104.0000\n",
      "Epoch 81/200\n",
      "\u001b[1m121/121\u001b[0m \u001b[32m━━━━━━━━━━━━━━━━━━━━\u001b[0m\u001b[37m\u001b[0m \u001b[1m0s\u001b[0m 1ms/step - loss: 93240827904.0000 - val_loss: 80925745152.0000\n",
      "Epoch 82/200\n",
      "\u001b[1m121/121\u001b[0m \u001b[32m━━━━━━━━━━━━━━━━━━━━\u001b[0m\u001b[37m\u001b[0m \u001b[1m0s\u001b[0m 1ms/step - loss: 92464447488.0000 - val_loss: 80185221120.0000\n",
      "Epoch 83/200\n",
      "\u001b[1m121/121\u001b[0m \u001b[32m━━━━━━━━━━━━━━━━━━━━\u001b[0m\u001b[37m\u001b[0m \u001b[1m0s\u001b[0m 1ms/step - loss: 91675271168.0000 - val_loss: 79463604224.0000\n",
      "Epoch 84/200\n",
      "\u001b[1m121/121\u001b[0m \u001b[32m━━━━━━━━━━━━━━━━━━━━\u001b[0m\u001b[37m\u001b[0m \u001b[1m0s\u001b[0m 1ms/step - loss: 90897195008.0000 - val_loss: 78729576448.0000\n",
      "Epoch 85/200\n",
      "\u001b[1m121/121\u001b[0m \u001b[32m━━━━━━━━━━━━━━━━━━━━\u001b[0m\u001b[37m\u001b[0m \u001b[1m0s\u001b[0m 1ms/step - loss: 90093027328.0000 - val_loss: 77991288832.0000\n",
      "Epoch 86/200\n",
      "\u001b[1m121/121\u001b[0m \u001b[32m━━━━━━━━━━━━━━━━━━━━\u001b[0m\u001b[37m\u001b[0m \u001b[1m0s\u001b[0m 1ms/step - loss: 89294733312.0000 - val_loss: 77301350400.0000\n",
      "Epoch 87/200\n",
      "\u001b[1m121/121\u001b[0m \u001b[32m━━━━━━━━━━━━━━━━━━━━\u001b[0m\u001b[37m\u001b[0m \u001b[1m0s\u001b[0m 1ms/step - loss: 88532361216.0000 - val_loss: 76541960192.0000\n",
      "Epoch 88/200\n",
      "\u001b[1m121/121\u001b[0m \u001b[32m━━━━━━━━━━━━━━━━━━━━\u001b[0m\u001b[37m\u001b[0m \u001b[1m0s\u001b[0m 1ms/step - loss: 87743741952.0000 - val_loss: 75808432128.0000\n",
      "Epoch 89/200\n",
      "\u001b[1m121/121\u001b[0m \u001b[32m━━━━━━━━━━━━━━━━━━━━\u001b[0m\u001b[37m\u001b[0m \u001b[1m0s\u001b[0m 1ms/step - loss: 86901276672.0000 - val_loss: 75099529216.0000\n",
      "Epoch 90/200\n",
      "\u001b[1m121/121\u001b[0m \u001b[32m━━━━━━━━━━━━━━━━━━━━\u001b[0m\u001b[37m\u001b[0m \u001b[1m0s\u001b[0m 1ms/step - loss: 86149414912.0000 - val_loss: 74392322048.0000\n",
      "Epoch 91/200\n",
      "\u001b[1m121/121\u001b[0m \u001b[32m━━━━━━━━━━━━━━━━━━━━\u001b[0m\u001b[37m\u001b[0m \u001b[1m0s\u001b[0m 1ms/step - loss: 85362819072.0000 - val_loss: 73712738304.0000\n",
      "Epoch 92/200\n",
      "\u001b[1m121/121\u001b[0m \u001b[32m━━━━━━━━━━━━━━━━━━━━\u001b[0m\u001b[37m\u001b[0m \u001b[1m0s\u001b[0m 1ms/step - loss: 84582703104.0000 - val_loss: 72983420928.0000\n",
      "Epoch 93/200\n",
      "\u001b[1m121/121\u001b[0m \u001b[32m━━━━━━━━━━━━━━━━━━━━\u001b[0m\u001b[37m\u001b[0m \u001b[1m0s\u001b[0m 1ms/step - loss: 83785850880.0000 - val_loss: 72280014848.0000\n",
      "Epoch 94/200\n",
      "\u001b[1m121/121\u001b[0m \u001b[32m━━━━━━━━━━━━━━━━━━━━\u001b[0m\u001b[37m\u001b[0m \u001b[1m0s\u001b[0m 1ms/step - loss: 83036594176.0000 - val_loss: 71580450816.0000\n",
      "Epoch 95/200\n",
      "\u001b[1m121/121\u001b[0m \u001b[32m━━━━━━━━━━━━━━━━━━━━\u001b[0m\u001b[37m\u001b[0m \u001b[1m0s\u001b[0m 1ms/step - loss: 82243731456.0000 - val_loss: 70883041280.0000\n",
      "Epoch 96/200\n",
      "\u001b[1m121/121\u001b[0m \u001b[32m━━━━━━━━━━━━━━━━━━━━\u001b[0m\u001b[37m\u001b[0m \u001b[1m0s\u001b[0m 1ms/step - loss: 81479901184.0000 - val_loss: 70200762368.0000\n",
      "Epoch 97/200\n",
      "\u001b[1m121/121\u001b[0m \u001b[32m━━━━━━━━━━━━━━━━━━━━\u001b[0m\u001b[37m\u001b[0m \u001b[1m0s\u001b[0m 1ms/step - loss: 80709828608.0000 - val_loss: 69510856704.0000\n",
      "Epoch 98/200\n",
      "\u001b[1m121/121\u001b[0m \u001b[32m━━━━━━━━━━━━━━━━━━━━\u001b[0m\u001b[37m\u001b[0m \u001b[1m0s\u001b[0m 1ms/step - loss: 79970566144.0000 - val_loss: 68835213312.0000\n",
      "Epoch 99/200\n",
      "\u001b[1m121/121\u001b[0m \u001b[32m━━━━━━━━━━━━━━━━━━━━\u001b[0m\u001b[37m\u001b[0m \u001b[1m0s\u001b[0m 1ms/step - loss: 79185174528.0000 - val_loss: 68148641792.0000\n",
      "Epoch 100/200\n",
      "\u001b[1m121/121\u001b[0m \u001b[32m━━━━━━━━━━━━━━━━━━━━\u001b[0m\u001b[37m\u001b[0m \u001b[1m0s\u001b[0m 1ms/step - loss: 78425300992.0000 - val_loss: 67482382336.0000\n",
      "Epoch 101/200\n",
      "\u001b[1m121/121\u001b[0m \u001b[32m━━━━━━━━━━━━━━━━━━━━\u001b[0m\u001b[37m\u001b[0m \u001b[1m0s\u001b[0m 1ms/step - loss: 77642088448.0000 - val_loss: 66837520384.0000\n",
      "Epoch 102/200\n",
      "\u001b[1m121/121\u001b[0m \u001b[32m━━━━━━━━━━━━━━━━━━━━\u001b[0m\u001b[37m\u001b[0m \u001b[1m0s\u001b[0m 1ms/step - loss: 76894404608.0000 - val_loss: 66161930240.0000\n",
      "Epoch 103/200\n",
      "\u001b[1m121/121\u001b[0m \u001b[32m━━━━━━━━━━━━━━━━━━━━\u001b[0m\u001b[37m\u001b[0m \u001b[1m0s\u001b[0m 1ms/step - loss: 76136849408.0000 - val_loss: 65526091776.0000\n",
      "Epoch 104/200\n",
      "\u001b[1m121/121\u001b[0m \u001b[32m━━━━━━━━━━━━━━━━━━━━\u001b[0m\u001b[37m\u001b[0m \u001b[1m0s\u001b[0m 1ms/step - loss: 75411693568.0000 - val_loss: 64840044544.0000\n",
      "Epoch 105/200\n",
      "\u001b[1m121/121\u001b[0m \u001b[32m━━━━━━━━━━━━━━━━━━━━\u001b[0m\u001b[37m\u001b[0m \u001b[1m0s\u001b[0m 1ms/step - loss: 74683564032.0000 - val_loss: 64210079744.0000\n",
      "Epoch 106/200\n",
      "\u001b[1m121/121\u001b[0m \u001b[32m━━━━━━━━━━━━━━━━━━━━\u001b[0m\u001b[37m\u001b[0m \u001b[1m0s\u001b[0m 1ms/step - loss: 73976848384.0000 - val_loss: 63588483072.0000\n",
      "Epoch 107/200\n",
      "\u001b[1m121/121\u001b[0m \u001b[32m━━━━━━━━━━━━━━━━━━━━\u001b[0m\u001b[37m\u001b[0m \u001b[1m0s\u001b[0m 1ms/step - loss: 73233694720.0000 - val_loss: 63018409984.0000\n",
      "Epoch 108/200\n",
      "\u001b[1m121/121\u001b[0m \u001b[32m━━━━━━━━━━━━━━━━━━━━\u001b[0m\u001b[37m\u001b[0m \u001b[1m0s\u001b[0m 1ms/step - loss: 72565063680.0000 - val_loss: 62326202368.0000\n",
      "Epoch 109/200\n",
      "\u001b[1m121/121\u001b[0m \u001b[32m━━━━━━━━━━━━━━━━━━━━\u001b[0m\u001b[37m\u001b[0m \u001b[1m0s\u001b[0m 1ms/step - loss: 71805100032.0000 - val_loss: 61722226688.0000\n",
      "Epoch 110/200\n",
      "\u001b[1m121/121\u001b[0m \u001b[32m━━━━━━━━━━━━━━━━━━━━\u001b[0m\u001b[37m\u001b[0m \u001b[1m0s\u001b[0m 1ms/step - loss: 71092027392.0000 - val_loss: 61123555328.0000\n",
      "Epoch 111/200\n",
      "\u001b[1m121/121\u001b[0m \u001b[32m━━━━━━━━━━━━━━━━━━━━\u001b[0m\u001b[37m\u001b[0m \u001b[1m0s\u001b[0m 1ms/step - loss: 70399967232.0000 - val_loss: 60492251136.0000\n",
      "Epoch 112/200\n",
      "\u001b[1m121/121\u001b[0m \u001b[32m━━━━━━━━━━━━━━━━━━━━\u001b[0m\u001b[37m\u001b[0m \u001b[1m0s\u001b[0m 1ms/step - loss: 69749686272.0000 - val_loss: 59919982592.0000\n",
      "Epoch 113/200\n",
      "\u001b[1m121/121\u001b[0m \u001b[32m━━━━━━━━━━━━━━━━━━━━\u001b[0m\u001b[37m\u001b[0m \u001b[1m0s\u001b[0m 1ms/step - loss: 69046525952.0000 - val_loss: 59306496000.0000\n",
      "Epoch 114/200\n",
      "\u001b[1m121/121\u001b[0m \u001b[32m━━━━━━━━━━━━━━━━━━━━\u001b[0m\u001b[37m\u001b[0m \u001b[1m0s\u001b[0m 1ms/step - loss: 68333330432.0000 - val_loss: 58733948928.0000\n",
      "Epoch 115/200\n",
      "\u001b[1m121/121\u001b[0m \u001b[32m━━━━━━━━━━━━━━━━━━━━\u001b[0m\u001b[37m\u001b[0m \u001b[1m0s\u001b[0m 1ms/step - loss: 67684020224.0000 - val_loss: 58155753472.0000\n",
      "Epoch 116/200\n",
      "\u001b[1m121/121\u001b[0m \u001b[32m━━━━━━━━━━━━━━━━━━━━\u001b[0m\u001b[37m\u001b[0m \u001b[1m0s\u001b[0m 1ms/step - loss: 67011796992.0000 - val_loss: 57582325760.0000\n",
      "Epoch 117/200\n",
      "\u001b[1m121/121\u001b[0m \u001b[32m━━━━━━━━━━━━━━━━━━━━\u001b[0m\u001b[37m\u001b[0m \u001b[1m0s\u001b[0m 1ms/step - loss: 66370871296.0000 - val_loss: 57038028800.0000\n",
      "Epoch 118/200\n",
      "\u001b[1m121/121\u001b[0m \u001b[32m━━━━━━━━━━━━━━━━━━━━\u001b[0m\u001b[37m\u001b[0m \u001b[1m0s\u001b[0m 1ms/step - loss: 65725562880.0000 - val_loss: 56460832768.0000\n",
      "Epoch 119/200\n",
      "\u001b[1m121/121\u001b[0m \u001b[32m━━━━━━━━━━━━━━━━━━━━\u001b[0m\u001b[37m\u001b[0m \u001b[1m0s\u001b[0m 1ms/step - loss: 65077608448.0000 - val_loss: 55940542464.0000\n",
      "Epoch 120/200\n",
      "\u001b[1m121/121\u001b[0m \u001b[32m━━━━━━━━━━━━━━━━━━━━\u001b[0m\u001b[37m\u001b[0m \u001b[1m0s\u001b[0m 1ms/step - loss: 64457392128.0000 - val_loss: 55424290816.0000\n",
      "Epoch 121/200\n",
      "\u001b[1m121/121\u001b[0m \u001b[32m━━━━━━━━━━━━━━━━━━━━\u001b[0m\u001b[37m\u001b[0m \u001b[1m0s\u001b[0m 1ms/step - loss: 63847178240.0000 - val_loss: 54869983232.0000\n",
      "Epoch 122/200\n",
      "\u001b[1m121/121\u001b[0m \u001b[32m━━━━━━━━━━━━━━━━━━━━\u001b[0m\u001b[37m\u001b[0m \u001b[1m0s\u001b[0m 1ms/step - loss: 63247523840.0000 - val_loss: 54346948608.0000\n",
      "Epoch 123/200\n",
      "\u001b[1m121/121\u001b[0m \u001b[32m━━━━━━━━━━━━━━━━━━━━\u001b[0m\u001b[37m\u001b[0m \u001b[1m0s\u001b[0m 1ms/step - loss: 62681993216.0000 - val_loss: 53866430464.0000\n",
      "Epoch 124/200\n",
      "\u001b[1m121/121\u001b[0m \u001b[32m━━━━━━━━━━━━━━━━━━━━\u001b[0m\u001b[37m\u001b[0m \u001b[1m0s\u001b[0m 1ms/step - loss: 62063669248.0000 - val_loss: 53323534336.0000\n",
      "Epoch 125/200\n",
      "\u001b[1m121/121\u001b[0m \u001b[32m━━━━━━━━━━━━━━━━━━━━\u001b[0m\u001b[37m\u001b[0m \u001b[1m0s\u001b[0m 1ms/step - loss: 61465632768.0000 - val_loss: 52817920000.0000\n",
      "Epoch 126/200\n",
      "\u001b[1m121/121\u001b[0m \u001b[32m━━━━━━━━━━━━━━━━━━━━\u001b[0m\u001b[37m\u001b[0m \u001b[1m0s\u001b[0m 1ms/step - loss: 60882423808.0000 - val_loss: 52387352576.0000\n",
      "Epoch 127/200\n",
      "\u001b[1m121/121\u001b[0m \u001b[32m━━━━━━━━━━━━━━━━━━━━\u001b[0m\u001b[37m\u001b[0m \u001b[1m0s\u001b[0m 1ms/step - loss: 60292980736.0000 - val_loss: 51833655296.0000\n",
      "Epoch 128/200\n",
      "\u001b[1m121/121\u001b[0m \u001b[32m━━━━━━━━━━━━━━━━━━━━\u001b[0m\u001b[37m\u001b[0m \u001b[1m0s\u001b[0m 1ms/step - loss: 59712733184.0000 - val_loss: 51342102528.0000\n",
      "Epoch 129/200\n",
      "\u001b[1m121/121\u001b[0m \u001b[32m━━━━━━━━━━━━━━━━━━━━\u001b[0m\u001b[37m\u001b[0m \u001b[1m0s\u001b[0m 1ms/step - loss: 59155099648.0000 - val_loss: 50862391296.0000\n",
      "Epoch 130/200\n",
      "\u001b[1m121/121\u001b[0m \u001b[32m━━━━━━━━━━━━━━━━━━━━\u001b[0m\u001b[37m\u001b[0m \u001b[1m0s\u001b[0m 1ms/step - loss: 58616090624.0000 - val_loss: 50393214976.0000\n",
      "Epoch 131/200\n",
      "\u001b[1m121/121\u001b[0m \u001b[32m━━━━━━━━━━━━━━━━━━━━\u001b[0m\u001b[37m\u001b[0m \u001b[1m0s\u001b[0m 1ms/step - loss: 58076491776.0000 - val_loss: 49932533760.0000\n",
      "Epoch 132/200\n",
      "\u001b[1m121/121\u001b[0m \u001b[32m━━━━━━━━━━━━━━━━━━━━\u001b[0m\u001b[37m\u001b[0m \u001b[1m0s\u001b[0m 1ms/step - loss: 57530032128.0000 - val_loss: 49477419008.0000\n",
      "Epoch 133/200\n",
      "\u001b[1m121/121\u001b[0m \u001b[32m━━━━━━━━━━━━━━━━━━━━\u001b[0m\u001b[37m\u001b[0m \u001b[1m0s\u001b[0m 1ms/step - loss: 57017745408.0000 - val_loss: 49037914112.0000\n",
      "Epoch 134/200\n",
      "\u001b[1m121/121\u001b[0m \u001b[32m━━━━━━━━━━━━━━━━━━━━\u001b[0m\u001b[37m\u001b[0m \u001b[1m0s\u001b[0m 1ms/step - loss: 56491155456.0000 - val_loss: 48622157824.0000\n",
      "Epoch 135/200\n",
      "\u001b[1m121/121\u001b[0m \u001b[32m━━━━━━━━━━━━━━━━━━━━\u001b[0m\u001b[37m\u001b[0m \u001b[1m0s\u001b[0m 1ms/step - loss: 55991824384.0000 - val_loss: 48155885568.0000\n",
      "Epoch 136/200\n",
      "\u001b[1m121/121\u001b[0m \u001b[32m━━━━━━━━━━━━━━━━━━━━\u001b[0m\u001b[37m\u001b[0m \u001b[1m0s\u001b[0m 1ms/step - loss: 55501492224.0000 - val_loss: 47713013760.0000\n",
      "Epoch 137/200\n",
      "\u001b[1m121/121\u001b[0m \u001b[32m━━━━━━━━━━━━━━━━━━━━\u001b[0m\u001b[37m\u001b[0m \u001b[1m0s\u001b[0m 1ms/step - loss: 55024889856.0000 - val_loss: 47316156416.0000\n",
      "Epoch 138/200\n",
      "\u001b[1m121/121\u001b[0m \u001b[32m━━━━━━━━━━━━━━━━━━━━\u001b[0m\u001b[37m\u001b[0m \u001b[1m0s\u001b[0m 1ms/step - loss: 54536667136.0000 - val_loss: 46918402048.0000\n",
      "Epoch 139/200\n",
      "\u001b[1m121/121\u001b[0m \u001b[32m━━━━━━━━━━━━━━━━━━━━\u001b[0m\u001b[37m\u001b[0m \u001b[1m0s\u001b[0m 1ms/step - loss: 54078156800.0000 - val_loss: 46503604224.0000\n",
      "Epoch 140/200\n",
      "\u001b[1m121/121\u001b[0m \u001b[32m━━━━━━━━━━━━━━━━━━━━\u001b[0m\u001b[37m\u001b[0m \u001b[1m0s\u001b[0m 1ms/step - loss: 53645860864.0000 - val_loss: 46139727872.0000\n",
      "Epoch 141/200\n",
      "\u001b[1m121/121\u001b[0m \u001b[32m━━━━━━━━━━━━━━━━━━━━\u001b[0m\u001b[37m\u001b[0m \u001b[1m0s\u001b[0m 1ms/step - loss: 53198548992.0000 - val_loss: 45767024640.0000\n",
      "Epoch 142/200\n",
      "\u001b[1m121/121\u001b[0m \u001b[32m━━━━━━━━━━━━━━━━━━━━\u001b[0m\u001b[37m\u001b[0m \u001b[1m0s\u001b[0m 1ms/step - loss: 52771241984.0000 - val_loss: 45425766400.0000\n",
      "Epoch 143/200\n",
      "\u001b[1m121/121\u001b[0m \u001b[32m━━━━━━━━━━━━━━━━━━━━\u001b[0m\u001b[37m\u001b[0m \u001b[1m0s\u001b[0m 1ms/step - loss: 52340363264.0000 - val_loss: 45043748864.0000\n",
      "Epoch 144/200\n",
      "\u001b[1m121/121\u001b[0m \u001b[32m━━━━━━━━━━━━━━━━━━━━\u001b[0m\u001b[37m\u001b[0m \u001b[1m0s\u001b[0m 1ms/step - loss: 51948781568.0000 - val_loss: 44696555520.0000\n",
      "Epoch 145/200\n",
      "\u001b[1m121/121\u001b[0m \u001b[32m━━━━━━━━━━━━━━━━━━━━\u001b[0m\u001b[37m\u001b[0m \u001b[1m0s\u001b[0m 1ms/step - loss: 51552813056.0000 - val_loss: 44393160704.0000\n",
      "Epoch 146/200\n",
      "\u001b[1m121/121\u001b[0m \u001b[32m━━━━━━━━━━━━━━━━━━━━\u001b[0m\u001b[37m\u001b[0m \u001b[1m0s\u001b[0m 1ms/step - loss: 51168477184.0000 - val_loss: 44073508864.0000\n",
      "Epoch 147/200\n",
      "\u001b[1m121/121\u001b[0m \u001b[32m━━━━━━━━━━━━━━━━━━━━\u001b[0m\u001b[37m\u001b[0m \u001b[1m0s\u001b[0m 1ms/step - loss: 50802900992.0000 - val_loss: 43765182464.0000\n",
      "Epoch 148/200\n",
      "\u001b[1m121/121\u001b[0m \u001b[32m━━━━━━━━━━━━━━━━━━━━\u001b[0m\u001b[37m\u001b[0m \u001b[1m0s\u001b[0m 1ms/step - loss: 50419924992.0000 - val_loss: 43454726144.0000\n",
      "Epoch 149/200\n",
      "\u001b[1m121/121\u001b[0m \u001b[32m━━━━━━━━━━━━━━━━━━━━\u001b[0m\u001b[37m\u001b[0m \u001b[1m0s\u001b[0m 1ms/step - loss: 50071425024.0000 - val_loss: 43181133824.0000\n",
      "Epoch 150/200\n",
      "\u001b[1m121/121\u001b[0m \u001b[32m━━━━━━━━━━━━━━━━━━━━\u001b[0m\u001b[37m\u001b[0m \u001b[1m0s\u001b[0m 1ms/step - loss: 49719750656.0000 - val_loss: 42893176832.0000\n",
      "Epoch 151/200\n",
      "\u001b[1m121/121\u001b[0m \u001b[32m━━━━━━━━━━━━━━━━━━━━\u001b[0m\u001b[37m\u001b[0m \u001b[1m0s\u001b[0m 1ms/step - loss: 49370656768.0000 - val_loss: 42703589376.0000\n",
      "Epoch 152/200\n",
      "\u001b[1m121/121\u001b[0m \u001b[32m━━━━━━━━━━━━━━━━━━━━\u001b[0m\u001b[37m\u001b[0m \u001b[1m0s\u001b[0m 1ms/step - loss: 49087623168.0000 - val_loss: 42391474176.0000\n",
      "Epoch 153/200\n",
      "\u001b[1m121/121\u001b[0m \u001b[32m━━━━━━━━━━━━━━━━━━━━\u001b[0m\u001b[37m\u001b[0m \u001b[1m0s\u001b[0m 1ms/step - loss: 48763768832.0000 - val_loss: 42134982656.0000\n",
      "Epoch 154/200\n",
      "\u001b[1m121/121\u001b[0m \u001b[32m━━━━━━━━━━━━━━━━━━━━\u001b[0m\u001b[37m\u001b[0m \u001b[1m0s\u001b[0m 1ms/step - loss: 48463933440.0000 - val_loss: 41910259712.0000\n",
      "Epoch 155/200\n",
      "\u001b[1m121/121\u001b[0m \u001b[32m━━━━━━━━━━━━━━━━━━━━\u001b[0m\u001b[37m\u001b[0m \u001b[1m0s\u001b[0m 1ms/step - loss: 48181460992.0000 - val_loss: 41654169600.0000\n",
      "Epoch 156/200\n",
      "\u001b[1m121/121\u001b[0m \u001b[32m━━━━━━━━━━━━━━━━━━━━\u001b[0m\u001b[37m\u001b[0m \u001b[1m0s\u001b[0m 1ms/step - loss: 47899668480.0000 - val_loss: 41428676608.0000\n",
      "Epoch 157/200\n",
      "\u001b[1m121/121\u001b[0m \u001b[32m━━━━━━━━━━━━━━━━━━━━\u001b[0m\u001b[37m\u001b[0m \u001b[1m0s\u001b[0m 1ms/step - loss: 47642701824.0000 - val_loss: 41220128768.0000\n",
      "Epoch 158/200\n",
      "\u001b[1m121/121\u001b[0m \u001b[32m━━━━━━━━━━━━━━━━━━━━\u001b[0m\u001b[37m\u001b[0m \u001b[1m0s\u001b[0m 1ms/step - loss: 47402991616.0000 - val_loss: 41023946752.0000\n",
      "Epoch 159/200\n",
      "\u001b[1m121/121\u001b[0m \u001b[32m━━━━━━━━━━━━━━━━━━━━\u001b[0m\u001b[37m\u001b[0m \u001b[1m0s\u001b[0m 1ms/step - loss: 47128006656.0000 - val_loss: 40818700288.0000\n",
      "Epoch 160/200\n",
      "\u001b[1m121/121\u001b[0m \u001b[32m━━━━━━━━━━━━━━━━━━━━\u001b[0m\u001b[37m\u001b[0m \u001b[1m0s\u001b[0m 1ms/step - loss: 46882312192.0000 - val_loss: 40635588608.0000\n",
      "Epoch 161/200\n",
      "\u001b[1m121/121\u001b[0m \u001b[32m━━━━━━━━━━━━━━━━━━━━\u001b[0m\u001b[37m\u001b[0m \u001b[1m0s\u001b[0m 1ms/step - loss: 46651191296.0000 - val_loss: 40477917184.0000\n",
      "Epoch 162/200\n",
      "\u001b[1m121/121\u001b[0m \u001b[32m━━━━━━━━━━━━━━━━━━━━\u001b[0m\u001b[37m\u001b[0m \u001b[1m0s\u001b[0m 1ms/step - loss: 46420758528.0000 - val_loss: 40309891072.0000\n",
      "Epoch 163/200\n",
      "\u001b[1m121/121\u001b[0m \u001b[32m━━━━━━━━━━━━━━━━━━━━\u001b[0m\u001b[37m\u001b[0m \u001b[1m0s\u001b[0m 1ms/step - loss: 46213554176.0000 - val_loss: 40109801472.0000\n",
      "Epoch 164/200\n",
      "\u001b[1m121/121\u001b[0m \u001b[32m━━━━━━━━━━━━━━━━━━━━\u001b[0m\u001b[37m\u001b[0m \u001b[1m0s\u001b[0m 1ms/step - loss: 45989146624.0000 - val_loss: 39941931008.0000\n",
      "Epoch 165/200\n",
      "\u001b[1m121/121\u001b[0m \u001b[32m━━━━━━━━━━━━━━━━━━━━\u001b[0m\u001b[37m\u001b[0m \u001b[1m0s\u001b[0m 1ms/step - loss: 45800550400.0000 - val_loss: 39833341952.0000\n",
      "Epoch 166/200\n",
      "\u001b[1m121/121\u001b[0m \u001b[32m━━━━━━━━━━━━━━━━━━━━\u001b[0m\u001b[37m\u001b[0m \u001b[1m0s\u001b[0m 1ms/step - loss: 45602254848.0000 - val_loss: 39646900224.0000\n",
      "Epoch 167/200\n",
      "\u001b[1m121/121\u001b[0m \u001b[32m━━━━━━━━━━━━━━━━━━━━\u001b[0m\u001b[37m\u001b[0m \u001b[1m0s\u001b[0m 1ms/step - loss: 45388488704.0000 - val_loss: 39545069568.0000\n",
      "Epoch 168/200\n",
      "\u001b[1m121/121\u001b[0m \u001b[32m━━━━━━━━━━━━━━━━━━━━\u001b[0m\u001b[37m\u001b[0m \u001b[1m0s\u001b[0m 1ms/step - loss: 45230755840.0000 - val_loss: 39318822912.0000\n",
      "Epoch 169/200\n",
      "\u001b[1m121/121\u001b[0m \u001b[32m━━━━━━━━━━━━━━━━━━━━\u001b[0m\u001b[37m\u001b[0m \u001b[1m0s\u001b[0m 1ms/step - loss: 45055504384.0000 - val_loss: 39198404608.0000\n",
      "Epoch 170/200\n",
      "\u001b[1m121/121\u001b[0m \u001b[32m━━━━━━━━━━━━━━━━━━━━\u001b[0m\u001b[37m\u001b[0m \u001b[1m0s\u001b[0m 1ms/step - loss: 44894208000.0000 - val_loss: 39076028416.0000\n",
      "Epoch 171/200\n",
      "\u001b[1m121/121\u001b[0m \u001b[32m━━━━━━━━━━━━━━━━━━━━\u001b[0m\u001b[37m\u001b[0m \u001b[1m0s\u001b[0m 1ms/step - loss: 44708249600.0000 - val_loss: 39058563072.0000\n",
      "Epoch 172/200\n",
      "\u001b[1m121/121\u001b[0m \u001b[32m━━━━━━━━━━━━━━━━━━━━\u001b[0m\u001b[37m\u001b[0m \u001b[1m0s\u001b[0m 1ms/step - loss: 44565602304.0000 - val_loss: 38846701568.0000\n",
      "Epoch 173/200\n",
      "\u001b[1m121/121\u001b[0m \u001b[32m━━━━━━━━━━━━━━━━━━━━\u001b[0m\u001b[37m\u001b[0m \u001b[1m0s\u001b[0m 1ms/step - loss: 44391313408.0000 - val_loss: 38727098368.0000\n",
      "Epoch 174/200\n",
      "\u001b[1m121/121\u001b[0m \u001b[32m━━━━━━━━━━━━━━━━━━━━\u001b[0m\u001b[37m\u001b[0m \u001b[1m0s\u001b[0m 1ms/step - loss: 44248588288.0000 - val_loss: 38600708096.0000\n",
      "Epoch 175/200\n",
      "\u001b[1m121/121\u001b[0m \u001b[32m━━━━━━━━━━━━━━━━━━━━\u001b[0m\u001b[37m\u001b[0m \u001b[1m0s\u001b[0m 1ms/step - loss: 44113178624.0000 - val_loss: 38455447552.0000\n",
      "Epoch 176/200\n",
      "\u001b[1m121/121\u001b[0m \u001b[32m━━━━━━━━━━━━━━━━━━━━\u001b[0m\u001b[37m\u001b[0m \u001b[1m0s\u001b[0m 1ms/step - loss: 43958472704.0000 - val_loss: 38338715648.0000\n",
      "Epoch 177/200\n",
      "\u001b[1m121/121\u001b[0m \u001b[32m━━━━━━━━━━━━━━━━━━━━\u001b[0m\u001b[37m\u001b[0m \u001b[1m0s\u001b[0m 1ms/step - loss: 43822530560.0000 - val_loss: 38240583680.0000\n",
      "Epoch 178/200\n",
      "\u001b[1m121/121\u001b[0m \u001b[32m━━━━━━━━━━━━━━━━━━━━\u001b[0m\u001b[37m\u001b[0m \u001b[1m0s\u001b[0m 1ms/step - loss: 43707338752.0000 - val_loss: 38128082944.0000\n",
      "Epoch 179/200\n",
      "\u001b[1m121/121\u001b[0m \u001b[32m━━━━━━━━━━━━━━━━━━━━\u001b[0m\u001b[37m\u001b[0m \u001b[1m0s\u001b[0m 1ms/step - loss: 43558387712.0000 - val_loss: 38030745600.0000\n",
      "Epoch 180/200\n",
      "\u001b[1m121/121\u001b[0m \u001b[32m━━━━━━━━━━━━━━━━━━━━\u001b[0m\u001b[37m\u001b[0m \u001b[1m0s\u001b[0m 1ms/step - loss: 43418226688.0000 - val_loss: 37933129728.0000\n",
      "Epoch 181/200\n",
      "\u001b[1m121/121\u001b[0m \u001b[32m━━━━━━━━━━━━━━━━━━━━\u001b[0m\u001b[37m\u001b[0m \u001b[1m0s\u001b[0m 1ms/step - loss: 43302510592.0000 - val_loss: 37841674240.0000\n",
      "Epoch 182/200\n",
      "\u001b[1m121/121\u001b[0m \u001b[32m━━━━━━━━━━━━━━━━━━━━\u001b[0m\u001b[37m\u001b[0m \u001b[1m0s\u001b[0m 1ms/step - loss: 43166363648.0000 - val_loss: 37764624384.0000\n",
      "Epoch 183/200\n",
      "\u001b[1m121/121\u001b[0m \u001b[32m━━━━━━━━━━━━━━━━━━━━\u001b[0m\u001b[37m\u001b[0m \u001b[1m0s\u001b[0m 1ms/step - loss: 43044696064.0000 - val_loss: 37683695616.0000\n",
      "Epoch 184/200\n",
      "\u001b[1m121/121\u001b[0m \u001b[32m━━━━━━━━━━━━━━━━━━━━\u001b[0m\u001b[37m\u001b[0m \u001b[1m0s\u001b[0m 1ms/step - loss: 42930794496.0000 - val_loss: 37600382976.0000\n",
      "Epoch 185/200\n",
      "\u001b[1m121/121\u001b[0m \u001b[32m━━━━━━━━━━━━━━━━━━━━\u001b[0m\u001b[37m\u001b[0m \u001b[1m0s\u001b[0m 1ms/step - loss: 42820820992.0000 - val_loss: 37493870592.0000\n",
      "Epoch 186/200\n",
      "\u001b[1m121/121\u001b[0m \u001b[32m━━━━━━━━━━━━━━━━━━━━\u001b[0m\u001b[37m\u001b[0m \u001b[1m0s\u001b[0m 1ms/step - loss: 42719555584.0000 - val_loss: 37426954240.0000\n",
      "Epoch 187/200\n",
      "\u001b[1m121/121\u001b[0m \u001b[32m━━━━━━━━━━━━━━━━━━━━\u001b[0m\u001b[37m\u001b[0m \u001b[1m0s\u001b[0m 1ms/step - loss: 42582216704.0000 - val_loss: 37358006272.0000\n",
      "Epoch 188/200\n",
      "\u001b[1m121/121\u001b[0m \u001b[32m━━━━━━━━━━━━━━━━━━━━\u001b[0m\u001b[37m\u001b[0m \u001b[1m0s\u001b[0m 1ms/step - loss: 42468315136.0000 - val_loss: 37322153984.0000\n",
      "Epoch 189/200\n",
      "\u001b[1m121/121\u001b[0m \u001b[32m━━━━━━━━━━━━━━━━━━━━\u001b[0m\u001b[37m\u001b[0m \u001b[1m0s\u001b[0m 1ms/step - loss: 42378457088.0000 - val_loss: 37215252480.0000\n",
      "Epoch 190/200\n",
      "\u001b[1m121/121\u001b[0m \u001b[32m━━━━━━━━━━━━━━━━━━━━\u001b[0m\u001b[37m\u001b[0m \u001b[1m0s\u001b[0m 1ms/step - loss: 42259009536.0000 - val_loss: 37113454592.0000\n",
      "Epoch 191/200\n",
      "\u001b[1m121/121\u001b[0m \u001b[32m━━━━━━━━━━━━━━━━━━━━\u001b[0m\u001b[37m\u001b[0m \u001b[1m0s\u001b[0m 1ms/step - loss: 42155753472.0000 - val_loss: 37124677632.0000\n",
      "Epoch 192/200\n",
      "\u001b[1m121/121\u001b[0m \u001b[32m━━━━━━━━━━━━━━━━━━━━\u001b[0m\u001b[37m\u001b[0m \u001b[1m0s\u001b[0m 1ms/step - loss: 42032939008.0000 - val_loss: 36951044096.0000\n",
      "Epoch 193/200\n",
      "\u001b[1m121/121\u001b[0m \u001b[32m━━━━━━━━━━━━━━━━━━━━\u001b[0m\u001b[37m\u001b[0m \u001b[1m0s\u001b[0m 1ms/step - loss: 41961586688.0000 - val_loss: 36928106496.0000\n",
      "Epoch 194/200\n",
      "\u001b[1m121/121\u001b[0m \u001b[32m━━━━━━━━━━━━━━━━━━━━\u001b[0m\u001b[37m\u001b[0m \u001b[1m0s\u001b[0m 1ms/step - loss: 41864429568.0000 - val_loss: 36823474176.0000\n",
      "Epoch 195/200\n",
      "\u001b[1m121/121\u001b[0m \u001b[32m━━━━━━━━━━━━━━━━━━━━\u001b[0m\u001b[37m\u001b[0m \u001b[1m0s\u001b[0m 1ms/step - loss: 41756524544.0000 - val_loss: 36749705216.0000\n",
      "Epoch 196/200\n",
      "\u001b[1m121/121\u001b[0m \u001b[32m━━━━━━━━━━━━━━━━━━━━\u001b[0m\u001b[37m\u001b[0m \u001b[1m0s\u001b[0m 1ms/step - loss: 41673375744.0000 - val_loss: 36712353792.0000\n",
      "Epoch 197/200\n",
      "\u001b[1m121/121\u001b[0m \u001b[32m━━━━━━━━━━━━━━━━━━━━\u001b[0m\u001b[37m\u001b[0m \u001b[1m0s\u001b[0m 1ms/step - loss: 41584168960.0000 - val_loss: 36674617344.0000\n",
      "Epoch 198/200\n",
      "\u001b[1m121/121\u001b[0m \u001b[32m━━━━━━━━━━━━━━━━━━━━\u001b[0m\u001b[37m\u001b[0m \u001b[1m0s\u001b[0m 1ms/step - loss: 41497956352.0000 - val_loss: 36628267008.0000\n",
      "Epoch 199/200\n",
      "\u001b[1m121/121\u001b[0m \u001b[32m━━━━━━━━━━━━━━━━━━━━\u001b[0m\u001b[37m\u001b[0m \u001b[1m0s\u001b[0m 1ms/step - loss: 41403826176.0000 - val_loss: 36521713664.0000\n",
      "Epoch 200/200\n",
      "\u001b[1m121/121\u001b[0m \u001b[32m━━━━━━━━━━━━━━━━━━━━\u001b[0m\u001b[37m\u001b[0m \u001b[1m0s\u001b[0m 1ms/step - loss: 41316990976.0000 - val_loss: 36447457280.0000\n"
     ]
    },
    {
     "data": {
      "text/plain": [
       "<keras.src.callbacks.history.History at 0x2164f1e2cf0>"
      ]
     },
     "execution_count": 36,
     "metadata": {},
     "output_type": "execute_result"
    },
    {
     "name": "stdout",
     "output_type": "stream",
     "text": [
      "Epoch 198/200\n",
      "121/121 [==============================] - 0s 875us/step - loss: 42737185708.0656 - val_loss: 36830838784.0000\n",
      "Epoch 199/200\n",
      "121/121 [==============================] - 0s 894us/step - loss: 41876250926.1639 - val_loss: 36763324416.0000\n",
      "Epoch 200/200\n",
      "121/121 [==============================] - 0s 858us/step - loss: 40782886307.6721 - val_loss: 36751556608.0000\n"
     ]
    },
    {
     "data": {
      "text/plain": [
       "<tensorflow.python.keras.callbacks.History at 0x27db1b65130>"
      ]
     },
     "execution_count": 59,
     "metadata": {},
     "output_type": "execute_result"
    }
   ],
   "source": [
    "model.fit(x=X_train,y=y_train.values,\n",
    "          validation_data=(X_test,y_test.values), #si indicamos validation_data en cada epoch calcula sobre el conjunto de test el resultado de pérdidas\n",
    "          batch_size=128,epochs=200) #batch_size es el tamaño de datos que toma en cada cálculo (indicar potencia de 2) / epochs es el número de iteraciones sobre la red neuronal para ajustar los pesos (w) y bias (b)"
   ]
  },
  {
   "cell_type": "code",
   "execution_count": 37,
   "metadata": {},
   "outputs": [],
   "source": [
    "losses = pd.DataFrame(model.history.history)"
   ]
  },
  {
   "cell_type": "code",
   "execution_count": 38,
   "metadata": {},
   "outputs": [
    {
     "data": {
      "text/html": [
       "<div>\n",
       "<style scoped>\n",
       "    .dataframe tbody tr th:only-of-type {\n",
       "        vertical-align: middle;\n",
       "    }\n",
       "\n",
       "    .dataframe tbody tr th {\n",
       "        vertical-align: top;\n",
       "    }\n",
       "\n",
       "    .dataframe thead th {\n",
       "        text-align: right;\n",
       "    }\n",
       "</style>\n",
       "<table border=\"1\" class=\"dataframe\">\n",
       "  <thead>\n",
       "    <tr style=\"text-align: right;\">\n",
       "      <th></th>\n",
       "      <th>loss</th>\n",
       "      <th>val_loss</th>\n",
       "    </tr>\n",
       "  </thead>\n",
       "  <tbody>\n",
       "    <tr>\n",
       "      <th>0</th>\n",
       "      <td>9.358470e+11</td>\n",
       "      <td>8.507475e+11</td>\n",
       "    </tr>\n",
       "    <tr>\n",
       "      <th>1</th>\n",
       "      <td>9.358226e+11</td>\n",
       "      <td>8.506825e+11</td>\n",
       "    </tr>\n",
       "    <tr>\n",
       "      <th>2</th>\n",
       "      <td>9.356005e+11</td>\n",
       "      <td>8.502178e+11</td>\n",
       "    </tr>\n",
       "    <tr>\n",
       "      <th>3</th>\n",
       "      <td>9.345307e+11</td>\n",
       "      <td>8.483976e+11</td>\n",
       "    </tr>\n",
       "    <tr>\n",
       "      <th>4</th>\n",
       "      <td>9.312151e+11</td>\n",
       "      <td>8.434692e+11</td>\n",
       "    </tr>\n",
       "    <tr>\n",
       "      <th>...</th>\n",
       "      <td>...</td>\n",
       "      <td>...</td>\n",
       "    </tr>\n",
       "    <tr>\n",
       "      <th>195</th>\n",
       "      <td>4.167338e+10</td>\n",
       "      <td>3.671235e+10</td>\n",
       "    </tr>\n",
       "    <tr>\n",
       "      <th>196</th>\n",
       "      <td>4.158417e+10</td>\n",
       "      <td>3.667462e+10</td>\n",
       "    </tr>\n",
       "    <tr>\n",
       "      <th>197</th>\n",
       "      <td>4.149796e+10</td>\n",
       "      <td>3.662827e+10</td>\n",
       "    </tr>\n",
       "    <tr>\n",
       "      <th>198</th>\n",
       "      <td>4.140383e+10</td>\n",
       "      <td>3.652171e+10</td>\n",
       "    </tr>\n",
       "    <tr>\n",
       "      <th>199</th>\n",
       "      <td>4.131699e+10</td>\n",
       "      <td>3.644746e+10</td>\n",
       "    </tr>\n",
       "  </tbody>\n",
       "</table>\n",
       "<p>200 rows × 2 columns</p>\n",
       "</div>"
      ],
      "text/plain": [
       "             loss      val_loss\n",
       "0    9.358470e+11  8.507475e+11\n",
       "1    9.358226e+11  8.506825e+11\n",
       "2    9.356005e+11  8.502178e+11\n",
       "3    9.345307e+11  8.483976e+11\n",
       "4    9.312151e+11  8.434692e+11\n",
       "..            ...           ...\n",
       "195  4.167338e+10  3.671235e+10\n",
       "196  4.158417e+10  3.667462e+10\n",
       "197  4.149796e+10  3.662827e+10\n",
       "198  4.140383e+10  3.652171e+10\n",
       "199  4.131699e+10  3.644746e+10\n",
       "\n",
       "[200 rows x 2 columns]"
      ]
     },
     "execution_count": 38,
     "metadata": {},
     "output_type": "execute_result"
    }
   ],
   "source": [
    "losses"
   ]
  },
  {
   "cell_type": "code",
   "execution_count": 39,
   "metadata": {
    "scrolled": true
   },
   "outputs": [
    {
     "data": {
      "text/plain": [
       "<Axes: >"
      ]
     },
     "execution_count": 39,
     "metadata": {},
     "output_type": "execute_result"
    },
    {
     "data": {
      "image/png": "[encoded data removed]",
      "text/plain": [
       "<Figure size 640x480 with 1 Axes>"
      ]
     },
     "metadata": {},
     "output_type": "display_data"
    }
   ],
   "source": [
    "losses.plot()"
   ]
  },
  {
   "cell_type": "markdown",
   "metadata": {},
   "source": [
    "# 8. Evaluación del modelo\n",
    "\n",
    "https://scikit-learn.org/stable/modules/model_evaluation.html#regression-metrics"
   ]
  },
  {
   "cell_type": "code",
   "execution_count": 40,
   "metadata": {},
   "outputs": [],
   "source": [
    "from sklearn.metrics import mean_squared_error,mean_absolute_error,explained_variance_score"
   ]
  },
  {
   "cell_type": "markdown",
   "metadata": {},
   "source": [
    "## 8.1 Predicción sobre el conjunto de Test"
   ]
  },
  {
   "cell_type": "code",
   "execution_count": 41,
   "metadata": {},
   "outputs": [
    {
     "data": {
      "text/plain": [
       "array([[0.06313646, 0.125     , 0.        , ..., 0.05618335, 0.        ,\n",
       "        0.        ],\n",
       "       [0.13543788, 0.16666667, 0.07692308, ..., 0.15502149, 0.        ,\n",
       "        1.        ],\n",
       "       [0.04480652, 0.08333333, 0.        , ..., 0.04830495, 0.        ,\n",
       "        0.        ],\n",
       "       ...,\n",
       "       [0.04480652, 0.04166667, 0.        , ..., 0.09605284, 0.        ,\n",
       "        0.        ],\n",
       "       [0.11608961, 0.16666667, 0.07692308, ..., 0.11037721, 0.        ,\n",
       "        0.        ],\n",
       "       [0.03665988, 0.04166667, 0.        , ..., 0.08141015, 1.        ,\n",
       "        0.        ]])"
      ]
     },
     "execution_count": 41,
     "metadata": {},
     "output_type": "execute_result"
    }
   ],
   "source": [
    "X_test"
   ]
  },
  {
   "cell_type": "code",
   "execution_count": 42,
   "metadata": {},
   "outputs": [
    {
     "name": "stdout",
     "output_type": "stream",
     "text": [
      "\u001b[1m121/121\u001b[0m \u001b[32m━━━━━━━━━━━━━━━━━━━━\u001b[0m\u001b[37m\u001b[0m \u001b[1m0s\u001b[0m 835us/step\n"
     ]
    }
   ],
   "source": [
    "predictions = model.predict(X_test)"
   ]
  },
  {
   "cell_type": "code",
   "execution_count": 43,
   "metadata": {},
   "outputs": [
    {
     "data": {
      "text/plain": [
       "108173.1796875"
      ]
     },
     "execution_count": 43,
     "metadata": {},
     "output_type": "execute_result"
    }
   ],
   "source": [
    "mean_absolute_error(y_test,predictions)"
   ]
  },
  {
   "cell_type": "code",
   "execution_count": 44,
   "metadata": {},
   "outputs": [
    {
     "data": {
      "text/plain": [
       "np.float64(190912.1930941028)"
      ]
     },
     "execution_count": 44,
     "metadata": {},
     "output_type": "execute_result"
    }
   ],
   "source": [
    "np.sqrt(mean_squared_error(y_test,predictions))"
   ]
  },
  {
   "cell_type": "code",
   "execution_count": 45,
   "metadata": {},
   "outputs": [
    {
     "data": {
      "text/plain": [
       "0.9219314936176319"
      ]
     },
     "execution_count": 45,
     "metadata": {},
     "output_type": "execute_result"
    }
   ],
   "source": [
    "explained_variance_score(y_test,predictions) #Calcula la covarianza en y_test (real) y la predicción, cuanto más cercano a 1 mejor (significa que conforme más aumenta o disminuye el valor real, más aumenta o disminuye el valor predecido)"
   ]
  },
  {
   "cell_type": "code",
   "execution_count": 46,
   "metadata": {},
   "outputs": [
    {
     "data": {
      "text/plain": [
       "np.float64(0.17099982401675476)"
      ]
     },
     "execution_count": 46,
     "metadata": {},
     "output_type": "execute_result"
    }
   ],
   "source": [
    "mean_absolute_error(y_test,predictions)/df['buy_price'].mean() #¿En qué porcentaje nos estamos equivaocando respecto al valor medio?"
   ]
  },
  {
   "cell_type": "code",
   "execution_count": 47,
   "metadata": {},
   "outputs": [
    {
     "data": {
      "text/plain": [
       "0.28466626233552633"
      ]
     },
     "execution_count": 47,
     "metadata": {},
     "output_type": "execute_result"
    }
   ],
   "source": [
    "mean_absolute_error(y_test,predictions)/df['buy_price'].median() #¿En qué porcentaje nos estamos equivaocando respecto al valor mediana?"
   ]
  },
  {
   "cell_type": "code",
   "execution_count": 48,
   "metadata": {},
   "outputs": [
    {
     "data": {
      "text/plain": [
       "[<matplotlib.lines.Line2D at 0x21653377610>]"
      ]
     },
     "execution_count": 48,
     "metadata": {},
     "output_type": "execute_result"
    },
    {
     "data": {
      "image/png": "[encoded data removed]",
      "text/plain": [
       "<Figure size 640x480 with 1 Axes>"
      ]
     },
     "metadata": {},
     "output_type": "display_data"
    }
   ],
   "source": [
    "# Visualizar nuestra predicción\n",
    "plt.scatter(y_test,predictions)\n",
    "plt.xlabel(\"Valor Real\")\n",
    "plt.ylabel(\"Predicción\")\n",
    "\n",
    "# Predicción perfecta\n",
    "plt.plot(y_test,y_test,'r')"
   ]
  },
  {
   "cell_type": "code",
   "execution_count": 49,
   "metadata": {},
   "outputs": [],
   "source": [
    "errors = y_test.values.reshape(y_test.shape[0], 1) - predictions #rotar y_test para poder comparar con predictions"
   ]
  },
  {
   "cell_type": "code",
   "execution_count": 51,
   "metadata": {},
   "outputs": [
    {
     "data": {
      "text/plain": [
       "<Axes: ylabel='Count'>"
      ]
     },
     "execution_count": 51,
     "metadata": {},
     "output_type": "execute_result"
    },
    {
     "data": {
      "image/png": "[encoded data removed]",
      "text/plain": [
       "<Figure size 640x480 with 1 Axes>"
      ]
     },
     "metadata": {},
     "output_type": "display_data"
    }
   ],
   "source": [
    "sns.histplot(errors) #Idealmente debe estar concentrado el error en 0"
   ]
  },
  {
   "cell_type": "markdown",
   "metadata": {},
   "source": [
    "## 8.2 Predicción sobre nuevos datos"
   ]
  },
  {
   "cell_type": "code",
   "execution_count": 52,
   "metadata": {},
   "outputs": [],
   "source": [
    "#Lectura datos a predecir\n",
    "df_pred = pd.read_excel('./viviendas_Madrid.xlsx',sheet_name='Datos_Predecir')"
   ]
  },
  {
   "cell_type": "code",
   "execution_count": 53,
   "metadata": {},
   "outputs": [
    {
     "data": {
      "text/html": [
       "<div>\n",
       "<style scoped>\n",
       "    .dataframe tbody tr th:only-of-type {\n",
       "        vertical-align: middle;\n",
       "    }\n",
       "\n",
       "    .dataframe tbody tr th {\n",
       "        vertical-align: top;\n",
       "    }\n",
       "\n",
       "    .dataframe thead th {\n",
       "        text-align: right;\n",
       "    }\n",
       "</style>\n",
       "<table border=\"1\" class=\"dataframe\">\n",
       "  <thead>\n",
       "    <tr style=\"text-align: right;\">\n",
       "      <th></th>\n",
       "      <th>sq_mt_built</th>\n",
       "      <th>n_rooms</th>\n",
       "      <th>n_bathrooms</th>\n",
       "      <th>is_floor_under</th>\n",
       "      <th>rent_price</th>\n",
       "      <th>buy_price</th>\n",
       "      <th>is_new_development</th>\n",
       "      <th>has_parking</th>\n",
       "    </tr>\n",
       "  </thead>\n",
       "  <tbody>\n",
       "    <tr>\n",
       "      <th>0</th>\n",
       "      <td>65</td>\n",
       "      <td>2</td>\n",
       "      <td>1.0</td>\n",
       "      <td>False</td>\n",
       "      <td>420</td>\n",
       "      <td>NaN</td>\n",
       "      <td>False</td>\n",
       "      <td>False</td>\n",
       "    </tr>\n",
       "    <tr>\n",
       "      <th>1</th>\n",
       "      <td>72</td>\n",
       "      <td>3</td>\n",
       "      <td>1.0</td>\n",
       "      <td>False</td>\n",
       "      <td>650</td>\n",
       "      <td>NaN</td>\n",
       "      <td>False</td>\n",
       "      <td>False</td>\n",
       "    </tr>\n",
       "    <tr>\n",
       "      <th>2</th>\n",
       "      <td>97</td>\n",
       "      <td>2</td>\n",
       "      <td>2.0</td>\n",
       "      <td>False</td>\n",
       "      <td>730</td>\n",
       "      <td>NaN</td>\n",
       "      <td>False</td>\n",
       "      <td>False</td>\n",
       "    </tr>\n",
       "    <tr>\n",
       "      <th>3</th>\n",
       "      <td>63</td>\n",
       "      <td>2</td>\n",
       "      <td>1.0</td>\n",
       "      <td>True</td>\n",
       "      <td>590</td>\n",
       "      <td>NaN</td>\n",
       "      <td>False</td>\n",
       "      <td>False</td>\n",
       "    </tr>\n",
       "    <tr>\n",
       "      <th>4</th>\n",
       "      <td>107</td>\n",
       "      <td>2</td>\n",
       "      <td>2.0</td>\n",
       "      <td>False</td>\n",
       "      <td>1000</td>\n",
       "      <td>NaN</td>\n",
       "      <td>False</td>\n",
       "      <td>True</td>\n",
       "    </tr>\n",
       "    <tr>\n",
       "      <th>5</th>\n",
       "      <td>125</td>\n",
       "      <td>4</td>\n",
       "      <td>2.0</td>\n",
       "      <td>False</td>\n",
       "      <td>890</td>\n",
       "      <td>NaN</td>\n",
       "      <td>False</td>\n",
       "      <td>True</td>\n",
       "    </tr>\n",
       "    <tr>\n",
       "      <th>6</th>\n",
       "      <td>130</td>\n",
       "      <td>5</td>\n",
       "      <td>2.0</td>\n",
       "      <td>False</td>\n",
       "      <td>885</td>\n",
       "      <td>NaN</td>\n",
       "      <td>False</td>\n",
       "      <td>True</td>\n",
       "    </tr>\n",
       "    <tr>\n",
       "      <th>7</th>\n",
       "      <td>135</td>\n",
       "      <td>3</td>\n",
       "      <td>2.0</td>\n",
       "      <td>False</td>\n",
       "      <td>912</td>\n",
       "      <td>NaN</td>\n",
       "      <td>False</td>\n",
       "      <td>False</td>\n",
       "    </tr>\n",
       "    <tr>\n",
       "      <th>8</th>\n",
       "      <td>76</td>\n",
       "      <td>3</td>\n",
       "      <td>2.0</td>\n",
       "      <td>False</td>\n",
       "      <td>970</td>\n",
       "      <td>NaN</td>\n",
       "      <td>False</td>\n",
       "      <td>True</td>\n",
       "    </tr>\n",
       "    <tr>\n",
       "      <th>9</th>\n",
       "      <td>87</td>\n",
       "      <td>2</td>\n",
       "      <td>1.0</td>\n",
       "      <td>False</td>\n",
       "      <td>701</td>\n",
       "      <td>NaN</td>\n",
       "      <td>False</td>\n",
       "      <td>False</td>\n",
       "    </tr>\n",
       "  </tbody>\n",
       "</table>\n",
       "</div>"
      ],
      "text/plain": [
       "   sq_mt_built  n_rooms  n_bathrooms  is_floor_under  rent_price  buy_price  \\\n",
       "0           65        2          1.0           False         420        NaN   \n",
       "1           72        3          1.0           False         650        NaN   \n",
       "2           97        2          2.0           False         730        NaN   \n",
       "3           63        2          1.0            True         590        NaN   \n",
       "4          107        2          2.0           False        1000        NaN   \n",
       "5          125        4          2.0           False         890        NaN   \n",
       "6          130        5          2.0           False         885        NaN   \n",
       "7          135        3          2.0           False         912        NaN   \n",
       "8           76        3          2.0           False         970        NaN   \n",
       "9           87        2          1.0           False         701        NaN   \n",
       "\n",
       "   is_new_development  has_parking  \n",
       "0               False        False  \n",
       "1               False        False  \n",
       "2               False        False  \n",
       "3               False        False  \n",
       "4               False         True  \n",
       "5               False         True  \n",
       "6               False         True  \n",
       "7               False        False  \n",
       "8               False         True  \n",
       "9               False        False  "
      ]
     },
     "execution_count": 53,
     "metadata": {},
     "output_type": "execute_result"
    }
   ],
   "source": [
    "df_pred = df_pred[df.columns] #Filtramos el dataframe predicción para quedarnos con las mismas columnas de interés que el df histórico\n",
    "df_pred"
   ]
  },
  {
   "cell_type": "code",
   "execution_count": 54,
   "metadata": {},
   "outputs": [
    {
     "data": {
      "text/html": [
       "<div>\n",
       "<style scoped>\n",
       "    .dataframe tbody tr th:only-of-type {\n",
       "        vertical-align: middle;\n",
       "    }\n",
       "\n",
       "    .dataframe tbody tr th {\n",
       "        vertical-align: top;\n",
       "    }\n",
       "\n",
       "    .dataframe thead th {\n",
       "        text-align: right;\n",
       "    }\n",
       "</style>\n",
       "<table border=\"1\" class=\"dataframe\">\n",
       "  <thead>\n",
       "    <tr style=\"text-align: right;\">\n",
       "      <th></th>\n",
       "      <th>sq_mt_built</th>\n",
       "      <th>n_rooms</th>\n",
       "      <th>n_bathrooms</th>\n",
       "      <th>is_floor_under</th>\n",
       "      <th>rent_price</th>\n",
       "      <th>is_new_development</th>\n",
       "      <th>has_parking</th>\n",
       "    </tr>\n",
       "  </thead>\n",
       "  <tbody>\n",
       "    <tr>\n",
       "      <th>0</th>\n",
       "      <td>65</td>\n",
       "      <td>2</td>\n",
       "      <td>1.0</td>\n",
       "      <td>False</td>\n",
       "      <td>420</td>\n",
       "      <td>False</td>\n",
       "      <td>False</td>\n",
       "    </tr>\n",
       "    <tr>\n",
       "      <th>1</th>\n",
       "      <td>72</td>\n",
       "      <td>3</td>\n",
       "      <td>1.0</td>\n",
       "      <td>False</td>\n",
       "      <td>650</td>\n",
       "      <td>False</td>\n",
       "      <td>False</td>\n",
       "    </tr>\n",
       "    <tr>\n",
       "      <th>2</th>\n",
       "      <td>97</td>\n",
       "      <td>2</td>\n",
       "      <td>2.0</td>\n",
       "      <td>False</td>\n",
       "      <td>730</td>\n",
       "      <td>False</td>\n",
       "      <td>False</td>\n",
       "    </tr>\n",
       "    <tr>\n",
       "      <th>3</th>\n",
       "      <td>63</td>\n",
       "      <td>2</td>\n",
       "      <td>1.0</td>\n",
       "      <td>True</td>\n",
       "      <td>590</td>\n",
       "      <td>False</td>\n",
       "      <td>False</td>\n",
       "    </tr>\n",
       "    <tr>\n",
       "      <th>4</th>\n",
       "      <td>107</td>\n",
       "      <td>2</td>\n",
       "      <td>2.0</td>\n",
       "      <td>False</td>\n",
       "      <td>1000</td>\n",
       "      <td>False</td>\n",
       "      <td>True</td>\n",
       "    </tr>\n",
       "    <tr>\n",
       "      <th>5</th>\n",
       "      <td>125</td>\n",
       "      <td>4</td>\n",
       "      <td>2.0</td>\n",
       "      <td>False</td>\n",
       "      <td>890</td>\n",
       "      <td>False</td>\n",
       "      <td>True</td>\n",
       "    </tr>\n",
       "    <tr>\n",
       "      <th>6</th>\n",
       "      <td>130</td>\n",
       "      <td>5</td>\n",
       "      <td>2.0</td>\n",
       "      <td>False</td>\n",
       "      <td>885</td>\n",
       "      <td>False</td>\n",
       "      <td>True</td>\n",
       "    </tr>\n",
       "    <tr>\n",
       "      <th>7</th>\n",
       "      <td>135</td>\n",
       "      <td>3</td>\n",
       "      <td>2.0</td>\n",
       "      <td>False</td>\n",
       "      <td>912</td>\n",
       "      <td>False</td>\n",
       "      <td>False</td>\n",
       "    </tr>\n",
       "    <tr>\n",
       "      <th>8</th>\n",
       "      <td>76</td>\n",
       "      <td>3</td>\n",
       "      <td>2.0</td>\n",
       "      <td>False</td>\n",
       "      <td>970</td>\n",
       "      <td>False</td>\n",
       "      <td>True</td>\n",
       "    </tr>\n",
       "    <tr>\n",
       "      <th>9</th>\n",
       "      <td>87</td>\n",
       "      <td>2</td>\n",
       "      <td>1.0</td>\n",
       "      <td>False</td>\n",
       "      <td>701</td>\n",
       "      <td>False</td>\n",
       "      <td>False</td>\n",
       "    </tr>\n",
       "  </tbody>\n",
       "</table>\n",
       "</div>"
      ],
      "text/plain": [
       "   sq_mt_built  n_rooms  n_bathrooms  is_floor_under  rent_price  \\\n",
       "0           65        2          1.0           False         420   \n",
       "1           72        3          1.0           False         650   \n",
       "2           97        2          2.0           False         730   \n",
       "3           63        2          1.0            True         590   \n",
       "4          107        2          2.0           False        1000   \n",
       "5          125        4          2.0           False         890   \n",
       "6          130        5          2.0           False         885   \n",
       "7          135        3          2.0           False         912   \n",
       "8           76        3          2.0           False         970   \n",
       "9           87        2          1.0           False         701   \n",
       "\n",
       "   is_new_development  has_parking  \n",
       "0               False        False  \n",
       "1               False        False  \n",
       "2               False        False  \n",
       "3               False        False  \n",
       "4               False         True  \n",
       "5               False         True  \n",
       "6               False         True  \n",
       "7               False        False  \n",
       "8               False         True  \n",
       "9               False        False  "
      ]
     },
     "execution_count": 54,
     "metadata": {},
     "output_type": "execute_result"
    }
   ],
   "source": [
    "X_pred = df_pred.drop('buy_price',axis=1) #Eliminamos la columna objetivo (vacía) si la hubiera en nuestro df con los datos a predecir\n",
    "X_pred"
   ]
  },
  {
   "cell_type": "code",
   "execution_count": 55,
   "metadata": {},
   "outputs": [
    {
     "data": {
      "text/plain": [
       "array([[0.04989817, 0.08333333, 0.        , 0.        , 0.03199109,\n",
       "        0.        , 0.        ],\n",
       "       [0.05702648, 0.125     , 0.        , 0.        , 0.05029445,\n",
       "        0.        , 0.        ],\n",
       "       [0.08248473, 0.08333333, 0.07692308, 0.        , 0.05666083,\n",
       "        0.        , 0.        ],\n",
       "       [0.04786151, 0.08333333, 0.        , 1.        , 0.04551966,\n",
       "        0.        , 0.        ],\n",
       "       [0.09266802, 0.08333333, 0.07692308, 0.        , 0.07814738,\n",
       "        0.        , 1.        ],\n",
       "       [0.11099796, 0.16666667, 0.07692308, 0.        , 0.0693936 ,\n",
       "        0.        , 1.        ],\n",
       "       [0.11608961, 0.20833333, 0.07692308, 0.        , 0.0689957 ,\n",
       "        0.        , 1.        ],\n",
       "       [0.12118126, 0.125     , 0.07692308, 0.        , 0.07114436,\n",
       "        0.        , 0.        ],\n",
       "       [0.0610998 , 0.125     , 0.07692308, 0.        , 0.07575999,\n",
       "        0.        , 1.        ],\n",
       "       [0.07230143, 0.08333333, 0.        , 0.        , 0.05435302,\n",
       "        0.        , 0.        ]])"
      ]
     },
     "execution_count": 55,
     "metadata": {},
     "output_type": "execute_result"
    }
   ],
   "source": [
    "X_pred = scaler.transform(X_pred)\n",
    "X_pred"
   ]
  },
  {
   "cell_type": "code",
   "execution_count": 56,
   "metadata": {},
   "outputs": [
    {
     "name": "stdout",
     "output_type": "stream",
     "text": [
      "\u001b[1m1/1\u001b[0m \u001b[32m━━━━━━━━━━━━━━━━━━━━\u001b[0m\u001b[37m\u001b[0m \u001b[1m0s\u001b[0m 30ms/step\n"
     ]
    },
    {
     "data": {
      "text/plain": [
       "array([[ 63863.684],\n",
       "       [118349.04 ],\n",
       "       [221929.25 ],\n",
       "       [120876.414],\n",
       "       [326088.84 ],\n",
       "       [282514.88 ],\n",
       "       [272467.72 ],\n",
       "       [304178.8  ],\n",
       "       [268127.   ],\n",
       "       [161709.45 ]], dtype=float32)"
      ]
     },
     "execution_count": 56,
     "metadata": {},
     "output_type": "execute_result"
    }
   ],
   "source": [
    "#Realizamos predicción\n",
    "resultado = model.predict(X_pred)\n",
    "resultado"
   ]
  },
  {
   "cell_type": "code",
   "execution_count": 57,
   "metadata": {
    "scrolled": true
   },
   "outputs": [
    {
     "data": {
      "text/html": [
       "<div>\n",
       "<style scoped>\n",
       "    .dataframe tbody tr th:only-of-type {\n",
       "        vertical-align: middle;\n",
       "    }\n",
       "\n",
       "    .dataframe tbody tr th {\n",
       "        vertical-align: top;\n",
       "    }\n",
       "\n",
       "    .dataframe thead th {\n",
       "        text-align: right;\n",
       "    }\n",
       "</style>\n",
       "<table border=\"1\" class=\"dataframe\">\n",
       "  <thead>\n",
       "    <tr style=\"text-align: right;\">\n",
       "      <th></th>\n",
       "      <th>sq_mt_built</th>\n",
       "      <th>n_rooms</th>\n",
       "      <th>n_bathrooms</th>\n",
       "      <th>is_floor_under</th>\n",
       "      <th>rent_price</th>\n",
       "      <th>buy_price</th>\n",
       "      <th>is_new_development</th>\n",
       "      <th>has_parking</th>\n",
       "      <th>PREDICCIÓN</th>\n",
       "    </tr>\n",
       "  </thead>\n",
       "  <tbody>\n",
       "    <tr>\n",
       "      <th>0</th>\n",
       "      <td>65</td>\n",
       "      <td>2</td>\n",
       "      <td>1.0</td>\n",
       "      <td>False</td>\n",
       "      <td>420</td>\n",
       "      <td>NaN</td>\n",
       "      <td>False</td>\n",
       "      <td>False</td>\n",
       "      <td>63863.683594</td>\n",
       "    </tr>\n",
       "    <tr>\n",
       "      <th>1</th>\n",
       "      <td>72</td>\n",
       "      <td>3</td>\n",
       "      <td>1.0</td>\n",
       "      <td>False</td>\n",
       "      <td>650</td>\n",
       "      <td>NaN</td>\n",
       "      <td>False</td>\n",
       "      <td>False</td>\n",
       "      <td>118349.039062</td>\n",
       "    </tr>\n",
       "    <tr>\n",
       "      <th>2</th>\n",
       "      <td>97</td>\n",
       "      <td>2</td>\n",
       "      <td>2.0</td>\n",
       "      <td>False</td>\n",
       "      <td>730</td>\n",
       "      <td>NaN</td>\n",
       "      <td>False</td>\n",
       "      <td>False</td>\n",
       "      <td>221929.250000</td>\n",
       "    </tr>\n",
       "    <tr>\n",
       "      <th>3</th>\n",
       "      <td>63</td>\n",
       "      <td>2</td>\n",
       "      <td>1.0</td>\n",
       "      <td>True</td>\n",
       "      <td>590</td>\n",
       "      <td>NaN</td>\n",
       "      <td>False</td>\n",
       "      <td>False</td>\n",
       "      <td>120876.414062</td>\n",
       "    </tr>\n",
       "    <tr>\n",
       "      <th>4</th>\n",
       "      <td>107</td>\n",
       "      <td>2</td>\n",
       "      <td>2.0</td>\n",
       "      <td>False</td>\n",
       "      <td>1000</td>\n",
       "      <td>NaN</td>\n",
       "      <td>False</td>\n",
       "      <td>True</td>\n",
       "      <td>326088.843750</td>\n",
       "    </tr>\n",
       "    <tr>\n",
       "      <th>5</th>\n",
       "      <td>125</td>\n",
       "      <td>4</td>\n",
       "      <td>2.0</td>\n",
       "      <td>False</td>\n",
       "      <td>890</td>\n",
       "      <td>NaN</td>\n",
       "      <td>False</td>\n",
       "      <td>True</td>\n",
       "      <td>282514.875000</td>\n",
       "    </tr>\n",
       "    <tr>\n",
       "      <th>6</th>\n",
       "      <td>130</td>\n",
       "      <td>5</td>\n",
       "      <td>2.0</td>\n",
       "      <td>False</td>\n",
       "      <td>885</td>\n",
       "      <td>NaN</td>\n",
       "      <td>False</td>\n",
       "      <td>True</td>\n",
       "      <td>272467.718750</td>\n",
       "    </tr>\n",
       "    <tr>\n",
       "      <th>7</th>\n",
       "      <td>135</td>\n",
       "      <td>3</td>\n",
       "      <td>2.0</td>\n",
       "      <td>False</td>\n",
       "      <td>912</td>\n",
       "      <td>NaN</td>\n",
       "      <td>False</td>\n",
       "      <td>False</td>\n",
       "      <td>304178.812500</td>\n",
       "    </tr>\n",
       "    <tr>\n",
       "      <th>8</th>\n",
       "      <td>76</td>\n",
       "      <td>3</td>\n",
       "      <td>2.0</td>\n",
       "      <td>False</td>\n",
       "      <td>970</td>\n",
       "      <td>NaN</td>\n",
       "      <td>False</td>\n",
       "      <td>True</td>\n",
       "      <td>268127.000000</td>\n",
       "    </tr>\n",
       "    <tr>\n",
       "      <th>9</th>\n",
       "      <td>87</td>\n",
       "      <td>2</td>\n",
       "      <td>1.0</td>\n",
       "      <td>False</td>\n",
       "      <td>701</td>\n",
       "      <td>NaN</td>\n",
       "      <td>False</td>\n",
       "      <td>False</td>\n",
       "      <td>161709.453125</td>\n",
       "    </tr>\n",
       "  </tbody>\n",
       "</table>\n",
       "</div>"
      ],
      "text/plain": [
       "   sq_mt_built  n_rooms  n_bathrooms  is_floor_under  rent_price  buy_price  \\\n",
       "0           65        2          1.0           False         420        NaN   \n",
       "1           72        3          1.0           False         650        NaN   \n",
       "2           97        2          2.0           False         730        NaN   \n",
       "3           63        2          1.0            True         590        NaN   \n",
       "4          107        2          2.0           False        1000        NaN   \n",
       "5          125        4          2.0           False         890        NaN   \n",
       "6          130        5          2.0           False         885        NaN   \n",
       "7          135        3          2.0           False         912        NaN   \n",
       "8           76        3          2.0           False         970        NaN   \n",
       "9           87        2          1.0           False         701        NaN   \n",
       "\n",
       "   is_new_development  has_parking     PREDICCIÓN  \n",
       "0               False        False   63863.683594  \n",
       "1               False        False  118349.039062  \n",
       "2               False        False  221929.250000  \n",
       "3               False        False  120876.414062  \n",
       "4               False         True  326088.843750  \n",
       "5               False         True  282514.875000  \n",
       "6               False         True  272467.718750  \n",
       "7               False        False  304178.812500  \n",
       "8               False         True  268127.000000  \n",
       "9               False        False  161709.453125  "
      ]
     },
     "execution_count": 57,
     "metadata": {},
     "output_type": "execute_result"
    }
   ],
   "source": [
    "#Unimos en un dataframe los datos a predecir con su predicción\n",
    "df_pred['PREDICCIÓN']=pd.DataFrame(resultado)\n",
    "df_pred"
   ]
  },
  {
   "cell_type": "code",
   "execution_count": 58,
   "metadata": {},
   "outputs": [],
   "source": [
    "#Guardar y cargar el modelo para posterior uso"
   ]
  },
  {
   "cell_type": "code",
   "execution_count": 59,
   "metadata": {},
   "outputs": [],
   "source": [
    "from tensorflow.keras.models import load_model"
   ]
  },
  {
   "cell_type": "code",
   "execution_count": 61,
   "metadata": {},
   "outputs": [],
   "source": [
    "model.save('modelo_pred_vivienda.keras')"
   ]
  },
  {
   "cell_type": "code",
   "execution_count": 163,
   "metadata": {},
   "outputs": [],
   "source": [
    "#Cargar modelo para posterior uso"
   ]
  },
  {
   "cell_type": "code",
   "execution_count": 62,
   "metadata": {},
   "outputs": [
    {
     "name": "stderr",
     "output_type": "stream",
     "text": [
      "C:\\Users\\Iván Pinar\\anaconda3\\Lib\\site-packages\\keras\\src\\saving\\saving_lib.py:797: UserWarning: Skipping variable loading for optimizer 'rmsprop', because it has 12 variables whereas the saved optimizer has 22 variables. \n",
      "  saveable.load_own_variables(weights_store.get(inner_path))\n"
     ]
    }
   ],
   "source": [
    "modelo_cargado = load_model('modelo_pred_vivienda.keras')"
   ]
  }
 ],
 "metadata": {
  "kernelspec": {
   "display_name": "Python 3 (ipykernel)",
   "language": "python",
   "name": "python3"
  },
  "language_info": {
   "codemirror_mode": {
    "name": "ipython",
    "version": 3
   },
   "file_extension": ".py",
   "mimetype": "text/x-python",
   "name": "python",
   "nbconvert_exporter": "python",
   "pygments_lexer": "ipython3",
   "version": "3.13.5"
  }
 },
 "nbformat": 4,
 "nbformat_minor": 4
}
