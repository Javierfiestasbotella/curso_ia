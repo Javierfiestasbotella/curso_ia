{
 "cells": [
  {
   "cell_type": "markdown",
   "metadata": {},
   "source": [
    "# Keras Clasificación binaria"
   ]
  },
  {
   "cell_type": "markdown",
   "metadata": {},
   "source": [
    "# 1.Importación librerías"
   ]
  },
  {
   "cell_type": "code",
   "execution_count": 1,
   "metadata": {},
   "outputs": [],
   "source": [
    "import pandas as pd\n",
    "import numpy as np\n",
    "import matplotlib.pyplot as plt\n",
    "import seaborn as sns"
   ]
  },
  {
   "cell_type": "markdown",
   "metadata": {},
   "source": [
    "# 2.Importación fuente de datos"
   ]
  },
  {
   "cell_type": "raw",
   "metadata": {},
   "source": [
    "https://www.kaggle.com/kunalvsingh93/banking-model-multiclass-classification?select=train_loan.csv\n",
    "The process, defined as ‘risk-based pricing’, uses a sophisticated algorithm that leverages different determining factors of a loan applicant. Selection of significant factors will help develop a prediction algorithm which can estimate loan interest rates based on clients’ information. On one hand, knowing the factors will help consumers and borrowers to increase their credit worthiness and place themselves in a better position to negotiate for getting a lower interest rate. On the other hand, this will help lending companies to get an immediate fixed interest rate estimation based on clients information. Here, your goal is to use a training dataset to predict the loan rate category (1 / 2 / 3) that will be assigned to each loan in our test set.\n",
    "\n",
    "Interest_Rate --> Tasa de interés asignada, a mayor valor se considera mayor riesgo y por tanto tasa más elevada\n"
   ]
  },
  {
   "cell_type": "code",
   "execution_count": 2,
   "metadata": {},
   "outputs": [],
   "source": [
    "#Lectura datos históricos\n",
    "df = pd.read_csv('./info_prestamos.csv',encoding = \"ISO-8859-1\",delimiter=',')"
   ]
  },
  {
   "cell_type": "code",
   "execution_count": 3,
   "metadata": {},
   "outputs": [
    {
     "data": {
      "text/html": [
       "<div>\n",
       "<style scoped>\n",
       "    .dataframe tbody tr th:only-of-type {\n",
       "        vertical-align: middle;\n",
       "    }\n",
       "\n",
       "    .dataframe tbody tr th {\n",
       "        vertical-align: top;\n",
       "    }\n",
       "\n",
       "    .dataframe thead th {\n",
       "        text-align: right;\n",
       "    }\n",
       "</style>\n",
       "<table border=\"1\" class=\"dataframe\">\n",
       "  <thead>\n",
       "    <tr style=\"text-align: right;\">\n",
       "      <th></th>\n",
       "      <th>Loan_ID</th>\n",
       "      <th>Loan_Amount_Requested</th>\n",
       "      <th>Length_Employed</th>\n",
       "      <th>Home_Owner</th>\n",
       "      <th>Annual_Income</th>\n",
       "      <th>Income_Verified</th>\n",
       "      <th>Purpose_Of_Loan</th>\n",
       "      <th>Debt_To_Income</th>\n",
       "      <th>Inquiries_Last_6Mo</th>\n",
       "      <th>Months_Since_Deliquency</th>\n",
       "      <th>Number_Open_Accounts</th>\n",
       "      <th>Total_Accounts</th>\n",
       "      <th>Gender</th>\n",
       "      <th>Interest_Rate</th>\n",
       "    </tr>\n",
       "  </thead>\n",
       "  <tbody>\n",
       "    <tr>\n",
       "      <th>0</th>\n",
       "      <td>10000001</td>\n",
       "      <td>7,000</td>\n",
       "      <td>&lt; 1 year</td>\n",
       "      <td>Rent</td>\n",
       "      <td>68000.0</td>\n",
       "      <td>not verified</td>\n",
       "      <td>car</td>\n",
       "      <td>18.37</td>\n",
       "      <td>0</td>\n",
       "      <td>NaN</td>\n",
       "      <td>9</td>\n",
       "      <td>14</td>\n",
       "      <td>Female</td>\n",
       "      <td>1</td>\n",
       "    </tr>\n",
       "    <tr>\n",
       "      <th>1</th>\n",
       "      <td>10000002</td>\n",
       "      <td>30,000</td>\n",
       "      <td>4 years</td>\n",
       "      <td>Mortgage</td>\n",
       "      <td>NaN</td>\n",
       "      <td>VERIFIED - income</td>\n",
       "      <td>debt_consolidation</td>\n",
       "      <td>14.93</td>\n",
       "      <td>0</td>\n",
       "      <td>17.0</td>\n",
       "      <td>12</td>\n",
       "      <td>24</td>\n",
       "      <td>Female</td>\n",
       "      <td>3</td>\n",
       "    </tr>\n",
       "    <tr>\n",
       "      <th>2</th>\n",
       "      <td>10000003</td>\n",
       "      <td>24,725</td>\n",
       "      <td>7 years</td>\n",
       "      <td>Mortgage</td>\n",
       "      <td>75566.4</td>\n",
       "      <td>VERIFIED - income source</td>\n",
       "      <td>debt_consolidation</td>\n",
       "      <td>15.88</td>\n",
       "      <td>0</td>\n",
       "      <td>NaN</td>\n",
       "      <td>12</td>\n",
       "      <td>16</td>\n",
       "      <td>Male</td>\n",
       "      <td>3</td>\n",
       "    </tr>\n",
       "    <tr>\n",
       "      <th>3</th>\n",
       "      <td>10000004</td>\n",
       "      <td>16,000</td>\n",
       "      <td>&lt; 1 year</td>\n",
       "      <td>NaN</td>\n",
       "      <td>56160.0</td>\n",
       "      <td>VERIFIED - income source</td>\n",
       "      <td>debt_consolidation</td>\n",
       "      <td>14.34</td>\n",
       "      <td>3</td>\n",
       "      <td>NaN</td>\n",
       "      <td>16</td>\n",
       "      <td>22</td>\n",
       "      <td>Male</td>\n",
       "      <td>3</td>\n",
       "    </tr>\n",
       "    <tr>\n",
       "      <th>4</th>\n",
       "      <td>10000005</td>\n",
       "      <td>17,000</td>\n",
       "      <td>8 years</td>\n",
       "      <td>Own</td>\n",
       "      <td>96000.0</td>\n",
       "      <td>VERIFIED - income source</td>\n",
       "      <td>debt_consolidation</td>\n",
       "      <td>22.17</td>\n",
       "      <td>1</td>\n",
       "      <td>NaN</td>\n",
       "      <td>19</td>\n",
       "      <td>30</td>\n",
       "      <td>Female</td>\n",
       "      <td>1</td>\n",
       "    </tr>\n",
       "  </tbody>\n",
       "</table>\n",
       "</div>"
      ],
      "text/plain": [
       "    Loan_ID Loan_Amount_Requested Length_Employed Home_Owner  Annual_Income  \\\n",
       "0  10000001                 7,000        < 1 year       Rent        68000.0   \n",
       "1  10000002                30,000         4 years   Mortgage            NaN   \n",
       "2  10000003                24,725         7 years   Mortgage        75566.4   \n",
       "3  10000004                16,000        < 1 year        NaN        56160.0   \n",
       "4  10000005                17,000         8 years        Own        96000.0   \n",
       "\n",
       "            Income_Verified     Purpose_Of_Loan  Debt_To_Income  \\\n",
       "0              not verified                 car           18.37   \n",
       "1         VERIFIED - income  debt_consolidation           14.93   \n",
       "2  VERIFIED - income source  debt_consolidation           15.88   \n",
       "3  VERIFIED - income source  debt_consolidation           14.34   \n",
       "4  VERIFIED - income source  debt_consolidation           22.17   \n",
       "\n",
       "   Inquiries_Last_6Mo  Months_Since_Deliquency  Number_Open_Accounts  \\\n",
       "0                   0                      NaN                     9   \n",
       "1                   0                     17.0                    12   \n",
       "2                   0                      NaN                    12   \n",
       "3                   3                      NaN                    16   \n",
       "4                   1                      NaN                    19   \n",
       "\n",
       "   Total_Accounts  Gender  Interest_Rate  \n",
       "0              14  Female              1  \n",
       "1              24  Female              3  \n",
       "2              16    Male              3  \n",
       "3              22    Male              3  \n",
       "4              30  Female              1  "
      ]
     },
     "execution_count": 3,
     "metadata": {},
     "output_type": "execute_result"
    }
   ],
   "source": [
    "df.head()"
   ]
  },
  {
   "cell_type": "code",
   "execution_count": null,
   "metadata": {},
   "outputs": [],
   "source": []
  },
  {
   "cell_type": "markdown",
   "metadata": {},
   "source": [
    "# 3.Análisis de Datos (EDA) + Preprocesado"
   ]
  },
  {
   "cell_type": "code",
   "execution_count": 4,
   "metadata": {},
   "outputs": [
    {
     "name": "stdout",
     "output_type": "stream",
     "text": [
      "<class 'pandas.core.frame.DataFrame'>\n",
      "RangeIndex: 164309 entries, 0 to 164308\n",
      "Data columns (total 14 columns):\n",
      " #   Column                   Non-Null Count   Dtype  \n",
      "---  ------                   --------------   -----  \n",
      " 0   Loan_ID                  164309 non-null  int64  \n",
      " 1   Loan_Amount_Requested    164309 non-null  object \n",
      " 2   Length_Employed          156938 non-null  object \n",
      " 3   Home_Owner               138960 non-null  object \n",
      " 4   Annual_Income            139207 non-null  float64\n",
      " 5   Income_Verified          164309 non-null  object \n",
      " 6   Purpose_Of_Loan          164309 non-null  object \n",
      " 7   Debt_To_Income           164309 non-null  float64\n",
      " 8   Inquiries_Last_6Mo       164309 non-null  int64  \n",
      " 9   Months_Since_Deliquency  75930 non-null   float64\n",
      " 10  Number_Open_Accounts     164309 non-null  int64  \n",
      " 11  Total_Accounts           164309 non-null  int64  \n",
      " 12  Gender                   164309 non-null  object \n",
      " 13  Interest_Rate            164309 non-null  int64  \n",
      "dtypes: float64(3), int64(5), object(6)\n",
      "memory usage: 17.6+ MB\n"
     ]
    }
   ],
   "source": [
    "df.info()"
   ]
  },
  {
   "cell_type": "code",
   "execution_count": 5,
   "metadata": {},
   "outputs": [
    {
     "data": {
      "text/html": [
       "<div>\n",
       "<style scoped>\n",
       "    .dataframe tbody tr th:only-of-type {\n",
       "        vertical-align: middle;\n",
       "    }\n",
       "\n",
       "    .dataframe tbody tr th {\n",
       "        vertical-align: top;\n",
       "    }\n",
       "\n",
       "    .dataframe thead th {\n",
       "        text-align: right;\n",
       "    }\n",
       "</style>\n",
       "<table border=\"1\" class=\"dataframe\">\n",
       "  <thead>\n",
       "    <tr style=\"text-align: right;\">\n",
       "      <th></th>\n",
       "      <th>Loan_ID</th>\n",
       "      <th>Loan_Amount_Requested</th>\n",
       "      <th>Length_Employed</th>\n",
       "      <th>Home_Owner</th>\n",
       "      <th>Annual_Income</th>\n",
       "      <th>Income_Verified</th>\n",
       "      <th>Purpose_Of_Loan</th>\n",
       "      <th>Debt_To_Income</th>\n",
       "      <th>Inquiries_Last_6Mo</th>\n",
       "      <th>Months_Since_Deliquency</th>\n",
       "      <th>Number_Open_Accounts</th>\n",
       "      <th>Total_Accounts</th>\n",
       "      <th>Gender</th>\n",
       "      <th>Interest_Rate</th>\n",
       "    </tr>\n",
       "  </thead>\n",
       "  <tbody>\n",
       "    <tr>\n",
       "      <th>0</th>\n",
       "      <td>10000001</td>\n",
       "      <td>7,000</td>\n",
       "      <td>&lt; 1 year</td>\n",
       "      <td>Rent</td>\n",
       "      <td>68000.0</td>\n",
       "      <td>not verified</td>\n",
       "      <td>car</td>\n",
       "      <td>18.37</td>\n",
       "      <td>0</td>\n",
       "      <td>NaN</td>\n",
       "      <td>9</td>\n",
       "      <td>14</td>\n",
       "      <td>Female</td>\n",
       "      <td>1</td>\n",
       "    </tr>\n",
       "    <tr>\n",
       "      <th>1</th>\n",
       "      <td>10000002</td>\n",
       "      <td>30,000</td>\n",
       "      <td>4 years</td>\n",
       "      <td>Mortgage</td>\n",
       "      <td>NaN</td>\n",
       "      <td>VERIFIED - income</td>\n",
       "      <td>debt_consolidation</td>\n",
       "      <td>14.93</td>\n",
       "      <td>0</td>\n",
       "      <td>17.0</td>\n",
       "      <td>12</td>\n",
       "      <td>24</td>\n",
       "      <td>Female</td>\n",
       "      <td>3</td>\n",
       "    </tr>\n",
       "    <tr>\n",
       "      <th>2</th>\n",
       "      <td>10000003</td>\n",
       "      <td>24,725</td>\n",
       "      <td>7 years</td>\n",
       "      <td>Mortgage</td>\n",
       "      <td>75566.4</td>\n",
       "      <td>VERIFIED - income source</td>\n",
       "      <td>debt_consolidation</td>\n",
       "      <td>15.88</td>\n",
       "      <td>0</td>\n",
       "      <td>NaN</td>\n",
       "      <td>12</td>\n",
       "      <td>16</td>\n",
       "      <td>Male</td>\n",
       "      <td>3</td>\n",
       "    </tr>\n",
       "    <tr>\n",
       "      <th>3</th>\n",
       "      <td>10000004</td>\n",
       "      <td>16,000</td>\n",
       "      <td>&lt; 1 year</td>\n",
       "      <td>NaN</td>\n",
       "      <td>56160.0</td>\n",
       "      <td>VERIFIED - income source</td>\n",
       "      <td>debt_consolidation</td>\n",
       "      <td>14.34</td>\n",
       "      <td>3</td>\n",
       "      <td>NaN</td>\n",
       "      <td>16</td>\n",
       "      <td>22</td>\n",
       "      <td>Male</td>\n",
       "      <td>3</td>\n",
       "    </tr>\n",
       "    <tr>\n",
       "      <th>4</th>\n",
       "      <td>10000005</td>\n",
       "      <td>17,000</td>\n",
       "      <td>8 years</td>\n",
       "      <td>Own</td>\n",
       "      <td>96000.0</td>\n",
       "      <td>VERIFIED - income source</td>\n",
       "      <td>debt_consolidation</td>\n",
       "      <td>22.17</td>\n",
       "      <td>1</td>\n",
       "      <td>NaN</td>\n",
       "      <td>19</td>\n",
       "      <td>30</td>\n",
       "      <td>Female</td>\n",
       "      <td>1</td>\n",
       "    </tr>\n",
       "  </tbody>\n",
       "</table>\n",
       "</div>"
      ],
      "text/plain": [
       "    Loan_ID Loan_Amount_Requested Length_Employed Home_Owner  Annual_Income  \\\n",
       "0  10000001                 7,000        < 1 year       Rent        68000.0   \n",
       "1  10000002                30,000         4 years   Mortgage            NaN   \n",
       "2  10000003                24,725         7 years   Mortgage        75566.4   \n",
       "3  10000004                16,000        < 1 year        NaN        56160.0   \n",
       "4  10000005                17,000         8 years        Own        96000.0   \n",
       "\n",
       "            Income_Verified     Purpose_Of_Loan  Debt_To_Income  \\\n",
       "0              not verified                 car           18.37   \n",
       "1         VERIFIED - income  debt_consolidation           14.93   \n",
       "2  VERIFIED - income source  debt_consolidation           15.88   \n",
       "3  VERIFIED - income source  debt_consolidation           14.34   \n",
       "4  VERIFIED - income source  debt_consolidation           22.17   \n",
       "\n",
       "   Inquiries_Last_6Mo  Months_Since_Deliquency  Number_Open_Accounts  \\\n",
       "0                   0                      NaN                     9   \n",
       "1                   0                     17.0                    12   \n",
       "2                   0                      NaN                    12   \n",
       "3                   3                      NaN                    16   \n",
       "4                   1                      NaN                    19   \n",
       "\n",
       "   Total_Accounts  Gender  Interest_Rate  \n",
       "0              14  Female              1  \n",
       "1              24  Female              3  \n",
       "2              16    Male              3  \n",
       "3              22    Male              3  \n",
       "4              30  Female              1  "
      ]
     },
     "execution_count": 5,
     "metadata": {},
     "output_type": "execute_result"
    }
   ],
   "source": [
    "df.head()"
   ]
  },
  {
   "cell_type": "markdown",
   "metadata": {},
   "source": [
    "## 3.1 Limpieza inicial"
   ]
  },
  {
   "cell_type": "code",
   "execution_count": 6,
   "metadata": {},
   "outputs": [
    {
     "data": {
      "text/plain": [
       "Loan_ID                        0\n",
       "Loan_Amount_Requested          0\n",
       "Length_Employed             7371\n",
       "Home_Owner                 25349\n",
       "Annual_Income              25102\n",
       "Income_Verified                0\n",
       "Purpose_Of_Loan                0\n",
       "Debt_To_Income                 0\n",
       "Inquiries_Last_6Mo             0\n",
       "Months_Since_Deliquency    88379\n",
       "Number_Open_Accounts           0\n",
       "Total_Accounts                 0\n",
       "Gender                         0\n",
       "Interest_Rate                  0\n",
       "dtype: int64"
      ]
     },
     "execution_count": 6,
     "metadata": {},
     "output_type": "execute_result"
    }
   ],
   "source": [
    "df.isnull().sum() #Verificamos si hay valores nulos en alguna columna del dataframe"
   ]
  },
  {
   "cell_type": "code",
   "execution_count": 7,
   "metadata": {},
   "outputs": [
    {
     "data": {
      "text/html": [
       "<div>\n",
       "<style scoped>\n",
       "    .dataframe tbody tr th:only-of-type {\n",
       "        vertical-align: middle;\n",
       "    }\n",
       "\n",
       "    .dataframe tbody tr th {\n",
       "        vertical-align: top;\n",
       "    }\n",
       "\n",
       "    .dataframe thead th {\n",
       "        text-align: right;\n",
       "    }\n",
       "</style>\n",
       "<table border=\"1\" class=\"dataframe\">\n",
       "  <thead>\n",
       "    <tr style=\"text-align: right;\">\n",
       "      <th></th>\n",
       "      <th>Loan_ID</th>\n",
       "      <th>Loan_Amount_Requested</th>\n",
       "      <th>Length_Employed</th>\n",
       "      <th>Home_Owner</th>\n",
       "      <th>Annual_Income</th>\n",
       "      <th>Income_Verified</th>\n",
       "      <th>Purpose_Of_Loan</th>\n",
       "      <th>Debt_To_Income</th>\n",
       "      <th>Inquiries_Last_6Mo</th>\n",
       "      <th>Number_Open_Accounts</th>\n",
       "      <th>Total_Accounts</th>\n",
       "      <th>Gender</th>\n",
       "      <th>Interest_Rate</th>\n",
       "    </tr>\n",
       "  </thead>\n",
       "  <tbody>\n",
       "    <tr>\n",
       "      <th>0</th>\n",
       "      <td>10000001</td>\n",
       "      <td>7,000</td>\n",
       "      <td>&lt; 1 year</td>\n",
       "      <td>Rent</td>\n",
       "      <td>68000.0</td>\n",
       "      <td>not verified</td>\n",
       "      <td>car</td>\n",
       "      <td>18.37</td>\n",
       "      <td>0</td>\n",
       "      <td>9</td>\n",
       "      <td>14</td>\n",
       "      <td>Female</td>\n",
       "      <td>1</td>\n",
       "    </tr>\n",
       "    <tr>\n",
       "      <th>1</th>\n",
       "      <td>10000002</td>\n",
       "      <td>30,000</td>\n",
       "      <td>4 years</td>\n",
       "      <td>Mortgage</td>\n",
       "      <td>NaN</td>\n",
       "      <td>VERIFIED - income</td>\n",
       "      <td>debt_consolidation</td>\n",
       "      <td>14.93</td>\n",
       "      <td>0</td>\n",
       "      <td>12</td>\n",
       "      <td>24</td>\n",
       "      <td>Female</td>\n",
       "      <td>3</td>\n",
       "    </tr>\n",
       "    <tr>\n",
       "      <th>2</th>\n",
       "      <td>10000003</td>\n",
       "      <td>24,725</td>\n",
       "      <td>7 years</td>\n",
       "      <td>Mortgage</td>\n",
       "      <td>75566.4</td>\n",
       "      <td>VERIFIED - income source</td>\n",
       "      <td>debt_consolidation</td>\n",
       "      <td>15.88</td>\n",
       "      <td>0</td>\n",
       "      <td>12</td>\n",
       "      <td>16</td>\n",
       "      <td>Male</td>\n",
       "      <td>3</td>\n",
       "    </tr>\n",
       "    <tr>\n",
       "      <th>3</th>\n",
       "      <td>10000004</td>\n",
       "      <td>16,000</td>\n",
       "      <td>&lt; 1 year</td>\n",
       "      <td>NaN</td>\n",
       "      <td>56160.0</td>\n",
       "      <td>VERIFIED - income source</td>\n",
       "      <td>debt_consolidation</td>\n",
       "      <td>14.34</td>\n",
       "      <td>3</td>\n",
       "      <td>16</td>\n",
       "      <td>22</td>\n",
       "      <td>Male</td>\n",
       "      <td>3</td>\n",
       "    </tr>\n",
       "    <tr>\n",
       "      <th>4</th>\n",
       "      <td>10000005</td>\n",
       "      <td>17,000</td>\n",
       "      <td>8 years</td>\n",
       "      <td>Own</td>\n",
       "      <td>96000.0</td>\n",
       "      <td>VERIFIED - income source</td>\n",
       "      <td>debt_consolidation</td>\n",
       "      <td>22.17</td>\n",
       "      <td>1</td>\n",
       "      <td>19</td>\n",
       "      <td>30</td>\n",
       "      <td>Female</td>\n",
       "      <td>1</td>\n",
       "    </tr>\n",
       "  </tbody>\n",
       "</table>\n",
       "</div>"
      ],
      "text/plain": [
       "    Loan_ID Loan_Amount_Requested Length_Employed Home_Owner  Annual_Income  \\\n",
       "0  10000001                 7,000        < 1 year       Rent        68000.0   \n",
       "1  10000002                30,000         4 years   Mortgage            NaN   \n",
       "2  10000003                24,725         7 years   Mortgage        75566.4   \n",
       "3  10000004                16,000        < 1 year        NaN        56160.0   \n",
       "4  10000005                17,000         8 years        Own        96000.0   \n",
       "\n",
       "            Income_Verified     Purpose_Of_Loan  Debt_To_Income  \\\n",
       "0              not verified                 car           18.37   \n",
       "1         VERIFIED - income  debt_consolidation           14.93   \n",
       "2  VERIFIED - income source  debt_consolidation           15.88   \n",
       "3  VERIFIED - income source  debt_consolidation           14.34   \n",
       "4  VERIFIED - income source  debt_consolidation           22.17   \n",
       "\n",
       "   Inquiries_Last_6Mo  Number_Open_Accounts  Total_Accounts  Gender  \\\n",
       "0                   0                     9              14  Female   \n",
       "1                   0                    12              24  Female   \n",
       "2                   0                    12              16    Male   \n",
       "3                   3                    16              22    Male   \n",
       "4                   1                    19              30  Female   \n",
       "\n",
       "   Interest_Rate  \n",
       "0              1  \n",
       "1              3  \n",
       "2              3  \n",
       "3              3  \n",
       "4              1  "
      ]
     },
     "execution_count": 7,
     "metadata": {},
     "output_type": "execute_result"
    }
   ],
   "source": [
    "#Eliminar variables que tienen un alto porcentaje de registros con el valor nulo\n",
    "df_var = df.isnull().sum() #Creamos una serie de pandas con el número de valores nulos de cada variable\n",
    "porcentaje_eliminacion = 0.2 #20%\n",
    "df_var = df_var[df_var<porcentaje_eliminacion*len(df)] #Nos quedamos con las variables que tienen menos de un porcentaje de registros nulos\n",
    "lista_variables_OK = df_var.index #Nos quedamos con el índice de la serie (los nombres de las variables de interés)\n",
    "df = df[lista_variables_OK] #Filtramos el dataframe original y nos quedamos solo con las columnas de interés\n",
    "df.head(5)"
   ]
  },
  {
   "cell_type": "code",
   "execution_count": 8,
   "metadata": {},
   "outputs": [
    {
     "data": {
      "text/plain": [
       "Loan_ID                      0\n",
       "Loan_Amount_Requested        0\n",
       "Length_Employed           7371\n",
       "Home_Owner               25349\n",
       "Annual_Income            25102\n",
       "Income_Verified              0\n",
       "Purpose_Of_Loan              0\n",
       "Debt_To_Income               0\n",
       "Inquiries_Last_6Mo           0\n",
       "Number_Open_Accounts         0\n",
       "Total_Accounts               0\n",
       "Gender                       0\n",
       "Interest_Rate                0\n",
       "dtype: int64"
      ]
     },
     "execution_count": 8,
     "metadata": {},
     "output_type": "execute_result"
    }
   ],
   "source": [
    "#Registros que tienen algún valor erróneo --> Eliminar / Interpolar / Correlar con otras variables para asignar el promedio en base a la variable con mayor correlación\n",
    "#df.dropna(inplace=True)\n",
    "df.isnull().sum() #Verificamos si hay valores nulos en alguna columna del dataframe"
   ]
  },
  {
   "cell_type": "code",
   "execution_count": 9,
   "metadata": {},
   "outputs": [
    {
     "data": {
      "text/html": [
       "<div>\n",
       "<style scoped>\n",
       "    .dataframe tbody tr th:only-of-type {\n",
       "        vertical-align: middle;\n",
       "    }\n",
       "\n",
       "    .dataframe tbody tr th {\n",
       "        vertical-align: top;\n",
       "    }\n",
       "\n",
       "    .dataframe thead th {\n",
       "        text-align: right;\n",
       "    }\n",
       "</style>\n",
       "<table border=\"1\" class=\"dataframe\">\n",
       "  <thead>\n",
       "    <tr style=\"text-align: right;\">\n",
       "      <th></th>\n",
       "      <th>count</th>\n",
       "      <th>mean</th>\n",
       "      <th>std</th>\n",
       "      <th>min</th>\n",
       "      <th>25%</th>\n",
       "      <th>50%</th>\n",
       "      <th>75%</th>\n",
       "      <th>max</th>\n",
       "    </tr>\n",
       "  </thead>\n",
       "  <tbody>\n",
       "    <tr>\n",
       "      <th>Loan_ID</th>\n",
       "      <td>164309.0</td>\n",
       "      <td>1.008216e+07</td>\n",
       "      <td>47432.067027</td>\n",
       "      <td>10000001.0</td>\n",
       "      <td>10041078.00</td>\n",
       "      <td>10082155.00</td>\n",
       "      <td>10123232.00</td>\n",
       "      <td>10164309.00</td>\n",
       "    </tr>\n",
       "    <tr>\n",
       "      <th>Annual_Income</th>\n",
       "      <td>139207.0</td>\n",
       "      <td>7.333116e+04</td>\n",
       "      <td>60377.498294</td>\n",
       "      <td>4000.0</td>\n",
       "      <td>45000.00</td>\n",
       "      <td>63000.00</td>\n",
       "      <td>88697.50</td>\n",
       "      <td>7500000.00</td>\n",
       "    </tr>\n",
       "    <tr>\n",
       "      <th>Debt_To_Income</th>\n",
       "      <td>164309.0</td>\n",
       "      <td>1.720719e+01</td>\n",
       "      <td>7.845083</td>\n",
       "      <td>0.0</td>\n",
       "      <td>11.37</td>\n",
       "      <td>16.84</td>\n",
       "      <td>22.78</td>\n",
       "      <td>39.99</td>\n",
       "    </tr>\n",
       "    <tr>\n",
       "      <th>Inquiries_Last_6Mo</th>\n",
       "      <td>164309.0</td>\n",
       "      <td>7.816979e-01</td>\n",
       "      <td>1.034747</td>\n",
       "      <td>0.0</td>\n",
       "      <td>0.00</td>\n",
       "      <td>0.00</td>\n",
       "      <td>1.00</td>\n",
       "      <td>8.00</td>\n",
       "    </tr>\n",
       "    <tr>\n",
       "      <th>Number_Open_Accounts</th>\n",
       "      <td>164309.0</td>\n",
       "      <td>1.119382e+01</td>\n",
       "      <td>4.991813</td>\n",
       "      <td>0.0</td>\n",
       "      <td>8.00</td>\n",
       "      <td>10.00</td>\n",
       "      <td>14.00</td>\n",
       "      <td>76.00</td>\n",
       "    </tr>\n",
       "    <tr>\n",
       "      <th>Total_Accounts</th>\n",
       "      <td>164309.0</td>\n",
       "      <td>2.506767e+01</td>\n",
       "      <td>11.583067</td>\n",
       "      <td>2.0</td>\n",
       "      <td>17.00</td>\n",
       "      <td>23.00</td>\n",
       "      <td>32.00</td>\n",
       "      <td>156.00</td>\n",
       "    </tr>\n",
       "    <tr>\n",
       "      <th>Interest_Rate</th>\n",
       "      <td>164309.0</td>\n",
       "      <td>2.158951e+00</td>\n",
       "      <td>0.738364</td>\n",
       "      <td>1.0</td>\n",
       "      <td>2.00</td>\n",
       "      <td>2.00</td>\n",
       "      <td>3.00</td>\n",
       "      <td>3.00</td>\n",
       "    </tr>\n",
       "  </tbody>\n",
       "</table>\n",
       "</div>"
      ],
      "text/plain": [
       "                         count          mean           std         min  \\\n",
       "Loan_ID               164309.0  1.008216e+07  47432.067027  10000001.0   \n",
       "Annual_Income         139207.0  7.333116e+04  60377.498294      4000.0   \n",
       "Debt_To_Income        164309.0  1.720719e+01      7.845083         0.0   \n",
       "Inquiries_Last_6Mo    164309.0  7.816979e-01      1.034747         0.0   \n",
       "Number_Open_Accounts  164309.0  1.119382e+01      4.991813         0.0   \n",
       "Total_Accounts        164309.0  2.506767e+01     11.583067         2.0   \n",
       "Interest_Rate         164309.0  2.158951e+00      0.738364         1.0   \n",
       "\n",
       "                              25%          50%          75%          max  \n",
       "Loan_ID               10041078.00  10082155.00  10123232.00  10164309.00  \n",
       "Annual_Income            45000.00     63000.00     88697.50   7500000.00  \n",
       "Debt_To_Income              11.37        16.84        22.78        39.99  \n",
       "Inquiries_Last_6Mo           0.00         0.00         1.00         8.00  \n",
       "Number_Open_Accounts         8.00        10.00        14.00        76.00  \n",
       "Total_Accounts              17.00        23.00        32.00       156.00  \n",
       "Interest_Rate                2.00         2.00         3.00         3.00  "
      ]
     },
     "execution_count": 9,
     "metadata": {},
     "output_type": "execute_result"
    }
   ],
   "source": [
    "df.describe().transpose()"
   ]
  },
  {
   "cell_type": "code",
   "execution_count": 10,
   "metadata": {},
   "outputs": [
    {
     "data": {
      "text/plain": [
       "array(['< 1 year', '4 years', '7 years', '8 years', '2 years',\n",
       "       '10+ years', '1 year', nan, '6 years', '9 years', '3 years',\n",
       "       '5 years'], dtype=object)"
      ]
     },
     "execution_count": 10,
     "metadata": {},
     "output_type": "execute_result"
    }
   ],
   "source": [
    "# TRANSFORMAR VARIABLE \"Length_Employed\"\n",
    "df[\"Length_Employed\"].unique()"
   ]
  },
  {
   "cell_type": "code",
   "execution_count": 11,
   "metadata": {},
   "outputs": [
    {
     "data": {
      "text/plain": [
       "0          0.0\n",
       "1          4.0\n",
       "2          7.0\n",
       "3          0.0\n",
       "4          8.0\n",
       "          ... \n",
       "164304    10.0\n",
       "164305     8.0\n",
       "164306    10.0\n",
       "164307     4.0\n",
       "164308    10.0\n",
       "Name: Length_Employed, Length: 164309, dtype: float64"
      ]
     },
     "execution_count": 11,
     "metadata": {},
     "output_type": "execute_result"
    }
   ],
   "source": [
    "df['Length_Employed'] = df['Length_Employed'].str.replace('< 1 year','0 years') #Sustituimos <1 año por 0 para diferenciar de la categoría 1 año\n",
    "df['Length_Employed'] = df[\"Length_Employed\"].str.extract('(\\d+)') # Nos quedamos únicamente con los carácteres numéricos\n",
    "df[\"Length_Employed\"] = df[\"Length_Employed\"].apply(pd.to_numeric) # Convertimos la columna a formato número\n",
    "df[\"Length_Employed\"]"
   ]
  },
  {
   "cell_type": "code",
   "execution_count": 12,
   "metadata": {},
   "outputs": [
    {
     "name": "stdout",
     "output_type": "stream",
     "text": [
      "<class 'pandas.core.frame.DataFrame'>\n",
      "RangeIndex: 164309 entries, 0 to 164308\n",
      "Data columns (total 13 columns):\n",
      " #   Column                 Non-Null Count   Dtype  \n",
      "---  ------                 --------------   -----  \n",
      " 0   Loan_ID                164309 non-null  int64  \n",
      " 1   Loan_Amount_Requested  164309 non-null  object \n",
      " 2   Length_Employed        156938 non-null  float64\n",
      " 3   Home_Owner             138960 non-null  object \n",
      " 4   Annual_Income          139207 non-null  float64\n",
      " 5   Income_Verified        164309 non-null  object \n",
      " 6   Purpose_Of_Loan        164309 non-null  object \n",
      " 7   Debt_To_Income         164309 non-null  float64\n",
      " 8   Inquiries_Last_6Mo     164309 non-null  int64  \n",
      " 9   Number_Open_Accounts   164309 non-null  int64  \n",
      " 10  Total_Accounts         164309 non-null  int64  \n",
      " 11  Gender                 164309 non-null  object \n",
      " 12  Interest_Rate          164309 non-null  int64  \n",
      "dtypes: float64(3), int64(5), object(5)\n",
      "memory usage: 16.3+ MB\n"
     ]
    }
   ],
   "source": [
    "df.info()"
   ]
  },
  {
   "cell_type": "code",
   "execution_count": 13,
   "metadata": {},
   "outputs": [
    {
     "name": "stdout",
     "output_type": "stream",
     "text": [
      "Correlación con Length_Employed\n"
     ]
    },
    {
     "data": {
      "text/plain": [
       "Inquiries_Last_6Mo     -0.006522\n",
       "Loan_ID                 0.000152\n",
       "Interest_Rate           0.030404\n",
       "Number_Open_Accounts    0.037321\n",
       "Debt_To_Income          0.049020\n",
       "Annual_Income           0.069505\n",
       "Total_Accounts          0.111460\n",
       "Length_Employed         1.000000\n",
       "Name: Length_Employed, dtype: float64"
      ]
     },
     "execution_count": 13,
     "metadata": {},
     "output_type": "execute_result"
    }
   ],
   "source": [
    "# Limpiamos los valores erróneos de Length_Employed a partir de la correlación con otras variables\n",
    "print(\"Correlación con Length_Employed\")\n",
    "df.corr()['Length_Employed'].sort_values()\n",
    "#En caso de que haya un error al aplicar el método corr() sobre un dataframe por el hecho de que haya columnas no numéricas (depende de la versión de la librería Pandas), lo más sencillo es aplicar el método con la opción numeric_only=True:\n",
    "#df.corr(numeric_only = True)"
   ]
  },
  {
   "cell_type": "code",
   "execution_count": 14,
   "metadata": {},
   "outputs": [
    {
     "name": "stdout",
     "output_type": "stream",
     "text": [
      "Promedio de Length_Employed por Total_Accounts\n"
     ]
    },
    {
     "data": {
      "text/plain": [
       "Total_Accounts\n",
       "2       2.500000\n",
       "3       2.709924\n",
       "4       3.662551\n",
       "5       4.180240\n",
       "6       4.260575\n",
       "         ...    \n",
       "99     10.000000\n",
       "102     7.000000\n",
       "105    10.000000\n",
       "116    10.000000\n",
       "156    10.000000\n",
       "Name: Length_Employed, Length: 100, dtype: float64"
      ]
     },
     "execution_count": 14,
     "metadata": {},
     "output_type": "execute_result"
    }
   ],
   "source": [
    "#La mayor correlación se da con Total_Accounts por tanto completaremos los valores nulos de Length_Employed con el valor promedio de total_accounts para cada categoría de Length_employed\n",
    "print(\"Promedio de Length_Employed por Total_Accounts\")\n",
    "df.groupby('Total_Accounts').mean()['Length_Employed']"
   ]
  },
  {
   "cell_type": "code",
   "execution_count": 15,
   "metadata": {},
   "outputs": [],
   "source": [
    "total_acc_avg = df.groupby('Total_Accounts').mean()['Length_Employed']"
   ]
  },
  {
   "cell_type": "code",
   "execution_count": 16,
   "metadata": {},
   "outputs": [
    {
     "data": {
      "text/plain": [
       "4.180240320427236"
      ]
     },
     "execution_count": 16,
     "metadata": {},
     "output_type": "execute_result"
    }
   ],
   "source": [
    "total_acc_avg[5]"
   ]
  },
  {
   "cell_type": "code",
   "execution_count": 17,
   "metadata": {},
   "outputs": [],
   "source": [
    "def completar_len_empl(total_acc,len_emp):\n",
    "    if np.isnan(len_emp):\n",
    "        return total_acc_avg[total_acc] #Si el valor es nulo devuelve el promedio de Length_Employed para el valor correspondiente de Total_Accounts\n",
    "    else:\n",
    "        return len_emp"
   ]
  },
  {
   "cell_type": "code",
   "execution_count": 18,
   "metadata": {},
   "outputs": [],
   "source": [
    "df['Length_Employed'] = df.apply(lambda x: completar_len_empl(x['Total_Accounts'], x['Length_Employed']), axis=1)"
   ]
  },
  {
   "cell_type": "code",
   "execution_count": 19,
   "metadata": {
    "scrolled": true
   },
   "outputs": [
    {
     "data": {
      "text/plain": [
       "Loan_ID                      0\n",
       "Loan_Amount_Requested        0\n",
       "Length_Employed              0\n",
       "Home_Owner               25349\n",
       "Annual_Income            25102\n",
       "Income_Verified              0\n",
       "Purpose_Of_Loan              0\n",
       "Debt_To_Income               0\n",
       "Inquiries_Last_6Mo           0\n",
       "Number_Open_Accounts         0\n",
       "Total_Accounts               0\n",
       "Gender                       0\n",
       "Interest_Rate                0\n",
       "dtype: int64"
      ]
     },
     "execution_count": 19,
     "metadata": {},
     "output_type": "execute_result"
    }
   ],
   "source": [
    "df.isnull().sum()"
   ]
  },
  {
   "cell_type": "code",
   "execution_count": 20,
   "metadata": {},
   "outputs": [
    {
     "data": {
      "text/html": [
       "<div>\n",
       "<style scoped>\n",
       "    .dataframe tbody tr th:only-of-type {\n",
       "        vertical-align: middle;\n",
       "    }\n",
       "\n",
       "    .dataframe tbody tr th {\n",
       "        vertical-align: top;\n",
       "    }\n",
       "\n",
       "    .dataframe thead th {\n",
       "        text-align: right;\n",
       "    }\n",
       "</style>\n",
       "<table border=\"1\" class=\"dataframe\">\n",
       "  <thead>\n",
       "    <tr style=\"text-align: right;\">\n",
       "      <th></th>\n",
       "      <th>Loan_ID</th>\n",
       "      <th>Loan_Amount_Requested</th>\n",
       "      <th>Length_Employed</th>\n",
       "      <th>Home_Owner</th>\n",
       "      <th>Annual_Income</th>\n",
       "      <th>Income_Verified</th>\n",
       "      <th>Purpose_Of_Loan</th>\n",
       "      <th>Debt_To_Income</th>\n",
       "      <th>Inquiries_Last_6Mo</th>\n",
       "      <th>Number_Open_Accounts</th>\n",
       "      <th>Total_Accounts</th>\n",
       "      <th>Gender</th>\n",
       "      <th>Interest_Rate</th>\n",
       "    </tr>\n",
       "  </thead>\n",
       "  <tbody>\n",
       "    <tr>\n",
       "      <th>0</th>\n",
       "      <td>10000001</td>\n",
       "      <td>7,000</td>\n",
       "      <td>0.0</td>\n",
       "      <td>Rent</td>\n",
       "      <td>68000.0</td>\n",
       "      <td>not verified</td>\n",
       "      <td>car</td>\n",
       "      <td>18.37</td>\n",
       "      <td>0</td>\n",
       "      <td>9</td>\n",
       "      <td>14</td>\n",
       "      <td>Female</td>\n",
       "      <td>1</td>\n",
       "    </tr>\n",
       "    <tr>\n",
       "      <th>1</th>\n",
       "      <td>10000002</td>\n",
       "      <td>30,000</td>\n",
       "      <td>4.0</td>\n",
       "      <td>Mortgage</td>\n",
       "      <td>NaN</td>\n",
       "      <td>VERIFIED - income</td>\n",
       "      <td>debt_consolidation</td>\n",
       "      <td>14.93</td>\n",
       "      <td>0</td>\n",
       "      <td>12</td>\n",
       "      <td>24</td>\n",
       "      <td>Female</td>\n",
       "      <td>3</td>\n",
       "    </tr>\n",
       "    <tr>\n",
       "      <th>2</th>\n",
       "      <td>10000003</td>\n",
       "      <td>24,725</td>\n",
       "      <td>7.0</td>\n",
       "      <td>Mortgage</td>\n",
       "      <td>75566.4</td>\n",
       "      <td>VERIFIED - income source</td>\n",
       "      <td>debt_consolidation</td>\n",
       "      <td>15.88</td>\n",
       "      <td>0</td>\n",
       "      <td>12</td>\n",
       "      <td>16</td>\n",
       "      <td>Male</td>\n",
       "      <td>3</td>\n",
       "    </tr>\n",
       "    <tr>\n",
       "      <th>3</th>\n",
       "      <td>10000004</td>\n",
       "      <td>16,000</td>\n",
       "      <td>0.0</td>\n",
       "      <td>NaN</td>\n",
       "      <td>56160.0</td>\n",
       "      <td>VERIFIED - income source</td>\n",
       "      <td>debt_consolidation</td>\n",
       "      <td>14.34</td>\n",
       "      <td>3</td>\n",
       "      <td>16</td>\n",
       "      <td>22</td>\n",
       "      <td>Male</td>\n",
       "      <td>3</td>\n",
       "    </tr>\n",
       "    <tr>\n",
       "      <th>4</th>\n",
       "      <td>10000005</td>\n",
       "      <td>17,000</td>\n",
       "      <td>8.0</td>\n",
       "      <td>Own</td>\n",
       "      <td>96000.0</td>\n",
       "      <td>VERIFIED - income source</td>\n",
       "      <td>debt_consolidation</td>\n",
       "      <td>22.17</td>\n",
       "      <td>1</td>\n",
       "      <td>19</td>\n",
       "      <td>30</td>\n",
       "      <td>Female</td>\n",
       "      <td>1</td>\n",
       "    </tr>\n",
       "  </tbody>\n",
       "</table>\n",
       "</div>"
      ],
      "text/plain": [
       "    Loan_ID Loan_Amount_Requested  Length_Employed Home_Owner  Annual_Income  \\\n",
       "0  10000001                 7,000              0.0       Rent        68000.0   \n",
       "1  10000002                30,000              4.0   Mortgage            NaN   \n",
       "2  10000003                24,725              7.0   Mortgage        75566.4   \n",
       "3  10000004                16,000              0.0        NaN        56160.0   \n",
       "4  10000005                17,000              8.0        Own        96000.0   \n",
       "\n",
       "            Income_Verified     Purpose_Of_Loan  Debt_To_Income  \\\n",
       "0              not verified                 car           18.37   \n",
       "1         VERIFIED - income  debt_consolidation           14.93   \n",
       "2  VERIFIED - income source  debt_consolidation           15.88   \n",
       "3  VERIFIED - income source  debt_consolidation           14.34   \n",
       "4  VERIFIED - income source  debt_consolidation           22.17   \n",
       "\n",
       "   Inquiries_Last_6Mo  Number_Open_Accounts  Total_Accounts  Gender  \\\n",
       "0                   0                     9              14  Female   \n",
       "1                   0                    12              24  Female   \n",
       "2                   0                    12              16    Male   \n",
       "3                   3                    16              22    Male   \n",
       "4                   1                    19              30  Female   \n",
       "\n",
       "   Interest_Rate  \n",
       "0              1  \n",
       "1              3  \n",
       "2              3  \n",
       "3              3  \n",
       "4              1  "
      ]
     },
     "execution_count": 20,
     "metadata": {},
     "output_type": "execute_result"
    }
   ],
   "source": [
    "df.head()"
   ]
  },
  {
   "cell_type": "code",
   "execution_count": 21,
   "metadata": {},
   "outputs": [
    {
     "data": {
      "text/plain": [
       "Mortgage    70345\n",
       "Rent        56031\n",
       "Own         12525\n",
       "Other          49\n",
       "None           10\n",
       "Name: Home_Owner, dtype: int64"
      ]
     },
     "execution_count": 21,
     "metadata": {},
     "output_type": "execute_result"
    }
   ],
   "source": [
    "# TRANSFORMAR VARIABLE \"Home_Owner\"\n",
    "df[\"Home_Owner\"].value_counts()"
   ]
  },
  {
   "cell_type": "code",
   "execution_count": 22,
   "metadata": {},
   "outputs": [
    {
     "data": {
      "text/html": [
       "<div>\n",
       "<style scoped>\n",
       "    .dataframe tbody tr th:only-of-type {\n",
       "        vertical-align: middle;\n",
       "    }\n",
       "\n",
       "    .dataframe tbody tr th {\n",
       "        vertical-align: top;\n",
       "    }\n",
       "\n",
       "    .dataframe thead th {\n",
       "        text-align: right;\n",
       "    }\n",
       "</style>\n",
       "<table border=\"1\" class=\"dataframe\">\n",
       "  <thead>\n",
       "    <tr style=\"text-align: right;\">\n",
       "      <th></th>\n",
       "      <th>Loan_ID</th>\n",
       "      <th>Length_Employed</th>\n",
       "      <th>Annual_Income</th>\n",
       "      <th>Debt_To_Income</th>\n",
       "      <th>Inquiries_Last_6Mo</th>\n",
       "      <th>Number_Open_Accounts</th>\n",
       "      <th>Total_Accounts</th>\n",
       "      <th>Interest_Rate</th>\n",
       "    </tr>\n",
       "    <tr>\n",
       "      <th>Home_Owner</th>\n",
       "      <th></th>\n",
       "      <th></th>\n",
       "      <th></th>\n",
       "      <th></th>\n",
       "      <th></th>\n",
       "      <th></th>\n",
       "      <th></th>\n",
       "      <th></th>\n",
       "    </tr>\n",
       "  </thead>\n",
       "  <tbody>\n",
       "    <tr>\n",
       "      <th>Mortgage</th>\n",
       "      <td>1.008211e+07</td>\n",
       "      <td>6.673973</td>\n",
       "      <td>83699.371184</td>\n",
       "      <td>17.144232</td>\n",
       "      <td>0.840387</td>\n",
       "      <td>11.860672</td>\n",
       "      <td>27.669188</td>\n",
       "      <td>2.112673</td>\n",
       "    </tr>\n",
       "    <tr>\n",
       "      <th>None</th>\n",
       "      <td>1.007899e+07</td>\n",
       "      <td>4.384603</td>\n",
       "      <td>70550.000000</td>\n",
       "      <td>15.749000</td>\n",
       "      <td>0.400000</td>\n",
       "      <td>9.800000</td>\n",
       "      <td>20.000000</td>\n",
       "      <td>1.900000</td>\n",
       "    </tr>\n",
       "    <tr>\n",
       "      <th>Other</th>\n",
       "      <td>1.007884e+07</td>\n",
       "      <td>4.818072</td>\n",
       "      <td>64540.743590</td>\n",
       "      <td>14.535306</td>\n",
       "      <td>0.938776</td>\n",
       "      <td>9.306122</td>\n",
       "      <td>23.530612</td>\n",
       "      <td>2.081633</td>\n",
       "    </tr>\n",
       "    <tr>\n",
       "      <th>Own</th>\n",
       "      <td>1.008211e+07</td>\n",
       "      <td>6.189912</td>\n",
       "      <td>66104.826361</td>\n",
       "      <td>17.824458</td>\n",
       "      <td>0.768782</td>\n",
       "      <td>10.967186</td>\n",
       "      <td>24.343792</td>\n",
       "      <td>2.170299</td>\n",
       "    </tr>\n",
       "    <tr>\n",
       "      <th>Rent</th>\n",
       "      <td>1.008234e+07</td>\n",
       "      <td>5.081681</td>\n",
       "      <td>62077.534637</td>\n",
       "      <td>17.124675</td>\n",
       "      <td>0.708322</td>\n",
       "      <td>10.425158</td>\n",
       "      <td>22.021060</td>\n",
       "      <td>2.213382</td>\n",
       "    </tr>\n",
       "  </tbody>\n",
       "</table>\n",
       "</div>"
      ],
      "text/plain": [
       "                 Loan_ID  Length_Employed  Annual_Income  Debt_To_Income  \\\n",
       "Home_Owner                                                                 \n",
       "Mortgage    1.008211e+07         6.673973   83699.371184       17.144232   \n",
       "None        1.007899e+07         4.384603   70550.000000       15.749000   \n",
       "Other       1.007884e+07         4.818072   64540.743590       14.535306   \n",
       "Own         1.008211e+07         6.189912   66104.826361       17.824458   \n",
       "Rent        1.008234e+07         5.081681   62077.534637       17.124675   \n",
       "\n",
       "            Inquiries_Last_6Mo  Number_Open_Accounts  Total_Accounts  \\\n",
       "Home_Owner                                                             \n",
       "Mortgage              0.840387             11.860672       27.669188   \n",
       "None                  0.400000              9.800000       20.000000   \n",
       "Other                 0.938776              9.306122       23.530612   \n",
       "Own                   0.768782             10.967186       24.343792   \n",
       "Rent                  0.708322             10.425158       22.021060   \n",
       "\n",
       "            Interest_Rate  \n",
       "Home_Owner                 \n",
       "Mortgage         2.112673  \n",
       "None             1.900000  \n",
       "Other            2.081633  \n",
       "Own              2.170299  \n",
       "Rent             2.213382  "
      ]
     },
     "execution_count": 22,
     "metadata": {},
     "output_type": "execute_result"
    }
   ],
   "source": [
    "df.groupby(\"Home_Owner\").mean()"
   ]
  },
  {
   "cell_type": "code",
   "execution_count": 23,
   "metadata": {},
   "outputs": [
    {
     "data": {
      "text/plain": [
       "<matplotlib.axes._subplots.AxesSubplot at 0x1fc7c6637f0>"
      ]
     },
     "execution_count": 23,
     "metadata": {},
     "output_type": "execute_result"
    },
    {
     "data": {
      "image/png": "[encoded data removed]",
      "text/plain": [
       "<Figure size 432x288 with 1 Axes>"
      ]
     },
     "metadata": {
      "needs_background": "light"
     },
     "output_type": "display_data"
    }
   ],
   "source": [
    "#Calculamos la distribución de los valores de Interest_Rate vs los valores de Home_Owner\n",
    "df.pivot_table(index=\"Home_Owner\", columns=\"Interest_Rate\", values=\"Loan_ID\", aggfunc=\"count\").plot(kind=\"bar\")"
   ]
  },
  {
   "cell_type": "code",
   "execution_count": 24,
   "metadata": {},
   "outputs": [],
   "source": [
    "#Sobre el total la tasa de interés (Interest_Rate) = 3 supone un mayor porcentaje cuando \"Home_Owner\" = \"Rent\" que en el resto de categorías de \"Home_Owner\", por tanto si Interest_rate = 3 completaremos los valores nulos con \"Rent\"\n",
    "#\"Home_Owner\" = \"Mortgage\" tiene un peso muy alto sobre el total de registros, por tanto si Interest_rate = 1 o 2 completaremos los valores nulos con \"Mortage\"\n",
    "def completar_home_owner(home_owner,int_rate):\n",
    "    if home_owner=='':\n",
    "        if int_rate == 3:\n",
    "            return \"Rent\"\n",
    "        else:\n",
    "            return \"Mortgage\" #En caso de que Interest_Rate = 1 / 2\n",
    "    else:\n",
    "        return home_owner"
   ]
  },
  {
   "cell_type": "code",
   "execution_count": 25,
   "metadata": {},
   "outputs": [],
   "source": [
    "df['Home_Owner'] = df['Home_Owner'].replace(np.nan, '')"
   ]
  },
  {
   "cell_type": "code",
   "execution_count": 26,
   "metadata": {},
   "outputs": [
    {
     "data": {
      "text/html": [
       "<div>\n",
       "<style scoped>\n",
       "    .dataframe tbody tr th:only-of-type {\n",
       "        vertical-align: middle;\n",
       "    }\n",
       "\n",
       "    .dataframe tbody tr th {\n",
       "        vertical-align: top;\n",
       "    }\n",
       "\n",
       "    .dataframe thead th {\n",
       "        text-align: right;\n",
       "    }\n",
       "</style>\n",
       "<table border=\"1\" class=\"dataframe\">\n",
       "  <thead>\n",
       "    <tr style=\"text-align: right;\">\n",
       "      <th></th>\n",
       "      <th>Loan_ID</th>\n",
       "      <th>Loan_Amount_Requested</th>\n",
       "      <th>Length_Employed</th>\n",
       "      <th>Home_Owner</th>\n",
       "      <th>Annual_Income</th>\n",
       "      <th>Income_Verified</th>\n",
       "      <th>Purpose_Of_Loan</th>\n",
       "      <th>Debt_To_Income</th>\n",
       "      <th>Inquiries_Last_6Mo</th>\n",
       "      <th>Number_Open_Accounts</th>\n",
       "      <th>Total_Accounts</th>\n",
       "      <th>Gender</th>\n",
       "      <th>Interest_Rate</th>\n",
       "    </tr>\n",
       "  </thead>\n",
       "  <tbody>\n",
       "    <tr>\n",
       "      <th>0</th>\n",
       "      <td>10000001</td>\n",
       "      <td>7,000</td>\n",
       "      <td>0.0</td>\n",
       "      <td>Rent</td>\n",
       "      <td>68000.0</td>\n",
       "      <td>not verified</td>\n",
       "      <td>car</td>\n",
       "      <td>18.37</td>\n",
       "      <td>0</td>\n",
       "      <td>9</td>\n",
       "      <td>14</td>\n",
       "      <td>Female</td>\n",
       "      <td>1</td>\n",
       "    </tr>\n",
       "    <tr>\n",
       "      <th>1</th>\n",
       "      <td>10000002</td>\n",
       "      <td>30,000</td>\n",
       "      <td>4.0</td>\n",
       "      <td>Mortgage</td>\n",
       "      <td>NaN</td>\n",
       "      <td>VERIFIED - income</td>\n",
       "      <td>debt_consolidation</td>\n",
       "      <td>14.93</td>\n",
       "      <td>0</td>\n",
       "      <td>12</td>\n",
       "      <td>24</td>\n",
       "      <td>Female</td>\n",
       "      <td>3</td>\n",
       "    </tr>\n",
       "    <tr>\n",
       "      <th>2</th>\n",
       "      <td>10000003</td>\n",
       "      <td>24,725</td>\n",
       "      <td>7.0</td>\n",
       "      <td>Mortgage</td>\n",
       "      <td>75566.4</td>\n",
       "      <td>VERIFIED - income source</td>\n",
       "      <td>debt_consolidation</td>\n",
       "      <td>15.88</td>\n",
       "      <td>0</td>\n",
       "      <td>12</td>\n",
       "      <td>16</td>\n",
       "      <td>Male</td>\n",
       "      <td>3</td>\n",
       "    </tr>\n",
       "    <tr>\n",
       "      <th>3</th>\n",
       "      <td>10000004</td>\n",
       "      <td>16,000</td>\n",
       "      <td>0.0</td>\n",
       "      <td></td>\n",
       "      <td>56160.0</td>\n",
       "      <td>VERIFIED - income source</td>\n",
       "      <td>debt_consolidation</td>\n",
       "      <td>14.34</td>\n",
       "      <td>3</td>\n",
       "      <td>16</td>\n",
       "      <td>22</td>\n",
       "      <td>Male</td>\n",
       "      <td>3</td>\n",
       "    </tr>\n",
       "    <tr>\n",
       "      <th>4</th>\n",
       "      <td>10000005</td>\n",
       "      <td>17,000</td>\n",
       "      <td>8.0</td>\n",
       "      <td>Own</td>\n",
       "      <td>96000.0</td>\n",
       "      <td>VERIFIED - income source</td>\n",
       "      <td>debt_consolidation</td>\n",
       "      <td>22.17</td>\n",
       "      <td>1</td>\n",
       "      <td>19</td>\n",
       "      <td>30</td>\n",
       "      <td>Female</td>\n",
       "      <td>1</td>\n",
       "    </tr>\n",
       "  </tbody>\n",
       "</table>\n",
       "</div>"
      ],
      "text/plain": [
       "    Loan_ID Loan_Amount_Requested  Length_Employed Home_Owner  Annual_Income  \\\n",
       "0  10000001                 7,000              0.0       Rent        68000.0   \n",
       "1  10000002                30,000              4.0   Mortgage            NaN   \n",
       "2  10000003                24,725              7.0   Mortgage        75566.4   \n",
       "3  10000004                16,000              0.0                   56160.0   \n",
       "4  10000005                17,000              8.0        Own        96000.0   \n",
       "\n",
       "            Income_Verified     Purpose_Of_Loan  Debt_To_Income  \\\n",
       "0              not verified                 car           18.37   \n",
       "1         VERIFIED - income  debt_consolidation           14.93   \n",
       "2  VERIFIED - income source  debt_consolidation           15.88   \n",
       "3  VERIFIED - income source  debt_consolidation           14.34   \n",
       "4  VERIFIED - income source  debt_consolidation           22.17   \n",
       "\n",
       "   Inquiries_Last_6Mo  Number_Open_Accounts  Total_Accounts  Gender  \\\n",
       "0                   0                     9              14  Female   \n",
       "1                   0                    12              24  Female   \n",
       "2                   0                    12              16    Male   \n",
       "3                   3                    16              22    Male   \n",
       "4                   1                    19              30  Female   \n",
       "\n",
       "   Interest_Rate  \n",
       "0              1  \n",
       "1              3  \n",
       "2              3  \n",
       "3              3  \n",
       "4              1  "
      ]
     },
     "execution_count": 26,
     "metadata": {},
     "output_type": "execute_result"
    }
   ],
   "source": [
    "df.head()"
   ]
  },
  {
   "cell_type": "code",
   "execution_count": 27,
   "metadata": {},
   "outputs": [
    {
     "data": {
      "text/plain": [
       "Loan_ID                      0\n",
       "Loan_Amount_Requested        0\n",
       "Length_Employed              0\n",
       "Home_Owner                   0\n",
       "Annual_Income            25102\n",
       "Income_Verified              0\n",
       "Purpose_Of_Loan              0\n",
       "Debt_To_Income               0\n",
       "Inquiries_Last_6Mo           0\n",
       "Number_Open_Accounts         0\n",
       "Total_Accounts               0\n",
       "Gender                       0\n",
       "Interest_Rate                0\n",
       "dtype: int64"
      ]
     },
     "execution_count": 27,
     "metadata": {},
     "output_type": "execute_result"
    }
   ],
   "source": [
    "df.isnull().sum()"
   ]
  },
  {
   "cell_type": "code",
   "execution_count": 28,
   "metadata": {},
   "outputs": [],
   "source": [
    "df['Home_Owner'] = df.apply(lambda x: completar_home_owner(x['Home_Owner'], x['Interest_Rate']), axis=1)"
   ]
  },
  {
   "cell_type": "code",
   "execution_count": 29,
   "metadata": {},
   "outputs": [
    {
     "data": {
      "text/html": [
       "<div>\n",
       "<style scoped>\n",
       "    .dataframe tbody tr th:only-of-type {\n",
       "        vertical-align: middle;\n",
       "    }\n",
       "\n",
       "    .dataframe tbody tr th {\n",
       "        vertical-align: top;\n",
       "    }\n",
       "\n",
       "    .dataframe thead th {\n",
       "        text-align: right;\n",
       "    }\n",
       "</style>\n",
       "<table border=\"1\" class=\"dataframe\">\n",
       "  <thead>\n",
       "    <tr style=\"text-align: right;\">\n",
       "      <th></th>\n",
       "      <th>Loan_ID</th>\n",
       "      <th>Loan_Amount_Requested</th>\n",
       "      <th>Length_Employed</th>\n",
       "      <th>Home_Owner</th>\n",
       "      <th>Annual_Income</th>\n",
       "      <th>Income_Verified</th>\n",
       "      <th>Purpose_Of_Loan</th>\n",
       "      <th>Debt_To_Income</th>\n",
       "      <th>Inquiries_Last_6Mo</th>\n",
       "      <th>Number_Open_Accounts</th>\n",
       "      <th>Total_Accounts</th>\n",
       "      <th>Gender</th>\n",
       "      <th>Interest_Rate</th>\n",
       "    </tr>\n",
       "  </thead>\n",
       "  <tbody>\n",
       "    <tr>\n",
       "      <th>0</th>\n",
       "      <td>10000001</td>\n",
       "      <td>7,000</td>\n",
       "      <td>0.0</td>\n",
       "      <td>Rent</td>\n",
       "      <td>68000.0</td>\n",
       "      <td>not verified</td>\n",
       "      <td>car</td>\n",
       "      <td>18.37</td>\n",
       "      <td>0</td>\n",
       "      <td>9</td>\n",
       "      <td>14</td>\n",
       "      <td>Female</td>\n",
       "      <td>1</td>\n",
       "    </tr>\n",
       "    <tr>\n",
       "      <th>1</th>\n",
       "      <td>10000002</td>\n",
       "      <td>30,000</td>\n",
       "      <td>4.0</td>\n",
       "      <td>Mortgage</td>\n",
       "      <td>NaN</td>\n",
       "      <td>VERIFIED - income</td>\n",
       "      <td>debt_consolidation</td>\n",
       "      <td>14.93</td>\n",
       "      <td>0</td>\n",
       "      <td>12</td>\n",
       "      <td>24</td>\n",
       "      <td>Female</td>\n",
       "      <td>3</td>\n",
       "    </tr>\n",
       "    <tr>\n",
       "      <th>2</th>\n",
       "      <td>10000003</td>\n",
       "      <td>24,725</td>\n",
       "      <td>7.0</td>\n",
       "      <td>Mortgage</td>\n",
       "      <td>75566.4</td>\n",
       "      <td>VERIFIED - income source</td>\n",
       "      <td>debt_consolidation</td>\n",
       "      <td>15.88</td>\n",
       "      <td>0</td>\n",
       "      <td>12</td>\n",
       "      <td>16</td>\n",
       "      <td>Male</td>\n",
       "      <td>3</td>\n",
       "    </tr>\n",
       "    <tr>\n",
       "      <th>3</th>\n",
       "      <td>10000004</td>\n",
       "      <td>16,000</td>\n",
       "      <td>0.0</td>\n",
       "      <td>Rent</td>\n",
       "      <td>56160.0</td>\n",
       "      <td>VERIFIED - income source</td>\n",
       "      <td>debt_consolidation</td>\n",
       "      <td>14.34</td>\n",
       "      <td>3</td>\n",
       "      <td>16</td>\n",
       "      <td>22</td>\n",
       "      <td>Male</td>\n",
       "      <td>3</td>\n",
       "    </tr>\n",
       "    <tr>\n",
       "      <th>4</th>\n",
       "      <td>10000005</td>\n",
       "      <td>17,000</td>\n",
       "      <td>8.0</td>\n",
       "      <td>Own</td>\n",
       "      <td>96000.0</td>\n",
       "      <td>VERIFIED - income source</td>\n",
       "      <td>debt_consolidation</td>\n",
       "      <td>22.17</td>\n",
       "      <td>1</td>\n",
       "      <td>19</td>\n",
       "      <td>30</td>\n",
       "      <td>Female</td>\n",
       "      <td>1</td>\n",
       "    </tr>\n",
       "  </tbody>\n",
       "</table>\n",
       "</div>"
      ],
      "text/plain": [
       "    Loan_ID Loan_Amount_Requested  Length_Employed Home_Owner  Annual_Income  \\\n",
       "0  10000001                 7,000              0.0       Rent        68000.0   \n",
       "1  10000002                30,000              4.0   Mortgage            NaN   \n",
       "2  10000003                24,725              7.0   Mortgage        75566.4   \n",
       "3  10000004                16,000              0.0       Rent        56160.0   \n",
       "4  10000005                17,000              8.0        Own        96000.0   \n",
       "\n",
       "            Income_Verified     Purpose_Of_Loan  Debt_To_Income  \\\n",
       "0              not verified                 car           18.37   \n",
       "1         VERIFIED - income  debt_consolidation           14.93   \n",
       "2  VERIFIED - income source  debt_consolidation           15.88   \n",
       "3  VERIFIED - income source  debt_consolidation           14.34   \n",
       "4  VERIFIED - income source  debt_consolidation           22.17   \n",
       "\n",
       "   Inquiries_Last_6Mo  Number_Open_Accounts  Total_Accounts  Gender  \\\n",
       "0                   0                     9              14  Female   \n",
       "1                   0                    12              24  Female   \n",
       "2                   0                    12              16    Male   \n",
       "3                   3                    16              22    Male   \n",
       "4                   1                    19              30  Female   \n",
       "\n",
       "   Interest_Rate  \n",
       "0              1  \n",
       "1              3  \n",
       "2              3  \n",
       "3              3  \n",
       "4              1  "
      ]
     },
     "execution_count": 29,
     "metadata": {},
     "output_type": "execute_result"
    }
   ],
   "source": [
    "df.head()"
   ]
  },
  {
   "cell_type": "code",
   "execution_count": 30,
   "metadata": {},
   "outputs": [
    {
     "data": {
      "text/plain": [
       "(array([1.17229e+05, 1.97800e+04, 1.62000e+03, 3.19000e+02, 1.29000e+02,\n",
       "        4.80000e+01, 1.90000e+01, 2.20000e+01, 1.50000e+01, 8.00000e+00]),\n",
       " array([  4000. , 103599.9, 203199.8, 302799.7, 402399.6, 501999.5,\n",
       "        601599.4, 701199.3, 800799.2, 900399.1, 999999. ]),\n",
       " <a list of 10 Patch objects>)"
      ]
     },
     "execution_count": 30,
     "metadata": {},
     "output_type": "execute_result"
    },
    {
     "data": {
      "image/png": "[encoded data removed]",
      "text/plain": [
       "<Figure size 432x288 with 1 Axes>"
      ]
     },
     "metadata": {
      "needs_background": "light"
     },
     "output_type": "display_data"
    }
   ],
   "source": [
    "# TRANSFORMAR VARIABLE \"Annual_Income\"\n",
    "df_aux = df[df[\"Annual_Income\"]<1000000]\n",
    "plt.hist(df_aux[\"Annual_Income\"],bins=10)"
   ]
  },
  {
   "cell_type": "code",
   "execution_count": 31,
   "metadata": {},
   "outputs": [
    {
     "name": "stdout",
     "output_type": "stream",
     "text": [
      "Correlación con Annual_Income\n"
     ]
    },
    {
     "data": {
      "text/plain": [
       "Debt_To_Income         -0.173589\n",
       "Interest_Rate          -0.052783\n",
       "Loan_ID                 0.008326\n",
       "Inquiries_Last_6Mo      0.060011\n",
       "Length_Employed         0.070139\n",
       "Number_Open_Accounts    0.145822\n",
       "Total_Accounts          0.203237\n",
       "Annual_Income           1.000000\n",
       "Name: Annual_Income, dtype: float64"
      ]
     },
     "execution_count": 31,
     "metadata": {},
     "output_type": "execute_result"
    }
   ],
   "source": [
    "# Limpiamos los valores erróneos de Annual_income a partir de la correlación con otras variables\n",
    "print(\"Correlación con Annual_Income\")\n",
    "df.corr()['Annual_Income'].sort_values()\n",
    "#En caso de que haya un error al aplicar el método corr() sobre un dataframe por el hecho de que haya columnas no numéricas (depende de la versión de la librería Pandas), lo más sencillo es aplicar el método con la opción numeric_only=True:\n",
    "#df.corr(numeric_only = True)"
   ]
  },
  {
   "cell_type": "code",
   "execution_count": 32,
   "metadata": {},
   "outputs": [
    {
     "data": {
      "text/plain": [
       "Total_Accounts\n",
       "2       88617.400000\n",
       "3       36087.616140\n",
       "4       44522.606276\n",
       "5       45691.847537\n",
       "6       47686.809039\n",
       "           ...      \n",
       "99      97000.000000\n",
       "102              NaN\n",
       "105     38000.000000\n",
       "116    240000.000000\n",
       "156     42000.000000\n",
       "Name: Annual_Income, Length: 100, dtype: float64"
      ]
     },
     "execution_count": 32,
     "metadata": {},
     "output_type": "execute_result"
    }
   ],
   "source": [
    "total_acc_inc_avg = df.groupby('Total_Accounts').mean()['Annual_Income']\n",
    "total_acc_inc_avg"
   ]
  },
  {
   "cell_type": "code",
   "execution_count": 33,
   "metadata": {},
   "outputs": [
    {
     "data": {
      "text/plain": [
       "Loan_ID                  0\n",
       "Loan_Amount_Requested    0\n",
       "Length_Employed          0\n",
       "Home_Owner               0\n",
       "Annual_Income            1\n",
       "Income_Verified          0\n",
       "Purpose_Of_Loan          0\n",
       "Debt_To_Income           0\n",
       "Inquiries_Last_6Mo       0\n",
       "Number_Open_Accounts     0\n",
       "Total_Accounts           0\n",
       "Gender                   0\n",
       "Interest_Rate            0\n",
       "dtype: int64"
      ]
     },
     "execution_count": 33,
     "metadata": {},
     "output_type": "execute_result"
    }
   ],
   "source": [
    "def completar_an_inc(total_acc,an_inc):\n",
    "    if np.isnan(an_inc):\n",
    "        return total_acc_inc_avg[total_acc] #Si el valor es nulo devuelve el promedio de Length_Employed para el valor correspondiente de Total_Accounts\n",
    "    else:\n",
    "        return an_inc\n",
    "\n",
    "df['Annual_Income'] = df.apply(lambda x: completar_an_inc(x['Total_Accounts'], x['Annual_Income']), axis=1)\n",
    "\n",
    "df.isnull().sum()"
   ]
  },
  {
   "cell_type": "code",
   "execution_count": 34,
   "metadata": {},
   "outputs": [
    {
     "data": {
      "text/html": [
       "<div>\n",
       "<style scoped>\n",
       "    .dataframe tbody tr th:only-of-type {\n",
       "        vertical-align: middle;\n",
       "    }\n",
       "\n",
       "    .dataframe tbody tr th {\n",
       "        vertical-align: top;\n",
       "    }\n",
       "\n",
       "    .dataframe thead th {\n",
       "        text-align: right;\n",
       "    }\n",
       "</style>\n",
       "<table border=\"1\" class=\"dataframe\">\n",
       "  <thead>\n",
       "    <tr style=\"text-align: right;\">\n",
       "      <th></th>\n",
       "      <th>Loan_ID</th>\n",
       "      <th>Loan_Amount_Requested</th>\n",
       "      <th>Length_Employed</th>\n",
       "      <th>Home_Owner</th>\n",
       "      <th>Annual_Income</th>\n",
       "      <th>Income_Verified</th>\n",
       "      <th>Purpose_Of_Loan</th>\n",
       "      <th>Debt_To_Income</th>\n",
       "      <th>Inquiries_Last_6Mo</th>\n",
       "      <th>Number_Open_Accounts</th>\n",
       "      <th>Total_Accounts</th>\n",
       "      <th>Gender</th>\n",
       "      <th>Interest_Rate</th>\n",
       "    </tr>\n",
       "  </thead>\n",
       "  <tbody>\n",
       "    <tr>\n",
       "      <th>86968</th>\n",
       "      <td>10086969</td>\n",
       "      <td>24,000</td>\n",
       "      <td>7.0</td>\n",
       "      <td>Mortgage</td>\n",
       "      <td>NaN</td>\n",
       "      <td>VERIFIED - income</td>\n",
       "      <td>home_improvement</td>\n",
       "      <td>19.51</td>\n",
       "      <td>0</td>\n",
       "      <td>10</td>\n",
       "      <td>102</td>\n",
       "      <td>Male</td>\n",
       "      <td>3</td>\n",
       "    </tr>\n",
       "  </tbody>\n",
       "</table>\n",
       "</div>"
      ],
      "text/plain": [
       "        Loan_ID Loan_Amount_Requested  Length_Employed Home_Owner  \\\n",
       "86968  10086969                24,000              7.0   Mortgage   \n",
       "\n",
       "       Annual_Income    Income_Verified   Purpose_Of_Loan  Debt_To_Income  \\\n",
       "86968            NaN  VERIFIED - income  home_improvement           19.51   \n",
       "\n",
       "       Inquiries_Last_6Mo  Number_Open_Accounts  Total_Accounts Gender  \\\n",
       "86968                   0                    10             102   Male   \n",
       "\n",
       "       Interest_Rate  \n",
       "86968              3  "
      ]
     },
     "execution_count": 34,
     "metadata": {},
     "output_type": "execute_result"
    }
   ],
   "source": [
    "df[df['Annual_Income'].isnull()] #Ha quedado un registro sin completar"
   ]
  },
  {
   "cell_type": "code",
   "execution_count": 35,
   "metadata": {},
   "outputs": [
    {
     "data": {
      "text/plain": [
       "nan"
      ]
     },
     "execution_count": 35,
     "metadata": {},
     "output_type": "execute_result"
    }
   ],
   "source": [
    "total_acc_inc_avg[102]"
   ]
  },
  {
   "cell_type": "code",
   "execution_count": 36,
   "metadata": {},
   "outputs": [],
   "source": [
    "#Eliminamos ese registro\n",
    "df.dropna(inplace=True)"
   ]
  },
  {
   "cell_type": "code",
   "execution_count": 37,
   "metadata": {},
   "outputs": [
    {
     "name": "stdout",
     "output_type": "stream",
     "text": [
      "<class 'pandas.core.frame.DataFrame'>\n",
      "Int64Index: 164308 entries, 0 to 164308\n",
      "Data columns (total 13 columns):\n",
      " #   Column                 Non-Null Count   Dtype  \n",
      "---  ------                 --------------   -----  \n",
      " 0   Loan_ID                164308 non-null  int64  \n",
      " 1   Loan_Amount_Requested  164308 non-null  object \n",
      " 2   Length_Employed        164308 non-null  float64\n",
      " 3   Home_Owner             164308 non-null  object \n",
      " 4   Annual_Income          164308 non-null  float64\n",
      " 5   Income_Verified        164308 non-null  object \n",
      " 6   Purpose_Of_Loan        164308 non-null  object \n",
      " 7   Debt_To_Income         164308 non-null  float64\n",
      " 8   Inquiries_Last_6Mo     164308 non-null  int64  \n",
      " 9   Number_Open_Accounts   164308 non-null  int64  \n",
      " 10  Total_Accounts         164308 non-null  int64  \n",
      " 11  Gender                 164308 non-null  object \n",
      " 12  Interest_Rate          164308 non-null  int64  \n",
      "dtypes: float64(3), int64(5), object(5)\n",
      "memory usage: 17.5+ MB\n"
     ]
    }
   ],
   "source": [
    "df.info() #Hemos desechado 1 registro y no hay nulos"
   ]
  },
  {
   "cell_type": "code",
   "execution_count": 38,
   "metadata": {
    "scrolled": true
   },
   "outputs": [
    {
     "data": {
      "text/html": [
       "<div>\n",
       "<style scoped>\n",
       "    .dataframe tbody tr th:only-of-type {\n",
       "        vertical-align: middle;\n",
       "    }\n",
       "\n",
       "    .dataframe tbody tr th {\n",
       "        vertical-align: top;\n",
       "    }\n",
       "\n",
       "    .dataframe thead th {\n",
       "        text-align: right;\n",
       "    }\n",
       "</style>\n",
       "<table border=\"1\" class=\"dataframe\">\n",
       "  <thead>\n",
       "    <tr style=\"text-align: right;\">\n",
       "      <th></th>\n",
       "      <th>Loan_ID</th>\n",
       "      <th>Loan_Amount_Requested</th>\n",
       "      <th>Length_Employed</th>\n",
       "      <th>Home_Owner</th>\n",
       "      <th>Annual_Income</th>\n",
       "      <th>Income_Verified</th>\n",
       "      <th>Purpose_Of_Loan</th>\n",
       "      <th>Debt_To_Income</th>\n",
       "      <th>Inquiries_Last_6Mo</th>\n",
       "      <th>Number_Open_Accounts</th>\n",
       "      <th>Total_Accounts</th>\n",
       "      <th>Gender</th>\n",
       "      <th>Interest_Rate</th>\n",
       "    </tr>\n",
       "  </thead>\n",
       "  <tbody>\n",
       "    <tr>\n",
       "      <th>0</th>\n",
       "      <td>10000001</td>\n",
       "      <td>7,000</td>\n",
       "      <td>0.0</td>\n",
       "      <td>Rent</td>\n",
       "      <td>68000.00000</td>\n",
       "      <td>not verified</td>\n",
       "      <td>car</td>\n",
       "      <td>18.37</td>\n",
       "      <td>0</td>\n",
       "      <td>9</td>\n",
       "      <td>14</td>\n",
       "      <td>Female</td>\n",
       "      <td>1</td>\n",
       "    </tr>\n",
       "    <tr>\n",
       "      <th>1</th>\n",
       "      <td>10000002</td>\n",
       "      <td>30,000</td>\n",
       "      <td>4.0</td>\n",
       "      <td>Mortgage</td>\n",
       "      <td>73993.44661</td>\n",
       "      <td>VERIFIED - income</td>\n",
       "      <td>debt_consolidation</td>\n",
       "      <td>14.93</td>\n",
       "      <td>0</td>\n",
       "      <td>12</td>\n",
       "      <td>24</td>\n",
       "      <td>Female</td>\n",
       "      <td>3</td>\n",
       "    </tr>\n",
       "    <tr>\n",
       "      <th>2</th>\n",
       "      <td>10000003</td>\n",
       "      <td>24,725</td>\n",
       "      <td>7.0</td>\n",
       "      <td>Mortgage</td>\n",
       "      <td>75566.40000</td>\n",
       "      <td>VERIFIED - income source</td>\n",
       "      <td>debt_consolidation</td>\n",
       "      <td>15.88</td>\n",
       "      <td>0</td>\n",
       "      <td>12</td>\n",
       "      <td>16</td>\n",
       "      <td>Male</td>\n",
       "      <td>3</td>\n",
       "    </tr>\n",
       "    <tr>\n",
       "      <th>3</th>\n",
       "      <td>10000004</td>\n",
       "      <td>16,000</td>\n",
       "      <td>0.0</td>\n",
       "      <td>Rent</td>\n",
       "      <td>56160.00000</td>\n",
       "      <td>VERIFIED - income source</td>\n",
       "      <td>debt_consolidation</td>\n",
       "      <td>14.34</td>\n",
       "      <td>3</td>\n",
       "      <td>16</td>\n",
       "      <td>22</td>\n",
       "      <td>Male</td>\n",
       "      <td>3</td>\n",
       "    </tr>\n",
       "    <tr>\n",
       "      <th>4</th>\n",
       "      <td>10000005</td>\n",
       "      <td>17,000</td>\n",
       "      <td>8.0</td>\n",
       "      <td>Own</td>\n",
       "      <td>96000.00000</td>\n",
       "      <td>VERIFIED - income source</td>\n",
       "      <td>debt_consolidation</td>\n",
       "      <td>22.17</td>\n",
       "      <td>1</td>\n",
       "      <td>19</td>\n",
       "      <td>30</td>\n",
       "      <td>Female</td>\n",
       "      <td>1</td>\n",
       "    </tr>\n",
       "  </tbody>\n",
       "</table>\n",
       "</div>"
      ],
      "text/plain": [
       "    Loan_ID Loan_Amount_Requested  Length_Employed Home_Owner  Annual_Income  \\\n",
       "0  10000001                 7,000              0.0       Rent    68000.00000   \n",
       "1  10000002                30,000              4.0   Mortgage    73993.44661   \n",
       "2  10000003                24,725              7.0   Mortgage    75566.40000   \n",
       "3  10000004                16,000              0.0       Rent    56160.00000   \n",
       "4  10000005                17,000              8.0        Own    96000.00000   \n",
       "\n",
       "            Income_Verified     Purpose_Of_Loan  Debt_To_Income  \\\n",
       "0              not verified                 car           18.37   \n",
       "1         VERIFIED - income  debt_consolidation           14.93   \n",
       "2  VERIFIED - income source  debt_consolidation           15.88   \n",
       "3  VERIFIED - income source  debt_consolidation           14.34   \n",
       "4  VERIFIED - income source  debt_consolidation           22.17   \n",
       "\n",
       "   Inquiries_Last_6Mo  Number_Open_Accounts  Total_Accounts  Gender  \\\n",
       "0                   0                     9              14  Female   \n",
       "1                   0                    12              24  Female   \n",
       "2                   0                    12              16    Male   \n",
       "3                   3                    16              22    Male   \n",
       "4                   1                    19              30  Female   \n",
       "\n",
       "   Interest_Rate  \n",
       "0              1  \n",
       "1              3  \n",
       "2              3  \n",
       "3              3  \n",
       "4              1  "
      ]
     },
     "execution_count": 38,
     "metadata": {},
     "output_type": "execute_result"
    }
   ],
   "source": [
    "df.head()"
   ]
  },
  {
   "cell_type": "code",
   "execution_count": 39,
   "metadata": {},
   "outputs": [],
   "source": [
    "#TRANSFORMAR TIPO Loan_Amount_Requested\n",
    "df['Loan_Amount_Requested'] = df['Loan_Amount_Requested'].str.replace(\",\",\"\").apply(pd.to_numeric)"
   ]
  },
  {
   "cell_type": "code",
   "execution_count": 40,
   "metadata": {},
   "outputs": [
    {
     "name": "stdout",
     "output_type": "stream",
     "text": [
      "<class 'pandas.core.frame.DataFrame'>\n",
      "Int64Index: 164308 entries, 0 to 164308\n",
      "Data columns (total 13 columns):\n",
      " #   Column                 Non-Null Count   Dtype  \n",
      "---  ------                 --------------   -----  \n",
      " 0   Loan_ID                164308 non-null  int64  \n",
      " 1   Loan_Amount_Requested  164308 non-null  int64  \n",
      " 2   Length_Employed        164308 non-null  float64\n",
      " 3   Home_Owner             164308 non-null  object \n",
      " 4   Annual_Income          164308 non-null  float64\n",
      " 5   Income_Verified        164308 non-null  object \n",
      " 6   Purpose_Of_Loan        164308 non-null  object \n",
      " 7   Debt_To_Income         164308 non-null  float64\n",
      " 8   Inquiries_Last_6Mo     164308 non-null  int64  \n",
      " 9   Number_Open_Accounts   164308 non-null  int64  \n",
      " 10  Total_Accounts         164308 non-null  int64  \n",
      " 11  Gender                 164308 non-null  object \n",
      " 12  Interest_Rate          164308 non-null  int64  \n",
      "dtypes: float64(3), int64(6), object(4)\n",
      "memory usage: 17.5+ MB\n"
     ]
    }
   ],
   "source": [
    "df.info()"
   ]
  },
  {
   "cell_type": "code",
   "execution_count": 41,
   "metadata": {},
   "outputs": [
    {
     "data": {
      "text/html": [
       "<div>\n",
       "<style scoped>\n",
       "    .dataframe tbody tr th:only-of-type {\n",
       "        vertical-align: middle;\n",
       "    }\n",
       "\n",
       "    .dataframe tbody tr th {\n",
       "        vertical-align: top;\n",
       "    }\n",
       "\n",
       "    .dataframe thead th {\n",
       "        text-align: right;\n",
       "    }\n",
       "</style>\n",
       "<table border=\"1\" class=\"dataframe\">\n",
       "  <thead>\n",
       "    <tr style=\"text-align: right;\">\n",
       "      <th></th>\n",
       "      <th>count</th>\n",
       "      <th>mean</th>\n",
       "      <th>std</th>\n",
       "      <th>min</th>\n",
       "      <th>25%</th>\n",
       "      <th>50%</th>\n",
       "      <th>75%</th>\n",
       "      <th>max</th>\n",
       "    </tr>\n",
       "  </thead>\n",
       "  <tbody>\n",
       "    <tr>\n",
       "      <th>Loan_ID</th>\n",
       "      <td>164308.0</td>\n",
       "      <td>1.008215e+07</td>\n",
       "      <td>47432.209880</td>\n",
       "      <td>10000001.0</td>\n",
       "      <td>10041077.75</td>\n",
       "      <td>10082154.50</td>\n",
       "      <td>1.012323e+07</td>\n",
       "      <td>10164309.00</td>\n",
       "    </tr>\n",
       "    <tr>\n",
       "      <th>Loan_Amount_Requested</th>\n",
       "      <td>164308.0</td>\n",
       "      <td>1.434928e+04</td>\n",
       "      <td>8281.859681</td>\n",
       "      <td>500.0</td>\n",
       "      <td>8000.00</td>\n",
       "      <td>12075.00</td>\n",
       "      <td>2.000000e+04</td>\n",
       "      <td>35000.00</td>\n",
       "    </tr>\n",
       "    <tr>\n",
       "      <th>Length_Employed</th>\n",
       "      <td>164308.0</td>\n",
       "      <td>5.990712e+00</td>\n",
       "      <td>3.548372</td>\n",
       "      <td>0.0</td>\n",
       "      <td>3.00</td>\n",
       "      <td>6.00</td>\n",
       "      <td>1.000000e+01</td>\n",
       "      <td>10.00</td>\n",
       "    </tr>\n",
       "    <tr>\n",
       "      <th>Annual_Income</th>\n",
       "      <td>164308.0</td>\n",
       "      <td>7.332921e+04</td>\n",
       "      <td>55796.901118</td>\n",
       "      <td>4000.0</td>\n",
       "      <td>48000.00</td>\n",
       "      <td>65000.00</td>\n",
       "      <td>8.560164e+04</td>\n",
       "      <td>7500000.00</td>\n",
       "    </tr>\n",
       "    <tr>\n",
       "      <th>Debt_To_Income</th>\n",
       "      <td>164308.0</td>\n",
       "      <td>1.720718e+01</td>\n",
       "      <td>7.845104</td>\n",
       "      <td>0.0</td>\n",
       "      <td>11.37</td>\n",
       "      <td>16.84</td>\n",
       "      <td>2.278000e+01</td>\n",
       "      <td>39.99</td>\n",
       "    </tr>\n",
       "    <tr>\n",
       "      <th>Inquiries_Last_6Mo</th>\n",
       "      <td>164308.0</td>\n",
       "      <td>7.817027e-01</td>\n",
       "      <td>1.034748</td>\n",
       "      <td>0.0</td>\n",
       "      <td>0.00</td>\n",
       "      <td>0.00</td>\n",
       "      <td>1.000000e+00</td>\n",
       "      <td>8.00</td>\n",
       "    </tr>\n",
       "    <tr>\n",
       "      <th>Number_Open_Accounts</th>\n",
       "      <td>164308.0</td>\n",
       "      <td>1.119383e+01</td>\n",
       "      <td>4.991828</td>\n",
       "      <td>0.0</td>\n",
       "      <td>8.00</td>\n",
       "      <td>10.00</td>\n",
       "      <td>1.400000e+01</td>\n",
       "      <td>76.00</td>\n",
       "    </tr>\n",
       "    <tr>\n",
       "      <th>Total_Accounts</th>\n",
       "      <td>164308.0</td>\n",
       "      <td>2.506720e+01</td>\n",
       "      <td>11.581547</td>\n",
       "      <td>2.0</td>\n",
       "      <td>17.00</td>\n",
       "      <td>23.00</td>\n",
       "      <td>3.200000e+01</td>\n",
       "      <td>156.00</td>\n",
       "    </tr>\n",
       "    <tr>\n",
       "      <th>Interest_Rate</th>\n",
       "      <td>164308.0</td>\n",
       "      <td>2.158945e+00</td>\n",
       "      <td>0.738363</td>\n",
       "      <td>1.0</td>\n",
       "      <td>2.00</td>\n",
       "      <td>2.00</td>\n",
       "      <td>3.000000e+00</td>\n",
       "      <td>3.00</td>\n",
       "    </tr>\n",
       "  </tbody>\n",
       "</table>\n",
       "</div>"
      ],
      "text/plain": [
       "                          count          mean           std         min  \\\n",
       "Loan_ID                164308.0  1.008215e+07  47432.209880  10000001.0   \n",
       "Loan_Amount_Requested  164308.0  1.434928e+04   8281.859681       500.0   \n",
       "Length_Employed        164308.0  5.990712e+00      3.548372         0.0   \n",
       "Annual_Income          164308.0  7.332921e+04  55796.901118      4000.0   \n",
       "Debt_To_Income         164308.0  1.720718e+01      7.845104         0.0   \n",
       "Inquiries_Last_6Mo     164308.0  7.817027e-01      1.034748         0.0   \n",
       "Number_Open_Accounts   164308.0  1.119383e+01      4.991828         0.0   \n",
       "Total_Accounts         164308.0  2.506720e+01     11.581547         2.0   \n",
       "Interest_Rate          164308.0  2.158945e+00      0.738363         1.0   \n",
       "\n",
       "                               25%          50%           75%          max  \n",
       "Loan_ID                10041077.75  10082154.50  1.012323e+07  10164309.00  \n",
       "Loan_Amount_Requested      8000.00     12075.00  2.000000e+04     35000.00  \n",
       "Length_Employed               3.00         6.00  1.000000e+01        10.00  \n",
       "Annual_Income             48000.00     65000.00  8.560164e+04   7500000.00  \n",
       "Debt_To_Income               11.37        16.84  2.278000e+01        39.99  \n",
       "Inquiries_Last_6Mo            0.00         0.00  1.000000e+00         8.00  \n",
       "Number_Open_Accounts          8.00        10.00  1.400000e+01        76.00  \n",
       "Total_Accounts               17.00        23.00  3.200000e+01       156.00  \n",
       "Interest_Rate                 2.00         2.00  3.000000e+00         3.00  "
      ]
     },
     "execution_count": 41,
     "metadata": {},
     "output_type": "execute_result"
    }
   ],
   "source": [
    "df.describe().transpose()"
   ]
  },
  {
   "cell_type": "markdown",
   "metadata": {},
   "source": [
    "## 3.2 Visualización"
   ]
  },
  {
   "cell_type": "markdown",
   "metadata": {},
   "source": [
    "### 3.2.1 Plots básicos"
   ]
  },
  {
   "cell_type": "code",
   "execution_count": 42,
   "metadata": {},
   "outputs": [
    {
     "data": {
      "text/plain": [
       "<matplotlib.axes._subplots.AxesSubplot at 0x1fc7d4e0f70>"
      ]
     },
     "execution_count": 42,
     "metadata": {},
     "output_type": "execute_result"
    },
    {
     "data": {
      "image/png": "[encoded data removed]",
      "text/plain": [
       "<Figure size 432x288 with 1 Axes>"
      ]
     },
     "metadata": {
      "needs_background": "light"
     },
     "output_type": "display_data"
    }
   ],
   "source": [
    "#Verificar si hay una proporción equilibrada entre los diferentes valores de la variable objetivo para un buen modelado posterior\n",
    "sns.countplot(x='Interest_Rate',data=df)"
   ]
  },
  {
   "cell_type": "code",
   "execution_count": 43,
   "metadata": {},
   "outputs": [
    {
     "data": {
      "text/plain": [
       "(10.0, 0.0)"
      ]
     },
     "execution_count": 43,
     "metadata": {},
     "output_type": "execute_result"
    },
    {
     "data": {
      "image/png": "[encoded data removed]",
      "text/plain": [
       "<Figure size 864x504 with 2 Axes>"
      ]
     },
     "metadata": {
      "needs_background": "light"
     },
     "output_type": "display_data"
    }
   ],
   "source": [
    "plt.figure(figsize=(12,7))\n",
    "sns.heatmap(df.corr(),annot=True,cmap='viridis')\n",
    "plt.ylim(10, 0)\n",
    "#En caso de que haya un error al aplicar el método corr() sobre un dataframe por el hecho de que haya columnas no numéricas (depende de la versión de la librería Pandas), lo más sencillo es aplicar el método con la opción numeric_only=True:\n",
    "#df.corr(numeric_only = True)"
   ]
  },
  {
   "cell_type": "code",
   "execution_count": 44,
   "metadata": {},
   "outputs": [
    {
     "data": {
      "text/plain": [
       "Annual_Income           -0.050086\n",
       "Total_Accounts          -0.040741\n",
       "Loan_ID                  0.001289\n",
       "Number_Open_Accounts     0.002849\n",
       "Length_Employed          0.029096\n",
       "Loan_Amount_Requested    0.132479\n",
       "Debt_To_Income           0.152470\n",
       "Inquiries_Last_6Mo       0.188993\n",
       "Interest_Rate            1.000000\n",
       "Name: Interest_Rate, dtype: float64"
      ]
     },
     "execution_count": 44,
     "metadata": {},
     "output_type": "execute_result"
    }
   ],
   "source": [
    "df.corr()['Interest_Rate'].sort_values()\n",
    "#En caso de que haya un error al aplicar el método corr() sobre un dataframe por el hecho de que haya columnas no numéricas (depende de la versión de la librería Pandas), lo más sencillo es aplicar el método con la opción numeric_only=True:\n",
    "#df.corr(numeric_only = True)"
   ]
  },
  {
   "cell_type": "code",
   "execution_count": 45,
   "metadata": {},
   "outputs": [
    {
     "data": {
      "text/plain": [
       "<matplotlib.axes._subplots.AxesSubplot at 0x1fc7d47caf0>"
      ]
     },
     "execution_count": 45,
     "metadata": {},
     "output_type": "execute_result"
    },
    {
     "data": {
      "image/png": "[encoded data removed]",
      "text/plain": [
       "<Figure size 432x288 with 1 Axes>"
      ]
     },
     "metadata": {
      "needs_background": "light"
     },
     "output_type": "display_data"
    }
   ],
   "source": [
    "df.corr()['Interest_Rate'][:-1].sort_values().plot(kind='bar') #Quitamos la propia variable objetivo\n",
    "#En caso de que haya un error al aplicar el método corr() sobre un dataframe por el hecho de que haya columnas no numéricas (depende de la versión de la librería Pandas), lo más sencillo es aplicar el método con la opción numeric_only=True:\n",
    "#df.corr(numeric_only = True)"
   ]
  },
  {
   "cell_type": "code",
   "execution_count": 46,
   "metadata": {},
   "outputs": [
    {
     "data": {
      "text/plain": [
       "<matplotlib.axes._subplots.AxesSubplot at 0x1fc7d0a5bb0>"
      ]
     },
     "execution_count": 46,
     "metadata": {},
     "output_type": "execute_result"
    },
    {
     "data": {
      "image/png": "[encoded data removed]",
      "text/plain": [
       "<Figure size 864x576 with 1 Axes>"
      ]
     },
     "metadata": {
      "needs_background": "light"
     },
     "output_type": "display_data"
    }
   ],
   "source": [
    "#Visualizar variables altamente correladas con la salida\n",
    "plt.figure(figsize=(12,8))\n",
    "sns.scatterplot(x='Interest_Rate',y='Inquiries_Last_6Mo',data=df)"
   ]
  },
  {
   "cell_type": "code",
   "execution_count": 47,
   "metadata": {},
   "outputs": [
    {
     "data": {
      "text/plain": [
       "<matplotlib.colorbar.Colorbar at 0x1fc7cc887f0>"
      ]
     },
     "execution_count": 47,
     "metadata": {},
     "output_type": "execute_result"
    },
    {
     "data": {
      "image/png": "[encoded data removed]",
      "text/plain": [
       "<Figure size 432x288 with 2 Axes>"
      ]
     },
     "metadata": {
      "needs_background": "light"
     },
     "output_type": "display_data"
    }
   ],
   "source": [
    "#Si los valores están normalizados, lo mejor es visualizar un histograma 2D\n",
    "plt.hist2d(df[\"Inquiries_Last_6Mo\"],df[\"Interest_Rate\"],bins=(9,3),cmap=plt.cm.viridis)\n",
    "plt.xlabel('Inquiries_Last_6Mo')\n",
    "plt.ylabel('Interest_Rate')\n",
    "plt.colorbar()"
   ]
  },
  {
   "cell_type": "markdown",
   "metadata": {},
   "source": [
    "### 3.2.2 Plot geográficos"
   ]
  },
  {
   "cell_type": "code",
   "execution_count": 48,
   "metadata": {},
   "outputs": [],
   "source": [
    "# Visualizar la información geográfica si estuviera completa, el ejemplo que hay a continuación proviende de una \n",
    "# fuente de datos alternativa: https://www.kaggle.com/harlfoxem/housesalesprediction\n",
    "#plt.figure(figsize=(12,8))\n",
    "#sns.scatterplot(x='price',y='long',data=df)\n",
    "#plt.figure(figsize=(12,8))\n",
    "#sns.scatterplot(x='price',y='lat',data=df)\n",
    "#plt.figure(figsize=(12,8))\n",
    "#sns.scatterplot(x='long',y='lat',data=df,hue='price') #Representación con poco rango dinámico de colores debido a los outliers\n",
    "#len(df)*(0.01) #número de muestras que sería el 1% de nuestros datos\n",
    "#non_top_1_perc = df.sort_values('price',ascending=False).iloc[216:] #estaríamos quitando el 1% de valores outliers\n",
    "#plt.figure(figsize=(12,8))\n",
    "#sns.scatterplot(x='long',y='lat',\n",
    "#                data=non_top_1_perc,hue='price',\n",
    "#                palette='RdYlGn',edgecolor=None,alpha=0.2) "
   ]
  },
  {
   "cell_type": "markdown",
   "metadata": {},
   "source": [
    "### 3.2.3 Otras variables"
   ]
  },
  {
   "cell_type": "code",
   "execution_count": 49,
   "metadata": {},
   "outputs": [
    {
     "data": {
      "text/plain": [
       "<matplotlib.axes._subplots.AxesSubplot at 0x1fc7cae1910>"
      ]
     },
     "execution_count": 49,
     "metadata": {},
     "output_type": "execute_result"
    },
    {
     "data": {
      "image/png": "[encoded data removed]",
      "text/plain": [
       "<Figure size 432x288 with 1 Axes>"
      ]
     },
     "metadata": {
      "needs_background": "light"
     },
     "output_type": "display_data"
    }
   ],
   "source": [
    "#¿Existe alguna diferencia de comportamiento entre hombre y mujer?\n",
    "df.pivot_table(index=\"Gender\", columns=\"Interest_Rate\", values=\"Loan_ID\", aggfunc=\"count\").plot(kind=\"bar\")"
   ]
  },
  {
   "cell_type": "code",
   "execution_count": 50,
   "metadata": {},
   "outputs": [
    {
     "data": {
      "text/plain": [
       "<matplotlib.axes._subplots.AxesSubplot at 0x1fc7c8a09d0>"
      ]
     },
     "execution_count": 50,
     "metadata": {},
     "output_type": "execute_result"
    },
    {
     "data": {
      "image/png": "[encoded data removed]",
      "text/plain": [
       "<Figure size 432x288 with 1 Axes>"
      ]
     },
     "metadata": {
      "needs_background": "light"
     },
     "output_type": "display_data"
    }
   ],
   "source": [
    "#¿Están enfocados los préstamos en alguna categoría concreta de objetivo del préstamo?\n",
    "df.groupby(\"Purpose_Of_Loan\").agg(\"count\")[\"Interest_Rate\"].plot(kind=\"bar\")"
   ]
  },
  {
   "cell_type": "markdown",
   "metadata": {},
   "source": [
    "## 3.3 Limpieza final"
   ]
  },
  {
   "cell_type": "code",
   "execution_count": 51,
   "metadata": {},
   "outputs": [],
   "source": [
    "# Objetivo: Eliminar variables que no tienen ninguna relación con la variable objetivo (precio) \n",
    "# o bien su información ya está incluida en otras variables - Aprovechar conocimiento del campo que estamos tratando"
   ]
  },
  {
   "cell_type": "code",
   "execution_count": 52,
   "metadata": {},
   "outputs": [
    {
     "name": "stdout",
     "output_type": "stream",
     "text": [
      "<class 'pandas.core.frame.DataFrame'>\n",
      "Int64Index: 164308 entries, 0 to 164308\n",
      "Data columns (total 13 columns):\n",
      " #   Column                 Non-Null Count   Dtype  \n",
      "---  ------                 --------------   -----  \n",
      " 0   Loan_ID                164308 non-null  int64  \n",
      " 1   Loan_Amount_Requested  164308 non-null  int64  \n",
      " 2   Length_Employed        164308 non-null  float64\n",
      " 3   Home_Owner             164308 non-null  object \n",
      " 4   Annual_Income          164308 non-null  float64\n",
      " 5   Income_Verified        164308 non-null  object \n",
      " 6   Purpose_Of_Loan        164308 non-null  object \n",
      " 7   Debt_To_Income         164308 non-null  float64\n",
      " 8   Inquiries_Last_6Mo     164308 non-null  int64  \n",
      " 9   Number_Open_Accounts   164308 non-null  int64  \n",
      " 10  Total_Accounts         164308 non-null  int64  \n",
      " 11  Gender                 164308 non-null  object \n",
      " 12  Interest_Rate          164308 non-null  int64  \n",
      "dtypes: float64(3), int64(6), object(4)\n",
      "memory usage: 22.5+ MB\n"
     ]
    }
   ],
   "source": [
    "df.info()"
   ]
  },
  {
   "cell_type": "code",
   "execution_count": 53,
   "metadata": {},
   "outputs": [
    {
     "data": {
      "text/html": [
       "<div>\n",
       "<style scoped>\n",
       "    .dataframe tbody tr th:only-of-type {\n",
       "        vertical-align: middle;\n",
       "    }\n",
       "\n",
       "    .dataframe tbody tr th {\n",
       "        vertical-align: top;\n",
       "    }\n",
       "\n",
       "    .dataframe thead th {\n",
       "        text-align: right;\n",
       "    }\n",
       "</style>\n",
       "<table border=\"1\" class=\"dataframe\">\n",
       "  <thead>\n",
       "    <tr style=\"text-align: right;\">\n",
       "      <th></th>\n",
       "      <th>Loan_ID</th>\n",
       "      <th>Loan_Amount_Requested</th>\n",
       "      <th>Length_Employed</th>\n",
       "      <th>Home_Owner</th>\n",
       "      <th>Annual_Income</th>\n",
       "      <th>Income_Verified</th>\n",
       "      <th>Purpose_Of_Loan</th>\n",
       "      <th>Debt_To_Income</th>\n",
       "      <th>Inquiries_Last_6Mo</th>\n",
       "      <th>Number_Open_Accounts</th>\n",
       "      <th>Total_Accounts</th>\n",
       "      <th>Gender</th>\n",
       "      <th>Interest_Rate</th>\n",
       "    </tr>\n",
       "  </thead>\n",
       "  <tbody>\n",
       "    <tr>\n",
       "      <th>0</th>\n",
       "      <td>10000001</td>\n",
       "      <td>7000</td>\n",
       "      <td>0.0</td>\n",
       "      <td>Rent</td>\n",
       "      <td>68000.00000</td>\n",
       "      <td>not verified</td>\n",
       "      <td>car</td>\n",
       "      <td>18.37</td>\n",
       "      <td>0</td>\n",
       "      <td>9</td>\n",
       "      <td>14</td>\n",
       "      <td>Female</td>\n",
       "      <td>1</td>\n",
       "    </tr>\n",
       "    <tr>\n",
       "      <th>1</th>\n",
       "      <td>10000002</td>\n",
       "      <td>30000</td>\n",
       "      <td>4.0</td>\n",
       "      <td>Mortgage</td>\n",
       "      <td>73993.44661</td>\n",
       "      <td>VERIFIED - income</td>\n",
       "      <td>debt_consolidation</td>\n",
       "      <td>14.93</td>\n",
       "      <td>0</td>\n",
       "      <td>12</td>\n",
       "      <td>24</td>\n",
       "      <td>Female</td>\n",
       "      <td>3</td>\n",
       "    </tr>\n",
       "    <tr>\n",
       "      <th>2</th>\n",
       "      <td>10000003</td>\n",
       "      <td>24725</td>\n",
       "      <td>7.0</td>\n",
       "      <td>Mortgage</td>\n",
       "      <td>75566.40000</td>\n",
       "      <td>VERIFIED - income source</td>\n",
       "      <td>debt_consolidation</td>\n",
       "      <td>15.88</td>\n",
       "      <td>0</td>\n",
       "      <td>12</td>\n",
       "      <td>16</td>\n",
       "      <td>Male</td>\n",
       "      <td>3</td>\n",
       "    </tr>\n",
       "    <tr>\n",
       "      <th>3</th>\n",
       "      <td>10000004</td>\n",
       "      <td>16000</td>\n",
       "      <td>0.0</td>\n",
       "      <td>Rent</td>\n",
       "      <td>56160.00000</td>\n",
       "      <td>VERIFIED - income source</td>\n",
       "      <td>debt_consolidation</td>\n",
       "      <td>14.34</td>\n",
       "      <td>3</td>\n",
       "      <td>16</td>\n",
       "      <td>22</td>\n",
       "      <td>Male</td>\n",
       "      <td>3</td>\n",
       "    </tr>\n",
       "    <tr>\n",
       "      <th>4</th>\n",
       "      <td>10000005</td>\n",
       "      <td>17000</td>\n",
       "      <td>8.0</td>\n",
       "      <td>Own</td>\n",
       "      <td>96000.00000</td>\n",
       "      <td>VERIFIED - income source</td>\n",
       "      <td>debt_consolidation</td>\n",
       "      <td>22.17</td>\n",
       "      <td>1</td>\n",
       "      <td>19</td>\n",
       "      <td>30</td>\n",
       "      <td>Female</td>\n",
       "      <td>1</td>\n",
       "    </tr>\n",
       "  </tbody>\n",
       "</table>\n",
       "</div>"
      ],
      "text/plain": [
       "    Loan_ID  Loan_Amount_Requested  Length_Employed Home_Owner  Annual_Income  \\\n",
       "0  10000001                   7000              0.0       Rent    68000.00000   \n",
       "1  10000002                  30000              4.0   Mortgage    73993.44661   \n",
       "2  10000003                  24725              7.0   Mortgage    75566.40000   \n",
       "3  10000004                  16000              0.0       Rent    56160.00000   \n",
       "4  10000005                  17000              8.0        Own    96000.00000   \n",
       "\n",
       "            Income_Verified     Purpose_Of_Loan  Debt_To_Income  \\\n",
       "0              not verified                 car           18.37   \n",
       "1         VERIFIED - income  debt_consolidation           14.93   \n",
       "2  VERIFIED - income source  debt_consolidation           15.88   \n",
       "3  VERIFIED - income source  debt_consolidation           14.34   \n",
       "4  VERIFIED - income source  debt_consolidation           22.17   \n",
       "\n",
       "   Inquiries_Last_6Mo  Number_Open_Accounts  Total_Accounts  Gender  \\\n",
       "0                   0                     9              14  Female   \n",
       "1                   0                    12              24  Female   \n",
       "2                   0                    12              16    Male   \n",
       "3                   3                    16              22    Male   \n",
       "4                   1                    19              30  Female   \n",
       "\n",
       "   Interest_Rate  \n",
       "0              1  \n",
       "1              3  \n",
       "2              3  \n",
       "3              3  \n",
       "4              1  "
      ]
     },
     "execution_count": 53,
     "metadata": {},
     "output_type": "execute_result"
    }
   ],
   "source": [
    "df.head()"
   ]
  },
  {
   "cell_type": "code",
   "execution_count": 54,
   "metadata": {},
   "outputs": [
    {
     "data": {
      "text/plain": [
       "Annual_Income           -0.050086\n",
       "Total_Accounts          -0.040741\n",
       "Loan_ID                  0.001289\n",
       "Number_Open_Accounts     0.002849\n",
       "Length_Employed          0.029096\n",
       "Loan_Amount_Requested    0.132479\n",
       "Debt_To_Income           0.152470\n",
       "Inquiries_Last_6Mo       0.188993\n",
       "Interest_Rate            1.000000\n",
       "Name: Interest_Rate, dtype: float64"
      ]
     },
     "execution_count": 54,
     "metadata": {},
     "output_type": "execute_result"
    }
   ],
   "source": [
    "df.corr()['Interest_Rate'].sort_values() #Podríamos eliminar \"Number_Open_Accounts\", correlación muy baja\n",
    "#En caso de que haya un error al aplicar el método corr() sobre un dataframe por el hecho de que haya columnas no numéricas (depende de la versión de la librería Pandas), lo más sencillo es aplicar el método con la opción numeric_only=True:\n",
    "#df.corr(numeric_only = True)"
   ]
  },
  {
   "cell_type": "code",
   "execution_count": 55,
   "metadata": {
    "scrolled": true
   },
   "outputs": [
    {
     "data": {
      "text/html": [
       "<div>\n",
       "<style scoped>\n",
       "    .dataframe tbody tr th:only-of-type {\n",
       "        vertical-align: middle;\n",
       "    }\n",
       "\n",
       "    .dataframe tbody tr th {\n",
       "        vertical-align: top;\n",
       "    }\n",
       "\n",
       "    .dataframe thead th {\n",
       "        text-align: right;\n",
       "    }\n",
       "</style>\n",
       "<table border=\"1\" class=\"dataframe\">\n",
       "  <thead>\n",
       "    <tr style=\"text-align: right;\">\n",
       "      <th></th>\n",
       "      <th>Loan_Amount_Requested</th>\n",
       "      <th>Length_Employed</th>\n",
       "      <th>Home_Owner</th>\n",
       "      <th>Annual_Income</th>\n",
       "      <th>Purpose_Of_Loan</th>\n",
       "      <th>Debt_To_Income</th>\n",
       "      <th>Inquiries_Last_6Mo</th>\n",
       "      <th>Total_Accounts</th>\n",
       "      <th>Gender</th>\n",
       "      <th>Interest_Rate</th>\n",
       "    </tr>\n",
       "  </thead>\n",
       "  <tbody>\n",
       "    <tr>\n",
       "      <th>0</th>\n",
       "      <td>7000</td>\n",
       "      <td>0.0</td>\n",
       "      <td>Rent</td>\n",
       "      <td>68000.00000</td>\n",
       "      <td>car</td>\n",
       "      <td>18.37</td>\n",
       "      <td>0</td>\n",
       "      <td>14</td>\n",
       "      <td>Female</td>\n",
       "      <td>1</td>\n",
       "    </tr>\n",
       "    <tr>\n",
       "      <th>1</th>\n",
       "      <td>30000</td>\n",
       "      <td>4.0</td>\n",
       "      <td>Mortgage</td>\n",
       "      <td>73993.44661</td>\n",
       "      <td>debt_consolidation</td>\n",
       "      <td>14.93</td>\n",
       "      <td>0</td>\n",
       "      <td>24</td>\n",
       "      <td>Female</td>\n",
       "      <td>3</td>\n",
       "    </tr>\n",
       "    <tr>\n",
       "      <th>2</th>\n",
       "      <td>24725</td>\n",
       "      <td>7.0</td>\n",
       "      <td>Mortgage</td>\n",
       "      <td>75566.40000</td>\n",
       "      <td>debt_consolidation</td>\n",
       "      <td>15.88</td>\n",
       "      <td>0</td>\n",
       "      <td>16</td>\n",
       "      <td>Male</td>\n",
       "      <td>3</td>\n",
       "    </tr>\n",
       "    <tr>\n",
       "      <th>3</th>\n",
       "      <td>16000</td>\n",
       "      <td>0.0</td>\n",
       "      <td>Rent</td>\n",
       "      <td>56160.00000</td>\n",
       "      <td>debt_consolidation</td>\n",
       "      <td>14.34</td>\n",
       "      <td>3</td>\n",
       "      <td>22</td>\n",
       "      <td>Male</td>\n",
       "      <td>3</td>\n",
       "    </tr>\n",
       "    <tr>\n",
       "      <th>4</th>\n",
       "      <td>17000</td>\n",
       "      <td>8.0</td>\n",
       "      <td>Own</td>\n",
       "      <td>96000.00000</td>\n",
       "      <td>debt_consolidation</td>\n",
       "      <td>22.17</td>\n",
       "      <td>1</td>\n",
       "      <td>30</td>\n",
       "      <td>Female</td>\n",
       "      <td>1</td>\n",
       "    </tr>\n",
       "  </tbody>\n",
       "</table>\n",
       "</div>"
      ],
      "text/plain": [
       "   Loan_Amount_Requested  Length_Employed Home_Owner  Annual_Income  \\\n",
       "0                   7000              0.0       Rent    68000.00000   \n",
       "1                  30000              4.0   Mortgage    73993.44661   \n",
       "2                  24725              7.0   Mortgage    75566.40000   \n",
       "3                  16000              0.0       Rent    56160.00000   \n",
       "4                  17000              8.0        Own    96000.00000   \n",
       "\n",
       "      Purpose_Of_Loan  Debt_To_Income  Inquiries_Last_6Mo  Total_Accounts  \\\n",
       "0                 car           18.37                   0              14   \n",
       "1  debt_consolidation           14.93                   0              24   \n",
       "2  debt_consolidation           15.88                   0              16   \n",
       "3  debt_consolidation           14.34                   3              22   \n",
       "4  debt_consolidation           22.17                   1              30   \n",
       "\n",
       "   Gender  Interest_Rate  \n",
       "0  Female              1  \n",
       "1  Female              3  \n",
       "2    Male              3  \n",
       "3    Male              3  \n",
       "4  Female              1  "
      ]
     },
     "execution_count": 55,
     "metadata": {},
     "output_type": "execute_result"
    }
   ],
   "source": [
    "df = df.drop(['Number_Open_Accounts','Loan_ID','Income_Verified'],axis=1)\n",
    "df.head()"
   ]
  },
  {
   "cell_type": "markdown",
   "metadata": {},
   "source": [
    "### 3.3.2 Limpieza temporal"
   ]
  },
  {
   "cell_type": "code",
   "execution_count": 56,
   "metadata": {},
   "outputs": [],
   "source": [
    "#Importante visualizar la evolución temporal (si ha habido un importante cambio, quedarse con \n",
    "#la porción de datos que corresponde a la situación actual para mejorar la futura predicción)\n",
    "#El ejemplo que hay a continuación proviende de una fuente de datos alternativa: https://www.kaggle.com/harlfoxem/housesalesprediction\n",
    "\n",
    "#df['date'] = pd.to_datetime(df['date'])\n",
    "\n",
    "#df['month'] = df['date'].apply(lambda date:date.month)\n",
    "\n",
    "#df['year'] = df['date'].apply(lambda date:date.year)\n",
    "\n",
    "#sns.boxplot(x='year',y='price',data=df)\n",
    "\n",
    "#sns.boxplot(x='month',y='price',data=df)\n",
    "\n",
    "#df.groupby('month').mean()['price'].plot()\n",
    "\n",
    "#df.groupby('year').mean()['price'].plot()\n",
    "\n",
    "#df = df.drop('date',axis=1) #La fecha no será una variable útil para el modelo\n",
    "\n",
    "#df['sqft_basement'].value_counts()"
   ]
  },
  {
   "cell_type": "markdown",
   "metadata": {},
   "source": [
    "### 3.3.3 Transformación variables categóricas"
   ]
  },
  {
   "cell_type": "code",
   "execution_count": 57,
   "metadata": {},
   "outputs": [
    {
     "data": {
      "text/html": [
       "<div>\n",
       "<style scoped>\n",
       "    .dataframe tbody tr th:only-of-type {\n",
       "        vertical-align: middle;\n",
       "    }\n",
       "\n",
       "    .dataframe tbody tr th {\n",
       "        vertical-align: top;\n",
       "    }\n",
       "\n",
       "    .dataframe thead th {\n",
       "        text-align: right;\n",
       "    }\n",
       "</style>\n",
       "<table border=\"1\" class=\"dataframe\">\n",
       "  <thead>\n",
       "    <tr style=\"text-align: right;\">\n",
       "      <th></th>\n",
       "      <th>Loan_Amount_Requested</th>\n",
       "      <th>Length_Employed</th>\n",
       "      <th>Home_Owner</th>\n",
       "      <th>Annual_Income</th>\n",
       "      <th>Purpose_Of_Loan</th>\n",
       "      <th>Debt_To_Income</th>\n",
       "      <th>Inquiries_Last_6Mo</th>\n",
       "      <th>Total_Accounts</th>\n",
       "      <th>Gender</th>\n",
       "      <th>Interest_Rate</th>\n",
       "    </tr>\n",
       "  </thead>\n",
       "  <tbody>\n",
       "    <tr>\n",
       "      <th>0</th>\n",
       "      <td>7000</td>\n",
       "      <td>0.0</td>\n",
       "      <td>Rent</td>\n",
       "      <td>68000.00000</td>\n",
       "      <td>car</td>\n",
       "      <td>18.37</td>\n",
       "      <td>0</td>\n",
       "      <td>14</td>\n",
       "      <td>Female</td>\n",
       "      <td>1</td>\n",
       "    </tr>\n",
       "    <tr>\n",
       "      <th>1</th>\n",
       "      <td>30000</td>\n",
       "      <td>4.0</td>\n",
       "      <td>Mortgage</td>\n",
       "      <td>73993.44661</td>\n",
       "      <td>debt_consolidation</td>\n",
       "      <td>14.93</td>\n",
       "      <td>0</td>\n",
       "      <td>24</td>\n",
       "      <td>Female</td>\n",
       "      <td>3</td>\n",
       "    </tr>\n",
       "    <tr>\n",
       "      <th>2</th>\n",
       "      <td>24725</td>\n",
       "      <td>7.0</td>\n",
       "      <td>Mortgage</td>\n",
       "      <td>75566.40000</td>\n",
       "      <td>debt_consolidation</td>\n",
       "      <td>15.88</td>\n",
       "      <td>0</td>\n",
       "      <td>16</td>\n",
       "      <td>Male</td>\n",
       "      <td>3</td>\n",
       "    </tr>\n",
       "    <tr>\n",
       "      <th>3</th>\n",
       "      <td>16000</td>\n",
       "      <td>0.0</td>\n",
       "      <td>Rent</td>\n",
       "      <td>56160.00000</td>\n",
       "      <td>debt_consolidation</td>\n",
       "      <td>14.34</td>\n",
       "      <td>3</td>\n",
       "      <td>22</td>\n",
       "      <td>Male</td>\n",
       "      <td>3</td>\n",
       "    </tr>\n",
       "    <tr>\n",
       "      <th>4</th>\n",
       "      <td>17000</td>\n",
       "      <td>8.0</td>\n",
       "      <td>Own</td>\n",
       "      <td>96000.00000</td>\n",
       "      <td>debt_consolidation</td>\n",
       "      <td>22.17</td>\n",
       "      <td>1</td>\n",
       "      <td>30</td>\n",
       "      <td>Female</td>\n",
       "      <td>1</td>\n",
       "    </tr>\n",
       "  </tbody>\n",
       "</table>\n",
       "</div>"
      ],
      "text/plain": [
       "   Loan_Amount_Requested  Length_Employed Home_Owner  Annual_Income  \\\n",
       "0                   7000              0.0       Rent    68000.00000   \n",
       "1                  30000              4.0   Mortgage    73993.44661   \n",
       "2                  24725              7.0   Mortgage    75566.40000   \n",
       "3                  16000              0.0       Rent    56160.00000   \n",
       "4                  17000              8.0        Own    96000.00000   \n",
       "\n",
       "      Purpose_Of_Loan  Debt_To_Income  Inquiries_Last_6Mo  Total_Accounts  \\\n",
       "0                 car           18.37                   0              14   \n",
       "1  debt_consolidation           14.93                   0              24   \n",
       "2  debt_consolidation           15.88                   0              16   \n",
       "3  debt_consolidation           14.34                   3              22   \n",
       "4  debt_consolidation           22.17                   1              30   \n",
       "\n",
       "   Gender  Interest_Rate  \n",
       "0  Female              1  \n",
       "1  Female              3  \n",
       "2    Male              3  \n",
       "3    Male              3  \n",
       "4  Female              1  "
      ]
     },
     "execution_count": 57,
     "metadata": {},
     "output_type": "execute_result"
    }
   ],
   "source": [
    "df.head()"
   ]
  },
  {
   "cell_type": "code",
   "execution_count": 58,
   "metadata": {},
   "outputs": [
    {
     "data": {
      "text/plain": [
       "Mortgage    86375\n",
       "Rent        65349\n",
       "Own         12525\n",
       "Other          49\n",
       "None           10\n",
       "Name: Home_Owner, dtype: int64"
      ]
     },
     "execution_count": 58,
     "metadata": {},
     "output_type": "execute_result"
    }
   ],
   "source": [
    "df['Home_Owner'].value_counts() # Pensar si merece la pena realizar algún filtrado de datos si alguna categoría tiene un contador muy bajo y así ahorramos columnas dummy"
   ]
  },
  {
   "cell_type": "code",
   "execution_count": 59,
   "metadata": {},
   "outputs": [
    {
     "data": {
      "text/plain": [
       "debt_consolidation    97101\n",
       "credit_card           36684\n",
       "home_improvement       9268\n",
       "other                  8346\n",
       "major_purchase         3435\n",
       "small_business         2392\n",
       "car                    1885\n",
       "medical                1541\n",
       "moving                  974\n",
       "vacation                837\n",
       "wedding                 828\n",
       "house                   773\n",
       "renewable_energy        123\n",
       "educational             121\n",
       "Name: Purpose_Of_Loan, dtype: int64"
      ]
     },
     "execution_count": 59,
     "metadata": {},
     "output_type": "execute_result"
    }
   ],
   "source": [
    "df['Purpose_Of_Loan'].value_counts()"
   ]
  },
  {
   "cell_type": "code",
   "execution_count": 60,
   "metadata": {},
   "outputs": [
    {
     "data": {
      "text/plain": [
       "Male      117175\n",
       "Female     47133\n",
       "Name: Gender, dtype: int64"
      ]
     },
     "execution_count": 60,
     "metadata": {},
     "output_type": "execute_result"
    }
   ],
   "source": [
    "df['Gender'].value_counts()"
   ]
  },
  {
   "cell_type": "code",
   "execution_count": 61,
   "metadata": {},
   "outputs": [],
   "source": [
    "#Transformar 'Home_Owner'\n",
    "dummies = pd.get_dummies(df[['Home_Owner', 'Purpose_Of_Loan','Gender']]) #se puede añadir drop_first=True evita redundancia y evita crear una columna por cada variable\n",
    "df_post = pd.concat([df,dummies],axis=1)\n",
    "df_post = df_post.drop(['Home_Owner', 'Purpose_Of_Loan','Gender'],axis=1) #Eliminamos las columnas originales"
   ]
  },
  {
   "cell_type": "code",
   "execution_count": 62,
   "metadata": {},
   "outputs": [
    {
     "name": "stdout",
     "output_type": "stream",
     "text": [
      "<class 'pandas.core.frame.DataFrame'>\n",
      "Int64Index: 164308 entries, 0 to 164308\n",
      "Data columns (total 28 columns):\n",
      " #   Column                              Non-Null Count   Dtype  \n",
      "---  ------                              --------------   -----  \n",
      " 0   Loan_Amount_Requested               164308 non-null  int64  \n",
      " 1   Length_Employed                     164308 non-null  float64\n",
      " 2   Annual_Income                       164308 non-null  float64\n",
      " 3   Debt_To_Income                      164308 non-null  float64\n",
      " 4   Inquiries_Last_6Mo                  164308 non-null  int64  \n",
      " 5   Total_Accounts                      164308 non-null  int64  \n",
      " 6   Interest_Rate                       164308 non-null  int64  \n",
      " 7   Home_Owner_Mortgage                 164308 non-null  uint8  \n",
      " 8   Home_Owner_None                     164308 non-null  uint8  \n",
      " 9   Home_Owner_Other                    164308 non-null  uint8  \n",
      " 10  Home_Owner_Own                      164308 non-null  uint8  \n",
      " 11  Home_Owner_Rent                     164308 non-null  uint8  \n",
      " 12  Purpose_Of_Loan_car                 164308 non-null  uint8  \n",
      " 13  Purpose_Of_Loan_credit_card         164308 non-null  uint8  \n",
      " 14  Purpose_Of_Loan_debt_consolidation  164308 non-null  uint8  \n",
      " 15  Purpose_Of_Loan_educational         164308 non-null  uint8  \n",
      " 16  Purpose_Of_Loan_home_improvement    164308 non-null  uint8  \n",
      " 17  Purpose_Of_Loan_house               164308 non-null  uint8  \n",
      " 18  Purpose_Of_Loan_major_purchase      164308 non-null  uint8  \n",
      " 19  Purpose_Of_Loan_medical             164308 non-null  uint8  \n",
      " 20  Purpose_Of_Loan_moving              164308 non-null  uint8  \n",
      " 21  Purpose_Of_Loan_other               164308 non-null  uint8  \n",
      " 22  Purpose_Of_Loan_renewable_energy    164308 non-null  uint8  \n",
      " 23  Purpose_Of_Loan_small_business      164308 non-null  uint8  \n",
      " 24  Purpose_Of_Loan_vacation            164308 non-null  uint8  \n",
      " 25  Purpose_Of_Loan_wedding             164308 non-null  uint8  \n",
      " 26  Gender_Female                       164308 non-null  uint8  \n",
      " 27  Gender_Male                         164308 non-null  uint8  \n",
      "dtypes: float64(3), int64(4), uint8(21)\n",
      "memory usage: 18.3 MB\n"
     ]
    }
   ],
   "source": [
    "df_post.info()"
   ]
  },
  {
   "cell_type": "code",
   "execution_count": 63,
   "metadata": {
    "scrolled": false
   },
   "outputs": [
    {
     "data": {
      "text/html": [
       "<div>\n",
       "<style scoped>\n",
       "    .dataframe tbody tr th:only-of-type {\n",
       "        vertical-align: middle;\n",
       "    }\n",
       "\n",
       "    .dataframe tbody tr th {\n",
       "        vertical-align: top;\n",
       "    }\n",
       "\n",
       "    .dataframe thead th {\n",
       "        text-align: right;\n",
       "    }\n",
       "</style>\n",
       "<table border=\"1\" class=\"dataframe\">\n",
       "  <thead>\n",
       "    <tr style=\"text-align: right;\">\n",
       "      <th></th>\n",
       "      <th>Loan_Amount_Requested</th>\n",
       "      <th>Length_Employed</th>\n",
       "      <th>Annual_Income</th>\n",
       "      <th>Debt_To_Income</th>\n",
       "      <th>Inquiries_Last_6Mo</th>\n",
       "      <th>Total_Accounts</th>\n",
       "      <th>Interest_Rate</th>\n",
       "      <th>Home_Owner_Mortgage</th>\n",
       "      <th>Home_Owner_None</th>\n",
       "      <th>Home_Owner_Other</th>\n",
       "      <th>...</th>\n",
       "      <th>Purpose_Of_Loan_major_purchase</th>\n",
       "      <th>Purpose_Of_Loan_medical</th>\n",
       "      <th>Purpose_Of_Loan_moving</th>\n",
       "      <th>Purpose_Of_Loan_other</th>\n",
       "      <th>Purpose_Of_Loan_renewable_energy</th>\n",
       "      <th>Purpose_Of_Loan_small_business</th>\n",
       "      <th>Purpose_Of_Loan_vacation</th>\n",
       "      <th>Purpose_Of_Loan_wedding</th>\n",
       "      <th>Gender_Female</th>\n",
       "      <th>Gender_Male</th>\n",
       "    </tr>\n",
       "  </thead>\n",
       "  <tbody>\n",
       "    <tr>\n",
       "      <th>0</th>\n",
       "      <td>7000</td>\n",
       "      <td>0.0</td>\n",
       "      <td>68000.00000</td>\n",
       "      <td>18.37</td>\n",
       "      <td>0</td>\n",
       "      <td>14</td>\n",
       "      <td>1</td>\n",
       "      <td>0</td>\n",
       "      <td>0</td>\n",
       "      <td>0</td>\n",
       "      <td>...</td>\n",
       "      <td>0</td>\n",
       "      <td>0</td>\n",
       "      <td>0</td>\n",
       "      <td>0</td>\n",
       "      <td>0</td>\n",
       "      <td>0</td>\n",
       "      <td>0</td>\n",
       "      <td>0</td>\n",
       "      <td>1</td>\n",
       "      <td>0</td>\n",
       "    </tr>\n",
       "    <tr>\n",
       "      <th>1</th>\n",
       "      <td>30000</td>\n",
       "      <td>4.0</td>\n",
       "      <td>73993.44661</td>\n",
       "      <td>14.93</td>\n",
       "      <td>0</td>\n",
       "      <td>24</td>\n",
       "      <td>3</td>\n",
       "      <td>1</td>\n",
       "      <td>0</td>\n",
       "      <td>0</td>\n",
       "      <td>...</td>\n",
       "      <td>0</td>\n",
       "      <td>0</td>\n",
       "      <td>0</td>\n",
       "      <td>0</td>\n",
       "      <td>0</td>\n",
       "      <td>0</td>\n",
       "      <td>0</td>\n",
       "      <td>0</td>\n",
       "      <td>1</td>\n",
       "      <td>0</td>\n",
       "    </tr>\n",
       "    <tr>\n",
       "      <th>2</th>\n",
       "      <td>24725</td>\n",
       "      <td>7.0</td>\n",
       "      <td>75566.40000</td>\n",
       "      <td>15.88</td>\n",
       "      <td>0</td>\n",
       "      <td>16</td>\n",
       "      <td>3</td>\n",
       "      <td>1</td>\n",
       "      <td>0</td>\n",
       "      <td>0</td>\n",
       "      <td>...</td>\n",
       "      <td>0</td>\n",
       "      <td>0</td>\n",
       "      <td>0</td>\n",
       "      <td>0</td>\n",
       "      <td>0</td>\n",
       "      <td>0</td>\n",
       "      <td>0</td>\n",
       "      <td>0</td>\n",
       "      <td>0</td>\n",
       "      <td>1</td>\n",
       "    </tr>\n",
       "    <tr>\n",
       "      <th>3</th>\n",
       "      <td>16000</td>\n",
       "      <td>0.0</td>\n",
       "      <td>56160.00000</td>\n",
       "      <td>14.34</td>\n",
       "      <td>3</td>\n",
       "      <td>22</td>\n",
       "      <td>3</td>\n",
       "      <td>0</td>\n",
       "      <td>0</td>\n",
       "      <td>0</td>\n",
       "      <td>...</td>\n",
       "      <td>0</td>\n",
       "      <td>0</td>\n",
       "      <td>0</td>\n",
       "      <td>0</td>\n",
       "      <td>0</td>\n",
       "      <td>0</td>\n",
       "      <td>0</td>\n",
       "      <td>0</td>\n",
       "      <td>0</td>\n",
       "      <td>1</td>\n",
       "    </tr>\n",
       "    <tr>\n",
       "      <th>4</th>\n",
       "      <td>17000</td>\n",
       "      <td>8.0</td>\n",
       "      <td>96000.00000</td>\n",
       "      <td>22.17</td>\n",
       "      <td>1</td>\n",
       "      <td>30</td>\n",
       "      <td>1</td>\n",
       "      <td>0</td>\n",
       "      <td>0</td>\n",
       "      <td>0</td>\n",
       "      <td>...</td>\n",
       "      <td>0</td>\n",
       "      <td>0</td>\n",
       "      <td>0</td>\n",
       "      <td>0</td>\n",
       "      <td>0</td>\n",
       "      <td>0</td>\n",
       "      <td>0</td>\n",
       "      <td>0</td>\n",
       "      <td>1</td>\n",
       "      <td>0</td>\n",
       "    </tr>\n",
       "  </tbody>\n",
       "</table>\n",
       "<p>5 rows × 28 columns</p>\n",
       "</div>"
      ],
      "text/plain": [
       "   Loan_Amount_Requested  Length_Employed  Annual_Income  Debt_To_Income  \\\n",
       "0                   7000              0.0    68000.00000           18.37   \n",
       "1                  30000              4.0    73993.44661           14.93   \n",
       "2                  24725              7.0    75566.40000           15.88   \n",
       "3                  16000              0.0    56160.00000           14.34   \n",
       "4                  17000              8.0    96000.00000           22.17   \n",
       "\n",
       "   Inquiries_Last_6Mo  Total_Accounts  Interest_Rate  Home_Owner_Mortgage  \\\n",
       "0                   0              14              1                    0   \n",
       "1                   0              24              3                    1   \n",
       "2                   0              16              3                    1   \n",
       "3                   3              22              3                    0   \n",
       "4                   1              30              1                    0   \n",
       "\n",
       "   Home_Owner_None  Home_Owner_Other  ...  Purpose_Of_Loan_major_purchase  \\\n",
       "0                0                 0  ...                               0   \n",
       "1                0                 0  ...                               0   \n",
       "2                0                 0  ...                               0   \n",
       "3                0                 0  ...                               0   \n",
       "4                0                 0  ...                               0   \n",
       "\n",
       "   Purpose_Of_Loan_medical  Purpose_Of_Loan_moving  Purpose_Of_Loan_other  \\\n",
       "0                        0                       0                      0   \n",
       "1                        0                       0                      0   \n",
       "2                        0                       0                      0   \n",
       "3                        0                       0                      0   \n",
       "4                        0                       0                      0   \n",
       "\n",
       "   Purpose_Of_Loan_renewable_energy  Purpose_Of_Loan_small_business  \\\n",
       "0                                 0                               0   \n",
       "1                                 0                               0   \n",
       "2                                 0                               0   \n",
       "3                                 0                               0   \n",
       "4                                 0                               0   \n",
       "\n",
       "   Purpose_Of_Loan_vacation  Purpose_Of_Loan_wedding  Gender_Female  \\\n",
       "0                         0                        0              1   \n",
       "1                         0                        0              1   \n",
       "2                         0                        0              0   \n",
       "3                         0                        0              0   \n",
       "4                         0                        0              1   \n",
       "\n",
       "   Gender_Male  \n",
       "0            0  \n",
       "1            0  \n",
       "2            1  \n",
       "3            1  \n",
       "4            0  \n",
       "\n",
       "[5 rows x 28 columns]"
      ]
     },
     "execution_count": 63,
     "metadata": {},
     "output_type": "execute_result"
    }
   ],
   "source": [
    "df_post.head()"
   ]
  },
  {
   "cell_type": "markdown",
   "metadata": {},
   "source": [
    "# 4.Train Test Split"
   ]
  },
  {
   "cell_type": "code",
   "execution_count": 64,
   "metadata": {},
   "outputs": [],
   "source": [
    "X = df_post.drop('Interest_Rate',axis=1).values"
   ]
  },
  {
   "cell_type": "code",
   "execution_count": 65,
   "metadata": {},
   "outputs": [],
   "source": [
    "y = df_post['Interest_Rate']"
   ]
  },
  {
   "cell_type": "code",
   "execution_count": 66,
   "metadata": {},
   "outputs": [],
   "source": [
    "y = pd.get_dummies(y)\n",
    "# Si la variable objetivo está en formato string, utilizar lo siguiente:\n",
    "# Primero codificar la variable objetivo como integers y después aplicar one hot encoding\n",
    "#from keras.utils import np_utils\n",
    "#from sklearn.preprocessing import LabelEncoder\n",
    "# encoder = LabelEncoder()\n",
    "# encoder.fit(Y)\n",
    "# Y = encoder.transform(Y)\n",
    "# Y = np_utils.to_categorical(Y)"
   ]
  },
  {
   "cell_type": "code",
   "execution_count": 67,
   "metadata": {},
   "outputs": [],
   "source": [
    "y = y.values"
   ]
  },
  {
   "cell_type": "code",
   "execution_count": 68,
   "metadata": {},
   "outputs": [
    {
     "data": {
      "text/plain": [
       "array([[1, 0, 0],\n",
       "       [0, 0, 1],\n",
       "       [0, 0, 1],\n",
       "       ...,\n",
       "       [1, 0, 0],\n",
       "       [0, 0, 1],\n",
       "       [0, 1, 0]], dtype=uint8)"
      ]
     },
     "execution_count": 68,
     "metadata": {},
     "output_type": "execute_result"
    }
   ],
   "source": [
    "y"
   ]
  },
  {
   "cell_type": "code",
   "execution_count": 69,
   "metadata": {},
   "outputs": [],
   "source": [
    "from sklearn.model_selection import train_test_split"
   ]
  },
  {
   "cell_type": "code",
   "execution_count": 70,
   "metadata": {},
   "outputs": [],
   "source": [
    "X_train, X_test, y_train, y_test = train_test_split(X,y,test_size=0.25,random_state=101)"
   ]
  },
  {
   "cell_type": "code",
   "execution_count": 71,
   "metadata": {},
   "outputs": [
    {
     "data": {
      "text/plain": [
       "(123231, 27)"
      ]
     },
     "execution_count": 71,
     "metadata": {},
     "output_type": "execute_result"
    }
   ],
   "source": [
    "X_train.shape"
   ]
  },
  {
   "cell_type": "code",
   "execution_count": 72,
   "metadata": {},
   "outputs": [
    {
     "data": {
      "text/plain": [
       "(41077, 27)"
      ]
     },
     "execution_count": 72,
     "metadata": {},
     "output_type": "execute_result"
    }
   ],
   "source": [
    "X_test.shape"
   ]
  },
  {
   "cell_type": "markdown",
   "metadata": {},
   "source": [
    "# 5.Escalado"
   ]
  },
  {
   "cell_type": "code",
   "execution_count": 73,
   "metadata": {},
   "outputs": [],
   "source": [
    "from sklearn.preprocessing import MinMaxScaler"
   ]
  },
  {
   "cell_type": "code",
   "execution_count": 74,
   "metadata": {},
   "outputs": [],
   "source": [
    "scaler = MinMaxScaler()"
   ]
  },
  {
   "cell_type": "code",
   "execution_count": 75,
   "metadata": {},
   "outputs": [
    {
     "data": {
      "text/plain": [
       "MinMaxScaler()"
      ]
     },
     "execution_count": 75,
     "metadata": {},
     "output_type": "execute_result"
    }
   ],
   "source": [
    "scaler.fit(X_train)"
   ]
  },
  {
   "cell_type": "code",
   "execution_count": 76,
   "metadata": {},
   "outputs": [],
   "source": [
    "X_train = scaler.transform(X_train)\n",
    "X_test = scaler.transform(X_test)"
   ]
  },
  {
   "cell_type": "code",
   "execution_count": 77,
   "metadata": {},
   "outputs": [
    {
     "data": {
      "text/plain": [
       "(123231, 27)"
      ]
     },
     "execution_count": 77,
     "metadata": {},
     "output_type": "execute_result"
    }
   ],
   "source": [
    "X_train.shape"
   ]
  },
  {
   "cell_type": "code",
   "execution_count": 78,
   "metadata": {},
   "outputs": [
    {
     "data": {
      "text/plain": [
       "(41077, 27)"
      ]
     },
     "execution_count": 78,
     "metadata": {},
     "output_type": "execute_result"
    }
   ],
   "source": [
    "X_test.shape"
   ]
  },
  {
   "cell_type": "code",
   "execution_count": 79,
   "metadata": {},
   "outputs": [
    {
     "data": {
      "text/plain": [
       "array([[0.27536232, 0.3       , 0.00853789, ..., 0.        , 0.        ,\n",
       "        1.        ],\n",
       "       [0.44927536, 0.9       , 0.00693703, ..., 0.        , 0.        ,\n",
       "        1.        ],\n",
       "       [0.55072464, 0.1       , 0.00747065, ..., 0.        , 0.        ,\n",
       "        1.        ],\n",
       "       ...,\n",
       "       [1.        , 1.        , 0.01463047, ..., 0.        , 0.        ,\n",
       "        1.        ],\n",
       "       [0.28985507, 0.8       , 0.00996868, ..., 0.        , 0.        ,\n",
       "        1.        ],\n",
       "       [0.09275362, 0.63988426, 0.00322839, ..., 0.        , 0.        ,\n",
       "        1.        ]])"
      ]
     },
     "execution_count": 79,
     "metadata": {},
     "output_type": "execute_result"
    }
   ],
   "source": [
    "X_train"
   ]
  },
  {
   "cell_type": "code",
   "execution_count": 80,
   "metadata": {
    "scrolled": true
   },
   "outputs": [
    {
     "data": {
      "text/plain": [
       "1.0"
      ]
     },
     "execution_count": 80,
     "metadata": {},
     "output_type": "execute_result"
    }
   ],
   "source": [
    "X_train.max()"
   ]
  },
  {
   "cell_type": "markdown",
   "metadata": {},
   "source": [
    "# 6.Creación del modelo\n",
    "\n",
    "    # Para un problema de clasificación multiclase\n",
    "    model.compile(optimizer='adam',\n",
    "                  loss='categorical_crossentropy',\n",
    "                  metrics=['accuracy'])\n",
    "                  \n",
    "    "
   ]
  },
  {
   "cell_type": "code",
   "execution_count": 81,
   "metadata": {},
   "outputs": [],
   "source": [
    "import tensorflow as tf\n",
    "from tensorflow.keras.models import Sequential\n",
    "from tensorflow.keras.layers import Dense, Activation,Dropout"
   ]
  },
  {
   "cell_type": "code",
   "execution_count": 82,
   "metadata": {},
   "outputs": [
    {
     "data": {
      "text/plain": [
       "(123231, 27)"
      ]
     },
     "execution_count": 82,
     "metadata": {},
     "output_type": "execute_result"
    }
   ],
   "source": [
    "X_train.shape"
   ]
  },
  {
   "cell_type": "code",
   "execution_count": 83,
   "metadata": {},
   "outputs": [],
   "source": [
    "model = Sequential()\n",
    "# Elegir número de capas (layers)\n",
    "# https://stats.stackexchange.com/questions/181/how-to-choose-the-number-of-hidden-layers-and-nodes-in-a-feedforward-neural-netw\n",
    "num_neuronas = X_train.shape[1]\n",
    "num_neuronas_salida = len(df[\"Interest_Rate\"].unique()) # Indicar tantas neuronas de salida como clases a predecir, en este caso 3 (variable \"Interest_Rate\")\n",
    "\n",
    "model.add(Dense(units=num_neuronas,activation='relu'))\n",
    "#model.add(Dropout(0.2)) #la mitad de las neuronas en cada epoch para esta capa. Solo algunas neuronas se actualizarán en cada epoch, permitiendo que solo se ajusten algunos pesos (w) y bias (b) en cada iteración de manera independiente\n",
    "\n",
    "model.add(Dense(units=np.round(num_neuronas/2),activation='relu'))\n",
    "#model.add(Dropout(0.2)) #la mitad de las neuronas en cada epoch para esta capa\n",
    "\n",
    "model.add(Dense(units=num_neuronas_salida,activation='softmax')) # softmax para multiclase - softmax activation distribuye la probabilidad sobre cada nodo de salida (clase)\n",
    "\n",
    "# Para clasificación multiclase \"categorical_crossentropy\"\n",
    "model.compile(loss='categorical_crossentropy', optimizer='adam',metrics=['categorical_accuracy'])"
   ]
  },
  {
   "cell_type": "markdown",
   "metadata": {},
   "source": [
    "# 7. Entrenamiento del modelo"
   ]
  },
  {
   "cell_type": "code",
   "execution_count": 84,
   "metadata": {},
   "outputs": [],
   "source": [
    "from tensorflow.keras.callbacks import EarlyStopping\n",
    "early_stop = EarlyStopping(monitor='val_loss', mode='min', verbose=1, patience=15)"
   ]
  },
  {
   "cell_type": "code",
   "execution_count": 85,
   "metadata": {},
   "outputs": [
    {
     "name": "stdout",
     "output_type": "stream",
     "text": [
      "Epoch 1/200\n",
      "482/482 [==============================] - 2s 4ms/step - loss: 1.0334 - categorical_accuracy: 0.4574 - val_loss: 0.9635 - val_categorical_accuracy: 0.5201\n",
      "Epoch 2/200\n",
      "482/482 [==============================] - 1s 1ms/step - loss: 0.9605 - categorical_accuracy: 0.5180 - val_loss: 0.9557 - val_categorical_accuracy: 0.5238\n",
      "Epoch 3/200\n",
      "482/482 [==============================] - 1s 1ms/step - loss: 0.9604 - categorical_accuracy: 0.5189 - val_loss: 0.9541 - val_categorical_accuracy: 0.5251\n",
      "Epoch 4/200\n",
      "482/482 [==============================] - 1s 1ms/step - loss: 0.9586 - categorical_accuracy: 0.5194 - val_loss: 0.9529 - val_categorical_accuracy: 0.5243\n",
      "Epoch 5/200\n",
      "482/482 [==============================] - 1s 1ms/step - loss: 0.9558 - categorical_accuracy: 0.5193 - val_loss: 0.9527 - val_categorical_accuracy: 0.5255\n",
      "Epoch 6/200\n",
      "482/482 [==============================] - 1s 1ms/step - loss: 0.9551 - categorical_accuracy: 0.5224 - val_loss: 0.9515 - val_categorical_accuracy: 0.5259\n",
      "Epoch 7/200\n",
      "482/482 [==============================] - 1s 1ms/step - loss: 0.9565 - categorical_accuracy: 0.5209 - val_loss: 0.9507 - val_categorical_accuracy: 0.5275\n",
      "Epoch 8/200\n",
      "482/482 [==============================] - 1s 1ms/step - loss: 0.9551 - categorical_accuracy: 0.5219 - val_loss: 0.9527 - val_categorical_accuracy: 0.5226\n",
      "Epoch 9/200\n",
      "482/482 [==============================] - 1s 1ms/step - loss: 0.9536 - categorical_accuracy: 0.5197 - val_loss: 0.9499 - val_categorical_accuracy: 0.5272\n",
      "Epoch 10/200\n",
      "482/482 [==============================] - 1s 1ms/step - loss: 0.9497 - categorical_accuracy: 0.5265 - val_loss: 0.9516 - val_categorical_accuracy: 0.5257\n",
      "Epoch 11/200\n",
      "482/482 [==============================] - 1s 1ms/step - loss: 0.9520 - categorical_accuracy: 0.5243 - val_loss: 0.9485 - val_categorical_accuracy: 0.5264\n",
      "Epoch 12/200\n",
      "482/482 [==============================] - 1s 1ms/step - loss: 0.9507 - categorical_accuracy: 0.5226 - val_loss: 0.9507 - val_categorical_accuracy: 0.5254\n",
      "Epoch 13/200\n",
      "482/482 [==============================] - 1s 1ms/step - loss: 0.9523 - categorical_accuracy: 0.5239 - val_loss: 0.9491 - val_categorical_accuracy: 0.5267\n",
      "Epoch 14/200\n",
      "482/482 [==============================] - 1s 1ms/step - loss: 0.9487 - categorical_accuracy: 0.5257 - val_loss: 0.9472 - val_categorical_accuracy: 0.5281\n",
      "Epoch 15/200\n",
      "482/482 [==============================] - 1s 1ms/step - loss: 0.9498 - categorical_accuracy: 0.5237 - val_loss: 0.9482 - val_categorical_accuracy: 0.5271\n",
      "Epoch 16/200\n",
      "482/482 [==============================] - 1s 1ms/step - loss: 0.9480 - categorical_accuracy: 0.5256 - val_loss: 0.9481 - val_categorical_accuracy: 0.5277\n",
      "Epoch 17/200\n",
      "482/482 [==============================] - 1s 1ms/step - loss: 0.9504 - categorical_accuracy: 0.5247 - val_loss: 0.9467 - val_categorical_accuracy: 0.5278\n",
      "Epoch 18/200\n",
      "482/482 [==============================] - 1s 1ms/step - loss: 0.9477 - categorical_accuracy: 0.5250 - val_loss: 0.9460 - val_categorical_accuracy: 0.5285\n",
      "Epoch 19/200\n",
      "482/482 [==============================] - 1s 1ms/step - loss: 0.9469 - categorical_accuracy: 0.5268 - val_loss: 0.9472 - val_categorical_accuracy: 0.5268\n",
      "Epoch 20/200\n",
      "482/482 [==============================] - 1s 1ms/step - loss: 0.9471 - categorical_accuracy: 0.5272 - val_loss: 0.9480 - val_categorical_accuracy: 0.5270\n",
      "Epoch 21/200\n",
      "482/482 [==============================] - 1s 1ms/step - loss: 0.9490 - categorical_accuracy: 0.5257 - val_loss: 0.9468 - val_categorical_accuracy: 0.5277\n",
      "Epoch 22/200\n",
      "482/482 [==============================] - 1s 1ms/step - loss: 0.9502 - categorical_accuracy: 0.5249 - val_loss: 0.9460 - val_categorical_accuracy: 0.5282\n",
      "Epoch 23/200\n",
      "482/482 [==============================] - 1s 1ms/step - loss: 0.9475 - categorical_accuracy: 0.5276 - val_loss: 0.9466 - val_categorical_accuracy: 0.5278\n",
      "Epoch 24/200\n",
      "482/482 [==============================] - 1s 1ms/step - loss: 0.9473 - categorical_accuracy: 0.5278 - val_loss: 0.9467 - val_categorical_accuracy: 0.5264\n",
      "Epoch 25/200\n",
      "482/482 [==============================] - 1s 1ms/step - loss: 0.9472 - categorical_accuracy: 0.5252 - val_loss: 0.9458 - val_categorical_accuracy: 0.5276\n",
      "Epoch 26/200\n",
      "482/482 [==============================] - 1s 1ms/step - loss: 0.9483 - categorical_accuracy: 0.5231 - val_loss: 0.9474 - val_categorical_accuracy: 0.5273\n",
      "Epoch 27/200\n",
      "482/482 [==============================] - 1s 1ms/step - loss: 0.9479 - categorical_accuracy: 0.5268 - val_loss: 0.9459 - val_categorical_accuracy: 0.5274\n",
      "Epoch 28/200\n",
      "482/482 [==============================] - 1s 1ms/step - loss: 0.9473 - categorical_accuracy: 0.5246 - val_loss: 0.9454 - val_categorical_accuracy: 0.5284\n",
      "Epoch 29/200\n",
      "482/482 [==============================] - 1s 1ms/step - loss: 0.9463 - categorical_accuracy: 0.5277 - val_loss: 0.9461 - val_categorical_accuracy: 0.5280\n",
      "Epoch 30/200\n",
      "482/482 [==============================] - 1s 1ms/step - loss: 0.9473 - categorical_accuracy: 0.5276 - val_loss: 0.9452 - val_categorical_accuracy: 0.5291\n",
      "Epoch 31/200\n",
      "482/482 [==============================] - 1s 1ms/step - loss: 0.9491 - categorical_accuracy: 0.5250 - val_loss: 0.9456 - val_categorical_accuracy: 0.5286\n",
      "Epoch 32/200\n",
      "482/482 [==============================] - 1s 1ms/step - loss: 0.9464 - categorical_accuracy: 0.5251 - val_loss: 0.9452 - val_categorical_accuracy: 0.5280\n",
      "Epoch 33/200\n",
      "482/482 [==============================] - 1s 1ms/step - loss: 0.9426 - categorical_accuracy: 0.5288 - val_loss: 0.9459 - val_categorical_accuracy: 0.5280\n",
      "Epoch 34/200\n",
      "482/482 [==============================] - 1s 1ms/step - loss: 0.9444 - categorical_accuracy: 0.5284 - val_loss: 0.9448 - val_categorical_accuracy: 0.5287\n",
      "Epoch 35/200\n",
      "482/482 [==============================] - 1s 1ms/step - loss: 0.9467 - categorical_accuracy: 0.5269 - val_loss: 0.9461 - val_categorical_accuracy: 0.5281\n",
      "Epoch 36/200\n",
      "482/482 [==============================] - 1s 1ms/step - loss: 0.9484 - categorical_accuracy: 0.5238 - val_loss: 0.9450 - val_categorical_accuracy: 0.5290\n",
      "Epoch 37/200\n",
      "482/482 [==============================] - 1s 1ms/step - loss: 0.9463 - categorical_accuracy: 0.5281 - val_loss: 0.9453 - val_categorical_accuracy: 0.5279\n",
      "Epoch 38/200\n",
      "482/482 [==============================] - 1s 1ms/step - loss: 0.9460 - categorical_accuracy: 0.5260 - val_loss: 0.9457 - val_categorical_accuracy: 0.5286\n",
      "Epoch 39/200\n",
      "482/482 [==============================] - 1s 1ms/step - loss: 0.9437 - categorical_accuracy: 0.5297 - val_loss: 0.9445 - val_categorical_accuracy: 0.5294\n",
      "Epoch 40/200\n",
      "482/482 [==============================] - 1s 1ms/step - loss: 0.9489 - categorical_accuracy: 0.5254 - val_loss: 0.9458 - val_categorical_accuracy: 0.5277\n",
      "Epoch 41/200\n",
      "482/482 [==============================] - 1s 1ms/step - loss: 0.9456 - categorical_accuracy: 0.5272 - val_loss: 0.9451 - val_categorical_accuracy: 0.5285\n",
      "Epoch 42/200\n",
      "482/482 [==============================] - 1s 1ms/step - loss: 0.9461 - categorical_accuracy: 0.5278 - val_loss: 0.9444 - val_categorical_accuracy: 0.5290\n",
      "Epoch 43/200\n",
      "482/482 [==============================] - 1s 1ms/step - loss: 0.9451 - categorical_accuracy: 0.5271 - val_loss: 0.9447 - val_categorical_accuracy: 0.5286\n",
      "Epoch 44/200\n",
      "482/482 [==============================] - 1s 1ms/step - loss: 0.9441 - categorical_accuracy: 0.5267 - val_loss: 0.9446 - val_categorical_accuracy: 0.5275\n",
      "Epoch 45/200\n",
      "482/482 [==============================] - 1s 1ms/step - loss: 0.9450 - categorical_accuracy: 0.5264 - val_loss: 0.9461 - val_categorical_accuracy: 0.5280\n",
      "Epoch 46/200\n",
      "482/482 [==============================] - 1s 1ms/step - loss: 0.9461 - categorical_accuracy: 0.5277 - val_loss: 0.9447 - val_categorical_accuracy: 0.5276\n",
      "Epoch 47/200\n",
      "482/482 [==============================] - 1s 1ms/step - loss: 0.9453 - categorical_accuracy: 0.5300 - val_loss: 0.9455 - val_categorical_accuracy: 0.5281\n",
      "Epoch 48/200\n",
      "482/482 [==============================] - 1s 1ms/step - loss: 0.9478 - categorical_accuracy: 0.5261 - val_loss: 0.9444 - val_categorical_accuracy: 0.5290\n",
      "Epoch 49/200\n",
      "482/482 [==============================] - 1s 1ms/step - loss: 0.9451 - categorical_accuracy: 0.5291 - val_loss: 0.9445 - val_categorical_accuracy: 0.5280\n"
     ]
    },
    {
     "name": "stdout",
     "output_type": "stream",
     "text": [
      "Epoch 50/200\n",
      "482/482 [==============================] - 1s 1ms/step - loss: 0.9440 - categorical_accuracy: 0.5297 - val_loss: 0.9444 - val_categorical_accuracy: 0.5288\n",
      "Epoch 51/200\n",
      "482/482 [==============================] - 1s 1ms/step - loss: 0.9463 - categorical_accuracy: 0.5255 - val_loss: 0.9463 - val_categorical_accuracy: 0.5279\n",
      "Epoch 52/200\n",
      "482/482 [==============================] - 1s 1ms/step - loss: 0.9435 - categorical_accuracy: 0.5266 - val_loss: 0.9442 - val_categorical_accuracy: 0.5298\n",
      "Epoch 53/200\n",
      "482/482 [==============================] - 1s 1ms/step - loss: 0.9454 - categorical_accuracy: 0.5281 - val_loss: 0.9439 - val_categorical_accuracy: 0.5279\n",
      "Epoch 54/200\n",
      "482/482 [==============================] - 1s 1ms/step - loss: 0.9455 - categorical_accuracy: 0.5269 - val_loss: 0.9448 - val_categorical_accuracy: 0.5276\n",
      "Epoch 55/200\n",
      "482/482 [==============================] - 1s 1ms/step - loss: 0.9431 - categorical_accuracy: 0.5279 - val_loss: 0.9448 - val_categorical_accuracy: 0.5286\n",
      "Epoch 56/200\n",
      "482/482 [==============================] - 1s 1ms/step - loss: 0.9447 - categorical_accuracy: 0.5265 - val_loss: 0.9440 - val_categorical_accuracy: 0.5279\n",
      "Epoch 57/200\n",
      "482/482 [==============================] - 1s 1ms/step - loss: 0.9447 - categorical_accuracy: 0.5285 - val_loss: 0.9455 - val_categorical_accuracy: 0.5285\n",
      "Epoch 58/200\n",
      "482/482 [==============================] - 1s 1ms/step - loss: 0.9454 - categorical_accuracy: 0.5282 - val_loss: 0.9447 - val_categorical_accuracy: 0.5283\n",
      "Epoch 59/200\n",
      "482/482 [==============================] - 1s 1ms/step - loss: 0.9455 - categorical_accuracy: 0.5284 - val_loss: 0.9444 - val_categorical_accuracy: 0.5276\n",
      "Epoch 60/200\n",
      "482/482 [==============================] - 1s 1ms/step - loss: 0.9435 - categorical_accuracy: 0.5292 - val_loss: 0.9520 - val_categorical_accuracy: 0.5261\n",
      "Epoch 61/200\n",
      "482/482 [==============================] - 1s 1ms/step - loss: 0.9445 - categorical_accuracy: 0.5271 - val_loss: 0.9445 - val_categorical_accuracy: 0.5287\n",
      "Epoch 62/200\n",
      "482/482 [==============================] - 1s 1ms/step - loss: 0.9448 - categorical_accuracy: 0.5272 - val_loss: 0.9442 - val_categorical_accuracy: 0.5293\n",
      "Epoch 63/200\n",
      "482/482 [==============================] - 1s 1ms/step - loss: 0.9457 - categorical_accuracy: 0.5268 - val_loss: 0.9443 - val_categorical_accuracy: 0.5294\n",
      "Epoch 64/200\n",
      "482/482 [==============================] - 1s 1ms/step - loss: 0.9459 - categorical_accuracy: 0.5278 - val_loss: 0.9456 - val_categorical_accuracy: 0.5281\n",
      "Epoch 65/200\n",
      "482/482 [==============================] - 1s 1ms/step - loss: 0.9460 - categorical_accuracy: 0.5257 - val_loss: 0.9439 - val_categorical_accuracy: 0.5311\n",
      "Epoch 66/200\n",
      "482/482 [==============================] - 1s 1ms/step - loss: 0.9441 - categorical_accuracy: 0.5277 - val_loss: 0.9443 - val_categorical_accuracy: 0.5269\n",
      "Epoch 67/200\n",
      "482/482 [==============================] - 1s 1ms/step - loss: 0.9435 - categorical_accuracy: 0.5301 - val_loss: 0.9435 - val_categorical_accuracy: 0.5292\n",
      "Epoch 68/200\n",
      "482/482 [==============================] - 1s 1ms/step - loss: 0.9455 - categorical_accuracy: 0.5268 - val_loss: 0.9440 - val_categorical_accuracy: 0.5280\n",
      "Epoch 69/200\n",
      "482/482 [==============================] - 1s 1ms/step - loss: 0.9404 - categorical_accuracy: 0.5321 - val_loss: 0.9454 - val_categorical_accuracy: 0.5270\n",
      "Epoch 70/200\n",
      "482/482 [==============================] - 1s 1ms/step - loss: 0.9464 - categorical_accuracy: 0.5252 - val_loss: 0.9456 - val_categorical_accuracy: 0.5295\n",
      "Epoch 71/200\n",
      "482/482 [==============================] - 1s 1ms/step - loss: 0.9439 - categorical_accuracy: 0.5313 - val_loss: 0.9440 - val_categorical_accuracy: 0.5300\n",
      "Epoch 72/200\n",
      "482/482 [==============================] - 1s 1ms/step - loss: 0.9428 - categorical_accuracy: 0.5296 - val_loss: 0.9436 - val_categorical_accuracy: 0.5283\n",
      "Epoch 73/200\n",
      "482/482 [==============================] - 1s 1ms/step - loss: 0.9425 - categorical_accuracy: 0.5293 - val_loss: 0.9433 - val_categorical_accuracy: 0.5293\n",
      "Epoch 74/200\n",
      "482/482 [==============================] - 1s 1ms/step - loss: 0.9413 - categorical_accuracy: 0.5293 - val_loss: 0.9435 - val_categorical_accuracy: 0.5302\n",
      "Epoch 75/200\n",
      "482/482 [==============================] - 1s 1ms/step - loss: 0.9437 - categorical_accuracy: 0.5285 - val_loss: 0.9444 - val_categorical_accuracy: 0.5276\n",
      "Epoch 76/200\n",
      "482/482 [==============================] - 1s 1ms/step - loss: 0.9427 - categorical_accuracy: 0.5274 - val_loss: 0.9441 - val_categorical_accuracy: 0.5291\n",
      "Epoch 77/200\n",
      "482/482 [==============================] - 1s 1ms/step - loss: 0.9441 - categorical_accuracy: 0.5277 - val_loss: 0.9434 - val_categorical_accuracy: 0.5300\n",
      "Epoch 78/200\n",
      "482/482 [==============================] - 1s 1ms/step - loss: 0.9429 - categorical_accuracy: 0.5277 - val_loss: 0.9445 - val_categorical_accuracy: 0.5300\n",
      "Epoch 79/200\n",
      "482/482 [==============================] - 1s 1ms/step - loss: 0.9428 - categorical_accuracy: 0.5281 - val_loss: 0.9435 - val_categorical_accuracy: 0.5289\n",
      "Epoch 80/200\n",
      "482/482 [==============================] - 1s 1ms/step - loss: 0.9433 - categorical_accuracy: 0.5282 - val_loss: 0.9469 - val_categorical_accuracy: 0.5273\n",
      "Epoch 81/200\n",
      "482/482 [==============================] - 1s 1ms/step - loss: 0.9429 - categorical_accuracy: 0.5284 - val_loss: 0.9447 - val_categorical_accuracy: 0.5292\n",
      "Epoch 82/200\n",
      "482/482 [==============================] - 1s 1ms/step - loss: 0.9436 - categorical_accuracy: 0.5295 - val_loss: 0.9445 - val_categorical_accuracy: 0.5289\n",
      "Epoch 83/200\n",
      "482/482 [==============================] - 1s 1ms/step - loss: 0.9436 - categorical_accuracy: 0.5267 - val_loss: 0.9437 - val_categorical_accuracy: 0.5295\n",
      "Epoch 84/200\n",
      "482/482 [==============================] - 1s 1ms/step - loss: 0.9439 - categorical_accuracy: 0.5273 - val_loss: 0.9430 - val_categorical_accuracy: 0.5285\n",
      "Epoch 85/200\n",
      "482/482 [==============================] - 1s 1ms/step - loss: 0.9431 - categorical_accuracy: 0.5292 - val_loss: 0.9438 - val_categorical_accuracy: 0.5295\n",
      "Epoch 86/200\n",
      "482/482 [==============================] - 1s 1ms/step - loss: 0.9424 - categorical_accuracy: 0.5297 - val_loss: 0.9449 - val_categorical_accuracy: 0.5295\n",
      "Epoch 87/200\n",
      "482/482 [==============================] - 1s 1ms/step - loss: 0.9442 - categorical_accuracy: 0.5306 - val_loss: 0.9433 - val_categorical_accuracy: 0.5302\n",
      "Epoch 88/200\n",
      "482/482 [==============================] - 1s 1ms/step - loss: 0.9437 - categorical_accuracy: 0.5294 - val_loss: 0.9439 - val_categorical_accuracy: 0.5298\n",
      "Epoch 89/200\n",
      "482/482 [==============================] - 1s 1ms/step - loss: 0.9446 - categorical_accuracy: 0.5267 - val_loss: 0.9443 - val_categorical_accuracy: 0.5292\n",
      "Epoch 90/200\n",
      "482/482 [==============================] - 1s 1ms/step - loss: 0.9421 - categorical_accuracy: 0.5289 - val_loss: 0.9436 - val_categorical_accuracy: 0.5292\n",
      "Epoch 91/200\n",
      "482/482 [==============================] - 1s 1ms/step - loss: 0.9430 - categorical_accuracy: 0.5275 - val_loss: 0.9437 - val_categorical_accuracy: 0.5278\n",
      "Epoch 92/200\n",
      "482/482 [==============================] - 1s 1ms/step - loss: 0.9437 - categorical_accuracy: 0.5281 - val_loss: 0.9432 - val_categorical_accuracy: 0.5295\n",
      "Epoch 93/200\n",
      "482/482 [==============================] - 1s 1ms/step - loss: 0.9428 - categorical_accuracy: 0.5303 - val_loss: 0.9435 - val_categorical_accuracy: 0.5279\n",
      "Epoch 94/200\n",
      "482/482 [==============================] - 1s 1ms/step - loss: 0.9448 - categorical_accuracy: 0.5276 - val_loss: 0.9442 - val_categorical_accuracy: 0.5280\n",
      "Epoch 95/200\n",
      "482/482 [==============================] - 1s 1ms/step - loss: 0.9434 - categorical_accuracy: 0.5304 - val_loss: 0.9429 - val_categorical_accuracy: 0.5294\n",
      "Epoch 96/200\n",
      "482/482 [==============================] - 1s 1ms/step - loss: 0.9437 - categorical_accuracy: 0.5276 - val_loss: 0.9441 - val_categorical_accuracy: 0.5286\n",
      "Epoch 97/200\n",
      "482/482 [==============================] - ETA: 0s - loss: 0.9429 - categorical_accuracy: 0.52 - 1s 1ms/step - loss: 0.9429 - categorical_accuracy: 0.5296 - val_loss: 0.9439 - val_categorical_accuracy: 0.5286\n",
      "Epoch 98/200\n",
      "482/482 [==============================] - 1s 1ms/step - loss: 0.9438 - categorical_accuracy: 0.5286 - val_loss: 0.9435 - val_categorical_accuracy: 0.5281\n",
      "Epoch 99/200\n",
      "482/482 [==============================] - 1s 1ms/step - loss: 0.9430 - categorical_accuracy: 0.5302 - val_loss: 0.9442 - val_categorical_accuracy: 0.5301\n",
      "Epoch 100/200\n",
      "482/482 [==============================] - 1s 1ms/step - loss: 0.9428 - categorical_accuracy: 0.5291 - val_loss: 0.9433 - val_categorical_accuracy: 0.5288\n",
      "Epoch 101/200\n",
      "482/482 [==============================] - 1s 1ms/step - loss: 0.9428 - categorical_accuracy: 0.5281 - val_loss: 0.9434 - val_categorical_accuracy: 0.5279\n",
      "Epoch 102/200\n",
      "482/482 [==============================] - 1s 1ms/step - loss: 0.9436 - categorical_accuracy: 0.5263 - val_loss: 0.9432 - val_categorical_accuracy: 0.5299\n",
      "Epoch 103/200\n",
      "482/482 [==============================] - 1s 1ms/step - loss: 0.9407 - categorical_accuracy: 0.5315 - val_loss: 0.9433 - val_categorical_accuracy: 0.5291\n",
      "Epoch 104/200\n",
      "482/482 [==============================] - 1s 1ms/step - loss: 0.9433 - categorical_accuracy: 0.5266 - val_loss: 0.9427 - val_categorical_accuracy: 0.5288\n",
      "Epoch 105/200\n",
      "482/482 [==============================] - 1s 1ms/step - loss: 0.9419 - categorical_accuracy: 0.5285 - val_loss: 0.9441 - val_categorical_accuracy: 0.5292\n",
      "Epoch 106/200\n",
      "482/482 [==============================] - 1s 1ms/step - loss: 0.9412 - categorical_accuracy: 0.5295 - val_loss: 0.9435 - val_categorical_accuracy: 0.5280\n",
      "Epoch 107/200\n",
      "482/482 [==============================] - 1s 1ms/step - loss: 0.9421 - categorical_accuracy: 0.5282 - val_loss: 0.9428 - val_categorical_accuracy: 0.5303\n",
      "Epoch 108/200\n",
      "482/482 [==============================] - 1s 1ms/step - loss: 0.9430 - categorical_accuracy: 0.5301 - val_loss: 0.9442 - val_categorical_accuracy: 0.5293\n",
      "Epoch 109/200\n",
      "482/482 [==============================] - 1s 1ms/step - loss: 0.9418 - categorical_accuracy: 0.5291 - val_loss: 0.9434 - val_categorical_accuracy: 0.5294\n",
      "Epoch 110/200\n",
      "482/482 [==============================] - 1s 1ms/step - loss: 0.9388 - categorical_accuracy: 0.5318 - val_loss: 0.9457 - val_categorical_accuracy: 0.5277\n",
      "Epoch 111/200\n",
      "482/482 [==============================] - 1s 1ms/step - loss: 0.9432 - categorical_accuracy: 0.5274 - val_loss: 0.9444 - val_categorical_accuracy: 0.5278\n",
      "Epoch 112/200\n",
      "482/482 [==============================] - 1s 1ms/step - loss: 0.9408 - categorical_accuracy: 0.5298 - val_loss: 0.9436 - val_categorical_accuracy: 0.5298\n",
      "Epoch 113/200\n",
      "482/482 [==============================] - 1s 1ms/step - loss: 0.9408 - categorical_accuracy: 0.5318 - val_loss: 0.9437 - val_categorical_accuracy: 0.5279\n",
      "Epoch 114/200\n",
      "482/482 [==============================] - 1s 1ms/step - loss: 0.9396 - categorical_accuracy: 0.5315 - val_loss: 0.9429 - val_categorical_accuracy: 0.5292\n",
      "Epoch 115/200\n",
      "482/482 [==============================] - 1s 1ms/step - loss: 0.9430 - categorical_accuracy: 0.5290 - val_loss: 0.9419 - val_categorical_accuracy: 0.5294\n",
      "Epoch 116/200\n",
      "482/482 [==============================] - 1s 1ms/step - loss: 0.9423 - categorical_accuracy: 0.5287 - val_loss: 0.9426 - val_categorical_accuracy: 0.5287\n",
      "Epoch 117/200\n",
      "482/482 [==============================] - 1s 1ms/step - loss: 0.9427 - categorical_accuracy: 0.5287 - val_loss: 0.9425 - val_categorical_accuracy: 0.5290\n",
      "Epoch 118/200\n",
      "482/482 [==============================] - 1s 1ms/step - loss: 0.9397 - categorical_accuracy: 0.5307 - val_loss: 0.9425 - val_categorical_accuracy: 0.5291\n",
      "Epoch 119/200\n",
      "482/482 [==============================] - 1s 1ms/step - loss: 0.9440 - categorical_accuracy: 0.5273 - val_loss: 0.9431 - val_categorical_accuracy: 0.5274\n",
      "Epoch 120/200\n",
      "482/482 [==============================] - 1s 1ms/step - loss: 0.9401 - categorical_accuracy: 0.5285 - val_loss: 0.9423 - val_categorical_accuracy: 0.5290\n",
      "Epoch 121/200\n",
      "482/482 [==============================] - 1s 1ms/step - loss: 0.9436 - categorical_accuracy: 0.5295 - val_loss: 0.9431 - val_categorical_accuracy: 0.5295\n",
      "Epoch 122/200\n",
      "482/482 [==============================] - 1s 1ms/step - loss: 0.9414 - categorical_accuracy: 0.5295 - val_loss: 0.9425 - val_categorical_accuracy: 0.5285\n",
      "Epoch 123/200\n",
      "482/482 [==============================] - 1s 1ms/step - loss: 0.9408 - categorical_accuracy: 0.5303 - val_loss: 0.9427 - val_categorical_accuracy: 0.5292\n",
      "Epoch 124/200\n",
      "482/482 [==============================] - 1s 1ms/step - loss: 0.9444 - categorical_accuracy: 0.5275 - val_loss: 0.9427 - val_categorical_accuracy: 0.5285\n",
      "Epoch 125/200\n",
      "482/482 [==============================] - 1s 1ms/step - loss: 0.9441 - categorical_accuracy: 0.5260 - val_loss: 0.9433 - val_categorical_accuracy: 0.5296\n",
      "Epoch 126/200\n",
      "482/482 [==============================] - 1s 1ms/step - loss: 0.9422 - categorical_accuracy: 0.5273 - val_loss: 0.9425 - val_categorical_accuracy: 0.5305\n",
      "Epoch 127/200\n",
      "482/482 [==============================] - 1s 1ms/step - loss: 0.9391 - categorical_accuracy: 0.5301 - val_loss: 0.9452 - val_categorical_accuracy: 0.5285\n",
      "Epoch 128/200\n",
      "482/482 [==============================] - 1s 1ms/step - loss: 0.9394 - categorical_accuracy: 0.5307 - val_loss: 0.9431 - val_categorical_accuracy: 0.5301\n",
      "Epoch 129/200\n",
      "482/482 [==============================] - 1s 1ms/step - loss: 0.9440 - categorical_accuracy: 0.5271 - val_loss: 0.9432 - val_categorical_accuracy: 0.5287\n",
      "Epoch 130/200\n",
      "482/482 [==============================] - 1s 1ms/step - loss: 0.9411 - categorical_accuracy: 0.5287 - val_loss: 0.9441 - val_categorical_accuracy: 0.5284\n",
      "Epoch 00130: early stopping\n"
     ]
    },
    {
     "data": {
      "text/plain": [
       "<tensorflow.python.keras.callbacks.History at 0x1fc10fc5430>"
      ]
     },
     "execution_count": 85,
     "metadata": {},
     "output_type": "execute_result"
    }
   ],
   "source": [
    "# https://stats.stackexchange.com/questions/164876/tradeoff-batch-size-vs-number-of-iterations-to-train-a-neural-network\n",
    "# https://datascience.stackexchange.com/questions/18414/are-there-any-rules-for-choosing-the-size-of-a-mini-batch\n",
    "model.fit(x=X_train, \n",
    "          y=y_train, \n",
    "          epochs=200,\n",
    "          batch_size=256,\n",
    "          validation_data=(X_test, y_test), verbose=1,\n",
    "          callbacks=[early_stop]\n",
    "          )"
   ]
  },
  {
   "cell_type": "code",
   "execution_count": 86,
   "metadata": {},
   "outputs": [
    {
     "data": {
      "text/plain": [
       "<matplotlib.axes._subplots.AxesSubplot at 0x1fc13b79580>"
      ]
     },
     "execution_count": 86,
     "metadata": {},
     "output_type": "execute_result"
    },
    {
     "data": {
      "image/png": "[encoded data removed]",
      "text/plain": [
       "<Figure size 432x288 with 1 Axes>"
      ]
     },
     "metadata": {
      "needs_background": "light"
     },
     "output_type": "display_data"
    }
   ],
   "source": [
    "model_loss = pd.DataFrame(model.history.history)\n",
    "model_loss.plot()"
   ]
  },
  {
   "cell_type": "markdown",
   "metadata": {},
   "source": [
    "# 8. Evaluación del modelo"
   ]
  },
  {
   "cell_type": "code",
   "execution_count": 87,
   "metadata": {},
   "outputs": [],
   "source": [
    "from sklearn.metrics import classification_report,confusion_matrix"
   ]
  },
  {
   "cell_type": "markdown",
   "metadata": {},
   "source": [
    "## 8.1 Predicción sobre el conjunto de Test"
   ]
  },
  {
   "cell_type": "code",
   "execution_count": 88,
   "metadata": {},
   "outputs": [],
   "source": [
    "predictions = model.predict(X_test)"
   ]
  },
  {
   "cell_type": "code",
   "execution_count": 89,
   "metadata": {},
   "outputs": [
    {
     "data": {
      "text/plain": [
       "array([[0, 0, 1],\n",
       "       [1, 0, 0],\n",
       "       [1, 0, 0],\n",
       "       ...,\n",
       "       [0, 0, 1],\n",
       "       [0, 1, 0],\n",
       "       [1, 0, 0]], dtype=uint8)"
      ]
     },
     "execution_count": 89,
     "metadata": {},
     "output_type": "execute_result"
    }
   ],
   "source": [
    "y_test"
   ]
  },
  {
   "cell_type": "code",
   "execution_count": 90,
   "metadata": {},
   "outputs": [
    {
     "data": {
      "text/plain": [
       "array([[0.03185469, 0.3154615 , 0.6526838 ],\n",
       "       [0.2757528 , 0.47416916, 0.25007802],\n",
       "       [0.2903368 , 0.49939606, 0.21026719],\n",
       "       ...,\n",
       "       [0.17730609, 0.59676147, 0.22593237],\n",
       "       [0.07990696, 0.4364826 , 0.48361045],\n",
       "       [0.23762345, 0.5599149 , 0.20246167]], dtype=float32)"
      ]
     },
     "execution_count": 90,
     "metadata": {},
     "output_type": "execute_result"
    }
   ],
   "source": [
    "predictions"
   ]
  },
  {
   "cell_type": "code",
   "execution_count": 93,
   "metadata": {},
   "outputs": [],
   "source": [
    "predictions_lab = model.predict_classes(X_test)\n",
    "#predictions = np.argmax(model.predict(X_test), axis=-1) #Si nueva versión de scikit-learn"
   ]
  },
  {
   "cell_type": "code",
   "execution_count": 94,
   "metadata": {},
   "outputs": [
    {
     "data": {
      "text/plain": [
       "array([2, 1, 1, ..., 1, 2, 1], dtype=int64)"
      ]
     },
     "execution_count": 94,
     "metadata": {},
     "output_type": "execute_result"
    }
   ],
   "source": [
    "predictions_lab #La etiqueta 0 es la primera categoría de la variable objetivo (Interest_Rate = 1) y así sucesivamente"
   ]
  },
  {
   "cell_type": "code",
   "execution_count": 94,
   "metadata": {},
   "outputs": [],
   "source": [
    "predictions_lab_real = predictions_lab+1"
   ]
  },
  {
   "cell_type": "code",
   "execution_count": 95,
   "metadata": {},
   "outputs": [
    {
     "data": {
      "text/plain": [
       "array([3, 2, 2, ..., 2, 3, 2], dtype=int64)"
      ]
     },
     "execution_count": 95,
     "metadata": {},
     "output_type": "execute_result"
    }
   ],
   "source": [
    "predictions_lab_real"
   ]
  },
  {
   "cell_type": "code",
   "execution_count": 96,
   "metadata": {},
   "outputs": [],
   "source": [
    "df_test_lab = pd.DataFrame(y_test, columns = ['Interest Rate 1','Interest Rate 2','Interest Rate 3'])"
   ]
  },
  {
   "cell_type": "code",
   "execution_count": 97,
   "metadata": {},
   "outputs": [
    {
     "data": {
      "text/html": [
       "<div>\n",
       "<style scoped>\n",
       "    .dataframe tbody tr th:only-of-type {\n",
       "        vertical-align: middle;\n",
       "    }\n",
       "\n",
       "    .dataframe tbody tr th {\n",
       "        vertical-align: top;\n",
       "    }\n",
       "\n",
       "    .dataframe thead th {\n",
       "        text-align: right;\n",
       "    }\n",
       "</style>\n",
       "<table border=\"1\" class=\"dataframe\">\n",
       "  <thead>\n",
       "    <tr style=\"text-align: right;\">\n",
       "      <th></th>\n",
       "      <th>Interest Rate 1</th>\n",
       "      <th>Interest Rate 2</th>\n",
       "      <th>Interest Rate 3</th>\n",
       "    </tr>\n",
       "  </thead>\n",
       "  <tbody>\n",
       "    <tr>\n",
       "      <th>0</th>\n",
       "      <td>0</td>\n",
       "      <td>0</td>\n",
       "      <td>1</td>\n",
       "    </tr>\n",
       "    <tr>\n",
       "      <th>1</th>\n",
       "      <td>1</td>\n",
       "      <td>0</td>\n",
       "      <td>0</td>\n",
       "    </tr>\n",
       "    <tr>\n",
       "      <th>2</th>\n",
       "      <td>1</td>\n",
       "      <td>0</td>\n",
       "      <td>0</td>\n",
       "    </tr>\n",
       "    <tr>\n",
       "      <th>3</th>\n",
       "      <td>0</td>\n",
       "      <td>0</td>\n",
       "      <td>1</td>\n",
       "    </tr>\n",
       "    <tr>\n",
       "      <th>4</th>\n",
       "      <td>0</td>\n",
       "      <td>1</td>\n",
       "      <td>0</td>\n",
       "    </tr>\n",
       "    <tr>\n",
       "      <th>...</th>\n",
       "      <td>...</td>\n",
       "      <td>...</td>\n",
       "      <td>...</td>\n",
       "    </tr>\n",
       "    <tr>\n",
       "      <th>41072</th>\n",
       "      <td>0</td>\n",
       "      <td>1</td>\n",
       "      <td>0</td>\n",
       "    </tr>\n",
       "    <tr>\n",
       "      <th>41073</th>\n",
       "      <td>0</td>\n",
       "      <td>0</td>\n",
       "      <td>1</td>\n",
       "    </tr>\n",
       "    <tr>\n",
       "      <th>41074</th>\n",
       "      <td>0</td>\n",
       "      <td>0</td>\n",
       "      <td>1</td>\n",
       "    </tr>\n",
       "    <tr>\n",
       "      <th>41075</th>\n",
       "      <td>0</td>\n",
       "      <td>1</td>\n",
       "      <td>0</td>\n",
       "    </tr>\n",
       "    <tr>\n",
       "      <th>41076</th>\n",
       "      <td>1</td>\n",
       "      <td>0</td>\n",
       "      <td>0</td>\n",
       "    </tr>\n",
       "  </tbody>\n",
       "</table>\n",
       "<p>41077 rows × 3 columns</p>\n",
       "</div>"
      ],
      "text/plain": [
       "       Interest Rate 1  Interest Rate 2  Interest Rate 3\n",
       "0                    0                0                1\n",
       "1                    1                0                0\n",
       "2                    1                0                0\n",
       "3                    0                0                1\n",
       "4                    0                1                0\n",
       "...                ...              ...              ...\n",
       "41072                0                1                0\n",
       "41073                0                0                1\n",
       "41074                0                0                1\n",
       "41075                0                1                0\n",
       "41076                1                0                0\n",
       "\n",
       "[41077 rows x 3 columns]"
      ]
     },
     "execution_count": 97,
     "metadata": {},
     "output_type": "execute_result"
    }
   ],
   "source": [
    "df_test_lab"
   ]
  },
  {
   "cell_type": "code",
   "execution_count": 98,
   "metadata": {},
   "outputs": [],
   "source": [
    "df_test_lab[\"Clase Real\"]=np.where(df_test_lab[\"Interest Rate 1\"]==1,1,np.where(df_test_lab[\"Interest Rate 2\"]==1,2,3))"
   ]
  },
  {
   "cell_type": "code",
   "execution_count": 99,
   "metadata": {},
   "outputs": [
    {
     "data": {
      "text/plain": [
       "0        3\n",
       "1        1\n",
       "2        1\n",
       "3        3\n",
       "4        2\n",
       "        ..\n",
       "41072    2\n",
       "41073    3\n",
       "41074    3\n",
       "41075    2\n",
       "41076    1\n",
       "Name: Clase Real, Length: 41077, dtype: int32"
      ]
     },
     "execution_count": 99,
     "metadata": {},
     "output_type": "execute_result"
    }
   ],
   "source": [
    "df_test_lab[\"Clase Real\"]"
   ]
  },
  {
   "cell_type": "code",
   "execution_count": 100,
   "metadata": {},
   "outputs": [],
   "source": [
    "clases=[1, 2, 3]"
   ]
  },
  {
   "cell_type": "code",
   "execution_count": 101,
   "metadata": {},
   "outputs": [],
   "source": [
    "array_clase_real = df_test_lab[\"Clase Real\"].to_numpy()"
   ]
  },
  {
   "cell_type": "code",
   "execution_count": 102,
   "metadata": {},
   "outputs": [
    {
     "data": {
      "text/plain": [
       "array([[ 1202,  5741,  1402],\n",
       "       [  997, 11484,  5161],\n",
       "       [  271,  5807,  9012]], dtype=int64)"
      ]
     },
     "execution_count": 102,
     "metadata": {},
     "output_type": "execute_result"
    }
   ],
   "source": [
    "confusion_matrix(array_clase_real, predictions_lab_real, labels=clases)"
   ]
  },
  {
   "cell_type": "code",
   "execution_count": 103,
   "metadata": {},
   "outputs": [],
   "source": [
    "def plot_confusion_matrix(cm, classes,\n",
    "                          normalize=False,\n",
    "                          title='Confusion matrix',\n",
    "                          cmap=plt.cm.Blues):\n",
    "    \"\"\"\n",
    "    This function prints and plots the confusion matrix.\n",
    "    Normalization can be applied by setting `normalize=True`.\n",
    "    Source: https://datascience.stackexchange.com/questions/40067/confusion-matrix-three-classes-python/40068\n",
    "    \"\"\"\n",
    "    import itertools\n",
    "    if normalize:\n",
    "        cm = cm.astype('float') / cm.sum(axis=1)[:, np.newaxis]\n",
    "        print(\"Normalized confusion matrix\")\n",
    "    else:\n",
    "        print('Confusion matrix sin normalizar')\n",
    "\n",
    "    print(cm)\n",
    "\n",
    "    plt.imshow(cm, interpolation='nearest', cmap=cmap)\n",
    "    plt.title(title)\n",
    "    plt.colorbar()\n",
    "    tick_marks = np.arange(len(classes))\n",
    "    plt.xticks(tick_marks, classes, rotation=45)\n",
    "    plt.yticks(tick_marks, classes)\n",
    "\n",
    "    fmt = '.2f' if normalize else 'd'\n",
    "    thresh = cm.max() / 2.\n",
    "    for i, j in itertools.product(range(cm.shape[0]), range(cm.shape[1])):\n",
    "        plt.text(j, i, format(cm[i, j], fmt),\n",
    "                 horizontalalignment=\"center\",\n",
    "                 color=\"white\" if cm[i, j] > thresh else \"black\")\n",
    "\n",
    "    plt.ylabel('True label')\n",
    "    plt.xlabel('Predicted label')\n",
    "    plt.tight_layout()"
   ]
  },
  {
   "cell_type": "code",
   "execution_count": 104,
   "metadata": {
    "scrolled": true
   },
   "outputs": [
    {
     "name": "stdout",
     "output_type": "stream",
     "text": [
      "Confusion matrix sin normalizar\n",
      "[[ 1202  5741  1402]\n",
      " [  997 11484  5161]\n",
      " [  271  5807  9012]]\n"
     ]
    },
    {
     "data": {
      "image/png": "[encoded data removed]",
      "text/plain": [
       "<Figure size 432x288 with 2 Axes>"
      ]
     },
     "metadata": {
      "needs_background": "light"
     },
     "output_type": "display_data"
    }
   ],
   "source": [
    "cnf_matrix = confusion_matrix(array_clase_real, predictions_lab_real, labels=clases)\n",
    "np.set_printoptions(precision=2)\n",
    "\n",
    "# Plot non-normalized confusion matrix\n",
    "plt.figure()\n",
    "plot_confusion_matrix(cnf_matrix, classes=clases,\n",
    "                      title='Confusion matrix sin normalización')"
   ]
  },
  {
   "cell_type": "markdown",
   "metadata": {},
   "source": [
    "## 8.2 Predicción sobre nuevos datos"
   ]
  },
  {
   "cell_type": "code",
   "execution_count": 105,
   "metadata": {},
   "outputs": [
    {
     "name": "stderr",
     "output_type": "stream",
     "text": [
      "C:\\Users\\ivan_pinar\\Anaconda3\\lib\\site-packages\\tensorflow\\python\\keras\\engine\\sequential.py:450: UserWarning: `model.predict_classes()` is deprecated and will be removed after 2021-01-01. Please use instead:* `np.argmax(model.predict(x), axis=-1)`,   if your model does multi-class classification   (e.g. if it uses a `softmax` last-layer activation).* `(model.predict(x) > 0.5).astype(\"int32\")`,   if your model does binary classification   (e.g. if it uses a `sigmoid` last-layer activation).\n",
      "  warnings.warn('`model.predict_classes()` is deprecated and '\n"
     ]
    },
    {
     "data": {
      "text/html": [
       "<div>\n",
       "<style scoped>\n",
       "    .dataframe tbody tr th:only-of-type {\n",
       "        vertical-align: middle;\n",
       "    }\n",
       "\n",
       "    .dataframe tbody tr th {\n",
       "        vertical-align: top;\n",
       "    }\n",
       "\n",
       "    .dataframe thead th {\n",
       "        text-align: right;\n",
       "    }\n",
       "</style>\n",
       "<table border=\"1\" class=\"dataframe\">\n",
       "  <thead>\n",
       "    <tr style=\"text-align: right;\">\n",
       "      <th></th>\n",
       "      <th>Loan_Amount_Requested</th>\n",
       "      <th>Length_Employed</th>\n",
       "      <th>Home_Owner</th>\n",
       "      <th>Annual_Income</th>\n",
       "      <th>Purpose_Of_Loan</th>\n",
       "      <th>Debt_To_Income</th>\n",
       "      <th>Inquiries_Last_6Mo</th>\n",
       "      <th>Total_Accounts</th>\n",
       "      <th>Gender</th>\n",
       "      <th>Interest_Rate</th>\n",
       "      <th>PREDICCIÓN</th>\n",
       "    </tr>\n",
       "  </thead>\n",
       "  <tbody>\n",
       "    <tr>\n",
       "      <th>0</th>\n",
       "      <td>7.000</td>\n",
       "      <td>0</td>\n",
       "      <td>Rent</td>\n",
       "      <td>55000.0</td>\n",
       "      <td>car</td>\n",
       "      <td>18.37</td>\n",
       "      <td>0</td>\n",
       "      <td>14</td>\n",
       "      <td>Female</td>\n",
       "      <td>1</td>\n",
       "      <td>2</td>\n",
       "    </tr>\n",
       "    <tr>\n",
       "      <th>1</th>\n",
       "      <td>30.000</td>\n",
       "      <td>4</td>\n",
       "      <td>Mortgage</td>\n",
       "      <td>40000.0</td>\n",
       "      <td>debt_consolidation</td>\n",
       "      <td>14.93</td>\n",
       "      <td>0</td>\n",
       "      <td>24</td>\n",
       "      <td>Female</td>\n",
       "      <td>3</td>\n",
       "      <td>2</td>\n",
       "    </tr>\n",
       "    <tr>\n",
       "      <th>2</th>\n",
       "      <td>24.725</td>\n",
       "      <td>7</td>\n",
       "      <td>Mortgage</td>\n",
       "      <td>75566.4</td>\n",
       "      <td>debt_consolidation</td>\n",
       "      <td>15.88</td>\n",
       "      <td>0</td>\n",
       "      <td>16</td>\n",
       "      <td>Male</td>\n",
       "      <td>3</td>\n",
       "      <td>2</td>\n",
       "    </tr>\n",
       "    <tr>\n",
       "      <th>3</th>\n",
       "      <td>16.000</td>\n",
       "      <td>0</td>\n",
       "      <td>Mortgage</td>\n",
       "      <td>56160.0</td>\n",
       "      <td>debt_consolidation</td>\n",
       "      <td>14.34</td>\n",
       "      <td>3</td>\n",
       "      <td>22</td>\n",
       "      <td>Male</td>\n",
       "      <td>3</td>\n",
       "      <td>2</td>\n",
       "    </tr>\n",
       "    <tr>\n",
       "      <th>4</th>\n",
       "      <td>17.000</td>\n",
       "      <td>8</td>\n",
       "      <td>Own</td>\n",
       "      <td>96000.0</td>\n",
       "      <td>debt_consolidation</td>\n",
       "      <td>22.17</td>\n",
       "      <td>1</td>\n",
       "      <td>30</td>\n",
       "      <td>Female</td>\n",
       "      <td>1</td>\n",
       "      <td>2</td>\n",
       "    </tr>\n",
       "    <tr>\n",
       "      <th>5</th>\n",
       "      <td>4.500</td>\n",
       "      <td>2</td>\n",
       "      <td>Rent</td>\n",
       "      <td>30000.0</td>\n",
       "      <td>credit_card</td>\n",
       "      <td>10.88</td>\n",
       "      <td>1</td>\n",
       "      <td>15</td>\n",
       "      <td>Male</td>\n",
       "      <td>3</td>\n",
       "      <td>2</td>\n",
       "    </tr>\n",
       "    <tr>\n",
       "      <th>6</th>\n",
       "      <td>18.075</td>\n",
       "      <td>4</td>\n",
       "      <td>Rent</td>\n",
       "      <td>85000.0</td>\n",
       "      <td>debt_consolidation</td>\n",
       "      <td>5.65</td>\n",
       "      <td>0</td>\n",
       "      <td>12</td>\n",
       "      <td>Male</td>\n",
       "      <td>3</td>\n",
       "      <td>3</td>\n",
       "    </tr>\n",
       "    <tr>\n",
       "      <th>7</th>\n",
       "      <td>15.000</td>\n",
       "      <td>0</td>\n",
       "      <td>Rent</td>\n",
       "      <td>115000.0</td>\n",
       "      <td>debt_consolidation</td>\n",
       "      <td>7.97</td>\n",
       "      <td>1</td>\n",
       "      <td>31</td>\n",
       "      <td>Female</td>\n",
       "      <td>2</td>\n",
       "      <td>3</td>\n",
       "    </tr>\n",
       "    <tr>\n",
       "      <th>8</th>\n",
       "      <td>6.300</td>\n",
       "      <td>10</td>\n",
       "      <td>Rent</td>\n",
       "      <td>125000.0</td>\n",
       "      <td>debt_consolidation</td>\n",
       "      <td>16.12</td>\n",
       "      <td>3</td>\n",
       "      <td>9</td>\n",
       "      <td>Female</td>\n",
       "      <td>3</td>\n",
       "      <td>3</td>\n",
       "    </tr>\n",
       "    <tr>\n",
       "      <th>9</th>\n",
       "      <td>30.000</td>\n",
       "      <td>10</td>\n",
       "      <td>Own</td>\n",
       "      <td>163000.0</td>\n",
       "      <td>debt_consolidation</td>\n",
       "      <td>11.13</td>\n",
       "      <td>0</td>\n",
       "      <td>43</td>\n",
       "      <td>Male</td>\n",
       "      <td>1</td>\n",
       "      <td>2</td>\n",
       "    </tr>\n",
       "    <tr>\n",
       "      <th>10</th>\n",
       "      <td>11.700</td>\n",
       "      <td>10</td>\n",
       "      <td>Mortgage</td>\n",
       "      <td>62000.0</td>\n",
       "      <td>debt_consolidation</td>\n",
       "      <td>30.91</td>\n",
       "      <td>0</td>\n",
       "      <td>22</td>\n",
       "      <td>Male</td>\n",
       "      <td>2</td>\n",
       "      <td>2</td>\n",
       "    </tr>\n",
       "    <tr>\n",
       "      <th>11</th>\n",
       "      <td>15.000</td>\n",
       "      <td>10</td>\n",
       "      <td>Rent</td>\n",
       "      <td>70000.0</td>\n",
       "      <td>credit_card</td>\n",
       "      <td>8.95</td>\n",
       "      <td>0</td>\n",
       "      <td>13</td>\n",
       "      <td>Male</td>\n",
       "      <td>2</td>\n",
       "      <td>2</td>\n",
       "    </tr>\n",
       "    <tr>\n",
       "      <th>12</th>\n",
       "      <td>7.200</td>\n",
       "      <td>10</td>\n",
       "      <td>Rent</td>\n",
       "      <td>55000.0</td>\n",
       "      <td>debt_consolidation</td>\n",
       "      <td>31.25</td>\n",
       "      <td>0</td>\n",
       "      <td>16</td>\n",
       "      <td>Male</td>\n",
       "      <td>2</td>\n",
       "      <td>3</td>\n",
       "    </tr>\n",
       "    <tr>\n",
       "      <th>13</th>\n",
       "      <td>7.200</td>\n",
       "      <td>10</td>\n",
       "      <td>Rent</td>\n",
       "      <td>55000.0</td>\n",
       "      <td>car</td>\n",
       "      <td>31.25</td>\n",
       "      <td>0</td>\n",
       "      <td>16</td>\n",
       "      <td>Male</td>\n",
       "      <td>2</td>\n",
       "      <td>3</td>\n",
       "    </tr>\n",
       "    <tr>\n",
       "      <th>14</th>\n",
       "      <td>7.200</td>\n",
       "      <td>10</td>\n",
       "      <td>Mortgage</td>\n",
       "      <td>55000.0</td>\n",
       "      <td>debt_consolidation</td>\n",
       "      <td>31.25</td>\n",
       "      <td>0</td>\n",
       "      <td>16</td>\n",
       "      <td>Male</td>\n",
       "      <td>2</td>\n",
       "      <td>2</td>\n",
       "    </tr>\n",
       "    <tr>\n",
       "      <th>15</th>\n",
       "      <td>7.200</td>\n",
       "      <td>10</td>\n",
       "      <td>Own</td>\n",
       "      <td>55000.0</td>\n",
       "      <td>credit_card</td>\n",
       "      <td>31.25</td>\n",
       "      <td>0</td>\n",
       "      <td>16</td>\n",
       "      <td>Male</td>\n",
       "      <td>2</td>\n",
       "      <td>2</td>\n",
       "    </tr>\n",
       "    <tr>\n",
       "      <th>16</th>\n",
       "      <td>7.200</td>\n",
       "      <td>10</td>\n",
       "      <td>Other</td>\n",
       "      <td>55000.0</td>\n",
       "      <td>home_improvement</td>\n",
       "      <td>31.25</td>\n",
       "      <td>0</td>\n",
       "      <td>16</td>\n",
       "      <td>Male</td>\n",
       "      <td>2</td>\n",
       "      <td>2</td>\n",
       "    </tr>\n",
       "    <tr>\n",
       "      <th>17</th>\n",
       "      <td>7.200</td>\n",
       "      <td>10</td>\n",
       "      <td>None</td>\n",
       "      <td>55000.0</td>\n",
       "      <td>major_purchase</td>\n",
       "      <td>31.25</td>\n",
       "      <td>0</td>\n",
       "      <td>16</td>\n",
       "      <td>Male</td>\n",
       "      <td>2</td>\n",
       "      <td>1</td>\n",
       "    </tr>\n",
       "    <tr>\n",
       "      <th>18</th>\n",
       "      <td>7.200</td>\n",
       "      <td>10</td>\n",
       "      <td>Rent</td>\n",
       "      <td>55000.0</td>\n",
       "      <td>other</td>\n",
       "      <td>31.25</td>\n",
       "      <td>0</td>\n",
       "      <td>16</td>\n",
       "      <td>Male</td>\n",
       "      <td>2</td>\n",
       "      <td>3</td>\n",
       "    </tr>\n",
       "    <tr>\n",
       "      <th>19</th>\n",
       "      <td>7.200</td>\n",
       "      <td>10</td>\n",
       "      <td>Mortgage</td>\n",
       "      <td>55000.0</td>\n",
       "      <td>medical</td>\n",
       "      <td>31.25</td>\n",
       "      <td>0</td>\n",
       "      <td>16</td>\n",
       "      <td>Male</td>\n",
       "      <td>2</td>\n",
       "      <td>3</td>\n",
       "    </tr>\n",
       "    <tr>\n",
       "      <th>20</th>\n",
       "      <td>7.200</td>\n",
       "      <td>10</td>\n",
       "      <td>Own</td>\n",
       "      <td>55000.0</td>\n",
       "      <td>small_business</td>\n",
       "      <td>31.25</td>\n",
       "      <td>0</td>\n",
       "      <td>16</td>\n",
       "      <td>Male</td>\n",
       "      <td>2</td>\n",
       "      <td>3</td>\n",
       "    </tr>\n",
       "    <tr>\n",
       "      <th>21</th>\n",
       "      <td>7.200</td>\n",
       "      <td>10</td>\n",
       "      <td>Other</td>\n",
       "      <td>55000.0</td>\n",
       "      <td>moving</td>\n",
       "      <td>31.25</td>\n",
       "      <td>0</td>\n",
       "      <td>16</td>\n",
       "      <td>Male</td>\n",
       "      <td>2</td>\n",
       "      <td>2</td>\n",
       "    </tr>\n",
       "    <tr>\n",
       "      <th>22</th>\n",
       "      <td>7.200</td>\n",
       "      <td>10</td>\n",
       "      <td>None</td>\n",
       "      <td>55000.0</td>\n",
       "      <td>wedding</td>\n",
       "      <td>31.25</td>\n",
       "      <td>0</td>\n",
       "      <td>16</td>\n",
       "      <td>Male</td>\n",
       "      <td>2</td>\n",
       "      <td>3</td>\n",
       "    </tr>\n",
       "    <tr>\n",
       "      <th>23</th>\n",
       "      <td>7.200</td>\n",
       "      <td>10</td>\n",
       "      <td>Rent</td>\n",
       "      <td>55000.0</td>\n",
       "      <td>vacation</td>\n",
       "      <td>31.25</td>\n",
       "      <td>0</td>\n",
       "      <td>16</td>\n",
       "      <td>Male</td>\n",
       "      <td>2</td>\n",
       "      <td>3</td>\n",
       "    </tr>\n",
       "    <tr>\n",
       "      <th>24</th>\n",
       "      <td>7.200</td>\n",
       "      <td>10</td>\n",
       "      <td>Mortgage</td>\n",
       "      <td>55000.0</td>\n",
       "      <td>house</td>\n",
       "      <td>31.25</td>\n",
       "      <td>0</td>\n",
       "      <td>16</td>\n",
       "      <td>Male</td>\n",
       "      <td>2</td>\n",
       "      <td>3</td>\n",
       "    </tr>\n",
       "    <tr>\n",
       "      <th>25</th>\n",
       "      <td>7.200</td>\n",
       "      <td>10</td>\n",
       "      <td>Own</td>\n",
       "      <td>55000.0</td>\n",
       "      <td>educational</td>\n",
       "      <td>31.25</td>\n",
       "      <td>0</td>\n",
       "      <td>16</td>\n",
       "      <td>Male</td>\n",
       "      <td>2</td>\n",
       "      <td>2</td>\n",
       "    </tr>\n",
       "    <tr>\n",
       "      <th>26</th>\n",
       "      <td>7.200</td>\n",
       "      <td>10</td>\n",
       "      <td>Other</td>\n",
       "      <td>55000.0</td>\n",
       "      <td>renewable_energy</td>\n",
       "      <td>31.25</td>\n",
       "      <td>0</td>\n",
       "      <td>16</td>\n",
       "      <td>Male</td>\n",
       "      <td>2</td>\n",
       "      <td>2</td>\n",
       "    </tr>\n",
       "  </tbody>\n",
       "</table>\n",
       "</div>"
      ],
      "text/plain": [
       "    Loan_Amount_Requested  Length_Employed Home_Owner  Annual_Income  \\\n",
       "0                   7.000                0       Rent        55000.0   \n",
       "1                  30.000                4   Mortgage        40000.0   \n",
       "2                  24.725                7   Mortgage        75566.4   \n",
       "3                  16.000                0   Mortgage        56160.0   \n",
       "4                  17.000                8        Own        96000.0   \n",
       "5                   4.500                2       Rent        30000.0   \n",
       "6                  18.075                4       Rent        85000.0   \n",
       "7                  15.000                0       Rent       115000.0   \n",
       "8                   6.300               10       Rent       125000.0   \n",
       "9                  30.000               10        Own       163000.0   \n",
       "10                 11.700               10   Mortgage        62000.0   \n",
       "11                 15.000               10       Rent        70000.0   \n",
       "12                  7.200               10       Rent        55000.0   \n",
       "13                  7.200               10       Rent        55000.0   \n",
       "14                  7.200               10   Mortgage        55000.0   \n",
       "15                  7.200               10        Own        55000.0   \n",
       "16                  7.200               10      Other        55000.0   \n",
       "17                  7.200               10       None        55000.0   \n",
       "18                  7.200               10       Rent        55000.0   \n",
       "19                  7.200               10   Mortgage        55000.0   \n",
       "20                  7.200               10        Own        55000.0   \n",
       "21                  7.200               10      Other        55000.0   \n",
       "22                  7.200               10       None        55000.0   \n",
       "23                  7.200               10       Rent        55000.0   \n",
       "24                  7.200               10   Mortgage        55000.0   \n",
       "25                  7.200               10        Own        55000.0   \n",
       "26                  7.200               10      Other        55000.0   \n",
       "\n",
       "       Purpose_Of_Loan  Debt_To_Income  Inquiries_Last_6Mo  Total_Accounts  \\\n",
       "0                  car           18.37                   0              14   \n",
       "1   debt_consolidation           14.93                   0              24   \n",
       "2   debt_consolidation           15.88                   0              16   \n",
       "3   debt_consolidation           14.34                   3              22   \n",
       "4   debt_consolidation           22.17                   1              30   \n",
       "5          credit_card           10.88                   1              15   \n",
       "6   debt_consolidation            5.65                   0              12   \n",
       "7   debt_consolidation            7.97                   1              31   \n",
       "8   debt_consolidation           16.12                   3               9   \n",
       "9   debt_consolidation           11.13                   0              43   \n",
       "10  debt_consolidation           30.91                   0              22   \n",
       "11         credit_card            8.95                   0              13   \n",
       "12  debt_consolidation           31.25                   0              16   \n",
       "13                 car           31.25                   0              16   \n",
       "14  debt_consolidation           31.25                   0              16   \n",
       "15         credit_card           31.25                   0              16   \n",
       "16    home_improvement           31.25                   0              16   \n",
       "17      major_purchase           31.25                   0              16   \n",
       "18               other           31.25                   0              16   \n",
       "19             medical           31.25                   0              16   \n",
       "20      small_business           31.25                   0              16   \n",
       "21              moving           31.25                   0              16   \n",
       "22             wedding           31.25                   0              16   \n",
       "23            vacation           31.25                   0              16   \n",
       "24               house           31.25                   0              16   \n",
       "25         educational           31.25                   0              16   \n",
       "26    renewable_energy           31.25                   0              16   \n",
       "\n",
       "    Gender  Interest_Rate  PREDICCIÓN  \n",
       "0   Female              1           2  \n",
       "1   Female              3           2  \n",
       "2     Male              3           2  \n",
       "3     Male              3           2  \n",
       "4   Female              1           2  \n",
       "5     Male              3           2  \n",
       "6     Male              3           3  \n",
       "7   Female              2           3  \n",
       "8   Female              3           3  \n",
       "9     Male              1           2  \n",
       "10    Male              2           2  \n",
       "11    Male              2           2  \n",
       "12    Male              2           3  \n",
       "13    Male              2           3  \n",
       "14    Male              2           2  \n",
       "15    Male              2           2  \n",
       "16    Male              2           2  \n",
       "17    Male              2           1  \n",
       "18    Male              2           3  \n",
       "19    Male              2           3  \n",
       "20    Male              2           3  \n",
       "21    Male              2           2  \n",
       "22    Male              2           3  \n",
       "23    Male              2           3  \n",
       "24    Male              2           3  \n",
       "25    Male              2           2  \n",
       "26    Male              2           2  "
      ]
     },
     "execution_count": 105,
     "metadata": {},
     "output_type": "execute_result"
    }
   ],
   "source": [
    "#Lectura datos a predecir\n",
    "df_pred = pd.read_excel('./info_prestamos - predecir.xlsx',sheets=\"info_prestamos - predecir\")\n",
    "df_pred = df_pred[df.columns] #Filtramos el dataframe predicción para quedarnos con las mismas columnas de interés que el df histórico\n",
    "#Transformación\n",
    "df_pred['Length_Employed'] = df_pred['Length_Employed'].str.replace('< 1 year','0 years') #Sustituimos <1 año por 0 para diferenciar de la categoría 1 año\n",
    "df_pred['Length_Employed'] = df_pred[\"Length_Employed\"].str.extract('(\\d+)') # Nos quedamos únicamente con los carácteres numéricos\n",
    "df_pred[\"Length_Employed\"] = df_pred[\"Length_Employed\"].apply(pd.to_numeric) # Convertimos la columna a formato número\n",
    "df_pred['Length_Employed'] = df_pred.apply(lambda x: completar_len_empl(x['Total_Accounts'], x['Length_Employed']), axis=1)\n",
    "#Añadimos columnas dummy - EN LOS DATOS DE ENTRADA DEBEN ESTAR TODAS LAS POSIBLES CATEGORÍAS PARA QUE SE CREEN EL MISMO NÚMERO DE COLUMNAS DUMMY Y SIRVA EL MODELO CREADO\n",
    "dummies_pred = pd.get_dummies(df_pred[['Home_Owner', 'Purpose_Of_Loan','Gender']]) #se puede añadir drop_first=True evita redundancia y evita crear una columna por cada variable\n",
    "df_post_pred = pd.concat([df_pred,dummies_pred],axis=1)\n",
    "df_post_pred = df_post_pred.drop(['Home_Owner', 'Purpose_Of_Loan','Gender'],axis=1) #Eliminamos las columnas originales\n",
    "X_pred = df_post_pred.drop('Interest_Rate',axis=1)\n",
    "X_pred = scaler.transform(X_pred)\n",
    "#Realizamos predicción\n",
    "resultado = model.predict_classes(X_pred)+1\n",
    "#Unimos en un dataframe los datos a predecir con su predicción\n",
    "df_pred['PREDICCIÓN']=pd.DataFrame(resultado)\n",
    "df_pred"
   ]
  },
  {
   "cell_type": "code",
   "execution_count": 78,
   "metadata": {},
   "outputs": [],
   "source": [
    "#Guardar y cargar el modelo para posterior uso\n",
    "from tensorflow.keras.models import load_model\n",
    "model.save('modelo_pred_prestamo.h5')"
   ]
  },
  {
   "cell_type": "markdown",
   "metadata": {},
   "source": [
    "# 9.Monitorización con Tensorboard"
   ]
  },
  {
   "cell_type": "code",
   "execution_count": 2,
   "metadata": {},
   "outputs": [],
   "source": [
    "#Más información: https://www.tensorflow.org/tensorboard/"
   ]
  },
  {
   "cell_type": "code",
   "execution_count": 106,
   "metadata": {},
   "outputs": [],
   "source": [
    "from tensorflow.keras.callbacks import TensorBoard"
   ]
  },
  {
   "cell_type": "code",
   "execution_count": 107,
   "metadata": {},
   "outputs": [],
   "source": [
    "# WINDOWS: Usar \"logs\\\\fit\"\n",
    "# MACOS/LINUX: Usar \"logs\\fit\"\n",
    "\n",
    "log_directory = 'logs\\\\fit'\n",
    "\n",
    "# OPCIONAL: Añadir TIMESTAMP para tener una carpeta única\n",
    "#from datetime import datetime\n",
    "#timestamp = datetime.now().strftime(\"%Y-%m-%d--%H%M\")\n",
    "#log_directory = log_directory + '\\\\' + timestamp\n",
    "\n",
    "\n",
    "board = TensorBoard(log_dir=log_directory,histogram_freq=1,\n",
    "    write_graph=True,\n",
    "    write_images=True,\n",
    "    update_freq='epoch',\n",
    "    profile_batch=2,\n",
    "    embeddings_freq=1)"
   ]
  },
  {
   "cell_type": "markdown",
   "metadata": {},
   "source": [
    "## 9.1 Entrenamiento del modelo"
   ]
  },
  {
   "cell_type": "code",
   "execution_count": 108,
   "metadata": {},
   "outputs": [],
   "source": [
    "model = Sequential()\n",
    "# Elegir número de capas (layers)\n",
    "# https://stats.stackexchange.com/questions/181/how-to-choose-the-number-of-hidden-layers-and-nodes-in-a-feedforward-neural-netw\n",
    "num_neuronas = X_train.shape[1]\n",
    "num_neuronas_salida = len(df[\"Interest_Rate\"].unique()) # Indicar tantas neuronas de salida como clases a predecir, en este caso 3 (variable \"Interest_Rate\")\n",
    "\n",
    "model.add(Dense(units=num_neuronas,activation='relu'))\n",
    "#model.add(Dropout(0.2)) #la mitad de las neuronas en cada epoch para esta capa. Solo algunas neuronas se actualizarán en cada epoch, permitiendo que solo se ajusten algunos pesos (w) y bias (b) en cada iteración de manera independiente\n",
    "\n",
    "model.add(Dense(units=np.round(num_neuronas/2),activation='relu'))\n",
    "#model.add(Dropout(0.2)) #la mitad de las neuronas en cada epoch para esta capa\n",
    "\n",
    "model.add(Dense(units=num_neuronas_salida,activation='softmax')) # softmax para multiclase - softmax activation distribuye la probabilidad sobre cada nodo de salida (clase)\n",
    "\n",
    "# Para clasificación binaria \"binary_crossentropy\"\n",
    "model.compile(loss='categorical_crossentropy', optimizer='adam',metrics=['categorical_accuracy'])"
   ]
  },
  {
   "cell_type": "code",
   "execution_count": 109,
   "metadata": {},
   "outputs": [
    {
     "name": "stdout",
     "output_type": "stream",
     "text": [
      "Epoch 1/200\n",
      "482/482 [==============================] - 1s 2ms/step - loss: 1.0234 - categorical_accuracy: 0.4569 - val_loss: 0.9618 - val_categorical_accuracy: 0.5199\n",
      "Epoch 2/200\n",
      "482/482 [==============================] - 1s 1ms/step - loss: 0.9597 - categorical_accuracy: 0.5188 - val_loss: 0.9586 - val_categorical_accuracy: 0.5220\n",
      "Epoch 3/200\n",
      "482/482 [==============================] - 0s 945us/step - loss: 0.9602 - categorical_accuracy: 0.5170 - val_loss: 0.9569 - val_categorical_accuracy: 0.5229\n",
      "Epoch 4/200\n",
      "482/482 [==============================] - 1s 1ms/step - loss: 0.9597 - categorical_accuracy: 0.5192 - val_loss: 0.9546 - val_categorical_accuracy: 0.5241\n",
      "Epoch 5/200\n",
      "482/482 [==============================] - 0s 942us/step - loss: 0.9598 - categorical_accuracy: 0.5173 - val_loss: 0.9539 - val_categorical_accuracy: 0.5227\n",
      "Epoch 6/200\n",
      "482/482 [==============================] - 0s 963us/step - loss: 0.9565 - categorical_accuracy: 0.5192 - val_loss: 0.9526 - val_categorical_accuracy: 0.5259\n",
      "Epoch 7/200\n",
      "482/482 [==============================] - 0s 994us/step - loss: 0.9550 - categorical_accuracy: 0.5232 - val_loss: 0.9522 - val_categorical_accuracy: 0.5238\n",
      "Epoch 8/200\n",
      "482/482 [==============================] - 1s 1ms/step - loss: 0.9535 - categorical_accuracy: 0.5224 - val_loss: 0.9528 - val_categorical_accuracy: 0.5247\n",
      "Epoch 9/200\n",
      "482/482 [==============================] - 1s 1ms/step - loss: 0.9545 - categorical_accuracy: 0.5226 - val_loss: 0.9496 - val_categorical_accuracy: 0.5260\n",
      "Epoch 10/200\n",
      "482/482 [==============================] - 1s 1ms/step - loss: 0.9517 - categorical_accuracy: 0.5251 - val_loss: 0.9505 - val_categorical_accuracy: 0.5260\n",
      "Epoch 11/200\n",
      "482/482 [==============================] - 1s 1ms/step - loss: 0.9523 - categorical_accuracy: 0.5243 - val_loss: 0.9491 - val_categorical_accuracy: 0.5267\n",
      "Epoch 12/200\n",
      "482/482 [==============================] - 1s 1ms/step - loss: 0.9494 - categorical_accuracy: 0.5261 - val_loss: 0.9482 - val_categorical_accuracy: 0.5265\n",
      "Epoch 13/200\n",
      "482/482 [==============================] - 1s 1ms/step - loss: 0.9514 - categorical_accuracy: 0.5227 - val_loss: 0.9484 - val_categorical_accuracy: 0.5262\n",
      "Epoch 14/200\n",
      "482/482 [==============================] - 1s 1ms/step - loss: 0.9490 - categorical_accuracy: 0.5251 - val_loss: 0.9506 - val_categorical_accuracy: 0.5260\n",
      "Epoch 15/200\n",
      "482/482 [==============================] - 1s 1ms/step - loss: 0.9497 - categorical_accuracy: 0.5259 - val_loss: 0.9481 - val_categorical_accuracy: 0.5269\n",
      "Epoch 16/200\n",
      "482/482 [==============================] - 0s 972us/step - loss: 0.9499 - categorical_accuracy: 0.5247 - val_loss: 0.9471 - val_categorical_accuracy: 0.5269\n",
      "Epoch 17/200\n",
      "482/482 [==============================] - 1s 1ms/step - loss: 0.9524 - categorical_accuracy: 0.5228 - val_loss: 0.9472 - val_categorical_accuracy: 0.5276\n",
      "Epoch 18/200\n",
      "482/482 [==============================] - 1s 1ms/step - loss: 0.9523 - categorical_accuracy: 0.5234 - val_loss: 0.9480 - val_categorical_accuracy: 0.5256\n",
      "Epoch 19/200\n",
      "482/482 [==============================] - 1s 1ms/step - loss: 0.9463 - categorical_accuracy: 0.5258 - val_loss: 0.9482 - val_categorical_accuracy: 0.5273\n",
      "Epoch 20/200\n",
      "482/482 [==============================] - 1s 1ms/step - loss: 0.9479 - categorical_accuracy: 0.5279 - val_loss: 0.9465 - val_categorical_accuracy: 0.5286\n",
      "Epoch 21/200\n",
      "482/482 [==============================] - 1s 1ms/step - loss: 0.9482 - categorical_accuracy: 0.5256 - val_loss: 0.9467 - val_categorical_accuracy: 0.5276\n",
      "Epoch 22/200\n",
      "482/482 [==============================] - 1s 1ms/step - loss: 0.9465 - categorical_accuracy: 0.5256 - val_loss: 0.9481 - val_categorical_accuracy: 0.5284\n",
      "Epoch 23/200\n",
      "482/482 [==============================] - 0s 984us/step - loss: 0.9497 - categorical_accuracy: 0.5261 - val_loss: 0.9470 - val_categorical_accuracy: 0.5276\n",
      "Epoch 24/200\n",
      "482/482 [==============================] - 1s 1ms/step - loss: 0.9474 - categorical_accuracy: 0.5253 - val_loss: 0.9468 - val_categorical_accuracy: 0.5275\n",
      "Epoch 25/200\n",
      "482/482 [==============================] - 1s 2ms/step - loss: 0.9478 - categorical_accuracy: 0.5252 - val_loss: 0.9497 - val_categorical_accuracy: 0.5251\n",
      "Epoch 26/200\n",
      "482/482 [==============================] - 1s 2ms/step - loss: 0.9475 - categorical_accuracy: 0.5267 - val_loss: 0.9487 - val_categorical_accuracy: 0.5278\n",
      "Epoch 27/200\n",
      "482/482 [==============================] - 1s 2ms/step - loss: 0.9477 - categorical_accuracy: 0.5269 - val_loss: 0.9475 - val_categorical_accuracy: 0.5260\n",
      "Epoch 28/200\n",
      "482/482 [==============================] - 1s 2ms/step - loss: 0.9476 - categorical_accuracy: 0.5257 - val_loss: 0.9464 - val_categorical_accuracy: 0.5290\n",
      "Epoch 29/200\n",
      "482/482 [==============================] - 1s 2ms/step - loss: 0.9472 - categorical_accuracy: 0.5263 - val_loss: 0.9465 - val_categorical_accuracy: 0.5279\n",
      "Epoch 30/200\n",
      "482/482 [==============================] - 1s 2ms/step - loss: 0.9474 - categorical_accuracy: 0.5277 - val_loss: 0.9495 - val_categorical_accuracy: 0.5266\n",
      "Epoch 31/200\n",
      "482/482 [==============================] - 1s 2ms/step - loss: 0.9484 - categorical_accuracy: 0.5271 - val_loss: 0.9460 - val_categorical_accuracy: 0.5283\n",
      "Epoch 32/200\n",
      "482/482 [==============================] - 1s 2ms/step - loss: 0.9457 - categorical_accuracy: 0.5264 - val_loss: 0.9459 - val_categorical_accuracy: 0.5289\n",
      "Epoch 33/200\n",
      "482/482 [==============================] - 1s 1ms/step - loss: 0.9484 - categorical_accuracy: 0.5265 - val_loss: 0.9458 - val_categorical_accuracy: 0.5284\n",
      "Epoch 34/200\n",
      "482/482 [==============================] - 1s 1ms/step - loss: 0.9470 - categorical_accuracy: 0.5273 - val_loss: 0.9466 - val_categorical_accuracy: 0.5276\n",
      "Epoch 35/200\n",
      "482/482 [==============================] - 1s 1ms/step - loss: 0.9484 - categorical_accuracy: 0.5260 - val_loss: 0.9458 - val_categorical_accuracy: 0.5292\n",
      "Epoch 36/200\n",
      "482/482 [==============================] - 1s 1ms/step - loss: 0.9450 - categorical_accuracy: 0.5276 - val_loss: 0.9462 - val_categorical_accuracy: 0.5274\n",
      "Epoch 37/200\n",
      "482/482 [==============================] - 1s 1ms/step - loss: 0.9457 - categorical_accuracy: 0.5267 - val_loss: 0.9458 - val_categorical_accuracy: 0.5289\n",
      "Epoch 38/200\n",
      "482/482 [==============================] - 1s 1ms/step - loss: 0.9479 - categorical_accuracy: 0.5256 - val_loss: 0.9468 - val_categorical_accuracy: 0.5274\n",
      "Epoch 39/200\n",
      "482/482 [==============================] - 1s 2ms/step - loss: 0.9459 - categorical_accuracy: 0.5273 - val_loss: 0.9467 - val_categorical_accuracy: 0.5267\n",
      "Epoch 40/200\n",
      "482/482 [==============================] - 1s 1ms/step - loss: 0.9437 - categorical_accuracy: 0.5293 - val_loss: 0.9452 - val_categorical_accuracy: 0.5294\n",
      "Epoch 41/200\n",
      "482/482 [==============================] - 1s 1ms/step - loss: 0.9486 - categorical_accuracy: 0.5250 - val_loss: 0.9450 - val_categorical_accuracy: 0.5297\n",
      "Epoch 42/200\n",
      "482/482 [==============================] - 1s 1ms/step - loss: 0.9470 - categorical_accuracy: 0.5276 - val_loss: 0.9466 - val_categorical_accuracy: 0.5283\n",
      "Epoch 43/200\n",
      "482/482 [==============================] - 1s 2ms/step - loss: 0.9473 - categorical_accuracy: 0.5269 - val_loss: 0.9455 - val_categorical_accuracy: 0.5286\n",
      "Epoch 44/200\n",
      "482/482 [==============================] - 1s 1ms/step - loss: 0.9466 - categorical_accuracy: 0.5276 - val_loss: 0.9454 - val_categorical_accuracy: 0.5286\n",
      "Epoch 45/200\n",
      "482/482 [==============================] - 1s 1ms/step - loss: 0.9473 - categorical_accuracy: 0.5274 - val_loss: 0.9459 - val_categorical_accuracy: 0.5296\n",
      "Epoch 46/200\n",
      "482/482 [==============================] - 1s 2ms/step - loss: 0.9472 - categorical_accuracy: 0.5263 - val_loss: 0.9454 - val_categorical_accuracy: 0.5278\n",
      "Epoch 47/200\n",
      "482/482 [==============================] - 1s 1ms/step - loss: 0.9458 - categorical_accuracy: 0.5280 - val_loss: 0.9459 - val_categorical_accuracy: 0.5284\n",
      "Epoch 48/200\n",
      "482/482 [==============================] - 1s 1ms/step - loss: 0.9484 - categorical_accuracy: 0.5249 - val_loss: 0.9450 - val_categorical_accuracy: 0.5296\n",
      "Epoch 49/200\n",
      "482/482 [==============================] - 1s 1ms/step - loss: 0.9475 - categorical_accuracy: 0.5262 - val_loss: 0.9448 - val_categorical_accuracy: 0.5297\n"
     ]
    },
    {
     "name": "stdout",
     "output_type": "stream",
     "text": [
      "Epoch 50/200\n",
      "482/482 [==============================] - 1s 2ms/step - loss: 0.9467 - categorical_accuracy: 0.5265 - val_loss: 0.9479 - val_categorical_accuracy: 0.5274\n",
      "Epoch 51/200\n",
      "482/482 [==============================] - 1s 1ms/step - loss: 0.9453 - categorical_accuracy: 0.5288 - val_loss: 0.9455 - val_categorical_accuracy: 0.5302\n",
      "Epoch 52/200\n",
      "482/482 [==============================] - 1s 1ms/step - loss: 0.9460 - categorical_accuracy: 0.5275 - val_loss: 0.9459 - val_categorical_accuracy: 0.5295\n",
      "Epoch 53/200\n",
      "482/482 [==============================] - 1s 1ms/step - loss: 0.9455 - categorical_accuracy: 0.5256 - val_loss: 0.9456 - val_categorical_accuracy: 0.5293\n",
      "Epoch 54/200\n",
      "482/482 [==============================] - 1s 1ms/step - loss: 0.9471 - categorical_accuracy: 0.5274 - val_loss: 0.9450 - val_categorical_accuracy: 0.5286\n",
      "Epoch 55/200\n",
      "482/482 [==============================] - 1s 1ms/step - loss: 0.9444 - categorical_accuracy: 0.5286 - val_loss: 0.9495 - val_categorical_accuracy: 0.5267\n",
      "Epoch 56/200\n",
      "482/482 [==============================] - 1s 1ms/step - loss: 0.9444 - categorical_accuracy: 0.5297 - val_loss: 0.9471 - val_categorical_accuracy: 0.5281\n",
      "Epoch 57/200\n",
      "482/482 [==============================] - 1s 1ms/step - loss: 0.9476 - categorical_accuracy: 0.5264 - val_loss: 0.9453 - val_categorical_accuracy: 0.5281\n",
      "Epoch 58/200\n",
      "482/482 [==============================] - 1s 1ms/step - loss: 0.9449 - categorical_accuracy: 0.5278 - val_loss: 0.9450 - val_categorical_accuracy: 0.5294\n",
      "Epoch 59/200\n",
      "482/482 [==============================] - 1s 1ms/step - loss: 0.9477 - categorical_accuracy: 0.5275 - val_loss: 0.9447 - val_categorical_accuracy: 0.5292\n",
      "Epoch 60/200\n",
      "482/482 [==============================] - 1s 1ms/step - loss: 0.9453 - categorical_accuracy: 0.5271 - val_loss: 0.9457 - val_categorical_accuracy: 0.5280\n",
      "Epoch 61/200\n",
      "482/482 [==============================] - 1s 1ms/step - loss: 0.9461 - categorical_accuracy: 0.5276 - val_loss: 0.9454 - val_categorical_accuracy: 0.5290\n",
      "Epoch 62/200\n",
      "482/482 [==============================] - 1s 1ms/step - loss: 0.9440 - categorical_accuracy: 0.5281 - val_loss: 0.9457 - val_categorical_accuracy: 0.5287\n",
      "Epoch 63/200\n",
      "482/482 [==============================] - 1s 1ms/step - loss: 0.9462 - categorical_accuracy: 0.5291 - val_loss: 0.9456 - val_categorical_accuracy: 0.5279\n"
     ]
    },
    {
     "ename": "UnknownError",
     "evalue": "Failed to rename: logs\\fit\\train\\checkpoint.tmpe4c86c28a1d64c9fb3837950284aaee5 to: logs\\fit\\train\\checkpoint : Acceso denegado.\r\n; Input/output error",
     "output_type": "error",
     "traceback": [
      "\u001b[1;31m---------------------------------------------------------------------------\u001b[0m",
      "\u001b[1;31mUnknownError\u001b[0m                              Traceback (most recent call last)",
      "\u001b[1;32m<ipython-input-109-8a2af6086b0e>\u001b[0m in \u001b[0;36m<module>\u001b[1;34m\u001b[0m\n\u001b[1;32m----> 1\u001b[1;33m model.fit(x=X_train, \n\u001b[0m\u001b[0;32m      2\u001b[0m           \u001b[0my\u001b[0m\u001b[1;33m=\u001b[0m\u001b[0my_train\u001b[0m\u001b[1;33m,\u001b[0m\u001b[1;33m\u001b[0m\u001b[1;33m\u001b[0m\u001b[0m\n\u001b[0;32m      3\u001b[0m           \u001b[0mepochs\u001b[0m\u001b[1;33m=\u001b[0m\u001b[1;36m200\u001b[0m\u001b[1;33m,\u001b[0m\u001b[1;33m\u001b[0m\u001b[1;33m\u001b[0m\u001b[0m\n\u001b[0;32m      4\u001b[0m           \u001b[0mbatch_size\u001b[0m\u001b[1;33m=\u001b[0m\u001b[1;36m256\u001b[0m\u001b[1;33m,\u001b[0m\u001b[1;33m\u001b[0m\u001b[1;33m\u001b[0m\u001b[0m\n\u001b[0;32m      5\u001b[0m           \u001b[0mvalidation_data\u001b[0m\u001b[1;33m=\u001b[0m\u001b[1;33m(\u001b[0m\u001b[0mX_test\u001b[0m\u001b[1;33m,\u001b[0m \u001b[0my_test\u001b[0m\u001b[1;33m)\u001b[0m\u001b[1;33m,\u001b[0m \u001b[0mverbose\u001b[0m\u001b[1;33m=\u001b[0m\u001b[1;36m1\u001b[0m\u001b[1;33m,\u001b[0m\u001b[1;33m\u001b[0m\u001b[1;33m\u001b[0m\u001b[0m\n",
      "\u001b[1;32m~\\Anaconda3\\lib\\site-packages\\tensorflow\\python\\keras\\engine\\training.py\u001b[0m in \u001b[0;36mfit\u001b[1;34m(self, x, y, batch_size, epochs, verbose, callbacks, validation_split, validation_data, shuffle, class_weight, sample_weight, initial_epoch, steps_per_epoch, validation_steps, validation_batch_size, validation_freq, max_queue_size, workers, use_multiprocessing)\u001b[0m\n\u001b[0;32m   1143\u001b[0m           \u001b[0mepoch_logs\u001b[0m\u001b[1;33m.\u001b[0m\u001b[0mupdate\u001b[0m\u001b[1;33m(\u001b[0m\u001b[0mval_logs\u001b[0m\u001b[1;33m)\u001b[0m\u001b[1;33m\u001b[0m\u001b[1;33m\u001b[0m\u001b[0m\n\u001b[0;32m   1144\u001b[0m \u001b[1;33m\u001b[0m\u001b[0m\n\u001b[1;32m-> 1145\u001b[1;33m         \u001b[0mcallbacks\u001b[0m\u001b[1;33m.\u001b[0m\u001b[0mon_epoch_end\u001b[0m\u001b[1;33m(\u001b[0m\u001b[0mepoch\u001b[0m\u001b[1;33m,\u001b[0m \u001b[0mepoch_logs\u001b[0m\u001b[1;33m)\u001b[0m\u001b[1;33m\u001b[0m\u001b[1;33m\u001b[0m\u001b[0m\n\u001b[0m\u001b[0;32m   1146\u001b[0m         \u001b[0mtraining_logs\u001b[0m \u001b[1;33m=\u001b[0m \u001b[0mepoch_logs\u001b[0m\u001b[1;33m\u001b[0m\u001b[1;33m\u001b[0m\u001b[0m\n\u001b[0;32m   1147\u001b[0m         \u001b[1;32mif\u001b[0m \u001b[0mself\u001b[0m\u001b[1;33m.\u001b[0m\u001b[0mstop_training\u001b[0m\u001b[1;33m:\u001b[0m\u001b[1;33m\u001b[0m\u001b[1;33m\u001b[0m\u001b[0m\n",
      "\u001b[1;32m~\\Anaconda3\\lib\\site-packages\\tensorflow\\python\\keras\\callbacks.py\u001b[0m in \u001b[0;36mon_epoch_end\u001b[1;34m(self, epoch, logs)\u001b[0m\n\u001b[0;32m    426\u001b[0m     \u001b[1;32mfor\u001b[0m \u001b[0mcallback\u001b[0m \u001b[1;32min\u001b[0m \u001b[0mself\u001b[0m\u001b[1;33m.\u001b[0m\u001b[0mcallbacks\u001b[0m\u001b[1;33m:\u001b[0m\u001b[1;33m\u001b[0m\u001b[1;33m\u001b[0m\u001b[0m\n\u001b[0;32m    427\u001b[0m       \u001b[1;32mif\u001b[0m \u001b[0mgetattr\u001b[0m\u001b[1;33m(\u001b[0m\u001b[0mcallback\u001b[0m\u001b[1;33m,\u001b[0m \u001b[1;34m'_supports_tf_logs'\u001b[0m\u001b[1;33m,\u001b[0m \u001b[1;32mFalse\u001b[0m\u001b[1;33m)\u001b[0m\u001b[1;33m:\u001b[0m\u001b[1;33m\u001b[0m\u001b[1;33m\u001b[0m\u001b[0m\n\u001b[1;32m--> 428\u001b[1;33m         \u001b[0mcallback\u001b[0m\u001b[1;33m.\u001b[0m\u001b[0mon_epoch_end\u001b[0m\u001b[1;33m(\u001b[0m\u001b[0mepoch\u001b[0m\u001b[1;33m,\u001b[0m \u001b[0mlogs\u001b[0m\u001b[1;33m)\u001b[0m\u001b[1;33m\u001b[0m\u001b[1;33m\u001b[0m\u001b[0m\n\u001b[0m\u001b[0;32m    429\u001b[0m       \u001b[1;32melse\u001b[0m\u001b[1;33m:\u001b[0m\u001b[1;33m\u001b[0m\u001b[1;33m\u001b[0m\u001b[0m\n\u001b[0;32m    430\u001b[0m         \u001b[1;32mif\u001b[0m \u001b[0mnumpy_logs\u001b[0m \u001b[1;32mis\u001b[0m \u001b[1;32mNone\u001b[0m\u001b[1;33m:\u001b[0m  \u001b[1;31m# Only convert once.\u001b[0m\u001b[1;33m\u001b[0m\u001b[1;33m\u001b[0m\u001b[0m\n",
      "\u001b[1;32m~\\Anaconda3\\lib\\site-packages\\tensorflow\\python\\keras\\callbacks.py\u001b[0m in \u001b[0;36mon_epoch_end\u001b[1;34m(self, epoch, logs)\u001b[0m\n\u001b[0;32m   2340\u001b[0m \u001b[1;33m\u001b[0m\u001b[0m\n\u001b[0;32m   2341\u001b[0m     \u001b[1;32mif\u001b[0m \u001b[0mself\u001b[0m\u001b[1;33m.\u001b[0m\u001b[0membeddings_freq\u001b[0m \u001b[1;32mand\u001b[0m \u001b[0mepoch\u001b[0m \u001b[1;33m%\u001b[0m \u001b[0mself\u001b[0m\u001b[1;33m.\u001b[0m\u001b[0membeddings_freq\u001b[0m \u001b[1;33m==\u001b[0m \u001b[1;36m0\u001b[0m\u001b[1;33m:\u001b[0m\u001b[1;33m\u001b[0m\u001b[1;33m\u001b[0m\u001b[0m\n\u001b[1;32m-> 2342\u001b[1;33m       \u001b[0mself\u001b[0m\u001b[1;33m.\u001b[0m\u001b[0m_log_embeddings\u001b[0m\u001b[1;33m(\u001b[0m\u001b[0mepoch\u001b[0m\u001b[1;33m)\u001b[0m\u001b[1;33m\u001b[0m\u001b[1;33m\u001b[0m\u001b[0m\n\u001b[0m\u001b[0;32m   2343\u001b[0m \u001b[1;33m\u001b[0m\u001b[0m\n\u001b[0;32m   2344\u001b[0m   \u001b[1;32mdef\u001b[0m \u001b[0m_start_trace\u001b[0m\u001b[1;33m(\u001b[0m\u001b[0mself\u001b[0m\u001b[1;33m)\u001b[0m\u001b[1;33m:\u001b[0m\u001b[1;33m\u001b[0m\u001b[1;33m\u001b[0m\u001b[0m\n",
      "\u001b[1;32m~\\Anaconda3\\lib\\site-packages\\tensorflow\\python\\keras\\callbacks.py\u001b[0m in \u001b[0;36m_log_embeddings\u001b[1;34m(self, epoch)\u001b[0m\n\u001b[0;32m   2428\u001b[0m     embeddings_ckpt = os.path.join(self._log_write_dir, 'train',\n\u001b[0;32m   2429\u001b[0m                                    'keras_embedding.ckpt-{}'.format(epoch))\n\u001b[1;32m-> 2430\u001b[1;33m     \u001b[0mself\u001b[0m\u001b[1;33m.\u001b[0m\u001b[0mmodel\u001b[0m\u001b[1;33m.\u001b[0m\u001b[0msave_weights\u001b[0m\u001b[1;33m(\u001b[0m\u001b[0membeddings_ckpt\u001b[0m\u001b[1;33m)\u001b[0m\u001b[1;33m\u001b[0m\u001b[1;33m\u001b[0m\u001b[0m\n\u001b[0m\u001b[0;32m   2431\u001b[0m \u001b[1;33m\u001b[0m\u001b[0m\n\u001b[0;32m   2432\u001b[0m \u001b[1;33m\u001b[0m\u001b[0m\n",
      "\u001b[1;32m~\\Anaconda3\\lib\\site-packages\\tensorflow\\python\\keras\\engine\\training.py\u001b[0m in \u001b[0;36msave_weights\u001b[1;34m(self, filepath, overwrite, save_format, options)\u001b[0m\n\u001b[0;32m   2124\u001b[0m       \u001b[0mself\u001b[0m\u001b[1;33m.\u001b[0m\u001b[0m_trackable_saver\u001b[0m\u001b[1;33m.\u001b[0m\u001b[0msave\u001b[0m\u001b[1;33m(\u001b[0m\u001b[0mfilepath\u001b[0m\u001b[1;33m,\u001b[0m \u001b[0msession\u001b[0m\u001b[1;33m=\u001b[0m\u001b[0msession\u001b[0m\u001b[1;33m,\u001b[0m \u001b[0moptions\u001b[0m\u001b[1;33m=\u001b[0m\u001b[0moptions\u001b[0m\u001b[1;33m)\u001b[0m\u001b[1;33m\u001b[0m\u001b[1;33m\u001b[0m\u001b[0m\n\u001b[0;32m   2125\u001b[0m       \u001b[1;31m# Record this checkpoint so it's visible from tf.train.latest_checkpoint.\u001b[0m\u001b[1;33m\u001b[0m\u001b[1;33m\u001b[0m\u001b[1;33m\u001b[0m\u001b[0m\n\u001b[1;32m-> 2126\u001b[1;33m       checkpoint_management.update_checkpoint_state_internal(\n\u001b[0m\u001b[0;32m   2127\u001b[0m           \u001b[0msave_dir\u001b[0m\u001b[1;33m=\u001b[0m\u001b[0mos\u001b[0m\u001b[1;33m.\u001b[0m\u001b[0mpath\u001b[0m\u001b[1;33m.\u001b[0m\u001b[0mdirname\u001b[0m\u001b[1;33m(\u001b[0m\u001b[0mfilepath\u001b[0m\u001b[1;33m)\u001b[0m\u001b[1;33m,\u001b[0m\u001b[1;33m\u001b[0m\u001b[1;33m\u001b[0m\u001b[0m\n\u001b[0;32m   2128\u001b[0m           \u001b[0mmodel_checkpoint_path\u001b[0m\u001b[1;33m=\u001b[0m\u001b[0mfilepath\u001b[0m\u001b[1;33m,\u001b[0m\u001b[1;33m\u001b[0m\u001b[1;33m\u001b[0m\u001b[0m\n",
      "\u001b[1;32m~\\Anaconda3\\lib\\site-packages\\tensorflow\\python\\training\\checkpoint_management.py\u001b[0m in \u001b[0;36mupdate_checkpoint_state_internal\u001b[1;34m(save_dir, model_checkpoint_path, all_model_checkpoint_paths, latest_filename, save_relative_paths, all_model_checkpoint_timestamps, last_preserved_timestamp)\u001b[0m\n\u001b[0;32m    245\u001b[0m   \u001b[1;31m# Preventing potential read/write race condition by *atomically* writing to a\u001b[0m\u001b[1;33m\u001b[0m\u001b[1;33m\u001b[0m\u001b[1;33m\u001b[0m\u001b[0m\n\u001b[0;32m    246\u001b[0m   \u001b[1;31m# file.\u001b[0m\u001b[1;33m\u001b[0m\u001b[1;33m\u001b[0m\u001b[1;33m\u001b[0m\u001b[0m\n\u001b[1;32m--> 247\u001b[1;33m   file_io.atomic_write_string_to_file(coord_checkpoint_filename,\n\u001b[0m\u001b[0;32m    248\u001b[0m                                       text_format.MessageToString(ckpt))\n\u001b[0;32m    249\u001b[0m \u001b[1;33m\u001b[0m\u001b[0m\n",
      "\u001b[1;32m~\\Anaconda3\\lib\\site-packages\\tensorflow\\python\\lib\\io\\file_io.py\u001b[0m in \u001b[0;36matomic_write_string_to_file\u001b[1;34m(filename, contents, overwrite)\u001b[0m\n\u001b[0;32m    571\u001b[0m     \u001b[0mwrite_string_to_file\u001b[0m\u001b[1;33m(\u001b[0m\u001b[0mtemp_pathname\u001b[0m\u001b[1;33m,\u001b[0m \u001b[0mcontents\u001b[0m\u001b[1;33m)\u001b[0m\u001b[1;33m\u001b[0m\u001b[1;33m\u001b[0m\u001b[0m\n\u001b[0;32m    572\u001b[0m     \u001b[1;32mtry\u001b[0m\u001b[1;33m:\u001b[0m\u001b[1;33m\u001b[0m\u001b[1;33m\u001b[0m\u001b[0m\n\u001b[1;32m--> 573\u001b[1;33m       \u001b[0mrename\u001b[0m\u001b[1;33m(\u001b[0m\u001b[0mtemp_pathname\u001b[0m\u001b[1;33m,\u001b[0m \u001b[0mfilename\u001b[0m\u001b[1;33m,\u001b[0m \u001b[0moverwrite\u001b[0m\u001b[1;33m)\u001b[0m\u001b[1;33m\u001b[0m\u001b[1;33m\u001b[0m\u001b[0m\n\u001b[0m\u001b[0;32m    574\u001b[0m     \u001b[1;32mexcept\u001b[0m \u001b[0merrors\u001b[0m\u001b[1;33m.\u001b[0m\u001b[0mOpError\u001b[0m\u001b[1;33m:\u001b[0m\u001b[1;33m\u001b[0m\u001b[1;33m\u001b[0m\u001b[0m\n\u001b[0;32m    575\u001b[0m       \u001b[0mdelete_file\u001b[0m\u001b[1;33m(\u001b[0m\u001b[0mtemp_pathname\u001b[0m\u001b[1;33m)\u001b[0m\u001b[1;33m\u001b[0m\u001b[1;33m\u001b[0m\u001b[0m\n",
      "\u001b[1;32m~\\Anaconda3\\lib\\site-packages\\tensorflow\\python\\lib\\io\\file_io.py\u001b[0m in \u001b[0;36mrename\u001b[1;34m(oldname, newname, overwrite)\u001b[0m\n\u001b[0;32m    530\u001b[0m     \u001b[0merrors\u001b[0m\u001b[1;33m.\u001b[0m\u001b[0mOpError\u001b[0m\u001b[1;33m:\u001b[0m \u001b[0mIf\u001b[0m \u001b[0mthe\u001b[0m \u001b[0moperation\u001b[0m \u001b[0mfails\u001b[0m\u001b[1;33m.\u001b[0m\u001b[1;33m\u001b[0m\u001b[1;33m\u001b[0m\u001b[0m\n\u001b[0;32m    531\u001b[0m   \"\"\"\n\u001b[1;32m--> 532\u001b[1;33m   \u001b[0mrename_v2\u001b[0m\u001b[1;33m(\u001b[0m\u001b[0moldname\u001b[0m\u001b[1;33m,\u001b[0m \u001b[0mnewname\u001b[0m\u001b[1;33m,\u001b[0m \u001b[0moverwrite\u001b[0m\u001b[1;33m)\u001b[0m\u001b[1;33m\u001b[0m\u001b[1;33m\u001b[0m\u001b[0m\n\u001b[0m\u001b[0;32m    533\u001b[0m \u001b[1;33m\u001b[0m\u001b[0m\n\u001b[0;32m    534\u001b[0m \u001b[1;33m\u001b[0m\u001b[0m\n",
      "\u001b[1;32m~\\Anaconda3\\lib\\site-packages\\tensorflow\\python\\lib\\io\\file_io.py\u001b[0m in \u001b[0;36mrename_v2\u001b[1;34m(src, dst, overwrite)\u001b[0m\n\u001b[0;32m    546\u001b[0m     \u001b[0merrors\u001b[0m\u001b[1;33m.\u001b[0m\u001b[0mOpError\u001b[0m\u001b[1;33m:\u001b[0m \u001b[0mIf\u001b[0m \u001b[0mthe\u001b[0m \u001b[0moperation\u001b[0m \u001b[0mfails\u001b[0m\u001b[1;33m.\u001b[0m\u001b[1;33m\u001b[0m\u001b[1;33m\u001b[0m\u001b[0m\n\u001b[0;32m    547\u001b[0m   \"\"\"\n\u001b[1;32m--> 548\u001b[1;33m   _pywrap_file_io.RenameFile(\n\u001b[0m\u001b[0;32m    549\u001b[0m       compat.path_to_bytes(src), compat.path_to_bytes(dst), overwrite)\n\u001b[0;32m    550\u001b[0m \u001b[1;33m\u001b[0m\u001b[0m\n",
      "\u001b[1;31mUnknownError\u001b[0m: Failed to rename: logs\\fit\\train\\checkpoint.tmpe4c86c28a1d64c9fb3837950284aaee5 to: logs\\fit\\train\\checkpoint : Acceso denegado.\r\n; Input/output error"
     ]
    }
   ],
   "source": [
    "model.fit(x=X_train, \n",
    "          y=y_train, \n",
    "          epochs=200,\n",
    "          batch_size=256,\n",
    "          validation_data=(X_test, y_test), verbose=1,\n",
    "          callbacks=[early_stop, board] #Añadimos el callback para monitorizar con tensorboard\n",
    "          )"
   ]
  },
  {
   "cell_type": "markdown",
   "metadata": {},
   "source": [
    "## 9.2 Ejecutar Tensorboard"
   ]
  },
  {
   "cell_type": "markdown",
   "metadata": {},
   "source": [
    "Tensorboard estará operativa localmente en http://localhost:6006/"
   ]
  },
  {
   "cell_type": "code",
   "execution_count": 94,
   "metadata": {},
   "outputs": [
    {
     "data": {
      "text/plain": [
       "'C:\\\\Users\\\\ivan_pinar\\\\Dropbox\\\\Creación de MOCs\\\\MOC Deep Learning\\\\Scripts\\\\ANN Clasificación Multiclase'"
      ]
     },
     "execution_count": 94,
     "metadata": {},
     "output_type": "execute_result"
    }
   ],
   "source": [
    "pwd"
   ]
  },
  {
   "cell_type": "code",
   "execution_count": null,
   "metadata": {},
   "outputs": [],
   "source": [
    "Abrir cmd y dirigirse con cd hasta la ruta del fichero py (pwd) después ejecutar en cmd: tensorboard --logdir logs\\fit "
   ]
  }
 ],
 "metadata": {
  "kernelspec": {
   "display_name": "Python 3 (ipykernel)",
   "language": "python",
   "name": "python3"
  },
  "language_info": {
   "codemirror_mode": {
    "name": "ipython",
    "version": 3
   },
   "file_extension": ".py",
   "mimetype": "text/x-python",
   "name": "python",
   "nbconvert_exporter": "python",
   "pygments_lexer": "ipython3",
   "version": "3.11.5"
  }
 },
 "nbformat": 4,
 "nbformat_minor": 2
}
