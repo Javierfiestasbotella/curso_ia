{
 "cells": [
  {
   "cell_type": "code",
   "execution_count": 2,
   "id": "3e46ebd2-b3ce-4263-9652-966fbd064173",
   "metadata": {},
   "outputs": [
    {
     "name": "stdout",
     "output_type": "stream",
     "text": [
      "Ventas: (9994, 8)\n",
      "Clientes: (793, 8)\n",
      "Productos: (1864, 5)\n"
     ]
    }
   ],
   "source": [
    "import pandas as pd\n",
    "\n",
    "# Usa la ruta con la carpeta\n",
    "df_ventas = pd.read_excel(\"CASO PRÁCTICO 1/ventas.xlsx\")\n",
    "df_clientes = pd.read_excel(\"CASO PRÁCTICO 1/clientes.xlsx\")\n",
    "df_productos = pd.read_excel(\"CASO PRÁCTICO 1/productos.xlsx\")\n",
    "\n",
    "print(\"Ventas:\", df_ventas.shape)\n",
    "print(\"Clientes:\", df_clientes.shape)\n",
    "print(\"Productos:\", df_productos.shape)\n"
   ]
  },
  {
   "cell_type": "code",
   "execution_count": 43,
   "id": "dc39f569-7279-4de4-bae7-ff8ae8208180",
   "metadata": {},
   "outputs": [
    {
     "data": {
      "text/html": [
       "<div>\n",
       "<style scoped>\n",
       "    .dataframe tbody tr th:only-of-type {\n",
       "        vertical-align: middle;\n",
       "    }\n",
       "\n",
       "    .dataframe tbody tr th {\n",
       "        vertical-align: top;\n",
       "    }\n",
       "\n",
       "    .dataframe thead th {\n",
       "        text-align: right;\n",
       "    }\n",
       "</style>\n",
       "<table border=\"1\" class=\"dataframe\">\n",
       "  <thead>\n",
       "    <tr style=\"text-align: right;\">\n",
       "      <th></th>\n",
       "      <th>ID Pedido</th>\n",
       "      <th>Fecha compra</th>\n",
       "      <th>Fecha envío</th>\n",
       "      <th>Modo envío</th>\n",
       "      <th>ID Cliente</th>\n",
       "      <th>ID Producto</th>\n",
       "      <th>Precio unitario</th>\n",
       "      <th>Cantidad</th>\n",
       "      <th>Importe total</th>\n",
       "    </tr>\n",
       "  </thead>\n",
       "  <tbody>\n",
       "    <tr>\n",
       "      <th>0</th>\n",
       "      <td>CA-2016-152156</td>\n",
       "      <td>2020-11-08</td>\n",
       "      <td>2020-11-11 05:00:00</td>\n",
       "      <td>Second Class</td>\n",
       "      <td>CG-12520</td>\n",
       "      <td>FUR-BO-10001798</td>\n",
       "      <td>261.9600</td>\n",
       "      <td>2</td>\n",
       "      <td>523.9200</td>\n",
       "    </tr>\n",
       "    <tr>\n",
       "      <th>1</th>\n",
       "      <td>CA-2016-152156</td>\n",
       "      <td>2020-11-08</td>\n",
       "      <td>2020-11-11 00:00:00</td>\n",
       "      <td>Second Class</td>\n",
       "      <td>CG-12520</td>\n",
       "      <td>FUR-CH-10000454</td>\n",
       "      <td>731.9400</td>\n",
       "      <td>3</td>\n",
       "      <td>2195.8200</td>\n",
       "    </tr>\n",
       "    <tr>\n",
       "      <th>2</th>\n",
       "      <td>CA-2016-138688</td>\n",
       "      <td>2020-06-12</td>\n",
       "      <td>2020-06-16 00:00:00</td>\n",
       "      <td>Second Class</td>\n",
       "      <td>DV-13045</td>\n",
       "      <td>OFF-LA-10000240</td>\n",
       "      <td>14.6200</td>\n",
       "      <td>2</td>\n",
       "      <td>29.2400</td>\n",
       "    </tr>\n",
       "    <tr>\n",
       "      <th>3</th>\n",
       "      <td>US-2015-108966</td>\n",
       "      <td>2019-10-11</td>\n",
       "      <td>2019-10-15 00:00:00</td>\n",
       "      <td>Standard Class</td>\n",
       "      <td>SO-20335</td>\n",
       "      <td>FUR-TA-10000577</td>\n",
       "      <td>957.5775</td>\n",
       "      <td>5</td>\n",
       "      <td>4787.8875</td>\n",
       "    </tr>\n",
       "    <tr>\n",
       "      <th>4</th>\n",
       "      <td>US-2015-108966</td>\n",
       "      <td>2019-10-11</td>\n",
       "      <td>2019-10-18 00:00:00</td>\n",
       "      <td>Standard Class</td>\n",
       "      <td>SO-20335</td>\n",
       "      <td>OFF-ST-10000760</td>\n",
       "      <td>22.3680</td>\n",
       "      <td>2</td>\n",
       "      <td>44.7360</td>\n",
       "    </tr>\n",
       "    <tr>\n",
       "      <th>...</th>\n",
       "      <td>...</td>\n",
       "      <td>...</td>\n",
       "      <td>...</td>\n",
       "      <td>...</td>\n",
       "      <td>...</td>\n",
       "      <td>...</td>\n",
       "      <td>...</td>\n",
       "      <td>...</td>\n",
       "      <td>...</td>\n",
       "    </tr>\n",
       "    <tr>\n",
       "      <th>9989</th>\n",
       "      <td>CA-2014-110422</td>\n",
       "      <td>2018-01-21</td>\n",
       "      <td>2018-01-23 00:00:00</td>\n",
       "      <td>Second Class</td>\n",
       "      <td>TB-21400</td>\n",
       "      <td>FUR-FU-10001889</td>\n",
       "      <td>25.2480</td>\n",
       "      <td>3</td>\n",
       "      <td>75.7440</td>\n",
       "    </tr>\n",
       "    <tr>\n",
       "      <th>9990</th>\n",
       "      <td>CA-2017-121258</td>\n",
       "      <td>2021-02-26</td>\n",
       "      <td>2021-03-03 00:00:00</td>\n",
       "      <td>Standard Class</td>\n",
       "      <td>DB-13060</td>\n",
       "      <td>FUR-FU-10000747</td>\n",
       "      <td>91.9600</td>\n",
       "      <td>2</td>\n",
       "      <td>183.9200</td>\n",
       "    </tr>\n",
       "    <tr>\n",
       "      <th>9991</th>\n",
       "      <td>CA-2017-121258</td>\n",
       "      <td>2021-02-26</td>\n",
       "      <td>2021-03-03 00:00:00</td>\n",
       "      <td>Standard Class</td>\n",
       "      <td>DB-13060</td>\n",
       "      <td>TEC-PH-10003645</td>\n",
       "      <td>258.5760</td>\n",
       "      <td>2</td>\n",
       "      <td>517.1520</td>\n",
       "    </tr>\n",
       "    <tr>\n",
       "      <th>9992</th>\n",
       "      <td>CA-2017-121258</td>\n",
       "      <td>2021-02-26</td>\n",
       "      <td>2021-03-03 00:00:00</td>\n",
       "      <td>Standard Class</td>\n",
       "      <td>DB-13060</td>\n",
       "      <td>OFF-PA-10004041</td>\n",
       "      <td>29.6000</td>\n",
       "      <td>4</td>\n",
       "      <td>118.4000</td>\n",
       "    </tr>\n",
       "    <tr>\n",
       "      <th>9993</th>\n",
       "      <td>CA-2017-119914</td>\n",
       "      <td>2021-05-04</td>\n",
       "      <td>2021-05-09 00:00:00</td>\n",
       "      <td>Second Class</td>\n",
       "      <td>CC-12220</td>\n",
       "      <td>OFF-AP-10002684</td>\n",
       "      <td>243.1600</td>\n",
       "      <td>2</td>\n",
       "      <td>486.3200</td>\n",
       "    </tr>\n",
       "  </tbody>\n",
       "</table>\n",
       "<p>9961 rows × 9 columns</p>\n",
       "</div>"
      ],
      "text/plain": [
       "           ID Pedido Fecha compra         Fecha envío      Modo envío  \\\n",
       "0     CA-2016-152156   2020-11-08 2020-11-11 05:00:00    Second Class   \n",
       "1     CA-2016-152156   2020-11-08 2020-11-11 00:00:00    Second Class   \n",
       "2     CA-2016-138688   2020-06-12 2020-06-16 00:00:00    Second Class   \n",
       "3     US-2015-108966   2019-10-11 2019-10-15 00:00:00  Standard Class   \n",
       "4     US-2015-108966   2019-10-11 2019-10-18 00:00:00  Standard Class   \n",
       "...              ...          ...                 ...             ...   \n",
       "9989  CA-2014-110422   2018-01-21 2018-01-23 00:00:00    Second Class   \n",
       "9990  CA-2017-121258   2021-02-26 2021-03-03 00:00:00  Standard Class   \n",
       "9991  CA-2017-121258   2021-02-26 2021-03-03 00:00:00  Standard Class   \n",
       "9992  CA-2017-121258   2021-02-26 2021-03-03 00:00:00  Standard Class   \n",
       "9993  CA-2017-119914   2021-05-04 2021-05-09 00:00:00    Second Class   \n",
       "\n",
       "     ID Cliente      ID Producto  Precio unitario  Cantidad  Importe total  \n",
       "0      CG-12520  FUR-BO-10001798         261.9600         2       523.9200  \n",
       "1      CG-12520  FUR-CH-10000454         731.9400         3      2195.8200  \n",
       "2      DV-13045  OFF-LA-10000240          14.6200         2        29.2400  \n",
       "3      SO-20335  FUR-TA-10000577         957.5775         5      4787.8875  \n",
       "4      SO-20335  OFF-ST-10000760          22.3680         2        44.7360  \n",
       "...         ...              ...              ...       ...            ...  \n",
       "9989   TB-21400  FUR-FU-10001889          25.2480         3        75.7440  \n",
       "9990   DB-13060  FUR-FU-10000747          91.9600         2       183.9200  \n",
       "9991   DB-13060  TEC-PH-10003645         258.5760         2       517.1520  \n",
       "9992   DB-13060  OFF-PA-10004041          29.6000         4       118.4000  \n",
       "9993   CC-12220  OFF-AP-10002684         243.1600         2       486.3200  \n",
       "\n",
       "[9961 rows x 9 columns]"
      ]
     },
     "execution_count": 43,
     "metadata": {},
     "output_type": "execute_result"
    }
   ],
   "source": [
    "df_ventas\n"
   ]
  },
  {
   "cell_type": "code",
   "execution_count": 41,
   "id": "ca9a5420-2ee5-46ae-ba66-8589ddf1f8b1",
   "metadata": {},
   "outputs": [
    {
     "name": "stdout",
     "output_type": "stream",
     "text": [
      "['KC-16540' 'JD-15895' 'KH-16510' 'JS-15880' 'DJ-13630' 'JH-16180'\n",
      " 'MY-17380' 'GG-14650' 'NS-18505' 'SV-20935' 'SD-20485' 'MS-17365'\n",
      " 'KC-16675' 'EG-13900' 'PO-18850' 'JM-15535' 'SG-20470' 'DP-13105'\n",
      " 'VP-21760' 'AB-10105' 'BD-11500' 'CB-12535' 'ML-17395' 'JH-15985'\n",
      " 'TW-21025' 'NC-18535' 'LL-16840']\n"
     ]
    }
   ],
   "source": [
    "#df_ventas['ID Cliente'] if df_ventas['Cantidad']>=4\n",
    "clientes_4 = df_ventas.loc[df_ventas[\"Cantidad\"] >12, \"ID Cliente\"].unique()\n",
    "print(clientes_4)\n"
   ]
  },
  {
   "cell_type": "markdown",
   "id": "d0d579e6-3a3f-44f1-b2f5-825c25189e20",
   "metadata": {},
   "source": [
    "# Importar los datos de Worldometers (PIB, población y renta per cápita)."
   ]
  },
  {
   "cell_type": "code",
   "execution_count": 3,
   "id": "fd09ffc3-7643-4799-a3c0-5216ee684867",
   "metadata": {},
   "outputs": [
    {
     "name": "stdout",
     "output_type": "stream",
     "text": [
      "   #        Country  GDP (nominal, 2023)    GDP (abbrev.) GDP Growth  \\\n",
      "0  1  United States  $27,720,700,000,000  27.721 trillion      2.89%   \n",
      "1  2          China  $17,794,800,000,000  17.795 trillion      5.25%   \n",
      "2  3        Germany   $4,525,700,000,000   4.526 trillion     −0.27%   \n",
      "3  4          Japan   $4,204,490,000,000   4.204 trillion      1.68%   \n",
      "4  5          India   $3,567,550,000,000   3.568 trillion      8.15%   \n",
      "\n",
      "   Population 2023 GDP per capita Share of World GDP  \n",
      "0        343477335        $80,706             26.11%  \n",
      "1       1422584933        $12,509             16.76%  \n",
      "2         84548231        $53,528              4.26%  \n",
      "3        124370947        $33,806              3.96%  \n",
      "4       1438069596         $2,481              3.36%  \n",
      "Index(['#', 'Country', 'GDP (nominal, 2023)', 'GDP (abbrev.)', 'GDP Growth',\n",
      "       'Population 2023', 'GDP per capita', 'Share of World GDP'],\n",
      "      dtype='object')\n"
     ]
    }
   ],
   "source": [
    "import pandas as pd\n",
    "\n",
    "# URL de Worldometers\n",
    "url = \"https://www.worldometers.info/gdp/gdp-by-country/\"\n",
    "\n",
    "# Leemos todas las tablas de la página\n",
    "tablas = pd.read_html(url)\n",
    "\n",
    "# Normalmente la primera tabla es la que nos interesa\n",
    "df_world = tablas[0]\n",
    "\n",
    "# Mostramos primeras filas y nombres de columnas para entenderla\n",
    "print(df_world.head())\n",
    "print(df_world.columns)\n"
   ]
  },
  {
   "cell_type": "markdown",
   "id": "bce9df63-8429-4c81-8887-9249a5889cbe",
   "metadata": {},
   "source": [
    "# Separar la tabla de Worldometers en 3 dataframes\n",
    "\n",
    "📌 Objetivo:\n",
    "De la tabla df_world que hemos descargado, necesitamos crear:\n",
    "\n",
    "df_pib → columnas País y PIB.\n",
    "\n",
    "df_pob → columnas País y Población.\n",
    "\n",
    "df_rpc → columnas País y Renta per cápita."
   ]
  },
  {
   "cell_type": "code",
   "execution_count": 8,
   "id": "6f717d9c-136c-4ebc-b5b5-38d334b14af3",
   "metadata": {},
   "outputs": [
    {
     "name": "stdout",
     "output_type": "stream",
     "text": [
      "PIB: (181, 2)\n",
      "Población: (181, 2)\n",
      "Renta per cápita: (181, 2)\n",
      "\n",
      "Ejemplo df_pib:\n",
      "             País                  PIB\n",
      "0  United States  $27,720,700,000,000\n",
      "1          China  $17,794,800,000,000\n",
      "2        Germany   $4,525,700,000,000\n",
      "3          Japan   $4,204,490,000,000\n",
      "4          India   $3,567,550,000,000\n",
      "\n",
      "Ejemplo df_pob:\n",
      "             País   Población\n",
      "0  United States   343477335\n",
      "1          China  1422584933\n",
      "2        Germany    84548231\n",
      "3          Japan   124370947\n",
      "4          India  1438069596\n",
      "\n",
      "Ejemplo df_rpc:\n",
      "             País Renta per cápita\n",
      "0  United States          $80,706\n",
      "1          China          $12,509\n",
      "2        Germany          $53,528\n",
      "3          Japan          $33,806\n",
      "4          India           $2,481\n"
     ]
    }
   ],
   "source": [
    "# --- Título: Crear df_pib, df_pob y df_rpc a partir de las columnas reales ---\n",
    "\n",
    "df_pib = df_world[[\"País\", \"PIB\"]].copy()\n",
    "df_pob = df_world[[\"País\", \"Population 2023\"]].rename(columns={\"Population 2023\": \"Población\"})\n",
    "df_rpc = df_world[[\"País\", \"Renta per cápita\"]].copy()\n",
    "\n",
    "print(\"PIB:\", df_pib.shape)\n",
    "print(\"Población:\", df_pob.shape)\n",
    "print(\"Renta per cápita:\", df_rpc.shape)\n",
    "\n",
    "print(\"\\nEjemplo df_pib:\\n\", df_pib.head())\n",
    "print(\"\\nEjemplo df_pob:\\n\", df_pob.head())\n",
    "print(\"\\nEjemplo df_rpc:\\n\", df_rpc.head())\n",
    "\n"
   ]
  },
  {
   "cell_type": "markdown",
   "id": "c9a79077-2979-469f-8945-1e56889df5ef",
   "metadata": {},
   "source": [
    "¿Existen valores NaN en nuestras fuentes?\n",
    "\n",
    "📌 Objetivo:\n",
    "Ver si en cada dataframe (df_ventas, df_clientes, df_productos, df_pib, df_pob, df_rpc) hay valores faltantes (NaN)."
   ]
  },
  {
   "cell_type": "code",
   "execution_count": 9,
   "id": "90abcf82-ed60-4023-a3ea-0940df782513",
   "metadata": {},
   "outputs": [
    {
     "name": "stdout",
     "output_type": "stream",
     "text": [
      "\n",
      "### Ventas ###\n",
      "ID Pedido          0\n",
      "Fecha compra       3\n",
      "Fecha envío        6\n",
      "Modo envío         0\n",
      "ID Cliente         0\n",
      "ID Producto        0\n",
      "Precio unitario    0\n",
      "Cantidad           0\n",
      "dtype: int64\n",
      "\n",
      "### Clientes ###\n",
      "ID Cliente          0\n",
      "Nombre cliente      0\n",
      "Segmento            0\n",
      "País                0\n",
      "Ciudad            455\n",
      "Estado            455\n",
      "Código Postal     455\n",
      "Región            455\n",
      "dtype: int64\n",
      "\n",
      "### Productos ###\n",
      "ID Producto         0\n",
      "Categoría           0\n",
      "Sub-categoría       0\n",
      "Nombre Producto     1\n",
      "Coste Producción    2\n",
      "dtype: int64\n",
      "\n",
      "### PIB ###\n",
      "País    0\n",
      "PIB     0\n",
      "dtype: int64\n",
      "\n",
      "### Población ###\n",
      "País         0\n",
      "Población    0\n",
      "dtype: int64\n",
      "\n",
      "### Renta per cápita ###\n",
      "País                0\n",
      "Renta per cápita    0\n",
      "dtype: int64\n"
     ]
    }
   ],
   "source": [
    "# --- Título: Comprobar valores NaN en los 6 dataframes ---\n",
    "\n",
    "dataframes = {\n",
    "    \"Ventas\": df_ventas,\n",
    "    \"Clientes\": df_clientes,\n",
    "    \"Productos\": df_productos,\n",
    "    \"PIB\": df_pib,\n",
    "    \"Población\": df_pob,\n",
    "    \"Renta per cápita\": df_rpc\n",
    "}\n",
    "\n",
    "for nombre, df in dataframes.items():\n",
    "    print(f\"\\n### {nombre} ###\")\n",
    "    print(df.isna().sum())  # cuenta NaN por columna\n"
   ]
  },
  {
   "cell_type": "markdown",
   "id": "54c75c2d-c3ec-42fe-97f3-d168ea53250f",
   "metadata": {},
   "source": [
    "“Realizar la limpieza de aquellos registros inconsistentes: en la empresa se considera inconsistente un registro si no existe una fecha de compra (está vacía).”\n",
    "\n",
    "Es decir: solo nos interesa limpiar df_ventas eliminando los registros donde la columna Fecha compra es NaN."
   ]
  },
  {
   "cell_type": "code",
   "execution_count": 10,
   "id": "9ef58c3a-36ef-45b2-a028-1507a25df39d",
   "metadata": {},
   "outputs": [
    {
     "name": "stdout",
     "output_type": "stream",
     "text": [
      "Registros eliminados de df_ventas por Fecha compra vacía: 3\n",
      "Nueva dimensión de df_ventas: (9991, 8)\n"
     ]
    }
   ],
   "source": [
    "# --- Título: Eliminar registros inconsistentes en df_ventas (sin Fecha compra) ---\n",
    "\n",
    "antes = df_ventas.shape[0]\n",
    "\n",
    "# Eliminamos los registros donde Fecha compra es NaN\n",
    "df_ventas = df_ventas[df_ventas[\"Fecha compra\"].notna()].copy()\n",
    "\n",
    "despues = df_ventas.shape[0]\n",
    "eliminados = antes - despues\n",
    "\n",
    "print(f\"Registros eliminados de df_ventas por Fecha compra vacía: {eliminados}\")\n",
    "print(f\"Nueva dimensión de df_ventas: {df_ventas.shape}\")\n"
   ]
  },
  {
   "cell_type": "markdown",
   "id": "4c1ca76f-7785-4a0e-a050-18c98d13d744",
   "metadata": {},
   "source": [
    "¿Existen registros duplicados en nuestros datos?\n",
    "Si los hay, hay que limpiarlos."
   ]
  },
  {
   "cell_type": "code",
   "execution_count": 11,
   "id": "bf4cb5fd-1767-4fb9-9099-9efdc6929384",
   "metadata": {},
   "outputs": [
    {
     "name": "stdout",
     "output_type": "stream",
     "text": [
      "Duplicados en df_ventas: 1\n",
      "Duplicados en df_clientes: 0\n",
      "Duplicados en df_productos: 1\n"
     ]
    }
   ],
   "source": [
    "# --- Título: Detectar y eliminar duplicados ---\n",
    "\n",
    "# Ventas\n",
    "dups_ventas = df_ventas.duplicated().sum()\n",
    "print(\"Duplicados en df_ventas:\", dups_ventas)\n",
    "\n",
    "# Clientes\n",
    "dups_clientes = df_clientes.duplicated().sum()\n",
    "print(\"Duplicados en df_clientes:\", dups_clientes)\n",
    "\n",
    "# Productos\n",
    "dups_productos = df_productos.duplicated().sum()\n",
    "print(\"Duplicados en df_productos:\", dups_productos)\n",
    "\n",
    "# Eliminamos duplicados si existen\n",
    "df_ventas = df_ventas.drop_duplicates().copy()\n",
    "df_clientes = df_clientes.drop_duplicates().copy()\n",
    "df_productos = df_productos.drop_duplicates().copy()\n"
   ]
  },
  {
   "cell_type": "markdown",
   "id": "39f2825b-57a6-4b7b-b7d3-7a54ac5e0738",
   "metadata": {},
   "source": [
    "“Varios campos de nuestros dataframes contienen datos numéricos, pero en algunos casos pueden estar como strings (con ‘,’, espacios o símbolos como ‘$’).\n",
    "Transforma las columnas implicadas para que puedan ser numéricas. ¿Qué campos has tenido que modificar?”"
   ]
  },
  {
   "cell_type": "code",
   "execution_count": 12,
   "id": "246e7090-9fe2-4a04-8d8a-06a96355633e",
   "metadata": {},
   "outputs": [
    {
     "name": "stdout",
     "output_type": "stream",
     "text": [
      "Tipos en df_ventas:\n",
      " ID Pedido                  object\n",
      "Fecha compra       datetime64[ns]\n",
      "Fecha envío        datetime64[ns]\n",
      "Modo envío                 object\n",
      "ID Cliente                 object\n",
      "ID Producto                object\n",
      "Precio unitario           float64\n",
      "Cantidad                    int64\n",
      "dtype: object\n",
      "Tipos en df_productos:\n",
      " ID Producto          object\n",
      "Categoría            object\n",
      "Sub-categoría        object\n",
      "Nombre Producto      object\n",
      "Coste Producción    float64\n",
      "dtype: object\n"
     ]
    }
   ],
   "source": [
    "# --- Título: Convertir columnas numéricas mal tipadas en los 3 dataframes ---\n",
    "\n",
    "import pandas as pd\n",
    "\n",
    "def limpiar_a_numero(col):\n",
    "    \"\"\"Limpia una serie y la convierte a numérico\"\"\"\n",
    "    return (col.astype(str)\n",
    "                .str.replace(\"$\", \"\", regex=False)\n",
    "                .str.replace(\"€\", \"\", regex=False)\n",
    "                .str.replace(\",\", \".\", regex=False)  # cambia coma por punto decimal\n",
    "                .str.replace(\" \", \"\", regex=False)   # quita espacios\n",
    "                .pipe(pd.to_numeric, errors=\"coerce\"))\n",
    "\n",
    "# Revisamos df_ventas\n",
    "for c in [\"Precio unitario\", \"Cantidad\"]:\n",
    "    if c in df_ventas.columns:\n",
    "        df_ventas[c] = limpiar_a_numero(df_ventas[c])\n",
    "\n",
    "# Revisamos df_productos\n",
    "for c in [\"Coste Producción\"]:\n",
    "    if c in df_productos.columns:\n",
    "        df_productos[c] = limpiar_a_numero(df_productos[c])\n",
    "\n",
    "# Si hubiera campos similares en clientes, podríamos revisarlos también\n",
    "print(\"Tipos en df_ventas:\\n\", df_ventas.dtypes)\n",
    "print(\"Tipos en df_productos:\\n\", df_productos.dtypes)\n"
   ]
  },
  {
   "cell_type": "markdown",
   "id": "18c498d4-c09e-48a2-afa8-8da199270b57",
   "metadata": {},
   "source": [
    "“Es el momento de analizar nuestros datos desde el punto de vista estadístico.\n",
    "Visualice los diferentes dataframes para obtener los principales datos estadísticos (describe).\n",
    "¿Cuál es la mediana del valor de nuestras ventas?”"
   ]
  },
  {
   "cell_type": "code",
   "execution_count": 14,
   "id": "e623f780-eed3-4531-b90f-3a76b3346703",
   "metadata": {},
   "outputs": [
    {
     "name": "stdout",
     "output_type": "stream",
     "text": [
      "       Precio unitario     Cantidad  Importe total\n",
      "count      9990.000000  9990.000000    9990.000000\n",
      "mean        229.834970     3.843544    1173.072101\n",
      "std         623.352233     2.660570    4023.827740\n",
      "min           0.000000     1.000000       0.000000\n",
      "25%          17.248000     2.000000      48.622500\n",
      "50%          54.384000     3.000000     183.504000\n",
      "75%         209.937500     5.000000     765.310875\n",
      "max       22638.480000    40.000000  135830.880000\n",
      "\n",
      "La mediana del valor de nuestras ventas es: 183.50400000000002\n"
     ]
    }
   ],
   "source": [
    "# --- Título: Estadísticos y mediana del valor de las ventas ---\n",
    "\n",
    "# Crear columna \"Importe total\" si no existe\n",
    "if \"Importe total\" not in df_ventas.columns:\n",
    "    df_ventas[\"Importe total\"] = df_ventas[\"Precio unitario\"] * df_ventas[\"Cantidad\"]\n",
    "\n",
    "# Estadísticos SOLO de columnas numéricas\n",
    "num_cols = df_ventas.select_dtypes(include=[\"int64\", \"float64\"]).columns\n",
    "print(df_ventas[num_cols].describe())\n",
    "\n",
    "# Mediana del importe total\n",
    "mediana_importe = df_ventas[\"Importe total\"].median()\n",
    "print(\"\\nLa mediana del valor de nuestras ventas es:\", mediana_importe)\n",
    "\n"
   ]
  },
  {
   "cell_type": "markdown",
   "id": "396c2a65-0313-451b-8e6a-4e030fa4d3e4",
   "metadata": {},
   "source": [
    "“¿Qué cantidad de unidades de productos no se superan en el 75 % de los pedidos de sus clientes?”\n",
    "\n",
    "Esto equivale a calcular el percentil 75 (Q3) de la columna Cantidad en df_ventas."
   ]
  },
  {
   "cell_type": "code",
   "execution_count": 15,
   "id": "af38e085-2a36-4ad8-8195-73b8021c28b8",
   "metadata": {},
   "outputs": [
    {
     "name": "stdout",
     "output_type": "stream",
     "text": [
      "En el 75% de los pedidos, la cantidad de unidades no supera: 5.0\n"
     ]
    }
   ],
   "source": [
    "# --- Título: Calcular el percentil 75 de la cantidad de unidades ---\n",
    "\n",
    "q75_cantidad = df_ventas[\"Cantidad\"].quantile(0.75)\n",
    "\n",
    "print(f\"En el 75% de los pedidos, la cantidad de unidades no supera: {q75_cantidad}\")\n"
   ]
  },
  {
   "cell_type": "markdown",
   "id": "6e0338c3-8eed-46a7-92ee-2d5e9cd87692",
   "metadata": {},
   "source": [
    "“Nuestra empresa ha decidido que la cantidad máxima de unidades de pedido que puede tramitar a un cliente es de 13 unidades.\n",
    "Por tanto, si en nuestros datos existen registros con número de unidades mayor, es un outlier y es un dato no válido para los análisis posteriores.\n",
    "¿Cuántos pedidos se han realizado con un número de unidades mayor que 13?”"
   ]
  },
  {
   "cell_type": "code",
   "execution_count": 16,
   "id": "59627dc7-1408-4798-8b27-d3014a1e5e58",
   "metadata": {},
   "outputs": [
    {
     "name": "stdout",
     "output_type": "stream",
     "text": [
      "Número de pedidos con más de 13 unidades: 29\n"
     ]
    }
   ],
   "source": [
    "# --- Título: Detectar pedidos con más de 13 unidades ---\n",
    "\n",
    "outliers_unidades = (df_ventas[\"Cantidad\"] > 13).sum()\n",
    "\n",
    "print(f\"Número de pedidos con más de 13 unidades: {outliers_unidades}\")\n"
   ]
  },
  {
   "cell_type": "markdown",
   "id": "19c8ac68-acde-4d1b-befd-6fae5bb2c78f",
   "metadata": {},
   "source": [
    "“Realiza la limpieza del dataframe df_ventas de tal manera que descartemos los registros con unidades > 13.\n",
    "¿Cuáles son las nuevas dimensiones del dataframe?”"
   ]
  },
  {
   "cell_type": "code",
   "execution_count": 18,
   "id": "d711aa87-1147-4c6f-9f96-2b11710d9500",
   "metadata": {},
   "outputs": [
    {
     "name": "stdout",
     "output_type": "stream",
     "text": [
      "Registros eliminados: 0\n",
      "Nuevas dimensiones de df_ventas: (9961, 9)\n"
     ]
    }
   ],
   "source": [
    "# --- Título: Eliminar pedidos con más de 13 unidades (outliers) ---\n",
    "\n",
    "antes = df_ventas.shape\n",
    "\n",
    "# Filtramos solo pedidos válidos\n",
    "df_ventas = df_ventas[df_ventas[\"Cantidad\"] <= 13].copy()\n",
    "\n",
    "despues = df_ventas.shape\n",
    "eliminados = antes[0] - despues[0]\n",
    "\n",
    "print(f\"Registros eliminados: {eliminados}\")\n",
    "print(f\"Nuevas dimensiones de df_ventas: {df_ventas.shape}\")\n"
   ]
  },
  {
   "cell_type": "markdown",
   "id": "f4cfb193-2694-4446-b00d-b220d6007b71",
   "metadata": {},
   "source": [
    "“En algunos pedidos, no está registrada la Fecha de envío.\n",
    "Se deben completar esos registros como la Fecha compra + mediana de la diferencia entre Fecha de envío - Fecha compra del resto de pedidos.”"
   ]
  },
  {
   "cell_type": "code",
   "execution_count": 19,
   "id": "598d18c9-5b1a-4cd0-9e5f-9c7a2c57a0d0",
   "metadata": {},
   "outputs": [
    {
     "name": "stdout",
     "output_type": "stream",
     "text": [
      "Mediana de la diferencia (envío - compra): 4.0 días\n",
      "Fechas de envío completadas: 6\n"
     ]
    }
   ],
   "source": [
    "# --- Título: Rellenar fechas de envío faltantes con mediana de diferencia ---\n",
    "\n",
    "# Calculamos la diferencia en días entre fecha de envío y fecha de compra\n",
    "delta_dias = (df_ventas[\"Fecha envío\"] - df_ventas[\"Fecha compra\"]).dt.days\n",
    "\n",
    "# Mediana de esa diferencia (solo registros válidos)\n",
    "mediana_dias = delta_dias.dropna().median()\n",
    "print(f\"Mediana de la diferencia (envío - compra): {mediana_dias} días\")\n",
    "\n",
    "# Rellenamos las fechas de envío faltantes\n",
    "mask_faltantes = df_ventas[\"Fecha envío\"].isna()\n",
    "df_ventas.loc[mask_faltantes, \"Fecha envío\"] = (\n",
    "    df_ventas.loc[mask_faltantes, \"Fecha compra\"] + pd.to_timedelta(mediana_dias, unit=\"D\")\n",
    ")\n",
    "\n",
    "print(f\"Fechas de envío completadas: {mask_faltantes.sum()}\")\n"
   ]
  },
  {
   "cell_type": "markdown",
   "id": "4356f5bf-696f-4807-8c20-de317bf1d6eb",
   "metadata": {},
   "source": []
  },
  {
   "cell_type": "code",
   "execution_count": null,
   "id": "77ea1fff-5bc9-4560-96d1-4ba9652f9edd",
   "metadata": {},
   "outputs": [],
   "source": []
  },
  {
   "cell_type": "markdown",
   "id": "ac3c0b7e-d400-4419-b076-5cd2bf592c5c",
   "metadata": {},
   "source": []
  },
  {
   "cell_type": "code",
   "execution_count": null,
   "id": "dbcbc0f4-5f11-4ca9-88b0-7f8384588311",
   "metadata": {},
   "outputs": [],
   "source": []
  }
 ],
 "metadata": {
  "kernelspec": {
   "display_name": "Python 3 (ipykernel)",
   "language": "python",
   "name": "python3"
  },
  "language_info": {
   "codemirror_mode": {
    "name": "ipython",
    "version": 3
   },
   "file_extension": ".py",
   "mimetype": "text/x-python",
   "name": "python",
   "nbconvert_exporter": "python",
   "pygments_lexer": "ipython3",
   "version": "3.12.10"
  }
 },
 "nbformat": 4,
 "nbformat_minor": 5
}
