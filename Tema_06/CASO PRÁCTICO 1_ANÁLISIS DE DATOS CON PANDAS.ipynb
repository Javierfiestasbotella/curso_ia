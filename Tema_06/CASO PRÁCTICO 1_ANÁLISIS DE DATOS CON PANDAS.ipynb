{
 "cells": [
  {
   "cell_type": "code",
   "execution_count": 1,
   "metadata": {},
   "outputs": [],
   "source": [
    "import pandas as pd"
   ]
  },
  {
   "cell_type": "code",
   "execution_count": 2,
   "metadata": {},
   "outputs": [],
   "source": [
    "import requests"
   ]
  },
  {
   "cell_type": "markdown",
   "metadata": {},
   "source": [
    "# PASO 1: IMPORTACIÓN"
   ]
  },
  {
   "cell_type": "code",
   "execution_count": 3,
   "metadata": {},
   "outputs": [],
   "source": [
    "#FUENTE VENTAS\n",
    "df_ventas = pd.read_excel(r'C:\\Users\\ivan_pinar\\Dropbox\\Creación de MOCs\\MOC Master Python Análisis de Datos\\Datasets\\CASO PRÁCTICO 1\\Ventas.xlsx')"
   ]
  },
  {
   "cell_type": "code",
   "execution_count": 4,
   "metadata": {},
   "outputs": [],
   "source": [
    "#FUENTE CLIENTES\n",
    "df_clientes = pd.read_excel(r'C:\\Users\\ivan_pinar\\Dropbox\\Creación de MOCs\\MOC Master Python Análisis de Datos\\Datasets\\CASO PRÁCTICO 1\\Clientes.xlsx')"
   ]
  },
  {
   "cell_type": "code",
   "execution_count": 5,
   "metadata": {},
   "outputs": [],
   "source": [
    "#FUENTE PRODUCTOS\n",
    "df_productos = pd.read_excel(r'C:\\Users\\ivan_pinar\\Dropbox\\Creación de MOCs\\MOC Master Python Análisis de Datos\\Datasets\\CASO PRÁCTICO 1\\Productos.xlsx')"
   ]
  },
  {
   "cell_type": "code",
   "execution_count": 5,
   "metadata": {},
   "outputs": [],
   "source": [
    "#FUENTE POBLACIÓN PIB\n",
    "url_pib=\"https://www.worldometers.info/gdp/gdp-by-country/\"\n",
    "r = requests.get(url_pib)\n",
    "df_lista_pib = pd.read_html(r.text)\n",
    "df_pob_pib= df_lista_pib[0]"
   ]
  },
  {
   "cell_type": "code",
   "execution_count": 4,
   "metadata": {},
   "outputs": [
    {
     "data": {
      "text/html": [
       "<div>\n",
       "<style scoped>\n",
       "    .dataframe tbody tr th:only-of-type {\n",
       "        vertical-align: middle;\n",
       "    }\n",
       "\n",
       "    .dataframe tbody tr th {\n",
       "        vertical-align: top;\n",
       "    }\n",
       "\n",
       "    .dataframe thead th {\n",
       "        text-align: right;\n",
       "    }\n",
       "</style>\n",
       "<table border=\"1\" class=\"dataframe\">\n",
       "  <thead>\n",
       "    <tr style=\"text-align: right;\">\n",
       "      <th></th>\n",
       "      <th>#</th>\n",
       "      <th>Country</th>\n",
       "      <th>GDP (nominal, 2017)</th>\n",
       "      <th>GDP (abbrev.)</th>\n",
       "      <th>GDP growth</th>\n",
       "      <th>Population (2017)</th>\n",
       "      <th>GDP per capita</th>\n",
       "      <th>Share of World GDP</th>\n",
       "    </tr>\n",
       "  </thead>\n",
       "  <tbody>\n",
       "    <tr>\n",
       "      <th>0</th>\n",
       "      <td>1</td>\n",
       "      <td>United States</td>\n",
       "      <td>$19,485,394,000,000</td>\n",
       "      <td>$19.485 trillion</td>\n",
       "      <td>2.27%</td>\n",
       "      <td>325084756</td>\n",
       "      <td>$59,939</td>\n",
       "      <td>24.08%</td>\n",
       "    </tr>\n",
       "    <tr>\n",
       "      <th>1</th>\n",
       "      <td>2</td>\n",
       "      <td>China</td>\n",
       "      <td>$12,237,700,479,375</td>\n",
       "      <td>$12.238 trillion</td>\n",
       "      <td>6.90%</td>\n",
       "      <td>1421021791</td>\n",
       "      <td>$8,612</td>\n",
       "      <td>15.12%</td>\n",
       "    </tr>\n",
       "    <tr>\n",
       "      <th>2</th>\n",
       "      <td>3</td>\n",
       "      <td>Japan</td>\n",
       "      <td>$4,872,415,104,315</td>\n",
       "      <td>$4.872 trillion</td>\n",
       "      <td>1.71%</td>\n",
       "      <td>127502725</td>\n",
       "      <td>$38,214</td>\n",
       "      <td>6.02%</td>\n",
       "    </tr>\n",
       "    <tr>\n",
       "      <th>3</th>\n",
       "      <td>4</td>\n",
       "      <td>Germany</td>\n",
       "      <td>$3,693,204,332,230</td>\n",
       "      <td>$3.693 trillion</td>\n",
       "      <td>2.22%</td>\n",
       "      <td>82658409</td>\n",
       "      <td>$44,680</td>\n",
       "      <td>4.56%</td>\n",
       "    </tr>\n",
       "    <tr>\n",
       "      <th>4</th>\n",
       "      <td>5</td>\n",
       "      <td>India</td>\n",
       "      <td>$2,650,725,335,364</td>\n",
       "      <td>$2.651 trillion</td>\n",
       "      <td>6.68%</td>\n",
       "      <td>1338676785</td>\n",
       "      <td>$1,980</td>\n",
       "      <td>3.28%</td>\n",
       "    </tr>\n",
       "  </tbody>\n",
       "</table>\n",
       "</div>"
      ],
      "text/plain": [
       "   #        Country  GDP (nominal, 2017)     GDP (abbrev.) GDP growth  \\\n",
       "0  1  United States  $19,485,394,000,000  $19.485 trillion      2.27%   \n",
       "1  2          China  $12,237,700,479,375  $12.238 trillion      6.90%   \n",
       "2  3          Japan   $4,872,415,104,315   $4.872 trillion      1.71%   \n",
       "3  4        Germany   $3,693,204,332,230   $3.693 trillion      2.22%   \n",
       "4  5          India   $2,650,725,335,364   $2.651 trillion      6.68%   \n",
       "\n",
       "   Population (2017) GDP per capita Share of World GDP  \n",
       "0          325084756        $59,939             24.08%  \n",
       "1         1421021791         $8,612             15.12%  \n",
       "2          127502725        $38,214              6.02%  \n",
       "3           82658409        $44,680              4.56%  \n",
       "4         1338676785         $1,980              3.28%  "
      ]
     },
     "execution_count": 4,
     "metadata": {},
     "output_type": "execute_result"
    }
   ],
   "source": [
    "df_pob_pib.head()"
   ]
  },
  {
   "cell_type": "code",
   "execution_count": 6,
   "metadata": {},
   "outputs": [],
   "source": [
    "#FUENTE RENTA PER CÁPITA\n",
    "url_rpc=\"https://en.wikipedia.org/wiki/List_of_countries_by_average_wage\"\n",
    "r = requests.get(url_rpc)\n",
    "df_lista_rpc = pd.read_html(r.text)\n"
   ]
  },
  {
   "cell_type": "code",
   "execution_count": 11,
   "metadata": {},
   "outputs": [],
   "source": [
    "df_rpc= df_lista_rpc[1] #Página modificada, previamente era el índice 15"
   ]
  },
  {
   "cell_type": "code",
   "execution_count": 12,
   "metadata": {},
   "outputs": [
    {
     "data": {
      "text/html": [
       "<div>\n",
       "<style scoped>\n",
       "    .dataframe tbody tr th:only-of-type {\n",
       "        vertical-align: middle;\n",
       "    }\n",
       "\n",
       "    .dataframe tbody tr th {\n",
       "        vertical-align: top;\n",
       "    }\n",
       "\n",
       "    .dataframe thead th {\n",
       "        text-align: right;\n",
       "    }\n",
       "</style>\n",
       "<table border=\"1\" class=\"dataframe\">\n",
       "  <thead>\n",
       "    <tr style=\"text-align: right;\">\n",
       "      <th></th>\n",
       "      <th>Country</th>\n",
       "      <th>Average monthly wage (PPP)</th>\n",
       "    </tr>\n",
       "  </thead>\n",
       "  <tbody>\n",
       "    <tr>\n",
       "      <th>0</th>\n",
       "      <td>Luxembourg *</td>\n",
       "      <td>$5,265</td>\n",
       "    </tr>\n",
       "    <tr>\n",
       "      <th>1</th>\n",
       "      <td>Switzerland *</td>\n",
       "      <td>$5,117</td>\n",
       "    </tr>\n",
       "    <tr>\n",
       "      <th>2</th>\n",
       "      <td>United States *</td>\n",
       "      <td>$5,046</td>\n",
       "    </tr>\n",
       "    <tr>\n",
       "      <th>3</th>\n",
       "      <td>Norway *</td>\n",
       "      <td>$4,317</td>\n",
       "    </tr>\n",
       "    <tr>\n",
       "      <th>4</th>\n",
       "      <td>Denmark *</td>\n",
       "      <td>$4,288</td>\n",
       "    </tr>\n",
       "    <tr>\n",
       "      <th>5</th>\n",
       "      <td>Austria *</td>\n",
       "      <td>$4,185</td>\n",
       "    </tr>\n",
       "    <tr>\n",
       "      <th>6</th>\n",
       "      <td>Canada *</td>\n",
       "      <td>$3,992</td>\n",
       "    </tr>\n",
       "    <tr>\n",
       "      <th>7</th>\n",
       "      <td>Ireland *</td>\n",
       "      <td>$3,944</td>\n",
       "    </tr>\n",
       "    <tr>\n",
       "      <th>8</th>\n",
       "      <td>United Kingdom *</td>\n",
       "      <td>$3,653</td>\n",
       "    </tr>\n",
       "    <tr>\n",
       "      <th>9</th>\n",
       "      <td>France *</td>\n",
       "      <td>$3,610</td>\n",
       "    </tr>\n",
       "    <tr>\n",
       "      <th>10</th>\n",
       "      <td>Sweden *</td>\n",
       "      <td>$3,551</td>\n",
       "    </tr>\n",
       "    <tr>\n",
       "      <th>11</th>\n",
       "      <td>Finland *</td>\n",
       "      <td>$3,549</td>\n",
       "    </tr>\n",
       "    <tr>\n",
       "      <th>12</th>\n",
       "      <td>Italy *</td>\n",
       "      <td>$3,010</td>\n",
       "    </tr>\n",
       "  </tbody>\n",
       "</table>\n",
       "</div>"
      ],
      "text/plain": [
       "             Country Average monthly wage (PPP)\n",
       "0       Luxembourg *                     $5,265\n",
       "1      Switzerland *                     $5,117\n",
       "2    United States *                     $5,046\n",
       "3           Norway *                     $4,317\n",
       "4          Denmark *                     $4,288\n",
       "5          Austria *                     $4,185\n",
       "6           Canada *                     $3,992\n",
       "7          Ireland *                     $3,944\n",
       "8   United Kingdom *                     $3,653\n",
       "9           France *                     $3,610\n",
       "10          Sweden *                     $3,551\n",
       "11         Finland *                     $3,549\n",
       "12           Italy *                     $3,010"
      ]
     },
     "execution_count": 12,
     "metadata": {},
     "output_type": "execute_result"
    }
   ],
   "source": [
    "df_rpc"
   ]
  },
  {
   "cell_type": "code",
   "execution_count": 13,
   "metadata": {},
   "outputs": [
    {
     "data": {
      "text/html": [
       "<div>\n",
       "<style scoped>\n",
       "    .dataframe tbody tr th:only-of-type {\n",
       "        vertical-align: middle;\n",
       "    }\n",
       "\n",
       "    .dataframe tbody tr th {\n",
       "        vertical-align: top;\n",
       "    }\n",
       "\n",
       "    .dataframe thead th {\n",
       "        text-align: right;\n",
       "    }\n",
       "</style>\n",
       "<table border=\"1\" class=\"dataframe\">\n",
       "  <thead>\n",
       "    <tr style=\"text-align: right;\">\n",
       "      <th></th>\n",
       "      <th>#</th>\n",
       "      <th>Country</th>\n",
       "      <th>GDP (nominal, 2017)</th>\n",
       "      <th>GDP (abbrev.)</th>\n",
       "      <th>GDP growth</th>\n",
       "      <th>Population (2017)</th>\n",
       "      <th>GDP per capita</th>\n",
       "      <th>Share of World GDP</th>\n",
       "    </tr>\n",
       "  </thead>\n",
       "  <tbody>\n",
       "    <tr>\n",
       "      <th>0</th>\n",
       "      <td>1</td>\n",
       "      <td>United States</td>\n",
       "      <td>$19,485,394,000,000</td>\n",
       "      <td>$19.485 trillion</td>\n",
       "      <td>2.27%</td>\n",
       "      <td>325084756</td>\n",
       "      <td>$59,939</td>\n",
       "      <td>24.08%</td>\n",
       "    </tr>\n",
       "    <tr>\n",
       "      <th>1</th>\n",
       "      <td>2</td>\n",
       "      <td>China</td>\n",
       "      <td>$12,237,700,479,375</td>\n",
       "      <td>$12.238 trillion</td>\n",
       "      <td>6.90%</td>\n",
       "      <td>1421021791</td>\n",
       "      <td>$8,612</td>\n",
       "      <td>15.12%</td>\n",
       "    </tr>\n",
       "    <tr>\n",
       "      <th>2</th>\n",
       "      <td>3</td>\n",
       "      <td>Japan</td>\n",
       "      <td>$4,872,415,104,315</td>\n",
       "      <td>$4.872 trillion</td>\n",
       "      <td>1.71%</td>\n",
       "      <td>127502725</td>\n",
       "      <td>$38,214</td>\n",
       "      <td>6.02%</td>\n",
       "    </tr>\n",
       "    <tr>\n",
       "      <th>3</th>\n",
       "      <td>4</td>\n",
       "      <td>Germany</td>\n",
       "      <td>$3,693,204,332,230</td>\n",
       "      <td>$3.693 trillion</td>\n",
       "      <td>2.22%</td>\n",
       "      <td>82658409</td>\n",
       "      <td>$44,680</td>\n",
       "      <td>4.56%</td>\n",
       "    </tr>\n",
       "    <tr>\n",
       "      <th>4</th>\n",
       "      <td>5</td>\n",
       "      <td>India</td>\n",
       "      <td>$2,650,725,335,364</td>\n",
       "      <td>$2.651 trillion</td>\n",
       "      <td>6.68%</td>\n",
       "      <td>1338676785</td>\n",
       "      <td>$1,980</td>\n",
       "      <td>3.28%</td>\n",
       "    </tr>\n",
       "    <tr>\n",
       "      <th>...</th>\n",
       "      <td>...</td>\n",
       "      <td>...</td>\n",
       "      <td>...</td>\n",
       "      <td>...</td>\n",
       "      <td>...</td>\n",
       "      <td>...</td>\n",
       "      <td>...</td>\n",
       "      <td>...</td>\n",
       "    </tr>\n",
       "    <tr>\n",
       "      <th>185</th>\n",
       "      <td>186</td>\n",
       "      <td>Micronesia</td>\n",
       "      <td>$336,427,500</td>\n",
       "      <td>$336 million</td>\n",
       "      <td>3.20%</td>\n",
       "      <td>532899</td>\n",
       "      <td>$631</td>\n",
       "      <td>0.00%</td>\n",
       "    </tr>\n",
       "    <tr>\n",
       "      <th>186</th>\n",
       "      <td>187</td>\n",
       "      <td>Palau</td>\n",
       "      <td>$289,823,500</td>\n",
       "      <td>$290 million</td>\n",
       "      <td>-3.57%</td>\n",
       "      <td>17808</td>\n",
       "      <td>$16,275</td>\n",
       "      <td>0.00%</td>\n",
       "    </tr>\n",
       "    <tr>\n",
       "      <th>187</th>\n",
       "      <td>188</td>\n",
       "      <td>Marshall Islands</td>\n",
       "      <td>$204,173,430</td>\n",
       "      <td>$204 million</td>\n",
       "      <td>3.60%</td>\n",
       "      <td>58058</td>\n",
       "      <td>$3,517</td>\n",
       "      <td>0.00%</td>\n",
       "    </tr>\n",
       "    <tr>\n",
       "      <th>188</th>\n",
       "      <td>189</td>\n",
       "      <td>Kiribati</td>\n",
       "      <td>$185,572,502</td>\n",
       "      <td>$186 million</td>\n",
       "      <td>0.33%</td>\n",
       "      <td>114158</td>\n",
       "      <td>$1,626</td>\n",
       "      <td>0.00%</td>\n",
       "    </tr>\n",
       "    <tr>\n",
       "      <th>189</th>\n",
       "      <td>190</td>\n",
       "      <td>Tuvalu</td>\n",
       "      <td>$39,731,317</td>\n",
       "      <td>$40 million</td>\n",
       "      <td>3.24%</td>\n",
       "      <td>11370</td>\n",
       "      <td>$3,494</td>\n",
       "      <td>0.00%</td>\n",
       "    </tr>\n",
       "  </tbody>\n",
       "</table>\n",
       "<p>190 rows × 8 columns</p>\n",
       "</div>"
      ],
      "text/plain": [
       "       #           Country  GDP (nominal, 2017)     GDP (abbrev.) GDP growth  \\\n",
       "0      1     United States  $19,485,394,000,000  $19.485 trillion      2.27%   \n",
       "1      2             China  $12,237,700,479,375  $12.238 trillion      6.90%   \n",
       "2      3             Japan   $4,872,415,104,315   $4.872 trillion      1.71%   \n",
       "3      4           Germany   $3,693,204,332,230   $3.693 trillion      2.22%   \n",
       "4      5             India   $2,650,725,335,364   $2.651 trillion      6.68%   \n",
       "..   ...               ...                  ...               ...        ...   \n",
       "185  186        Micronesia         $336,427,500      $336 million      3.20%   \n",
       "186  187             Palau         $289,823,500      $290 million     -3.57%   \n",
       "187  188  Marshall Islands         $204,173,430      $204 million      3.60%   \n",
       "188  189          Kiribati         $185,572,502      $186 million      0.33%   \n",
       "189  190            Tuvalu          $39,731,317       $40 million      3.24%   \n",
       "\n",
       "     Population (2017) GDP per capita Share of World GDP  \n",
       "0            325084756        $59,939             24.08%  \n",
       "1           1421021791         $8,612             15.12%  \n",
       "2            127502725        $38,214              6.02%  \n",
       "3             82658409        $44,680              4.56%  \n",
       "4           1338676785         $1,980              3.28%  \n",
       "..                 ...            ...                ...  \n",
       "185             532899           $631              0.00%  \n",
       "186              17808        $16,275              0.00%  \n",
       "187              58058         $3,517              0.00%  \n",
       "188             114158         $1,626              0.00%  \n",
       "189              11370         $3,494              0.00%  \n",
       "\n",
       "[190 rows x 8 columns]"
      ]
     },
     "execution_count": 13,
     "metadata": {},
     "output_type": "execute_result"
    }
   ],
   "source": [
    "df_pob_pib"
   ]
  },
  {
   "cell_type": "code",
   "execution_count": null,
   "metadata": {},
   "outputs": [],
   "source": []
  },
  {
   "cell_type": "markdown",
   "metadata": {},
   "source": [
    "# Pregunta_1: Dimensiones dataframes"
   ]
  },
  {
   "cell_type": "code",
   "execution_count": 8,
   "metadata": {},
   "outputs": [
    {
     "data": {
      "text/plain": [
       "(9994, 8)"
      ]
     },
     "execution_count": 8,
     "metadata": {},
     "output_type": "execute_result"
    }
   ],
   "source": [
    "df_ventas.shape"
   ]
  },
  {
   "cell_type": "code",
   "execution_count": 9,
   "metadata": {},
   "outputs": [
    {
     "data": {
      "text/plain": [
       "(793, 8)"
      ]
     },
     "execution_count": 9,
     "metadata": {},
     "output_type": "execute_result"
    }
   ],
   "source": [
    "df_clientes.shape"
   ]
  },
  {
   "cell_type": "code",
   "execution_count": 10,
   "metadata": {},
   "outputs": [
    {
     "data": {
      "text/plain": [
       "(1864, 5)"
      ]
     },
     "execution_count": 10,
     "metadata": {},
     "output_type": "execute_result"
    }
   ],
   "source": [
    "df_productos.shape"
   ]
  },
  {
   "cell_type": "code",
   "execution_count": 11,
   "metadata": {},
   "outputs": [
    {
     "data": {
      "text/plain": [
       "(190, 8)"
      ]
     },
     "execution_count": 11,
     "metadata": {},
     "output_type": "execute_result"
    }
   ],
   "source": [
    "df_pob_pib.shape"
   ]
  },
  {
   "cell_type": "code",
   "execution_count": 12,
   "metadata": {},
   "outputs": [
    {
     "data": {
      "text/plain": [
       "(37, 2)"
      ]
     },
     "execution_count": 12,
     "metadata": {},
     "output_type": "execute_result"
    }
   ],
   "source": [
    "df_rpc.shape"
   ]
  },
  {
   "cell_type": "markdown",
   "metadata": {},
   "source": [
    "# Pregunta_2: ¿Existen valores NaN en nuestras fuentes?"
   ]
  },
  {
   "cell_type": "code",
   "execution_count": 13,
   "metadata": {},
   "outputs": [
    {
     "name": "stdout",
     "output_type": "stream",
     "text": [
      "<class 'pandas.core.frame.DataFrame'>\n",
      "RangeIndex: 9994 entries, 0 to 9993\n",
      "Data columns (total 8 columns):\n",
      "ID Pedido          9994 non-null object\n",
      "Fecha compra       9991 non-null datetime64[ns]\n",
      "Fecha envío        9988 non-null datetime64[ns]\n",
      "Modo envío         9994 non-null object\n",
      "ID Cliente         9994 non-null object\n",
      "ID Producto        9994 non-null object\n",
      "Precio unitario    9994 non-null object\n",
      "Cantidad           9994 non-null int64\n",
      "dtypes: datetime64[ns](2), int64(1), object(5)\n",
      "memory usage: 624.8+ KB\n"
     ]
    }
   ],
   "source": [
    "df_ventas.info()"
   ]
  },
  {
   "cell_type": "code",
   "execution_count": 14,
   "metadata": {},
   "outputs": [
    {
     "name": "stdout",
     "output_type": "stream",
     "text": [
      "<class 'pandas.core.frame.DataFrame'>\n",
      "RangeIndex: 793 entries, 0 to 792\n",
      "Data columns (total 8 columns):\n",
      "ID Cliente        793 non-null object\n",
      "Nombre cliente    793 non-null object\n",
      "Segmento          793 non-null object\n",
      "País              793 non-null object\n",
      "Ciudad            338 non-null object\n",
      "Estado            338 non-null object\n",
      "Código Postal     338 non-null float64\n",
      "Región            338 non-null object\n",
      "dtypes: float64(1), object(7)\n",
      "memory usage: 49.7+ KB\n"
     ]
    }
   ],
   "source": [
    "df_clientes.info()"
   ]
  },
  {
   "cell_type": "code",
   "execution_count": 15,
   "metadata": {},
   "outputs": [
    {
     "name": "stdout",
     "output_type": "stream",
     "text": [
      "<class 'pandas.core.frame.DataFrame'>\n",
      "RangeIndex: 1864 entries, 0 to 1863\n",
      "Data columns (total 5 columns):\n",
      "ID Producto         1864 non-null object\n",
      "Categoría           1864 non-null object\n",
      "Sub-categoría       1864 non-null object\n",
      "Nombre Producto     1863 non-null object\n",
      "Coste Producción    1862 non-null float64\n",
      "dtypes: float64(1), object(4)\n",
      "memory usage: 72.9+ KB\n"
     ]
    }
   ],
   "source": [
    "df_productos.info()"
   ]
  },
  {
   "cell_type": "code",
   "execution_count": 13,
   "metadata": {},
   "outputs": [
    {
     "name": "stdout",
     "output_type": "stream",
     "text": [
      "<class 'pandas.core.frame.DataFrame'>\n",
      "RangeIndex: 190 entries, 0 to 189\n",
      "Data columns (total 8 columns):\n",
      " #   Column               Non-Null Count  Dtype \n",
      "---  ------               --------------  ----- \n",
      " 0   #                    190 non-null    int64 \n",
      " 1   Country              190 non-null    object\n",
      " 2   GDP (nominal, 2017)  190 non-null    object\n",
      " 3   GDP (abbrev.)        190 non-null    object\n",
      " 4   GDP growth           190 non-null    object\n",
      " 5   Population (2017)    190 non-null    int64 \n",
      " 6   GDP per capita       190 non-null    object\n",
      " 7   Share of World GDP   190 non-null    object\n",
      "dtypes: int64(2), object(6)\n",
      "memory usage: 12.0+ KB\n"
     ]
    }
   ],
   "source": [
    "df_pob_pib.info()"
   ]
  },
  {
   "cell_type": "code",
   "execution_count": 17,
   "metadata": {},
   "outputs": [
    {
     "name": "stdout",
     "output_type": "stream",
     "text": [
      "<class 'pandas.core.frame.DataFrame'>\n",
      "RangeIndex: 36 entries, 0 to 35\n",
      "Data columns (total 2 columns):\n",
      "Country               36 non-null object\n",
      "Averagemonthlywage    36 non-null object\n",
      "dtypes: object(2)\n",
      "memory usage: 704.0+ bytes\n"
     ]
    }
   ],
   "source": [
    "df_rpc.info()"
   ]
  },
  {
   "cell_type": "markdown",
   "metadata": {},
   "source": [
    "# PASO 2: LIMPIEZA DE INCONSISTENCIAS"
   ]
  },
  {
   "cell_type": "markdown",
   "metadata": {},
   "source": [
    "# PREGUNTA 3: ¿Cuántos registros se han eliminado de df_ventas?"
   ]
  },
  {
   "cell_type": "code",
   "execution_count": 18,
   "metadata": {},
   "outputs": [
    {
     "data": {
      "text/html": [
       "<div>\n",
       "<style scoped>\n",
       "    .dataframe tbody tr th:only-of-type {\n",
       "        vertical-align: middle;\n",
       "    }\n",
       "\n",
       "    .dataframe tbody tr th {\n",
       "        vertical-align: top;\n",
       "    }\n",
       "\n",
       "    .dataframe thead th {\n",
       "        text-align: right;\n",
       "    }\n",
       "</style>\n",
       "<table border=\"1\" class=\"dataframe\">\n",
       "  <thead>\n",
       "    <tr style=\"text-align: right;\">\n",
       "      <th></th>\n",
       "      <th>ID Pedido</th>\n",
       "      <th>Fecha compra</th>\n",
       "      <th>Fecha envío</th>\n",
       "      <th>Modo envío</th>\n",
       "      <th>ID Cliente</th>\n",
       "      <th>ID Producto</th>\n",
       "      <th>Precio unitario</th>\n",
       "      <th>Cantidad</th>\n",
       "    </tr>\n",
       "  </thead>\n",
       "  <tbody>\n",
       "    <tr>\n",
       "      <td>15</td>\n",
       "      <td>US-2015-118983</td>\n",
       "      <td>NaT</td>\n",
       "      <td>2019-11-26</td>\n",
       "      <td>Standard Class</td>\n",
       "      <td>HP-14815</td>\n",
       "      <td>OFF-BI-10000756</td>\n",
       "      <td>2,544</td>\n",
       "      <td>3</td>\n",
       "    </tr>\n",
       "    <tr>\n",
       "      <td>18</td>\n",
       "      <td>CA-2014-143336</td>\n",
       "      <td>NaT</td>\n",
       "      <td>2018-09-01</td>\n",
       "      <td>Second Class</td>\n",
       "      <td>ZD-21925</td>\n",
       "      <td>OFF-AR-10003056</td>\n",
       "      <td>8,56</td>\n",
       "      <td>2</td>\n",
       "    </tr>\n",
       "    <tr>\n",
       "      <td>26</td>\n",
       "      <td>CA-2016-121755</td>\n",
       "      <td>NaT</td>\n",
       "      <td>2020-01-20</td>\n",
       "      <td>Second Class</td>\n",
       "      <td>EH-13945</td>\n",
       "      <td>TEC-AC-10003027</td>\n",
       "      <td>90,57</td>\n",
       "      <td>3</td>\n",
       "    </tr>\n",
       "  </tbody>\n",
       "</table>\n",
       "</div>"
      ],
      "text/plain": [
       "         ID Pedido Fecha compra Fecha envío      Modo envío ID Cliente  \\\n",
       "15  US-2015-118983          NaT  2019-11-26  Standard Class   HP-14815   \n",
       "18  CA-2014-143336          NaT  2018-09-01    Second Class   ZD-21925   \n",
       "26  CA-2016-121755          NaT  2020-01-20    Second Class   EH-13945   \n",
       "\n",
       "        ID Producto Precio unitario  Cantidad  \n",
       "15  OFF-BI-10000756           2,544         3  \n",
       "18  OFF-AR-10003056            8,56         2  \n",
       "26  TEC-AC-10003027           90,57         3  "
      ]
     },
     "execution_count": 18,
     "metadata": {},
     "output_type": "execute_result"
    }
   ],
   "source": [
    "#Verificar si existe registros con Fecha compra vacíos (null)\n",
    "df_ventas[df_ventas[\"Fecha compra\"].isnull()]"
   ]
  },
  {
   "cell_type": "code",
   "execution_count": 19,
   "metadata": {},
   "outputs": [],
   "source": [
    "#Eliminar registros con Fecha compra = null\n",
    "df_ventas = df_ventas[df_ventas[\"Fecha compra\"].notnull()]"
   ]
  },
  {
   "cell_type": "code",
   "execution_count": 20,
   "metadata": {},
   "outputs": [
    {
     "data": {
      "text/plain": [
       "(9991, 8)"
      ]
     },
     "execution_count": 20,
     "metadata": {},
     "output_type": "execute_result"
    }
   ],
   "source": [
    "df_ventas.shape"
   ]
  },
  {
   "cell_type": "markdown",
   "metadata": {},
   "source": [
    "# PREGUNTA 4: ¿Existen registros duplicados en nuestros datos? "
   ]
  },
  {
   "cell_type": "code",
   "execution_count": 21,
   "metadata": {},
   "outputs": [
    {
     "data": {
      "text/plain": [
       "(9991, 8)"
      ]
     },
     "execution_count": 21,
     "metadata": {},
     "output_type": "execute_result"
    }
   ],
   "source": [
    "df_ventas.shape"
   ]
  },
  {
   "cell_type": "code",
   "execution_count": 22,
   "metadata": {},
   "outputs": [
    {
     "data": {
      "text/plain": [
       "(1864, 5)"
      ]
     },
     "execution_count": 22,
     "metadata": {},
     "output_type": "execute_result"
    }
   ],
   "source": [
    "df_productos.shape"
   ]
  },
  {
   "cell_type": "code",
   "execution_count": 23,
   "metadata": {},
   "outputs": [
    {
     "data": {
      "text/plain": [
       "(793, 8)"
      ]
     },
     "execution_count": 23,
     "metadata": {},
     "output_type": "execute_result"
    }
   ],
   "source": [
    "df_clientes.shape"
   ]
  },
  {
   "cell_type": "code",
   "execution_count": 24,
   "metadata": {},
   "outputs": [
    {
     "data": {
      "text/plain": [
       "(189, 8)"
      ]
     },
     "execution_count": 24,
     "metadata": {},
     "output_type": "execute_result"
    }
   ],
   "source": [
    "df_pob_pib.shape"
   ]
  },
  {
   "cell_type": "code",
   "execution_count": 25,
   "metadata": {},
   "outputs": [
    {
     "data": {
      "text/plain": [
       "(36, 2)"
      ]
     },
     "execution_count": 25,
     "metadata": {},
     "output_type": "execute_result"
    }
   ],
   "source": [
    "df_rpc.shape"
   ]
  },
  {
   "cell_type": "code",
   "execution_count": 27,
   "metadata": {},
   "outputs": [],
   "source": [
    "df_ventas.drop_duplicates(inplace=True)\n",
    "df_productos.drop_duplicates(inplace=True)\n",
    "df_clientes.drop_duplicates(inplace=True)\n",
    "df_pob_pib.drop_duplicates(inplace=True)\n",
    "df_rpc.drop_duplicates(inplace=True)"
   ]
  },
  {
   "cell_type": "code",
   "execution_count": 28,
   "metadata": {},
   "outputs": [
    {
     "data": {
      "text/plain": [
       "(9990, 8)"
      ]
     },
     "execution_count": 28,
     "metadata": {},
     "output_type": "execute_result"
    }
   ],
   "source": [
    "df_ventas.shape"
   ]
  },
  {
   "cell_type": "code",
   "execution_count": 29,
   "metadata": {},
   "outputs": [
    {
     "data": {
      "text/plain": [
       "(1863, 5)"
      ]
     },
     "execution_count": 29,
     "metadata": {},
     "output_type": "execute_result"
    }
   ],
   "source": [
    "df_productos.shape"
   ]
  },
  {
   "cell_type": "code",
   "execution_count": 30,
   "metadata": {},
   "outputs": [
    {
     "data": {
      "text/plain": [
       "(793, 8)"
      ]
     },
     "execution_count": 30,
     "metadata": {},
     "output_type": "execute_result"
    }
   ],
   "source": [
    "df_clientes.shape"
   ]
  },
  {
   "cell_type": "code",
   "execution_count": 31,
   "metadata": {},
   "outputs": [
    {
     "data": {
      "text/plain": [
       "(189, 8)"
      ]
     },
     "execution_count": 31,
     "metadata": {},
     "output_type": "execute_result"
    }
   ],
   "source": [
    "df_pob_pib.shape"
   ]
  },
  {
   "cell_type": "code",
   "execution_count": 32,
   "metadata": {},
   "outputs": [
    {
     "data": {
      "text/plain": [
       "(36, 2)"
      ]
     },
     "execution_count": 32,
     "metadata": {},
     "output_type": "execute_result"
    }
   ],
   "source": [
    "df_rpc.shape"
   ]
  },
  {
   "cell_type": "markdown",
   "metadata": {},
   "source": [
    "# PREGUNTA 5: Transforme el tipo de datos de los campos numéricos"
   ]
  },
  {
   "cell_type": "code",
   "execution_count": 33,
   "metadata": {},
   "outputs": [
    {
     "data": {
      "text/html": [
       "<div>\n",
       "<style scoped>\n",
       "    .dataframe tbody tr th:only-of-type {\n",
       "        vertical-align: middle;\n",
       "    }\n",
       "\n",
       "    .dataframe tbody tr th {\n",
       "        vertical-align: top;\n",
       "    }\n",
       "\n",
       "    .dataframe thead th {\n",
       "        text-align: right;\n",
       "    }\n",
       "</style>\n",
       "<table border=\"1\" class=\"dataframe\">\n",
       "  <thead>\n",
       "    <tr style=\"text-align: right;\">\n",
       "      <th></th>\n",
       "      <th>ID Pedido</th>\n",
       "      <th>Fecha compra</th>\n",
       "      <th>Fecha envío</th>\n",
       "      <th>Modo envío</th>\n",
       "      <th>ID Cliente</th>\n",
       "      <th>ID Producto</th>\n",
       "      <th>Precio unitario</th>\n",
       "      <th>Cantidad</th>\n",
       "    </tr>\n",
       "  </thead>\n",
       "  <tbody>\n",
       "    <tr>\n",
       "      <td>0</td>\n",
       "      <td>CA-2016-152156</td>\n",
       "      <td>2020-11-08</td>\n",
       "      <td>2020-11-11 05:00:00</td>\n",
       "      <td>Second Class</td>\n",
       "      <td>CG-12520</td>\n",
       "      <td>FUR-BO-10001798</td>\n",
       "      <td>261,96</td>\n",
       "      <td>2</td>\n",
       "    </tr>\n",
       "    <tr>\n",
       "      <td>1</td>\n",
       "      <td>CA-2016-152156</td>\n",
       "      <td>2020-11-08</td>\n",
       "      <td>2020-11-11 00:00:00</td>\n",
       "      <td>Second Class</td>\n",
       "      <td>CG-12520</td>\n",
       "      <td>FUR-CH-10000454</td>\n",
       "      <td>731,94</td>\n",
       "      <td>3</td>\n",
       "    </tr>\n",
       "    <tr>\n",
       "      <td>2</td>\n",
       "      <td>CA-2016-138688</td>\n",
       "      <td>2020-06-12</td>\n",
       "      <td>2020-06-16 00:00:00</td>\n",
       "      <td>Second Class</td>\n",
       "      <td>DV-13045</td>\n",
       "      <td>OFF-LA-10000240</td>\n",
       "      <td>14,62</td>\n",
       "      <td>2</td>\n",
       "    </tr>\n",
       "    <tr>\n",
       "      <td>3</td>\n",
       "      <td>US-2015-108966</td>\n",
       "      <td>2019-10-11</td>\n",
       "      <td>NaT</td>\n",
       "      <td>Standard Class</td>\n",
       "      <td>SO-20335</td>\n",
       "      <td>FUR-TA-10000577</td>\n",
       "      <td>957,5775</td>\n",
       "      <td>5</td>\n",
       "    </tr>\n",
       "    <tr>\n",
       "      <td>4</td>\n",
       "      <td>US-2015-108966</td>\n",
       "      <td>2019-10-11</td>\n",
       "      <td>2019-10-18 00:00:00</td>\n",
       "      <td>Standard Class</td>\n",
       "      <td>SO-20335</td>\n",
       "      <td>OFF-ST-10000760</td>\n",
       "      <td>22,368</td>\n",
       "      <td>2</td>\n",
       "    </tr>\n",
       "    <tr>\n",
       "      <td>...</td>\n",
       "      <td>...</td>\n",
       "      <td>...</td>\n",
       "      <td>...</td>\n",
       "      <td>...</td>\n",
       "      <td>...</td>\n",
       "      <td>...</td>\n",
       "      <td>...</td>\n",
       "      <td>...</td>\n",
       "    </tr>\n",
       "    <tr>\n",
       "      <td>9989</td>\n",
       "      <td>CA-2014-110422</td>\n",
       "      <td>2018-01-21</td>\n",
       "      <td>2018-01-23 00:00:00</td>\n",
       "      <td>Second Class</td>\n",
       "      <td>TB-21400</td>\n",
       "      <td>FUR-FU-10001889</td>\n",
       "      <td>25,248</td>\n",
       "      <td>3</td>\n",
       "    </tr>\n",
       "    <tr>\n",
       "      <td>9990</td>\n",
       "      <td>CA-2017-121258</td>\n",
       "      <td>2021-02-26</td>\n",
       "      <td>2021-03-03 00:00:00</td>\n",
       "      <td>Standard Class</td>\n",
       "      <td>DB-13060</td>\n",
       "      <td>FUR-FU-10000747</td>\n",
       "      <td>91,96</td>\n",
       "      <td>2</td>\n",
       "    </tr>\n",
       "    <tr>\n",
       "      <td>9991</td>\n",
       "      <td>CA-2017-121258</td>\n",
       "      <td>2021-02-26</td>\n",
       "      <td>2021-03-03 00:00:00</td>\n",
       "      <td>Standard Class</td>\n",
       "      <td>DB-13060</td>\n",
       "      <td>TEC-PH-10003645</td>\n",
       "      <td>258,576</td>\n",
       "      <td>2</td>\n",
       "    </tr>\n",
       "    <tr>\n",
       "      <td>9992</td>\n",
       "      <td>CA-2017-121258</td>\n",
       "      <td>2021-02-26</td>\n",
       "      <td>2021-03-03 00:00:00</td>\n",
       "      <td>Standard Class</td>\n",
       "      <td>DB-13060</td>\n",
       "      <td>OFF-PA-10004041</td>\n",
       "      <td>29,6</td>\n",
       "      <td>4</td>\n",
       "    </tr>\n",
       "    <tr>\n",
       "      <td>9993</td>\n",
       "      <td>CA-2017-119914</td>\n",
       "      <td>2021-05-04</td>\n",
       "      <td>2021-05-09 00:00:00</td>\n",
       "      <td>Second Class</td>\n",
       "      <td>CC-12220</td>\n",
       "      <td>OFF-AP-10002684</td>\n",
       "      <td>243,16</td>\n",
       "      <td>2</td>\n",
       "    </tr>\n",
       "  </tbody>\n",
       "</table>\n",
       "<p>9990 rows × 8 columns</p>\n",
       "</div>"
      ],
      "text/plain": [
       "           ID Pedido Fecha compra         Fecha envío      Modo envío  \\\n",
       "0     CA-2016-152156   2020-11-08 2020-11-11 05:00:00    Second Class   \n",
       "1     CA-2016-152156   2020-11-08 2020-11-11 00:00:00    Second Class   \n",
       "2     CA-2016-138688   2020-06-12 2020-06-16 00:00:00    Second Class   \n",
       "3     US-2015-108966   2019-10-11                 NaT  Standard Class   \n",
       "4     US-2015-108966   2019-10-11 2019-10-18 00:00:00  Standard Class   \n",
       "...              ...          ...                 ...             ...   \n",
       "9989  CA-2014-110422   2018-01-21 2018-01-23 00:00:00    Second Class   \n",
       "9990  CA-2017-121258   2021-02-26 2021-03-03 00:00:00  Standard Class   \n",
       "9991  CA-2017-121258   2021-02-26 2021-03-03 00:00:00  Standard Class   \n",
       "9992  CA-2017-121258   2021-02-26 2021-03-03 00:00:00  Standard Class   \n",
       "9993  CA-2017-119914   2021-05-04 2021-05-09 00:00:00    Second Class   \n",
       "\n",
       "     ID Cliente      ID Producto Precio unitario  Cantidad  \n",
       "0      CG-12520  FUR-BO-10001798          261,96         2  \n",
       "1      CG-12520  FUR-CH-10000454          731,94         3  \n",
       "2      DV-13045  OFF-LA-10000240           14,62         2  \n",
       "3      SO-20335  FUR-TA-10000577        957,5775         5  \n",
       "4      SO-20335  OFF-ST-10000760          22,368         2  \n",
       "...         ...              ...             ...       ...  \n",
       "9989   TB-21400  FUR-FU-10001889          25,248         3  \n",
       "9990   DB-13060  FUR-FU-10000747           91,96         2  \n",
       "9991   DB-13060  TEC-PH-10003645         258,576         2  \n",
       "9992   DB-13060  OFF-PA-10004041            29,6         4  \n",
       "9993   CC-12220  OFF-AP-10002684          243,16         2  \n",
       "\n",
       "[9990 rows x 8 columns]"
      ]
     },
     "execution_count": 33,
     "metadata": {},
     "output_type": "execute_result"
    }
   ],
   "source": [
    "df_ventas"
   ]
  },
  {
   "cell_type": "code",
   "execution_count": 34,
   "metadata": {},
   "outputs": [],
   "source": [
    "df_ventas[\"Precio unitario\"]=df_ventas[\"Precio unitario\"].str.replace(\",\",\".\")"
   ]
  },
  {
   "cell_type": "code",
   "execution_count": 35,
   "metadata": {},
   "outputs": [
    {
     "data": {
      "text/html": [
       "<div>\n",
       "<style scoped>\n",
       "    .dataframe tbody tr th:only-of-type {\n",
       "        vertical-align: middle;\n",
       "    }\n",
       "\n",
       "    .dataframe tbody tr th {\n",
       "        vertical-align: top;\n",
       "    }\n",
       "\n",
       "    .dataframe thead th {\n",
       "        text-align: right;\n",
       "    }\n",
       "</style>\n",
       "<table border=\"1\" class=\"dataframe\">\n",
       "  <thead>\n",
       "    <tr style=\"text-align: right;\">\n",
       "      <th></th>\n",
       "      <th>ID Pedido</th>\n",
       "      <th>Fecha compra</th>\n",
       "      <th>Fecha envío</th>\n",
       "      <th>Modo envío</th>\n",
       "      <th>ID Cliente</th>\n",
       "      <th>ID Producto</th>\n",
       "      <th>Precio unitario</th>\n",
       "      <th>Cantidad</th>\n",
       "    </tr>\n",
       "  </thead>\n",
       "  <tbody>\n",
       "    <tr>\n",
       "      <td>0</td>\n",
       "      <td>CA-2016-152156</td>\n",
       "      <td>2020-11-08</td>\n",
       "      <td>2020-11-11 05:00:00</td>\n",
       "      <td>Second Class</td>\n",
       "      <td>CG-12520</td>\n",
       "      <td>FUR-BO-10001798</td>\n",
       "      <td>261.96</td>\n",
       "      <td>2</td>\n",
       "    </tr>\n",
       "    <tr>\n",
       "      <td>1</td>\n",
       "      <td>CA-2016-152156</td>\n",
       "      <td>2020-11-08</td>\n",
       "      <td>2020-11-11 00:00:00</td>\n",
       "      <td>Second Class</td>\n",
       "      <td>CG-12520</td>\n",
       "      <td>FUR-CH-10000454</td>\n",
       "      <td>731.94</td>\n",
       "      <td>3</td>\n",
       "    </tr>\n",
       "    <tr>\n",
       "      <td>2</td>\n",
       "      <td>CA-2016-138688</td>\n",
       "      <td>2020-06-12</td>\n",
       "      <td>2020-06-16 00:00:00</td>\n",
       "      <td>Second Class</td>\n",
       "      <td>DV-13045</td>\n",
       "      <td>OFF-LA-10000240</td>\n",
       "      <td>14.62</td>\n",
       "      <td>2</td>\n",
       "    </tr>\n",
       "    <tr>\n",
       "      <td>3</td>\n",
       "      <td>US-2015-108966</td>\n",
       "      <td>2019-10-11</td>\n",
       "      <td>NaT</td>\n",
       "      <td>Standard Class</td>\n",
       "      <td>SO-20335</td>\n",
       "      <td>FUR-TA-10000577</td>\n",
       "      <td>957.5775</td>\n",
       "      <td>5</td>\n",
       "    </tr>\n",
       "    <tr>\n",
       "      <td>4</td>\n",
       "      <td>US-2015-108966</td>\n",
       "      <td>2019-10-11</td>\n",
       "      <td>2019-10-18 00:00:00</td>\n",
       "      <td>Standard Class</td>\n",
       "      <td>SO-20335</td>\n",
       "      <td>OFF-ST-10000760</td>\n",
       "      <td>22.368</td>\n",
       "      <td>2</td>\n",
       "    </tr>\n",
       "    <tr>\n",
       "      <td>...</td>\n",
       "      <td>...</td>\n",
       "      <td>...</td>\n",
       "      <td>...</td>\n",
       "      <td>...</td>\n",
       "      <td>...</td>\n",
       "      <td>...</td>\n",
       "      <td>...</td>\n",
       "      <td>...</td>\n",
       "    </tr>\n",
       "    <tr>\n",
       "      <td>9989</td>\n",
       "      <td>CA-2014-110422</td>\n",
       "      <td>2018-01-21</td>\n",
       "      <td>2018-01-23 00:00:00</td>\n",
       "      <td>Second Class</td>\n",
       "      <td>TB-21400</td>\n",
       "      <td>FUR-FU-10001889</td>\n",
       "      <td>25.248</td>\n",
       "      <td>3</td>\n",
       "    </tr>\n",
       "    <tr>\n",
       "      <td>9990</td>\n",
       "      <td>CA-2017-121258</td>\n",
       "      <td>2021-02-26</td>\n",
       "      <td>2021-03-03 00:00:00</td>\n",
       "      <td>Standard Class</td>\n",
       "      <td>DB-13060</td>\n",
       "      <td>FUR-FU-10000747</td>\n",
       "      <td>91.96</td>\n",
       "      <td>2</td>\n",
       "    </tr>\n",
       "    <tr>\n",
       "      <td>9991</td>\n",
       "      <td>CA-2017-121258</td>\n",
       "      <td>2021-02-26</td>\n",
       "      <td>2021-03-03 00:00:00</td>\n",
       "      <td>Standard Class</td>\n",
       "      <td>DB-13060</td>\n",
       "      <td>TEC-PH-10003645</td>\n",
       "      <td>258.576</td>\n",
       "      <td>2</td>\n",
       "    </tr>\n",
       "    <tr>\n",
       "      <td>9992</td>\n",
       "      <td>CA-2017-121258</td>\n",
       "      <td>2021-02-26</td>\n",
       "      <td>2021-03-03 00:00:00</td>\n",
       "      <td>Standard Class</td>\n",
       "      <td>DB-13060</td>\n",
       "      <td>OFF-PA-10004041</td>\n",
       "      <td>29.6</td>\n",
       "      <td>4</td>\n",
       "    </tr>\n",
       "    <tr>\n",
       "      <td>9993</td>\n",
       "      <td>CA-2017-119914</td>\n",
       "      <td>2021-05-04</td>\n",
       "      <td>2021-05-09 00:00:00</td>\n",
       "      <td>Second Class</td>\n",
       "      <td>CC-12220</td>\n",
       "      <td>OFF-AP-10002684</td>\n",
       "      <td>243.16</td>\n",
       "      <td>2</td>\n",
       "    </tr>\n",
       "  </tbody>\n",
       "</table>\n",
       "<p>9990 rows × 8 columns</p>\n",
       "</div>"
      ],
      "text/plain": [
       "           ID Pedido Fecha compra         Fecha envío      Modo envío  \\\n",
       "0     CA-2016-152156   2020-11-08 2020-11-11 05:00:00    Second Class   \n",
       "1     CA-2016-152156   2020-11-08 2020-11-11 00:00:00    Second Class   \n",
       "2     CA-2016-138688   2020-06-12 2020-06-16 00:00:00    Second Class   \n",
       "3     US-2015-108966   2019-10-11                 NaT  Standard Class   \n",
       "4     US-2015-108966   2019-10-11 2019-10-18 00:00:00  Standard Class   \n",
       "...              ...          ...                 ...             ...   \n",
       "9989  CA-2014-110422   2018-01-21 2018-01-23 00:00:00    Second Class   \n",
       "9990  CA-2017-121258   2021-02-26 2021-03-03 00:00:00  Standard Class   \n",
       "9991  CA-2017-121258   2021-02-26 2021-03-03 00:00:00  Standard Class   \n",
       "9992  CA-2017-121258   2021-02-26 2021-03-03 00:00:00  Standard Class   \n",
       "9993  CA-2017-119914   2021-05-04 2021-05-09 00:00:00    Second Class   \n",
       "\n",
       "     ID Cliente      ID Producto Precio unitario  Cantidad  \n",
       "0      CG-12520  FUR-BO-10001798          261.96         2  \n",
       "1      CG-12520  FUR-CH-10000454          731.94         3  \n",
       "2      DV-13045  OFF-LA-10000240           14.62         2  \n",
       "3      SO-20335  FUR-TA-10000577        957.5775         5  \n",
       "4      SO-20335  OFF-ST-10000760          22.368         2  \n",
       "...         ...              ...             ...       ...  \n",
       "9989   TB-21400  FUR-FU-10001889          25.248         3  \n",
       "9990   DB-13060  FUR-FU-10000747           91.96         2  \n",
       "9991   DB-13060  TEC-PH-10003645         258.576         2  \n",
       "9992   DB-13060  OFF-PA-10004041            29.6         4  \n",
       "9993   CC-12220  OFF-AP-10002684          243.16         2  \n",
       "\n",
       "[9990 rows x 8 columns]"
      ]
     },
     "execution_count": 35,
     "metadata": {},
     "output_type": "execute_result"
    }
   ],
   "source": [
    "df_ventas"
   ]
  },
  {
   "cell_type": "code",
   "execution_count": 36,
   "metadata": {},
   "outputs": [],
   "source": [
    "df_ventas[\"Precio unitario\"]=pd.to_numeric(df_ventas[\"Precio unitario\"])"
   ]
  },
  {
   "cell_type": "code",
   "execution_count": 37,
   "metadata": {},
   "outputs": [
    {
     "data": {
      "text/html": [
       "<div>\n",
       "<style scoped>\n",
       "    .dataframe tbody tr th:only-of-type {\n",
       "        vertical-align: middle;\n",
       "    }\n",
       "\n",
       "    .dataframe tbody tr th {\n",
       "        vertical-align: top;\n",
       "    }\n",
       "\n",
       "    .dataframe thead th {\n",
       "        text-align: right;\n",
       "    }\n",
       "</style>\n",
       "<table border=\"1\" class=\"dataframe\">\n",
       "  <thead>\n",
       "    <tr style=\"text-align: right;\">\n",
       "      <th></th>\n",
       "      <th>ID Pedido</th>\n",
       "      <th>Fecha compra</th>\n",
       "      <th>Fecha envío</th>\n",
       "      <th>Modo envío</th>\n",
       "      <th>ID Cliente</th>\n",
       "      <th>ID Producto</th>\n",
       "      <th>Precio unitario</th>\n",
       "      <th>Cantidad</th>\n",
       "    </tr>\n",
       "  </thead>\n",
       "  <tbody>\n",
       "    <tr>\n",
       "      <td>0</td>\n",
       "      <td>CA-2016-152156</td>\n",
       "      <td>2020-11-08</td>\n",
       "      <td>2020-11-11 05:00:00</td>\n",
       "      <td>Second Class</td>\n",
       "      <td>CG-12520</td>\n",
       "      <td>FUR-BO-10001798</td>\n",
       "      <td>261.9600</td>\n",
       "      <td>2</td>\n",
       "    </tr>\n",
       "    <tr>\n",
       "      <td>1</td>\n",
       "      <td>CA-2016-152156</td>\n",
       "      <td>2020-11-08</td>\n",
       "      <td>2020-11-11 00:00:00</td>\n",
       "      <td>Second Class</td>\n",
       "      <td>CG-12520</td>\n",
       "      <td>FUR-CH-10000454</td>\n",
       "      <td>731.9400</td>\n",
       "      <td>3</td>\n",
       "    </tr>\n",
       "    <tr>\n",
       "      <td>2</td>\n",
       "      <td>CA-2016-138688</td>\n",
       "      <td>2020-06-12</td>\n",
       "      <td>2020-06-16 00:00:00</td>\n",
       "      <td>Second Class</td>\n",
       "      <td>DV-13045</td>\n",
       "      <td>OFF-LA-10000240</td>\n",
       "      <td>14.6200</td>\n",
       "      <td>2</td>\n",
       "    </tr>\n",
       "    <tr>\n",
       "      <td>3</td>\n",
       "      <td>US-2015-108966</td>\n",
       "      <td>2019-10-11</td>\n",
       "      <td>NaT</td>\n",
       "      <td>Standard Class</td>\n",
       "      <td>SO-20335</td>\n",
       "      <td>FUR-TA-10000577</td>\n",
       "      <td>957.5775</td>\n",
       "      <td>5</td>\n",
       "    </tr>\n",
       "    <tr>\n",
       "      <td>4</td>\n",
       "      <td>US-2015-108966</td>\n",
       "      <td>2019-10-11</td>\n",
       "      <td>2019-10-18 00:00:00</td>\n",
       "      <td>Standard Class</td>\n",
       "      <td>SO-20335</td>\n",
       "      <td>OFF-ST-10000760</td>\n",
       "      <td>22.3680</td>\n",
       "      <td>2</td>\n",
       "    </tr>\n",
       "    <tr>\n",
       "      <td>...</td>\n",
       "      <td>...</td>\n",
       "      <td>...</td>\n",
       "      <td>...</td>\n",
       "      <td>...</td>\n",
       "      <td>...</td>\n",
       "      <td>...</td>\n",
       "      <td>...</td>\n",
       "      <td>...</td>\n",
       "    </tr>\n",
       "    <tr>\n",
       "      <td>9989</td>\n",
       "      <td>CA-2014-110422</td>\n",
       "      <td>2018-01-21</td>\n",
       "      <td>2018-01-23 00:00:00</td>\n",
       "      <td>Second Class</td>\n",
       "      <td>TB-21400</td>\n",
       "      <td>FUR-FU-10001889</td>\n",
       "      <td>25.2480</td>\n",
       "      <td>3</td>\n",
       "    </tr>\n",
       "    <tr>\n",
       "      <td>9990</td>\n",
       "      <td>CA-2017-121258</td>\n",
       "      <td>2021-02-26</td>\n",
       "      <td>2021-03-03 00:00:00</td>\n",
       "      <td>Standard Class</td>\n",
       "      <td>DB-13060</td>\n",
       "      <td>FUR-FU-10000747</td>\n",
       "      <td>91.9600</td>\n",
       "      <td>2</td>\n",
       "    </tr>\n",
       "    <tr>\n",
       "      <td>9991</td>\n",
       "      <td>CA-2017-121258</td>\n",
       "      <td>2021-02-26</td>\n",
       "      <td>2021-03-03 00:00:00</td>\n",
       "      <td>Standard Class</td>\n",
       "      <td>DB-13060</td>\n",
       "      <td>TEC-PH-10003645</td>\n",
       "      <td>258.5760</td>\n",
       "      <td>2</td>\n",
       "    </tr>\n",
       "    <tr>\n",
       "      <td>9992</td>\n",
       "      <td>CA-2017-121258</td>\n",
       "      <td>2021-02-26</td>\n",
       "      <td>2021-03-03 00:00:00</td>\n",
       "      <td>Standard Class</td>\n",
       "      <td>DB-13060</td>\n",
       "      <td>OFF-PA-10004041</td>\n",
       "      <td>29.6000</td>\n",
       "      <td>4</td>\n",
       "    </tr>\n",
       "    <tr>\n",
       "      <td>9993</td>\n",
       "      <td>CA-2017-119914</td>\n",
       "      <td>2021-05-04</td>\n",
       "      <td>2021-05-09 00:00:00</td>\n",
       "      <td>Second Class</td>\n",
       "      <td>CC-12220</td>\n",
       "      <td>OFF-AP-10002684</td>\n",
       "      <td>243.1600</td>\n",
       "      <td>2</td>\n",
       "    </tr>\n",
       "  </tbody>\n",
       "</table>\n",
       "<p>9990 rows × 8 columns</p>\n",
       "</div>"
      ],
      "text/plain": [
       "           ID Pedido Fecha compra         Fecha envío      Modo envío  \\\n",
       "0     CA-2016-152156   2020-11-08 2020-11-11 05:00:00    Second Class   \n",
       "1     CA-2016-152156   2020-11-08 2020-11-11 00:00:00    Second Class   \n",
       "2     CA-2016-138688   2020-06-12 2020-06-16 00:00:00    Second Class   \n",
       "3     US-2015-108966   2019-10-11                 NaT  Standard Class   \n",
       "4     US-2015-108966   2019-10-11 2019-10-18 00:00:00  Standard Class   \n",
       "...              ...          ...                 ...             ...   \n",
       "9989  CA-2014-110422   2018-01-21 2018-01-23 00:00:00    Second Class   \n",
       "9990  CA-2017-121258   2021-02-26 2021-03-03 00:00:00  Standard Class   \n",
       "9991  CA-2017-121258   2021-02-26 2021-03-03 00:00:00  Standard Class   \n",
       "9992  CA-2017-121258   2021-02-26 2021-03-03 00:00:00  Standard Class   \n",
       "9993  CA-2017-119914   2021-05-04 2021-05-09 00:00:00    Second Class   \n",
       "\n",
       "     ID Cliente      ID Producto  Precio unitario  Cantidad  \n",
       "0      CG-12520  FUR-BO-10001798         261.9600         2  \n",
       "1      CG-12520  FUR-CH-10000454         731.9400         3  \n",
       "2      DV-13045  OFF-LA-10000240          14.6200         2  \n",
       "3      SO-20335  FUR-TA-10000577         957.5775         5  \n",
       "4      SO-20335  OFF-ST-10000760          22.3680         2  \n",
       "...         ...              ...              ...       ...  \n",
       "9989   TB-21400  FUR-FU-10001889          25.2480         3  \n",
       "9990   DB-13060  FUR-FU-10000747          91.9600         2  \n",
       "9991   DB-13060  TEC-PH-10003645         258.5760         2  \n",
       "9992   DB-13060  OFF-PA-10004041          29.6000         4  \n",
       "9993   CC-12220  OFF-AP-10002684         243.1600         2  \n",
       "\n",
       "[9990 rows x 8 columns]"
      ]
     },
     "execution_count": 37,
     "metadata": {},
     "output_type": "execute_result"
    }
   ],
   "source": [
    "df_ventas"
   ]
  },
  {
   "cell_type": "code",
   "execution_count": 38,
   "metadata": {},
   "outputs": [
    {
     "name": "stdout",
     "output_type": "stream",
     "text": [
      "<class 'pandas.core.frame.DataFrame'>\n",
      "Int64Index: 1863 entries, 0 to 1862\n",
      "Data columns (total 5 columns):\n",
      "ID Producto         1863 non-null object\n",
      "Categoría           1863 non-null object\n",
      "Sub-categoría       1863 non-null object\n",
      "Nombre Producto     1862 non-null object\n",
      "Coste Producción    1861 non-null float64\n",
      "dtypes: float64(1), object(4)\n",
      "memory usage: 87.3+ KB\n"
     ]
    }
   ],
   "source": [
    "df_productos.info()"
   ]
  },
  {
   "cell_type": "code",
   "execution_count": 39,
   "metadata": {},
   "outputs": [
    {
     "name": "stdout",
     "output_type": "stream",
     "text": [
      "<class 'pandas.core.frame.DataFrame'>\n",
      "Int64Index: 793 entries, 0 to 792\n",
      "Data columns (total 8 columns):\n",
      "ID Cliente        793 non-null object\n",
      "Nombre cliente    793 non-null object\n",
      "Segmento          793 non-null object\n",
      "País              793 non-null object\n",
      "Ciudad            338 non-null object\n",
      "Estado            338 non-null object\n",
      "Código Postal     338 non-null float64\n",
      "Región            338 non-null object\n",
      "dtypes: float64(1), object(7)\n",
      "memory usage: 55.8+ KB\n"
     ]
    }
   ],
   "source": [
    "df_clientes.info()"
   ]
  },
  {
   "cell_type": "code",
   "execution_count": 14,
   "metadata": {},
   "outputs": [
    {
     "data": {
      "text/html": [
       "<div>\n",
       "<style scoped>\n",
       "    .dataframe tbody tr th:only-of-type {\n",
       "        vertical-align: middle;\n",
       "    }\n",
       "\n",
       "    .dataframe tbody tr th {\n",
       "        vertical-align: top;\n",
       "    }\n",
       "\n",
       "    .dataframe thead th {\n",
       "        text-align: right;\n",
       "    }\n",
       "</style>\n",
       "<table border=\"1\" class=\"dataframe\">\n",
       "  <thead>\n",
       "    <tr style=\"text-align: right;\">\n",
       "      <th></th>\n",
       "      <th>#</th>\n",
       "      <th>Country</th>\n",
       "      <th>GDP (nominal, 2017)</th>\n",
       "      <th>GDP (abbrev.)</th>\n",
       "      <th>GDP growth</th>\n",
       "      <th>Population (2017)</th>\n",
       "      <th>GDP per capita</th>\n",
       "      <th>Share of World GDP</th>\n",
       "    </tr>\n",
       "  </thead>\n",
       "  <tbody>\n",
       "    <tr>\n",
       "      <th>0</th>\n",
       "      <td>1</td>\n",
       "      <td>United States</td>\n",
       "      <td>$19,485,394,000,000</td>\n",
       "      <td>$19.485 trillion</td>\n",
       "      <td>2.27%</td>\n",
       "      <td>325084756</td>\n",
       "      <td>$59,939</td>\n",
       "      <td>24.08%</td>\n",
       "    </tr>\n",
       "    <tr>\n",
       "      <th>1</th>\n",
       "      <td>2</td>\n",
       "      <td>China</td>\n",
       "      <td>$12,237,700,479,375</td>\n",
       "      <td>$12.238 trillion</td>\n",
       "      <td>6.90%</td>\n",
       "      <td>1421021791</td>\n",
       "      <td>$8,612</td>\n",
       "      <td>15.12%</td>\n",
       "    </tr>\n",
       "    <tr>\n",
       "      <th>2</th>\n",
       "      <td>3</td>\n",
       "      <td>Japan</td>\n",
       "      <td>$4,872,415,104,315</td>\n",
       "      <td>$4.872 trillion</td>\n",
       "      <td>1.71%</td>\n",
       "      <td>127502725</td>\n",
       "      <td>$38,214</td>\n",
       "      <td>6.02%</td>\n",
       "    </tr>\n",
       "    <tr>\n",
       "      <th>3</th>\n",
       "      <td>4</td>\n",
       "      <td>Germany</td>\n",
       "      <td>$3,693,204,332,230</td>\n",
       "      <td>$3.693 trillion</td>\n",
       "      <td>2.22%</td>\n",
       "      <td>82658409</td>\n",
       "      <td>$44,680</td>\n",
       "      <td>4.56%</td>\n",
       "    </tr>\n",
       "    <tr>\n",
       "      <th>4</th>\n",
       "      <td>5</td>\n",
       "      <td>India</td>\n",
       "      <td>$2,650,725,335,364</td>\n",
       "      <td>$2.651 trillion</td>\n",
       "      <td>6.68%</td>\n",
       "      <td>1338676785</td>\n",
       "      <td>$1,980</td>\n",
       "      <td>3.28%</td>\n",
       "    </tr>\n",
       "  </tbody>\n",
       "</table>\n",
       "</div>"
      ],
      "text/plain": [
       "   #        Country  GDP (nominal, 2017)     GDP (abbrev.) GDP growth  \\\n",
       "0  1  United States  $19,485,394,000,000  $19.485 trillion      2.27%   \n",
       "1  2          China  $12,237,700,479,375  $12.238 trillion      6.90%   \n",
       "2  3          Japan   $4,872,415,104,315   $4.872 trillion      1.71%   \n",
       "3  4        Germany   $3,693,204,332,230   $3.693 trillion      2.22%   \n",
       "4  5          India   $2,650,725,335,364   $2.651 trillion      6.68%   \n",
       "\n",
       "   Population (2017) GDP per capita Share of World GDP  \n",
       "0          325084756        $59,939             24.08%  \n",
       "1         1421021791         $8,612             15.12%  \n",
       "2          127502725        $38,214              6.02%  \n",
       "3           82658409        $44,680              4.56%  \n",
       "4         1338676785         $1,980              3.28%  "
      ]
     },
     "execution_count": 14,
     "metadata": {},
     "output_type": "execute_result"
    }
   ],
   "source": [
    "df_pob_pib.head()"
   ]
  },
  {
   "cell_type": "code",
   "execution_count": 15,
   "metadata": {},
   "outputs": [
    {
     "name": "stdout",
     "output_type": "stream",
     "text": [
      "<class 'pandas.core.frame.DataFrame'>\n",
      "RangeIndex: 190 entries, 0 to 189\n",
      "Data columns (total 8 columns):\n",
      " #   Column               Non-Null Count  Dtype \n",
      "---  ------               --------------  ----- \n",
      " 0   #                    190 non-null    int64 \n",
      " 1   Country              190 non-null    object\n",
      " 2   GDP (nominal, 2017)  190 non-null    object\n",
      " 3   GDP (abbrev.)        190 non-null    object\n",
      " 4   GDP growth           190 non-null    object\n",
      " 5   Population (2017)    190 non-null    int64 \n",
      " 6   GDP per capita       190 non-null    object\n",
      " 7   Share of World GDP   190 non-null    object\n",
      "dtypes: int64(2), object(6)\n",
      "memory usage: 12.0+ KB\n"
     ]
    }
   ],
   "source": [
    "df_pob_pib.info()"
   ]
  },
  {
   "cell_type": "code",
   "execution_count": 16,
   "metadata": {},
   "outputs": [],
   "source": [
    "df_pob_pib.rename(columns={\"GDP (nominal, 2017)\":\"PIB\",\"Population (2017)\":\"Población\"},inplace=True)"
   ]
  },
  {
   "cell_type": "code",
   "execution_count": 17,
   "metadata": {},
   "outputs": [
    {
     "data": {
      "text/html": [
       "<div>\n",
       "<style scoped>\n",
       "    .dataframe tbody tr th:only-of-type {\n",
       "        vertical-align: middle;\n",
       "    }\n",
       "\n",
       "    .dataframe tbody tr th {\n",
       "        vertical-align: top;\n",
       "    }\n",
       "\n",
       "    .dataframe thead th {\n",
       "        text-align: right;\n",
       "    }\n",
       "</style>\n",
       "<table border=\"1\" class=\"dataframe\">\n",
       "  <thead>\n",
       "    <tr style=\"text-align: right;\">\n",
       "      <th></th>\n",
       "      <th>#</th>\n",
       "      <th>Country</th>\n",
       "      <th>PIB</th>\n",
       "      <th>GDP (abbrev.)</th>\n",
       "      <th>GDP growth</th>\n",
       "      <th>Población</th>\n",
       "      <th>GDP per capita</th>\n",
       "      <th>Share of World GDP</th>\n",
       "    </tr>\n",
       "  </thead>\n",
       "  <tbody>\n",
       "    <tr>\n",
       "      <th>0</th>\n",
       "      <td>1</td>\n",
       "      <td>United States</td>\n",
       "      <td>$19,485,394,000,000</td>\n",
       "      <td>$19.485 trillion</td>\n",
       "      <td>2.27%</td>\n",
       "      <td>325084756</td>\n",
       "      <td>$59,939</td>\n",
       "      <td>24.08%</td>\n",
       "    </tr>\n",
       "    <tr>\n",
       "      <th>1</th>\n",
       "      <td>2</td>\n",
       "      <td>China</td>\n",
       "      <td>$12,237,700,479,375</td>\n",
       "      <td>$12.238 trillion</td>\n",
       "      <td>6.90%</td>\n",
       "      <td>1421021791</td>\n",
       "      <td>$8,612</td>\n",
       "      <td>15.12%</td>\n",
       "    </tr>\n",
       "    <tr>\n",
       "      <th>2</th>\n",
       "      <td>3</td>\n",
       "      <td>Japan</td>\n",
       "      <td>$4,872,415,104,315</td>\n",
       "      <td>$4.872 trillion</td>\n",
       "      <td>1.71%</td>\n",
       "      <td>127502725</td>\n",
       "      <td>$38,214</td>\n",
       "      <td>6.02%</td>\n",
       "    </tr>\n",
       "    <tr>\n",
       "      <th>3</th>\n",
       "      <td>4</td>\n",
       "      <td>Germany</td>\n",
       "      <td>$3,693,204,332,230</td>\n",
       "      <td>$3.693 trillion</td>\n",
       "      <td>2.22%</td>\n",
       "      <td>82658409</td>\n",
       "      <td>$44,680</td>\n",
       "      <td>4.56%</td>\n",
       "    </tr>\n",
       "    <tr>\n",
       "      <th>4</th>\n",
       "      <td>5</td>\n",
       "      <td>India</td>\n",
       "      <td>$2,650,725,335,364</td>\n",
       "      <td>$2.651 trillion</td>\n",
       "      <td>6.68%</td>\n",
       "      <td>1338676785</td>\n",
       "      <td>$1,980</td>\n",
       "      <td>3.28%</td>\n",
       "    </tr>\n",
       "  </tbody>\n",
       "</table>\n",
       "</div>"
      ],
      "text/plain": [
       "   #        Country                  PIB     GDP (abbrev.) GDP growth  \\\n",
       "0  1  United States  $19,485,394,000,000  $19.485 trillion      2.27%   \n",
       "1  2          China  $12,237,700,479,375  $12.238 trillion      6.90%   \n",
       "2  3          Japan   $4,872,415,104,315   $4.872 trillion      1.71%   \n",
       "3  4        Germany   $3,693,204,332,230   $3.693 trillion      2.22%   \n",
       "4  5          India   $2,650,725,335,364   $2.651 trillion      6.68%   \n",
       "\n",
       "    Población GDP per capita Share of World GDP  \n",
       "0   325084756        $59,939             24.08%  \n",
       "1  1421021791         $8,612             15.12%  \n",
       "2   127502725        $38,214              6.02%  \n",
       "3    82658409        $44,680              4.56%  \n",
       "4  1338676785         $1,980              3.28%  "
      ]
     },
     "execution_count": 17,
     "metadata": {},
     "output_type": "execute_result"
    }
   ],
   "source": [
    "df_pob_pib.head()"
   ]
  },
  {
   "cell_type": "code",
   "execution_count": 18,
   "metadata": {},
   "outputs": [],
   "source": [
    "df_pob_pib[\"PIB\"]=df_pob_pib[\"PIB\"].str.replace(\"$\",\"\")\n",
    "df_pob_pib[\"PIB\"]=df_pob_pib[\"PIB\"].str.replace(\",\",\"\")"
   ]
  },
  {
   "cell_type": "code",
   "execution_count": 19,
   "metadata": {},
   "outputs": [
    {
     "data": {
      "text/html": [
       "<div>\n",
       "<style scoped>\n",
       "    .dataframe tbody tr th:only-of-type {\n",
       "        vertical-align: middle;\n",
       "    }\n",
       "\n",
       "    .dataframe tbody tr th {\n",
       "        vertical-align: top;\n",
       "    }\n",
       "\n",
       "    .dataframe thead th {\n",
       "        text-align: right;\n",
       "    }\n",
       "</style>\n",
       "<table border=\"1\" class=\"dataframe\">\n",
       "  <thead>\n",
       "    <tr style=\"text-align: right;\">\n",
       "      <th></th>\n",
       "      <th>#</th>\n",
       "      <th>Country</th>\n",
       "      <th>PIB</th>\n",
       "      <th>GDP (abbrev.)</th>\n",
       "      <th>GDP growth</th>\n",
       "      <th>Población</th>\n",
       "      <th>GDP per capita</th>\n",
       "      <th>Share of World GDP</th>\n",
       "    </tr>\n",
       "  </thead>\n",
       "  <tbody>\n",
       "    <tr>\n",
       "      <th>0</th>\n",
       "      <td>1</td>\n",
       "      <td>United States</td>\n",
       "      <td>19485394000000</td>\n",
       "      <td>$19.485 trillion</td>\n",
       "      <td>2.27%</td>\n",
       "      <td>325084756</td>\n",
       "      <td>$59,939</td>\n",
       "      <td>24.08%</td>\n",
       "    </tr>\n",
       "    <tr>\n",
       "      <th>1</th>\n",
       "      <td>2</td>\n",
       "      <td>China</td>\n",
       "      <td>12237700479375</td>\n",
       "      <td>$12.238 trillion</td>\n",
       "      <td>6.90%</td>\n",
       "      <td>1421021791</td>\n",
       "      <td>$8,612</td>\n",
       "      <td>15.12%</td>\n",
       "    </tr>\n",
       "    <tr>\n",
       "      <th>2</th>\n",
       "      <td>3</td>\n",
       "      <td>Japan</td>\n",
       "      <td>4872415104315</td>\n",
       "      <td>$4.872 trillion</td>\n",
       "      <td>1.71%</td>\n",
       "      <td>127502725</td>\n",
       "      <td>$38,214</td>\n",
       "      <td>6.02%</td>\n",
       "    </tr>\n",
       "    <tr>\n",
       "      <th>3</th>\n",
       "      <td>4</td>\n",
       "      <td>Germany</td>\n",
       "      <td>3693204332230</td>\n",
       "      <td>$3.693 trillion</td>\n",
       "      <td>2.22%</td>\n",
       "      <td>82658409</td>\n",
       "      <td>$44,680</td>\n",
       "      <td>4.56%</td>\n",
       "    </tr>\n",
       "    <tr>\n",
       "      <th>4</th>\n",
       "      <td>5</td>\n",
       "      <td>India</td>\n",
       "      <td>2650725335364</td>\n",
       "      <td>$2.651 trillion</td>\n",
       "      <td>6.68%</td>\n",
       "      <td>1338676785</td>\n",
       "      <td>$1,980</td>\n",
       "      <td>3.28%</td>\n",
       "    </tr>\n",
       "  </tbody>\n",
       "</table>\n",
       "</div>"
      ],
      "text/plain": [
       "   #        Country             PIB     GDP (abbrev.) GDP growth   Población  \\\n",
       "0  1  United States  19485394000000  $19.485 trillion      2.27%   325084756   \n",
       "1  2          China  12237700479375  $12.238 trillion      6.90%  1421021791   \n",
       "2  3          Japan   4872415104315   $4.872 trillion      1.71%   127502725   \n",
       "3  4        Germany   3693204332230   $3.693 trillion      2.22%    82658409   \n",
       "4  5          India   2650725335364   $2.651 trillion      6.68%  1338676785   \n",
       "\n",
       "  GDP per capita Share of World GDP  \n",
       "0        $59,939             24.08%  \n",
       "1         $8,612             15.12%  \n",
       "2        $38,214              6.02%  \n",
       "3        $44,680              4.56%  \n",
       "4         $1,980              3.28%  "
      ]
     },
     "execution_count": 19,
     "metadata": {},
     "output_type": "execute_result"
    }
   ],
   "source": [
    "df_pob_pib.head()"
   ]
  },
  {
   "cell_type": "code",
   "execution_count": 46,
   "metadata": {},
   "outputs": [],
   "source": [
    "df_pob_pib[\"PIB\"]=pd.to_numeric(df_pob_pib[\"PIB\"])"
   ]
  },
  {
   "cell_type": "code",
   "execution_count": 47,
   "metadata": {},
   "outputs": [
    {
     "name": "stdout",
     "output_type": "stream",
     "text": [
      "<class 'pandas.core.frame.DataFrame'>\n",
      "Int64Index: 189 entries, 0 to 188\n",
      "Data columns (total 8 columns):\n",
      "#                     189 non-null int64\n",
      "Country               189 non-null object\n",
      "PIB                   189 non-null int64\n",
      "GDP (abbrev.)         189 non-null object\n",
      "GDP growth            189 non-null object\n",
      "Población             189 non-null int64\n",
      "GDP per capita        189 non-null object\n",
      "Share of World GDP    189 non-null object\n",
      "dtypes: int64(3), object(5)\n",
      "memory usage: 13.3+ KB\n"
     ]
    }
   ],
   "source": [
    "df_pob_pib.info()"
   ]
  },
  {
   "cell_type": "code",
   "execution_count": 14,
   "metadata": {},
   "outputs": [
    {
     "data": {
      "text/html": [
       "<div>\n",
       "<style scoped>\n",
       "    .dataframe tbody tr th:only-of-type {\n",
       "        vertical-align: middle;\n",
       "    }\n",
       "\n",
       "    .dataframe tbody tr th {\n",
       "        vertical-align: top;\n",
       "    }\n",
       "\n",
       "    .dataframe thead th {\n",
       "        text-align: right;\n",
       "    }\n",
       "</style>\n",
       "<table border=\"1\" class=\"dataframe\">\n",
       "  <thead>\n",
       "    <tr style=\"text-align: right;\">\n",
       "      <th></th>\n",
       "      <th>Country</th>\n",
       "      <th>Average monthly wage (PPP)</th>\n",
       "    </tr>\n",
       "  </thead>\n",
       "  <tbody>\n",
       "    <tr>\n",
       "      <th>0</th>\n",
       "      <td>Luxembourg *</td>\n",
       "      <td>$5,265</td>\n",
       "    </tr>\n",
       "    <tr>\n",
       "      <th>1</th>\n",
       "      <td>Switzerland *</td>\n",
       "      <td>$5,117</td>\n",
       "    </tr>\n",
       "    <tr>\n",
       "      <th>2</th>\n",
       "      <td>United States *</td>\n",
       "      <td>$5,046</td>\n",
       "    </tr>\n",
       "    <tr>\n",
       "      <th>3</th>\n",
       "      <td>Norway *</td>\n",
       "      <td>$4,317</td>\n",
       "    </tr>\n",
       "    <tr>\n",
       "      <th>4</th>\n",
       "      <td>Denmark *</td>\n",
       "      <td>$4,288</td>\n",
       "    </tr>\n",
       "  </tbody>\n",
       "</table>\n",
       "</div>"
      ],
      "text/plain": [
       "           Country Average monthly wage (PPP)\n",
       "0     Luxembourg *                     $5,265\n",
       "1    Switzerland *                     $5,117\n",
       "2  United States *                     $5,046\n",
       "3         Norway *                     $4,317\n",
       "4        Denmark *                     $4,288"
      ]
     },
     "execution_count": 14,
     "metadata": {},
     "output_type": "execute_result"
    }
   ],
   "source": [
    "df_rpc.head()"
   ]
  },
  {
   "cell_type": "code",
   "execution_count": 49,
   "metadata": {},
   "outputs": [
    {
     "name": "stdout",
     "output_type": "stream",
     "text": [
      "<class 'pandas.core.frame.DataFrame'>\n",
      "Int64Index: 36 entries, 0 to 35\n",
      "Data columns (total 2 columns):\n",
      "Country               36 non-null object\n",
      "Averagemonthlywage    36 non-null object\n",
      "dtypes: object(2)\n",
      "memory usage: 864.0+ bytes\n"
     ]
    }
   ],
   "source": [
    "df_rpc.info()"
   ]
  },
  {
   "cell_type": "code",
   "execution_count": 16,
   "metadata": {},
   "outputs": [],
   "source": [
    "df_rpc[\"Average monthly wage (PPP)\"]=df_rpc[\"Average monthly wage (PPP)\"].str.replace(\"$\",\"\")\n",
    "df_rpc[\"Average monthly wage (PPP)\"]=df_rpc[\"Average monthly wage (PPP)\"].str.replace(\",\",\"\")\n",
    "df_rpc[\"Average monthly wage (PPP)\"]=pd.to_numeric(df_rpc[\"Average monthly wage (PPP)\"])"
   ]
  },
  {
   "cell_type": "code",
   "execution_count": 20,
   "metadata": {},
   "outputs": [
    {
     "data": {
      "text/html": [
       "<div>\n",
       "<style scoped>\n",
       "    .dataframe tbody tr th:only-of-type {\n",
       "        vertical-align: middle;\n",
       "    }\n",
       "\n",
       "    .dataframe tbody tr th {\n",
       "        vertical-align: top;\n",
       "    }\n",
       "\n",
       "    .dataframe thead th {\n",
       "        text-align: right;\n",
       "    }\n",
       "</style>\n",
       "<table border=\"1\" class=\"dataframe\">\n",
       "  <thead>\n",
       "    <tr style=\"text-align: right;\">\n",
       "      <th></th>\n",
       "      <th>Country</th>\n",
       "      <th>Average monthly wage (PPP)</th>\n",
       "    </tr>\n",
       "  </thead>\n",
       "  <tbody>\n",
       "    <tr>\n",
       "      <th>0</th>\n",
       "      <td>Luxembourg</td>\n",
       "      <td>5265</td>\n",
       "    </tr>\n",
       "    <tr>\n",
       "      <th>1</th>\n",
       "      <td>Switzerland</td>\n",
       "      <td>5117</td>\n",
       "    </tr>\n",
       "    <tr>\n",
       "      <th>2</th>\n",
       "      <td>United States</td>\n",
       "      <td>5046</td>\n",
       "    </tr>\n",
       "    <tr>\n",
       "      <th>3</th>\n",
       "      <td>Norway</td>\n",
       "      <td>4317</td>\n",
       "    </tr>\n",
       "    <tr>\n",
       "      <th>4</th>\n",
       "      <td>Denmark</td>\n",
       "      <td>4288</td>\n",
       "    </tr>\n",
       "  </tbody>\n",
       "</table>\n",
       "</div>"
      ],
      "text/plain": [
       "          Country  Average monthly wage (PPP)\n",
       "0     Luxembourg                         5265\n",
       "1    Switzerland                         5117\n",
       "2  United States                         5046\n",
       "3         Norway                         4317\n",
       "4        Denmark                         4288"
      ]
     },
     "execution_count": 20,
     "metadata": {},
     "output_type": "execute_result"
    }
   ],
   "source": [
    "df_rpc.head()"
   ]
  },
  {
   "cell_type": "code",
   "execution_count": 19,
   "metadata": {},
   "outputs": [],
   "source": [
    "df_rpc[\"Country\"]=df_rpc[\"Country\"].str.replace(\"*\",\"\")"
   ]
  },
  {
   "cell_type": "code",
   "execution_count": 52,
   "metadata": {},
   "outputs": [
    {
     "name": "stdout",
     "output_type": "stream",
     "text": [
      "<class 'pandas.core.frame.DataFrame'>\n",
      "Int64Index: 36 entries, 0 to 35\n",
      "Data columns (total 2 columns):\n",
      "Country               36 non-null object\n",
      "Averagemonthlywage    36 non-null int64\n",
      "dtypes: int64(1), object(1)\n",
      "memory usage: 864.0+ bytes\n"
     ]
    }
   ],
   "source": [
    "df_rpc.info()"
   ]
  },
  {
   "cell_type": "markdown",
   "metadata": {},
   "source": [
    "# PASO 3: LIMPIEZA ESTADÍSTICA"
   ]
  },
  {
   "cell_type": "markdown",
   "metadata": {},
   "source": [
    "# PREGUNTA 6/7: ¿Cuál es la mediana del importe de nuestras ventas? / ¿Qué cantidad de unidades de productos no se superan en el 75% de los pedidos de sus clientes?"
   ]
  },
  {
   "cell_type": "code",
   "execution_count": 53,
   "metadata": {},
   "outputs": [],
   "source": [
    "df_ventas[\"Importe\"]=df_ventas[\"Precio unitario\"]*df_ventas[\"Cantidad\"]"
   ]
  },
  {
   "cell_type": "code",
   "execution_count": 54,
   "metadata": {},
   "outputs": [
    {
     "data": {
      "text/html": [
       "<div>\n",
       "<style scoped>\n",
       "    .dataframe tbody tr th:only-of-type {\n",
       "        vertical-align: middle;\n",
       "    }\n",
       "\n",
       "    .dataframe tbody tr th {\n",
       "        vertical-align: top;\n",
       "    }\n",
       "\n",
       "    .dataframe thead th {\n",
       "        text-align: right;\n",
       "    }\n",
       "</style>\n",
       "<table border=\"1\" class=\"dataframe\">\n",
       "  <thead>\n",
       "    <tr style=\"text-align: right;\">\n",
       "      <th></th>\n",
       "      <th>Precio unitario</th>\n",
       "      <th>Cantidad</th>\n",
       "      <th>Importe</th>\n",
       "    </tr>\n",
       "  </thead>\n",
       "  <tbody>\n",
       "    <tr>\n",
       "      <td>count</td>\n",
       "      <td>9990.000000</td>\n",
       "      <td>9990.000000</td>\n",
       "      <td>9990.000000</td>\n",
       "    </tr>\n",
       "    <tr>\n",
       "      <td>mean</td>\n",
       "      <td>229.834970</td>\n",
       "      <td>3.843544</td>\n",
       "      <td>1173.072101</td>\n",
       "    </tr>\n",
       "    <tr>\n",
       "      <td>std</td>\n",
       "      <td>623.352233</td>\n",
       "      <td>2.660570</td>\n",
       "      <td>4023.827740</td>\n",
       "    </tr>\n",
       "    <tr>\n",
       "      <td>min</td>\n",
       "      <td>0.000000</td>\n",
       "      <td>1.000000</td>\n",
       "      <td>0.000000</td>\n",
       "    </tr>\n",
       "    <tr>\n",
       "      <td>25%</td>\n",
       "      <td>17.248000</td>\n",
       "      <td>2.000000</td>\n",
       "      <td>48.622500</td>\n",
       "    </tr>\n",
       "    <tr>\n",
       "      <td>50%</td>\n",
       "      <td>54.384000</td>\n",
       "      <td>3.000000</td>\n",
       "      <td>183.504000</td>\n",
       "    </tr>\n",
       "    <tr>\n",
       "      <td>75%</td>\n",
       "      <td>209.937500</td>\n",
       "      <td>5.000000</td>\n",
       "      <td>765.310875</td>\n",
       "    </tr>\n",
       "    <tr>\n",
       "      <td>max</td>\n",
       "      <td>22638.480000</td>\n",
       "      <td>40.000000</td>\n",
       "      <td>135830.880000</td>\n",
       "    </tr>\n",
       "  </tbody>\n",
       "</table>\n",
       "</div>"
      ],
      "text/plain": [
       "       Precio unitario     Cantidad        Importe\n",
       "count      9990.000000  9990.000000    9990.000000\n",
       "mean        229.834970     3.843544    1173.072101\n",
       "std         623.352233     2.660570    4023.827740\n",
       "min           0.000000     1.000000       0.000000\n",
       "25%          17.248000     2.000000      48.622500\n",
       "50%          54.384000     3.000000     183.504000\n",
       "75%         209.937500     5.000000     765.310875\n",
       "max       22638.480000    40.000000  135830.880000"
      ]
     },
     "execution_count": 54,
     "metadata": {},
     "output_type": "execute_result"
    }
   ],
   "source": [
    "df_ventas.describe()"
   ]
  },
  {
   "cell_type": "markdown",
   "metadata": {},
   "source": [
    "# PREGUNTA 8: ¿Cuántos pedidos se han realizado con un número de unidades mayor que 13?"
   ]
  },
  {
   "cell_type": "code",
   "execution_count": 55,
   "metadata": {},
   "outputs": [
    {
     "data": {
      "text/plain": [
       "ID Pedido          29\n",
       "Fecha compra       29\n",
       "Fecha envío        29\n",
       "Modo envío         29\n",
       "ID Cliente         29\n",
       "ID Producto        29\n",
       "Precio unitario    29\n",
       "Cantidad           29\n",
       "Importe            29\n",
       "dtype: int64"
      ]
     },
     "execution_count": 55,
     "metadata": {},
     "output_type": "execute_result"
    }
   ],
   "source": [
    "df_ventas[df_ventas[\"Cantidad\"]>13].count()"
   ]
  },
  {
   "cell_type": "markdown",
   "metadata": {},
   "source": [
    "# PREGUNTA 9: Descartar los registros con unidades > 13. ¿Cuáles son las nuevas dimensiones del dataframe?"
   ]
  },
  {
   "cell_type": "code",
   "execution_count": 56,
   "metadata": {},
   "outputs": [],
   "source": [
    "df_ventas=df_ventas[df_ventas[\"Cantidad\"]<=13]"
   ]
  },
  {
   "cell_type": "code",
   "execution_count": 57,
   "metadata": {},
   "outputs": [
    {
     "data": {
      "text/plain": [
       "(9961, 9)"
      ]
     },
     "execution_count": 57,
     "metadata": {},
     "output_type": "execute_result"
    }
   ],
   "source": [
    "df_ventas.shape"
   ]
  },
  {
   "cell_type": "markdown",
   "metadata": {},
   "source": [
    "# PREGUNTA 10: Completar fecha envío con la mediana de la diferencia fecha envio - fecha compra"
   ]
  },
  {
   "cell_type": "code",
   "execution_count": 58,
   "metadata": {},
   "outputs": [
    {
     "name": "stderr",
     "output_type": "stream",
     "text": [
      "C:\\Users\\ivan_pinar\\AppData\\Local\\Continuum\\anaconda3\\lib\\site-packages\\ipykernel_launcher.py:1: SettingWithCopyWarning: \n",
      "A value is trying to be set on a copy of a slice from a DataFrame.\n",
      "Try using .loc[row_indexer,col_indexer] = value instead\n",
      "\n",
      "See the caveats in the documentation: http://pandas.pydata.org/pandas-docs/stable/user_guide/indexing.html#returning-a-view-versus-a-copy\n",
      "  \"\"\"Entry point for launching an IPython kernel.\n"
     ]
    }
   ],
   "source": [
    "df_ventas[\"Dif_env_comp\"] = df_ventas[\"Fecha envío\"]-df_ventas[\"Fecha compra\"]"
   ]
  },
  {
   "cell_type": "code",
   "execution_count": 59,
   "metadata": {},
   "outputs": [
    {
     "data": {
      "text/html": [
       "<div>\n",
       "<style scoped>\n",
       "    .dataframe tbody tr th:only-of-type {\n",
       "        vertical-align: middle;\n",
       "    }\n",
       "\n",
       "    .dataframe tbody tr th {\n",
       "        vertical-align: top;\n",
       "    }\n",
       "\n",
       "    .dataframe thead th {\n",
       "        text-align: right;\n",
       "    }\n",
       "</style>\n",
       "<table border=\"1\" class=\"dataframe\">\n",
       "  <thead>\n",
       "    <tr style=\"text-align: right;\">\n",
       "      <th></th>\n",
       "      <th>ID Pedido</th>\n",
       "      <th>Fecha compra</th>\n",
       "      <th>Fecha envío</th>\n",
       "      <th>Modo envío</th>\n",
       "      <th>ID Cliente</th>\n",
       "      <th>ID Producto</th>\n",
       "      <th>Precio unitario</th>\n",
       "      <th>Cantidad</th>\n",
       "      <th>Importe</th>\n",
       "      <th>Dif_env_comp</th>\n",
       "    </tr>\n",
       "  </thead>\n",
       "  <tbody>\n",
       "    <tr>\n",
       "      <td>0</td>\n",
       "      <td>CA-2016-152156</td>\n",
       "      <td>2020-11-08</td>\n",
       "      <td>2020-11-11 05:00:00</td>\n",
       "      <td>Second Class</td>\n",
       "      <td>CG-12520</td>\n",
       "      <td>FUR-BO-10001798</td>\n",
       "      <td>261.9600</td>\n",
       "      <td>2</td>\n",
       "      <td>523.9200</td>\n",
       "      <td>3 days 05:00:00</td>\n",
       "    </tr>\n",
       "    <tr>\n",
       "      <td>1</td>\n",
       "      <td>CA-2016-152156</td>\n",
       "      <td>2020-11-08</td>\n",
       "      <td>2020-11-11 00:00:00</td>\n",
       "      <td>Second Class</td>\n",
       "      <td>CG-12520</td>\n",
       "      <td>FUR-CH-10000454</td>\n",
       "      <td>731.9400</td>\n",
       "      <td>3</td>\n",
       "      <td>2195.8200</td>\n",
       "      <td>3 days 00:00:00</td>\n",
       "    </tr>\n",
       "    <tr>\n",
       "      <td>2</td>\n",
       "      <td>CA-2016-138688</td>\n",
       "      <td>2020-06-12</td>\n",
       "      <td>2020-06-16 00:00:00</td>\n",
       "      <td>Second Class</td>\n",
       "      <td>DV-13045</td>\n",
       "      <td>OFF-LA-10000240</td>\n",
       "      <td>14.6200</td>\n",
       "      <td>2</td>\n",
       "      <td>29.2400</td>\n",
       "      <td>4 days 00:00:00</td>\n",
       "    </tr>\n",
       "    <tr>\n",
       "      <td>3</td>\n",
       "      <td>US-2015-108966</td>\n",
       "      <td>2019-10-11</td>\n",
       "      <td>NaT</td>\n",
       "      <td>Standard Class</td>\n",
       "      <td>SO-20335</td>\n",
       "      <td>FUR-TA-10000577</td>\n",
       "      <td>957.5775</td>\n",
       "      <td>5</td>\n",
       "      <td>4787.8875</td>\n",
       "      <td>NaT</td>\n",
       "    </tr>\n",
       "    <tr>\n",
       "      <td>4</td>\n",
       "      <td>US-2015-108966</td>\n",
       "      <td>2019-10-11</td>\n",
       "      <td>2019-10-18 00:00:00</td>\n",
       "      <td>Standard Class</td>\n",
       "      <td>SO-20335</td>\n",
       "      <td>OFF-ST-10000760</td>\n",
       "      <td>22.3680</td>\n",
       "      <td>2</td>\n",
       "      <td>44.7360</td>\n",
       "      <td>7 days 00:00:00</td>\n",
       "    </tr>\n",
       "  </tbody>\n",
       "</table>\n",
       "</div>"
      ],
      "text/plain": [
       "        ID Pedido Fecha compra         Fecha envío      Modo envío ID Cliente  \\\n",
       "0  CA-2016-152156   2020-11-08 2020-11-11 05:00:00    Second Class   CG-12520   \n",
       "1  CA-2016-152156   2020-11-08 2020-11-11 00:00:00    Second Class   CG-12520   \n",
       "2  CA-2016-138688   2020-06-12 2020-06-16 00:00:00    Second Class   DV-13045   \n",
       "3  US-2015-108966   2019-10-11                 NaT  Standard Class   SO-20335   \n",
       "4  US-2015-108966   2019-10-11 2019-10-18 00:00:00  Standard Class   SO-20335   \n",
       "\n",
       "       ID Producto  Precio unitario  Cantidad    Importe    Dif_env_comp  \n",
       "0  FUR-BO-10001798         261.9600         2   523.9200 3 days 05:00:00  \n",
       "1  FUR-CH-10000454         731.9400         3  2195.8200 3 days 00:00:00  \n",
       "2  OFF-LA-10000240          14.6200         2    29.2400 4 days 00:00:00  \n",
       "3  FUR-TA-10000577         957.5775         5  4787.8875             NaT  \n",
       "4  OFF-ST-10000760          22.3680         2    44.7360 7 days 00:00:00  "
      ]
     },
     "execution_count": 59,
     "metadata": {},
     "output_type": "execute_result"
    }
   ],
   "source": [
    "df_ventas.head()"
   ]
  },
  {
   "cell_type": "code",
   "execution_count": 60,
   "metadata": {},
   "outputs": [
    {
     "data": {
      "text/plain": [
       "Timedelta('4 days 00:00:00')"
      ]
     },
     "execution_count": 60,
     "metadata": {},
     "output_type": "execute_result"
    }
   ],
   "source": [
    "df_ventas[\"Dif_env_comp\"].median()"
   ]
  },
  {
   "cell_type": "code",
   "execution_count": 61,
   "metadata": {},
   "outputs": [
    {
     "name": "stderr",
     "output_type": "stream",
     "text": [
      "C:\\Users\\ivan_pinar\\AppData\\Local\\Continuum\\anaconda3\\lib\\site-packages\\pandas\\core\\generic.py:6287: SettingWithCopyWarning: \n",
      "A value is trying to be set on a copy of a slice from a DataFrame\n",
      "\n",
      "See the caveats in the documentation: http://pandas.pydata.org/pandas-docs/stable/user_guide/indexing.html#returning-a-view-versus-a-copy\n",
      "  self._update_inplace(new_data)\n"
     ]
    }
   ],
   "source": [
    "df_ventas[\"Fecha envío\"].fillna(df_ventas[\"Fecha compra\"]+df_ventas[\"Dif_env_comp\"].median(),inplace=True)"
   ]
  },
  {
   "cell_type": "code",
   "execution_count": 62,
   "metadata": {},
   "outputs": [
    {
     "data": {
      "text/html": [
       "<div>\n",
       "<style scoped>\n",
       "    .dataframe tbody tr th:only-of-type {\n",
       "        vertical-align: middle;\n",
       "    }\n",
       "\n",
       "    .dataframe tbody tr th {\n",
       "        vertical-align: top;\n",
       "    }\n",
       "\n",
       "    .dataframe thead th {\n",
       "        text-align: right;\n",
       "    }\n",
       "</style>\n",
       "<table border=\"1\" class=\"dataframe\">\n",
       "  <thead>\n",
       "    <tr style=\"text-align: right;\">\n",
       "      <th></th>\n",
       "      <th>ID Pedido</th>\n",
       "      <th>Fecha compra</th>\n",
       "      <th>Fecha envío</th>\n",
       "      <th>Modo envío</th>\n",
       "      <th>ID Cliente</th>\n",
       "      <th>ID Producto</th>\n",
       "      <th>Precio unitario</th>\n",
       "      <th>Cantidad</th>\n",
       "      <th>Importe</th>\n",
       "      <th>Dif_env_comp</th>\n",
       "    </tr>\n",
       "  </thead>\n",
       "  <tbody>\n",
       "    <tr>\n",
       "      <td>0</td>\n",
       "      <td>CA-2016-152156</td>\n",
       "      <td>2020-11-08</td>\n",
       "      <td>2020-11-11 05:00:00</td>\n",
       "      <td>Second Class</td>\n",
       "      <td>CG-12520</td>\n",
       "      <td>FUR-BO-10001798</td>\n",
       "      <td>261.9600</td>\n",
       "      <td>2</td>\n",
       "      <td>523.9200</td>\n",
       "      <td>3 days 05:00:00</td>\n",
       "    </tr>\n",
       "    <tr>\n",
       "      <td>1</td>\n",
       "      <td>CA-2016-152156</td>\n",
       "      <td>2020-11-08</td>\n",
       "      <td>2020-11-11 00:00:00</td>\n",
       "      <td>Second Class</td>\n",
       "      <td>CG-12520</td>\n",
       "      <td>FUR-CH-10000454</td>\n",
       "      <td>731.9400</td>\n",
       "      <td>3</td>\n",
       "      <td>2195.8200</td>\n",
       "      <td>3 days 00:00:00</td>\n",
       "    </tr>\n",
       "    <tr>\n",
       "      <td>2</td>\n",
       "      <td>CA-2016-138688</td>\n",
       "      <td>2020-06-12</td>\n",
       "      <td>2020-06-16 00:00:00</td>\n",
       "      <td>Second Class</td>\n",
       "      <td>DV-13045</td>\n",
       "      <td>OFF-LA-10000240</td>\n",
       "      <td>14.6200</td>\n",
       "      <td>2</td>\n",
       "      <td>29.2400</td>\n",
       "      <td>4 days 00:00:00</td>\n",
       "    </tr>\n",
       "    <tr>\n",
       "      <td>3</td>\n",
       "      <td>US-2015-108966</td>\n",
       "      <td>2019-10-11</td>\n",
       "      <td>2019-10-15 00:00:00</td>\n",
       "      <td>Standard Class</td>\n",
       "      <td>SO-20335</td>\n",
       "      <td>FUR-TA-10000577</td>\n",
       "      <td>957.5775</td>\n",
       "      <td>5</td>\n",
       "      <td>4787.8875</td>\n",
       "      <td>NaT</td>\n",
       "    </tr>\n",
       "    <tr>\n",
       "      <td>4</td>\n",
       "      <td>US-2015-108966</td>\n",
       "      <td>2019-10-11</td>\n",
       "      <td>2019-10-18 00:00:00</td>\n",
       "      <td>Standard Class</td>\n",
       "      <td>SO-20335</td>\n",
       "      <td>OFF-ST-10000760</td>\n",
       "      <td>22.3680</td>\n",
       "      <td>2</td>\n",
       "      <td>44.7360</td>\n",
       "      <td>7 days 00:00:00</td>\n",
       "    </tr>\n",
       "  </tbody>\n",
       "</table>\n",
       "</div>"
      ],
      "text/plain": [
       "        ID Pedido Fecha compra         Fecha envío      Modo envío ID Cliente  \\\n",
       "0  CA-2016-152156   2020-11-08 2020-11-11 05:00:00    Second Class   CG-12520   \n",
       "1  CA-2016-152156   2020-11-08 2020-11-11 00:00:00    Second Class   CG-12520   \n",
       "2  CA-2016-138688   2020-06-12 2020-06-16 00:00:00    Second Class   DV-13045   \n",
       "3  US-2015-108966   2019-10-11 2019-10-15 00:00:00  Standard Class   SO-20335   \n",
       "4  US-2015-108966   2019-10-11 2019-10-18 00:00:00  Standard Class   SO-20335   \n",
       "\n",
       "       ID Producto  Precio unitario  Cantidad    Importe    Dif_env_comp  \n",
       "0  FUR-BO-10001798         261.9600         2   523.9200 3 days 05:00:00  \n",
       "1  FUR-CH-10000454         731.9400         3  2195.8200 3 days 00:00:00  \n",
       "2  OFF-LA-10000240          14.6200         2    29.2400 4 days 00:00:00  \n",
       "3  FUR-TA-10000577         957.5775         5  4787.8875             NaT  \n",
       "4  OFF-ST-10000760          22.3680         2    44.7360 7 days 00:00:00  "
      ]
     },
     "execution_count": 62,
     "metadata": {},
     "output_type": "execute_result"
    }
   ],
   "source": [
    "df_ventas.head()"
   ]
  },
  {
   "cell_type": "code",
   "execution_count": 63,
   "metadata": {},
   "outputs": [
    {
     "name": "stderr",
     "output_type": "stream",
     "text": [
      "C:\\Users\\ivan_pinar\\AppData\\Local\\Continuum\\anaconda3\\lib\\site-packages\\ipykernel_launcher.py:1: SettingWithCopyWarning: \n",
      "A value is trying to be set on a copy of a slice from a DataFrame.\n",
      "Try using .loc[row_indexer,col_indexer] = value instead\n",
      "\n",
      "See the caveats in the documentation: http://pandas.pydata.org/pandas-docs/stable/user_guide/indexing.html#returning-a-view-versus-a-copy\n",
      "  \"\"\"Entry point for launching an IPython kernel.\n"
     ]
    }
   ],
   "source": [
    "df_ventas[\"Dif_env_comp\"] = df_ventas[\"Fecha envío\"]-df_ventas[\"Fecha compra\"]"
   ]
  },
  {
   "cell_type": "markdown",
   "metadata": {},
   "source": [
    "# PASO 5: ANÁLISIS DE DATOS"
   ]
  },
  {
   "cell_type": "code",
   "execution_count": 64,
   "metadata": {},
   "outputs": [],
   "source": [
    "df_global=df_ventas.merge(df_clientes, on=\"ID Cliente\",how=\"inner\").merge(df_productos, on=\"ID Producto\",how=\"inner\")"
   ]
  },
  {
   "cell_type": "code",
   "execution_count": 65,
   "metadata": {
    "scrolled": true
   },
   "outputs": [
    {
     "data": {
      "text/html": [
       "<div>\n",
       "<style scoped>\n",
       "    .dataframe tbody tr th:only-of-type {\n",
       "        vertical-align: middle;\n",
       "    }\n",
       "\n",
       "    .dataframe tbody tr th {\n",
       "        vertical-align: top;\n",
       "    }\n",
       "\n",
       "    .dataframe thead th {\n",
       "        text-align: right;\n",
       "    }\n",
       "</style>\n",
       "<table border=\"1\" class=\"dataframe\">\n",
       "  <thead>\n",
       "    <tr style=\"text-align: right;\">\n",
       "      <th></th>\n",
       "      <th>ID Pedido</th>\n",
       "      <th>Fecha compra</th>\n",
       "      <th>Fecha envío</th>\n",
       "      <th>Modo envío</th>\n",
       "      <th>ID Cliente</th>\n",
       "      <th>ID Producto</th>\n",
       "      <th>Precio unitario</th>\n",
       "      <th>Cantidad</th>\n",
       "      <th>Importe</th>\n",
       "      <th>Dif_env_comp</th>\n",
       "      <th>...</th>\n",
       "      <th>Segmento</th>\n",
       "      <th>País</th>\n",
       "      <th>Ciudad</th>\n",
       "      <th>Estado</th>\n",
       "      <th>Código Postal</th>\n",
       "      <th>Región</th>\n",
       "      <th>Categoría</th>\n",
       "      <th>Sub-categoría</th>\n",
       "      <th>Nombre Producto</th>\n",
       "      <th>Coste Producción</th>\n",
       "    </tr>\n",
       "  </thead>\n",
       "  <tbody>\n",
       "    <tr>\n",
       "      <td>0</td>\n",
       "      <td>CA-2016-152156</td>\n",
       "      <td>2020-11-08</td>\n",
       "      <td>2020-11-11 05:00:00</td>\n",
       "      <td>Second Class</td>\n",
       "      <td>CG-12520</td>\n",
       "      <td>FUR-BO-10001798</td>\n",
       "      <td>261.960</td>\n",
       "      <td>2</td>\n",
       "      <td>523.920</td>\n",
       "      <td>3 days 05:00:00</td>\n",
       "      <td>...</td>\n",
       "      <td>Consumer</td>\n",
       "      <td>United States</td>\n",
       "      <td>Henderson</td>\n",
       "      <td>Kentucky</td>\n",
       "      <td>42420.0</td>\n",
       "      <td>South</td>\n",
       "      <td>Furniture</td>\n",
       "      <td>Bookcases</td>\n",
       "      <td>Bush Somerset Collection Bookcase</td>\n",
       "      <td>230.098156</td>\n",
       "    </tr>\n",
       "    <tr>\n",
       "      <td>1</td>\n",
       "      <td>CA-2017-110198</td>\n",
       "      <td>2021-05-01</td>\n",
       "      <td>2021-05-02 00:00:00</td>\n",
       "      <td>First Class</td>\n",
       "      <td>AG-10900</td>\n",
       "      <td>FUR-BO-10001798</td>\n",
       "      <td>314.352</td>\n",
       "      <td>3</td>\n",
       "      <td>943.056</td>\n",
       "      <td>1 days 00:00:00</td>\n",
       "      <td>...</td>\n",
       "      <td>Consumer</td>\n",
       "      <td>United States</td>\n",
       "      <td>Tucson</td>\n",
       "      <td>Arizona</td>\n",
       "      <td>85705.0</td>\n",
       "      <td>West</td>\n",
       "      <td>Furniture</td>\n",
       "      <td>Bookcases</td>\n",
       "      <td>Bush Somerset Collection Bookcase</td>\n",
       "      <td>230.098156</td>\n",
       "    </tr>\n",
       "    <tr>\n",
       "      <td>2</td>\n",
       "      <td>CA-2017-159793</td>\n",
       "      <td>2021-08-25</td>\n",
       "      <td>2021-08-29 00:00:00</td>\n",
       "      <td>Standard Class</td>\n",
       "      <td>SV-20365</td>\n",
       "      <td>FUR-BO-10001798</td>\n",
       "      <td>130.980</td>\n",
       "      <td>2</td>\n",
       "      <td>261.960</td>\n",
       "      <td>4 days 00:00:00</td>\n",
       "      <td>...</td>\n",
       "      <td>Consumer</td>\n",
       "      <td>United States</td>\n",
       "      <td>Dover</td>\n",
       "      <td>Delaware</td>\n",
       "      <td>19901.0</td>\n",
       "      <td>East</td>\n",
       "      <td>Furniture</td>\n",
       "      <td>Bookcases</td>\n",
       "      <td>Bush Somerset Collection Bookcase</td>\n",
       "      <td>230.098156</td>\n",
       "    </tr>\n",
       "    <tr>\n",
       "      <td>3</td>\n",
       "      <td>CA-2016-117681</td>\n",
       "      <td>2020-04-09</td>\n",
       "      <td>2020-04-14 00:00:00</td>\n",
       "      <td>Standard Class</td>\n",
       "      <td>HF-14995</td>\n",
       "      <td>FUR-BO-10001798</td>\n",
       "      <td>556.665</td>\n",
       "      <td>5</td>\n",
       "      <td>2783.325</td>\n",
       "      <td>5 days 00:00:00</td>\n",
       "      <td>...</td>\n",
       "      <td>Consumer</td>\n",
       "      <td>Germany</td>\n",
       "      <td>NaN</td>\n",
       "      <td>NaN</td>\n",
       "      <td>NaN</td>\n",
       "      <td>NaN</td>\n",
       "      <td>Furniture</td>\n",
       "      <td>Bookcases</td>\n",
       "      <td>Bush Somerset Collection Bookcase</td>\n",
       "      <td>230.098156</td>\n",
       "    </tr>\n",
       "    <tr>\n",
       "      <td>4</td>\n",
       "      <td>CA-2016-152156</td>\n",
       "      <td>2020-11-08</td>\n",
       "      <td>2020-11-11 00:00:00</td>\n",
       "      <td>Second Class</td>\n",
       "      <td>CG-12520</td>\n",
       "      <td>FUR-CH-10000454</td>\n",
       "      <td>731.940</td>\n",
       "      <td>3</td>\n",
       "      <td>2195.820</td>\n",
       "      <td>3 days 00:00:00</td>\n",
       "      <td>...</td>\n",
       "      <td>Consumer</td>\n",
       "      <td>United States</td>\n",
       "      <td>Henderson</td>\n",
       "      <td>Kentucky</td>\n",
       "      <td>42420.0</td>\n",
       "      <td>South</td>\n",
       "      <td>Furniture</td>\n",
       "      <td>Chairs</td>\n",
       "      <td>Hon Deluxe Fabric Upholstered Stacking Chairs,...</td>\n",
       "      <td>563.102730</td>\n",
       "    </tr>\n",
       "  </tbody>\n",
       "</table>\n",
       "<p>5 rows × 21 columns</p>\n",
       "</div>"
      ],
      "text/plain": [
       "        ID Pedido Fecha compra         Fecha envío      Modo envío ID Cliente  \\\n",
       "0  CA-2016-152156   2020-11-08 2020-11-11 05:00:00    Second Class   CG-12520   \n",
       "1  CA-2017-110198   2021-05-01 2021-05-02 00:00:00     First Class   AG-10900   \n",
       "2  CA-2017-159793   2021-08-25 2021-08-29 00:00:00  Standard Class   SV-20365   \n",
       "3  CA-2016-117681   2020-04-09 2020-04-14 00:00:00  Standard Class   HF-14995   \n",
       "4  CA-2016-152156   2020-11-08 2020-11-11 00:00:00    Second Class   CG-12520   \n",
       "\n",
       "       ID Producto  Precio unitario  Cantidad   Importe    Dif_env_comp  ...  \\\n",
       "0  FUR-BO-10001798          261.960         2   523.920 3 days 05:00:00  ...   \n",
       "1  FUR-BO-10001798          314.352         3   943.056 1 days 00:00:00  ...   \n",
       "2  FUR-BO-10001798          130.980         2   261.960 4 days 00:00:00  ...   \n",
       "3  FUR-BO-10001798          556.665         5  2783.325 5 days 00:00:00  ...   \n",
       "4  FUR-CH-10000454          731.940         3  2195.820 3 days 00:00:00  ...   \n",
       "\n",
       "   Segmento           País     Ciudad    Estado Código Postal  Región  \\\n",
       "0  Consumer  United States  Henderson  Kentucky       42420.0   South   \n",
       "1  Consumer  United States     Tucson   Arizona       85705.0    West   \n",
       "2  Consumer  United States      Dover  Delaware       19901.0    East   \n",
       "3  Consumer        Germany        NaN       NaN           NaN     NaN   \n",
       "4  Consumer  United States  Henderson  Kentucky       42420.0   South   \n",
       "\n",
       "   Categoría Sub-categoría                                    Nombre Producto  \\\n",
       "0  Furniture     Bookcases                  Bush Somerset Collection Bookcase   \n",
       "1  Furniture     Bookcases                  Bush Somerset Collection Bookcase   \n",
       "2  Furniture     Bookcases                  Bush Somerset Collection Bookcase   \n",
       "3  Furniture     Bookcases                  Bush Somerset Collection Bookcase   \n",
       "4  Furniture        Chairs  Hon Deluxe Fabric Upholstered Stacking Chairs,...   \n",
       "\n",
       "  Coste Producción  \n",
       "0       230.098156  \n",
       "1       230.098156  \n",
       "2       230.098156  \n",
       "3       230.098156  \n",
       "4       563.102730  \n",
       "\n",
       "[5 rows x 21 columns]"
      ]
     },
     "execution_count": 65,
     "metadata": {},
     "output_type": "execute_result"
    }
   ],
   "source": [
    "df_global.head()"
   ]
  },
  {
   "cell_type": "markdown",
   "metadata": {},
   "source": [
    "# PREGUNTA 11: ¿Qué país representa el mayor volumen de nuestras ventas? "
   ]
  },
  {
   "cell_type": "code",
   "execution_count": 66,
   "metadata": {},
   "outputs": [
    {
     "data": {
      "text/plain": [
       "País\n",
       "United States    5.356022e+06\n",
       "Germany          3.445021e+06\n",
       "Spain            1.976860e+06\n",
       "Romania          5.207535e+05\n",
       "Name: Importe, dtype: float64"
      ]
     },
     "execution_count": 66,
     "metadata": {},
     "output_type": "execute_result"
    }
   ],
   "source": [
    "df_global.groupby(\"País\")[\"Importe\"].agg(\"sum\").nlargest(5)"
   ]
  },
  {
   "cell_type": "markdown",
   "metadata": {},
   "source": [
    "# PREGUNTA 12: ¿En qué año se han obtenido un mayor número de ventas?"
   ]
  },
  {
   "cell_type": "code",
   "execution_count": 67,
   "metadata": {},
   "outputs": [
    {
     "data": {
      "text/plain": [
       "Fecha compra\n",
       "2018    2.409251e+06\n",
       "2019    2.348074e+06\n",
       "2020    3.011996e+06\n",
       "2021    3.529335e+06\n",
       "Name: Importe, dtype: float64"
      ]
     },
     "execution_count": 67,
     "metadata": {},
     "output_type": "execute_result"
    }
   ],
   "source": [
    "df_global.groupby(df_global[\"Fecha compra\"].map(lambda x: x.year))[\"Importe\"].agg(\"sum\")"
   ]
  },
  {
   "cell_type": "markdown",
   "metadata": {},
   "source": [
    "# PREGUNTA 13: ¿Cuál es la categoría de productos que supone un mayor beneficio?"
   ]
  },
  {
   "cell_type": "code",
   "execution_count": 68,
   "metadata": {},
   "outputs": [],
   "source": [
    "df_global[\"Beneficio\"]=(df_global[\"Precio unitario\"]-df_global[\"Coste Producción\"])*df_global[\"Cantidad\"]"
   ]
  },
  {
   "cell_type": "code",
   "execution_count": 69,
   "metadata": {},
   "outputs": [
    {
     "data": {
      "text/plain": [
       "Categoría\n",
       "Furniture          1.595747e+06\n",
       "Technology         1.432976e+06\n",
       "Office Supplies    1.290393e+06\n",
       "Name: Beneficio, dtype: float64"
      ]
     },
     "execution_count": 69,
     "metadata": {},
     "output_type": "execute_result"
    }
   ],
   "source": [
    "df_global.groupby(\"Categoría\")[\"Beneficio\"].agg(\"sum\").nlargest(5)"
   ]
  },
  {
   "cell_type": "markdown",
   "metadata": {},
   "source": [
    "# PREGUNTA 14/15: ¿Existe correlacion entre el “Beneficio” total obtenido en un estado y su renta per cápita? / ¿Existe correlacion entre el Importe total de nuestros pedidos y la cantidad de producto que solicita el cliente? "
   ]
  },
  {
   "cell_type": "code",
   "execution_count": 70,
   "metadata": {},
   "outputs": [],
   "source": [
    "df_rpc.rename(columns={\"Country\":\"País\"},inplace=True)"
   ]
  },
  {
   "cell_type": "code",
   "execution_count": 71,
   "metadata": {},
   "outputs": [],
   "source": [
    "df_global_rpc = df_global.merge(df_rpc,on=\"País\",how=\"left\")"
   ]
  },
  {
   "cell_type": "code",
   "execution_count": 72,
   "metadata": {},
   "outputs": [
    {
     "data": {
      "text/html": [
       "<div>\n",
       "<style scoped>\n",
       "    .dataframe tbody tr th:only-of-type {\n",
       "        vertical-align: middle;\n",
       "    }\n",
       "\n",
       "    .dataframe tbody tr th {\n",
       "        vertical-align: top;\n",
       "    }\n",
       "\n",
       "    .dataframe thead th {\n",
       "        text-align: right;\n",
       "    }\n",
       "</style>\n",
       "<table border=\"1\" class=\"dataframe\">\n",
       "  <thead>\n",
       "    <tr style=\"text-align: right;\">\n",
       "      <th></th>\n",
       "      <th>ID Pedido</th>\n",
       "      <th>Fecha compra</th>\n",
       "      <th>Fecha envío</th>\n",
       "      <th>Modo envío</th>\n",
       "      <th>ID Cliente</th>\n",
       "      <th>ID Producto</th>\n",
       "      <th>Precio unitario</th>\n",
       "      <th>Cantidad</th>\n",
       "      <th>Importe</th>\n",
       "      <th>Dif_env_comp</th>\n",
       "      <th>...</th>\n",
       "      <th>Ciudad</th>\n",
       "      <th>Estado</th>\n",
       "      <th>Código Postal</th>\n",
       "      <th>Región</th>\n",
       "      <th>Categoría</th>\n",
       "      <th>Sub-categoría</th>\n",
       "      <th>Nombre Producto</th>\n",
       "      <th>Coste Producción</th>\n",
       "      <th>Beneficio</th>\n",
       "      <th>Averagemonthlywage</th>\n",
       "    </tr>\n",
       "  </thead>\n",
       "  <tbody>\n",
       "    <tr>\n",
       "      <td>0</td>\n",
       "      <td>CA-2016-152156</td>\n",
       "      <td>2020-11-08</td>\n",
       "      <td>2020-11-11 05:00:00</td>\n",
       "      <td>Second Class</td>\n",
       "      <td>CG-12520</td>\n",
       "      <td>FUR-BO-10001798</td>\n",
       "      <td>261.960</td>\n",
       "      <td>2</td>\n",
       "      <td>523.920</td>\n",
       "      <td>3 days 05:00:00</td>\n",
       "      <td>...</td>\n",
       "      <td>Henderson</td>\n",
       "      <td>Kentucky</td>\n",
       "      <td>42420.0</td>\n",
       "      <td>South</td>\n",
       "      <td>Furniture</td>\n",
       "      <td>Bookcases</td>\n",
       "      <td>Bush Somerset Collection Bookcase</td>\n",
       "      <td>230.098156</td>\n",
       "      <td>63.723687</td>\n",
       "      <td>4893</td>\n",
       "    </tr>\n",
       "    <tr>\n",
       "      <td>1</td>\n",
       "      <td>CA-2017-110198</td>\n",
       "      <td>2021-05-01</td>\n",
       "      <td>2021-05-02 00:00:00</td>\n",
       "      <td>First Class</td>\n",
       "      <td>AG-10900</td>\n",
       "      <td>FUR-BO-10001798</td>\n",
       "      <td>314.352</td>\n",
       "      <td>3</td>\n",
       "      <td>943.056</td>\n",
       "      <td>1 days 00:00:00</td>\n",
       "      <td>...</td>\n",
       "      <td>Tucson</td>\n",
       "      <td>Arizona</td>\n",
       "      <td>85705.0</td>\n",
       "      <td>West</td>\n",
       "      <td>Furniture</td>\n",
       "      <td>Bookcases</td>\n",
       "      <td>Bush Somerset Collection Bookcase</td>\n",
       "      <td>230.098156</td>\n",
       "      <td>252.761531</td>\n",
       "      <td>4893</td>\n",
       "    </tr>\n",
       "    <tr>\n",
       "      <td>2</td>\n",
       "      <td>CA-2017-159793</td>\n",
       "      <td>2021-08-25</td>\n",
       "      <td>2021-08-29 00:00:00</td>\n",
       "      <td>Standard Class</td>\n",
       "      <td>SV-20365</td>\n",
       "      <td>FUR-BO-10001798</td>\n",
       "      <td>130.980</td>\n",
       "      <td>2</td>\n",
       "      <td>261.960</td>\n",
       "      <td>4 days 00:00:00</td>\n",
       "      <td>...</td>\n",
       "      <td>Dover</td>\n",
       "      <td>Delaware</td>\n",
       "      <td>19901.0</td>\n",
       "      <td>East</td>\n",
       "      <td>Furniture</td>\n",
       "      <td>Bookcases</td>\n",
       "      <td>Bush Somerset Collection Bookcase</td>\n",
       "      <td>230.098156</td>\n",
       "      <td>-198.236313</td>\n",
       "      <td>4893</td>\n",
       "    </tr>\n",
       "    <tr>\n",
       "      <td>3</td>\n",
       "      <td>CA-2016-117681</td>\n",
       "      <td>2020-04-09</td>\n",
       "      <td>2020-04-14 00:00:00</td>\n",
       "      <td>Standard Class</td>\n",
       "      <td>HF-14995</td>\n",
       "      <td>FUR-BO-10001798</td>\n",
       "      <td>556.665</td>\n",
       "      <td>5</td>\n",
       "      <td>2783.325</td>\n",
       "      <td>5 days 00:00:00</td>\n",
       "      <td>...</td>\n",
       "      <td>NaN</td>\n",
       "      <td>NaN</td>\n",
       "      <td>NaN</td>\n",
       "      <td>NaN</td>\n",
       "      <td>Furniture</td>\n",
       "      <td>Bookcases</td>\n",
       "      <td>Bush Somerset Collection Bookcase</td>\n",
       "      <td>230.098156</td>\n",
       "      <td>1632.834218</td>\n",
       "      <td>3478</td>\n",
       "    </tr>\n",
       "    <tr>\n",
       "      <td>4</td>\n",
       "      <td>CA-2016-152156</td>\n",
       "      <td>2020-11-08</td>\n",
       "      <td>2020-11-11 00:00:00</td>\n",
       "      <td>Second Class</td>\n",
       "      <td>CG-12520</td>\n",
       "      <td>FUR-CH-10000454</td>\n",
       "      <td>731.940</td>\n",
       "      <td>3</td>\n",
       "      <td>2195.820</td>\n",
       "      <td>3 days 00:00:00</td>\n",
       "      <td>...</td>\n",
       "      <td>Henderson</td>\n",
       "      <td>Kentucky</td>\n",
       "      <td>42420.0</td>\n",
       "      <td>South</td>\n",
       "      <td>Furniture</td>\n",
       "      <td>Chairs</td>\n",
       "      <td>Hon Deluxe Fabric Upholstered Stacking Chairs,...</td>\n",
       "      <td>563.102730</td>\n",
       "      <td>506.511811</td>\n",
       "      <td>4893</td>\n",
       "    </tr>\n",
       "  </tbody>\n",
       "</table>\n",
       "<p>5 rows × 23 columns</p>\n",
       "</div>"
      ],
      "text/plain": [
       "        ID Pedido Fecha compra         Fecha envío      Modo envío ID Cliente  \\\n",
       "0  CA-2016-152156   2020-11-08 2020-11-11 05:00:00    Second Class   CG-12520   \n",
       "1  CA-2017-110198   2021-05-01 2021-05-02 00:00:00     First Class   AG-10900   \n",
       "2  CA-2017-159793   2021-08-25 2021-08-29 00:00:00  Standard Class   SV-20365   \n",
       "3  CA-2016-117681   2020-04-09 2020-04-14 00:00:00  Standard Class   HF-14995   \n",
       "4  CA-2016-152156   2020-11-08 2020-11-11 00:00:00    Second Class   CG-12520   \n",
       "\n",
       "       ID Producto  Precio unitario  Cantidad   Importe    Dif_env_comp  ...  \\\n",
       "0  FUR-BO-10001798          261.960         2   523.920 3 days 05:00:00  ...   \n",
       "1  FUR-BO-10001798          314.352         3   943.056 1 days 00:00:00  ...   \n",
       "2  FUR-BO-10001798          130.980         2   261.960 4 days 00:00:00  ...   \n",
       "3  FUR-BO-10001798          556.665         5  2783.325 5 days 00:00:00  ...   \n",
       "4  FUR-CH-10000454          731.940         3  2195.820 3 days 00:00:00  ...   \n",
       "\n",
       "      Ciudad    Estado Código Postal Región  Categoría  Sub-categoría  \\\n",
       "0  Henderson  Kentucky       42420.0  South  Furniture      Bookcases   \n",
       "1     Tucson   Arizona       85705.0   West  Furniture      Bookcases   \n",
       "2      Dover  Delaware       19901.0   East  Furniture      Bookcases   \n",
       "3        NaN       NaN           NaN    NaN  Furniture      Bookcases   \n",
       "4  Henderson  Kentucky       42420.0  South  Furniture         Chairs   \n",
       "\n",
       "                                     Nombre Producto Coste Producción  \\\n",
       "0                  Bush Somerset Collection Bookcase       230.098156   \n",
       "1                  Bush Somerset Collection Bookcase       230.098156   \n",
       "2                  Bush Somerset Collection Bookcase       230.098156   \n",
       "3                  Bush Somerset Collection Bookcase       230.098156   \n",
       "4  Hon Deluxe Fabric Upholstered Stacking Chairs,...       563.102730   \n",
       "\n",
       "     Beneficio Averagemonthlywage  \n",
       "0    63.723687               4893  \n",
       "1   252.761531               4893  \n",
       "2  -198.236313               4893  \n",
       "3  1632.834218               3478  \n",
       "4   506.511811               4893  \n",
       "\n",
       "[5 rows x 23 columns]"
      ]
     },
     "execution_count": 72,
     "metadata": {},
     "output_type": "execute_result"
    }
   ],
   "source": [
    "df_global_rpc.head()"
   ]
  },
  {
   "cell_type": "code",
   "execution_count": 73,
   "metadata": {},
   "outputs": [
    {
     "data": {
      "text/html": [
       "<div>\n",
       "<style scoped>\n",
       "    .dataframe tbody tr th:only-of-type {\n",
       "        vertical-align: middle;\n",
       "    }\n",
       "\n",
       "    .dataframe tbody tr th {\n",
       "        vertical-align: top;\n",
       "    }\n",
       "\n",
       "    .dataframe thead th {\n",
       "        text-align: right;\n",
       "    }\n",
       "</style>\n",
       "<table border=\"1\" class=\"dataframe\">\n",
       "  <thead>\n",
       "    <tr style=\"text-align: right;\">\n",
       "      <th></th>\n",
       "      <th>Precio unitario</th>\n",
       "      <th>Cantidad</th>\n",
       "      <th>Importe</th>\n",
       "      <th>Código Postal</th>\n",
       "      <th>Coste Producción</th>\n",
       "      <th>Beneficio</th>\n",
       "      <th>Averagemonthlywage</th>\n",
       "    </tr>\n",
       "  </thead>\n",
       "  <tbody>\n",
       "    <tr>\n",
       "      <td>Precio unitario</td>\n",
       "      <td>1.000000</td>\n",
       "      <td>0.202379</td>\n",
       "      <td>0.916354</td>\n",
       "      <td>0.005848</td>\n",
       "      <td>0.779740</td>\n",
       "      <td>0.660669</td>\n",
       "      <td>-0.002775</td>\n",
       "    </tr>\n",
       "    <tr>\n",
       "      <td>Cantidad</td>\n",
       "      <td>0.202379</td>\n",
       "      <td>1.000000</td>\n",
       "      <td>0.325476</td>\n",
       "      <td>-0.012311</td>\n",
       "      <td>0.034735</td>\n",
       "      <td>0.316595</td>\n",
       "      <td>0.020420</td>\n",
       "    </tr>\n",
       "    <tr>\n",
       "      <td>Importe</td>\n",
       "      <td>0.916354</td>\n",
       "      <td>0.325476</td>\n",
       "      <td>1.000000</td>\n",
       "      <td>0.005845</td>\n",
       "      <td>0.612528</td>\n",
       "      <td>0.836742</td>\n",
       "      <td>-0.001384</td>\n",
       "    </tr>\n",
       "    <tr>\n",
       "      <td>Código Postal</td>\n",
       "      <td>0.005848</td>\n",
       "      <td>-0.012311</td>\n",
       "      <td>0.005845</td>\n",
       "      <td>1.000000</td>\n",
       "      <td>0.017860</td>\n",
       "      <td>-0.001921</td>\n",
       "      <td>NaN</td>\n",
       "    </tr>\n",
       "    <tr>\n",
       "      <td>Coste Producción</td>\n",
       "      <td>0.779740</td>\n",
       "      <td>0.034735</td>\n",
       "      <td>0.612528</td>\n",
       "      <td>0.017860</td>\n",
       "      <td>1.000000</td>\n",
       "      <td>0.143228</td>\n",
       "      <td>-0.007849</td>\n",
       "    </tr>\n",
       "    <tr>\n",
       "      <td>Beneficio</td>\n",
       "      <td>0.660669</td>\n",
       "      <td>0.316595</td>\n",
       "      <td>0.836742</td>\n",
       "      <td>-0.001921</td>\n",
       "      <td>0.143228</td>\n",
       "      <td>1.000000</td>\n",
       "      <td>0.001526</td>\n",
       "    </tr>\n",
       "    <tr>\n",
       "      <td>Averagemonthlywage</td>\n",
       "      <td>-0.002775</td>\n",
       "      <td>0.020420</td>\n",
       "      <td>-0.001384</td>\n",
       "      <td>NaN</td>\n",
       "      <td>-0.007849</td>\n",
       "      <td>0.001526</td>\n",
       "      <td>1.000000</td>\n",
       "    </tr>\n",
       "  </tbody>\n",
       "</table>\n",
       "</div>"
      ],
      "text/plain": [
       "                    Precio unitario  Cantidad   Importe  Código Postal  \\\n",
       "Precio unitario            1.000000  0.202379  0.916354       0.005848   \n",
       "Cantidad                   0.202379  1.000000  0.325476      -0.012311   \n",
       "Importe                    0.916354  0.325476  1.000000       0.005845   \n",
       "Código Postal              0.005848 -0.012311  0.005845       1.000000   \n",
       "Coste Producción           0.779740  0.034735  0.612528       0.017860   \n",
       "Beneficio                  0.660669  0.316595  0.836742      -0.001921   \n",
       "Averagemonthlywage        -0.002775  0.020420 -0.001384            NaN   \n",
       "\n",
       "                    Coste Producción  Beneficio  Averagemonthlywage  \n",
       "Precio unitario             0.779740   0.660669           -0.002775  \n",
       "Cantidad                    0.034735   0.316595            0.020420  \n",
       "Importe                     0.612528   0.836742           -0.001384  \n",
       "Código Postal               0.017860  -0.001921                 NaN  \n",
       "Coste Producción            1.000000   0.143228           -0.007849  \n",
       "Beneficio                   0.143228   1.000000            0.001526  \n",
       "Averagemonthlywage         -0.007849   0.001526            1.000000  "
      ]
     },
     "execution_count": 73,
     "metadata": {},
     "output_type": "execute_result"
    }
   ],
   "source": [
    "df_global_rpc.corr()"
   ]
  },
  {
   "cell_type": "markdown",
   "metadata": {},
   "source": [
    "# PREGUNTA 16: Intentando analizar a la población de los diferentes países, existe alguna correlación entre el PIB de un país, su población y la renta per cápita?"
   ]
  },
  {
   "cell_type": "code",
   "execution_count": 74,
   "metadata": {},
   "outputs": [
    {
     "data": {
      "text/html": [
       "<div>\n",
       "<style scoped>\n",
       "    .dataframe tbody tr th:only-of-type {\n",
       "        vertical-align: middle;\n",
       "    }\n",
       "\n",
       "    .dataframe tbody tr th {\n",
       "        vertical-align: top;\n",
       "    }\n",
       "\n",
       "    .dataframe thead th {\n",
       "        text-align: right;\n",
       "    }\n",
       "</style>\n",
       "<table border=\"1\" class=\"dataframe\">\n",
       "  <thead>\n",
       "    <tr style=\"text-align: right;\">\n",
       "      <th></th>\n",
       "      <th>#</th>\n",
       "      <th>País</th>\n",
       "      <th>PIB</th>\n",
       "      <th>GDP (abbrev.)</th>\n",
       "      <th>GDP growth</th>\n",
       "      <th>Población</th>\n",
       "      <th>GDP per capita</th>\n",
       "      <th>Share of World GDP</th>\n",
       "    </tr>\n",
       "  </thead>\n",
       "  <tbody>\n",
       "    <tr>\n",
       "      <td>0</td>\n",
       "      <td>1</td>\n",
       "      <td>United States</td>\n",
       "      <td>19485394000000</td>\n",
       "      <td>$19.485 trillion</td>\n",
       "      <td>2.27%</td>\n",
       "      <td>325084756</td>\n",
       "      <td>$59,939</td>\n",
       "      <td>24.08%</td>\n",
       "    </tr>\n",
       "    <tr>\n",
       "      <td>1</td>\n",
       "      <td>2</td>\n",
       "      <td>China</td>\n",
       "      <td>12237700479375</td>\n",
       "      <td>$12.238 trillion</td>\n",
       "      <td>6.90%</td>\n",
       "      <td>1421021791</td>\n",
       "      <td>$8,612</td>\n",
       "      <td>15.12%</td>\n",
       "    </tr>\n",
       "    <tr>\n",
       "      <td>2</td>\n",
       "      <td>3</td>\n",
       "      <td>Japan</td>\n",
       "      <td>4872415104315</td>\n",
       "      <td>$4.872 trillion</td>\n",
       "      <td>1.71%</td>\n",
       "      <td>127502725</td>\n",
       "      <td>$38,214</td>\n",
       "      <td>6.02%</td>\n",
       "    </tr>\n",
       "    <tr>\n",
       "      <td>3</td>\n",
       "      <td>4</td>\n",
       "      <td>Germany</td>\n",
       "      <td>3693204332230</td>\n",
       "      <td>$3.693 trillion</td>\n",
       "      <td>2.22%</td>\n",
       "      <td>82658409</td>\n",
       "      <td>$44,680</td>\n",
       "      <td>4.56%</td>\n",
       "    </tr>\n",
       "    <tr>\n",
       "      <td>4</td>\n",
       "      <td>5</td>\n",
       "      <td>India</td>\n",
       "      <td>2650725335364</td>\n",
       "      <td>$2.651 trillion</td>\n",
       "      <td>6.68%</td>\n",
       "      <td>1338676785</td>\n",
       "      <td>$1,980</td>\n",
       "      <td>3.28%</td>\n",
       "    </tr>\n",
       "  </tbody>\n",
       "</table>\n",
       "</div>"
      ],
      "text/plain": [
       "   #           País             PIB     GDP (abbrev.) GDP growth   Población  \\\n",
       "0  1  United States  19485394000000  $19.485 trillion      2.27%   325084756   \n",
       "1  2          China  12237700479375  $12.238 trillion      6.90%  1421021791   \n",
       "2  3          Japan   4872415104315   $4.872 trillion      1.71%   127502725   \n",
       "3  4        Germany   3693204332230   $3.693 trillion      2.22%    82658409   \n",
       "4  5          India   2650725335364   $2.651 trillion      6.68%  1338676785   \n",
       "\n",
       "  GDP per capita Share of World GDP  \n",
       "0        $59,939             24.08%  \n",
       "1         $8,612             15.12%  \n",
       "2        $38,214              6.02%  \n",
       "3        $44,680              4.56%  \n",
       "4         $1,980              3.28%  "
      ]
     },
     "execution_count": 74,
     "metadata": {},
     "output_type": "execute_result"
    }
   ],
   "source": [
    "df_pob_pib.rename(columns={\"Country\":\"País\"},inplace=True)\n",
    "df_pob_pib.head()"
   ]
  },
  {
   "cell_type": "code",
   "execution_count": 75,
   "metadata": {},
   "outputs": [],
   "source": [
    "df_paises = df_pob_pib.merge(df_rpc,on=\"País\",how=\"inner\")"
   ]
  },
  {
   "cell_type": "code",
   "execution_count": 76,
   "metadata": {},
   "outputs": [
    {
     "data": {
      "text/html": [
       "<div>\n",
       "<style scoped>\n",
       "    .dataframe tbody tr th:only-of-type {\n",
       "        vertical-align: middle;\n",
       "    }\n",
       "\n",
       "    .dataframe tbody tr th {\n",
       "        vertical-align: top;\n",
       "    }\n",
       "\n",
       "    .dataframe thead th {\n",
       "        text-align: right;\n",
       "    }\n",
       "</style>\n",
       "<table border=\"1\" class=\"dataframe\">\n",
       "  <thead>\n",
       "    <tr style=\"text-align: right;\">\n",
       "      <th></th>\n",
       "      <th>#</th>\n",
       "      <th>País</th>\n",
       "      <th>PIB</th>\n",
       "      <th>GDP (abbrev.)</th>\n",
       "      <th>GDP growth</th>\n",
       "      <th>Población</th>\n",
       "      <th>GDP per capita</th>\n",
       "      <th>Share of World GDP</th>\n",
       "      <th>Averagemonthlywage</th>\n",
       "    </tr>\n",
       "  </thead>\n",
       "  <tbody>\n",
       "    <tr>\n",
       "      <td>0</td>\n",
       "      <td>1</td>\n",
       "      <td>United States</td>\n",
       "      <td>19485394000000</td>\n",
       "      <td>$19.485 trillion</td>\n",
       "      <td>2.27%</td>\n",
       "      <td>325084756</td>\n",
       "      <td>$59,939</td>\n",
       "      <td>24.08%</td>\n",
       "      <td>4893</td>\n",
       "    </tr>\n",
       "    <tr>\n",
       "      <td>1</td>\n",
       "      <td>4</td>\n",
       "      <td>Germany</td>\n",
       "      <td>3693204332230</td>\n",
       "      <td>$3.693 trillion</td>\n",
       "      <td>2.22%</td>\n",
       "      <td>82658409</td>\n",
       "      <td>$44,680</td>\n",
       "      <td>4.56%</td>\n",
       "      <td>3478</td>\n",
       "    </tr>\n",
       "    <tr>\n",
       "      <td>2</td>\n",
       "      <td>6</td>\n",
       "      <td>United Kingdom</td>\n",
       "      <td>2637866340434</td>\n",
       "      <td>$2.638 trillion</td>\n",
       "      <td>1.79%</td>\n",
       "      <td>66727461</td>\n",
       "      <td>$39,532</td>\n",
       "      <td>3.26%</td>\n",
       "      <td>3461</td>\n",
       "    </tr>\n",
       "    <tr>\n",
       "      <td>3</td>\n",
       "      <td>7</td>\n",
       "      <td>France</td>\n",
       "      <td>2582501307216</td>\n",
       "      <td>$2.583 trillion</td>\n",
       "      <td>1.82%</td>\n",
       "      <td>64842509</td>\n",
       "      <td>$39,827</td>\n",
       "      <td>3.19%</td>\n",
       "      <td>3374</td>\n",
       "    </tr>\n",
       "    <tr>\n",
       "      <td>4</td>\n",
       "      <td>9</td>\n",
       "      <td>Italy</td>\n",
       "      <td>1943835376342</td>\n",
       "      <td>$1.944 trillion</td>\n",
       "      <td>1.50%</td>\n",
       "      <td>60673701</td>\n",
       "      <td>$32,038</td>\n",
       "      <td>2.40%</td>\n",
       "      <td>2671</td>\n",
       "    </tr>\n",
       "  </tbody>\n",
       "</table>\n",
       "</div>"
      ],
      "text/plain": [
       "   #            País             PIB     GDP (abbrev.) GDP growth  Población  \\\n",
       "0  1   United States  19485394000000  $19.485 trillion      2.27%  325084756   \n",
       "1  4         Germany   3693204332230   $3.693 trillion      2.22%   82658409   \n",
       "2  6  United Kingdom   2637866340434   $2.638 trillion      1.79%   66727461   \n",
       "3  7          France   2582501307216   $2.583 trillion      1.82%   64842509   \n",
       "4  9           Italy   1943835376342   $1.944 trillion      1.50%   60673701   \n",
       "\n",
       "  GDP per capita Share of World GDP  Averagemonthlywage  \n",
       "0        $59,939             24.08%                4893  \n",
       "1        $44,680              4.56%                3478  \n",
       "2        $39,532              3.26%                3461  \n",
       "3        $39,827              3.19%                3374  \n",
       "4        $32,038              2.40%                2671  "
      ]
     },
     "execution_count": 76,
     "metadata": {},
     "output_type": "execute_result"
    }
   ],
   "source": [
    "df_paises.head()"
   ]
  },
  {
   "cell_type": "code",
   "execution_count": 77,
   "metadata": {},
   "outputs": [
    {
     "data": {
      "text/html": [
       "<div>\n",
       "<style scoped>\n",
       "    .dataframe tbody tr th:only-of-type {\n",
       "        vertical-align: middle;\n",
       "    }\n",
       "\n",
       "    .dataframe tbody tr th {\n",
       "        vertical-align: top;\n",
       "    }\n",
       "\n",
       "    .dataframe thead th {\n",
       "        text-align: right;\n",
       "    }\n",
       "</style>\n",
       "<table border=\"1\" class=\"dataframe\">\n",
       "  <thead>\n",
       "    <tr style=\"text-align: right;\">\n",
       "      <th></th>\n",
       "      <th>#</th>\n",
       "      <th>PIB</th>\n",
       "      <th>Población</th>\n",
       "      <th>Averagemonthlywage</th>\n",
       "    </tr>\n",
       "  </thead>\n",
       "  <tbody>\n",
       "    <tr>\n",
       "      <td>#</td>\n",
       "      <td>1.000000</td>\n",
       "      <td>-0.365782</td>\n",
       "      <td>-0.420753</td>\n",
       "      <td>-0.659831</td>\n",
       "    </tr>\n",
       "    <tr>\n",
       "      <td>PIB</td>\n",
       "      <td>-0.365782</td>\n",
       "      <td>1.000000</td>\n",
       "      <td>0.987157</td>\n",
       "      <td>0.284374</td>\n",
       "    </tr>\n",
       "    <tr>\n",
       "      <td>Población</td>\n",
       "      <td>-0.420753</td>\n",
       "      <td>0.987157</td>\n",
       "      <td>1.000000</td>\n",
       "      <td>0.245703</td>\n",
       "    </tr>\n",
       "    <tr>\n",
       "      <td>Averagemonthlywage</td>\n",
       "      <td>-0.659831</td>\n",
       "      <td>0.284374</td>\n",
       "      <td>0.245703</td>\n",
       "      <td>1.000000</td>\n",
       "    </tr>\n",
       "  </tbody>\n",
       "</table>\n",
       "</div>"
      ],
      "text/plain": [
       "                           #       PIB  Población  Averagemonthlywage\n",
       "#                   1.000000 -0.365782  -0.420753           -0.659831\n",
       "PIB                -0.365782  1.000000   0.987157            0.284374\n",
       "Población          -0.420753  0.987157   1.000000            0.245703\n",
       "Averagemonthlywage -0.659831  0.284374   0.245703            1.000000"
      ]
     },
     "execution_count": 77,
     "metadata": {},
     "output_type": "execute_result"
    }
   ],
   "source": [
    "df_paises.corr()"
   ]
  },
  {
   "cell_type": "markdown",
   "metadata": {},
   "source": [
    "# PREGUNTA 17: ¿En qué países elegiría construir estas nuevas plantas de producción?"
   ]
  },
  {
   "cell_type": "code",
   "execution_count": 78,
   "metadata": {},
   "outputs": [],
   "source": [
    "df_global[\"Dif_env_comp_d\"]=pd.to_numeric(df_global[\"Dif_env_comp\"])/(1000000000*3600*24)"
   ]
  },
  {
   "cell_type": "code",
   "execution_count": 79,
   "metadata": {},
   "outputs": [
    {
     "data": {
      "text/html": [
       "<div>\n",
       "<style scoped>\n",
       "    .dataframe tbody tr th:only-of-type {\n",
       "        vertical-align: middle;\n",
       "    }\n",
       "\n",
       "    .dataframe tbody tr th {\n",
       "        vertical-align: top;\n",
       "    }\n",
       "\n",
       "    .dataframe thead th {\n",
       "        text-align: right;\n",
       "    }\n",
       "</style>\n",
       "<table border=\"1\" class=\"dataframe\">\n",
       "  <thead>\n",
       "    <tr style=\"text-align: right;\">\n",
       "      <th></th>\n",
       "      <th>ID Pedido</th>\n",
       "      <th>Fecha compra</th>\n",
       "      <th>Fecha envío</th>\n",
       "      <th>Modo envío</th>\n",
       "      <th>ID Cliente</th>\n",
       "      <th>ID Producto</th>\n",
       "      <th>Precio unitario</th>\n",
       "      <th>Cantidad</th>\n",
       "      <th>Importe</th>\n",
       "      <th>Dif_env_comp</th>\n",
       "      <th>...</th>\n",
       "      <th>Ciudad</th>\n",
       "      <th>Estado</th>\n",
       "      <th>Código Postal</th>\n",
       "      <th>Región</th>\n",
       "      <th>Categoría</th>\n",
       "      <th>Sub-categoría</th>\n",
       "      <th>Nombre Producto</th>\n",
       "      <th>Coste Producción</th>\n",
       "      <th>Beneficio</th>\n",
       "      <th>Dif_env_comp_d</th>\n",
       "    </tr>\n",
       "  </thead>\n",
       "  <tbody>\n",
       "    <tr>\n",
       "      <td>0</td>\n",
       "      <td>CA-2016-152156</td>\n",
       "      <td>2020-11-08</td>\n",
       "      <td>2020-11-11 05:00:00</td>\n",
       "      <td>Second Class</td>\n",
       "      <td>CG-12520</td>\n",
       "      <td>FUR-BO-10001798</td>\n",
       "      <td>261.960</td>\n",
       "      <td>2</td>\n",
       "      <td>523.920</td>\n",
       "      <td>3 days 05:00:00</td>\n",
       "      <td>...</td>\n",
       "      <td>Henderson</td>\n",
       "      <td>Kentucky</td>\n",
       "      <td>42420.0</td>\n",
       "      <td>South</td>\n",
       "      <td>Furniture</td>\n",
       "      <td>Bookcases</td>\n",
       "      <td>Bush Somerset Collection Bookcase</td>\n",
       "      <td>230.098156</td>\n",
       "      <td>63.723687</td>\n",
       "      <td>3.208333</td>\n",
       "    </tr>\n",
       "    <tr>\n",
       "      <td>1</td>\n",
       "      <td>CA-2017-110198</td>\n",
       "      <td>2021-05-01</td>\n",
       "      <td>2021-05-02 00:00:00</td>\n",
       "      <td>First Class</td>\n",
       "      <td>AG-10900</td>\n",
       "      <td>FUR-BO-10001798</td>\n",
       "      <td>314.352</td>\n",
       "      <td>3</td>\n",
       "      <td>943.056</td>\n",
       "      <td>1 days 00:00:00</td>\n",
       "      <td>...</td>\n",
       "      <td>Tucson</td>\n",
       "      <td>Arizona</td>\n",
       "      <td>85705.0</td>\n",
       "      <td>West</td>\n",
       "      <td>Furniture</td>\n",
       "      <td>Bookcases</td>\n",
       "      <td>Bush Somerset Collection Bookcase</td>\n",
       "      <td>230.098156</td>\n",
       "      <td>252.761531</td>\n",
       "      <td>1.000000</td>\n",
       "    </tr>\n",
       "    <tr>\n",
       "      <td>2</td>\n",
       "      <td>CA-2017-159793</td>\n",
       "      <td>2021-08-25</td>\n",
       "      <td>2021-08-29 00:00:00</td>\n",
       "      <td>Standard Class</td>\n",
       "      <td>SV-20365</td>\n",
       "      <td>FUR-BO-10001798</td>\n",
       "      <td>130.980</td>\n",
       "      <td>2</td>\n",
       "      <td>261.960</td>\n",
       "      <td>4 days 00:00:00</td>\n",
       "      <td>...</td>\n",
       "      <td>Dover</td>\n",
       "      <td>Delaware</td>\n",
       "      <td>19901.0</td>\n",
       "      <td>East</td>\n",
       "      <td>Furniture</td>\n",
       "      <td>Bookcases</td>\n",
       "      <td>Bush Somerset Collection Bookcase</td>\n",
       "      <td>230.098156</td>\n",
       "      <td>-198.236313</td>\n",
       "      <td>4.000000</td>\n",
       "    </tr>\n",
       "    <tr>\n",
       "      <td>3</td>\n",
       "      <td>CA-2016-117681</td>\n",
       "      <td>2020-04-09</td>\n",
       "      <td>2020-04-14 00:00:00</td>\n",
       "      <td>Standard Class</td>\n",
       "      <td>HF-14995</td>\n",
       "      <td>FUR-BO-10001798</td>\n",
       "      <td>556.665</td>\n",
       "      <td>5</td>\n",
       "      <td>2783.325</td>\n",
       "      <td>5 days 00:00:00</td>\n",
       "      <td>...</td>\n",
       "      <td>NaN</td>\n",
       "      <td>NaN</td>\n",
       "      <td>NaN</td>\n",
       "      <td>NaN</td>\n",
       "      <td>Furniture</td>\n",
       "      <td>Bookcases</td>\n",
       "      <td>Bush Somerset Collection Bookcase</td>\n",
       "      <td>230.098156</td>\n",
       "      <td>1632.834218</td>\n",
       "      <td>5.000000</td>\n",
       "    </tr>\n",
       "    <tr>\n",
       "      <td>4</td>\n",
       "      <td>CA-2016-152156</td>\n",
       "      <td>2020-11-08</td>\n",
       "      <td>2020-11-11 00:00:00</td>\n",
       "      <td>Second Class</td>\n",
       "      <td>CG-12520</td>\n",
       "      <td>FUR-CH-10000454</td>\n",
       "      <td>731.940</td>\n",
       "      <td>3</td>\n",
       "      <td>2195.820</td>\n",
       "      <td>3 days 00:00:00</td>\n",
       "      <td>...</td>\n",
       "      <td>Henderson</td>\n",
       "      <td>Kentucky</td>\n",
       "      <td>42420.0</td>\n",
       "      <td>South</td>\n",
       "      <td>Furniture</td>\n",
       "      <td>Chairs</td>\n",
       "      <td>Hon Deluxe Fabric Upholstered Stacking Chairs,...</td>\n",
       "      <td>563.102730</td>\n",
       "      <td>506.511811</td>\n",
       "      <td>3.000000</td>\n",
       "    </tr>\n",
       "  </tbody>\n",
       "</table>\n",
       "<p>5 rows × 23 columns</p>\n",
       "</div>"
      ],
      "text/plain": [
       "        ID Pedido Fecha compra         Fecha envío      Modo envío ID Cliente  \\\n",
       "0  CA-2016-152156   2020-11-08 2020-11-11 05:00:00    Second Class   CG-12520   \n",
       "1  CA-2017-110198   2021-05-01 2021-05-02 00:00:00     First Class   AG-10900   \n",
       "2  CA-2017-159793   2021-08-25 2021-08-29 00:00:00  Standard Class   SV-20365   \n",
       "3  CA-2016-117681   2020-04-09 2020-04-14 00:00:00  Standard Class   HF-14995   \n",
       "4  CA-2016-152156   2020-11-08 2020-11-11 00:00:00    Second Class   CG-12520   \n",
       "\n",
       "       ID Producto  Precio unitario  Cantidad   Importe    Dif_env_comp  ...  \\\n",
       "0  FUR-BO-10001798          261.960         2   523.920 3 days 05:00:00  ...   \n",
       "1  FUR-BO-10001798          314.352         3   943.056 1 days 00:00:00  ...   \n",
       "2  FUR-BO-10001798          130.980         2   261.960 4 days 00:00:00  ...   \n",
       "3  FUR-BO-10001798          556.665         5  2783.325 5 days 00:00:00  ...   \n",
       "4  FUR-CH-10000454          731.940         3  2195.820 3 days 00:00:00  ...   \n",
       "\n",
       "      Ciudad    Estado Código Postal Región  Categoría  Sub-categoría  \\\n",
       "0  Henderson  Kentucky       42420.0  South  Furniture      Bookcases   \n",
       "1     Tucson   Arizona       85705.0   West  Furniture      Bookcases   \n",
       "2      Dover  Delaware       19901.0   East  Furniture      Bookcases   \n",
       "3        NaN       NaN           NaN    NaN  Furniture      Bookcases   \n",
       "4  Henderson  Kentucky       42420.0  South  Furniture         Chairs   \n",
       "\n",
       "                                     Nombre Producto Coste Producción  \\\n",
       "0                  Bush Somerset Collection Bookcase       230.098156   \n",
       "1                  Bush Somerset Collection Bookcase       230.098156   \n",
       "2                  Bush Somerset Collection Bookcase       230.098156   \n",
       "3                  Bush Somerset Collection Bookcase       230.098156   \n",
       "4  Hon Deluxe Fabric Upholstered Stacking Chairs,...       563.102730   \n",
       "\n",
       "     Beneficio Dif_env_comp_d  \n",
       "0    63.723687       3.208333  \n",
       "1   252.761531       1.000000  \n",
       "2  -198.236313       4.000000  \n",
       "3  1632.834218       5.000000  \n",
       "4   506.511811       3.000000  \n",
       "\n",
       "[5 rows x 23 columns]"
      ]
     },
     "execution_count": 79,
     "metadata": {},
     "output_type": "execute_result"
    }
   ],
   "source": [
    "df_global.head()"
   ]
  },
  {
   "cell_type": "code",
   "execution_count": 80,
   "metadata": {
    "scrolled": false
   },
   "outputs": [
    {
     "data": {
      "text/plain": [
       "País\n",
       "Germany          4.061989\n",
       "Romania          4.092827\n",
       "Spain            3.846154\n",
       "United States    3.921228\n",
       "Name: Dif_env_comp_d, dtype: float64"
      ]
     },
     "execution_count": 80,
     "metadata": {},
     "output_type": "execute_result"
    }
   ],
   "source": [
    "df_global.groupby(\"País\")[\"Dif_env_comp_d\"].agg(\"mean\")"
   ]
  },
  {
   "cell_type": "markdown",
   "metadata": {},
   "source": [
    "# PREGUNTA 18: Formato Excel con el beneficio de cada categoría en cada uno de los países. Exporta el resultado a un fichero con nombre “Reporte Beneficios” y pestaña “Beneficios_cat_pais”."
   ]
  },
  {
   "cell_type": "code",
   "execution_count": 81,
   "metadata": {},
   "outputs": [
    {
     "data": {
      "text/plain": [
       "Categoría        País         \n",
       "Furniture        Germany          441296.278063\n",
       "                 Romania           86856.519394\n",
       "                 Spain            281087.457956\n",
       "                 United States    786506.706828\n",
       "Office Supplies  Germany          502295.029687\n",
       "                 Romania           39880.819509\n",
       "                 Spain            158683.421832\n",
       "                 United States    589533.493818\n",
       "Technology       Germany          462599.528711\n",
       "                 Romania           48038.620395\n",
       "                 Spain            273800.359628\n",
       "                 United States    648537.528101\n",
       "Name: Beneficio, dtype: float64"
      ]
     },
     "execution_count": 81,
     "metadata": {},
     "output_type": "execute_result"
    }
   ],
   "source": [
    "df_global.groupby([\"Categoría\",\"País\"])[\"Beneficio\"].agg(\"sum\")"
   ]
  },
  {
   "cell_type": "code",
   "execution_count": 82,
   "metadata": {},
   "outputs": [],
   "source": [
    "df_resumen=df_global.groupby([\"Categoría\",\"País\"])[\"Beneficio\"].agg(\"sum\").to_frame()"
   ]
  },
  {
   "cell_type": "code",
   "execution_count": 83,
   "metadata": {
    "scrolled": true
   },
   "outputs": [
    {
     "data": {
      "text/html": [
       "<div>\n",
       "<style scoped>\n",
       "    .dataframe tbody tr th:only-of-type {\n",
       "        vertical-align: middle;\n",
       "    }\n",
       "\n",
       "    .dataframe tbody tr th {\n",
       "        vertical-align: top;\n",
       "    }\n",
       "\n",
       "    .dataframe thead th {\n",
       "        text-align: right;\n",
       "    }\n",
       "</style>\n",
       "<table border=\"1\" class=\"dataframe\">\n",
       "  <thead>\n",
       "    <tr style=\"text-align: right;\">\n",
       "      <th></th>\n",
       "      <th></th>\n",
       "      <th>Beneficio</th>\n",
       "    </tr>\n",
       "    <tr>\n",
       "      <th>Categoría</th>\n",
       "      <th>País</th>\n",
       "      <th></th>\n",
       "    </tr>\n",
       "  </thead>\n",
       "  <tbody>\n",
       "    <tr>\n",
       "      <td rowspan=\"4\" valign=\"top\">Furniture</td>\n",
       "      <td>Germany</td>\n",
       "      <td>441296.278063</td>\n",
       "    </tr>\n",
       "    <tr>\n",
       "      <td>Romania</td>\n",
       "      <td>86856.519394</td>\n",
       "    </tr>\n",
       "    <tr>\n",
       "      <td>Spain</td>\n",
       "      <td>281087.457956</td>\n",
       "    </tr>\n",
       "    <tr>\n",
       "      <td>United States</td>\n",
       "      <td>786506.706828</td>\n",
       "    </tr>\n",
       "    <tr>\n",
       "      <td rowspan=\"4\" valign=\"top\">Office Supplies</td>\n",
       "      <td>Germany</td>\n",
       "      <td>502295.029687</td>\n",
       "    </tr>\n",
       "    <tr>\n",
       "      <td>Romania</td>\n",
       "      <td>39880.819509</td>\n",
       "    </tr>\n",
       "    <tr>\n",
       "      <td>Spain</td>\n",
       "      <td>158683.421832</td>\n",
       "    </tr>\n",
       "    <tr>\n",
       "      <td>United States</td>\n",
       "      <td>589533.493818</td>\n",
       "    </tr>\n",
       "    <tr>\n",
       "      <td rowspan=\"4\" valign=\"top\">Technology</td>\n",
       "      <td>Germany</td>\n",
       "      <td>462599.528711</td>\n",
       "    </tr>\n",
       "    <tr>\n",
       "      <td>Romania</td>\n",
       "      <td>48038.620395</td>\n",
       "    </tr>\n",
       "    <tr>\n",
       "      <td>Spain</td>\n",
       "      <td>273800.359628</td>\n",
       "    </tr>\n",
       "    <tr>\n",
       "      <td>United States</td>\n",
       "      <td>648537.528101</td>\n",
       "    </tr>\n",
       "  </tbody>\n",
       "</table>\n",
       "</div>"
      ],
      "text/plain": [
       "                                   Beneficio\n",
       "Categoría       País                        \n",
       "Furniture       Germany        441296.278063\n",
       "                Romania         86856.519394\n",
       "                Spain          281087.457956\n",
       "                United States  786506.706828\n",
       "Office Supplies Germany        502295.029687\n",
       "                Romania         39880.819509\n",
       "                Spain          158683.421832\n",
       "                United States  589533.493818\n",
       "Technology      Germany        462599.528711\n",
       "                Romania         48038.620395\n",
       "                Spain          273800.359628\n",
       "                United States  648537.528101"
      ]
     },
     "execution_count": 83,
     "metadata": {},
     "output_type": "execute_result"
    }
   ],
   "source": [
    "df_resumen"
   ]
  },
  {
   "cell_type": "code",
   "execution_count": 565,
   "metadata": {},
   "outputs": [],
   "source": [
    "#Exportar a Excel\n",
    "df_resumen.to_excel(r'C:\\Users\\ivan_pinar\\Dropbox\\Creación de MOCs\\MOC Master Python Análisis de Datos\\Datasets\\CASO PRÁCTICO 1\\Reporte Beneficios.xlsx',sheet_name = \"Beneficios_cat_pais\")"
   ]
  },
  {
   "cell_type": "code",
   "execution_count": 84,
   "metadata": {},
   "outputs": [],
   "source": [
    "df_global_rpc.to_excel(r'C:\\Users\\ivan_pinar\\Dropbox\\Creación de MOCs\\MOC Master Python Análisis de Datos\\Datasets\\CASO PRÁCTICO 1\\df_global_rpc.xlsx',sheet_name = \"global\")"
   ]
  }
 ],
 "metadata": {
  "kernelspec": {
   "display_name": "Python 3",
   "language": "python",
   "name": "python3"
  },
  "language_info": {
   "codemirror_mode": {
    "name": "ipython",
    "version": 3
   },
   "file_extension": ".py",
   "mimetype": "text/x-python",
   "name": "python",
   "nbconvert_exporter": "python",
   "pygments_lexer": "ipython3",
   "version": "3.8.3"
  }
 },
 "nbformat": 4,
 "nbformat_minor": 2
}
